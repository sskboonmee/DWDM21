{
  "nbformat": 4,
  "nbformat_minor": 0,
  "metadata": {
    "colab": {
      "name": "Distance Numpy.ipynb",
      "provenance": [],
      "authorship_tag": "ABX9TyPWl9+TTKuSVtftnYc/OJ3G",
      "include_colab_link": true
    },
    "kernelspec": {
      "name": "python3",
      "display_name": "Python 3"
    },
    "language_info": {
      "name": "python"
    }
  },
  "cells": [
    {
      "cell_type": "markdown",
      "metadata": {
        "id": "view-in-github",
        "colab_type": "text"
      },
      "source": [
        "<a href=\"https://colab.research.google.com/github/sskboonmee/DWDM21/blob/main/Distance_Numpy.ipynb\" target=\"_parent\"><img src=\"https://colab.research.google.com/assets/colab-badge.svg\" alt=\"Open In Colab\"/></a>"
      ]
    },
    {
      "cell_type": "code",
      "metadata": {
        "id": "1Li8XIP1c6L9"
      },
      "source": [
        "import numpy as np #package สำหรับทำงานกับข้อมูลที่เป็นตัวเลข (อยู่ในรูปแบบ Matrix)"
      ],
      "execution_count": 3,
      "outputs": []
    },
    {
      "cell_type": "markdown",
      "metadata": {
        "id": "leUw9gtgdjpD"
      },
      "source": [
        "#Numpy Array"
      ]
    },
    {
      "cell_type": "markdown",
      "metadata": {
        "id": "hOwZwTEqfKma"
      },
      "source": [
        "## สร้าง Numpy array(matrix)"
      ]
    },
    {
      "cell_type": "code",
      "metadata": {
        "id": "a7EYv294djTc"
      },
      "source": [
        "np_a = np.array([[1,2,3],[4,5,6]]) #สร้าง numpy array ที่มี 2 แถว 3 หลัก"
      ],
      "execution_count": 4,
      "outputs": []
    },
    {
      "cell_type": "code",
      "metadata": {
        "colab": {
          "base_uri": "https://localhost:8080/"
        },
        "id": "j9tUiq-DeLEy",
        "outputId": "50cbdd47-9392-4504-c08a-45fc9d4f4386"
      },
      "source": [
        "np_a"
      ],
      "execution_count": 7,
      "outputs": [
        {
          "output_type": "execute_result",
          "data": {
            "text/plain": [
              "array([[1, 2, 3],\n",
              "       [4, 5, 6]])"
            ]
          },
          "metadata": {},
          "execution_count": 7
        }
      ]
    },
    {
      "cell_type": "code",
      "metadata": {
        "colab": {
          "base_uri": "https://localhost:8080/"
        },
        "id": "IjpOt9K6eMqB",
        "outputId": "7c500cb7-cebc-4e46-f0e6-809bddeb3aaa"
      },
      "source": [
        "np_a.shape"
      ],
      "execution_count": 8,
      "outputs": [
        {
          "output_type": "execute_result",
          "data": {
            "text/plain": [
              "(2, 3)"
            ]
          },
          "metadata": {},
          "execution_count": 8
        }
      ]
    },
    {
      "cell_type": "code",
      "metadata": {
        "colab": {
          "base_uri": "https://localhost:8080/"
        },
        "id": "qcjOHGwpecGC",
        "outputId": "20644c64-a5d1-4a95-9c9a-00da58516c91"
      },
      "source": [
        "np_b = np.array([[1,4],[2,5],[3,6]])\n",
        "np_b"
      ],
      "execution_count": 9,
      "outputs": [
        {
          "output_type": "execute_result",
          "data": {
            "text/plain": [
              "array([[1, 4],\n",
              "       [2, 5],\n",
              "       [3, 6]])"
            ]
          },
          "metadata": {},
          "execution_count": 9
        }
      ]
    },
    {
      "cell_type": "markdown",
      "metadata": {
        "id": "pPKJpbItep2L"
      },
      "source": [
        "#Matrix transpose"
      ]
    },
    {
      "cell_type": "code",
      "metadata": {
        "colab": {
          "base_uri": "https://localhost:8080/"
        },
        "id": "7g4N7txzepsy",
        "outputId": "6d9a2af0-4363-4bf6-9f70-d0a46fb179d2"
      },
      "source": [
        "np_a.T"
      ],
      "execution_count": 10,
      "outputs": [
        {
          "output_type": "execute_result",
          "data": {
            "text/plain": [
              "array([[1, 4],\n",
              "       [2, 5],\n",
              "       [3, 6]])"
            ]
          },
          "metadata": {},
          "execution_count": 10
        }
      ]
    },
    {
      "cell_type": "markdown",
      "metadata": {
        "id": "5ZUYmqJTe8P7"
      },
      "source": [
        "สร้าง Matrix เริ่มต้น (zeros,ones)"
      ]
    },
    {
      "cell_type": "code",
      "metadata": {
        "colab": {
          "base_uri": "https://localhost:8080/"
        },
        "id": "QeXZG-U_fYxK",
        "outputId": "dbd803a3-f43d-4044-9089-8f04df716609"
      },
      "source": [
        "np_z = np.zeros((4,5))\n",
        "np_z"
      ],
      "execution_count": 11,
      "outputs": [
        {
          "output_type": "execute_result",
          "data": {
            "text/plain": [
              "array([[0., 0., 0., 0., 0.],\n",
              "       [0., 0., 0., 0., 0.],\n",
              "       [0., 0., 0., 0., 0.],\n",
              "       [0., 0., 0., 0., 0.]])"
            ]
          },
          "metadata": {},
          "execution_count": 11
        }
      ]
    },
    {
      "cell_type": "code",
      "metadata": {
        "colab": {
          "base_uri": "https://localhost:8080/"
        },
        "id": "So83Uh9VfpA8",
        "outputId": "e70ba19b-4e9b-4e1d-d2b6-ff3ebb52a28c"
      },
      "source": [
        "np_0 = np.ones((5,6))\n",
        "np_0"
      ],
      "execution_count": 12,
      "outputs": [
        {
          "output_type": "execute_result",
          "data": {
            "text/plain": [
              "array([[1., 1., 1., 1., 1., 1.],\n",
              "       [1., 1., 1., 1., 1., 1.],\n",
              "       [1., 1., 1., 1., 1., 1.],\n",
              "       [1., 1., 1., 1., 1., 1.],\n",
              "       [1., 1., 1., 1., 1., 1.]])"
            ]
          },
          "metadata": {},
          "execution_count": 12
        }
      ]
    },
    {
      "cell_type": "code",
      "metadata": {
        "colab": {
          "base_uri": "https://localhost:8080/"
        },
        "id": "fOo8MyVtf6UL",
        "outputId": "258a5596-3090-4045-f86c-435b4782dcaf"
      },
      "source": [
        "np_200 = 200 * np.ones((4,7))\n",
        "np_200"
      ],
      "execution_count": 13,
      "outputs": [
        {
          "output_type": "execute_result",
          "data": {
            "text/plain": [
              "array([[200., 200., 200., 200., 200., 200., 200.],\n",
              "       [200., 200., 200., 200., 200., 200., 200.],\n",
              "       [200., 200., 200., 200., 200., 200., 200.],\n",
              "       [200., 200., 200., 200., 200., 200., 200.]])"
            ]
          },
          "metadata": {},
          "execution_count": 13
        }
      ]
    },
    {
      "cell_type": "markdown",
      "metadata": {
        "id": "W32ILflXgZHm"
      },
      "source": [
        "## สร้าง matrix random"
      ]
    },
    {
      "cell_type": "code",
      "metadata": {
        "colab": {
          "base_uri": "https://localhost:8080/"
        },
        "id": "_8ScrzFDgelb",
        "outputId": "085c61ba-7771-4610-e5c3-8f72b861e41e"
      },
      "source": [
        "np.random.randn(5,5)  #random มาจากเลข normal distribution ที่มี mu = 0 std=1"
      ],
      "execution_count": 14,
      "outputs": [
        {
          "output_type": "execute_result",
          "data": {
            "text/plain": [
              "array([[ 1.10368513, -1.15915896, -0.14314561, -0.42660295,  0.61354918],\n",
              "       [ 1.07499649, -0.4485255 , -0.9096139 ,  0.57283118,  0.97729653],\n",
              "       [-0.59546381,  0.82016552, -0.80191335,  0.36228989,  1.2063345 ],\n",
              "       [-0.60805736,  0.01025485,  0.59263367, -1.56923632, -0.99206155],\n",
              "       [ 0.05336682,  0.61299466,  1.25396841, -1.4998114 , -0.60249649]])"
            ]
          },
          "metadata": {},
          "execution_count": 14
        }
      ]
    },
    {
      "cell_type": "code",
      "metadata": {
        "colab": {
          "base_uri": "https://localhost:8080/"
        },
        "id": "PiPZtbKahCAS",
        "outputId": "a0d5448d-d039-4d70-cc22-fc319579a152"
      },
      "source": [
        "2+(5*np.random.randn(3,3))"
      ],
      "execution_count": 15,
      "outputs": [
        {
          "output_type": "execute_result",
          "data": {
            "text/plain": [
              "array([[ 0.22368552,  7.31336872, 11.24207587],\n",
              "       [ 0.14400344, 10.48574299,  1.52717227],\n",
              "       [ 4.02228464, -0.33965492, -7.07876907]])"
            ]
          },
          "metadata": {},
          "execution_count": 15
        }
      ]
    },
    {
      "cell_type": "code",
      "metadata": {
        "colab": {
          "base_uri": "https://localhost:8080/"
        },
        "id": "kPeu9HidhRja",
        "outputId": "b9d7c9de-7411-47a7-cb3c-03e7f334c8cf"
      },
      "source": [
        "np.random.randint(5,11,(4,5))  #random เลขจำนวนเต็ม ระหว่าง (5,11)  ขนาด (4x5)"
      ],
      "execution_count": 16,
      "outputs": [
        {
          "output_type": "execute_result",
          "data": {
            "text/plain": [
              "array([[ 7,  7,  9,  6,  7],\n",
              "       [ 8,  8,  6,  8,  8],\n",
              "       [10,  8, 10, 10,  6],\n",
              "       [ 5,  7,  9,  5,  9]])"
            ]
          },
          "metadata": {},
          "execution_count": 16
        }
      ]
    }
  ]
}