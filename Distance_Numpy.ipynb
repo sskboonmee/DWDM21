{
  "nbformat": 4,
  "nbformat_minor": 0,
  "metadata": {
    "colab": {
      "name": "Distance Numpy.ipynb",
      "provenance": [],
      "authorship_tag": "ABX9TyNk3sZkgiI3ccOrGkNYB+Tf",
      "include_colab_link": true
    },
    "kernelspec": {
      "name": "python3",
      "display_name": "Python 3"
    },
    "language_info": {
      "name": "python"
    }
  },
  "cells": [
    {
      "cell_type": "markdown",
      "metadata": {
        "id": "view-in-github",
        "colab_type": "text"
      },
      "source": [
        "<a href=\"https://colab.research.google.com/github/sskboonmee/DWDM21/blob/main/Distance_Numpy.ipynb\" target=\"_parent\"><img src=\"https://colab.research.google.com/assets/colab-badge.svg\" alt=\"Open In Colab\"/></a>"
      ]
    },
    {
      "cell_type": "code",
      "metadata": {
        "id": "1Li8XIP1c6L9"
      },
      "source": [
        "import numpy as np #package สำหรับทำงานกับข้อมูลที่เป็นตัวเลข (อยู่ในรูปแบบ Matrix)"
      ],
      "execution_count": null,
      "outputs": []
    },
    {
      "cell_type": "markdown",
      "metadata": {
        "id": "leUw9gtgdjpD"
      },
      "source": [
        "#Numpy Array"
      ]
    },
    {
      "cell_type": "markdown",
      "metadata": {
        "id": "hOwZwTEqfKma"
      },
      "source": [
        "## สร้าง Numpy array(matrix) จาก list"
      ]
    },
    {
      "cell_type": "code",
      "metadata": {
        "id": "a7EYv294djTc"
      },
      "source": [
        "np_a = np.array([[1,2,3],[4,5,6]]) #สร้าง numpy array ที่มี 2 แถว 3 หลัก"
      ],
      "execution_count": null,
      "outputs": []
    },
    {
      "cell_type": "code",
      "metadata": {
        "colab": {
          "base_uri": "https://localhost:8080/"
        },
        "id": "j9tUiq-DeLEy",
        "outputId": "c4ecf955-ace2-41a0-93ac-04b25499aa7c"
      },
      "source": [
        "np_a"
      ],
      "execution_count": null,
      "outputs": [
        {
          "output_type": "execute_result",
          "data": {
            "text/plain": [
              "array([[1, 2, 3],\n",
              "       [4, 5, 6]])"
            ]
          },
          "metadata": {},
          "execution_count": 95
        }
      ]
    },
    {
      "cell_type": "code",
      "metadata": {
        "colab": {
          "base_uri": "https://localhost:8080/"
        },
        "id": "IjpOt9K6eMqB",
        "outputId": "3a15d248-db9a-4143-c306-8923f6cdb90c"
      },
      "source": [
        "np_a.shape"
      ],
      "execution_count": null,
      "outputs": [
        {
          "output_type": "execute_result",
          "data": {
            "text/plain": [
              "(2, 3)"
            ]
          },
          "metadata": {},
          "execution_count": 96
        }
      ]
    },
    {
      "cell_type": "code",
      "metadata": {
        "colab": {
          "base_uri": "https://localhost:8080/"
        },
        "id": "qcjOHGwpecGC",
        "outputId": "7eea40f2-e451-471c-bb47-4c03af0492fd"
      },
      "source": [
        "np_b = np.array([[1,4],[2,5],[3,6]])\n",
        "np_b"
      ],
      "execution_count": null,
      "outputs": [
        {
          "output_type": "execute_result",
          "data": {
            "text/plain": [
              "array([[1, 4],\n",
              "       [2, 5],\n",
              "       [3, 6]])"
            ]
          },
          "metadata": {},
          "execution_count": 97
        }
      ]
    },
    {
      "cell_type": "markdown",
      "metadata": {
        "id": "pPKJpbItep2L"
      },
      "source": [
        "#Matrix transpose"
      ]
    },
    {
      "cell_type": "code",
      "metadata": {
        "colab": {
          "base_uri": "https://localhost:8080/"
        },
        "id": "7g4N7txzepsy",
        "outputId": "7ca0d059-3450-4513-fc43-878079fad506"
      },
      "source": [
        "np_a.T"
      ],
      "execution_count": null,
      "outputs": [
        {
          "output_type": "execute_result",
          "data": {
            "text/plain": [
              "array([[1, 4],\n",
              "       [2, 5],\n",
              "       [3, 6]])"
            ]
          },
          "metadata": {},
          "execution_count": 98
        }
      ]
    },
    {
      "cell_type": "markdown",
      "metadata": {
        "id": "5ZUYmqJTe8P7"
      },
      "source": [
        "##สร้าง Matrix เริ่มต้น (zeros,ones)"
      ]
    },
    {
      "cell_type": "code",
      "metadata": {
        "colab": {
          "base_uri": "https://localhost:8080/"
        },
        "id": "QeXZG-U_fYxK",
        "outputId": "ffae6b26-92bd-48d8-ad93-7859a9e1a968"
      },
      "source": [
        "np_z = np.zeros((4,5))\n",
        "np_z"
      ],
      "execution_count": null,
      "outputs": [
        {
          "output_type": "execute_result",
          "data": {
            "text/plain": [
              "array([[0., 0., 0., 0., 0.],\n",
              "       [0., 0., 0., 0., 0.],\n",
              "       [0., 0., 0., 0., 0.],\n",
              "       [0., 0., 0., 0., 0.]])"
            ]
          },
          "metadata": {},
          "execution_count": 99
        }
      ]
    },
    {
      "cell_type": "code",
      "metadata": {
        "colab": {
          "base_uri": "https://localhost:8080/"
        },
        "id": "So83Uh9VfpA8",
        "outputId": "c606a2f9-e5b7-4eae-ecfa-682bc274d63a"
      },
      "source": [
        "np_0 = np.ones((5,6))\n",
        "np_0"
      ],
      "execution_count": null,
      "outputs": [
        {
          "output_type": "execute_result",
          "data": {
            "text/plain": [
              "array([[1., 1., 1., 1., 1., 1.],\n",
              "       [1., 1., 1., 1., 1., 1.],\n",
              "       [1., 1., 1., 1., 1., 1.],\n",
              "       [1., 1., 1., 1., 1., 1.],\n",
              "       [1., 1., 1., 1., 1., 1.]])"
            ]
          },
          "metadata": {},
          "execution_count": 100
        }
      ]
    },
    {
      "cell_type": "code",
      "metadata": {
        "colab": {
          "base_uri": "https://localhost:8080/"
        },
        "id": "fOo8MyVtf6UL",
        "outputId": "00655e93-b7ca-4f13-ca49-f964840d9e40"
      },
      "source": [
        "np_200 = 200 * np.ones((4,7))\n",
        "np_200"
      ],
      "execution_count": null,
      "outputs": [
        {
          "output_type": "execute_result",
          "data": {
            "text/plain": [
              "array([[200., 200., 200., 200., 200., 200., 200.],\n",
              "       [200., 200., 200., 200., 200., 200., 200.],\n",
              "       [200., 200., 200., 200., 200., 200., 200.],\n",
              "       [200., 200., 200., 200., 200., 200., 200.]])"
            ]
          },
          "metadata": {},
          "execution_count": 101
        }
      ]
    },
    {
      "cell_type": "markdown",
      "metadata": {
        "id": "W32ILflXgZHm"
      },
      "source": [
        "## สร้าง matrix random"
      ]
    },
    {
      "cell_type": "code",
      "metadata": {
        "colab": {
          "base_uri": "https://localhost:8080/"
        },
        "id": "_8ScrzFDgelb",
        "outputId": "80f31ea7-0e0e-49df-fe39-eb564a8ee4d5"
      },
      "source": [
        "np.random.randn(5,5)  #random มาจากเลข normal distribution ที่มี mu = 0 std=1"
      ],
      "execution_count": null,
      "outputs": [
        {
          "output_type": "execute_result",
          "data": {
            "text/plain": [
              "array([[-0.0663733 , -1.19348804,  0.00542289,  0.85678022,  0.7926373 ],\n",
              "       [-0.36548121,  0.77920444, -0.38731907,  1.30387936,  0.98906799],\n",
              "       [-0.19186566,  0.21096309, -0.7038592 ,  0.15475108, -0.68733456],\n",
              "       [-0.40514974,  1.14727525, -1.20494982,  0.26447409,  0.205525  ],\n",
              "       [-0.04627989,  2.85938509, -0.56625462,  0.35586155,  0.45164803]])"
            ]
          },
          "metadata": {},
          "execution_count": 102
        }
      ]
    },
    {
      "cell_type": "code",
      "metadata": {
        "colab": {
          "base_uri": "https://localhost:8080/"
        },
        "id": "PiPZtbKahCAS",
        "outputId": "08e07143-77ab-4533-a81e-ec8b025d0b45"
      },
      "source": [
        "2+(5*np.random.randn(3,3))  # random เลขมาจาก normal distribution ที่มี mu=2 std=5"
      ],
      "execution_count": null,
      "outputs": [
        {
          "output_type": "execute_result",
          "data": {
            "text/plain": [
              "array([[ 6.31833181,  8.58585193,  7.72058917],\n",
              "       [ 4.06714651, -1.31370665, 10.5532613 ],\n",
              "       [ 3.11001559, -7.87943863,  1.42054295]])"
            ]
          },
          "metadata": {},
          "execution_count": 103
        }
      ]
    },
    {
      "cell_type": "code",
      "metadata": {
        "colab": {
          "base_uri": "https://localhost:8080/"
        },
        "id": "kPeu9HidhRja",
        "outputId": "9c19e130-99af-4252-f7ba-85569adab382"
      },
      "source": [
        "np.random.randint(5,11,(4,5))  #random เลขจำนวนเต็ม ระหว่าง (5,11)  ขนาด (4x5) "
      ],
      "execution_count": null,
      "outputs": [
        {
          "output_type": "execute_result",
          "data": {
            "text/plain": [
              "array([[ 7,  7, 10,  8, 10],\n",
              "       [ 6,  9,  6,  6,  8],\n",
              "       [ 6, 10,  8,  7,  5],\n",
              "       [ 6,  5, 10,  9,  5]])"
            ]
          },
          "metadata": {},
          "execution_count": 104
        }
      ]
    },
    {
      "cell_type": "markdown",
      "metadata": {
        "id": "aE2PCRo5PdyZ"
      },
      "source": [
        "##Matrix Properties"
      ]
    },
    {
      "cell_type": "code",
      "metadata": {
        "colab": {
          "base_uri": "https://localhost:8080/"
        },
        "id": "sxl0M-3-O4li",
        "outputId": "00d77345-de65-4dd5-f943-f894e1572354"
      },
      "source": [
        "np_a"
      ],
      "execution_count": null,
      "outputs": [
        {
          "output_type": "execute_result",
          "data": {
            "text/plain": [
              "array([[1, 2, 3],\n",
              "       [4, 5, 6]])"
            ]
          },
          "metadata": {},
          "execution_count": 105
        }
      ]
    },
    {
      "cell_type": "code",
      "metadata": {
        "colab": {
          "base_uri": "https://localhost:8080/"
        },
        "id": "PE9oGQANPACc",
        "outputId": "e0b26679-f163-407a-873f-0472140e8b3e"
      },
      "source": [
        "np_a.T  #transpose"
      ],
      "execution_count": null,
      "outputs": [
        {
          "output_type": "execute_result",
          "data": {
            "text/plain": [
              "array([[1, 4],\n",
              "       [2, 5],\n",
              "       [3, 6]])"
            ]
          },
          "metadata": {},
          "execution_count": 106
        }
      ]
    },
    {
      "cell_type": "code",
      "metadata": {
        "colab": {
          "base_uri": "https://localhost:8080/"
        },
        "id": "M-rTxyNmPDcK",
        "outputId": "74b27bae-ac14-47a6-b0f4-91016ff624a0"
      },
      "source": [
        "1 + np_a #adding scalar to matrix"
      ],
      "execution_count": null,
      "outputs": [
        {
          "output_type": "execute_result",
          "data": {
            "text/plain": [
              "array([[2, 3, 4],\n",
              "       [5, 6, 7]])"
            ]
          },
          "metadata": {},
          "execution_count": 107
        }
      ]
    },
    {
      "cell_type": "code",
      "metadata": {
        "colab": {
          "base_uri": "https://localhost:8080/"
        },
        "id": "ocR6ArP3PIm6",
        "outputId": "d8d146bd-d213-45e3-f8cb-d4e9bcbb5833"
      },
      "source": [
        "2 * np_a #multipling scalar to matrix"
      ],
      "execution_count": null,
      "outputs": [
        {
          "output_type": "execute_result",
          "data": {
            "text/plain": [
              "array([[ 2,  4,  6],\n",
              "       [ 8, 10, 12]])"
            ]
          },
          "metadata": {},
          "execution_count": 108
        }
      ]
    },
    {
      "cell_type": "code",
      "metadata": {
        "colab": {
          "base_uri": "https://localhost:8080/"
        },
        "id": "D6wG_VofPTpZ",
        "outputId": "72076652-0f69-4a0e-eb7b-a4e07f3c1842"
      },
      "source": [
        "np_c = np.array([[6,5,4],[3,2,1]])\n",
        "np_c"
      ],
      "execution_count": null,
      "outputs": [
        {
          "output_type": "execute_result",
          "data": {
            "text/plain": [
              "array([[6, 5, 4],\n",
              "       [3, 2, 1]])"
            ]
          },
          "metadata": {},
          "execution_count": 109
        }
      ]
    },
    {
      "cell_type": "code",
      "metadata": {
        "colab": {
          "base_uri": "https://localhost:8080/"
        },
        "id": "lRmy5JQPP2kD",
        "outputId": "4b252934-dd29-4e24-8edf-968681b34f7c"
      },
      "source": [
        "np_a + np_c #adding matrix to matrix"
      ],
      "execution_count": null,
      "outputs": [
        {
          "output_type": "execute_result",
          "data": {
            "text/plain": [
              "array([[7, 7, 7],\n",
              "       [7, 7, 7]])"
            ]
          },
          "metadata": {},
          "execution_count": 110
        }
      ]
    },
    {
      "cell_type": "code",
      "metadata": {
        "colab": {
          "base_uri": "https://localhost:8080/"
        },
        "id": "h_lvudTGQErq",
        "outputId": "80215633-0416-451d-be55-8e58a183b384"
      },
      "source": [
        "np_a.shape"
      ],
      "execution_count": null,
      "outputs": [
        {
          "output_type": "execute_result",
          "data": {
            "text/plain": [
              "(2, 3)"
            ]
          },
          "metadata": {},
          "execution_count": 111
        }
      ]
    },
    {
      "cell_type": "code",
      "metadata": {
        "colab": {
          "base_uri": "https://localhost:8080/"
        },
        "id": "1vlRIgQmQH_Z",
        "outputId": "1dd77f11-e755-450a-b4af-e28d0ce8c042"
      },
      "source": [
        "np_c.shape"
      ],
      "execution_count": null,
      "outputs": [
        {
          "output_type": "execute_result",
          "data": {
            "text/plain": [
              "(2, 3)"
            ]
          },
          "metadata": {},
          "execution_count": 112
        }
      ]
    },
    {
      "cell_type": "markdown",
      "metadata": {
        "id": "qeb15P62RKKf"
      },
      "source": [
        "![image.png](data:image/png;base64,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)"
      ]
    },
    {
      "cell_type": "code",
      "metadata": {
        "colab": {
          "base_uri": "https://localhost:8080/",
          "height": 197
        },
        "id": "5eONCOIlQWeq",
        "outputId": "b625bf8c-439c-4e72-fa69-b7a6f09b9990"
      },
      "source": [
        "np.dot(np_a,np_c)  #multipling matrix to matrix (a,b) X (b,c) = (a,c)"
      ],
      "execution_count": null,
      "outputs": [
        {
          "output_type": "error",
          "ename": "ValueError",
          "evalue": "ignored",
          "traceback": [
            "\u001b[0;31m---------------------------------------------------------------------------\u001b[0m",
            "\u001b[0;31mValueError\u001b[0m                                Traceback (most recent call last)",
            "\u001b[0;32m<ipython-input-113-59b70f9e8c3f>\u001b[0m in \u001b[0;36m<module>\u001b[0;34m()\u001b[0m\n\u001b[0;32m----> 1\u001b[0;31m \u001b[0mnp\u001b[0m\u001b[0;34m.\u001b[0m\u001b[0mdot\u001b[0m\u001b[0;34m(\u001b[0m\u001b[0mnp_a\u001b[0m\u001b[0;34m,\u001b[0m\u001b[0mnp_c\u001b[0m\u001b[0;34m)\u001b[0m  \u001b[0;31m#multipling matrix to matrix (a,b) X (b,c) = (a,c)\u001b[0m\u001b[0;34m\u001b[0m\u001b[0;34m\u001b[0m\u001b[0m\n\u001b[0m",
            "\u001b[0;32m<__array_function__ internals>\u001b[0m in \u001b[0;36mdot\u001b[0;34m(*args, **kwargs)\u001b[0m\n",
            "\u001b[0;31mValueError\u001b[0m: shapes (2,3) and (2,3) not aligned: 3 (dim 1) != 2 (dim 0)"
          ]
        }
      ]
    },
    {
      "cell_type": "code",
      "metadata": {
        "id": "xwQw4gsZiAm8",
        "colab": {
          "base_uri": "https://localhost:8080/"
        },
        "outputId": "31cbb57a-3985-4d3a-a6ff-f311a4fa738a"
      },
      "source": [
        "np.dot(np_a,np_c.T)  #multipling matrix to matrix   (a,b) x (b,c) = (a,c)"
      ],
      "execution_count": null,
      "outputs": [
        {
          "output_type": "execute_result",
          "data": {
            "text/plain": [
              "array([[28, 10],\n",
              "       [73, 28]])"
            ]
          },
          "metadata": {},
          "execution_count": 114
        }
      ]
    },
    {
      "cell_type": "code",
      "metadata": {
        "id": "P4fjMhR9QmQJ",
        "colab": {
          "base_uri": "https://localhost:8080/"
        },
        "outputId": "cfccc562-5b09-4f90-9ec2-e056b3ec4518"
      },
      "source": [
        "np.dot(np_a,np_c.T)  #ขนดของผลลัพธ์ชแถวของตัวหน้าคูณหลักของตัวหลัง"
      ],
      "execution_count": null,
      "outputs": [
        {
          "output_type": "execute_result",
          "data": {
            "text/plain": [
              "array([[28, 10],\n",
              "       [73, 28]])"
            ]
          },
          "metadata": {},
          "execution_count": 115
        }
      ]
    },
    {
      "cell_type": "markdown",
      "metadata": {
        "id": "Jm-uRK9LRVCd"
      },
      "source": [
        "## Indexing & Slicing\n",
        "Indexing ชี้ค่าในเมทริกซ์\n",
        "slicing ตัดแบบเป็นตัวๆ"
      ]
    },
    {
      "cell_type": "code",
      "metadata": {
        "colab": {
          "base_uri": "https://localhost:8080/"
        },
        "id": "nJFSwV_5RZd5",
        "outputId": "6196d646-a70b-4dea-b8a4-aa2de64abca7"
      },
      "source": [
        "np_a"
      ],
      "execution_count": null,
      "outputs": [
        {
          "output_type": "execute_result",
          "data": {
            "text/plain": [
              "array([[1, 2, 3],\n",
              "       [4, 5, 6]])"
            ]
          },
          "metadata": {},
          "execution_count": 116
        }
      ]
    },
    {
      "cell_type": "code",
      "metadata": {
        "colab": {
          "base_uri": "https://localhost:8080/"
        },
        "id": "5ZfsJyIaRjga",
        "outputId": "92f19e1f-9a50-46e4-f245-9e67eb85ced3"
      },
      "source": [
        "np_a[1,1]"
      ],
      "execution_count": null,
      "outputs": [
        {
          "output_type": "execute_result",
          "data": {
            "text/plain": [
              "5"
            ]
          },
          "metadata": {},
          "execution_count": 117
        }
      ]
    },
    {
      "cell_type": "code",
      "metadata": {
        "colab": {
          "base_uri": "https://localhost:8080/"
        },
        "id": "sLTHc2HuSF0O",
        "outputId": "dfcedc6d-6386-473d-d8f3-314394fddb0e"
      },
      "source": [
        "np_a[:2,:2]"
      ],
      "execution_count": null,
      "outputs": [
        {
          "output_type": "execute_result",
          "data": {
            "text/plain": [
              "array([[1, 2],\n",
              "       [4, 5]])"
            ]
          },
          "metadata": {},
          "execution_count": 118
        }
      ]
    },
    {
      "cell_type": "code",
      "metadata": {
        "colab": {
          "base_uri": "https://localhost:8080/"
        },
        "id": "iCsjWdfXSVOz",
        "outputId": "5a0b15d9-3333-4912-fad5-919f6e20b2bb"
      },
      "source": [
        "np_a[0,:]"
      ],
      "execution_count": null,
      "outputs": [
        {
          "output_type": "execute_result",
          "data": {
            "text/plain": [
              "array([1, 2, 3])"
            ]
          },
          "metadata": {},
          "execution_count": 119
        }
      ]
    },
    {
      "cell_type": "markdown",
      "metadata": {
        "id": "kCs0PPiZSlpd"
      },
      "source": [
        "##Useful functions"
      ]
    },
    {
      "cell_type": "code",
      "metadata": {
        "colab": {
          "base_uri": "https://localhost:8080/"
        },
        "id": "wpJMTHN5S5bh",
        "outputId": "cb946160-da10-4ad1-8652-1a04591f0d18"
      },
      "source": [
        "np_a"
      ],
      "execution_count": null,
      "outputs": [
        {
          "output_type": "execute_result",
          "data": {
            "text/plain": [
              "array([[1, 2, 3],\n",
              "       [4, 5, 6]])"
            ]
          },
          "metadata": {},
          "execution_count": 120
        }
      ]
    },
    {
      "cell_type": "code",
      "metadata": {
        "colab": {
          "base_uri": "https://localhost:8080/"
        },
        "id": "ehClVlZvSztq",
        "outputId": "0bc351fd-ec74-49cb-8e66-0dcd90482125"
      },
      "source": [
        "np.sum(np_a)"
      ],
      "execution_count": null,
      "outputs": [
        {
          "output_type": "execute_result",
          "data": {
            "text/plain": [
              "21"
            ]
          },
          "metadata": {},
          "execution_count": 121
        }
      ]
    },
    {
      "cell_type": "code",
      "metadata": {
        "colab": {
          "base_uri": "https://localhost:8080/"
        },
        "id": "CFWHc_9FTAt3",
        "outputId": "9fd37bae-92c7-45a3-afd1-85fe1d9e3900"
      },
      "source": [
        "np.sum(np_a,axis=0)  #axis0 รวมเลขในแต่ละแถว 4+1 5+2 6+3"
      ],
      "execution_count": null,
      "outputs": [
        {
          "output_type": "execute_result",
          "data": {
            "text/plain": [
              "array([5, 7, 9])"
            ]
          },
          "metadata": {},
          "execution_count": 122
        }
      ]
    },
    {
      "cell_type": "code",
      "metadata": {
        "colab": {
          "base_uri": "https://localhost:8080/"
        },
        "id": "NqDcqT8cTW86",
        "outputId": "b8e0fffc-6343-4c24-d88e-04f5a3bd0d35"
      },
      "source": [
        "np.sum(np_a,axis=1)  #axis1 รวมเลขในแต่ละหลัก 1+2+3 4+5+6"
      ],
      "execution_count": null,
      "outputs": [
        {
          "output_type": "execute_result",
          "data": {
            "text/plain": [
              "array([ 6, 15])"
            ]
          },
          "metadata": {},
          "execution_count": 123
        }
      ]
    },
    {
      "cell_type": "code",
      "metadata": {
        "colab": {
          "base_uri": "https://localhost:8080/"
        },
        "id": "CldwoDizTe5_",
        "outputId": "509b5ac7-5001-47ec-c7e8-a1fdf98fe8e0"
      },
      "source": [
        "np.mean(np_a)"
      ],
      "execution_count": null,
      "outputs": [
        {
          "output_type": "execute_result",
          "data": {
            "text/plain": [
              "3.5"
            ]
          },
          "metadata": {},
          "execution_count": 124
        }
      ]
    },
    {
      "cell_type": "code",
      "metadata": {
        "colab": {
          "base_uri": "https://localhost:8080/"
        },
        "id": "h7C8sV_6TnHJ",
        "outputId": "05b66a23-f5d4-46cb-9b0b-3ac185b2d69e"
      },
      "source": [
        "np.mean(np_a,axis=0)  #หา Mean ของ column "
      ],
      "execution_count": null,
      "outputs": [
        {
          "output_type": "execute_result",
          "data": {
            "text/plain": [
              "array([2.5, 3.5, 4.5])"
            ]
          },
          "metadata": {},
          "execution_count": 125
        }
      ]
    },
    {
      "cell_type": "markdown",
      "metadata": {
        "id": "48--rxMPVA08"
      },
      "source": [
        "##วนลูปเอง\n",
        "summation"
      ]
    },
    {
      "cell_type": "code",
      "metadata": {
        "colab": {
          "base_uri": "https://localhost:8080/"
        },
        "id": "hgYBBrf-VFfy",
        "outputId": "76daa837-1700-4d7d-d773-9704d88ec417"
      },
      "source": [
        "sum_all = 0\n",
        "\n",
        "for row in range(np_a.shape[0]):\n",
        "    for col in range(np_a.shape[1]):\n",
        "        sum_all = np_a[row,col]\n",
        "        print(f'we are at row={row},col={col} np_a[{row},{col}]={np_a[row,col]} sum_all={sum_all}')"
      ],
      "execution_count": null,
      "outputs": [
        {
          "output_type": "stream",
          "name": "stdout",
          "text": [
            "we are at row=0,col=0 np_a[0,0]=1 sum_all=1\n",
            "we are at row=0,col=1 np_a[0,1]=2 sum_all=2\n",
            "we are at row=0,col=2 np_a[0,2]=3 sum_all=3\n",
            "we are at row=1,col=0 np_a[1,0]=4 sum_all=4\n",
            "we are at row=1,col=1 np_a[1,1]=5 sum_all=5\n",
            "we are at row=1,col=2 np_a[1,2]=6 sum_all=6\n"
          ]
        }
      ]
    },
    {
      "cell_type": "code",
      "metadata": {
        "id": "o2gNl4JkWtt6",
        "colab": {
          "base_uri": "https://localhost:8080/"
        },
        "outputId": "2d163201-fa5b-452d-a06b-16788b1d1297"
      },
      "source": [
        "np.sum(np_a,axis=0)"
      ],
      "execution_count": null,
      "outputs": [
        {
          "output_type": "execute_result",
          "data": {
            "text/plain": [
              "array([5, 7, 9])"
            ]
          },
          "metadata": {},
          "execution_count": 127
        }
      ]
    },
    {
      "cell_type": "code",
      "metadata": {
        "colab": {
          "base_uri": "https://localhost:8080/"
        },
        "id": "QSil0t-uW9HM",
        "outputId": "ae489c34-f8da-4760-bf11-66b15f709bdc"
      },
      "source": [
        "sum_all = np.zeros(np_a.shape[1])\n",
        "\n",
        "for row in range(np_a.shape[0]):\n",
        "    for col in range(np_a.shape[1]):\n",
        "        sum_all[col] = sum_all[col] + np_a[row,col]\n",
        "print(sum_all)"
      ],
      "execution_count": null,
      "outputs": [
        {
          "output_type": "stream",
          "name": "stdout",
          "text": [
            "[5. 7. 9.]\n"
          ]
        }
      ]
    },
    {
      "cell_type": "markdown",
      "metadata": {
        "id": "aFCxKDPHYpMm"
      },
      "source": [
        "Quiz กลุ่ม\n",
        "\n",
        "วนลูปหาค่า\n",
        "\n",
        "np.sum(np_a,axis=1) \n",
        "np.mean(np_a) \n",
        "np.mean(np_a,axis=0) \n",
        "np.mean(np_a,axis=1)\n",
        "np.max(np_a) \n",
        "np.max(np_a,axis=0) \n",
        "np.max(np_a,axis=1) \n",
        "np.min(np_a) \n",
        "np.min(np_a,axis=0) \n",
        "np.min(np_a,axis=1) \n",
        "\n",
        "ได้ข้อ np.min(np_a)\n",
        "\n"
      ]
    },
    {
      "cell_type": "markdown",
      "metadata": {
        "id": "Pdc7_qL6alop"
      },
      "source": [
        "ข้อ 8 np.min(np_a)"
      ]
    },
    {
      "cell_type": "code",
      "metadata": {
        "colab": {
          "base_uri": "https://localhost:8080/"
        },
        "id": "15aFcuPKccRL",
        "outputId": "76ea6f34-56a2-4aa2-b256-c4c113f84ad1"
      },
      "source": [
        "np.min(np_a)"
      ],
      "execution_count": null,
      "outputs": [
        {
          "output_type": "execute_result",
          "data": {
            "text/plain": [
              "1"
            ]
          },
          "metadata": {},
          "execution_count": 129
        }
      ]
    },
    {
      "cell_type": "code",
      "metadata": {
        "colab": {
          "base_uri": "https://localhost:8080/"
        },
        "id": "DC7OjGaOhxsy",
        "outputId": "f570ae1a-e94e-4386-c41b-1473c5c0aef0"
      },
      "source": [
        "min_a = 10000\n",
        "for row in range(np_a.shape[0]):\n",
        "    for col in range(np_a.shape[1]):\n",
        "        if np_a[row,col] <= min_a:\n",
        "            min_a=np_a[row,col]\n",
        "print(min_a)"
      ],
      "execution_count": null,
      "outputs": [
        {
          "output_type": "stream",
          "name": "stdout",
          "text": [
            "1\n"
          ]
        }
      ]
    },
    {
      "cell_type": "markdown",
      "metadata": {
        "id": "jhrEUuywiZrM"
      },
      "source": [
        "###np.max(np_a,axis=1)"
      ]
    },
    {
      "cell_type": "code",
      "metadata": {
        "id": "q8Ae5w-kia20",
        "colab": {
          "base_uri": "https://localhost:8080/"
        },
        "outputId": "5b0a3584-f3d8-4022-e6cf-4f7498f2a403"
      },
      "source": [
        "# np.max(np_a,axis=1)\n",
        "max_all = np.zeros(np_a.shape[0])\n",
        "for row in range(np_a.shape[0]):\n",
        "    max_all[row] = max(np_a[row,:])\n",
        "print(max_all)"
      ],
      "execution_count": null,
      "outputs": [
        {
          "output_type": "stream",
          "name": "stdout",
          "text": [
            "[3. 6.]\n"
          ]
        }
      ]
    },
    {
      "cell_type": "markdown",
      "metadata": {
        "id": "HnEe3v2bioZT"
      },
      "source": [
        "###np.mean(np_a,axis=0)"
      ]
    },
    {
      "cell_type": "code",
      "metadata": {
        "id": "3Fo4CSmWiumU",
        "colab": {
          "base_uri": "https://localhost:8080/"
        },
        "outputId": "044be967-2cb8-4e85-9428-1ae5cca6f42e"
      },
      "source": [
        "#np.mean(np_a,axis=0)\n",
        "mean_all = np.zeros(np_a.shape[1])\n",
        "for row in range(np_a.shape[0]):\n",
        "     for col in range(np_a.shape[1]):\n",
        "          mean_all[col] = mean_all[col] + np_a[row,col]/np_a.shape[0]\n",
        "print(mean_all)"
      ],
      "execution_count": null,
      "outputs": [
        {
          "output_type": "stream",
          "name": "stdout",
          "text": [
            "[2.5 3.5 4.5]\n"
          ]
        }
      ]
    },
    {
      "cell_type": "markdown",
      "metadata": {
        "id": "kaQn60Amiy7s"
      },
      "source": [
        "###np.mean(np_a,axis=1)"
      ]
    },
    {
      "cell_type": "code",
      "metadata": {
        "id": "bwVprV_-i2Db",
        "colab": {
          "base_uri": "https://localhost:8080/"
        },
        "outputId": "48f98fe8-9411-48e9-c21e-7a58e74273cf"
      },
      "source": [
        "sum_all = np.zeros(np_a.shape[0])\n",
        "for row in range(np_a.shape[0]):\n",
        "    for col in range(np_a.shape[1]): \n",
        "        sum_all[row] = sum_all[row] + np_a[row,col]\n",
        "sum_all = sum_all/np_a.shape[1]\n",
        "print(sum_all)"
      ],
      "execution_count": null,
      "outputs": [
        {
          "output_type": "stream",
          "name": "stdout",
          "text": [
            "[2. 5.]\n"
          ]
        }
      ]
    },
    {
      "cell_type": "markdown",
      "metadata": {
        "id": "JQH5iqgIi48z"
      },
      "source": [
        "###np.max(np_a)"
      ]
    },
    {
      "cell_type": "code",
      "metadata": {
        "id": "_j36PTIGi5zD",
        "colab": {
          "base_uri": "https://localhost:8080/"
        },
        "outputId": "6a84d707-a7ef-4079-902e-9de7a26ddcfc"
      },
      "source": [
        "max_a = -100000000\n",
        "for row in range(np_a.shape[0]):\n",
        "    for col in range(np_a.shape[1]):\n",
        "        if np_a[row,col] > max_a :\n",
        "            max_a = np_a[row,col]\n",
        "print(max_a)"
      ],
      "execution_count": null,
      "outputs": [
        {
          "output_type": "stream",
          "name": "stdout",
          "text": [
            "6\n"
          ]
        }
      ]
    },
    {
      "cell_type": "markdown",
      "metadata": {
        "id": "Dh-eKAmri9Ds"
      },
      "source": [
        "###np.min(np_a,axis=1)"
      ]
    },
    {
      "cell_type": "code",
      "metadata": {
        "id": "n7Q1ihuKi-g8",
        "colab": {
          "base_uri": "https://localhost:8080/"
        },
        "outputId": "01af84b2-a807-4e9c-ce4d-6001e92f5b78"
      },
      "source": [
        "min_row = np.zeros(np_a.shape[0])\n",
        "for row in range(np_a.shape[0]):\n",
        "   min_row[row] = min(np_a[row,:])\n",
        "print(min_row)"
      ],
      "execution_count": null,
      "outputs": [
        {
          "output_type": "stream",
          "name": "stdout",
          "text": [
            "[1. 4.]\n"
          ]
        }
      ]
    },
    {
      "cell_type": "markdown",
      "metadata": {
        "id": "RO1xW7F6jCdL"
      },
      "source": [
        "###np.min(np_a,axis=0)"
      ]
    },
    {
      "cell_type": "code",
      "metadata": {
        "id": "eD1p7qBmjEKj",
        "colab": {
          "base_uri": "https://localhost:8080/"
        },
        "outputId": "6fa04020-ef98-46d7-b2a4-7bce66b643a1"
      },
      "source": [
        "# np.min(np_a,axis=0)\n",
        "min_all = np.zeros(np_a.shape[1])\n",
        "\n",
        "for col in range(np_a.shape[1]):\n",
        "    min_all[col] = min(np_a[:,col])\n",
        "print(min_all)"
      ],
      "execution_count": null,
      "outputs": [
        {
          "output_type": "stream",
          "name": "stdout",
          "text": [
            "[1. 2. 3.]\n"
          ]
        }
      ]
    },
    {
      "cell_type": "markdown",
      "metadata": {
        "id": "a_gKCxl7jGJj"
      },
      "source": [
        "### np.max(np_a,axis=0)"
      ]
    },
    {
      "cell_type": "code",
      "metadata": {
        "id": "8CXfuOwEjJ28",
        "colab": {
          "base_uri": "https://localhost:8080/"
        },
        "outputId": "c152081c-deef-4a51-c230-e3c85df94358"
      },
      "source": [
        "max_all = -100000 * np.ones(np_a.shape[1])\n",
        "for col in range(np_a.shape[1]):\n",
        "    for row in range(np_a.shape[0]):\n",
        "        if np_a[row,col] > max_all[col]: \n",
        "            max_all[col] = np_a[row,col]\n",
        "print(max_all)"
      ],
      "execution_count": null,
      "outputs": [
        {
          "output_type": "stream",
          "name": "stdout",
          "text": [
            "[4. 5. 6.]\n"
          ]
        }
      ]
    },
    {
      "cell_type": "markdown",
      "metadata": {
        "id": "2yJEouYWjLwL"
      },
      "source": [
        "###np.mean(np_a)"
      ]
    },
    {
      "cell_type": "code",
      "metadata": {
        "id": "XPXCWrMNjNvb",
        "colab": {
          "base_uri": "https://localhost:8080/"
        },
        "outputId": "2e9d2545-3074-49b2-c878-c306c2cd650b"
      },
      "source": [
        "mean_all = 0\n",
        "for row in range(np_a.shape[0]):\n",
        "    for col in range(np_a.shape[1]):\n",
        "        mean_all = mean_all + np_a[row,col]\n",
        "mean_all = mean_all/(np_a.shape[0]*np_a.shape[1])\n",
        "print(mean_all)"
      ],
      "execution_count": null,
      "outputs": [
        {
          "output_type": "stream",
          "name": "stdout",
          "text": [
            "3.5\n"
          ]
        }
      ]
    },
    {
      "cell_type": "markdown",
      "metadata": {
        "id": "yfNb0S-mYifh"
      },
      "source": [
        "##Distance Matrix"
      ]
    },
    {
      "cell_type": "code",
      "metadata": {
        "colab": {
          "base_uri": "https://localhost:8080/"
        },
        "id": "aH0Ly6lUYmtM",
        "outputId": "a90047ca-91b2-468d-a2dc-fd6ef5ff0fb7"
      },
      "source": [
        "data1 = np.array([[1,2],[3,5],[2,0],[4,5]])\n",
        "data1"
      ],
      "execution_count": null,
      "outputs": [
        {
          "output_type": "execute_result",
          "data": {
            "text/plain": [
              "array([[1, 2],\n",
              "       [3, 5],\n",
              "       [2, 0],\n",
              "       [4, 5]])"
            ]
          },
          "metadata": {},
          "execution_count": 139
        }
      ]
    },
    {
      "cell_type": "code",
      "metadata": {
        "colab": {
          "base_uri": "https://localhost:8080/"
        },
        "id": "Kl11hlcIZrKR",
        "outputId": "308b723f-c809-4365-b3ed-be6cba1a1258"
      },
      "source": [
        "from matplotlib import pyplot as plt \n",
        "plt.scatter(data1[:,0],data1[:,1])"
      ],
      "execution_count": null,
      "outputs": [
        {
          "output_type": "execute_result",
          "data": {
            "text/plain": [
              "<matplotlib.collections.PathCollection at 0x7fe5c8fb7390>"
            ]
          },
          "metadata": {},
          "execution_count": 140
        },
        {
          "output_type": "display_data",
          "data": {
            "image/png": "[encoded data removed]",
            "text/plain": [
              "<Figure size 432x288 with 1 Axes>"
            ]
          },
          "metadata": {
            "needs_background": "light"
          }
        }
      ]
    },
    {
      "cell_type": "markdown",
      "metadata": {
        "id": "kSXo1_uEacBc"
      },
      "source": [
        "## Euclidean  Distance (L2-norm)\n",
        "![image.png](data:image/png;base64,iVBORw0KGgoAAAANSUhEUgAAAKIAAAAdCAYAAAApbre7AAAFIklEQVR4Ae2azY0UQQyFHQBCHAiAE2cyAJEABIAEGUAGkAFcOEMGcOIKGUAGkAFkAPpW88Br2dVVPdMzu0xZalX/VNnPr/zTPbtm6+SumX03s0/zmBwcKAZWReIzM3u8auVcNBk4IAPvD6hrqpoMrGLglpnNQFxF3Vx0SAZoybTmKZOBkzJANaQqnpvg82sz+2xmL8/N+QP7e8/MPuy4XP2tca5t+YWZ3TEzSPw2u8JeoflqV8wIwt87XocUnnNbJgglEMkxZZwBePQd9YuZPRhV8yYo8etR7jfLP7tO55GoDDs8UBm3lK31b4ldunt8IBCH5WOxgiD8nyoEbdhnrXebQN3aVz4GezbR47qK50txQYcdroYQwwZlQoBWG5fNv+r38CXLVO5XHBzKJzZm60A/FNYePZU/xNOqDxXaUdZ6K0M9IK/yHILB/0wVg7C3YsFZxlvlOwnwPyU1fuKT5yAGYS+XF5xVbTkaqQi+bvchjq9jCf7zhaej99cDArq3wpHUvXqF6zqMJDSFDIHXn45H+PQJv5uWDyyWIj+DzP3hb4RzIp3f3JThEM1xLMHWc2ds9N0L34TdqRk6HQlEOM42Bf7vh1YGt8fiEjtPAxcZzoqYmNTVvIv7TK6E96KsfAIwe5dCD/p4zmYCmveBkU2psPTexz42yTiw4wMbPfJegm/7bvaIz5U98KMHX5QY+FFx38tRzzzsaR/1fsy9X4PcgH1R2KBWS6jacisQZRS9/DVi3w2VvtGR9sqv+FkiLekCOwGwj4wEIlhbOJXUwqPA0PWWI7a+OgNcKync7fKUQGwVu4sKQaDx/4WZsDhry8yF5CpIpQvAlW4cqYh/Et4jcCQeb2WkMYK9qhzYpuVUGEaCSBCwFXHG6woP81qbiy/iWx1HdltcPuzARLK2BHvgUzDF1kyFju3b68PnZjFCMRuBkWxDMFgp6GkPrEd3FOwCrlVxbptZ67gRlSbXVZKBnY3FftVm1gRihDCig4pYcY1eMCupfSDAJX7uw+XNCDy5piKDAYwep3hkhMssmVirIE5U/7uFgqzUt1o2YKrsRjOBDXC/0R7kyCb9Q9p/hm0OVRpv2xNZ4VjM4g4ole5s6ZI98OOLgsHrGLHj142c61XFJwHrPZeVD1kxSm1jJAYVjrcCkecEWRSI4isPchCy9d0u0H0wbEUeRD1yX6BkI7YigTt45TMqVFcWS1EyjvhIRakwSjW+MC/KiJ24tveaQsV+tzghhuJzruGySyBAlUMLuEdQtSQzDCmeLHQQjLH1b0VebFP4wT2fBN4nj1X3mdtNnhYl44iP8NRKfNTzPPNjxE4Cs+sWlS/rmlpMwGVcwn92X+sujTinsq8HbN6SYAQS1sgxyFvCBbExg1mDXxz7Croz/ZVegj8LNOaTyL4Neh3H4HKJjyoOiKMRDi4qgM9If+6djuetahPn+utjkOftxXMqkKo0m+8DIL6mxLVbXRNofkPBpC/7VnfaiktsgoGE9fxE//1zPw9+u6uhlOIMf35BALCUAbupf4HqunckgIdB9ipfmIdvfIHyGyeHDzwwKUAX1GzymE2VfUawtYIQEGDegkuKUfU6IOd5zm+M4lKJREAurZWOSyNO054ZRxWwZqT8Mp/s5xhZdwnwHheyrVEYIA9sp5alwPP4wC4/jo0dvmRboyoi1zr3eLvO+SoiognEKZOBkzFAANKeaQ9TJgMnY4CWQHtWqzoZkGn4vBmgpx/i97PzZnF6P8TAH+uaaGYIQvw1AAAAAElFTkSuQmCC)"
      ]
    },
    {
      "cell_type": "markdown",
      "metadata": {
        "id": "Hbcf0p6zeDEl"
      },
      "source": [
        "dist(P1,P2)"
      ]
    },
    {
      "cell_type": "code",
      "metadata": {
        "colab": {
          "base_uri": "https://localhost:8080/"
        },
        "id": "An-qyj7IbY8S",
        "outputId": "22a4cf82-eb64-421c-ade5-c2cf60f93e69"
      },
      "source": [
        "dist_p1_p2 = np.sqrt(np.power(data1[0,0]-data1[1,0],2)+np.power(data1[0,1]-data1[1,1],2))\n",
        "dist_p1_p2"
      ],
      "execution_count": null,
      "outputs": [
        {
          "output_type": "execute_result",
          "data": {
            "text/plain": [
              "3.605551275463989"
            ]
          },
          "metadata": {},
          "execution_count": 141
        }
      ]
    },
    {
      "cell_type": "code",
      "metadata": {
        "colab": {
          "base_uri": "https://localhost:8080/"
        },
        "id": "hyYCTsSpdxj4",
        "outputId": "224a8ad2-225e-4dce-eea9-727f555dd7f0"
      },
      "source": [
        "dist_p1_p2 = np.power(np.power(data1[0,0]-data1[1,0],2)+np.power(data1[0,1]-data1[1,1],2),0.5)\n",
        "dist_p1_p2"
      ],
      "execution_count": null,
      "outputs": [
        {
          "output_type": "execute_result",
          "data": {
            "text/plain": [
              "3.605551275463989"
            ]
          },
          "metadata": {},
          "execution_count": 142
        }
      ]
    },
    {
      "cell_type": "markdown",
      "metadata": {
        "id": "LXNL_cubeM_P"
      },
      "source": [
        "dist(P2,P4)"
      ]
    },
    {
      "cell_type": "code",
      "metadata": {
        "colab": {
          "base_uri": "https://localhost:8080/"
        },
        "id": "xCItue3Md-m5",
        "outputId": "df4478f2-fa9f-4594-bb72-b25bcf3f6179"
      },
      "source": [
        "dist_p2_p4 = np.sqrt(np.power(data1[1,0]-data1[3,0],2)+np.power(data1[1,1]-data1[3,1],2)) \n",
        "dist_p2_p4"
      ],
      "execution_count": null,
      "outputs": [
        {
          "output_type": "execute_result",
          "data": {
            "text/plain": [
              "1.0"
            ]
          },
          "metadata": {},
          "execution_count": 143
        }
      ]
    },
    {
      "cell_type": "markdown",
      "metadata": {
        "id": "bcAM5dO-f7ns"
      },
      "source": [
        "##Distance function"
      ]
    },
    {
      "cell_type": "markdown",
      "metadata": {
        "id": "z5w5wJHwgx6x"
      },
      "source": [
        "p1 = [x,y]"
      ]
    },
    {
      "cell_type": "code",
      "metadata": {
        "id": "Ndrh0Udxf_hf"
      },
      "source": [
        "def dist_l2(p1,p2):\n",
        "    return np.sqrt(np.power(p1[0]-p2[0],2)+np.power(p1[1]-p2[1],2))"
      ],
      "execution_count": null,
      "outputs": []
    },
    {
      "cell_type": "code",
      "metadata": {
        "colab": {
          "base_uri": "https://localhost:8080/"
        },
        "id": "wjELlZpNg4Mn",
        "outputId": "d0c20bfe-87d6-48e3-f4b3-522907bb7230"
      },
      "source": [
        "dist_l2(data1[0,:],data1[1,:])"
      ],
      "execution_count": null,
      "outputs": [
        {
          "output_type": "execute_result",
          "data": {
            "text/plain": [
              "3.605551275463989"
            ]
          },
          "metadata": {},
          "execution_count": 145
        }
      ]
    },
    {
      "cell_type": "code",
      "metadata": {
        "colab": {
          "base_uri": "https://localhost:8080/"
        },
        "id": "lPnxi6PahGj_",
        "outputId": "48f0aa8f-7a84-4092-82d5-0f67fdd9841e"
      },
      "source": [
        "dist_l2(data1[1,:],data1[3,:])"
      ],
      "execution_count": null,
      "outputs": [
        {
          "output_type": "execute_result",
          "data": {
            "text/plain": [
              "1.0"
            ]
          },
          "metadata": {},
          "execution_count": 146
        }
      ]
    },
    {
      "cell_type": "markdown",
      "metadata": {
        "id": "MttDtBfPh-Le"
      },
      "source": [
        "dim = n"
      ]
    },
    {
      "cell_type": "code",
      "metadata": {
        "id": "O5pSuTPfh_we"
      },
      "source": [
        "def dist_l2(p1,p2):\n",
        "    sum = 0\n",
        "    for i in range(len(p1)):\n",
        "        sum = sum + np.power(p1[i]-p2[i],2)\n",
        "    return np.sqrt(np.power(p1[0]-p2[0],2)+np.power(p1[1]-p2[1],2))"
      ],
      "execution_count": null,
      "outputs": []
    },
    {
      "cell_type": "code",
      "metadata": {
        "colab": {
          "base_uri": "https://localhost:8080/"
        },
        "id": "VHjXpjbdjyf2",
        "outputId": "2b5ca80b-e886-40b3-b8b5-d768a348ec50"
      },
      "source": [
        "dist_l2(data1[0,:],data1[1,:])"
      ],
      "execution_count": null,
      "outputs": [
        {
          "output_type": "execute_result",
          "data": {
            "text/plain": [
              "3.605551275463989"
            ]
          },
          "metadata": {},
          "execution_count": 148
        }
      ]
    },
    {
      "cell_type": "markdown",
      "metadata": {
        "id": "2hQzg4DRkGrW"
      },
      "source": [
        "## Manhattan Distance (L1-norm)\n"
      ]
    },
    {
      "cell_type": "markdown",
      "metadata": {
        "id": "z20bVZTck7ce"
      },
      "source": [
        "![image.png](data:image/png;base64,iVBORw0KGgoAAAANSUhEUgAAAHwAAAAOCAYAAADt9Hh0AAACwklEQVRYCe2XQU4WQRCF31J3qBuWuDfGsCJsFExgqTfAHUu8gUbckBjgBngDvYGcgHgDuQHcAPMlXaRop6t7+KeHRKhkMv/09FS9eq+qZn5JeirpSv+HfZP0deJU3ko6m9jnXbj7IumQwA+Cx/Q/CB7zc6d3x3Q4U+1NA9p7IfiSpB1JHxwhe5JYn8Ms/vsUjOuW+HMI/krSO0mGDYistRTPotzBw+sBLtCqpk040i0BugBHx5I+p8QWBd3y/Iqkj5IuUnxic7Ae2RyCEx8sxg3XiH8aAZvwHhycJwzm9ndDwYWCm6NLSd8bqsf22/lFAkDVl45ntrlwptAgFXJbLRKczvAHvpkafm2oS0ojHdL9BKRAW+xJwIlx9bLiiLh/3B6uh7C7LWoS/GdAOGOkZPuSflWO9dLDbp3KHSKS5BDrU1bZkeB0oD8QHP9+jcmWW0lwph78YAjlp49NyHT7xmm1wgu8Hdx44t8LawbD6wuvxE1VcB40QvKQBKL7exoxiM+EyY01SGaUgsPIjgTPfSA4PmpWEpzYvHIwX5RgAd+YyZTcjDpZM4DD8scBhei5saKoCg5gNkMMlpPT851FsUEiydjo8kn53+AwbHMKDidwA0/g9cZab8FtwvjuBoPnhglk3AwKDnBGik+CDjoZ+GDrITgF9sN9N4AHUknOKtUTy29wGOFzC07snHAwzSE4zUCXR+a5uRb8cVaNVIQRiDMqxleNBeghOHHz+Ag9FB8cJO0LYUvSpgGsnMHvny1tfy5pt3Cz1MVzCR7hh0f4MduQtG0Xtzn3EHwMDpL1CY15doq9vHJ8Y3ifvQUndxvVPq797sIN79ZSwha415mEjtxfqqGx2iM2JPOhFolN3F6C02T2UVbKL+fGf1CWnqmuL6cKK43aqoMFN6yl+AjAMScOco/skSTwcUxtNBj+Iwu5+QusKam5qvg20gAAAABJRU5ErkJggg==)"
      ]
    },
    {
      "cell_type": "markdown",
      "metadata": {
        "id": "U4W00JrakhDG"
      },
      "source": [
        "quiz6 เขียน function คำนวณ manhattan distance ของข้อมูล 2 dimensions"
      ]
    },
    {
      "cell_type": "code",
      "metadata": {
        "id": "kGQM4wR2kWPV"
      },
      "source": [
        "def dist_l1(p1,p2):  #เดี๋ยววนมาแก้\n",
        "    return np.sqrt(np.power(p1[0]-p2[0],2)+np.power(p1[1]-p2[1],2))"
      ],
      "execution_count": null,
      "outputs": []
    },
    {
      "cell_type": "markdown",
      "metadata": {
        "id": "Cd7HloK_oGMV"
      },
      "source": [
        "HW11\n",
        "\n",
        "1.   Function คำนวณ manhattan distance ของข้อมูล N dimmensions\n",
        "2.   Funtion คำนวณ L-$\\infty$ ของ ข้อมูล N dimensions\n",
        "3.   Function คำนวณ Distance Matrix ด้วย Euclidean Distance (bonus)\n",
        "\n"
      ]
    },
    {
      "cell_type": "markdown",
      "metadata": {
        "id": "g77y7D-Y8i-c"
      },
      "source": [
        "1.Function คำนวณ manhattan distance ของข้อมูล N dimmensions"
      ]
    },
    {
      "cell_type": "code",
      "metadata": {
        "id": "4Uqu9Pv08ysR"
      },
      "source": [
        "def manhattan_distmtx(X, Y):\n",
        "    f = np.dot(X.sum(axis=1).reshape(-1, 1), Y.sum(axis=1).reshape(-1, 1).T)\n",
        "    return f / Y.sum(axis=1) - Y.sum(axis=1)"
      ],
      "execution_count": null,
      "outputs": []
    },
    {
      "cell_type": "code",
      "metadata": {
        "id": "FiAUUT-Y8ft9"
      },
      "source": [
        "def dist_l1_N(p1,p2):\n",
        "    sum = 0\n",
        "    for i in range(len(p1)):\n",
        "        sum =  sum + np.abs(p1[i] - p2[i]) \n",
        "    return np.abs(sum)"
      ],
      "execution_count": null,
      "outputs": []
    },
    {
      "cell_type": "code",
      "metadata": {
        "id": "cpj_zeew8h_8",
        "colab": {
          "base_uri": "https://localhost:8080/"
        },
        "outputId": "49c5cf8d-3689-416f-aa2c-9c086d211479"
      },
      "source": [
        "dist_l1_N(data1[0,:],data1[1,:])"
      ],
      "execution_count": null,
      "outputs": [
        {
          "output_type": "execute_result",
          "data": {
            "text/plain": [
              "5"
            ]
          },
          "metadata": {},
          "execution_count": 152
        }
      ]
    },
    {
      "cell_type": "markdown",
      "metadata": {
        "id": "r_rVPUQ_8nJV"
      },
      "source": [
        "2.Funtion คำนวณ L- ∞  ของ ข้อมูล N dimensions"
      ]
    },
    {
      "cell_type": "code",
      "metadata": {
        "id": "ZyFDsrBCIz08"
      },
      "source": [
        "def dist_linf_n(p1,p2):\n",
        "    maxv = -10000\n",
        "    for i in range(len(p1)):\n",
        "        this_dist = np.abs(p1[i]-p2[i])        \n",
        "        if this_dist > maxv:\n",
        "            maxv = this_dist\n",
        "    return maxv"
      ],
      "execution_count": null,
      "outputs": []
    },
    {
      "cell_type": "code",
      "metadata": {
        "id": "5PBNiBvZKOz9",
        "colab": {
          "base_uri": "https://localhost:8080/"
        },
        "outputId": "6b49dbfe-8459-40cd-bbac-5837643df1dc"
      },
      "source": [
        "dist_linf_n(data1[0,:],data1[2,:])"
      ],
      "execution_count": null,
      "outputs": [
        {
          "output_type": "execute_result",
          "data": {
            "text/plain": [
              "2"
            ]
          },
          "metadata": {},
          "execution_count": 157
        }
      ]
    },
    {
      "cell_type": "code",
      "metadata": {
        "id": "Yq81gJzXKymc",
        "colab": {
          "base_uri": "https://localhost:8080/"
        },
        "outputId": "bee87b33-f69b-4968-d020-8a14562f6417"
      },
      "source": [
        "dist_linf_n([-20,2,7],[0,5,9])"
      ],
      "execution_count": null,
      "outputs": [
        {
          "output_type": "execute_result",
          "data": {
            "text/plain": [
              "20"
            ]
          },
          "metadata": {},
          "execution_count": 158
        }
      ]
    },
    {
      "cell_type": "markdown",
      "metadata": {
        "id": "7X6o6K_U9dQ2"
      },
      "source": [
        "3.Function คำนวณ Distance Matrix ด้วย Euclidean Distance (bonus)"
      ]
    },
    {
      "cell_type": "code",
      "metadata": {
        "id": "QVbVEZt2L_ep"
      },
      "source": [
        "def dist_mat_eud(data):\n",
        "    d_mat = np.zeros((data.shape[0]))  #shape = แถวคูณแถว\n",
        "    for i in range(data.shape[0]):\n",
        "        for j in range(data.shape[0]):\n",
        "            d_mat[i,j] = dist_l2_n(data[i,:],data[j,:])\n",
        "    return d_mat"
      ],
      "execution_count": null,
      "outputs": []
    },
    {
      "cell_type": "code",
      "metadata": {
        "id": "s1ZkvF5ZNswf",
        "colab": {
          "base_uri": "https://localhost:8080/",
          "height": 264
        },
        "outputId": "a4966cea-e9ab-4e1a-c81d-d1f90da384ab"
      },
      "source": [
        "dist_mat_eud(data1)"
      ],
      "execution_count": null,
      "outputs": [
        {
          "output_type": "error",
          "ename": "NameError",
          "evalue": "ignored",
          "traceback": [
            "\u001b[0;31m---------------------------------------------------------------------------\u001b[0m",
            "\u001b[0;31mNameError\u001b[0m                                 Traceback (most recent call last)",
            "\u001b[0;32m<ipython-input-160-0d0df5772a54>\u001b[0m in \u001b[0;36m<module>\u001b[0;34m()\u001b[0m\n\u001b[0;32m----> 1\u001b[0;31m \u001b[0mdist_mat_eud\u001b[0m\u001b[0;34m(\u001b[0m\u001b[0mdata1\u001b[0m\u001b[0;34m)\u001b[0m\u001b[0;34m\u001b[0m\u001b[0;34m\u001b[0m\u001b[0m\n\u001b[0m",
            "\u001b[0;32m<ipython-input-159-ddc3dbb28312>\u001b[0m in \u001b[0;36mdist_mat_eud\u001b[0;34m(data)\u001b[0m\n\u001b[1;32m      3\u001b[0m     \u001b[0;32mfor\u001b[0m \u001b[0mi\u001b[0m \u001b[0;32min\u001b[0m \u001b[0mrange\u001b[0m\u001b[0;34m(\u001b[0m\u001b[0mdata\u001b[0m\u001b[0;34m.\u001b[0m\u001b[0mshape\u001b[0m\u001b[0;34m[\u001b[0m\u001b[0;36m0\u001b[0m\u001b[0;34m]\u001b[0m\u001b[0;34m)\u001b[0m\u001b[0;34m:\u001b[0m\u001b[0;34m\u001b[0m\u001b[0;34m\u001b[0m\u001b[0m\n\u001b[1;32m      4\u001b[0m         \u001b[0;32mfor\u001b[0m \u001b[0mj\u001b[0m \u001b[0;32min\u001b[0m \u001b[0mrange\u001b[0m\u001b[0;34m(\u001b[0m\u001b[0mdata\u001b[0m\u001b[0;34m.\u001b[0m\u001b[0mshape\u001b[0m\u001b[0;34m[\u001b[0m\u001b[0;36m0\u001b[0m\u001b[0;34m]\u001b[0m\u001b[0;34m)\u001b[0m\u001b[0;34m:\u001b[0m\u001b[0;34m\u001b[0m\u001b[0;34m\u001b[0m\u001b[0m\n\u001b[0;32m----> 5\u001b[0;31m             \u001b[0md_mat\u001b[0m\u001b[0;34m[\u001b[0m\u001b[0mi\u001b[0m\u001b[0;34m,\u001b[0m\u001b[0mj\u001b[0m\u001b[0;34m]\u001b[0m \u001b[0;34m=\u001b[0m \u001b[0mdist_l2_n\u001b[0m\u001b[0;34m(\u001b[0m\u001b[0mdata\u001b[0m\u001b[0;34m[\u001b[0m\u001b[0mi\u001b[0m\u001b[0;34m,\u001b[0m\u001b[0;34m:\u001b[0m\u001b[0;34m]\u001b[0m\u001b[0;34m,\u001b[0m\u001b[0mdata\u001b[0m\u001b[0;34m[\u001b[0m\u001b[0mj\u001b[0m\u001b[0;34m,\u001b[0m\u001b[0;34m:\u001b[0m\u001b[0;34m]\u001b[0m\u001b[0;34m)\u001b[0m\u001b[0;34m\u001b[0m\u001b[0;34m\u001b[0m\u001b[0m\n\u001b[0m\u001b[1;32m      6\u001b[0m     \u001b[0;32mreturn\u001b[0m \u001b[0md_mat\u001b[0m\u001b[0;34m\u001b[0m\u001b[0;34m\u001b[0m\u001b[0m\n",
            "\u001b[0;31mNameError\u001b[0m: name 'dist_l2_n' is not defined"
          ]
        }
      ]
    },
    {
      "cell_type": "markdown",
      "metadata": {
        "id": "cCL0olLikSgy"
      },
      "source": [
        "Distance or binary value \n",
        "Create Table"
      ]
    },
    {
      "cell_type": "markdown",
      "metadata": {
        "id": "wKpGgcVPm6FA"
      },
      "source": [
        "![image.png](data:image/png;base64,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)"
      ]
    },
    {
      "cell_type": "code",
      "metadata": {
        "id": "LqZW06ZtoR6X"
      },
      "source": [
        "import pandas as pd"
      ],
      "execution_count": 161,
      "outputs": []
    },
    {
      "cell_type": "code",
      "metadata": {
        "id": "mU4vGJCOkQ0s",
        "outputId": "039705e3-5cc9-4609-e5b0-40f3a4732ba7",
        "colab": {
          "base_uri": "https://localhost:8080/",
          "height": 142
        }
      },
      "source": [
        "records = [['Jack' ,1,1,0,1,0,0,0],\n",
        "           ['Mary',0,1,0,1,0,1,0],\n",
        "           ['Jim',1,1,1,0,0,0,0]]\n",
        "labels = ['Name','Gender','Fever','Cough','Test-1','Test-2','Test-3','Test-4']\n",
        "\n",
        "binary_table = pd.DataFrame.from_records(records,columns=labels)\n",
        "binary_table"
      ],
      "execution_count": 162,
      "outputs": [
        {
          "output_type": "execute_result",
          "data": {
            "text/html": [
              "<div>\n",
              "<style scoped>\n",
              "    .dataframe tbody tr th:only-of-type {\n",
              "        vertical-align: middle;\n",
              "    }\n",
              "\n",
              "    .dataframe tbody tr th {\n",
              "        vertical-align: top;\n",
              "    }\n",
              "\n",
              "    .dataframe thead th {\n",
              "        text-align: right;\n",
              "    }\n",
              "</style>\n",
              "<table border=\"1\" class=\"dataframe\">\n",
              "  <thead>\n",
              "    <tr style=\"text-align: right;\">\n",
              "      <th></th>\n",
              "      <th>Name</th>\n",
              "      <th>Gender</th>\n",
              "      <th>Fever</th>\n",
              "      <th>Cough</th>\n",
              "      <th>Test-1</th>\n",
              "      <th>Test-2</th>\n",
              "      <th>Test-3</th>\n",
              "      <th>Test-4</th>\n",
              "    </tr>\n",
              "  </thead>\n",
              "  <tbody>\n",
              "    <tr>\n",
              "      <th>0</th>\n",
              "      <td>Jack</td>\n",
              "      <td>1</td>\n",
              "      <td>1</td>\n",
              "      <td>0</td>\n",
              "      <td>1</td>\n",
              "      <td>0</td>\n",
              "      <td>0</td>\n",
              "      <td>0</td>\n",
              "    </tr>\n",
              "    <tr>\n",
              "      <th>1</th>\n",
              "      <td>Mary</td>\n",
              "      <td>0</td>\n",
              "      <td>1</td>\n",
              "      <td>0</td>\n",
              "      <td>1</td>\n",
              "      <td>0</td>\n",
              "      <td>1</td>\n",
              "      <td>0</td>\n",
              "    </tr>\n",
              "    <tr>\n",
              "      <th>2</th>\n",
              "      <td>Jim</td>\n",
              "      <td>1</td>\n",
              "      <td>1</td>\n",
              "      <td>1</td>\n",
              "      <td>0</td>\n",
              "      <td>0</td>\n",
              "      <td>0</td>\n",
              "      <td>0</td>\n",
              "    </tr>\n",
              "  </tbody>\n",
              "</table>\n",
              "</div>"
            ],
            "text/plain": [
              "   Name  Gender  Fever  Cough  Test-1  Test-2  Test-3  Test-4\n",
              "0  Jack       1      1      0       1       0       0       0\n",
              "1  Mary       0      1      0       1       0       1       0\n",
              "2   Jim       1      1      1       0       0       0       0"
            ]
          },
          "metadata": {},
          "execution_count": 162
        }
      ]
    },
    {
      "cell_type": "code",
      "metadata": {
        "id": "tNe1JaqPtCVv"
      },
      "source": [
        "def dist_binary_symmetric(p1,p2):\n",
        "    q = 0.\n",
        "    r = 0.\n",
        "    s = 0.\n",
        "    t = 0.\n",
        "    for i in range(len(p1)):\n",
        "        \n",
        "        if (p1[i] == 1) and (p2[i] == 1):\n",
        "            q = q + 1\n",
        "        \n",
        "        if (p1[i] == 0) and (p2[i] == 1):\n",
        "            r = r + 1\n",
        "        \n",
        "        if (p1[i] == 1) and (p2[i] == 0):\n",
        "            s = s + 1\n",
        "\n",
        "        if (p1[i] == 0) and (p2[i] == 0):\n",
        "            t = t + 1\n",
        "    return (r+s)/(q+r+s+t)"
      ],
      "execution_count": 168,
      "outputs": []
    },
    {
      "cell_type": "code",
      "metadata": {
        "id": "VAgTwYBqs_h2",
        "outputId": "b76236af-6442-4ffd-d5f3-38c1274e845a",
        "colab": {
          "base_uri": "https://localhost:8080/"
        }
      },
      "source": [
        "dist_binary_symmetric(binary_table.iloc[0,1:],binary_table.iloc[1,1:])"
      ],
      "execution_count": 169,
      "outputs": [
        {
          "output_type": "execute_result",
          "data": {
            "text/plain": [
              "0.2857142857142857"
            ]
          },
          "metadata": {},
          "execution_count": 169
        }
      ]
    }
  ]
}