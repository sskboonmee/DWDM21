{
  "nbformat": 4,
  "nbformat_minor": 0,
  "metadata": {
    "colab": {
      "name": "Basic Programming Concept.ipynb",
      "provenance": [],
      "authorship_tag": "ABX9TyOvndhjSHfxoNBLltguP2XQ",
      "include_colab_link": true
    },
    "kernelspec": {
      "name": "python3",
      "display_name": "Python 3"
    },
    "language_info": {
      "name": "python"
    }
  },
  "cells": [
    {
      "cell_type": "markdown",
      "metadata": {
        "id": "view-in-github",
        "colab_type": "text"
      },
      "source": [
        "<a href=\"https://colab.research.google.com/github/sskboonmee/DWDM21/blob/main/Basic_Programming_Concept.ipynb\" target=\"_parent\"><img src=\"https://colab.research.google.com/assets/colab-badge.svg\" alt=\"Open In Colab\"/></a>"
      ]
    },
    {
      "cell_type": "markdown",
      "source": [
        "# Function ($f(x) = y $ )"
      ],
      "metadata": {
        "id": "8MVzo2hbDpkn"
      }
    },
    {
      "cell_type": "markdown",
      "source": [
        "```python\n",
        "def function_name(input_x):   #def = นิยามฟังก์ชัน\n",
        "    # do something with input_x to get output_y\n",
        "    return output_y\n",
        " ```"
      ],
      "metadata": {
        "id": "TtKxxMeoEJPj"
      }
    },
    {
      "cell_type": "markdown",
      "source": [
        "$f1(x) = x**2 + 75$"
      ],
      "metadata": {
        "id": "Qt25MD4RGE-u"
      }
    },
    {
      "cell_type": "code",
      "source": [
        "def function_f1(x):\n",
        "    a = x**2\n",
        "    y = a + 75\n",
        "    return y\n",
        "\n",
        "print('done!')"
      ],
      "metadata": {
        "colab": {
          "base_uri": "https://localhost:8080/"
        },
        "id": "A4S07GrpD30-",
        "outputId": "ee68420a-d149-40c5-e4df-d990cfc9566a"
      },
      "execution_count": 3,
      "outputs": [
        {
          "output_type": "stream",
          "name": "stdout",
          "text": [
            "done!\n"
          ]
        }
      ]
    },
    {
      "cell_type": "code",
      "source": [
        "function_f1(3)"
      ],
      "metadata": {
        "colab": {
          "base_uri": "https://localhost:8080/"
        },
        "id": "FSilx6ZxD3xe",
        "outputId": "70a5fb3f-fa95-444d-9f11-05c2906d3ebc"
      },
      "execution_count": 2,
      "outputs": [
        {
          "output_type": "execute_result",
          "data": {
            "text/plain": [
              "84"
            ]
          },
          "metadata": {},
          "execution_count": 2
        }
      ]
    },
    {
      "cell_type": "markdown",
      "source": [
        "function มีส่วนสำคัญทั้งหมด 4 ส่วน\n",
        "1. บอก python ว่าเราจะเขียนฟังก์ชัน ชื่ออะไร ```def function_name() : (ขาดไม่ได้)```\n",
        "2. กำหนดตัวแปรที่จะเป็น input ```input``` (ขาดได้)\n",
        "3. ส่วนประมวลผล do_something with Input to get Output (ขาดไม่ได้)\n",
        "4. ส่วน output return Output(ขาดได้)"
      ],
      "metadata": {
        "id": "OttfzKVjHhC-"
      }
    },
    {
      "cell_type": "markdown",
      "source": [
        "##ตัวอย่าง function ที่มีส่วนประกอบครบ"
      ],
      "metadata": {
        "id": "Ng2USk8MISe-"
      }
    },
    {
      "cell_type": "code",
      "source": [
        "def function_f1(x):\n",
        "    a = x**2\n",
        "    y = a + 75\n",
        "    return y"
      ],
      "metadata": {
        "id": "dI2CJNfHD3uH"
      },
      "execution_count": 5,
      "outputs": []
    },
    {
      "cell_type": "markdown",
      "source": [
        "##ตัวอย่าง function ที่ไม่มี input"
      ],
      "metadata": {
        "id": "Qi_D4L3JIZaP"
      }
    },
    {
      "cell_type": "code",
      "source": [
        "def pi_v():\n",
        "    y = 3.1459265359\n",
        "    return y\n",
        "    "
      ],
      "metadata": {
        "id": "IK5YfjGpD3YJ"
      },
      "execution_count": 4,
      "outputs": []
    },
    {
      "cell_type": "code",
      "source": [
        "piv = pi_v()\n",
        "circle_area_r2 = piv*(2**2)\n",
        "print(circle_area_r2)"
      ],
      "metadata": {
        "colab": {
          "base_uri": "https://localhost:8080/"
        },
        "id": "XIwpoQU9IpIm",
        "outputId": "69e7e5bb-bb60-48cd-f18e-0695f8db4a9f"
      },
      "execution_count": 6,
      "outputs": [
        {
          "output_type": "stream",
          "name": "stdout",
          "text": [
            "12.5837061436\n"
          ]
        }
      ]
    },
    {
      "cell_type": "markdown",
      "source": [
        "##function ไม่มี process ไม่ได้"
      ],
      "metadata": {
        "id": "8TWj4XHUKNqf"
      }
    },
    {
      "cell_type": "code",
      "source": [
        "dew function_a():"
      ],
      "metadata": {
        "id": "-MiMPnHvKT3e"
      },
      "execution_count": null,
      "outputs": []
    },
    {
      "cell_type": "markdown",
      "source": [
        "##ตัวอย่าง function ที่ไม่มี output"
      ],
      "metadata": {
        "id": "EeSSZPnVKXbh"
      }
    },
    {
      "cell_type": "code",
      "source": [
        "def print_name_id(name,id):\n",
        "    print(f'ชื่อ {name} รหัสประจำตัว {id}')"
      ],
      "metadata": {
        "id": "VBiFGXJOI_D_"
      },
      "execution_count": 7,
      "outputs": []
    },
    {
      "cell_type": "code",
      "source": [
        "print_name_id('ศศิกานต์','6230205399')"
      ],
      "metadata": {
        "colab": {
          "base_uri": "https://localhost:8080/"
        },
        "id": "o1NyWvObI-1o",
        "outputId": "dea0787c-eb8a-4ae0-9ee4-fa9f033d8501"
      },
      "execution_count": 8,
      "outputs": [
        {
          "output_type": "stream",
          "name": "stdout",
          "text": [
            "ชื่อ ศศิกานต์ รหัสประจำตัว 6230205399\n"
          ]
        }
      ]
    },
    {
      "cell_type": "code",
      "source": [
        ""
      ],
      "metadata": {
        "id": "4U8itDC7I-wV"
      },
      "execution_count": null,
      "outputs": []
    },
    {
      "cell_type": "markdown",
      "source": [
        "# Looping"
      ],
      "metadata": {
        "id": "5KL0PiiQDgzG"
      }
    },
    {
      "cell_type": "code",
      "source": [
        ""
      ],
      "metadata": {
        "id": "W1W1zwlNI-K1"
      },
      "execution_count": null,
      "outputs": []
    },
    {
      "cell_type": "markdown",
      "source": [
        "#Condition Statement(if)"
      ],
      "metadata": {
        "id": "SgkC_e_UDkvY"
      }
    },
    {
      "cell_type": "code",
      "execution_count": null,
      "metadata": {
        "id": "IxMbH7l_DaKk"
      },
      "outputs": [],
      "source": [
        ""
      ]
    }
  ]
}