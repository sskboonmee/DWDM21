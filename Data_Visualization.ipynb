{
  "nbformat": 4,
  "nbformat_minor": 0,
  "metadata": {
    "colab": {
      "name": "Data Visualization.ipynb",
      "provenance": [],
      "authorship_tag": "ABX9TyPsYB01MJCf2+I7btR2VfaM",
      "include_colab_link": true
    },
    "kernelspec": {
      "name": "python3",
      "display_name": "Python 3"
    },
    "language_info": {
      "name": "python"
    }
  },
  "cells": [
    {
      "cell_type": "markdown",
      "metadata": {
        "id": "view-in-github",
        "colab_type": "text"
      },
      "source": [
        "<a href=\"https://colab.research.google.com/github/sskboonmee/DWDM21/blob/main/Data_Visualization.ipynb\" target=\"_parent\"><img src=\"https://colab.research.google.com/assets/colab-badge.svg\" alt=\"Open In Colab\"/></a>"
      ]
    },
    {
      "cell_type": "code",
      "metadata": {
        "id": "7M3qmdn6BWRA"
      },
      "source": [
        "import pandas as pd #ทำงานกับข้อมูลลักษณะตาราง"
      ],
      "execution_count": null,
      "outputs": []
    },
    {
      "cell_type": "code",
      "metadata": {
        "colab": {
          "base_uri": "https://localhost:8080/"
        },
        "id": "NgX1XOyYBaI7",
        "outputId": "01f4fc5f-45e0-4425-9e89-d58d00299aa6"
      },
      "source": [
        "from google.colab import drive  #เชื่อม Google drive\n",
        "drive.mount('/content/drive')"
      ],
      "execution_count": null,
      "outputs": [
        {
          "output_type": "stream",
          "text": [
            "Mounted at /content/drive\n"
          ],
          "name": "stdout"
        }
      ]
    },
    {
      "cell_type": "code",
      "metadata": {
        "id": "jxDLodMnBb28"
      },
      "source": [
        "import os # จัดการไฟล์และ path"
      ],
      "execution_count": null,
      "outputs": []
    },
    {
      "cell_type": "code",
      "metadata": {
        "colab": {
          "base_uri": "https://localhost:8080/",
          "height": 485
        },
        "id": "NP82Hd3fBwC1",
        "outputId": "d69d8598-ae72-47a5-99b6-4e9e7ab8de96"
      },
      "source": [
        "path = '/content/drive/My Drive/DWDM2021_DATA'\n",
        "data_covid = pd.read_csv(os.path.join(path,'thailand_covid-19_testing_data_update140864.csv'))\n",
        "data_covid"
      ],
      "execution_count": null,
      "outputs": [
        {
          "output_type": "execute_result",
          "data": {
            "text/html": [
              "<div>\n",
              "<style scoped>\n",
              "    .dataframe tbody tr th:only-of-type {\n",
              "        vertical-align: middle;\n",
              "    }\n",
              "\n",
              "    .dataframe tbody tr th {\n",
              "        vertical-align: top;\n",
              "    }\n",
              "\n",
              "    .dataframe thead th {\n",
              "        text-align: right;\n",
              "    }\n",
              "</style>\n",
              "<table border=\"1\" class=\"dataframe\">\n",
              "  <thead>\n",
              "    <tr style=\"text-align: right;\">\n",
              "      <th></th>\n",
              "      <th>Date</th>\n",
              "      <th>positive</th>\n",
              "      <th>Total Testing</th>\n",
              "      <th>Unnamed: 3</th>\n",
              "      <th>Unnamed: 4</th>\n",
              "      <th>Unnamed: 5</th>\n",
              "      <th>Unnamed: 6</th>\n",
              "      <th>Unnamed: 7</th>\n",
              "      <th>Unnamed: 8</th>\n",
              "      <th>Unnamed: 9</th>\n",
              "      <th>Unnamed: 10</th>\n",
              "      <th>Unnamed: 11</th>\n",
              "      <th>Unnamed: 12</th>\n",
              "      <th>Unnamed: 13</th>\n",
              "      <th>Unnamed: 14</th>\n",
              "      <th>Unnamed: 15</th>\n",
              "      <th>Unnamed: 16</th>\n",
              "      <th>Unnamed: 17</th>\n",
              "      <th>Unnamed: 18</th>\n",
              "      <th>Unnamed: 19</th>\n",
              "      <th>Unnamed: 20</th>\n",
              "      <th>Unnamed: 21</th>\n",
              "      <th>Unnamed: 22</th>\n",
              "      <th>Unnamed: 23</th>\n",
              "      <th>Unnamed: 24</th>\n",
              "      <th>Unnamed: 25</th>\n",
              "      <th>Unnamed: 26</th>\n",
              "      <th>Unnamed: 27</th>\n",
              "      <th>Unnamed: 28</th>\n",
              "      <th>Unnamed: 29</th>\n",
              "      <th>Unnamed: 30</th>\n",
              "      <th>Unnamed: 31</th>\n",
              "      <th>Unnamed: 32</th>\n",
              "      <th>Unnamed: 33</th>\n",
              "      <th>Unnamed: 34</th>\n",
              "      <th>Unnamed: 35</th>\n",
              "      <th>Unnamed: 36</th>\n",
              "      <th>Unnamed: 37</th>\n",
              "      <th>Unnamed: 38</th>\n",
              "      <th>Unnamed: 39</th>\n",
              "      <th>...</th>\n",
              "      <th>Unnamed: 82</th>\n",
              "      <th>Unnamed: 83</th>\n",
              "      <th>Unnamed: 84</th>\n",
              "      <th>Unnamed: 85</th>\n",
              "      <th>Unnamed: 86</th>\n",
              "      <th>Unnamed: 87</th>\n",
              "      <th>Unnamed: 88</th>\n",
              "      <th>Unnamed: 89</th>\n",
              "      <th>Unnamed: 90</th>\n",
              "      <th>Unnamed: 91</th>\n",
              "      <th>Unnamed: 92</th>\n",
              "      <th>Unnamed: 93</th>\n",
              "      <th>Unnamed: 94</th>\n",
              "      <th>Unnamed: 95</th>\n",
              "      <th>Unnamed: 96</th>\n",
              "      <th>Unnamed: 97</th>\n",
              "      <th>Unnamed: 98</th>\n",
              "      <th>Unnamed: 99</th>\n",
              "      <th>Unnamed: 100</th>\n",
              "      <th>Unnamed: 101</th>\n",
              "      <th>Unnamed: 102</th>\n",
              "      <th>Unnamed: 103</th>\n",
              "      <th>Unnamed: 104</th>\n",
              "      <th>Unnamed: 105</th>\n",
              "      <th>Unnamed: 106</th>\n",
              "      <th>Unnamed: 107</th>\n",
              "      <th>Unnamed: 108</th>\n",
              "      <th>Unnamed: 109</th>\n",
              "      <th>Unnamed: 110</th>\n",
              "      <th>Unnamed: 111</th>\n",
              "      <th>Unnamed: 112</th>\n",
              "      <th>Unnamed: 113</th>\n",
              "      <th>Unnamed: 114</th>\n",
              "      <th>Unnamed: 115</th>\n",
              "      <th>Unnamed: 116</th>\n",
              "      <th>Unnamed: 117</th>\n",
              "      <th>Unnamed: 118</th>\n",
              "      <th>Unnamed: 119</th>\n",
              "      <th>Unnamed: 120</th>\n",
              "      <th>Unnamed: 121</th>\n",
              "    </tr>\n",
              "  </thead>\n",
              "  <tbody>\n",
              "    <tr>\n",
              "      <th>0</th>\n",
              "      <td>Cannot specify date</td>\n",
              "      <td>2963</td>\n",
              "      <td>32131</td>\n",
              "      <td>NaN</td>\n",
              "      <td>NaN</td>\n",
              "      <td>NaN</td>\n",
              "      <td>NaN</td>\n",
              "      <td>NaN</td>\n",
              "      <td>NaN</td>\n",
              "      <td>NaN</td>\n",
              "      <td>NaN</td>\n",
              "      <td>NaN</td>\n",
              "      <td>NaN</td>\n",
              "      <td>NaN</td>\n",
              "      <td>NaN</td>\n",
              "      <td>NaN</td>\n",
              "      <td>NaN</td>\n",
              "      <td>NaN</td>\n",
              "      <td>NaN</td>\n",
              "      <td>NaN</td>\n",
              "      <td>NaN</td>\n",
              "      <td>NaN</td>\n",
              "      <td>NaN</td>\n",
              "      <td>NaN</td>\n",
              "      <td>NaN</td>\n",
              "      <td>NaN</td>\n",
              "      <td>NaN</td>\n",
              "      <td>NaN</td>\n",
              "      <td>NaN</td>\n",
              "      <td>NaN</td>\n",
              "      <td>NaN</td>\n",
              "      <td>NaN</td>\n",
              "      <td>NaN</td>\n",
              "      <td>NaN</td>\n",
              "      <td>NaN</td>\n",
              "      <td>NaN</td>\n",
              "      <td>NaN</td>\n",
              "      <td>NaN</td>\n",
              "      <td>NaN</td>\n",
              "      <td>NaN</td>\n",
              "      <td>...</td>\n",
              "      <td>NaN</td>\n",
              "      <td>NaN</td>\n",
              "      <td>NaN</td>\n",
              "      <td>NaN</td>\n",
              "      <td>NaN</td>\n",
              "      <td>NaN</td>\n",
              "      <td>NaN</td>\n",
              "      <td>NaN</td>\n",
              "      <td>NaN</td>\n",
              "      <td>NaN</td>\n",
              "      <td>NaN</td>\n",
              "      <td>NaN</td>\n",
              "      <td>NaN</td>\n",
              "      <td>NaN</td>\n",
              "      <td>NaN</td>\n",
              "      <td>NaN</td>\n",
              "      <td>NaN</td>\n",
              "      <td>NaN</td>\n",
              "      <td>NaN</td>\n",
              "      <td>NaN</td>\n",
              "      <td>NaN</td>\n",
              "      <td>NaN</td>\n",
              "      <td>NaN</td>\n",
              "      <td>NaN</td>\n",
              "      <td>NaN</td>\n",
              "      <td>NaN</td>\n",
              "      <td>NaN</td>\n",
              "      <td>NaN</td>\n",
              "      <td>NaN</td>\n",
              "      <td>NaN</td>\n",
              "      <td>NaN</td>\n",
              "      <td>NaN</td>\n",
              "      <td>NaN</td>\n",
              "      <td>NaN</td>\n",
              "      <td>NaN</td>\n",
              "      <td>NaN</td>\n",
              "      <td>NaN</td>\n",
              "      <td>NaN</td>\n",
              "      <td>NaN</td>\n",
              "      <td>NaN</td>\n",
              "    </tr>\n",
              "    <tr>\n",
              "      <th>1</th>\n",
              "      <td>1/1/2020</td>\n",
              "      <td>0</td>\n",
              "      <td>0</td>\n",
              "      <td>NaN</td>\n",
              "      <td>NaN</td>\n",
              "      <td>NaN</td>\n",
              "      <td>NaN</td>\n",
              "      <td>NaN</td>\n",
              "      <td>NaN</td>\n",
              "      <td>NaN</td>\n",
              "      <td>NaN</td>\n",
              "      <td>NaN</td>\n",
              "      <td>NaN</td>\n",
              "      <td>NaN</td>\n",
              "      <td>NaN</td>\n",
              "      <td>NaN</td>\n",
              "      <td>NaN</td>\n",
              "      <td>NaN</td>\n",
              "      <td>NaN</td>\n",
              "      <td>NaN</td>\n",
              "      <td>NaN</td>\n",
              "      <td>NaN</td>\n",
              "      <td>NaN</td>\n",
              "      <td>NaN</td>\n",
              "      <td>NaN</td>\n",
              "      <td>NaN</td>\n",
              "      <td>NaN</td>\n",
              "      <td>NaN</td>\n",
              "      <td>NaN</td>\n",
              "      <td>NaN</td>\n",
              "      <td>NaN</td>\n",
              "      <td>NaN</td>\n",
              "      <td>NaN</td>\n",
              "      <td>NaN</td>\n",
              "      <td>NaN</td>\n",
              "      <td>NaN</td>\n",
              "      <td>NaN</td>\n",
              "      <td>NaN</td>\n",
              "      <td>NaN</td>\n",
              "      <td>NaN</td>\n",
              "      <td>...</td>\n",
              "      <td>12</td>\n",
              "      <td>NaN</td>\n",
              "      <td>13</td>\n",
              "      <td>NaN</td>\n",
              "      <td>14</td>\n",
              "      <td>NaN</td>\n",
              "      <td>15</td>\n",
              "      <td>NaN</td>\n",
              "      <td>16</td>\n",
              "      <td>NaN</td>\n",
              "      <td>17</td>\n",
              "      <td>NaN</td>\n",
              "      <td>18</td>\n",
              "      <td>NaN</td>\n",
              "      <td>19</td>\n",
              "      <td>NaN</td>\n",
              "      <td>20</td>\n",
              "      <td>NaN</td>\n",
              "      <td>21</td>\n",
              "      <td>NaN</td>\n",
              "      <td>22</td>\n",
              "      <td>NaN</td>\n",
              "      <td>23</td>\n",
              "      <td>NaN</td>\n",
              "      <td>24</td>\n",
              "      <td>NaN</td>\n",
              "      <td>25</td>\n",
              "      <td>NaN</td>\n",
              "      <td>26</td>\n",
              "      <td>NaN</td>\n",
              "      <td>27</td>\n",
              "      <td>NaN</td>\n",
              "      <td>28</td>\n",
              "      <td>NaN</td>\n",
              "      <td>29</td>\n",
              "      <td>NaN</td>\n",
              "      <td>30</td>\n",
              "      <td>NaN</td>\n",
              "      <td>31</td>\n",
              "      <td>NaN</td>\n",
              "    </tr>\n",
              "    <tr>\n",
              "      <th>2</th>\n",
              "      <td>2/1/2020</td>\n",
              "      <td>0</td>\n",
              "      <td>0</td>\n",
              "      <td>NaN</td>\n",
              "      <td>NaN</td>\n",
              "      <td>NaN</td>\n",
              "      <td>NaN</td>\n",
              "      <td>NaN</td>\n",
              "      <td>NaN</td>\n",
              "      <td>NaN</td>\n",
              "      <td>NaN</td>\n",
              "      <td>NaN</td>\n",
              "      <td>NaN</td>\n",
              "      <td>NaN</td>\n",
              "      <td>NaN</td>\n",
              "      <td>NaN</td>\n",
              "      <td>NaN</td>\n",
              "      <td>NaN</td>\n",
              "      <td>NaN</td>\n",
              "      <td>NaN</td>\n",
              "      <td>NaN</td>\n",
              "      <td>NaN</td>\n",
              "      <td>NaN</td>\n",
              "      <td>NaN</td>\n",
              "      <td>NaN</td>\n",
              "      <td>NaN</td>\n",
              "      <td>NaN</td>\n",
              "      <td>NaN</td>\n",
              "      <td>NaN</td>\n",
              "      <td>NaN</td>\n",
              "      <td>NaN</td>\n",
              "      <td>NaN</td>\n",
              "      <td>NaN</td>\n",
              "      <td>NaN</td>\n",
              "      <td>NaN</td>\n",
              "      <td>NaN</td>\n",
              "      <td>NaN</td>\n",
              "      <td>NaN</td>\n",
              "      <td>NaN</td>\n",
              "      <td>NaN</td>\n",
              "      <td>...</td>\n",
              "      <td>Pos</td>\n",
              "      <td>Pos</td>\n",
              "      <td>Total</td>\n",
              "      <td>Pos</td>\n",
              "      <td>Total</td>\n",
              "      <td>Pos</td>\n",
              "      <td>Total</td>\n",
              "      <td>Pos</td>\n",
              "      <td>Total</td>\n",
              "      <td>Pos</td>\n",
              "      <td>Pos</td>\n",
              "      <td>Total</td>\n",
              "      <td>Pos</td>\n",
              "      <td>Total</td>\n",
              "      <td>Pos</td>\n",
              "      <td>Total</td>\n",
              "      <td>Pos</td>\n",
              "      <td>Total</td>\n",
              "      <td>Pos</td>\n",
              "      <td>Pos</td>\n",
              "      <td>Total</td>\n",
              "      <td>Pos</td>\n",
              "      <td>Total</td>\n",
              "      <td>Pos</td>\n",
              "      <td>Total</td>\n",
              "      <td>Pos</td>\n",
              "      <td>Total</td>\n",
              "      <td>Pos</td>\n",
              "      <td>Pos</td>\n",
              "      <td>Total</td>\n",
              "      <td>Pos</td>\n",
              "      <td>Total</td>\n",
              "      <td>Pos</td>\n",
              "      <td>Total</td>\n",
              "      <td>Pos</td>\n",
              "      <td>Total</td>\n",
              "      <td>Pos</td>\n",
              "      <td>Pos</td>\n",
              "      <td>Pos</td>\n",
              "      <td>Pos</td>\n",
              "    </tr>\n",
              "    <tr>\n",
              "      <th>3</th>\n",
              "      <td>3/1/2020</td>\n",
              "      <td>0</td>\n",
              "      <td>0</td>\n",
              "      <td>NaN</td>\n",
              "      <td>NaN</td>\n",
              "      <td>NaN</td>\n",
              "      <td>NaN</td>\n",
              "      <td>NaN</td>\n",
              "      <td>NaN</td>\n",
              "      <td>NaN</td>\n",
              "      <td>NaN</td>\n",
              "      <td>NaN</td>\n",
              "      <td>NaN</td>\n",
              "      <td>NaN</td>\n",
              "      <td>NaN</td>\n",
              "      <td>NaN</td>\n",
              "      <td>NaN</td>\n",
              "      <td>NaN</td>\n",
              "      <td>NaN</td>\n",
              "      <td>NaN</td>\n",
              "      <td>NaN</td>\n",
              "      <td>NaN</td>\n",
              "      <td>NaN</td>\n",
              "      <td>NaN</td>\n",
              "      <td>NaN</td>\n",
              "      <td>NaN</td>\n",
              "      <td>NaN</td>\n",
              "      <td>NaN</td>\n",
              "      <td>NaN</td>\n",
              "      <td>NaN</td>\n",
              "      <td>NaN</td>\n",
              "      <td>NaN</td>\n",
              "      <td>NaN</td>\n",
              "      <td>NaN</td>\n",
              "      <td>NaN</td>\n",
              "      <td>NaN</td>\n",
              "      <td>NaN</td>\n",
              "      <td>NaN</td>\n",
              "      <td>NaN</td>\n",
              "      <td>NaN</td>\n",
              "      <td>...</td>\n",
              "      <td>NaN</td>\n",
              "      <td>NaN</td>\n",
              "      <td>NaN</td>\n",
              "      <td>NaN</td>\n",
              "      <td>NaN</td>\n",
              "      <td>NaN</td>\n",
              "      <td>NaN</td>\n",
              "      <td>NaN</td>\n",
              "      <td>NaN</td>\n",
              "      <td>NaN</td>\n",
              "      <td>NaN</td>\n",
              "      <td>NaN</td>\n",
              "      <td>NaN</td>\n",
              "      <td>NaN</td>\n",
              "      <td>NaN</td>\n",
              "      <td>NaN</td>\n",
              "      <td>NaN</td>\n",
              "      <td>NaN</td>\n",
              "      <td>NaN</td>\n",
              "      <td>NaN</td>\n",
              "      <td>NaN</td>\n",
              "      <td>NaN</td>\n",
              "      <td>NaN</td>\n",
              "      <td>NaN</td>\n",
              "      <td>NaN</td>\n",
              "      <td>NaN</td>\n",
              "      <td>NaN</td>\n",
              "      <td>NaN</td>\n",
              "      <td>NaN</td>\n",
              "      <td>NaN</td>\n",
              "      <td>NaN</td>\n",
              "      <td>NaN</td>\n",
              "      <td>NaN</td>\n",
              "      <td>NaN</td>\n",
              "      <td>NaN</td>\n",
              "      <td>NaN</td>\n",
              "      <td>NaN</td>\n",
              "      <td>NaN</td>\n",
              "      <td>NaN</td>\n",
              "      <td>NaN</td>\n",
              "    </tr>\n",
              "    <tr>\n",
              "      <th>4</th>\n",
              "      <td>4/1/2020</td>\n",
              "      <td>0</td>\n",
              "      <td>2</td>\n",
              "      <td>NaN</td>\n",
              "      <td>NaN</td>\n",
              "      <td>NaN</td>\n",
              "      <td>NaN</td>\n",
              "      <td>NaN</td>\n",
              "      <td>NaN</td>\n",
              "      <td>NaN</td>\n",
              "      <td>NaN</td>\n",
              "      <td>NaN</td>\n",
              "      <td>NaN</td>\n",
              "      <td>NaN</td>\n",
              "      <td>NaN</td>\n",
              "      <td>NaN</td>\n",
              "      <td>NaN</td>\n",
              "      <td>NaN</td>\n",
              "      <td>NaN</td>\n",
              "      <td>NaN</td>\n",
              "      <td>NaN</td>\n",
              "      <td>NaN</td>\n",
              "      <td>NaN</td>\n",
              "      <td>NaN</td>\n",
              "      <td>NaN</td>\n",
              "      <td>NaN</td>\n",
              "      <td>NaN</td>\n",
              "      <td>NaN</td>\n",
              "      <td>NaN</td>\n",
              "      <td>NaN</td>\n",
              "      <td>NaN</td>\n",
              "      <td>NaN</td>\n",
              "      <td>NaN</td>\n",
              "      <td>NaN</td>\n",
              "      <td>NaN</td>\n",
              "      <td>NaN</td>\n",
              "      <td>NaN</td>\n",
              "      <td>NaN</td>\n",
              "      <td>NaN</td>\n",
              "      <td>NaN</td>\n",
              "      <td>...</td>\n",
              "      <td>NaN</td>\n",
              "      <td>NaN</td>\n",
              "      <td>NaN</td>\n",
              "      <td>NaN</td>\n",
              "      <td>NaN</td>\n",
              "      <td>NaN</td>\n",
              "      <td>NaN</td>\n",
              "      <td>NaN</td>\n",
              "      <td>NaN</td>\n",
              "      <td>NaN</td>\n",
              "      <td>NaN</td>\n",
              "      <td>NaN</td>\n",
              "      <td>NaN</td>\n",
              "      <td>NaN</td>\n",
              "      <td>NaN</td>\n",
              "      <td>NaN</td>\n",
              "      <td>NaN</td>\n",
              "      <td>NaN</td>\n",
              "      <td>NaN</td>\n",
              "      <td>NaN</td>\n",
              "      <td>NaN</td>\n",
              "      <td>NaN</td>\n",
              "      <td>NaN</td>\n",
              "      <td>NaN</td>\n",
              "      <td>NaN</td>\n",
              "      <td>NaN</td>\n",
              "      <td>NaN</td>\n",
              "      <td>NaN</td>\n",
              "      <td>NaN</td>\n",
              "      <td>NaN</td>\n",
              "      <td>NaN</td>\n",
              "      <td>NaN</td>\n",
              "      <td>NaN</td>\n",
              "      <td>NaN</td>\n",
              "      <td>NaN</td>\n",
              "      <td>NaN</td>\n",
              "      <td>NaN</td>\n",
              "      <td>NaN</td>\n",
              "      <td>NaN</td>\n",
              "      <td>NaN</td>\n",
              "    </tr>\n",
              "    <tr>\n",
              "      <th>...</th>\n",
              "      <td>...</td>\n",
              "      <td>...</td>\n",
              "      <td>...</td>\n",
              "      <td>...</td>\n",
              "      <td>...</td>\n",
              "      <td>...</td>\n",
              "      <td>...</td>\n",
              "      <td>...</td>\n",
              "      <td>...</td>\n",
              "      <td>...</td>\n",
              "      <td>...</td>\n",
              "      <td>...</td>\n",
              "      <td>...</td>\n",
              "      <td>...</td>\n",
              "      <td>...</td>\n",
              "      <td>...</td>\n",
              "      <td>...</td>\n",
              "      <td>...</td>\n",
              "      <td>...</td>\n",
              "      <td>...</td>\n",
              "      <td>...</td>\n",
              "      <td>...</td>\n",
              "      <td>...</td>\n",
              "      <td>...</td>\n",
              "      <td>...</td>\n",
              "      <td>...</td>\n",
              "      <td>...</td>\n",
              "      <td>...</td>\n",
              "      <td>...</td>\n",
              "      <td>...</td>\n",
              "      <td>...</td>\n",
              "      <td>...</td>\n",
              "      <td>...</td>\n",
              "      <td>...</td>\n",
              "      <td>...</td>\n",
              "      <td>...</td>\n",
              "      <td>...</td>\n",
              "      <td>...</td>\n",
              "      <td>...</td>\n",
              "      <td>...</td>\n",
              "      <td>...</td>\n",
              "      <td>...</td>\n",
              "      <td>...</td>\n",
              "      <td>...</td>\n",
              "      <td>...</td>\n",
              "      <td>...</td>\n",
              "      <td>...</td>\n",
              "      <td>...</td>\n",
              "      <td>...</td>\n",
              "      <td>...</td>\n",
              "      <td>...</td>\n",
              "      <td>...</td>\n",
              "      <td>...</td>\n",
              "      <td>...</td>\n",
              "      <td>...</td>\n",
              "      <td>...</td>\n",
              "      <td>...</td>\n",
              "      <td>...</td>\n",
              "      <td>...</td>\n",
              "      <td>...</td>\n",
              "      <td>...</td>\n",
              "      <td>...</td>\n",
              "      <td>...</td>\n",
              "      <td>...</td>\n",
              "      <td>...</td>\n",
              "      <td>...</td>\n",
              "      <td>...</td>\n",
              "      <td>...</td>\n",
              "      <td>...</td>\n",
              "      <td>...</td>\n",
              "      <td>...</td>\n",
              "      <td>...</td>\n",
              "      <td>...</td>\n",
              "      <td>...</td>\n",
              "      <td>...</td>\n",
              "      <td>...</td>\n",
              "      <td>...</td>\n",
              "      <td>...</td>\n",
              "      <td>...</td>\n",
              "      <td>...</td>\n",
              "      <td>...</td>\n",
              "    </tr>\n",
              "    <tr>\n",
              "      <th>588</th>\n",
              "      <td>10/8/2021</td>\n",
              "      <td>17189</td>\n",
              "      <td>68463</td>\n",
              "      <td>NaN</td>\n",
              "      <td>NaN</td>\n",
              "      <td>NaN</td>\n",
              "      <td>NaN</td>\n",
              "      <td>NaN</td>\n",
              "      <td>NaN</td>\n",
              "      <td>NaN</td>\n",
              "      <td>NaN</td>\n",
              "      <td>NaN</td>\n",
              "      <td>NaN</td>\n",
              "      <td>NaN</td>\n",
              "      <td>NaN</td>\n",
              "      <td>NaN</td>\n",
              "      <td>NaN</td>\n",
              "      <td>NaN</td>\n",
              "      <td>NaN</td>\n",
              "      <td>NaN</td>\n",
              "      <td>NaN</td>\n",
              "      <td>NaN</td>\n",
              "      <td>NaN</td>\n",
              "      <td>NaN</td>\n",
              "      <td>NaN</td>\n",
              "      <td>NaN</td>\n",
              "      <td>NaN</td>\n",
              "      <td>NaN</td>\n",
              "      <td>NaN</td>\n",
              "      <td>NaN</td>\n",
              "      <td>NaN</td>\n",
              "      <td>NaN</td>\n",
              "      <td>NaN</td>\n",
              "      <td>NaN</td>\n",
              "      <td>NaN</td>\n",
              "      <td>NaN</td>\n",
              "      <td>NaN</td>\n",
              "      <td>NaN</td>\n",
              "      <td>NaN</td>\n",
              "      <td>NaN</td>\n",
              "      <td>...</td>\n",
              "      <td>NaN</td>\n",
              "      <td>NaN</td>\n",
              "      <td>NaN</td>\n",
              "      <td>NaN</td>\n",
              "      <td>NaN</td>\n",
              "      <td>NaN</td>\n",
              "      <td>NaN</td>\n",
              "      <td>NaN</td>\n",
              "      <td>NaN</td>\n",
              "      <td>NaN</td>\n",
              "      <td>NaN</td>\n",
              "      <td>NaN</td>\n",
              "      <td>NaN</td>\n",
              "      <td>NaN</td>\n",
              "      <td>NaN</td>\n",
              "      <td>NaN</td>\n",
              "      <td>NaN</td>\n",
              "      <td>NaN</td>\n",
              "      <td>NaN</td>\n",
              "      <td>NaN</td>\n",
              "      <td>NaN</td>\n",
              "      <td>NaN</td>\n",
              "      <td>NaN</td>\n",
              "      <td>NaN</td>\n",
              "      <td>NaN</td>\n",
              "      <td>NaN</td>\n",
              "      <td>NaN</td>\n",
              "      <td>NaN</td>\n",
              "      <td>NaN</td>\n",
              "      <td>NaN</td>\n",
              "      <td>NaN</td>\n",
              "      <td>NaN</td>\n",
              "      <td>NaN</td>\n",
              "      <td>NaN</td>\n",
              "      <td>NaN</td>\n",
              "      <td>NaN</td>\n",
              "      <td>NaN</td>\n",
              "      <td>NaN</td>\n",
              "      <td>NaN</td>\n",
              "      <td>NaN</td>\n",
              "    </tr>\n",
              "    <tr>\n",
              "      <th>589</th>\n",
              "      <td>11/8/2021</td>\n",
              "      <td>16328</td>\n",
              "      <td>66851</td>\n",
              "      <td>NaN</td>\n",
              "      <td>NaN</td>\n",
              "      <td>NaN</td>\n",
              "      <td>NaN</td>\n",
              "      <td>NaN</td>\n",
              "      <td>NaN</td>\n",
              "      <td>NaN</td>\n",
              "      <td>NaN</td>\n",
              "      <td>NaN</td>\n",
              "      <td>NaN</td>\n",
              "      <td>NaN</td>\n",
              "      <td>NaN</td>\n",
              "      <td>NaN</td>\n",
              "      <td>NaN</td>\n",
              "      <td>NaN</td>\n",
              "      <td>NaN</td>\n",
              "      <td>NaN</td>\n",
              "      <td>NaN</td>\n",
              "      <td>NaN</td>\n",
              "      <td>NaN</td>\n",
              "      <td>NaN</td>\n",
              "      <td>NaN</td>\n",
              "      <td>NaN</td>\n",
              "      <td>NaN</td>\n",
              "      <td>NaN</td>\n",
              "      <td>NaN</td>\n",
              "      <td>NaN</td>\n",
              "      <td>NaN</td>\n",
              "      <td>NaN</td>\n",
              "      <td>NaN</td>\n",
              "      <td>NaN</td>\n",
              "      <td>NaN</td>\n",
              "      <td>NaN</td>\n",
              "      <td>NaN</td>\n",
              "      <td>NaN</td>\n",
              "      <td>NaN</td>\n",
              "      <td>NaN</td>\n",
              "      <td>...</td>\n",
              "      <td>NaN</td>\n",
              "      <td>NaN</td>\n",
              "      <td>NaN</td>\n",
              "      <td>NaN</td>\n",
              "      <td>NaN</td>\n",
              "      <td>NaN</td>\n",
              "      <td>NaN</td>\n",
              "      <td>NaN</td>\n",
              "      <td>NaN</td>\n",
              "      <td>NaN</td>\n",
              "      <td>NaN</td>\n",
              "      <td>NaN</td>\n",
              "      <td>NaN</td>\n",
              "      <td>NaN</td>\n",
              "      <td>NaN</td>\n",
              "      <td>NaN</td>\n",
              "      <td>NaN</td>\n",
              "      <td>NaN</td>\n",
              "      <td>NaN</td>\n",
              "      <td>NaN</td>\n",
              "      <td>NaN</td>\n",
              "      <td>NaN</td>\n",
              "      <td>NaN</td>\n",
              "      <td>NaN</td>\n",
              "      <td>NaN</td>\n",
              "      <td>NaN</td>\n",
              "      <td>NaN</td>\n",
              "      <td>NaN</td>\n",
              "      <td>NaN</td>\n",
              "      <td>NaN</td>\n",
              "      <td>NaN</td>\n",
              "      <td>NaN</td>\n",
              "      <td>NaN</td>\n",
              "      <td>NaN</td>\n",
              "      <td>NaN</td>\n",
              "      <td>NaN</td>\n",
              "      <td>NaN</td>\n",
              "      <td>NaN</td>\n",
              "      <td>NaN</td>\n",
              "      <td>NaN</td>\n",
              "    </tr>\n",
              "    <tr>\n",
              "      <th>590</th>\n",
              "      <td>12/8/2021</td>\n",
              "      <td>15080</td>\n",
              "      <td>57353</td>\n",
              "      <td>NaN</td>\n",
              "      <td>NaN</td>\n",
              "      <td>NaN</td>\n",
              "      <td>NaN</td>\n",
              "      <td>NaN</td>\n",
              "      <td>NaN</td>\n",
              "      <td>NaN</td>\n",
              "      <td>NaN</td>\n",
              "      <td>NaN</td>\n",
              "      <td>NaN</td>\n",
              "      <td>NaN</td>\n",
              "      <td>NaN</td>\n",
              "      <td>NaN</td>\n",
              "      <td>NaN</td>\n",
              "      <td>NaN</td>\n",
              "      <td>NaN</td>\n",
              "      <td>NaN</td>\n",
              "      <td>NaN</td>\n",
              "      <td>NaN</td>\n",
              "      <td>NaN</td>\n",
              "      <td>NaN</td>\n",
              "      <td>NaN</td>\n",
              "      <td>NaN</td>\n",
              "      <td>NaN</td>\n",
              "      <td>NaN</td>\n",
              "      <td>NaN</td>\n",
              "      <td>NaN</td>\n",
              "      <td>NaN</td>\n",
              "      <td>NaN</td>\n",
              "      <td>NaN</td>\n",
              "      <td>NaN</td>\n",
              "      <td>NaN</td>\n",
              "      <td>NaN</td>\n",
              "      <td>NaN</td>\n",
              "      <td>NaN</td>\n",
              "      <td>NaN</td>\n",
              "      <td>NaN</td>\n",
              "      <td>...</td>\n",
              "      <td>NaN</td>\n",
              "      <td>NaN</td>\n",
              "      <td>NaN</td>\n",
              "      <td>NaN</td>\n",
              "      <td>NaN</td>\n",
              "      <td>NaN</td>\n",
              "      <td>NaN</td>\n",
              "      <td>NaN</td>\n",
              "      <td>NaN</td>\n",
              "      <td>NaN</td>\n",
              "      <td>NaN</td>\n",
              "      <td>NaN</td>\n",
              "      <td>NaN</td>\n",
              "      <td>NaN</td>\n",
              "      <td>NaN</td>\n",
              "      <td>NaN</td>\n",
              "      <td>NaN</td>\n",
              "      <td>NaN</td>\n",
              "      <td>NaN</td>\n",
              "      <td>NaN</td>\n",
              "      <td>NaN</td>\n",
              "      <td>NaN</td>\n",
              "      <td>NaN</td>\n",
              "      <td>NaN</td>\n",
              "      <td>NaN</td>\n",
              "      <td>NaN</td>\n",
              "      <td>NaN</td>\n",
              "      <td>NaN</td>\n",
              "      <td>NaN</td>\n",
              "      <td>NaN</td>\n",
              "      <td>NaN</td>\n",
              "      <td>NaN</td>\n",
              "      <td>NaN</td>\n",
              "      <td>NaN</td>\n",
              "      <td>NaN</td>\n",
              "      <td>NaN</td>\n",
              "      <td>NaN</td>\n",
              "      <td>NaN</td>\n",
              "      <td>NaN</td>\n",
              "      <td>NaN</td>\n",
              "    </tr>\n",
              "    <tr>\n",
              "      <th>591</th>\n",
              "      <td>13/8/2021</td>\n",
              "      <td>12929</td>\n",
              "      <td>52063</td>\n",
              "      <td>NaN</td>\n",
              "      <td>NaN</td>\n",
              "      <td>NaN</td>\n",
              "      <td>NaN</td>\n",
              "      <td>NaN</td>\n",
              "      <td>NaN</td>\n",
              "      <td>NaN</td>\n",
              "      <td>NaN</td>\n",
              "      <td>NaN</td>\n",
              "      <td>NaN</td>\n",
              "      <td>NaN</td>\n",
              "      <td>NaN</td>\n",
              "      <td>NaN</td>\n",
              "      <td>NaN</td>\n",
              "      <td>NaN</td>\n",
              "      <td>NaN</td>\n",
              "      <td>NaN</td>\n",
              "      <td>NaN</td>\n",
              "      <td>NaN</td>\n",
              "      <td>NaN</td>\n",
              "      <td>NaN</td>\n",
              "      <td>NaN</td>\n",
              "      <td>NaN</td>\n",
              "      <td>NaN</td>\n",
              "      <td>NaN</td>\n",
              "      <td>NaN</td>\n",
              "      <td>NaN</td>\n",
              "      <td>NaN</td>\n",
              "      <td>NaN</td>\n",
              "      <td>NaN</td>\n",
              "      <td>NaN</td>\n",
              "      <td>NaN</td>\n",
              "      <td>NaN</td>\n",
              "      <td>NaN</td>\n",
              "      <td>NaN</td>\n",
              "      <td>NaN</td>\n",
              "      <td>NaN</td>\n",
              "      <td>...</td>\n",
              "      <td>NaN</td>\n",
              "      <td>NaN</td>\n",
              "      <td>NaN</td>\n",
              "      <td>NaN</td>\n",
              "      <td>NaN</td>\n",
              "      <td>NaN</td>\n",
              "      <td>NaN</td>\n",
              "      <td>NaN</td>\n",
              "      <td>NaN</td>\n",
              "      <td>NaN</td>\n",
              "      <td>NaN</td>\n",
              "      <td>NaN</td>\n",
              "      <td>NaN</td>\n",
              "      <td>NaN</td>\n",
              "      <td>NaN</td>\n",
              "      <td>NaN</td>\n",
              "      <td>NaN</td>\n",
              "      <td>NaN</td>\n",
              "      <td>NaN</td>\n",
              "      <td>NaN</td>\n",
              "      <td>NaN</td>\n",
              "      <td>NaN</td>\n",
              "      <td>NaN</td>\n",
              "      <td>NaN</td>\n",
              "      <td>NaN</td>\n",
              "      <td>NaN</td>\n",
              "      <td>NaN</td>\n",
              "      <td>NaN</td>\n",
              "      <td>NaN</td>\n",
              "      <td>NaN</td>\n",
              "      <td>NaN</td>\n",
              "      <td>NaN</td>\n",
              "      <td>NaN</td>\n",
              "      <td>NaN</td>\n",
              "      <td>NaN</td>\n",
              "      <td>NaN</td>\n",
              "      <td>NaN</td>\n",
              "      <td>NaN</td>\n",
              "      <td>NaN</td>\n",
              "      <td>NaN</td>\n",
              "    </tr>\n",
              "    <tr>\n",
              "      <th>592</th>\n",
              "      <td>14/8/2021</td>\n",
              "      <td>14557</td>\n",
              "      <td>58471</td>\n",
              "      <td>NaN</td>\n",
              "      <td>NaN</td>\n",
              "      <td>NaN</td>\n",
              "      <td>NaN</td>\n",
              "      <td>NaN</td>\n",
              "      <td>NaN</td>\n",
              "      <td>NaN</td>\n",
              "      <td>NaN</td>\n",
              "      <td>NaN</td>\n",
              "      <td>NaN</td>\n",
              "      <td>NaN</td>\n",
              "      <td>NaN</td>\n",
              "      <td>NaN</td>\n",
              "      <td>NaN</td>\n",
              "      <td>NaN</td>\n",
              "      <td>NaN</td>\n",
              "      <td>NaN</td>\n",
              "      <td>NaN</td>\n",
              "      <td>NaN</td>\n",
              "      <td>NaN</td>\n",
              "      <td>NaN</td>\n",
              "      <td>NaN</td>\n",
              "      <td>NaN</td>\n",
              "      <td>NaN</td>\n",
              "      <td>NaN</td>\n",
              "      <td>NaN</td>\n",
              "      <td>NaN</td>\n",
              "      <td>NaN</td>\n",
              "      <td>NaN</td>\n",
              "      <td>NaN</td>\n",
              "      <td>NaN</td>\n",
              "      <td>NaN</td>\n",
              "      <td>NaN</td>\n",
              "      <td>NaN</td>\n",
              "      <td>NaN</td>\n",
              "      <td>NaN</td>\n",
              "      <td>NaN</td>\n",
              "      <td>...</td>\n",
              "      <td>NaN</td>\n",
              "      <td>NaN</td>\n",
              "      <td>NaN</td>\n",
              "      <td>NaN</td>\n",
              "      <td>NaN</td>\n",
              "      <td>NaN</td>\n",
              "      <td>NaN</td>\n",
              "      <td>NaN</td>\n",
              "      <td>NaN</td>\n",
              "      <td>NaN</td>\n",
              "      <td>NaN</td>\n",
              "      <td>NaN</td>\n",
              "      <td>NaN</td>\n",
              "      <td>NaN</td>\n",
              "      <td>NaN</td>\n",
              "      <td>NaN</td>\n",
              "      <td>NaN</td>\n",
              "      <td>NaN</td>\n",
              "      <td>NaN</td>\n",
              "      <td>NaN</td>\n",
              "      <td>NaN</td>\n",
              "      <td>NaN</td>\n",
              "      <td>NaN</td>\n",
              "      <td>NaN</td>\n",
              "      <td>NaN</td>\n",
              "      <td>NaN</td>\n",
              "      <td>NaN</td>\n",
              "      <td>NaN</td>\n",
              "      <td>NaN</td>\n",
              "      <td>NaN</td>\n",
              "      <td>NaN</td>\n",
              "      <td>NaN</td>\n",
              "      <td>NaN</td>\n",
              "      <td>NaN</td>\n",
              "      <td>NaN</td>\n",
              "      <td>NaN</td>\n",
              "      <td>NaN</td>\n",
              "      <td>NaN</td>\n",
              "      <td>NaN</td>\n",
              "      <td>NaN</td>\n",
              "    </tr>\n",
              "  </tbody>\n",
              "</table>\n",
              "<p>593 rows × 122 columns</p>\n",
              "</div>"
            ],
            "text/plain": [
              "                    Date  positive  ...  Unnamed: 120  Unnamed: 121\n",
              "0    Cannot specify date      2963  ...           NaN           NaN\n",
              "1               1/1/2020         0  ...            31           NaN\n",
              "2               2/1/2020         0  ...           Pos           Pos\n",
              "3               3/1/2020         0  ...           NaN           NaN\n",
              "4               4/1/2020         0  ...           NaN           NaN\n",
              "..                   ...       ...  ...           ...           ...\n",
              "588            10/8/2021     17189  ...           NaN           NaN\n",
              "589            11/8/2021     16328  ...           NaN           NaN\n",
              "590            12/8/2021     15080  ...           NaN           NaN\n",
              "591            13/8/2021     12929  ...           NaN           NaN\n",
              "592            14/8/2021     14557  ...           NaN           NaN\n",
              "\n",
              "[593 rows x 122 columns]"
            ]
          },
          "metadata": {
            "tags": []
          },
          "execution_count": 6
        }
      ]
    },
    {
      "cell_type": "code",
      "metadata": {
        "colab": {
          "base_uri": "https://localhost:8080/",
          "height": 415
        },
        "id": "fXCFXgHOCxTb",
        "outputId": "36cd8985-15a3-4eb8-88b3-832c10f6aa69"
      },
      "source": [
        "data = data_covid.iloc[1:,:3]\n",
        "data"
      ],
      "execution_count": null,
      "outputs": [
        {
          "output_type": "execute_result",
          "data": {
            "text/html": [
              "<div>\n",
              "<style scoped>\n",
              "    .dataframe tbody tr th:only-of-type {\n",
              "        vertical-align: middle;\n",
              "    }\n",
              "\n",
              "    .dataframe tbody tr th {\n",
              "        vertical-align: top;\n",
              "    }\n",
              "\n",
              "    .dataframe thead th {\n",
              "        text-align: right;\n",
              "    }\n",
              "</style>\n",
              "<table border=\"1\" class=\"dataframe\">\n",
              "  <thead>\n",
              "    <tr style=\"text-align: right;\">\n",
              "      <th></th>\n",
              "      <th>Date</th>\n",
              "      <th>positive</th>\n",
              "      <th>Total Testing</th>\n",
              "    </tr>\n",
              "  </thead>\n",
              "  <tbody>\n",
              "    <tr>\n",
              "      <th>1</th>\n",
              "      <td>1/1/2020</td>\n",
              "      <td>0</td>\n",
              "      <td>0</td>\n",
              "    </tr>\n",
              "    <tr>\n",
              "      <th>2</th>\n",
              "      <td>2/1/2020</td>\n",
              "      <td>0</td>\n",
              "      <td>0</td>\n",
              "    </tr>\n",
              "    <tr>\n",
              "      <th>3</th>\n",
              "      <td>3/1/2020</td>\n",
              "      <td>0</td>\n",
              "      <td>0</td>\n",
              "    </tr>\n",
              "    <tr>\n",
              "      <th>4</th>\n",
              "      <td>4/1/2020</td>\n",
              "      <td>0</td>\n",
              "      <td>2</td>\n",
              "    </tr>\n",
              "    <tr>\n",
              "      <th>5</th>\n",
              "      <td>5/1/2020</td>\n",
              "      <td>0</td>\n",
              "      <td>2</td>\n",
              "    </tr>\n",
              "    <tr>\n",
              "      <th>...</th>\n",
              "      <td>...</td>\n",
              "      <td>...</td>\n",
              "      <td>...</td>\n",
              "    </tr>\n",
              "    <tr>\n",
              "      <th>588</th>\n",
              "      <td>10/8/2021</td>\n",
              "      <td>17189</td>\n",
              "      <td>68463</td>\n",
              "    </tr>\n",
              "    <tr>\n",
              "      <th>589</th>\n",
              "      <td>11/8/2021</td>\n",
              "      <td>16328</td>\n",
              "      <td>66851</td>\n",
              "    </tr>\n",
              "    <tr>\n",
              "      <th>590</th>\n",
              "      <td>12/8/2021</td>\n",
              "      <td>15080</td>\n",
              "      <td>57353</td>\n",
              "    </tr>\n",
              "    <tr>\n",
              "      <th>591</th>\n",
              "      <td>13/8/2021</td>\n",
              "      <td>12929</td>\n",
              "      <td>52063</td>\n",
              "    </tr>\n",
              "    <tr>\n",
              "      <th>592</th>\n",
              "      <td>14/8/2021</td>\n",
              "      <td>14557</td>\n",
              "      <td>58471</td>\n",
              "    </tr>\n",
              "  </tbody>\n",
              "</table>\n",
              "<p>592 rows × 3 columns</p>\n",
              "</div>"
            ],
            "text/plain": [
              "          Date  positive  Total Testing\n",
              "1     1/1/2020         0              0\n",
              "2     2/1/2020         0              0\n",
              "3     3/1/2020         0              0\n",
              "4     4/1/2020         0              2\n",
              "5     5/1/2020         0              2\n",
              "..         ...       ...            ...\n",
              "588  10/8/2021     17189          68463\n",
              "589  11/8/2021     16328          66851\n",
              "590  12/8/2021     15080          57353\n",
              "591  13/8/2021     12929          52063\n",
              "592  14/8/2021     14557          58471\n",
              "\n",
              "[592 rows x 3 columns]"
            ]
          },
          "metadata": {
            "tags": []
          },
          "execution_count": 7
        }
      ]
    },
    {
      "cell_type": "markdown",
      "metadata": {
        "id": "MW1JmBwEDh7i"
      },
      "source": [
        "#visualization\n",
        "\n",
        "*   Boxplot  (อยู่ใน Data prepossesing)\n",
        "*   Scatter plot\n",
        "*   Plot\n",
        "*   Bar chart\n",
        "*   Histogram\n",
        "\n",
        "\n",
        "\n",
        "\n",
        "\n",
        "\n"
      ]
    },
    {
      "cell_type": "code",
      "metadata": {
        "id": "NEnZV5gjD2ob"
      },
      "source": [
        "from matplotlib import pyplot as plt"
      ],
      "execution_count": null,
      "outputs": []
    },
    {
      "cell_type": "markdown",
      "metadata": {
        "id": "_qfmBY9lEElt"
      },
      "source": [
        "##Scatter plot\n",
        "https://matplotlib.org/stable/api/_as_gen/matplotlib.pyplot.scatter.html"
      ]
    },
    {
      "cell_type": "code",
      "metadata": {
        "colab": {
          "base_uri": "https://localhost:8080/"
        },
        "id": "ePclUL6nE63X",
        "outputId": "c4969f61-31f1-4ead-bef6-48c2cc9f7076"
      },
      "source": [
        "list(range(len(data.iloc[-20:,1])))  "
      ],
      "execution_count": null,
      "outputs": [
        {
          "output_type": "execute_result",
          "data": {
            "text/plain": [
              "[0, 1, 2, 3, 4, 5, 6, 7, 8, 9, 10, 11, 12, 13, 14, 15, 16, 17, 18, 19]"
            ]
          },
          "metadata": {
            "tags": []
          },
          "execution_count": 12
        }
      ]
    },
    {
      "cell_type": "code",
      "metadata": {
        "colab": {
          "base_uri": "https://localhost:8080/"
        },
        "id": "mnExIF7EFLWg",
        "outputId": "5aab45f3-9f70-4a41-b598-7524549512d1"
      },
      "source": [
        "data.iloc[-20:,1]"
      ],
      "execution_count": null,
      "outputs": [
        {
          "output_type": "execute_result",
          "data": {
            "text/plain": [
              "573    13575\n",
              "574    12744\n",
              "575    14303\n",
              "576    16797\n",
              "577    15283\n",
              "578    14161\n",
              "579    13214\n",
              "580    13845\n",
              "581    18316\n",
              "582    17863\n",
              "583    16632\n",
              "584    12278\n",
              "585    13781\n",
              "586    13028\n",
              "587    14064\n",
              "588    17189\n",
              "589    16328\n",
              "590    15080\n",
              "591    12929\n",
              "592    14557\n",
              "Name: positive, dtype: int64"
            ]
          },
          "metadata": {
            "tags": []
          },
          "execution_count": 13
        }
      ]
    },
    {
      "cell_type": "code",
      "metadata": {
        "colab": {
          "base_uri": "https://localhost:8080/",
          "height": 281
        },
        "id": "nD1FLe9kD86t",
        "outputId": "5b843e77-8fbb-45fa-ac98-ebd9878a0d59"
      },
      "source": [
        "plt.scatter(range(len(data.iloc[-20:,1])),data.iloc[-20:,1])  ##ใช้ค่า default"
      ],
      "execution_count": null,
      "outputs": [
        {
          "output_type": "execute_result",
          "data": {
            "text/plain": [
              "<matplotlib.collections.PathCollection at 0x7f257217c4d0>"
            ]
          },
          "metadata": {
            "tags": []
          },
          "execution_count": 11
        },
        {
          "output_type": "display_data",
          "data": {
            "image/png": "[encoded data removed]",
            "text/plain": [
              "<Figure size 432x288 with 1 Axes>"
            ]
          },
          "metadata": {
            "tags": [],
            "needs_background": "light"
          }
        }
      ]
    },
    {
      "cell_type": "code",
      "metadata": {
        "colab": {
          "base_uri": "https://localhost:8080/",
          "height": 281
        },
        "id": "wHEJktVwFgfV",
        "outputId": "2b465054-5297-445a-b17f-b4bc5c4f4c9f"
      },
      "source": [
        "plt.scatter(range(len(data.iloc[-20:,1])),data.iloc[-20:,1],s=100)  #s=maker size"
      ],
      "execution_count": null,
      "outputs": [
        {
          "output_type": "execute_result",
          "data": {
            "text/plain": [
              "<matplotlib.collections.PathCollection at 0x7f25720b0d50>"
            ]
          },
          "metadata": {
            "tags": []
          },
          "execution_count": 15
        },
        {
          "output_type": "display_data",
          "data": {
            "image/png": "[encoded data removed]",
            "text/plain": [
              "<Figure size 432x288 with 1 Axes>"
            ]
          },
          "metadata": {
            "tags": [],
            "needs_background": "light"
          }
        }
      ]
    },
    {
      "cell_type": "code",
      "metadata": {
        "colab": {
          "base_uri": "https://localhost:8080/",
          "height": 281
        },
        "id": "IH1RMsKoF7m5",
        "outputId": "b4bd7c3a-a5d2-4b28-b9b6-3691f3eac5fa"
      },
      "source": [
        "plt.scatter(range(len(data.iloc[-20:,1])),data.iloc[-20:,1],s=0.02*data.iloc[-20:,2])"
      ],
      "execution_count": null,
      "outputs": [
        {
          "output_type": "execute_result",
          "data": {
            "text/plain": [
              "<matplotlib.collections.PathCollection at 0x7f257105cd10>"
            ]
          },
          "metadata": {
            "tags": []
          },
          "execution_count": 18
        },
        {
          "output_type": "display_data",
          "data": {
            "image/png": "[encoded data removed]",
            "text/plain": [
              "<Figure size 432x288 with 1 Axes>"
            ]
          },
          "metadata": {
            "tags": [],
            "needs_background": "light"
          }
        }
      ]
    },
    {
      "cell_type": "code",
      "metadata": {
        "colab": {
          "base_uri": "https://localhost:8080/",
          "height": 281
        },
        "id": "nxh_dhClGUw2",
        "outputId": "010775ff-3953-48e5-8462-12acbd6b8d76"
      },
      "source": [
        "plt.scatter(range(len(data.iloc[::50,1])),data.iloc[::50,1],s=0.03*data.iloc[::50,2]) #dataวันแรกจนถึงวันสุดท้ายแต่กระโดดทีละ 50 วัน"
      ],
      "execution_count": null,
      "outputs": [
        {
          "output_type": "execute_result",
          "data": {
            "text/plain": [
              "<matplotlib.collections.PathCollection at 0x7f2570eba510>"
            ]
          },
          "metadata": {
            "tags": []
          },
          "execution_count": 21
        },
        {
          "output_type": "display_data",
          "data": {
            "image/png": "[encoded data removed]",
            "text/plain": [
              "<Figure size 432x288 with 1 Axes>"
            ]
          },
          "metadata": {
            "tags": [],
            "needs_background": "light"
          }
        }
      ]
    },
    {
      "cell_type": "code",
      "metadata": {
        "colab": {
          "base_uri": "https://localhost:8080/",
          "height": 281
        },
        "id": "RJBJnP6qICFd",
        "outputId": "c856554a-fbd7-4a48-e9ed-0d22f5cc4efb"
      },
      "source": [
        "plt.scatter(range(len(data.iloc[::50,1])),data.iloc[::50,1],s=0.03*data.iloc[::50,2],c='r') ##color : r g b c m y k w  ค่าสีกำหนดเป็นตัวย่อ"
      ],
      "execution_count": null,
      "outputs": [
        {
          "output_type": "execute_result",
          "data": {
            "text/plain": [
              "<matplotlib.collections.PathCollection at 0x7f2570e09e50>"
            ]
          },
          "metadata": {
            "tags": []
          },
          "execution_count": 22
        },
        {
          "output_type": "display_data",
          "data": {
            "image/png": "[encoded data removed]",
            "text/plain": [
              "<Figure size 432x288 with 1 Axes>"
            ]
          },
          "metadata": {
            "tags": [],
            "needs_background": "light"
          }
        }
      ]
    },
    {
      "cell_type": "code",
      "metadata": {
        "colab": {
          "base_uri": "https://localhost:8080/",
          "height": 281
        },
        "id": "alMAlk3KIOC8",
        "outputId": "34e23cdc-863d-4c35-b5a6-963e257fb765"
      },
      "source": [
        "plt.scatter(range(len(data.iloc[::50,1])),data.iloc[::50,1],s=0.03*data.iloc[::50,2],c=['r','r','r','g','g','g','b','b','b','c','m','k'])  #กำหนดค่าให้แต่ละจุดโดยต้องกำหนดค่าให้ตรงตามจำนวนจุด"
      ],
      "execution_count": null,
      "outputs": [
        {
          "output_type": "execute_result",
          "data": {
            "text/plain": [
              "<matplotlib.collections.PathCollection at 0x7f2570e09dd0>"
            ]
          },
          "metadata": {
            "tags": []
          },
          "execution_count": 23
        },
        {
          "output_type": "display_data",
          "data": {
            "image/png": "[encoded data removed]",
            "text/plain": [
              "<Figure size 432x288 with 1 Axes>"
            ]
          },
          "metadata": {
            "tags": [],
            "needs_background": "light"
          }
        }
      ]
    },
    {
      "cell_type": "code",
      "metadata": {
        "colab": {
          "base_uri": "https://localhost:8080/",
          "height": 281
        },
        "id": "nk4JfL--Iu7S",
        "outputId": "f544948d-6af0-49f0-b573-16a80292d5a1"
      },
      "source": [
        "plt.scatter(range(len(data.iloc[::50,1])),data.iloc[::50,1],s=0.03*data.iloc[::50,2],c=[[1.,0.5,0]]) #กำหนดสีแบบที่ 2 คือกำหนดแบบ rgb  ## rgb [[r,g,b]] r,g,b = [0-1]"
      ],
      "execution_count": null,
      "outputs": [
        {
          "output_type": "execute_result",
          "data": {
            "text/plain": [
              "<matplotlib.collections.PathCollection at 0x7f2570d847d0>"
            ]
          },
          "metadata": {
            "tags": []
          },
          "execution_count": 24
        },
        {
          "output_type": "display_data",
          "data": {
            "image/png": "[encoded data removed]",
            "text/plain": [
              "<Figure size 432x288 with 1 Axes>"
            ]
          },
          "metadata": {
            "tags": [],
            "needs_background": "light"
          }
        }
      ]
    },
    {
      "cell_type": "code",
      "metadata": {
        "colab": {
          "base_uri": "https://localhost:8080/",
          "height": 281
        },
        "id": "QRGX_bIJI9a6",
        "outputId": "ca8da345-ed29-42aa-9e11-68118e7901ad"
      },
      "source": [
        "plt.scatter(range(len(data.iloc[::50,1])),data.iloc[::50,1],s=0.03*data.iloc[::50,2],c=[[1.,0.2,0]])  #rgb"
      ],
      "execution_count": null,
      "outputs": [
        {
          "output_type": "execute_result",
          "data": {
            "text/plain": [
              "<matplotlib.collections.PathCollection at 0x7f2570cd3fd0>"
            ]
          },
          "metadata": {
            "tags": []
          },
          "execution_count": 25
        },
        {
          "output_type": "display_data",
          "data": {
            "image/png": "[encoded data removed]",
            "text/plain": [
              "<Figure size 432x288 with 1 Axes>"
            ]
          },
          "metadata": {
            "tags": [],
            "needs_background": "light"
          }
        }
      ]
    },
    {
      "cell_type": "code",
      "metadata": {
        "colab": {
          "base_uri": "https://localhost:8080/",
          "height": 281
        },
        "id": "LqM2Axy7JCR6",
        "outputId": "ec604e71-639d-443d-812a-290702bd167c"
      },
      "source": [
        "plt.scatter(range(len(data.iloc[::50,1])),data.iloc[::50,1],s=300,c=0.03*data.iloc[::50,2])  #กำหนดสีแบบที่ 3 =ใช้ค่าตัวเลข"
      ],
      "execution_count": null,
      "outputs": [
        {
          "output_type": "execute_result",
          "data": {
            "text/plain": [
              "<matplotlib.collections.PathCollection at 0x7f2570cd3f90>"
            ]
          },
          "metadata": {
            "tags": []
          },
          "execution_count": 28
        },
        {
          "output_type": "display_data",
          "data": {
            "image/png": "[encoded data removed]",
            "text/plain": [
              "<Figure size 432x288 with 1 Axes>"
            ]
          },
          "metadata": {
            "tags": [],
            "needs_background": "light"
          }
        }
      ]
    },
    {
      "cell_type": "code",
      "metadata": {
        "colab": {
          "base_uri": "https://localhost:8080/",
          "height": 281
        },
        "id": "MK83ZoETK-_K",
        "outputId": "96f36efc-433f-419d-bf37-bf2ea3b474e5"
      },
      "source": [
        "plt.scatter(range(len(data.iloc[::50,1])),data.iloc[::50,1],s=300,c=0.03*data.iloc[::50,2],cmap='YlOrRd')  #ใช้ค่าตัวเลข + cmap"
      ],
      "execution_count": null,
      "outputs": [
        {
          "output_type": "execute_result",
          "data": {
            "text/plain": [
              "<matplotlib.collections.PathCollection at 0x7f2570bbd1d0>"
            ]
          },
          "metadata": {
            "tags": []
          },
          "execution_count": 30
        },
        {
          "output_type": "display_data",
          "data": {
            "image/png": "[encoded data removed]",
            "text/plain": [
              "<Figure size 432x288 with 1 Axes>"
            ]
          },
          "metadata": {
            "tags": [],
            "needs_background": "light"
          }
        }
      ]
    },
    {
      "cell_type": "code",
      "metadata": {
        "colab": {
          "base_uri": "https://localhost:8080/",
          "height": 281
        },
        "id": "gJHaNLL7MP3-",
        "outputId": "16ada557-83c4-4242-937c-7a351aa85b6c"
      },
      "source": [
        "plt.scatter(range(len(data.iloc[::50,1])),data.iloc[::50,1],s=300,c=0.03*data.iloc[::50,2],cmap='YlOrRd',marker='d')  #หน้าตาของ Maker"
      ],
      "execution_count": null,
      "outputs": [
        {
          "output_type": "execute_result",
          "data": {
            "text/plain": [
              "<matplotlib.collections.PathCollection at 0x7f2571024490>"
            ]
          },
          "metadata": {
            "tags": []
          },
          "execution_count": 31
        },
        {
          "output_type": "display_data",
          "data": {
            "image/png": "[encoded data removed]",
            "text/plain": [
              "<Figure size 432x288 with 1 Axes>"
            ]
          },
          "metadata": {
            "tags": [],
            "needs_background": "light"
          }
        }
      ]
    },
    {
      "cell_type": "code",
      "metadata": {
        "colab": {
          "base_uri": "https://localhost:8080/",
          "height": 281
        },
        "id": "6OymcqF8MrjI",
        "outputId": "35f8dd34-4e42-4215-95a0-0be69d31c77d"
      },
      "source": [
        "plt.scatter(range(len(data.iloc[::50,1])),data.iloc[::50,1],s=300,c=0.03*data.iloc[::50,2],cmap='YlOrRd',marker='$z$')  #หน้าตาของ Maker แบบกำหนดเอง"
      ],
      "execution_count": null,
      "outputs": [
        {
          "output_type": "execute_result",
          "data": {
            "text/plain": [
              "<matplotlib.collections.PathCollection at 0x7f2570ca2890>"
            ]
          },
          "metadata": {
            "tags": []
          },
          "execution_count": 32
        },
        {
          "output_type": "display_data",
          "data": {
            "image/png": "[encoded data removed]",
            "text/plain": [
              "<Figure size 432x288 with 1 Axes>"
            ]
          },
          "metadata": {
            "tags": [],
            "needs_background": "light"
          }
        }
      ]
    },
    {
      "cell_type": "code",
      "metadata": {
        "colab": {
          "base_uri": "https://localhost:8080/",
          "height": 281
        },
        "id": "5DCH7Ca1M32y",
        "outputId": "ce9c001a-3dea-4930-e1a3-ab5cb0586f2f"
      },
      "source": [
        "plt.scatter(range(len(data.iloc[::50,1])),data.iloc[::50,1],s=5500,c=[[1.,0.5,0]],alpha = 0.5)  #กำหนดความโปร่งแสง ตัว alphaคือความโปร่งแสงของรูป "
      ],
      "execution_count": null,
      "outputs": [
        {
          "output_type": "execute_result",
          "data": {
            "text/plain": [
              "<matplotlib.collections.PathCollection at 0x7f25709ff990>"
            ]
          },
          "metadata": {
            "tags": []
          },
          "execution_count": 34
        },
        {
          "output_type": "display_data",
          "data": {
            "image/png": "[encoded data removed]",
            "text/plain": [
              "<Figure size 432x288 with 1 Axes>"
            ]
          },
          "metadata": {
            "tags": [],
            "needs_background": "light"
          }
        }
      ]
    },
    {
      "cell_type": "markdown",
      "metadata": {
        "id": "tiTXThMQPmfC"
      },
      "source": [
        "##Plot\n",
        "Plot ต่างจาก Scater Plot ตรงที่มีการสร้างเส้นเชื่อมระหว่างจุด"
      ]
    },
    {
      "cell_type": "code",
      "metadata": {
        "colab": {
          "base_uri": "https://localhost:8080/",
          "height": 281
        },
        "id": "SfeP-DFsPoCC",
        "outputId": "dd4158a3-f4cb-45cb-ae7a-42409612adb4"
      },
      "source": [
        "plt.plot(range(len(data.iloc[::50,1])),data.iloc[::50,1])"
      ],
      "execution_count": null,
      "outputs": [
        {
          "output_type": "execute_result",
          "data": {
            "text/plain": [
              "[<matplotlib.lines.Line2D at 0x7f2570c47e10>]"
            ]
          },
          "metadata": {
            "tags": []
          },
          "execution_count": 38
        },
        {
          "output_type": "display_data",
          "data": {
            "image/png": "[encoded data removed]",
            "text/plain": [
              "<Figure size 432x288 with 1 Axes>"
            ]
          },
          "metadata": {
            "tags": [],
            "needs_background": "light"
          }
        }
      ]
    },
    {
      "cell_type": "code",
      "metadata": {
        "colab": {
          "base_uri": "https://localhost:8080/",
          "height": 281
        },
        "id": "lwmMNx6KQhG4",
        "outputId": "058b1470-b5fe-459f-b2a4-65bb9c5319d3"
      },
      "source": [
        "plt.plot(range(len(data.iloc[::50,1])),data.iloc[::50,1],'P')"
      ],
      "execution_count": null,
      "outputs": [
        {
          "output_type": "execute_result",
          "data": {
            "text/plain": [
              "[<matplotlib.lines.Line2D at 0x7f2570866750>]"
            ]
          },
          "metadata": {
            "tags": []
          },
          "execution_count": 39
        },
        {
          "output_type": "display_data",
          "data": {
            "image/png": "[encoded data removed]",
            "text/plain": [
              "<Figure size 432x288 with 1 Axes>"
            ]
          },
          "metadata": {
            "tags": [],
            "needs_background": "light"
          }
        }
      ]
    },
    {
      "cell_type": "code",
      "metadata": {
        "colab": {
          "base_uri": "https://localhost:8080/",
          "height": 281
        },
        "id": "QWrSyNnwQtee",
        "outputId": "5f943f8c-affe-4d93-98a1-7f750185930a"
      },
      "source": [
        "plt.plot(range(len(data.iloc[::50,1])),data.iloc[::50,1],'P:g') #ตัวP ตัวแรกบอกลักษณะจุด ตัว:บอกลักษณะเส้น ไปดูเพิ่มเติมในเว็บส่วนตัว g คือสีเขียวบอกสีของเส้น"
      ],
      "execution_count": null,
      "outputs": [
        {
          "output_type": "execute_result",
          "data": {
            "text/plain": [
              "[<matplotlib.lines.Line2D at 0x7f25707c6c50>]"
            ]
          },
          "metadata": {
            "tags": []
          },
          "execution_count": 40
        },
        {
          "output_type": "display_data",
          "data": {
            "image/png": "[encoded data removed]",
            "text/plain": [
              "<Figure size 432x288 with 1 Axes>"
            ]
          },
          "metadata": {
            "tags": [],
            "needs_background": "light"
          }
        }
      ]
    },
    {
      "cell_type": "markdown",
      "metadata": {
        "id": "0wHbMP6ARIcN"
      },
      "source": [
        "Quiz กลุ่ม III วาดกราฟที่มี maker เป็น สี่เหลี่ยมจตุรัสเส้นเป็นเส้นประสลับจุดไข่ปลา สีฟ้าอ่อน"
      ]
    },
    {
      "cell_type": "markdown",
      "metadata": {
        "id": "Bz1w-C8aSwoF"
      },
      "source": [
        "\n",
        "*   https://matplotlib.org/stable/api/_as_gen/matplotlib.pyplot.plot.html\n",
        "*   https://matplotlib.org/stable/tutorials/colors/colormaps.html"
      ]
    },
    {
      "cell_type": "code",
      "metadata": {
        "colab": {
          "base_uri": "https://localhost:8080/",
          "height": 281
        },
        "id": "Wfl43AbHRiYq",
        "outputId": "326c1775-9ff5-4c32-c442-455e7917cbb1"
      },
      "source": [
        "plt.plot(range(len(data.iloc[::50,1])),data.iloc[::50,1],'s-.c')"
      ],
      "execution_count": null,
      "outputs": [
        {
          "output_type": "execute_result",
          "data": {
            "text/plain": [
              "[<matplotlib.lines.Line2D at 0x7f257042a350>]"
            ]
          },
          "metadata": {
            "tags": []
          },
          "execution_count": 50
        },
        {
          "output_type": "display_data",
          "data": {
            "image/png": "[encoded data removed]",
            "text/plain": [
              "<Figure size 432x288 with 1 Axes>"
            ]
          },
          "metadata": {
            "tags": [],
            "needs_background": "light"
          }
        }
      ]
    },
    {
      "cell_type": "markdown",
      "metadata": {
        "id": "zbO9CXAzTSIE"
      },
      "source": [
        "##Bar chart \n",
        "คือกราฟแท่ง"
      ]
    },
    {
      "cell_type": "markdown",
      "metadata": {
        "id": "QkPklGqHTWGh"
      },
      "source": [
        "####Grouped Barchart\n",
        "เปรียบเทียบกลุ่มย่อยในกลุ่มใหญ่\n",
        "![image.png](data:image/png;base64,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)"
      ]
    },
    {
      "cell_type": "code",
      "metadata": {
        "id": "cTuLkb6CUPXx"
      },
      "source": [
        "import numpy as np\n",
        "\n",
        "\n",
        "labels = ['G1', 'G2', 'G3', 'G4', 'G5']\n",
        "men_means = [20, 34, 30, 35, 27]  #คะแนนเฉลี่ยผู้ชายในแต่ละห้อง\n",
        "women_means = [25, 32, 34, 20, 25] #คะแนนเฉลี่ยผู้หญิงในแต่ละห้อง"
      ],
      "execution_count": null,
      "outputs": []
    },
    {
      "cell_type": "code",
      "metadata": {
        "colab": {
          "base_uri": "https://localhost:8080/",
          "height": 281
        },
        "id": "w1XXogJWUhLx",
        "outputId": "d56e31de-ac88-48db-bfed-68adc357d878"
      },
      "source": [
        "plt.bar([0,1,2,3,4],men_means)  #01234 ค่าแกน x และอันข้างๆเป็นค่าแกน y"
      ],
      "execution_count": null,
      "outputs": [
        {
          "output_type": "execute_result",
          "data": {
            "text/plain": [
              "<BarContainer object of 5 artists>"
            ]
          },
          "metadata": {
            "tags": []
          },
          "execution_count": 52
        },
        {
          "output_type": "display_data",
          "data": {
            "image/png": "[encoded data removed]",
            "text/plain": [
              "<Figure size 432x288 with 1 Axes>"
            ]
          },
          "metadata": {
            "tags": [],
            "needs_background": "light"
          }
        }
      ]
    },
    {
      "cell_type": "code",
      "metadata": {
        "colab": {
          "base_uri": "https://localhost:8080/",
          "height": 281
        },
        "id": "1ilgLqUZU4Js",
        "outputId": "3fc5e21b-f141-4577-80a3-095d0a2ddfb6"
      },
      "source": [
        "plt.bar([0,1,2,3,4],men_means)   #ทับกันมองไม่เห็นค่าที่อยู่ข้างหลัง แก้ดดยกำหนด width ให้มัน\n",
        "plt.bar([0,1,2,3,4],women_means)\n",
        "#มันทับกัน"
      ],
      "execution_count": null,
      "outputs": [
        {
          "output_type": "execute_result",
          "data": {
            "text/plain": [
              "<BarContainer object of 5 artists>"
            ]
          },
          "metadata": {
            "tags": []
          },
          "execution_count": 53
        },
        {
          "output_type": "display_data",
          "data": {
            "image/png": "[encoded data removed]",
            "text/plain": [
              "<Figure size 432x288 with 1 Axes>"
            ]
          },
          "metadata": {
            "tags": [],
            "needs_background": "light"
          }
        }
      ]
    },
    {
      "cell_type": "code",
      "metadata": {
        "colab": {
          "base_uri": "https://localhost:8080/",
          "height": 281
        },
        "id": "tP3o8mDMVIgh",
        "outputId": "b5e56204-c11e-43b0-ab8a-471b914b207c"
      },
      "source": [
        "width = 0.35\n",
        "\n",
        "plt.bar(np.array([0,1,2,3,4]) - width/2,men_means, width=width)   \n",
        "plt.bar(np.array([0,1,2,3,4]) + width/2,women_means, width=width)"
      ],
      "execution_count": null,
      "outputs": [
        {
          "output_type": "execute_result",
          "data": {
            "text/plain": [
              "<BarContainer object of 5 artists>"
            ]
          },
          "metadata": {
            "tags": []
          },
          "execution_count": 56
        },
        {
          "output_type": "display_data",
          "data": {
            "image/png": "[encoded data removed]",
            "text/plain": [
              "<Figure size 432x288 with 1 Axes>"
            ]
          },
          "metadata": {
            "tags": [],
            "needs_background": "light"
          }
        }
      ]
    },
    {
      "cell_type": "code",
      "metadata": {
        "colab": {
          "base_uri": "https://localhost:8080/",
          "height": 281
        },
        "id": "P9Zp-dTyV34v",
        "outputId": "a271dd51-6e08-43ea-d70f-b889d8490cd5"
      },
      "source": [
        "width = 0.35\n",
        "\n",
        "plt.bar(np.array([0,1,2,3,4]) - width/2,men_means, width=width, label = 'men')  \n",
        "plt.bar(np.array([0,1,2,3,4]) + width/2,women_means, width=width, label = 'women')\n",
        "\n",
        "plt.legend() "
      ],
      "execution_count": null,
      "outputs": [
        {
          "output_type": "execute_result",
          "data": {
            "text/plain": [
              "<matplotlib.legend.Legend at 0x7f2570175c10>"
            ]
          },
          "metadata": {
            "tags": []
          },
          "execution_count": 57
        },
        {
          "output_type": "display_data",
          "data": {
            "image/png": "[encoded data removed]",
            "text/plain": [
              "<Figure size 432x288 with 1 Axes>"
            ]
          },
          "metadata": {
            "tags": [],
            "needs_background": "light"
          }
        }
      ]
    },
    {
      "cell_type": "code",
      "metadata": {
        "colab": {
          "base_uri": "https://localhost:8080/",
          "height": 281
        },
        "id": "UvYkvAs1WIje",
        "outputId": "de16a335-8bdf-4ab5-f79e-12bf8a37e806"
      },
      "source": [
        "width = 0.35\n",
        "\n",
        "plt.bar(np.array([0,1,2,3,4]) - width/2,men_means, width=width, label = 'men')  \n",
        "plt.bar(np.array([0,1,2,3,4]) + width/2,women_means, width=width, label = 'women')\n",
        "\n",
        "plt.ylabel('Scores')\n",
        "plt.title('Scores by group and gender')\n",
        "plt.xticks([0,1,2,3,4],labels)\n",
        "plt.legend();"
      ],
      "execution_count": null,
      "outputs": [
        {
          "output_type": "display_data",
          "data": {
            "image/png": "[encoded data removed]",
            "text/plain": [
              "<Figure size 432x288 with 1 Axes>"
            ]
          },
          "metadata": {
            "tags": [],
            "needs_background": "light"
          }
        }
      ]
    },
    {
      "cell_type": "code",
      "metadata": {
        "colab": {
          "base_uri": "https://localhost:8080/",
          "height": 971
        },
        "id": "24JiWgnNYDVR",
        "outputId": "68700f82-dfb3-49b0-c980-7294a68e25c9"
      },
      "source": [
        "data.iloc[-30:,1:]"
      ],
      "execution_count": null,
      "outputs": [
        {
          "output_type": "execute_result",
          "data": {
            "text/html": [
              "<div>\n",
              "<style scoped>\n",
              "    .dataframe tbody tr th:only-of-type {\n",
              "        vertical-align: middle;\n",
              "    }\n",
              "\n",
              "    .dataframe tbody tr th {\n",
              "        vertical-align: top;\n",
              "    }\n",
              "\n",
              "    .dataframe thead th {\n",
              "        text-align: right;\n",
              "    }\n",
              "</style>\n",
              "<table border=\"1\" class=\"dataframe\">\n",
              "  <thead>\n",
              "    <tr style=\"text-align: right;\">\n",
              "      <th></th>\n",
              "      <th>positive</th>\n",
              "      <th>Total Testing</th>\n",
              "    </tr>\n",
              "  </thead>\n",
              "  <tbody>\n",
              "    <tr>\n",
              "      <th>563</th>\n",
              "      <td>9627</td>\n",
              "      <td>73260</td>\n",
              "    </tr>\n",
              "    <tr>\n",
              "      <th>564</th>\n",
              "      <td>9221</td>\n",
              "      <td>68384</td>\n",
              "    </tr>\n",
              "    <tr>\n",
              "      <th>565</th>\n",
              "      <td>12192</td>\n",
              "      <td>68326</td>\n",
              "    </tr>\n",
              "    <tr>\n",
              "      <th>566</th>\n",
              "      <td>9466</td>\n",
              "      <td>64522</td>\n",
              "    </tr>\n",
              "    <tr>\n",
              "      <th>567</th>\n",
              "      <td>10152</td>\n",
              "      <td>68403</td>\n",
              "    </tr>\n",
              "    <tr>\n",
              "      <th>568</th>\n",
              "      <td>12210</td>\n",
              "      <td>82325</td>\n",
              "    </tr>\n",
              "    <tr>\n",
              "      <th>569</th>\n",
              "      <td>10623</td>\n",
              "      <td>62846</td>\n",
              "    </tr>\n",
              "    <tr>\n",
              "      <th>570</th>\n",
              "      <td>10200</td>\n",
              "      <td>58851</td>\n",
              "    </tr>\n",
              "    <tr>\n",
              "      <th>571</th>\n",
              "      <td>13745</td>\n",
              "      <td>67283</td>\n",
              "    </tr>\n",
              "    <tr>\n",
              "      <th>572</th>\n",
              "      <td>12919</td>\n",
              "      <td>56980</td>\n",
              "    </tr>\n",
              "    <tr>\n",
              "      <th>573</th>\n",
              "      <td>13575</td>\n",
              "      <td>53022</td>\n",
              "    </tr>\n",
              "    <tr>\n",
              "      <th>574</th>\n",
              "      <td>12744</td>\n",
              "      <td>59014</td>\n",
              "    </tr>\n",
              "    <tr>\n",
              "      <th>575</th>\n",
              "      <td>14303</td>\n",
              "      <td>63825</td>\n",
              "    </tr>\n",
              "    <tr>\n",
              "      <th>576</th>\n",
              "      <td>16797</td>\n",
              "      <td>70632</td>\n",
              "    </tr>\n",
              "    <tr>\n",
              "      <th>577</th>\n",
              "      <td>15283</td>\n",
              "      <td>70017</td>\n",
              "    </tr>\n",
              "    <tr>\n",
              "      <th>578</th>\n",
              "      <td>14161</td>\n",
              "      <td>59041</td>\n",
              "    </tr>\n",
              "    <tr>\n",
              "      <th>579</th>\n",
              "      <td>13214</td>\n",
              "      <td>53149</td>\n",
              "    </tr>\n",
              "    <tr>\n",
              "      <th>580</th>\n",
              "      <td>13845</td>\n",
              "      <td>57398</td>\n",
              "    </tr>\n",
              "    <tr>\n",
              "      <th>581</th>\n",
              "      <td>18316</td>\n",
              "      <td>74481</td>\n",
              "    </tr>\n",
              "    <tr>\n",
              "      <th>582</th>\n",
              "      <td>17863</td>\n",
              "      <td>68635</td>\n",
              "    </tr>\n",
              "    <tr>\n",
              "      <th>583</th>\n",
              "      <td>16632</td>\n",
              "      <td>60211</td>\n",
              "    </tr>\n",
              "    <tr>\n",
              "      <th>584</th>\n",
              "      <td>12278</td>\n",
              "      <td>47117</td>\n",
              "    </tr>\n",
              "    <tr>\n",
              "      <th>585</th>\n",
              "      <td>13781</td>\n",
              "      <td>50841</td>\n",
              "    </tr>\n",
              "    <tr>\n",
              "      <th>586</th>\n",
              "      <td>13028</td>\n",
              "      <td>53748</td>\n",
              "    </tr>\n",
              "    <tr>\n",
              "      <th>587</th>\n",
              "      <td>14064</td>\n",
              "      <td>56886</td>\n",
              "    </tr>\n",
              "    <tr>\n",
              "      <th>588</th>\n",
              "      <td>17189</td>\n",
              "      <td>68463</td>\n",
              "    </tr>\n",
              "    <tr>\n",
              "      <th>589</th>\n",
              "      <td>16328</td>\n",
              "      <td>66851</td>\n",
              "    </tr>\n",
              "    <tr>\n",
              "      <th>590</th>\n",
              "      <td>15080</td>\n",
              "      <td>57353</td>\n",
              "    </tr>\n",
              "    <tr>\n",
              "      <th>591</th>\n",
              "      <td>12929</td>\n",
              "      <td>52063</td>\n",
              "    </tr>\n",
              "    <tr>\n",
              "      <th>592</th>\n",
              "      <td>14557</td>\n",
              "      <td>58471</td>\n",
              "    </tr>\n",
              "  </tbody>\n",
              "</table>\n",
              "</div>"
            ],
            "text/plain": [
              "     positive  Total Testing\n",
              "563      9627          73260\n",
              "564      9221          68384\n",
              "565     12192          68326\n",
              "566      9466          64522\n",
              "567     10152          68403\n",
              "568     12210          82325\n",
              "569     10623          62846\n",
              "570     10200          58851\n",
              "571     13745          67283\n",
              "572     12919          56980\n",
              "573     13575          53022\n",
              "574     12744          59014\n",
              "575     14303          63825\n",
              "576     16797          70632\n",
              "577     15283          70017\n",
              "578     14161          59041\n",
              "579     13214          53149\n",
              "580     13845          57398\n",
              "581     18316          74481\n",
              "582     17863          68635\n",
              "583     16632          60211\n",
              "584     12278          47117\n",
              "585     13781          50841\n",
              "586     13028          53748\n",
              "587     14064          56886\n",
              "588     17189          68463\n",
              "589     16328          66851\n",
              "590     15080          57353\n",
              "591     12929          52063\n",
              "592     14557          58471"
            ]
          },
          "metadata": {
            "tags": []
          },
          "execution_count": 62
        }
      ]
    },
    {
      "cell_type": "code",
      "metadata": {
        "colab": {
          "base_uri": "https://localhost:8080/"
        },
        "id": "EnBnRxCqYipH",
        "outputId": "512d67b4-8f49-4bc8-fed6-fdd9b3d1e75d"
      },
      "source": [
        "np.arange(len(data.iloc[-30:,1:]))"
      ],
      "execution_count": null,
      "outputs": [
        {
          "output_type": "execute_result",
          "data": {
            "text/plain": [
              "array([ 0,  1,  2,  3,  4,  5,  6,  7,  8,  9, 10, 11, 12, 13, 14, 15, 16,\n",
              "       17, 18, 19, 20, 21, 22, 23, 24, 25, 26, 27, 28, 29])"
            ]
          },
          "metadata": {
            "tags": []
          },
          "execution_count": 64
        }
      ]
    },
    {
      "cell_type": "code",
      "metadata": {
        "colab": {
          "base_uri": "https://localhost:8080/",
          "height": 315
        },
        "id": "fbDTZJK1Xqv5",
        "outputId": "a793c0a1-f35a-4f86-c0bb-03d3be60ccf2"
      },
      "source": [
        "width = 0.35\n",
        "\n",
        "plt.bar(np.arange(len(data.iloc[-30:,1:])) - width/2, data.iloc[-30:,1], width=width, label = 'positive')  \n",
        "plt.bar(np.arange(len(data.iloc[-30:,1:])) + width/2, data.iloc[-30:,2], width=width, label = 'total testing')\n",
        "\n",
        "plt.ylabel('#cases')\n",
        "plt.title('Compare positive vs total testing')\n",
        "plt.xticks(np.arange(len(data.iloc[-30:,1])),data.iloc[-30:,0], rotation=-45)\n",
        "plt.legend();"
      ],
      "execution_count": null,
      "outputs": [
        {
          "output_type": "display_data",
          "data": {
            "image/png": "[encoded data removed]",
            "text/plain": [
              "<Figure size 432x288 with 1 Axes>"
            ]
          },
          "metadata": {
            "tags": [],
            "needs_background": "light"
          }
        }
      ]
    },
    {
      "cell_type": "markdown",
      "metadata": {
        "id": "aJ3k2j11UDDd"
      },
      "source": [
        "####Stacked Barchart  \n",
        "\n",
        "![image.png](data:image/png;base64,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)"
      ]
    },
    {
      "cell_type": "markdown",
      "metadata": {
        "id": "biPkjzdNb3Wd"
      },
      "source": [
        "เอากลุ่มเล็กมารวมกันละเปรียบเทียบกับกลุ่มใหญ่"
      ]
    },
    {
      "cell_type": "code",
      "metadata": {
        "id": "YlM3qNUnaW3j"
      },
      "source": [
        "labels = ['G1', 'G2', 'G3', 'G4', 'G5' ]\n",
        "men_means = [20, 34, 30, 35, 27]\n",
        "women_means = [25, 32, 34, 20, 25]"
      ],
      "execution_count": null,
      "outputs": []
    },
    {
      "cell_type": "code",
      "metadata": {
        "id": "E9Vs7e9lcZmf"
      },
      "source": [
        "plt.bar(np.array([0,1,2,3,4]), men_means, label = 'men')\n",
        "plt.bar(np.array([0,1,2,3,4]), women_means, bottom=womens, label = 'women')"
      ],
      "execution_count": null,
      "outputs": []
    },
    {
      "cell_type": "code",
      "metadata": {
        "colab": {
          "base_uri": "https://localhost:8080/",
          "height": 281
        },
        "id": "muHI7dIncjMe",
        "outputId": "3e321884-ea86-4218-f8d0-30105d04a605"
      },
      "source": [
        "plt.bar(np.array([0,1,2,3,4]), men_means, label = 'men' )"
      ],
      "execution_count": null,
      "outputs": [
        {
          "output_type": "execute_result",
          "data": {
            "text/plain": [
              "<BarContainer object of 5 artists>"
            ]
          },
          "metadata": {
            "tags": []
          },
          "execution_count": 70
        },
        {
          "output_type": "display_data",
          "data": {
            "image/png": "[encoded data removed]",
            "text/plain": [
              "<Figure size 432x288 with 1 Axes>"
            ]
          },
          "metadata": {
            "tags": [],
            "needs_background": "light"
          }
        }
      ]
    },
    {
      "cell_type": "code",
      "metadata": {
        "colab": {
          "base_uri": "https://localhost:8080/",
          "height": 162
        },
        "id": "Be2EXn5DdEEz",
        "outputId": "5afd009c-4675-4855-a9e2-0b42badfcba7"
      },
      "source": [
        "plt.bar(np.array([0,1,2,3,4]), women_means, bottom=women, label = 'women')"
      ],
      "execution_count": null,
      "outputs": [
        {
          "output_type": "error",
          "ename": "NameError",
          "evalue": "ignored",
          "traceback": [
            "\u001b[0;31m---------------------------------------------------------------------------\u001b[0m",
            "\u001b[0;31mNameError\u001b[0m                                 Traceback (most recent call last)",
            "\u001b[0;32m<ipython-input-72-053fb3a233de>\u001b[0m in \u001b[0;36m<module>\u001b[0;34m()\u001b[0m\n\u001b[0;32m----> 1\u001b[0;31m \u001b[0mplt\u001b[0m\u001b[0;34m.\u001b[0m\u001b[0mbar\u001b[0m\u001b[0;34m(\u001b[0m\u001b[0mnp\u001b[0m\u001b[0;34m.\u001b[0m\u001b[0marray\u001b[0m\u001b[0;34m(\u001b[0m\u001b[0;34m[\u001b[0m\u001b[0;36m0\u001b[0m\u001b[0;34m,\u001b[0m\u001b[0;36m1\u001b[0m\u001b[0;34m,\u001b[0m\u001b[0;36m2\u001b[0m\u001b[0;34m,\u001b[0m\u001b[0;36m3\u001b[0m\u001b[0;34m,\u001b[0m\u001b[0;36m4\u001b[0m\u001b[0;34m]\u001b[0m\u001b[0;34m)\u001b[0m\u001b[0;34m,\u001b[0m \u001b[0mwomen_means\u001b[0m\u001b[0;34m,\u001b[0m \u001b[0mbottom\u001b[0m\u001b[0;34m=\u001b[0m\u001b[0mwomen\u001b[0m\u001b[0;34m,\u001b[0m \u001b[0mlabel\u001b[0m \u001b[0;34m=\u001b[0m \u001b[0;34m'women'\u001b[0m\u001b[0;34m)\u001b[0m\u001b[0;34m\u001b[0m\u001b[0;34m\u001b[0m\u001b[0m\n\u001b[0m",
            "\u001b[0;31mNameError\u001b[0m: name 'women' is not defined"
          ]
        }
      ]
    },
    {
      "cell_type": "markdown",
      "metadata": {
        "id": "KxHZyr-KdIFj"
      },
      "source": [
        "##Histogram\n",
        "วัดความถี่ของข้อมูลว่าอันไหนมีมากอันไหนมีน้อย"
      ]
    },
    {
      "cell_type": "code",
      "metadata": {
        "colab": {
          "base_uri": "https://localhost:8080/",
          "height": 295
        },
        "id": "4QwiOW3SdLU0",
        "outputId": "e25ca5e2-45ab-4bbc-84e8-91b721f0c570"
      },
      "source": [
        "import numpy as np\n",
        "import matplotlib.pyplot as plt\n",
        "\n",
        "# Fixing random state for reproducibility\n",
        "np.random.seed(19680801)\n",
        "\n",
        "mu, sigma = 100, 15\n",
        "x = mu + sigma * np.random.randn(10000)\n",
        "\n",
        "# the histogram of the data\n",
        "n, bins, patches = plt.hist(x, 50, density=True, facecolor='g', alpha=0.75)\n",
        "\n",
        "\n",
        "plt.xlabel('Smarts')\n",
        "plt.ylabel('Probability')\n",
        "plt.title('Histogram of IQ')\n",
        "plt.text(60, .025, r'$\\mu=100,\\ \\sigma=15$')\n",
        "plt.xlim(40, 160)\n",
        "plt.ylim(0, 0.03)\n",
        "plt.grid(True)\n",
        "plt.show()"
      ],
      "execution_count": null,
      "outputs": [
        {
          "output_type": "display_data",
          "data": {
            "image/png": "[encoded data removed]",
            "text/plain": [
              "<Figure size 432x288 with 1 Axes>"
            ]
          },
          "metadata": {
            "tags": [],
            "needs_background": "light"
          }
        }
      ]
    }
  ]
}