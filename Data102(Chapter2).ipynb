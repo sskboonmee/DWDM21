{
  "nbformat": 4,
  "nbformat_minor": 0,
  "metadata": {
    "colab": {
      "name": "Data102(Chapter2).ipynb",
      "provenance": [],
      "authorship_tag": "ABX9TyNqSBbAKYTlwyvRrLPoIHh9",
      "include_colab_link": true
    },
    "kernelspec": {
      "name": "python3",
      "display_name": "Python 3"
    },
    "language_info": {
      "name": "python"
    }
  },
  "cells": [
    {
      "cell_type": "markdown",
      "metadata": {
        "id": "view-in-github",
        "colab_type": "text"
      },
      "source": [
        "<a href=\"https://colab.research.google.com/github/sskboonmee/DWDM21/blob/main/Data102(Chapter2).ipynb\" target=\"_parent\"><img src=\"https://colab.research.google.com/assets/colab-badge.svg\" alt=\"Open In Colab\"/></a>"
      ]
    },
    {
      "cell_type": "code",
      "metadata": {
        "id": "zx_i2cVUKaaq"
      },
      "source": [
        "import pandas as pd #ทำงานกับข้อมูลลักษณะตาราง"
      ],
      "execution_count": 1,
      "outputs": []
    },
    {
      "cell_type": "code",
      "metadata": {
        "colab": {
          "base_uri": "https://localhost:8080/"
        },
        "id": "YWWEaH7aPdQ1",
        "outputId": "0d2d50b2-e4c2-4ca1-b0db-d9e0c36e937e"
      },
      "source": [
        "from google.colab import drive\n",
        "drive.mount('/content/drive')"
      ],
      "execution_count": 2,
      "outputs": [
        {
          "output_type": "stream",
          "text": [
            "Mounted at /content/drive\n"
          ],
          "name": "stdout"
        }
      ]
    },
    {
      "cell_type": "code",
      "metadata": {
        "colab": {
          "base_uri": "https://localhost:8080/"
        },
        "id": "zohH_x5AQRkL",
        "outputId": "421e6b13-afd2-464d-dd3c-bacedc295515"
      },
      "source": [
        "ls"
      ],
      "execution_count": 3,
      "outputs": [
        {
          "output_type": "stream",
          "text": [
            "\u001b[0m\u001b[01;34mdrive\u001b[0m/  \u001b[01;34msample_data\u001b[0m/\n"
          ],
          "name": "stdout"
        }
      ]
    },
    {
      "cell_type": "code",
      "metadata": {
        "id": "5grxtpl1Qfq0"
      },
      "source": [
        "import os #จัดการไฟล์และ path"
      ],
      "execution_count": 4,
      "outputs": []
    },
    {
      "cell_type": "code",
      "metadata": {
        "id": "x2VX3Y15Swz9"
      },
      "source": [
        "path = '/content/drive/My Drive/DWDM2021_DATA'"
      ],
      "execution_count": 5,
      "outputs": []
    },
    {
      "cell_type": "code",
      "metadata": {
        "colab": {
          "base_uri": "https://localhost:8080/",
          "height": 487
        },
        "id": "FuKnH_3eS00s",
        "outputId": "ff9c3e6e-c7f3-4409-89e7-4b2b3571bf28"
      },
      "source": [
        "data = pd.read_csv(os.path.join(path,'thailand_covid-19_testing_data.csv'))\n",
        "data"
      ],
      "execution_count": 6,
      "outputs": [
        {
          "output_type": "execute_result",
          "data": {
            "text/html": [
              "<div>\n",
              "<style scoped>\n",
              "    .dataframe tbody tr th:only-of-type {\n",
              "        vertical-align: middle;\n",
              "    }\n",
              "\n",
              "    .dataframe tbody tr th {\n",
              "        vertical-align: top;\n",
              "    }\n",
              "\n",
              "    .dataframe thead th {\n",
              "        text-align: right;\n",
              "    }\n",
              "</style>\n",
              "<table border=\"1\" class=\"dataframe\">\n",
              "  <thead>\n",
              "    <tr style=\"text-align: right;\">\n",
              "      <th></th>\n",
              "      <th>Date</th>\n",
              "      <th>positive</th>\n",
              "      <th>Total Testing</th>\n",
              "      <th>Unnamed: 3</th>\n",
              "      <th>Unnamed: 4</th>\n",
              "      <th>Unnamed: 5</th>\n",
              "      <th>Unnamed: 6</th>\n",
              "      <th>Unnamed: 7</th>\n",
              "      <th>Unnamed: 8</th>\n",
              "      <th>Unnamed: 9</th>\n",
              "      <th>Unnamed: 10</th>\n",
              "      <th>Unnamed: 11</th>\n",
              "      <th>Unnamed: 12</th>\n",
              "      <th>Unnamed: 13</th>\n",
              "      <th>Unnamed: 14</th>\n",
              "      <th>Unnamed: 15</th>\n",
              "      <th>Unnamed: 16</th>\n",
              "      <th>Unnamed: 17</th>\n",
              "      <th>Unnamed: 18</th>\n",
              "      <th>Unnamed: 19</th>\n",
              "      <th>Unnamed: 20</th>\n",
              "      <th>Unnamed: 21</th>\n",
              "      <th>Unnamed: 22</th>\n",
              "      <th>Unnamed: 23</th>\n",
              "      <th>Unnamed: 24</th>\n",
              "      <th>Unnamed: 25</th>\n",
              "      <th>Unnamed: 26</th>\n",
              "      <th>Unnamed: 27</th>\n",
              "      <th>Unnamed: 28</th>\n",
              "      <th>Unnamed: 29</th>\n",
              "      <th>Unnamed: 30</th>\n",
              "      <th>Unnamed: 31</th>\n",
              "      <th>Unnamed: 32</th>\n",
              "      <th>Unnamed: 33</th>\n",
              "      <th>Unnamed: 34</th>\n",
              "      <th>Unnamed: 35</th>\n",
              "      <th>Unnamed: 36</th>\n",
              "      <th>Unnamed: 37</th>\n",
              "      <th>Unnamed: 38</th>\n",
              "      <th>Unnamed: 39</th>\n",
              "      <th>...</th>\n",
              "      <th>Unnamed: 82</th>\n",
              "      <th>Unnamed: 83</th>\n",
              "      <th>Unnamed: 84</th>\n",
              "      <th>Unnamed: 85</th>\n",
              "      <th>Unnamed: 86</th>\n",
              "      <th>Unnamed: 87</th>\n",
              "      <th>Unnamed: 88</th>\n",
              "      <th>Unnamed: 89</th>\n",
              "      <th>Unnamed: 90</th>\n",
              "      <th>Unnamed: 91</th>\n",
              "      <th>Unnamed: 92</th>\n",
              "      <th>Unnamed: 93</th>\n",
              "      <th>Unnamed: 94</th>\n",
              "      <th>Unnamed: 95</th>\n",
              "      <th>Unnamed: 96</th>\n",
              "      <th>Unnamed: 97</th>\n",
              "      <th>Unnamed: 98</th>\n",
              "      <th>Unnamed: 99</th>\n",
              "      <th>Unnamed: 100</th>\n",
              "      <th>Unnamed: 101</th>\n",
              "      <th>Unnamed: 102</th>\n",
              "      <th>Unnamed: 103</th>\n",
              "      <th>Unnamed: 104</th>\n",
              "      <th>Unnamed: 105</th>\n",
              "      <th>Unnamed: 106</th>\n",
              "      <th>Unnamed: 107</th>\n",
              "      <th>Unnamed: 108</th>\n",
              "      <th>Unnamed: 109</th>\n",
              "      <th>Unnamed: 110</th>\n",
              "      <th>Unnamed: 111</th>\n",
              "      <th>Unnamed: 112</th>\n",
              "      <th>Unnamed: 113</th>\n",
              "      <th>Unnamed: 114</th>\n",
              "      <th>Unnamed: 115</th>\n",
              "      <th>Unnamed: 116</th>\n",
              "      <th>Unnamed: 117</th>\n",
              "      <th>Unnamed: 118</th>\n",
              "      <th>Unnamed: 119</th>\n",
              "      <th>Unnamed: 120</th>\n",
              "      <th>Unnamed: 121</th>\n",
              "    </tr>\n",
              "  </thead>\n",
              "  <tbody>\n",
              "    <tr>\n",
              "      <th>0</th>\n",
              "      <td>Cannot specify date</td>\n",
              "      <td>2963</td>\n",
              "      <td>32131</td>\n",
              "      <td>NaN</td>\n",
              "      <td>NaN</td>\n",
              "      <td>NaN</td>\n",
              "      <td>NaN</td>\n",
              "      <td>NaN</td>\n",
              "      <td>NaN</td>\n",
              "      <td>NaN</td>\n",
              "      <td>NaN</td>\n",
              "      <td>NaN</td>\n",
              "      <td>NaN</td>\n",
              "      <td>NaN</td>\n",
              "      <td>NaN</td>\n",
              "      <td>NaN</td>\n",
              "      <td>NaN</td>\n",
              "      <td>NaN</td>\n",
              "      <td>NaN</td>\n",
              "      <td>NaN</td>\n",
              "      <td>NaN</td>\n",
              "      <td>NaN</td>\n",
              "      <td>NaN</td>\n",
              "      <td>NaN</td>\n",
              "      <td>NaN</td>\n",
              "      <td>NaN</td>\n",
              "      <td>NaN</td>\n",
              "      <td>NaN</td>\n",
              "      <td>NaN</td>\n",
              "      <td>NaN</td>\n",
              "      <td>NaN</td>\n",
              "      <td>NaN</td>\n",
              "      <td>NaN</td>\n",
              "      <td>NaN</td>\n",
              "      <td>NaN</td>\n",
              "      <td>NaN</td>\n",
              "      <td>NaN</td>\n",
              "      <td>NaN</td>\n",
              "      <td>NaN</td>\n",
              "      <td>NaN</td>\n",
              "      <td>...</td>\n",
              "      <td>NaN</td>\n",
              "      <td>NaN</td>\n",
              "      <td>NaN</td>\n",
              "      <td>NaN</td>\n",
              "      <td>NaN</td>\n",
              "      <td>NaN</td>\n",
              "      <td>NaN</td>\n",
              "      <td>NaN</td>\n",
              "      <td>NaN</td>\n",
              "      <td>NaN</td>\n",
              "      <td>NaN</td>\n",
              "      <td>NaN</td>\n",
              "      <td>NaN</td>\n",
              "      <td>NaN</td>\n",
              "      <td>NaN</td>\n",
              "      <td>NaN</td>\n",
              "      <td>NaN</td>\n",
              "      <td>NaN</td>\n",
              "      <td>NaN</td>\n",
              "      <td>NaN</td>\n",
              "      <td>NaN</td>\n",
              "      <td>NaN</td>\n",
              "      <td>NaN</td>\n",
              "      <td>NaN</td>\n",
              "      <td>NaN</td>\n",
              "      <td>NaN</td>\n",
              "      <td>NaN</td>\n",
              "      <td>NaN</td>\n",
              "      <td>NaN</td>\n",
              "      <td>NaN</td>\n",
              "      <td>NaN</td>\n",
              "      <td>NaN</td>\n",
              "      <td>NaN</td>\n",
              "      <td>NaN</td>\n",
              "      <td>NaN</td>\n",
              "      <td>NaN</td>\n",
              "      <td>NaN</td>\n",
              "      <td>NaN</td>\n",
              "      <td>NaN</td>\n",
              "      <td>NaN</td>\n",
              "    </tr>\n",
              "    <tr>\n",
              "      <th>1</th>\n",
              "      <td>1/1/2020</td>\n",
              "      <td>0</td>\n",
              "      <td>0</td>\n",
              "      <td>NaN</td>\n",
              "      <td>NaN</td>\n",
              "      <td>NaN</td>\n",
              "      <td>NaN</td>\n",
              "      <td>NaN</td>\n",
              "      <td>NaN</td>\n",
              "      <td>NaN</td>\n",
              "      <td>NaN</td>\n",
              "      <td>NaN</td>\n",
              "      <td>NaN</td>\n",
              "      <td>NaN</td>\n",
              "      <td>NaN</td>\n",
              "      <td>NaN</td>\n",
              "      <td>NaN</td>\n",
              "      <td>NaN</td>\n",
              "      <td>NaN</td>\n",
              "      <td>NaN</td>\n",
              "      <td>NaN</td>\n",
              "      <td>NaN</td>\n",
              "      <td>NaN</td>\n",
              "      <td>NaN</td>\n",
              "      <td>NaN</td>\n",
              "      <td>NaN</td>\n",
              "      <td>NaN</td>\n",
              "      <td>NaN</td>\n",
              "      <td>NaN</td>\n",
              "      <td>NaN</td>\n",
              "      <td>NaN</td>\n",
              "      <td>NaN</td>\n",
              "      <td>NaN</td>\n",
              "      <td>NaN</td>\n",
              "      <td>NaN</td>\n",
              "      <td>NaN</td>\n",
              "      <td>NaN</td>\n",
              "      <td>NaN</td>\n",
              "      <td>NaN</td>\n",
              "      <td>NaN</td>\n",
              "      <td>...</td>\n",
              "      <td>12</td>\n",
              "      <td>NaN</td>\n",
              "      <td>13</td>\n",
              "      <td>NaN</td>\n",
              "      <td>14</td>\n",
              "      <td>NaN</td>\n",
              "      <td>15</td>\n",
              "      <td>NaN</td>\n",
              "      <td>16</td>\n",
              "      <td>NaN</td>\n",
              "      <td>17</td>\n",
              "      <td>NaN</td>\n",
              "      <td>18</td>\n",
              "      <td>NaN</td>\n",
              "      <td>19</td>\n",
              "      <td>NaN</td>\n",
              "      <td>20</td>\n",
              "      <td>NaN</td>\n",
              "      <td>21</td>\n",
              "      <td>NaN</td>\n",
              "      <td>22</td>\n",
              "      <td>NaN</td>\n",
              "      <td>23</td>\n",
              "      <td>NaN</td>\n",
              "      <td>24</td>\n",
              "      <td>NaN</td>\n",
              "      <td>25</td>\n",
              "      <td>NaN</td>\n",
              "      <td>26</td>\n",
              "      <td>NaN</td>\n",
              "      <td>27</td>\n",
              "      <td>NaN</td>\n",
              "      <td>28</td>\n",
              "      <td>NaN</td>\n",
              "      <td>29</td>\n",
              "      <td>NaN</td>\n",
              "      <td>30</td>\n",
              "      <td>NaN</td>\n",
              "      <td>31</td>\n",
              "      <td>NaN</td>\n",
              "    </tr>\n",
              "    <tr>\n",
              "      <th>2</th>\n",
              "      <td>2/1/2020</td>\n",
              "      <td>0</td>\n",
              "      <td>0</td>\n",
              "      <td>NaN</td>\n",
              "      <td>NaN</td>\n",
              "      <td>NaN</td>\n",
              "      <td>NaN</td>\n",
              "      <td>NaN</td>\n",
              "      <td>NaN</td>\n",
              "      <td>NaN</td>\n",
              "      <td>NaN</td>\n",
              "      <td>NaN</td>\n",
              "      <td>NaN</td>\n",
              "      <td>NaN</td>\n",
              "      <td>NaN</td>\n",
              "      <td>NaN</td>\n",
              "      <td>NaN</td>\n",
              "      <td>NaN</td>\n",
              "      <td>NaN</td>\n",
              "      <td>NaN</td>\n",
              "      <td>NaN</td>\n",
              "      <td>NaN</td>\n",
              "      <td>NaN</td>\n",
              "      <td>NaN</td>\n",
              "      <td>NaN</td>\n",
              "      <td>NaN</td>\n",
              "      <td>NaN</td>\n",
              "      <td>NaN</td>\n",
              "      <td>NaN</td>\n",
              "      <td>NaN</td>\n",
              "      <td>NaN</td>\n",
              "      <td>NaN</td>\n",
              "      <td>NaN</td>\n",
              "      <td>NaN</td>\n",
              "      <td>NaN</td>\n",
              "      <td>NaN</td>\n",
              "      <td>NaN</td>\n",
              "      <td>NaN</td>\n",
              "      <td>NaN</td>\n",
              "      <td>NaN</td>\n",
              "      <td>...</td>\n",
              "      <td>Pos</td>\n",
              "      <td>Pos</td>\n",
              "      <td>Total</td>\n",
              "      <td>Pos</td>\n",
              "      <td>Total</td>\n",
              "      <td>Pos</td>\n",
              "      <td>Total</td>\n",
              "      <td>Pos</td>\n",
              "      <td>Total</td>\n",
              "      <td>Pos</td>\n",
              "      <td>Pos</td>\n",
              "      <td>Total</td>\n",
              "      <td>Pos</td>\n",
              "      <td>Total</td>\n",
              "      <td>Pos</td>\n",
              "      <td>Total</td>\n",
              "      <td>Pos</td>\n",
              "      <td>Total</td>\n",
              "      <td>Pos</td>\n",
              "      <td>Pos</td>\n",
              "      <td>Total</td>\n",
              "      <td>Pos</td>\n",
              "      <td>Total</td>\n",
              "      <td>Pos</td>\n",
              "      <td>Total</td>\n",
              "      <td>Pos</td>\n",
              "      <td>Total</td>\n",
              "      <td>Pos</td>\n",
              "      <td>Pos</td>\n",
              "      <td>Total</td>\n",
              "      <td>Pos</td>\n",
              "      <td>Total</td>\n",
              "      <td>Pos</td>\n",
              "      <td>Total</td>\n",
              "      <td>Pos</td>\n",
              "      <td>Total</td>\n",
              "      <td>Pos</td>\n",
              "      <td>Pos</td>\n",
              "      <td>Pos</td>\n",
              "      <td>Pos</td>\n",
              "    </tr>\n",
              "    <tr>\n",
              "      <th>3</th>\n",
              "      <td>3/1/2020</td>\n",
              "      <td>0</td>\n",
              "      <td>0</td>\n",
              "      <td>NaN</td>\n",
              "      <td>NaN</td>\n",
              "      <td>NaN</td>\n",
              "      <td>NaN</td>\n",
              "      <td>NaN</td>\n",
              "      <td>NaN</td>\n",
              "      <td>NaN</td>\n",
              "      <td>NaN</td>\n",
              "      <td>NaN</td>\n",
              "      <td>NaN</td>\n",
              "      <td>NaN</td>\n",
              "      <td>NaN</td>\n",
              "      <td>NaN</td>\n",
              "      <td>NaN</td>\n",
              "      <td>NaN</td>\n",
              "      <td>NaN</td>\n",
              "      <td>NaN</td>\n",
              "      <td>NaN</td>\n",
              "      <td>NaN</td>\n",
              "      <td>NaN</td>\n",
              "      <td>NaN</td>\n",
              "      <td>NaN</td>\n",
              "      <td>NaN</td>\n",
              "      <td>NaN</td>\n",
              "      <td>NaN</td>\n",
              "      <td>NaN</td>\n",
              "      <td>NaN</td>\n",
              "      <td>NaN</td>\n",
              "      <td>NaN</td>\n",
              "      <td>NaN</td>\n",
              "      <td>NaN</td>\n",
              "      <td>NaN</td>\n",
              "      <td>NaN</td>\n",
              "      <td>NaN</td>\n",
              "      <td>NaN</td>\n",
              "      <td>NaN</td>\n",
              "      <td>NaN</td>\n",
              "      <td>...</td>\n",
              "      <td>NaN</td>\n",
              "      <td>NaN</td>\n",
              "      <td>NaN</td>\n",
              "      <td>NaN</td>\n",
              "      <td>NaN</td>\n",
              "      <td>NaN</td>\n",
              "      <td>NaN</td>\n",
              "      <td>NaN</td>\n",
              "      <td>NaN</td>\n",
              "      <td>NaN</td>\n",
              "      <td>NaN</td>\n",
              "      <td>NaN</td>\n",
              "      <td>NaN</td>\n",
              "      <td>NaN</td>\n",
              "      <td>NaN</td>\n",
              "      <td>NaN</td>\n",
              "      <td>NaN</td>\n",
              "      <td>NaN</td>\n",
              "      <td>NaN</td>\n",
              "      <td>NaN</td>\n",
              "      <td>NaN</td>\n",
              "      <td>NaN</td>\n",
              "      <td>NaN</td>\n",
              "      <td>NaN</td>\n",
              "      <td>NaN</td>\n",
              "      <td>NaN</td>\n",
              "      <td>NaN</td>\n",
              "      <td>NaN</td>\n",
              "      <td>NaN</td>\n",
              "      <td>NaN</td>\n",
              "      <td>NaN</td>\n",
              "      <td>NaN</td>\n",
              "      <td>NaN</td>\n",
              "      <td>NaN</td>\n",
              "      <td>NaN</td>\n",
              "      <td>NaN</td>\n",
              "      <td>NaN</td>\n",
              "      <td>NaN</td>\n",
              "      <td>NaN</td>\n",
              "      <td>NaN</td>\n",
              "    </tr>\n",
              "    <tr>\n",
              "      <th>4</th>\n",
              "      <td>4/1/2020</td>\n",
              "      <td>0</td>\n",
              "      <td>2</td>\n",
              "      <td>NaN</td>\n",
              "      <td>NaN</td>\n",
              "      <td>NaN</td>\n",
              "      <td>NaN</td>\n",
              "      <td>NaN</td>\n",
              "      <td>NaN</td>\n",
              "      <td>NaN</td>\n",
              "      <td>NaN</td>\n",
              "      <td>NaN</td>\n",
              "      <td>NaN</td>\n",
              "      <td>NaN</td>\n",
              "      <td>NaN</td>\n",
              "      <td>NaN</td>\n",
              "      <td>NaN</td>\n",
              "      <td>NaN</td>\n",
              "      <td>NaN</td>\n",
              "      <td>NaN</td>\n",
              "      <td>NaN</td>\n",
              "      <td>NaN</td>\n",
              "      <td>NaN</td>\n",
              "      <td>NaN</td>\n",
              "      <td>NaN</td>\n",
              "      <td>NaN</td>\n",
              "      <td>NaN</td>\n",
              "      <td>NaN</td>\n",
              "      <td>NaN</td>\n",
              "      <td>NaN</td>\n",
              "      <td>NaN</td>\n",
              "      <td>NaN</td>\n",
              "      <td>NaN</td>\n",
              "      <td>NaN</td>\n",
              "      <td>NaN</td>\n",
              "      <td>NaN</td>\n",
              "      <td>NaN</td>\n",
              "      <td>NaN</td>\n",
              "      <td>NaN</td>\n",
              "      <td>NaN</td>\n",
              "      <td>...</td>\n",
              "      <td>NaN</td>\n",
              "      <td>NaN</td>\n",
              "      <td>NaN</td>\n",
              "      <td>NaN</td>\n",
              "      <td>NaN</td>\n",
              "      <td>NaN</td>\n",
              "      <td>NaN</td>\n",
              "      <td>NaN</td>\n",
              "      <td>NaN</td>\n",
              "      <td>NaN</td>\n",
              "      <td>NaN</td>\n",
              "      <td>NaN</td>\n",
              "      <td>NaN</td>\n",
              "      <td>NaN</td>\n",
              "      <td>NaN</td>\n",
              "      <td>NaN</td>\n",
              "      <td>NaN</td>\n",
              "      <td>NaN</td>\n",
              "      <td>NaN</td>\n",
              "      <td>NaN</td>\n",
              "      <td>NaN</td>\n",
              "      <td>NaN</td>\n",
              "      <td>NaN</td>\n",
              "      <td>NaN</td>\n",
              "      <td>NaN</td>\n",
              "      <td>NaN</td>\n",
              "      <td>NaN</td>\n",
              "      <td>NaN</td>\n",
              "      <td>NaN</td>\n",
              "      <td>NaN</td>\n",
              "      <td>NaN</td>\n",
              "      <td>NaN</td>\n",
              "      <td>NaN</td>\n",
              "      <td>NaN</td>\n",
              "      <td>NaN</td>\n",
              "      <td>NaN</td>\n",
              "      <td>NaN</td>\n",
              "      <td>NaN</td>\n",
              "      <td>NaN</td>\n",
              "      <td>NaN</td>\n",
              "    </tr>\n",
              "    <tr>\n",
              "      <th>...</th>\n",
              "      <td>...</td>\n",
              "      <td>...</td>\n",
              "      <td>...</td>\n",
              "      <td>...</td>\n",
              "      <td>...</td>\n",
              "      <td>...</td>\n",
              "      <td>...</td>\n",
              "      <td>...</td>\n",
              "      <td>...</td>\n",
              "      <td>...</td>\n",
              "      <td>...</td>\n",
              "      <td>...</td>\n",
              "      <td>...</td>\n",
              "      <td>...</td>\n",
              "      <td>...</td>\n",
              "      <td>...</td>\n",
              "      <td>...</td>\n",
              "      <td>...</td>\n",
              "      <td>...</td>\n",
              "      <td>...</td>\n",
              "      <td>...</td>\n",
              "      <td>...</td>\n",
              "      <td>...</td>\n",
              "      <td>...</td>\n",
              "      <td>...</td>\n",
              "      <td>...</td>\n",
              "      <td>...</td>\n",
              "      <td>...</td>\n",
              "      <td>...</td>\n",
              "      <td>...</td>\n",
              "      <td>...</td>\n",
              "      <td>...</td>\n",
              "      <td>...</td>\n",
              "      <td>...</td>\n",
              "      <td>...</td>\n",
              "      <td>...</td>\n",
              "      <td>...</td>\n",
              "      <td>...</td>\n",
              "      <td>...</td>\n",
              "      <td>...</td>\n",
              "      <td>...</td>\n",
              "      <td>...</td>\n",
              "      <td>...</td>\n",
              "      <td>...</td>\n",
              "      <td>...</td>\n",
              "      <td>...</td>\n",
              "      <td>...</td>\n",
              "      <td>...</td>\n",
              "      <td>...</td>\n",
              "      <td>...</td>\n",
              "      <td>...</td>\n",
              "      <td>...</td>\n",
              "      <td>...</td>\n",
              "      <td>...</td>\n",
              "      <td>...</td>\n",
              "      <td>...</td>\n",
              "      <td>...</td>\n",
              "      <td>...</td>\n",
              "      <td>...</td>\n",
              "      <td>...</td>\n",
              "      <td>...</td>\n",
              "      <td>...</td>\n",
              "      <td>...</td>\n",
              "      <td>...</td>\n",
              "      <td>...</td>\n",
              "      <td>...</td>\n",
              "      <td>...</td>\n",
              "      <td>...</td>\n",
              "      <td>...</td>\n",
              "      <td>...</td>\n",
              "      <td>...</td>\n",
              "      <td>...</td>\n",
              "      <td>...</td>\n",
              "      <td>...</td>\n",
              "      <td>...</td>\n",
              "      <td>...</td>\n",
              "      <td>...</td>\n",
              "      <td>...</td>\n",
              "      <td>...</td>\n",
              "      <td>...</td>\n",
              "      <td>...</td>\n",
              "    </tr>\n",
              "    <tr>\n",
              "      <th>567</th>\n",
              "      <td>20/7/2021</td>\n",
              "      <td>68403</td>\n",
              "      <td>10152</td>\n",
              "      <td>NaN</td>\n",
              "      <td>NaN</td>\n",
              "      <td>NaN</td>\n",
              "      <td>NaN</td>\n",
              "      <td>NaN</td>\n",
              "      <td>NaN</td>\n",
              "      <td>NaN</td>\n",
              "      <td>NaN</td>\n",
              "      <td>NaN</td>\n",
              "      <td>NaN</td>\n",
              "      <td>NaN</td>\n",
              "      <td>NaN</td>\n",
              "      <td>NaN</td>\n",
              "      <td>NaN</td>\n",
              "      <td>NaN</td>\n",
              "      <td>NaN</td>\n",
              "      <td>NaN</td>\n",
              "      <td>NaN</td>\n",
              "      <td>NaN</td>\n",
              "      <td>NaN</td>\n",
              "      <td>NaN</td>\n",
              "      <td>NaN</td>\n",
              "      <td>NaN</td>\n",
              "      <td>NaN</td>\n",
              "      <td>NaN</td>\n",
              "      <td>NaN</td>\n",
              "      <td>NaN</td>\n",
              "      <td>NaN</td>\n",
              "      <td>NaN</td>\n",
              "      <td>NaN</td>\n",
              "      <td>NaN</td>\n",
              "      <td>NaN</td>\n",
              "      <td>NaN</td>\n",
              "      <td>NaN</td>\n",
              "      <td>NaN</td>\n",
              "      <td>NaN</td>\n",
              "      <td>NaN</td>\n",
              "      <td>...</td>\n",
              "      <td>NaN</td>\n",
              "      <td>NaN</td>\n",
              "      <td>NaN</td>\n",
              "      <td>NaN</td>\n",
              "      <td>NaN</td>\n",
              "      <td>NaN</td>\n",
              "      <td>NaN</td>\n",
              "      <td>NaN</td>\n",
              "      <td>NaN</td>\n",
              "      <td>NaN</td>\n",
              "      <td>NaN</td>\n",
              "      <td>NaN</td>\n",
              "      <td>NaN</td>\n",
              "      <td>NaN</td>\n",
              "      <td>NaN</td>\n",
              "      <td>NaN</td>\n",
              "      <td>NaN</td>\n",
              "      <td>NaN</td>\n",
              "      <td>NaN</td>\n",
              "      <td>NaN</td>\n",
              "      <td>NaN</td>\n",
              "      <td>NaN</td>\n",
              "      <td>NaN</td>\n",
              "      <td>NaN</td>\n",
              "      <td>NaN</td>\n",
              "      <td>NaN</td>\n",
              "      <td>NaN</td>\n",
              "      <td>NaN</td>\n",
              "      <td>NaN</td>\n",
              "      <td>NaN</td>\n",
              "      <td>NaN</td>\n",
              "      <td>NaN</td>\n",
              "      <td>NaN</td>\n",
              "      <td>NaN</td>\n",
              "      <td>NaN</td>\n",
              "      <td>NaN</td>\n",
              "      <td>NaN</td>\n",
              "      <td>NaN</td>\n",
              "      <td>NaN</td>\n",
              "      <td>NaN</td>\n",
              "    </tr>\n",
              "    <tr>\n",
              "      <th>568</th>\n",
              "      <td>21/7/2021</td>\n",
              "      <td>82325</td>\n",
              "      <td>12210</td>\n",
              "      <td>NaN</td>\n",
              "      <td>NaN</td>\n",
              "      <td>NaN</td>\n",
              "      <td>NaN</td>\n",
              "      <td>NaN</td>\n",
              "      <td>NaN</td>\n",
              "      <td>NaN</td>\n",
              "      <td>NaN</td>\n",
              "      <td>NaN</td>\n",
              "      <td>NaN</td>\n",
              "      <td>NaN</td>\n",
              "      <td>NaN</td>\n",
              "      <td>NaN</td>\n",
              "      <td>NaN</td>\n",
              "      <td>NaN</td>\n",
              "      <td>NaN</td>\n",
              "      <td>NaN</td>\n",
              "      <td>NaN</td>\n",
              "      <td>NaN</td>\n",
              "      <td>NaN</td>\n",
              "      <td>NaN</td>\n",
              "      <td>NaN</td>\n",
              "      <td>NaN</td>\n",
              "      <td>NaN</td>\n",
              "      <td>NaN</td>\n",
              "      <td>NaN</td>\n",
              "      <td>NaN</td>\n",
              "      <td>NaN</td>\n",
              "      <td>NaN</td>\n",
              "      <td>NaN</td>\n",
              "      <td>NaN</td>\n",
              "      <td>NaN</td>\n",
              "      <td>NaN</td>\n",
              "      <td>NaN</td>\n",
              "      <td>NaN</td>\n",
              "      <td>NaN</td>\n",
              "      <td>NaN</td>\n",
              "      <td>...</td>\n",
              "      <td>NaN</td>\n",
              "      <td>NaN</td>\n",
              "      <td>NaN</td>\n",
              "      <td>NaN</td>\n",
              "      <td>NaN</td>\n",
              "      <td>NaN</td>\n",
              "      <td>NaN</td>\n",
              "      <td>NaN</td>\n",
              "      <td>NaN</td>\n",
              "      <td>NaN</td>\n",
              "      <td>NaN</td>\n",
              "      <td>NaN</td>\n",
              "      <td>NaN</td>\n",
              "      <td>NaN</td>\n",
              "      <td>NaN</td>\n",
              "      <td>NaN</td>\n",
              "      <td>NaN</td>\n",
              "      <td>NaN</td>\n",
              "      <td>NaN</td>\n",
              "      <td>NaN</td>\n",
              "      <td>NaN</td>\n",
              "      <td>NaN</td>\n",
              "      <td>NaN</td>\n",
              "      <td>NaN</td>\n",
              "      <td>NaN</td>\n",
              "      <td>NaN</td>\n",
              "      <td>NaN</td>\n",
              "      <td>NaN</td>\n",
              "      <td>NaN</td>\n",
              "      <td>NaN</td>\n",
              "      <td>NaN</td>\n",
              "      <td>NaN</td>\n",
              "      <td>NaN</td>\n",
              "      <td>NaN</td>\n",
              "      <td>NaN</td>\n",
              "      <td>NaN</td>\n",
              "      <td>NaN</td>\n",
              "      <td>NaN</td>\n",
              "      <td>NaN</td>\n",
              "      <td>NaN</td>\n",
              "    </tr>\n",
              "    <tr>\n",
              "      <th>569</th>\n",
              "      <td>22/7/2021</td>\n",
              "      <td>62846</td>\n",
              "      <td>10623</td>\n",
              "      <td>NaN</td>\n",
              "      <td>NaN</td>\n",
              "      <td>NaN</td>\n",
              "      <td>NaN</td>\n",
              "      <td>NaN</td>\n",
              "      <td>NaN</td>\n",
              "      <td>NaN</td>\n",
              "      <td>NaN</td>\n",
              "      <td>NaN</td>\n",
              "      <td>NaN</td>\n",
              "      <td>NaN</td>\n",
              "      <td>NaN</td>\n",
              "      <td>NaN</td>\n",
              "      <td>NaN</td>\n",
              "      <td>NaN</td>\n",
              "      <td>NaN</td>\n",
              "      <td>NaN</td>\n",
              "      <td>NaN</td>\n",
              "      <td>NaN</td>\n",
              "      <td>NaN</td>\n",
              "      <td>NaN</td>\n",
              "      <td>NaN</td>\n",
              "      <td>NaN</td>\n",
              "      <td>NaN</td>\n",
              "      <td>NaN</td>\n",
              "      <td>NaN</td>\n",
              "      <td>NaN</td>\n",
              "      <td>NaN</td>\n",
              "      <td>NaN</td>\n",
              "      <td>NaN</td>\n",
              "      <td>NaN</td>\n",
              "      <td>NaN</td>\n",
              "      <td>NaN</td>\n",
              "      <td>NaN</td>\n",
              "      <td>NaN</td>\n",
              "      <td>NaN</td>\n",
              "      <td>NaN</td>\n",
              "      <td>...</td>\n",
              "      <td>NaN</td>\n",
              "      <td>NaN</td>\n",
              "      <td>NaN</td>\n",
              "      <td>NaN</td>\n",
              "      <td>NaN</td>\n",
              "      <td>NaN</td>\n",
              "      <td>NaN</td>\n",
              "      <td>NaN</td>\n",
              "      <td>NaN</td>\n",
              "      <td>NaN</td>\n",
              "      <td>NaN</td>\n",
              "      <td>NaN</td>\n",
              "      <td>NaN</td>\n",
              "      <td>NaN</td>\n",
              "      <td>NaN</td>\n",
              "      <td>NaN</td>\n",
              "      <td>NaN</td>\n",
              "      <td>NaN</td>\n",
              "      <td>NaN</td>\n",
              "      <td>NaN</td>\n",
              "      <td>NaN</td>\n",
              "      <td>NaN</td>\n",
              "      <td>NaN</td>\n",
              "      <td>NaN</td>\n",
              "      <td>NaN</td>\n",
              "      <td>NaN</td>\n",
              "      <td>NaN</td>\n",
              "      <td>NaN</td>\n",
              "      <td>NaN</td>\n",
              "      <td>NaN</td>\n",
              "      <td>NaN</td>\n",
              "      <td>NaN</td>\n",
              "      <td>NaN</td>\n",
              "      <td>NaN</td>\n",
              "      <td>NaN</td>\n",
              "      <td>NaN</td>\n",
              "      <td>NaN</td>\n",
              "      <td>NaN</td>\n",
              "      <td>NaN</td>\n",
              "      <td>NaN</td>\n",
              "    </tr>\n",
              "    <tr>\n",
              "      <th>570</th>\n",
              "      <td>23/7/2021</td>\n",
              "      <td>58851</td>\n",
              "      <td>10200</td>\n",
              "      <td>NaN</td>\n",
              "      <td>NaN</td>\n",
              "      <td>NaN</td>\n",
              "      <td>NaN</td>\n",
              "      <td>NaN</td>\n",
              "      <td>NaN</td>\n",
              "      <td>NaN</td>\n",
              "      <td>NaN</td>\n",
              "      <td>NaN</td>\n",
              "      <td>NaN</td>\n",
              "      <td>NaN</td>\n",
              "      <td>NaN</td>\n",
              "      <td>NaN</td>\n",
              "      <td>NaN</td>\n",
              "      <td>NaN</td>\n",
              "      <td>NaN</td>\n",
              "      <td>NaN</td>\n",
              "      <td>NaN</td>\n",
              "      <td>NaN</td>\n",
              "      <td>NaN</td>\n",
              "      <td>NaN</td>\n",
              "      <td>NaN</td>\n",
              "      <td>NaN</td>\n",
              "      <td>NaN</td>\n",
              "      <td>NaN</td>\n",
              "      <td>NaN</td>\n",
              "      <td>NaN</td>\n",
              "      <td>NaN</td>\n",
              "      <td>NaN</td>\n",
              "      <td>NaN</td>\n",
              "      <td>NaN</td>\n",
              "      <td>NaN</td>\n",
              "      <td>NaN</td>\n",
              "      <td>NaN</td>\n",
              "      <td>NaN</td>\n",
              "      <td>NaN</td>\n",
              "      <td>NaN</td>\n",
              "      <td>...</td>\n",
              "      <td>NaN</td>\n",
              "      <td>NaN</td>\n",
              "      <td>NaN</td>\n",
              "      <td>NaN</td>\n",
              "      <td>NaN</td>\n",
              "      <td>NaN</td>\n",
              "      <td>NaN</td>\n",
              "      <td>NaN</td>\n",
              "      <td>NaN</td>\n",
              "      <td>NaN</td>\n",
              "      <td>NaN</td>\n",
              "      <td>NaN</td>\n",
              "      <td>NaN</td>\n",
              "      <td>NaN</td>\n",
              "      <td>NaN</td>\n",
              "      <td>NaN</td>\n",
              "      <td>NaN</td>\n",
              "      <td>NaN</td>\n",
              "      <td>NaN</td>\n",
              "      <td>NaN</td>\n",
              "      <td>NaN</td>\n",
              "      <td>NaN</td>\n",
              "      <td>NaN</td>\n",
              "      <td>NaN</td>\n",
              "      <td>NaN</td>\n",
              "      <td>NaN</td>\n",
              "      <td>NaN</td>\n",
              "      <td>NaN</td>\n",
              "      <td>NaN</td>\n",
              "      <td>NaN</td>\n",
              "      <td>NaN</td>\n",
              "      <td>NaN</td>\n",
              "      <td>NaN</td>\n",
              "      <td>NaN</td>\n",
              "      <td>NaN</td>\n",
              "      <td>NaN</td>\n",
              "      <td>NaN</td>\n",
              "      <td>NaN</td>\n",
              "      <td>NaN</td>\n",
              "      <td>NaN</td>\n",
              "    </tr>\n",
              "    <tr>\n",
              "      <th>571</th>\n",
              "      <td>24/7/2021</td>\n",
              "      <td>67283</td>\n",
              "      <td>13745</td>\n",
              "      <td>NaN</td>\n",
              "      <td>NaN</td>\n",
              "      <td>NaN</td>\n",
              "      <td>NaN</td>\n",
              "      <td>NaN</td>\n",
              "      <td>NaN</td>\n",
              "      <td>NaN</td>\n",
              "      <td>NaN</td>\n",
              "      <td>NaN</td>\n",
              "      <td>NaN</td>\n",
              "      <td>NaN</td>\n",
              "      <td>NaN</td>\n",
              "      <td>NaN</td>\n",
              "      <td>NaN</td>\n",
              "      <td>NaN</td>\n",
              "      <td>NaN</td>\n",
              "      <td>NaN</td>\n",
              "      <td>NaN</td>\n",
              "      <td>NaN</td>\n",
              "      <td>NaN</td>\n",
              "      <td>NaN</td>\n",
              "      <td>NaN</td>\n",
              "      <td>NaN</td>\n",
              "      <td>NaN</td>\n",
              "      <td>NaN</td>\n",
              "      <td>NaN</td>\n",
              "      <td>NaN</td>\n",
              "      <td>NaN</td>\n",
              "      <td>NaN</td>\n",
              "      <td>NaN</td>\n",
              "      <td>NaN</td>\n",
              "      <td>NaN</td>\n",
              "      <td>NaN</td>\n",
              "      <td>NaN</td>\n",
              "      <td>NaN</td>\n",
              "      <td>NaN</td>\n",
              "      <td>NaN</td>\n",
              "      <td>...</td>\n",
              "      <td>NaN</td>\n",
              "      <td>NaN</td>\n",
              "      <td>NaN</td>\n",
              "      <td>NaN</td>\n",
              "      <td>NaN</td>\n",
              "      <td>NaN</td>\n",
              "      <td>NaN</td>\n",
              "      <td>NaN</td>\n",
              "      <td>NaN</td>\n",
              "      <td>NaN</td>\n",
              "      <td>NaN</td>\n",
              "      <td>NaN</td>\n",
              "      <td>NaN</td>\n",
              "      <td>NaN</td>\n",
              "      <td>NaN</td>\n",
              "      <td>NaN</td>\n",
              "      <td>NaN</td>\n",
              "      <td>NaN</td>\n",
              "      <td>NaN</td>\n",
              "      <td>NaN</td>\n",
              "      <td>NaN</td>\n",
              "      <td>NaN</td>\n",
              "      <td>NaN</td>\n",
              "      <td>NaN</td>\n",
              "      <td>NaN</td>\n",
              "      <td>NaN</td>\n",
              "      <td>NaN</td>\n",
              "      <td>NaN</td>\n",
              "      <td>NaN</td>\n",
              "      <td>NaN</td>\n",
              "      <td>NaN</td>\n",
              "      <td>NaN</td>\n",
              "      <td>NaN</td>\n",
              "      <td>NaN</td>\n",
              "      <td>NaN</td>\n",
              "      <td>NaN</td>\n",
              "      <td>NaN</td>\n",
              "      <td>NaN</td>\n",
              "      <td>NaN</td>\n",
              "      <td>NaN</td>\n",
              "    </tr>\n",
              "  </tbody>\n",
              "</table>\n",
              "<p>572 rows × 122 columns</p>\n",
              "</div>"
            ],
            "text/plain": [
              "                    Date  positive  ...  Unnamed: 120  Unnamed: 121\n",
              "0    Cannot specify date      2963  ...           NaN           NaN\n",
              "1               1/1/2020         0  ...            31           NaN\n",
              "2               2/1/2020         0  ...           Pos           Pos\n",
              "3               3/1/2020         0  ...           NaN           NaN\n",
              "4               4/1/2020         0  ...           NaN           NaN\n",
              "..                   ...       ...  ...           ...           ...\n",
              "567            20/7/2021     68403  ...           NaN           NaN\n",
              "568            21/7/2021     82325  ...           NaN           NaN\n",
              "569            22/7/2021     62846  ...           NaN           NaN\n",
              "570            23/7/2021     58851  ...           NaN           NaN\n",
              "571            24/7/2021     67283  ...           NaN           NaN\n",
              "\n",
              "[572 rows x 122 columns]"
            ]
          },
          "metadata": {
            "tags": []
          },
          "execution_count": 6
        }
      ]
    },
    {
      "cell_type": "markdown",
      "metadata": {
        "id": "Lvih-kHLDNlq"
      },
      "source": [
        "NAN = Not a Number (ช่องว่าง)"
      ]
    },
    {
      "cell_type": "code",
      "metadata": {
        "id": "bIg688TlDMZg",
        "colab": {
          "base_uri": "https://localhost:8080/",
          "height": 417
        },
        "outputId": "4a7bd327-a208-4173-d1b6-fc981d6208f3"
      },
      "source": [
        "data.iloc[:,:3]    #เลือกมาเฉพาะคอลัมน์ที่เราต้องการ อันนี้เอาถึงหลักที่ 3"
      ],
      "execution_count": 7,
      "outputs": [
        {
          "output_type": "execute_result",
          "data": {
            "text/html": [
              "<div>\n",
              "<style scoped>\n",
              "    .dataframe tbody tr th:only-of-type {\n",
              "        vertical-align: middle;\n",
              "    }\n",
              "\n",
              "    .dataframe tbody tr th {\n",
              "        vertical-align: top;\n",
              "    }\n",
              "\n",
              "    .dataframe thead th {\n",
              "        text-align: right;\n",
              "    }\n",
              "</style>\n",
              "<table border=\"1\" class=\"dataframe\">\n",
              "  <thead>\n",
              "    <tr style=\"text-align: right;\">\n",
              "      <th></th>\n",
              "      <th>Date</th>\n",
              "      <th>positive</th>\n",
              "      <th>Total Testing</th>\n",
              "    </tr>\n",
              "  </thead>\n",
              "  <tbody>\n",
              "    <tr>\n",
              "      <th>0</th>\n",
              "      <td>Cannot specify date</td>\n",
              "      <td>2963</td>\n",
              "      <td>32131</td>\n",
              "    </tr>\n",
              "    <tr>\n",
              "      <th>1</th>\n",
              "      <td>1/1/2020</td>\n",
              "      <td>0</td>\n",
              "      <td>0</td>\n",
              "    </tr>\n",
              "    <tr>\n",
              "      <th>2</th>\n",
              "      <td>2/1/2020</td>\n",
              "      <td>0</td>\n",
              "      <td>0</td>\n",
              "    </tr>\n",
              "    <tr>\n",
              "      <th>3</th>\n",
              "      <td>3/1/2020</td>\n",
              "      <td>0</td>\n",
              "      <td>0</td>\n",
              "    </tr>\n",
              "    <tr>\n",
              "      <th>4</th>\n",
              "      <td>4/1/2020</td>\n",
              "      <td>0</td>\n",
              "      <td>2</td>\n",
              "    </tr>\n",
              "    <tr>\n",
              "      <th>...</th>\n",
              "      <td>...</td>\n",
              "      <td>...</td>\n",
              "      <td>...</td>\n",
              "    </tr>\n",
              "    <tr>\n",
              "      <th>567</th>\n",
              "      <td>20/7/2021</td>\n",
              "      <td>68403</td>\n",
              "      <td>10152</td>\n",
              "    </tr>\n",
              "    <tr>\n",
              "      <th>568</th>\n",
              "      <td>21/7/2021</td>\n",
              "      <td>82325</td>\n",
              "      <td>12210</td>\n",
              "    </tr>\n",
              "    <tr>\n",
              "      <th>569</th>\n",
              "      <td>22/7/2021</td>\n",
              "      <td>62846</td>\n",
              "      <td>10623</td>\n",
              "    </tr>\n",
              "    <tr>\n",
              "      <th>570</th>\n",
              "      <td>23/7/2021</td>\n",
              "      <td>58851</td>\n",
              "      <td>10200</td>\n",
              "    </tr>\n",
              "    <tr>\n",
              "      <th>571</th>\n",
              "      <td>24/7/2021</td>\n",
              "      <td>67283</td>\n",
              "      <td>13745</td>\n",
              "    </tr>\n",
              "  </tbody>\n",
              "</table>\n",
              "<p>572 rows × 3 columns</p>\n",
              "</div>"
            ],
            "text/plain": [
              "                    Date  positive  Total Testing\n",
              "0    Cannot specify date      2963          32131\n",
              "1               1/1/2020         0              0\n",
              "2               2/1/2020         0              0\n",
              "3               3/1/2020         0              0\n",
              "4               4/1/2020         0              2\n",
              "..                   ...       ...            ...\n",
              "567            20/7/2021     68403          10152\n",
              "568            21/7/2021     82325          12210\n",
              "569            22/7/2021     62846          10623\n",
              "570            23/7/2021     58851          10200\n",
              "571            24/7/2021     67283          13745\n",
              "\n",
              "[572 rows x 3 columns]"
            ]
          },
          "metadata": {
            "tags": []
          },
          "execution_count": 7
        }
      ]
    },
    {
      "cell_type": "code",
      "metadata": {
        "id": "52EeHAxBD0u2"
      },
      "source": [
        "dataN = data.iloc[:,:3]"
      ],
      "execution_count": 8,
      "outputs": []
    },
    {
      "cell_type": "code",
      "metadata": {
        "id": "PebC3mHRD9DQ",
        "colab": {
          "base_uri": "https://localhost:8080/",
          "height": 417
        },
        "outputId": "91035549-dfc0-4cdf-e0e0-f6cf3c4cfa8e"
      },
      "source": [
        "dataN"
      ],
      "execution_count": 9,
      "outputs": [
        {
          "output_type": "execute_result",
          "data": {
            "text/html": [
              "<div>\n",
              "<style scoped>\n",
              "    .dataframe tbody tr th:only-of-type {\n",
              "        vertical-align: middle;\n",
              "    }\n",
              "\n",
              "    .dataframe tbody tr th {\n",
              "        vertical-align: top;\n",
              "    }\n",
              "\n",
              "    .dataframe thead th {\n",
              "        text-align: right;\n",
              "    }\n",
              "</style>\n",
              "<table border=\"1\" class=\"dataframe\">\n",
              "  <thead>\n",
              "    <tr style=\"text-align: right;\">\n",
              "      <th></th>\n",
              "      <th>Date</th>\n",
              "      <th>positive</th>\n",
              "      <th>Total Testing</th>\n",
              "    </tr>\n",
              "  </thead>\n",
              "  <tbody>\n",
              "    <tr>\n",
              "      <th>0</th>\n",
              "      <td>Cannot specify date</td>\n",
              "      <td>2963</td>\n",
              "      <td>32131</td>\n",
              "    </tr>\n",
              "    <tr>\n",
              "      <th>1</th>\n",
              "      <td>1/1/2020</td>\n",
              "      <td>0</td>\n",
              "      <td>0</td>\n",
              "    </tr>\n",
              "    <tr>\n",
              "      <th>2</th>\n",
              "      <td>2/1/2020</td>\n",
              "      <td>0</td>\n",
              "      <td>0</td>\n",
              "    </tr>\n",
              "    <tr>\n",
              "      <th>3</th>\n",
              "      <td>3/1/2020</td>\n",
              "      <td>0</td>\n",
              "      <td>0</td>\n",
              "    </tr>\n",
              "    <tr>\n",
              "      <th>4</th>\n",
              "      <td>4/1/2020</td>\n",
              "      <td>0</td>\n",
              "      <td>2</td>\n",
              "    </tr>\n",
              "    <tr>\n",
              "      <th>...</th>\n",
              "      <td>...</td>\n",
              "      <td>...</td>\n",
              "      <td>...</td>\n",
              "    </tr>\n",
              "    <tr>\n",
              "      <th>567</th>\n",
              "      <td>20/7/2021</td>\n",
              "      <td>68403</td>\n",
              "      <td>10152</td>\n",
              "    </tr>\n",
              "    <tr>\n",
              "      <th>568</th>\n",
              "      <td>21/7/2021</td>\n",
              "      <td>82325</td>\n",
              "      <td>12210</td>\n",
              "    </tr>\n",
              "    <tr>\n",
              "      <th>569</th>\n",
              "      <td>22/7/2021</td>\n",
              "      <td>62846</td>\n",
              "      <td>10623</td>\n",
              "    </tr>\n",
              "    <tr>\n",
              "      <th>570</th>\n",
              "      <td>23/7/2021</td>\n",
              "      <td>58851</td>\n",
              "      <td>10200</td>\n",
              "    </tr>\n",
              "    <tr>\n",
              "      <th>571</th>\n",
              "      <td>24/7/2021</td>\n",
              "      <td>67283</td>\n",
              "      <td>13745</td>\n",
              "    </tr>\n",
              "  </tbody>\n",
              "</table>\n",
              "<p>572 rows × 3 columns</p>\n",
              "</div>"
            ],
            "text/plain": [
              "                    Date  positive  Total Testing\n",
              "0    Cannot specify date      2963          32131\n",
              "1               1/1/2020         0              0\n",
              "2               2/1/2020         0              0\n",
              "3               3/1/2020         0              0\n",
              "4               4/1/2020         0              2\n",
              "..                   ...       ...            ...\n",
              "567            20/7/2021     68403          10152\n",
              "568            21/7/2021     82325          12210\n",
              "569            22/7/2021     62846          10623\n",
              "570            23/7/2021     58851          10200\n",
              "571            24/7/2021     67283          13745\n",
              "\n",
              "[572 rows x 3 columns]"
            ]
          },
          "metadata": {
            "tags": []
          },
          "execution_count": 9
        }
      ]
    },
    {
      "cell_type": "markdown",
      "metadata": {
        "id": "aGKDQSpuEsEG"
      },
      "source": [
        ".head() .tail()\n",
        "head ดูหัวตาราง\n",
        "tail ดูท้ายตาราง"
      ]
    },
    {
      "cell_type": "code",
      "metadata": {
        "id": "qs6PVHkIE31K",
        "colab": {
          "base_uri": "https://localhost:8080/",
          "height": 203
        },
        "outputId": "785a2684-8269-4669-c5eb-2948d46ae551"
      },
      "source": [
        "dataN.tail()"
      ],
      "execution_count": 10,
      "outputs": [
        {
          "output_type": "execute_result",
          "data": {
            "text/html": [
              "<div>\n",
              "<style scoped>\n",
              "    .dataframe tbody tr th:only-of-type {\n",
              "        vertical-align: middle;\n",
              "    }\n",
              "\n",
              "    .dataframe tbody tr th {\n",
              "        vertical-align: top;\n",
              "    }\n",
              "\n",
              "    .dataframe thead th {\n",
              "        text-align: right;\n",
              "    }\n",
              "</style>\n",
              "<table border=\"1\" class=\"dataframe\">\n",
              "  <thead>\n",
              "    <tr style=\"text-align: right;\">\n",
              "      <th></th>\n",
              "      <th>Date</th>\n",
              "      <th>positive</th>\n",
              "      <th>Total Testing</th>\n",
              "    </tr>\n",
              "  </thead>\n",
              "  <tbody>\n",
              "    <tr>\n",
              "      <th>567</th>\n",
              "      <td>20/7/2021</td>\n",
              "      <td>68403</td>\n",
              "      <td>10152</td>\n",
              "    </tr>\n",
              "    <tr>\n",
              "      <th>568</th>\n",
              "      <td>21/7/2021</td>\n",
              "      <td>82325</td>\n",
              "      <td>12210</td>\n",
              "    </tr>\n",
              "    <tr>\n",
              "      <th>569</th>\n",
              "      <td>22/7/2021</td>\n",
              "      <td>62846</td>\n",
              "      <td>10623</td>\n",
              "    </tr>\n",
              "    <tr>\n",
              "      <th>570</th>\n",
              "      <td>23/7/2021</td>\n",
              "      <td>58851</td>\n",
              "      <td>10200</td>\n",
              "    </tr>\n",
              "    <tr>\n",
              "      <th>571</th>\n",
              "      <td>24/7/2021</td>\n",
              "      <td>67283</td>\n",
              "      <td>13745</td>\n",
              "    </tr>\n",
              "  </tbody>\n",
              "</table>\n",
              "</div>"
            ],
            "text/plain": [
              "          Date  positive  Total Testing\n",
              "567  20/7/2021     68403          10152\n",
              "568  21/7/2021     82325          12210\n",
              "569  22/7/2021     62846          10623\n",
              "570  23/7/2021     58851          10200\n",
              "571  24/7/2021     67283          13745"
            ]
          },
          "metadata": {
            "tags": []
          },
          "execution_count": 10
        }
      ]
    },
    {
      "cell_type": "code",
      "metadata": {
        "id": "Q3-jHoR8E9ZG",
        "colab": {
          "base_uri": "https://localhost:8080/",
          "height": 203
        },
        "outputId": "2784b4a6-8e28-400e-d073-b728cd5dc661"
      },
      "source": [
        "dataN.head()"
      ],
      "execution_count": 11,
      "outputs": [
        {
          "output_type": "execute_result",
          "data": {
            "text/html": [
              "<div>\n",
              "<style scoped>\n",
              "    .dataframe tbody tr th:only-of-type {\n",
              "        vertical-align: middle;\n",
              "    }\n",
              "\n",
              "    .dataframe tbody tr th {\n",
              "        vertical-align: top;\n",
              "    }\n",
              "\n",
              "    .dataframe thead th {\n",
              "        text-align: right;\n",
              "    }\n",
              "</style>\n",
              "<table border=\"1\" class=\"dataframe\">\n",
              "  <thead>\n",
              "    <tr style=\"text-align: right;\">\n",
              "      <th></th>\n",
              "      <th>Date</th>\n",
              "      <th>positive</th>\n",
              "      <th>Total Testing</th>\n",
              "    </tr>\n",
              "  </thead>\n",
              "  <tbody>\n",
              "    <tr>\n",
              "      <th>0</th>\n",
              "      <td>Cannot specify date</td>\n",
              "      <td>2963</td>\n",
              "      <td>32131</td>\n",
              "    </tr>\n",
              "    <tr>\n",
              "      <th>1</th>\n",
              "      <td>1/1/2020</td>\n",
              "      <td>0</td>\n",
              "      <td>0</td>\n",
              "    </tr>\n",
              "    <tr>\n",
              "      <th>2</th>\n",
              "      <td>2/1/2020</td>\n",
              "      <td>0</td>\n",
              "      <td>0</td>\n",
              "    </tr>\n",
              "    <tr>\n",
              "      <th>3</th>\n",
              "      <td>3/1/2020</td>\n",
              "      <td>0</td>\n",
              "      <td>0</td>\n",
              "    </tr>\n",
              "    <tr>\n",
              "      <th>4</th>\n",
              "      <td>4/1/2020</td>\n",
              "      <td>0</td>\n",
              "      <td>2</td>\n",
              "    </tr>\n",
              "  </tbody>\n",
              "</table>\n",
              "</div>"
            ],
            "text/plain": [
              "                  Date  positive  Total Testing\n",
              "0  Cannot specify date      2963          32131\n",
              "1             1/1/2020         0              0\n",
              "2             2/1/2020         0              0\n",
              "3             3/1/2020         0              0\n",
              "4             4/1/2020         0              2"
            ]
          },
          "metadata": {
            "tags": []
          },
          "execution_count": 11
        }
      ]
    },
    {
      "cell_type": "code",
      "metadata": {
        "id": "4zO2WWrLEzan",
        "colab": {
          "base_uri": "https://localhost:8080/",
          "height": 357
        },
        "outputId": "6efbde37-a77b-49e9-a31d-e48213458fdc"
      },
      "source": [
        "dataN.head(10)"
      ],
      "execution_count": 12,
      "outputs": [
        {
          "output_type": "execute_result",
          "data": {
            "text/html": [
              "<div>\n",
              "<style scoped>\n",
              "    .dataframe tbody tr th:only-of-type {\n",
              "        vertical-align: middle;\n",
              "    }\n",
              "\n",
              "    .dataframe tbody tr th {\n",
              "        vertical-align: top;\n",
              "    }\n",
              "\n",
              "    .dataframe thead th {\n",
              "        text-align: right;\n",
              "    }\n",
              "</style>\n",
              "<table border=\"1\" class=\"dataframe\">\n",
              "  <thead>\n",
              "    <tr style=\"text-align: right;\">\n",
              "      <th></th>\n",
              "      <th>Date</th>\n",
              "      <th>positive</th>\n",
              "      <th>Total Testing</th>\n",
              "    </tr>\n",
              "  </thead>\n",
              "  <tbody>\n",
              "    <tr>\n",
              "      <th>0</th>\n",
              "      <td>Cannot specify date</td>\n",
              "      <td>2963</td>\n",
              "      <td>32131</td>\n",
              "    </tr>\n",
              "    <tr>\n",
              "      <th>1</th>\n",
              "      <td>1/1/2020</td>\n",
              "      <td>0</td>\n",
              "      <td>0</td>\n",
              "    </tr>\n",
              "    <tr>\n",
              "      <th>2</th>\n",
              "      <td>2/1/2020</td>\n",
              "      <td>0</td>\n",
              "      <td>0</td>\n",
              "    </tr>\n",
              "    <tr>\n",
              "      <th>3</th>\n",
              "      <td>3/1/2020</td>\n",
              "      <td>0</td>\n",
              "      <td>0</td>\n",
              "    </tr>\n",
              "    <tr>\n",
              "      <th>4</th>\n",
              "      <td>4/1/2020</td>\n",
              "      <td>0</td>\n",
              "      <td>2</td>\n",
              "    </tr>\n",
              "    <tr>\n",
              "      <th>5</th>\n",
              "      <td>5/1/2020</td>\n",
              "      <td>0</td>\n",
              "      <td>2</td>\n",
              "    </tr>\n",
              "    <tr>\n",
              "      <th>6</th>\n",
              "      <td>6/1/2020</td>\n",
              "      <td>0</td>\n",
              "      <td>5</td>\n",
              "    </tr>\n",
              "    <tr>\n",
              "      <th>7</th>\n",
              "      <td>7/1/2020</td>\n",
              "      <td>0</td>\n",
              "      <td>0</td>\n",
              "    </tr>\n",
              "    <tr>\n",
              "      <th>8</th>\n",
              "      <td>8/1/2020</td>\n",
              "      <td>1</td>\n",
              "      <td>1</td>\n",
              "    </tr>\n",
              "    <tr>\n",
              "      <th>9</th>\n",
              "      <td>9/1/2020</td>\n",
              "      <td>4</td>\n",
              "      <td>13</td>\n",
              "    </tr>\n",
              "  </tbody>\n",
              "</table>\n",
              "</div>"
            ],
            "text/plain": [
              "                  Date  positive  Total Testing\n",
              "0  Cannot specify date      2963          32131\n",
              "1             1/1/2020         0              0\n",
              "2             2/1/2020         0              0\n",
              "3             3/1/2020         0              0\n",
              "4             4/1/2020         0              2\n",
              "5             5/1/2020         0              2\n",
              "6             6/1/2020         0              5\n",
              "7             7/1/2020         0              0\n",
              "8             8/1/2020         1              1\n",
              "9             9/1/2020         4             13"
            ]
          },
          "metadata": {
            "tags": []
          },
          "execution_count": 12
        }
      ]
    },
    {
      "cell_type": "code",
      "metadata": {
        "id": "P0H3pj1wFMcu",
        "colab": {
          "base_uri": "https://localhost:8080/",
          "height": 450
        },
        "outputId": "2f7e43a0-9ea9-4f72-b0b4-494593e7657e"
      },
      "source": [
        "dataN.head(n=13)"
      ],
      "execution_count": 13,
      "outputs": [
        {
          "output_type": "execute_result",
          "data": {
            "text/html": [
              "<div>\n",
              "<style scoped>\n",
              "    .dataframe tbody tr th:only-of-type {\n",
              "        vertical-align: middle;\n",
              "    }\n",
              "\n",
              "    .dataframe tbody tr th {\n",
              "        vertical-align: top;\n",
              "    }\n",
              "\n",
              "    .dataframe thead th {\n",
              "        text-align: right;\n",
              "    }\n",
              "</style>\n",
              "<table border=\"1\" class=\"dataframe\">\n",
              "  <thead>\n",
              "    <tr style=\"text-align: right;\">\n",
              "      <th></th>\n",
              "      <th>Date</th>\n",
              "      <th>positive</th>\n",
              "      <th>Total Testing</th>\n",
              "    </tr>\n",
              "  </thead>\n",
              "  <tbody>\n",
              "    <tr>\n",
              "      <th>0</th>\n",
              "      <td>Cannot specify date</td>\n",
              "      <td>2963</td>\n",
              "      <td>32131</td>\n",
              "    </tr>\n",
              "    <tr>\n",
              "      <th>1</th>\n",
              "      <td>1/1/2020</td>\n",
              "      <td>0</td>\n",
              "      <td>0</td>\n",
              "    </tr>\n",
              "    <tr>\n",
              "      <th>2</th>\n",
              "      <td>2/1/2020</td>\n",
              "      <td>0</td>\n",
              "      <td>0</td>\n",
              "    </tr>\n",
              "    <tr>\n",
              "      <th>3</th>\n",
              "      <td>3/1/2020</td>\n",
              "      <td>0</td>\n",
              "      <td>0</td>\n",
              "    </tr>\n",
              "    <tr>\n",
              "      <th>4</th>\n",
              "      <td>4/1/2020</td>\n",
              "      <td>0</td>\n",
              "      <td>2</td>\n",
              "    </tr>\n",
              "    <tr>\n",
              "      <th>5</th>\n",
              "      <td>5/1/2020</td>\n",
              "      <td>0</td>\n",
              "      <td>2</td>\n",
              "    </tr>\n",
              "    <tr>\n",
              "      <th>6</th>\n",
              "      <td>6/1/2020</td>\n",
              "      <td>0</td>\n",
              "      <td>5</td>\n",
              "    </tr>\n",
              "    <tr>\n",
              "      <th>7</th>\n",
              "      <td>7/1/2020</td>\n",
              "      <td>0</td>\n",
              "      <td>0</td>\n",
              "    </tr>\n",
              "    <tr>\n",
              "      <th>8</th>\n",
              "      <td>8/1/2020</td>\n",
              "      <td>1</td>\n",
              "      <td>1</td>\n",
              "    </tr>\n",
              "    <tr>\n",
              "      <th>9</th>\n",
              "      <td>9/1/2020</td>\n",
              "      <td>4</td>\n",
              "      <td>13</td>\n",
              "    </tr>\n",
              "    <tr>\n",
              "      <th>10</th>\n",
              "      <td>10/1/2020</td>\n",
              "      <td>0</td>\n",
              "      <td>18</td>\n",
              "    </tr>\n",
              "    <tr>\n",
              "      <th>11</th>\n",
              "      <td>11/1/2020</td>\n",
              "      <td>0</td>\n",
              "      <td>3</td>\n",
              "    </tr>\n",
              "    <tr>\n",
              "      <th>12</th>\n",
              "      <td>12/1/2020</td>\n",
              "      <td>2</td>\n",
              "      <td>6</td>\n",
              "    </tr>\n",
              "  </tbody>\n",
              "</table>\n",
              "</div>"
            ],
            "text/plain": [
              "                   Date  positive  Total Testing\n",
              "0   Cannot specify date      2963          32131\n",
              "1              1/1/2020         0              0\n",
              "2              2/1/2020         0              0\n",
              "3              3/1/2020         0              0\n",
              "4              4/1/2020         0              2\n",
              "5              5/1/2020         0              2\n",
              "6              6/1/2020         0              5\n",
              "7              7/1/2020         0              0\n",
              "8              8/1/2020         1              1\n",
              "9              9/1/2020         4             13\n",
              "10            10/1/2020         0             18\n",
              "11            11/1/2020         0              3\n",
              "12            12/1/2020         2              6"
            ]
          },
          "metadata": {
            "tags": []
          },
          "execution_count": 13
        }
      ]
    },
    {
      "cell_type": "code",
      "metadata": {
        "id": "I05RVJhqFwiW",
        "colab": {
          "base_uri": "https://localhost:8080/",
          "height": 665
        },
        "outputId": "58d8f775-5727-4f74-ec0c-1d151957d9b8"
      },
      "source": [
        "dataN.tail(20)"
      ],
      "execution_count": 14,
      "outputs": [
        {
          "output_type": "execute_result",
          "data": {
            "text/html": [
              "<div>\n",
              "<style scoped>\n",
              "    .dataframe tbody tr th:only-of-type {\n",
              "        vertical-align: middle;\n",
              "    }\n",
              "\n",
              "    .dataframe tbody tr th {\n",
              "        vertical-align: top;\n",
              "    }\n",
              "\n",
              "    .dataframe thead th {\n",
              "        text-align: right;\n",
              "    }\n",
              "</style>\n",
              "<table border=\"1\" class=\"dataframe\">\n",
              "  <thead>\n",
              "    <tr style=\"text-align: right;\">\n",
              "      <th></th>\n",
              "      <th>Date</th>\n",
              "      <th>positive</th>\n",
              "      <th>Total Testing</th>\n",
              "    </tr>\n",
              "  </thead>\n",
              "  <tbody>\n",
              "    <tr>\n",
              "      <th>552</th>\n",
              "      <td>5/7/2021</td>\n",
              "      <td>4770</td>\n",
              "      <td>52017</td>\n",
              "    </tr>\n",
              "    <tr>\n",
              "      <th>553</th>\n",
              "      <td>6/7/2021</td>\n",
              "      <td>6066</td>\n",
              "      <td>70051</td>\n",
              "    </tr>\n",
              "    <tr>\n",
              "      <th>554</th>\n",
              "      <td>7/7/2021</td>\n",
              "      <td>6224</td>\n",
              "      <td>62695</td>\n",
              "    </tr>\n",
              "    <tr>\n",
              "      <th>555</th>\n",
              "      <td>8/7/2021</td>\n",
              "      <td>6624</td>\n",
              "      <td>66596</td>\n",
              "    </tr>\n",
              "    <tr>\n",
              "      <th>556</th>\n",
              "      <td>9/7/2021</td>\n",
              "      <td>6890</td>\n",
              "      <td>66267</td>\n",
              "    </tr>\n",
              "    <tr>\n",
              "      <th>557</th>\n",
              "      <td>10/7/2021</td>\n",
              "      <td>9045</td>\n",
              "      <td>74906</td>\n",
              "    </tr>\n",
              "    <tr>\n",
              "      <th>558</th>\n",
              "      <td>11/7/2021</td>\n",
              "      <td>8564</td>\n",
              "      <td>77848</td>\n",
              "    </tr>\n",
              "    <tr>\n",
              "      <th>559</th>\n",
              "      <td>12/7/2021</td>\n",
              "      <td>6391</td>\n",
              "      <td>56775</td>\n",
              "    </tr>\n",
              "    <tr>\n",
              "      <th>560</th>\n",
              "      <td>13/7/2021</td>\n",
              "      <td>7549</td>\n",
              "      <td>70798</td>\n",
              "    </tr>\n",
              "    <tr>\n",
              "      <th>561</th>\n",
              "      <td>14/7/2021</td>\n",
              "      <td>7877</td>\n",
              "      <td>65836</td>\n",
              "    </tr>\n",
              "    <tr>\n",
              "      <th>562</th>\n",
              "      <td>15/7/2021</td>\n",
              "      <td>8648</td>\n",
              "      <td>70403</td>\n",
              "    </tr>\n",
              "    <tr>\n",
              "      <th>563</th>\n",
              "      <td>16/7/2021</td>\n",
              "      <td>9627</td>\n",
              "      <td>73260</td>\n",
              "    </tr>\n",
              "    <tr>\n",
              "      <th>564</th>\n",
              "      <td>17/7/2021</td>\n",
              "      <td>9221</td>\n",
              "      <td>68384</td>\n",
              "    </tr>\n",
              "    <tr>\n",
              "      <th>565</th>\n",
              "      <td>18/7/2021</td>\n",
              "      <td>68326</td>\n",
              "      <td>12192</td>\n",
              "    </tr>\n",
              "    <tr>\n",
              "      <th>566</th>\n",
              "      <td>19/7/2021</td>\n",
              "      <td>64522</td>\n",
              "      <td>9466</td>\n",
              "    </tr>\n",
              "    <tr>\n",
              "      <th>567</th>\n",
              "      <td>20/7/2021</td>\n",
              "      <td>68403</td>\n",
              "      <td>10152</td>\n",
              "    </tr>\n",
              "    <tr>\n",
              "      <th>568</th>\n",
              "      <td>21/7/2021</td>\n",
              "      <td>82325</td>\n",
              "      <td>12210</td>\n",
              "    </tr>\n",
              "    <tr>\n",
              "      <th>569</th>\n",
              "      <td>22/7/2021</td>\n",
              "      <td>62846</td>\n",
              "      <td>10623</td>\n",
              "    </tr>\n",
              "    <tr>\n",
              "      <th>570</th>\n",
              "      <td>23/7/2021</td>\n",
              "      <td>58851</td>\n",
              "      <td>10200</td>\n",
              "    </tr>\n",
              "    <tr>\n",
              "      <th>571</th>\n",
              "      <td>24/7/2021</td>\n",
              "      <td>67283</td>\n",
              "      <td>13745</td>\n",
              "    </tr>\n",
              "  </tbody>\n",
              "</table>\n",
              "</div>"
            ],
            "text/plain": [
              "          Date  positive  Total Testing\n",
              "552   5/7/2021      4770          52017\n",
              "553   6/7/2021      6066          70051\n",
              "554   7/7/2021      6224          62695\n",
              "555   8/7/2021      6624          66596\n",
              "556   9/7/2021      6890          66267\n",
              "557  10/7/2021      9045          74906\n",
              "558  11/7/2021      8564          77848\n",
              "559  12/7/2021      6391          56775\n",
              "560  13/7/2021      7549          70798\n",
              "561  14/7/2021      7877          65836\n",
              "562  15/7/2021      8648          70403\n",
              "563  16/7/2021      9627          73260\n",
              "564  17/7/2021      9221          68384\n",
              "565  18/7/2021     68326          12192\n",
              "566  19/7/2021     64522           9466\n",
              "567  20/7/2021     68403          10152\n",
              "568  21/7/2021     82325          12210\n",
              "569  22/7/2021     62846          10623\n",
              "570  23/7/2021     58851          10200\n",
              "571  24/7/2021     67283          13745"
            ]
          },
          "metadata": {
            "tags": []
          },
          "execution_count": 14
        }
      ]
    },
    {
      "cell_type": "code",
      "metadata": {
        "id": "Rlbz1L7DGfU-",
        "colab": {
          "base_uri": "https://localhost:8080/",
          "height": 295
        },
        "outputId": "fccf5768-c524-48a4-ecfe-56f787381e5b"
      },
      "source": [
        "dataN.describe()    "
      ],
      "execution_count": 15,
      "outputs": [
        {
          "output_type": "execute_result",
          "data": {
            "text/html": [
              "<div>\n",
              "<style scoped>\n",
              "    .dataframe tbody tr th:only-of-type {\n",
              "        vertical-align: middle;\n",
              "    }\n",
              "\n",
              "    .dataframe tbody tr th {\n",
              "        vertical-align: top;\n",
              "    }\n",
              "\n",
              "    .dataframe thead th {\n",
              "        text-align: right;\n",
              "    }\n",
              "</style>\n",
              "<table border=\"1\" class=\"dataframe\">\n",
              "  <thead>\n",
              "    <tr style=\"text-align: right;\">\n",
              "      <th></th>\n",
              "      <th>positive</th>\n",
              "      <th>Total Testing</th>\n",
              "    </tr>\n",
              "  </thead>\n",
              "  <tbody>\n",
              "    <tr>\n",
              "      <th>count</th>\n",
              "      <td>572.000000</td>\n",
              "      <td>572.000000</td>\n",
              "    </tr>\n",
              "    <tr>\n",
              "      <th>mean</th>\n",
              "      <td>1521.506993</td>\n",
              "      <td>17116.451049</td>\n",
              "    </tr>\n",
              "    <tr>\n",
              "      <th>std</th>\n",
              "      <td>7562.214501</td>\n",
              "      <td>22202.577993</td>\n",
              "    </tr>\n",
              "    <tr>\n",
              "      <th>min</th>\n",
              "      <td>0.000000</td>\n",
              "      <td>0.000000</td>\n",
              "    </tr>\n",
              "    <tr>\n",
              "      <th>25%</th>\n",
              "      <td>6.000000</td>\n",
              "      <td>3599.500000</td>\n",
              "    </tr>\n",
              "    <tr>\n",
              "      <th>50%</th>\n",
              "      <td>29.000000</td>\n",
              "      <td>5778.500000</td>\n",
              "    </tr>\n",
              "    <tr>\n",
              "      <th>75%</th>\n",
              "      <td>235.250000</td>\n",
              "      <td>19707.000000</td>\n",
              "    </tr>\n",
              "    <tr>\n",
              "      <th>max</th>\n",
              "      <td>82325.000000</td>\n",
              "      <td>82290.000000</td>\n",
              "    </tr>\n",
              "  </tbody>\n",
              "</table>\n",
              "</div>"
            ],
            "text/plain": [
              "           positive  Total Testing\n",
              "count    572.000000     572.000000\n",
              "mean    1521.506993   17116.451049\n",
              "std     7562.214501   22202.577993\n",
              "min        0.000000       0.000000\n",
              "25%        6.000000    3599.500000\n",
              "50%       29.000000    5778.500000\n",
              "75%      235.250000   19707.000000\n",
              "max    82325.000000   82290.000000"
            ]
          },
          "metadata": {
            "tags": []
          },
          "execution_count": 15
        }
      ]
    },
    {
      "cell_type": "markdown",
      "metadata": {
        "id": "Qm-Ny6zld95s"
      },
      "source": [
        "count = จำนวนจุดข้อมูล\n",
        "\n",
        "mean = ค่าเฉลี่ยของคนติดและจำนวนคนที่test ได้\n",
        "\n",
        "std =ส่วนเบี่ยงเบนมาตรฐาน คือความต่างของข้อมูลจากค่ากลางมันเยอะไหม ถ้ามากก็กระจายมาก\n",
        "\n",
        "min = ค่าต่ำสุด\n",
        "\n",
        "25% =ควอไทล์ที่ 1 \n",
        "\n",
        "50% =ควอไทล์ที่ 2 \n",
        "\n",
        "ค่ากลางมีฐานนิยม มัธยฐาน ค่าเฉลี่ย \n",
        "\n",
        "75% = ควอไทล์ที่ 3 \n",
        "\n",
        "max = ค่าสูงสุด\n"
      ]
    },
    {
      "cell_type": "markdown",
      "metadata": {
        "id": "ASNLrKCfLZMV"
      },
      "source": [
        "## Boxplot \n"
      ]
    },
    {
      "cell_type": "markdown",
      "metadata": {
        "id": "zdrYzsphLW0g"
      },
      "source": [
        "![image.png](data:image/png;base64,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)"
      ]
    },
    {
      "cell_type": "markdown",
      "metadata": {
        "id": "0vbjV_2WP7fd"
      },
      "source": [
        "input ที่จำเป็น มี 1 ตัว คือไม่กำหนดค่า default มาให้ "
      ]
    },
    {
      "cell_type": "code",
      "metadata": {
        "id": "rWHgESDELCS-"
      },
      "source": [
        "from matplotlib import pyplot as plt "
      ],
      "execution_count": 16,
      "outputs": []
    },
    {
      "cell_type": "code",
      "metadata": {
        "id": "_P4eBjfZQttD",
        "colab": {
          "base_uri": "https://localhost:8080/"
        },
        "outputId": "ebf36492-9023-4875-d5bf-615029e2bad4"
      },
      "source": [
        "dataN['positive'][1:]"
      ],
      "execution_count": 17,
      "outputs": [
        {
          "output_type": "execute_result",
          "data": {
            "text/plain": [
              "1          0\n",
              "2          0\n",
              "3          0\n",
              "4          0\n",
              "5          0\n",
              "       ...  \n",
              "567    68403\n",
              "568    82325\n",
              "569    62846\n",
              "570    58851\n",
              "571    67283\n",
              "Name: positive, Length: 571, dtype: int64"
            ]
          },
          "metadata": {
            "tags": []
          },
          "execution_count": 17
        }
      ]
    },
    {
      "cell_type": "code",
      "metadata": {
        "id": "oJNKGIogOW1N",
        "colab": {
          "base_uri": "https://localhost:8080/",
          "height": 399
        },
        "outputId": "0d5f0b64-7646-4109-d091-e4f6163dd03b"
      },
      "source": [
        "plt.boxplot(dataN['positive'][1:])"
      ],
      "execution_count": 18,
      "outputs": [
        {
          "output_type": "execute_result",
          "data": {
            "text/plain": [
              "{'boxes': [<matplotlib.lines.Line2D at 0x7f48cd25b990>],\n",
              " 'caps': [<matplotlib.lines.Line2D at 0x7f48cd1e5a10>,\n",
              "  <matplotlib.lines.Line2D at 0x7f48cd1e5f50>],\n",
              " 'fliers': [<matplotlib.lines.Line2D at 0x7f48cd24af50>],\n",
              " 'means': [],\n",
              " 'medians': [<matplotlib.lines.Line2D at 0x7f48cd1ec510>],\n",
              " 'whiskers': [<matplotlib.lines.Line2D at 0x7f48cd25bf50>,\n",
              "  <matplotlib.lines.Line2D at 0x7f48cd1e54d0>]}"
            ]
          },
          "metadata": {
            "tags": []
          },
          "execution_count": 18
        },
        {
          "output_type": "display_data",
          "data": {
            "image/png": "[encoded data removed]",
            "text/plain": [
              "<Figure size 432x288 with 1 Axes>"
            ]
          },
          "metadata": {
            "tags": [],
            "needs_background": "light"
          }
        }
      ]
    },
    {
      "cell_type": "code",
      "metadata": {
        "id": "wGK8oNERSEct",
        "colab": {
          "base_uri": "https://localhost:8080/",
          "height": 399
        },
        "outputId": "3cd7f2e7-314a-41e3-a03f-d584d1db6eb7"
      },
      "source": [
        "plt.boxplot(dataN['Total Testing'] [1:])"
      ],
      "execution_count": 19,
      "outputs": [
        {
          "output_type": "execute_result",
          "data": {
            "text/plain": [
              "{'boxes': [<matplotlib.lines.Line2D at 0x7f48cfb589d0>],\n",
              " 'caps': [<matplotlib.lines.Line2D at 0x7f48ccd28550>,\n",
              "  <matplotlib.lines.Line2D at 0x7f48ccd28a90>],\n",
              " 'fliers': [<matplotlib.lines.Line2D at 0x7f48ccd2e590>],\n",
              " 'means': [],\n",
              " 'medians': [<matplotlib.lines.Line2D at 0x7f48ccd2e050>],\n",
              " 'whiskers': [<matplotlib.lines.Line2D at 0x7f48cd1d2a90>,\n",
              "  <matplotlib.lines.Line2D at 0x7f48cd1d2fd0>]}"
            ]
          },
          "metadata": {
            "tags": []
          },
          "execution_count": 19
        },
        {
          "output_type": "display_data",
          "data": {
            "image/png": "[encoded data removed]",
            "text/plain": [
              "<Figure size 432x288 with 1 Axes>"
            ]
          },
          "metadata": {
            "tags": [],
            "needs_background": "light"
          }
        }
      ]
    },
    {
      "cell_type": "code",
      "metadata": {
        "id": "4aKyIo5TScZl",
        "colab": {
          "base_uri": "https://localhost:8080/",
          "height": 399
        },
        "outputId": "fb4cfd3a-3723-4115-dc42-e0d36546574a"
      },
      "source": [
        "plt.boxplot(dataN['Total Testing'] [-54:])"
      ],
      "execution_count": 20,
      "outputs": [
        {
          "output_type": "execute_result",
          "data": {
            "text/plain": [
              "{'boxes': [<matplotlib.lines.Line2D at 0x7f48ccd0dc10>],\n",
              " 'caps': [<matplotlib.lines.Line2D at 0x7f48ccc94c50>,\n",
              "  <matplotlib.lines.Line2D at 0x7f48ccc991d0>],\n",
              " 'fliers': [<matplotlib.lines.Line2D at 0x7f48ccc99c90>],\n",
              " 'means': [],\n",
              " 'medians': [<matplotlib.lines.Line2D at 0x7f48ccc99750>],\n",
              " 'whiskers': [<matplotlib.lines.Line2D at 0x7f48ccc941d0>,\n",
              "  <matplotlib.lines.Line2D at 0x7f48ccc94710>]}"
            ]
          },
          "metadata": {
            "tags": []
          },
          "execution_count": 20
        },
        {
          "output_type": "display_data",
          "data": {
            "image/png": "[encoded data removed]",
            "text/plain": [
              "<Figure size 432x288 with 1 Axes>"
            ]
          },
          "metadata": {
            "tags": [],
            "needs_background": "light"
          }
        }
      ]
    },
    {
      "cell_type": "code",
      "metadata": {
        "id": "gOWny7MSTizB",
        "colab": {
          "base_uri": "https://localhost:8080/",
          "height": 265
        },
        "outputId": "da266827-d5d3-4758-dadd-c95af123cb5a"
      },
      "source": [
        "ret = plt.boxplot(dataN['Total Testing'] [1:])"
      ],
      "execution_count": 21,
      "outputs": [
        {
          "output_type": "display_data",
          "data": {
            "image/png": "[encoded data removed]",
            "text/plain": [
              "<Figure size 432x288 with 1 Axes>"
            ]
          },
          "metadata": {
            "tags": [],
            "needs_background": "light"
          }
        }
      ]
    },
    {
      "cell_type": "code",
      "metadata": {
        "id": "hyqXepA2TpYI",
        "colab": {
          "base_uri": "https://localhost:8080/",
          "height": 265
        },
        "outputId": "e5d6b081-f651-4e1d-d800-d94206963cf8"
      },
      "source": [
        "ret = plt.boxplot(dataN['Total Testing'] [-54:])"
      ],
      "execution_count": 22,
      "outputs": [
        {
          "output_type": "display_data",
          "data": {
            "image/png": "[encoded data removed]",
            "text/plain": [
              "<Figure size 432x288 with 1 Axes>"
            ]
          },
          "metadata": {
            "tags": [],
            "needs_background": "light"
          }
        }
      ]
    },
    {
      "cell_type": "markdown",
      "metadata": {
        "id": "Q3gxVGNbTaJZ"
      },
      "source": [
        "## Time Series Plot"
      ]
    },
    {
      "cell_type": "code",
      "metadata": {
        "id": "A0nZKyzrTUjK",
        "colab": {
          "base_uri": "https://localhost:8080/"
        },
        "outputId": "9d11d4bb-fb65-42c3-ddbb-6640cf537209"
      },
      "source": [
        "len(dataN['positive'][1:])"
      ],
      "execution_count": 23,
      "outputs": [
        {
          "output_type": "execute_result",
          "data": {
            "text/plain": [
              "571"
            ]
          },
          "metadata": {
            "tags": []
          },
          "execution_count": 23
        }
      ]
    },
    {
      "cell_type": "code",
      "metadata": {
        "id": "zZA3J7UVUB1L",
        "colab": {
          "base_uri": "https://localhost:8080/",
          "height": 282
        },
        "outputId": "d3a93a6f-5d5a-46a0-b7fa-e8bcb13a51d4"
      },
      "source": [
        "plt.plot(range(len(dataN['positive'][1:])),dataN['positive'][1:])"
      ],
      "execution_count": 24,
      "outputs": [
        {
          "output_type": "execute_result",
          "data": {
            "text/plain": [
              "[<matplotlib.lines.Line2D at 0x7f48ccb6b350>]"
            ]
          },
          "metadata": {
            "tags": []
          },
          "execution_count": 24
        },
        {
          "output_type": "display_data",
          "data": {
            "image/png": "[encoded data removed]",
            "text/plain": [
              "<Figure size 432x288 with 1 Axes>"
            ]
          },
          "metadata": {
            "tags": [],
            "needs_background": "light"
          }
        }
      ]
    },
    {
      "cell_type": "code",
      "metadata": {
        "id": "tW4WCFqeUr05",
        "colab": {
          "base_uri": "https://localhost:8080/",
          "height": 282
        },
        "outputId": "14aa763d-7498-4fff-8c02-ca3650e394c9"
      },
      "source": [
        "plt.plot(range(len(dataN['positive'][1:-7])),dataN['positive'][1:-7])  #แกนนึงต้องเป็นเวลาแกนนึงต้องเป็นค่า"
      ],
      "execution_count": 25,
      "outputs": [
        {
          "output_type": "execute_result",
          "data": {
            "text/plain": [
              "[<matplotlib.lines.Line2D at 0x7f48ccad4490>]"
            ]
          },
          "metadata": {
            "tags": []
          },
          "execution_count": 25
        },
        {
          "output_type": "display_data",
          "data": {
            "image/png": "[encoded data removed]",
            "text/plain": [
              "<Figure size 432x288 with 1 Axes>"
            ]
          },
          "metadata": {
            "tags": [],
            "needs_background": "light"
          }
        }
      ]
    },
    {
      "cell_type": "code",
      "metadata": {
        "id": "Wr_GeQo3VEAk",
        "colab": {
          "base_uri": "https://localhost:8080/",
          "height": 282
        },
        "outputId": "33f92950-a2e3-4f61-bd80-7af2cd8a0e13"
      },
      "source": [
        "plt.plot(range(len(dataN['Total Testing'][1:-7])),dataN['Total Testing'][1:-7]) "
      ],
      "execution_count": 26,
      "outputs": [
        {
          "output_type": "execute_result",
          "data": {
            "text/plain": [
              "[<matplotlib.lines.Line2D at 0x7f48ccab8cd0>]"
            ]
          },
          "metadata": {
            "tags": []
          },
          "execution_count": 26
        },
        {
          "output_type": "display_data",
          "data": {
            "image/png": "[encoded data removed]",
            "text/plain": [
              "<Figure size 432x288 with 1 Axes>"
            ]
          },
          "metadata": {
            "tags": [],
            "needs_background": "light"
          }
        }
      ]
    },
    {
      "cell_type": "code",
      "metadata": {
        "id": "7-Suw3f5V6BA",
        "colab": {
          "base_uri": "https://localhost:8080/",
          "height": 282
        },
        "outputId": "9e34262d-c953-4b30-c1ab-347eb34b25ec"
      },
      "source": [
        "plt.plot(range(len(dataN['positive'][1:-7])),dataN['positive'][1:-7],'r--') \n",
        "plt.plot(range(len(dataN['Total Testing'][1:-7])),dataN['Total Testing'][1:-7],'b--') "
      ],
      "execution_count": 27,
      "outputs": [
        {
          "output_type": "execute_result",
          "data": {
            "text/plain": [
              "[<matplotlib.lines.Line2D at 0x7f48cca25c90>]"
            ]
          },
          "metadata": {
            "tags": []
          },
          "execution_count": 27
        },
        {
          "output_type": "display_data",
          "data": {
            "image/png": "[encoded data removed]",
            "text/plain": [
              "<Figure size 432x288 with 1 Axes>"
            ]
          },
          "metadata": {
            "tags": [],
            "needs_background": "light"
          }
        }
      ]
    },
    {
      "cell_type": "code",
      "metadata": {
        "id": "cgX9HQ1XWSdI",
        "colab": {
          "base_uri": "https://localhost:8080/",
          "height": 282
        },
        "outputId": "1e74ad52-5d30-4d98-aa8c-d96038f3fa3b"
      },
      "source": [
        "plt.plot(range(len(dataN['positive'][1:])),dataN['positive'][1:],'r--') \n",
        "plt.plot(range(len(dataN['Total Testing'][1:])),dataN['Total Testing'][1:],'b--') "
      ],
      "execution_count": 28,
      "outputs": [
        {
          "output_type": "execute_result",
          "data": {
            "text/plain": [
              "[<matplotlib.lines.Line2D at 0x7f48cc999390>]"
            ]
          },
          "metadata": {
            "tags": []
          },
          "execution_count": 28
        },
        {
          "output_type": "display_data",
          "data": {
            "image/png": "[encoded data removed]",
            "text/plain": [
              "<Figure size 432x288 with 1 Axes>"
            ]
          },
          "metadata": {
            "tags": [],
            "needs_background": "light"
          }
        }
      ]
    },
    {
      "cell_type": "code",
      "metadata": {
        "id": "LS5IPzbTWfDs",
        "colab": {
          "base_uri": "https://localhost:8080/",
          "height": 282
        },
        "outputId": "b84254f8-6b36-45c5-9578-2cc5b6b6e889"
      },
      "source": [
        "plt.plot(range(len(dataN['positive'][450:])),dataN['positive'][450:],'r--') \n",
        "plt.plot(range(len(dataN['Total Testing'][450:])),dataN['Total Testing'][450:],'b--') "
      ],
      "execution_count": 29,
      "outputs": [
        {
          "output_type": "execute_result",
          "data": {
            "text/plain": [
              "[<matplotlib.lines.Line2D at 0x7f48cc984c10>]"
            ]
          },
          "metadata": {
            "tags": []
          },
          "execution_count": 29
        },
        {
          "output_type": "display_data",
          "data": {
            "image/png": "[encoded data removed]",
            "text/plain": [
              "<Figure size 432x288 with 1 Axes>"
            ]
          },
          "metadata": {
            "tags": [],
            "needs_background": "light"
          }
        }
      ]
    }
  ]
}