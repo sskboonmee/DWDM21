{
  "nbformat": 4,
  "nbformat_minor": 0,
  "metadata": {
    "colab": {
      "name": "Projectlookmhee.ipynb",
      "provenance": [],
      "authorship_tag": "ABX9TyNC0IICUpwQ565EOLTdQp4C",
      "include_colab_link": true
    },
    "kernelspec": {
      "name": "python3",
      "display_name": "Python 3"
    },
    "language_info": {
      "name": "python"
    }
  },
  "cells": [
    {
      "cell_type": "markdown",
      "metadata": {
        "id": "view-in-github",
        "colab_type": "text"
      },
      "source": [
        "<a href=\"https://colab.research.google.com/github/sskboonmee/DWDM21/blob/main/Projectlookmhee.ipynb\" target=\"_parent\"><img src=\"https://colab.research.google.com/assets/colab-badge.svg\" alt=\"Open In Colab\"/></a>"
      ]
    },
    {
      "cell_type": "markdown",
      "metadata": {
        "id": "_hnr_3lGjw9Q"
      },
      "source": [
        "\n",
        "*  ปัญหา คือ ไม่สามารถพยากรณ์ข้อมูลของปีต่อๆไปได้เนื่องจากไม่ทราบความสัมพันธ์ของข้อมูลปัจจุบันที่มีอยู่\n",
        "*   วัตถุประสงค์ คือ ศึกษาความสัมพันธ์ของตารางที่ 1-4 ว่าความสัมพันธ์กันอย่างไร\n",
        "\n",
        "\n",
        "*   ข้อมูลชุดที่ 1 คือ จำนวนผู้ลงทะเบียนใช้บริการอินเทอร์เน็ตความเร็วสูง\n",
        "\n",
        "ที่มา  https://data.go.th/dataset/broadband-subscribers?fbclid=IwAR2hJLTNGiEnMNwRApUdbzzaFUj-1_Ag7HWgdZPxX-oaEKw2PBU0_W3-_m0\n",
        "\n",
        "องค์กร  สำนักงานคณะกรรมการกิจการกระจายเสียง กิจการโทรทัศน์ และกิจการโทรคมนาคมแห่งชาติ\n",
        "\n",
        "*   ข้อมูลชุดที่ 2 คือ อัตราการเข้าถึงของบริการอินเทอร์เน็ตความเร็วสูงต่อจำนวนครัวเรือน\n",
        "\n",
        "ที่มา https://data.go.th/dataset/broadband-penetration-per-household?fbclid=IwAR0tNweDa7pmiAaygo0Z88iFFIYLtQRFjujfaIyEpUub_bFVQEkcCbXAZJc\n",
        "\n",
        "องค์กร  สำนักงานคณะกรรมการกิจการกระจายเสียง กิจการโทรทัศน์ และกิจการโทรคมนาคมแห่งชาติ\n",
        "\n",
        "\n",
        "*   ข้อมูลชุดที่ 3 คือ  อัตราการเข้าถึงของบริการอินเทอร์เน็ตความเร็วสูงต่อจำนวนประชากร\n",
        "\n",
        "ที่มา https://data.go.th/dataset/broadband-penetration-per-population?fbclid=IwAR0D5Z4yxZOXJYPM9hgBJpAVbuWBkxwNzEdW_jWwlvvkCKQxaGERqrxffFs\n",
        "\n",
        "องค์กร  สำนักงานคณะกรรมการกิจการกระจายเสียง กิจการโทรทัศน์ และกิจการโทรคมนาคมแห่งชาติ\n",
        "\n",
        "*   ข้อมูลชุดที่ 4 คือ จำนวนเลขหมายโทรศัพท์เคลื่อนที่ที่ได้รับการจดทะเบียน\n",
        "\n",
        "ที่มา https://data.go.th/dataset/mobile-subscribers?fbclid=IwAR3ZoY2gqT_ogfZwHHI40nC_ejcmi3O9xZMOmcac_rCCdA5brXcHVh85Ayw\n",
        "\n",
        "องค์กร สำนักงานคณะกรรมการกิจการกระจายเสียง กิจการโทรทัศน์ และกิจการโทรคมนาคมแห่งชาติ\n",
        "\n",
        "\n",
        "\n",
        "\n",
        "\n",
        "\n",
        "\n"
      ]
    },
    {
      "cell_type": "markdown",
      "metadata": {
        "id": "KDiF2OQRHhg0"
      },
      "source": [
        "#Data Preprocessing"
      ]
    },
    {
      "cell_type": "code",
      "metadata": {
        "id": "5dvkQC2j9-Fg"
      },
      "source": [
        "import pandas as pd   \n",
        "import os"
      ],
      "execution_count": 1,
      "outputs": []
    },
    {
      "cell_type": "code",
      "metadata": {
        "colab": {
          "base_uri": "https://localhost:8080/"
        },
        "id": "tH-Ycm7g-DVF",
        "outputId": "de400a5b-bd5a-4a0a-998f-c6e58c216cfa"
      },
      "source": [
        "from google.colab import drive\n",
        "drive.mount('/content/drive')"
      ],
      "execution_count": 2,
      "outputs": [
        {
          "output_type": "stream",
          "name": "stdout",
          "text": [
            "Mounted at /content/drive\n"
          ]
        }
      ]
    },
    {
      "cell_type": "code",
      "metadata": {
        "id": "akP23nMr-Izl"
      },
      "source": [
        "path = '/content/drive/My Drive/DWDM2021_DATA'"
      ],
      "execution_count": 3,
      "outputs": []
    },
    {
      "cell_type": "markdown",
      "metadata": {
        "id": "HUDSGABg8z0X"
      },
      "source": [
        "#ข้อมูลชุดที่ 1 จำนวนผู้ลงทะเบียนใช้บริการอินเทอร์เน็ตความเร็วสูง \n",
        "https://data.go.th/dataset/broadband-subscribers?fbclid=IwAR2hJLTNGiEnMNwRApUdbzzaFUj-1_Ag7HWgdZPxX-oaEKw2PBU0_W3-_m0"
      ]
    },
    {
      "cell_type": "markdown",
      "metadata": {
        "id": "zFfXyWW6H_fg"
      },
      "source": [
        "\n",
        "คำอธิบายตาราง\n",
        "\n",
        "*   no. คือ ลำดับ\n",
        "*   quarter คือ ไตรมาส (4 ไตรมาส)\n",
        "*   Thailand Internet Users_subscriber คือ ประเภท\n",
        "*   year คือ ปี\n",
        "*   value_subscriber คือ จำนวนผู้ลงทะเบียนใช้บริการอินเทอร์เน็ตความเร็วสูง\n",
        "\n",
        "\n"
      ]
    },
    {
      "cell_type": "code",
      "metadata": {
        "colab": {
          "base_uri": "https://localhost:8080/",
          "height": 417
        },
        "id": "NwyxrFdh_wuW",
        "outputId": "869199cb-a1ed-4a7e-debb-38bd8650264a"
      },
      "source": [
        "data_subscriber = pd.read_csv(os.path.join(path,'10broadband-subscribers.csv'))  #จำนวนผู้ลงทะเบียนใช้บริการอินเทอร์เน็ตความเร็วสูงเก็บไว้ในตัวแปร data_subscriber\n",
        "data_subscriber"
      ],
      "execution_count": 4,
      "outputs": [
        {
          "output_type": "execute_result",
          "data": {
            "text/html": [
              "<div>\n",
              "<style scoped>\n",
              "    .dataframe tbody tr th:only-of-type {\n",
              "        vertical-align: middle;\n",
              "    }\n",
              "\n",
              "    .dataframe tbody tr th {\n",
              "        vertical-align: top;\n",
              "    }\n",
              "\n",
              "    .dataframe thead th {\n",
              "        text-align: right;\n",
              "    }\n",
              "</style>\n",
              "<table border=\"1\" class=\"dataframe\">\n",
              "  <thead>\n",
              "    <tr style=\"text-align: right;\">\n",
              "      <th></th>\n",
              "      <th>no.</th>\n",
              "      <th>quarter</th>\n",
              "      <th>Thailand Internet Users_subscriber</th>\n",
              "      <th>year</th>\n",
              "      <th>value_subscriber</th>\n",
              "    </tr>\n",
              "  </thead>\n",
              "  <tbody>\n",
              "    <tr>\n",
              "      <th>0</th>\n",
              "      <td>4</td>\n",
              "      <td>4</td>\n",
              "      <td>Total Internet subscribers</td>\n",
              "      <td>2003</td>\n",
              "      <td>652726.00</td>\n",
              "    </tr>\n",
              "    <tr>\n",
              "      <th>1</th>\n",
              "      <td>3</td>\n",
              "      <td>3</td>\n",
              "      <td>Total Internet subscribers</td>\n",
              "      <td>2003</td>\n",
              "      <td>529530.00</td>\n",
              "    </tr>\n",
              "    <tr>\n",
              "      <th>2</th>\n",
              "      <td>2</td>\n",
              "      <td>2</td>\n",
              "      <td>Total Internet subscribers</td>\n",
              "      <td>2003</td>\n",
              "      <td>453043.00</td>\n",
              "    </tr>\n",
              "    <tr>\n",
              "      <th>3</th>\n",
              "      <td>1</td>\n",
              "      <td>1</td>\n",
              "      <td>Total Internet subscribers</td>\n",
              "      <td>2003</td>\n",
              "      <td>365219.00</td>\n",
              "    </tr>\n",
              "    <tr>\n",
              "      <th>4</th>\n",
              "      <td>8</td>\n",
              "      <td>4</td>\n",
              "      <td>Total Internet subscribers</td>\n",
              "      <td>2004</td>\n",
              "      <td>1231344.00</td>\n",
              "    </tr>\n",
              "    <tr>\n",
              "      <th>...</th>\n",
              "      <td>...</td>\n",
              "      <td>...</td>\n",
              "      <td>...</td>\n",
              "      <td>...</td>\n",
              "      <td>...</td>\n",
              "    </tr>\n",
              "    <tr>\n",
              "      <th>68</th>\n",
              "      <td>72</td>\n",
              "      <td>4</td>\n",
              "      <td>Total Internet subscribers</td>\n",
              "      <td>2020</td>\n",
              "      <td>11478264.92</td>\n",
              "    </tr>\n",
              "    <tr>\n",
              "      <th>69</th>\n",
              "      <td>71</td>\n",
              "      <td>3</td>\n",
              "      <td>Total Internet subscribers</td>\n",
              "      <td>2020</td>\n",
              "      <td>11282645.58</td>\n",
              "    </tr>\n",
              "    <tr>\n",
              "      <th>70</th>\n",
              "      <td>70</td>\n",
              "      <td>2</td>\n",
              "      <td>Total Internet subscribers</td>\n",
              "      <td>2020</td>\n",
              "      <td>10912996.14</td>\n",
              "    </tr>\n",
              "    <tr>\n",
              "      <th>71</th>\n",
              "      <td>69</td>\n",
              "      <td>1</td>\n",
              "      <td>Total Internet subscribers</td>\n",
              "      <td>2020</td>\n",
              "      <td>10264995.67</td>\n",
              "    </tr>\n",
              "    <tr>\n",
              "      <th>72</th>\n",
              "      <td>73</td>\n",
              "      <td>1</td>\n",
              "      <td>Total Internet subscribers</td>\n",
              "      <td>2021</td>\n",
              "      <td>11876158.44</td>\n",
              "    </tr>\n",
              "  </tbody>\n",
              "</table>\n",
              "<p>73 rows × 5 columns</p>\n",
              "</div>"
            ],
            "text/plain": [
              "    no.  quarter Thailand Internet Users_subscriber  year  value_subscriber\n",
              "0     4        4         Total Internet subscribers  2003         652726.00\n",
              "1     3        3         Total Internet subscribers  2003         529530.00\n",
              "2     2        2         Total Internet subscribers  2003         453043.00\n",
              "3     1        1         Total Internet subscribers  2003         365219.00\n",
              "4     8        4         Total Internet subscribers  2004        1231344.00\n",
              "..  ...      ...                                ...   ...               ...\n",
              "68   72        4         Total Internet subscribers  2020       11478264.92\n",
              "69   71        3         Total Internet subscribers  2020       11282645.58\n",
              "70   70        2         Total Internet subscribers  2020       10912996.14\n",
              "71   69        1         Total Internet subscribers  2020       10264995.67\n",
              "72   73        1         Total Internet subscribers  2021       11876158.44\n",
              "\n",
              "[73 rows x 5 columns]"
            ]
          },
          "metadata": {},
          "execution_count": 4
        }
      ]
    },
    {
      "cell_type": "code",
      "metadata": {
        "id": "U8N8w-Myn1Cy",
        "colab": {
          "base_uri": "https://localhost:8080/",
          "height": 417
        },
        "outputId": "f743a08a-36f8-4f49-c304-6f3aecdee9d2"
      },
      "source": [
        "data_subscriber2 = data_subscriber.sort_values(by=['no.'])   #เรียงข้อมูลโดยใช้ No. เก็บในตัวแปร data_subscriber2\n",
        "data_subscriber2"
      ],
      "execution_count": 5,
      "outputs": [
        {
          "output_type": "execute_result",
          "data": {
            "text/html": [
              "<div>\n",
              "<style scoped>\n",
              "    .dataframe tbody tr th:only-of-type {\n",
              "        vertical-align: middle;\n",
              "    }\n",
              "\n",
              "    .dataframe tbody tr th {\n",
              "        vertical-align: top;\n",
              "    }\n",
              "\n",
              "    .dataframe thead th {\n",
              "        text-align: right;\n",
              "    }\n",
              "</style>\n",
              "<table border=\"1\" class=\"dataframe\">\n",
              "  <thead>\n",
              "    <tr style=\"text-align: right;\">\n",
              "      <th></th>\n",
              "      <th>no.</th>\n",
              "      <th>quarter</th>\n",
              "      <th>Thailand Internet Users_subscriber</th>\n",
              "      <th>year</th>\n",
              "      <th>value_subscriber</th>\n",
              "    </tr>\n",
              "  </thead>\n",
              "  <tbody>\n",
              "    <tr>\n",
              "      <th>3</th>\n",
              "      <td>1</td>\n",
              "      <td>1</td>\n",
              "      <td>Total Internet subscribers</td>\n",
              "      <td>2003</td>\n",
              "      <td>365219.00</td>\n",
              "    </tr>\n",
              "    <tr>\n",
              "      <th>2</th>\n",
              "      <td>2</td>\n",
              "      <td>2</td>\n",
              "      <td>Total Internet subscribers</td>\n",
              "      <td>2003</td>\n",
              "      <td>453043.00</td>\n",
              "    </tr>\n",
              "    <tr>\n",
              "      <th>1</th>\n",
              "      <td>3</td>\n",
              "      <td>3</td>\n",
              "      <td>Total Internet subscribers</td>\n",
              "      <td>2003</td>\n",
              "      <td>529530.00</td>\n",
              "    </tr>\n",
              "    <tr>\n",
              "      <th>0</th>\n",
              "      <td>4</td>\n",
              "      <td>4</td>\n",
              "      <td>Total Internet subscribers</td>\n",
              "      <td>2003</td>\n",
              "      <td>652726.00</td>\n",
              "    </tr>\n",
              "    <tr>\n",
              "      <th>7</th>\n",
              "      <td>5</td>\n",
              "      <td>1</td>\n",
              "      <td>Total Internet subscribers</td>\n",
              "      <td>2004</td>\n",
              "      <td>785931.00</td>\n",
              "    </tr>\n",
              "    <tr>\n",
              "      <th>...</th>\n",
              "      <td>...</td>\n",
              "      <td>...</td>\n",
              "      <td>...</td>\n",
              "      <td>...</td>\n",
              "      <td>...</td>\n",
              "    </tr>\n",
              "    <tr>\n",
              "      <th>71</th>\n",
              "      <td>69</td>\n",
              "      <td>1</td>\n",
              "      <td>Total Internet subscribers</td>\n",
              "      <td>2020</td>\n",
              "      <td>10264995.67</td>\n",
              "    </tr>\n",
              "    <tr>\n",
              "      <th>70</th>\n",
              "      <td>70</td>\n",
              "      <td>2</td>\n",
              "      <td>Total Internet subscribers</td>\n",
              "      <td>2020</td>\n",
              "      <td>10912996.14</td>\n",
              "    </tr>\n",
              "    <tr>\n",
              "      <th>69</th>\n",
              "      <td>71</td>\n",
              "      <td>3</td>\n",
              "      <td>Total Internet subscribers</td>\n",
              "      <td>2020</td>\n",
              "      <td>11282645.58</td>\n",
              "    </tr>\n",
              "    <tr>\n",
              "      <th>68</th>\n",
              "      <td>72</td>\n",
              "      <td>4</td>\n",
              "      <td>Total Internet subscribers</td>\n",
              "      <td>2020</td>\n",
              "      <td>11478264.92</td>\n",
              "    </tr>\n",
              "    <tr>\n",
              "      <th>72</th>\n",
              "      <td>73</td>\n",
              "      <td>1</td>\n",
              "      <td>Total Internet subscribers</td>\n",
              "      <td>2021</td>\n",
              "      <td>11876158.44</td>\n",
              "    </tr>\n",
              "  </tbody>\n",
              "</table>\n",
              "<p>73 rows × 5 columns</p>\n",
              "</div>"
            ],
            "text/plain": [
              "    no.  quarter Thailand Internet Users_subscriber  year  value_subscriber\n",
              "3     1        1         Total Internet subscribers  2003         365219.00\n",
              "2     2        2         Total Internet subscribers  2003         453043.00\n",
              "1     3        3         Total Internet subscribers  2003         529530.00\n",
              "0     4        4         Total Internet subscribers  2003         652726.00\n",
              "7     5        1         Total Internet subscribers  2004         785931.00\n",
              "..  ...      ...                                ...   ...               ...\n",
              "71   69        1         Total Internet subscribers  2020       10264995.67\n",
              "70   70        2         Total Internet subscribers  2020       10912996.14\n",
              "69   71        3         Total Internet subscribers  2020       11282645.58\n",
              "68   72        4         Total Internet subscribers  2020       11478264.92\n",
              "72   73        1         Total Internet subscribers  2021       11876158.44\n",
              "\n",
              "[73 rows x 5 columns]"
            ]
          },
          "metadata": {},
          "execution_count": 5
        }
      ]
    },
    {
      "cell_type": "markdown",
      "metadata": {
        "id": "cQLMTtP29E_f"
      },
      "source": [
        "#ข้อมูลชุดที่ 2 อัตราการเข้าถึงของบริการอินเทอร์เน็ตความเร็วสูงต่อจำนวนครัวเรือน\n",
        "https://data.go.th/dataset/broadband-penetration-per-household?fbclid=IwAR0tNweDa7pmiAaygo0Z88iFFIYLtQRFjujfaIyEpUub_bFVQEkcCbXAZJc"
      ]
    },
    {
      "cell_type": "markdown",
      "metadata": {
        "id": "zu4fQyydLw5Y"
      },
      "source": [
        "คำอธิบายตาราง\n",
        "*   no. คือ ลำดับ\n",
        "*   type_household คือ ประเภท\n",
        "*   quarter คือ ไตรมาส (4 ไตรมาส)\n",
        "*   year คือ ปี\n",
        "*   value_household คือ อัตราการเข้าถึงของบริการอินเทอร์เน็ตความเร็วสูงต่อจำนวนครัวเรือน\n"
      ]
    },
    {
      "cell_type": "code",
      "metadata": {
        "id": "0BRzfc4N7k4T",
        "colab": {
          "base_uri": "https://localhost:8080/",
          "height": 417
        },
        "outputId": "01d66e64-b42d-4c62-b578-c9a066752b03"
      },
      "source": [
        "data_household = pd.read_csv(os.path.join(path,'12broadband-penetration-per-household-.csv'))  #อัตราการเข้าถึงของบริการอินเทอร์เน็ตความเร็วสูงต่อจำนวนครัวเรือนเก็บไว้ในตัวแปร data_household\n",
        "data_household"
      ],
      "execution_count": 46,
      "outputs": [
        {
          "output_type": "execute_result",
          "data": {
            "text/html": [
              "<div>\n",
              "<style scoped>\n",
              "    .dataframe tbody tr th:only-of-type {\n",
              "        vertical-align: middle;\n",
              "    }\n",
              "\n",
              "    .dataframe tbody tr th {\n",
              "        vertical-align: top;\n",
              "    }\n",
              "\n",
              "    .dataframe thead th {\n",
              "        text-align: right;\n",
              "    }\n",
              "</style>\n",
              "<table border=\"1\" class=\"dataframe\">\n",
              "  <thead>\n",
              "    <tr style=\"text-align: right;\">\n",
              "      <th></th>\n",
              "      <th>no.</th>\n",
              "      <th>type_household</th>\n",
              "      <th>quarter</th>\n",
              "      <th>year</th>\n",
              "      <th>value_household</th>\n",
              "    </tr>\n",
              "  </thead>\n",
              "  <tbody>\n",
              "    <tr>\n",
              "      <th>0</th>\n",
              "      <td>4</td>\n",
              "      <td>per household (%)</td>\n",
              "      <td>4</td>\n",
              "      <td>2003</td>\n",
              "      <td>0.000649</td>\n",
              "    </tr>\n",
              "    <tr>\n",
              "      <th>1</th>\n",
              "      <td>3</td>\n",
              "      <td>per household (%)</td>\n",
              "      <td>3</td>\n",
              "      <td>2003</td>\n",
              "      <td>0.000459</td>\n",
              "    </tr>\n",
              "    <tr>\n",
              "      <th>2</th>\n",
              "      <td>2</td>\n",
              "      <td>per household (%)</td>\n",
              "      <td>2</td>\n",
              "      <td>2003</td>\n",
              "      <td>0.000343</td>\n",
              "    </tr>\n",
              "    <tr>\n",
              "      <th>3</th>\n",
              "      <td>1</td>\n",
              "      <td>per household (%)</td>\n",
              "      <td>1</td>\n",
              "      <td>2003</td>\n",
              "      <td>0.000281</td>\n",
              "    </tr>\n",
              "    <tr>\n",
              "      <th>4</th>\n",
              "      <td>8</td>\n",
              "      <td>per household (%)</td>\n",
              "      <td>4</td>\n",
              "      <td>2004</td>\n",
              "      <td>0.008716</td>\n",
              "    </tr>\n",
              "    <tr>\n",
              "      <th>...</th>\n",
              "      <td>...</td>\n",
              "      <td>...</td>\n",
              "      <td>...</td>\n",
              "      <td>...</td>\n",
              "      <td>...</td>\n",
              "    </tr>\n",
              "    <tr>\n",
              "      <th>68</th>\n",
              "      <td>72</td>\n",
              "      <td>per household (%)</td>\n",
              "      <td>4</td>\n",
              "      <td>2020</td>\n",
              "      <td>0.514683</td>\n",
              "    </tr>\n",
              "    <tr>\n",
              "      <th>69</th>\n",
              "      <td>71</td>\n",
              "      <td>per household (%)</td>\n",
              "      <td>3</td>\n",
              "      <td>2020</td>\n",
              "      <td>0.515873</td>\n",
              "    </tr>\n",
              "    <tr>\n",
              "      <th>70</th>\n",
              "      <td>70</td>\n",
              "      <td>per household (%)</td>\n",
              "      <td>2</td>\n",
              "      <td>2020</td>\n",
              "      <td>0.498972</td>\n",
              "    </tr>\n",
              "    <tr>\n",
              "      <th>71</th>\n",
              "      <td>69</td>\n",
              "      <td>per household (%)</td>\n",
              "      <td>1</td>\n",
              "      <td>2020</td>\n",
              "      <td>0.469344</td>\n",
              "    </tr>\n",
              "    <tr>\n",
              "      <th>72</th>\n",
              "      <td>73</td>\n",
              "      <td>per household (%)</td>\n",
              "      <td>1</td>\n",
              "      <td>2021</td>\n",
              "      <td>0.532524</td>\n",
              "    </tr>\n",
              "  </tbody>\n",
              "</table>\n",
              "<p>73 rows × 5 columns</p>\n",
              "</div>"
            ],
            "text/plain": [
              "    no.     type_household  quarter  year  value_household\n",
              "0     4  per household (%)        4  2003         0.000649\n",
              "1     3  per household (%)        3  2003         0.000459\n",
              "2     2  per household (%)        2  2003         0.000343\n",
              "3     1  per household (%)        1  2003         0.000281\n",
              "4     8  per household (%)        4  2004         0.008716\n",
              "..  ...                ...      ...   ...              ...\n",
              "68   72  per household (%)        4  2020         0.514683\n",
              "69   71  per household (%)        3  2020         0.515873\n",
              "70   70  per household (%)        2  2020         0.498972\n",
              "71   69  per household (%)        1  2020         0.469344\n",
              "72   73  per household (%)        1  2021         0.532524\n",
              "\n",
              "[73 rows x 5 columns]"
            ]
          },
          "metadata": {},
          "execution_count": 46
        }
      ]
    },
    {
      "cell_type": "code",
      "metadata": {
        "id": "cWDmKUt_78eL",
        "colab": {
          "base_uri": "https://localhost:8080/",
          "height": 417
        },
        "outputId": "b4b5bba5-f8e4-45d3-a81f-7a3d35128c4e"
      },
      "source": [
        "data_household2 = data_household.sort_values(by=['no.'])  #เรียงข้อมูลโดยใช้ No. เก็บในตัวแปร data_household2\n",
        "data_household2"
      ],
      "execution_count": 7,
      "outputs": [
        {
          "output_type": "execute_result",
          "data": {
            "text/html": [
              "<div>\n",
              "<style scoped>\n",
              "    .dataframe tbody tr th:only-of-type {\n",
              "        vertical-align: middle;\n",
              "    }\n",
              "\n",
              "    .dataframe tbody tr th {\n",
              "        vertical-align: top;\n",
              "    }\n",
              "\n",
              "    .dataframe thead th {\n",
              "        text-align: right;\n",
              "    }\n",
              "</style>\n",
              "<table border=\"1\" class=\"dataframe\">\n",
              "  <thead>\n",
              "    <tr style=\"text-align: right;\">\n",
              "      <th></th>\n",
              "      <th>no.</th>\n",
              "      <th>type_household</th>\n",
              "      <th>quarter</th>\n",
              "      <th>year</th>\n",
              "      <th>value_household</th>\n",
              "    </tr>\n",
              "  </thead>\n",
              "  <tbody>\n",
              "    <tr>\n",
              "      <th>3</th>\n",
              "      <td>1</td>\n",
              "      <td>per household (%)</td>\n",
              "      <td>1</td>\n",
              "      <td>2003</td>\n",
              "      <td>0.000281</td>\n",
              "    </tr>\n",
              "    <tr>\n",
              "      <th>2</th>\n",
              "      <td>2</td>\n",
              "      <td>per household (%)</td>\n",
              "      <td>2</td>\n",
              "      <td>2003</td>\n",
              "      <td>0.000343</td>\n",
              "    </tr>\n",
              "    <tr>\n",
              "      <th>1</th>\n",
              "      <td>3</td>\n",
              "      <td>per household (%)</td>\n",
              "      <td>3</td>\n",
              "      <td>2003</td>\n",
              "      <td>0.000459</td>\n",
              "    </tr>\n",
              "    <tr>\n",
              "      <th>0</th>\n",
              "      <td>4</td>\n",
              "      <td>per household (%)</td>\n",
              "      <td>4</td>\n",
              "      <td>2003</td>\n",
              "      <td>0.000649</td>\n",
              "    </tr>\n",
              "    <tr>\n",
              "      <th>7</th>\n",
              "      <td>5</td>\n",
              "      <td>per household (%)</td>\n",
              "      <td>1</td>\n",
              "      <td>2004</td>\n",
              "      <td>0.001556</td>\n",
              "    </tr>\n",
              "    <tr>\n",
              "      <th>...</th>\n",
              "      <td>...</td>\n",
              "      <td>...</td>\n",
              "      <td>...</td>\n",
              "      <td>...</td>\n",
              "      <td>...</td>\n",
              "    </tr>\n",
              "    <tr>\n",
              "      <th>71</th>\n",
              "      <td>69</td>\n",
              "      <td>per household (%)</td>\n",
              "      <td>1</td>\n",
              "      <td>2020</td>\n",
              "      <td>0.469344</td>\n",
              "    </tr>\n",
              "    <tr>\n",
              "      <th>70</th>\n",
              "      <td>70</td>\n",
              "      <td>per household (%)</td>\n",
              "      <td>2</td>\n",
              "      <td>2020</td>\n",
              "      <td>0.498972</td>\n",
              "    </tr>\n",
              "    <tr>\n",
              "      <th>69</th>\n",
              "      <td>71</td>\n",
              "      <td>per household (%)</td>\n",
              "      <td>3</td>\n",
              "      <td>2020</td>\n",
              "      <td>0.515873</td>\n",
              "    </tr>\n",
              "    <tr>\n",
              "      <th>68</th>\n",
              "      <td>72</td>\n",
              "      <td>per household (%)</td>\n",
              "      <td>4</td>\n",
              "      <td>2020</td>\n",
              "      <td>0.514683</td>\n",
              "    </tr>\n",
              "    <tr>\n",
              "      <th>72</th>\n",
              "      <td>73</td>\n",
              "      <td>per household (%)</td>\n",
              "      <td>1</td>\n",
              "      <td>2021</td>\n",
              "      <td>0.532524</td>\n",
              "    </tr>\n",
              "  </tbody>\n",
              "</table>\n",
              "<p>73 rows × 5 columns</p>\n",
              "</div>"
            ],
            "text/plain": [
              "    no.     type_household  quarter  year  value_household\n",
              "3     1  per household (%)        1  2003         0.000281\n",
              "2     2  per household (%)        2  2003         0.000343\n",
              "1     3  per household (%)        3  2003         0.000459\n",
              "0     4  per household (%)        4  2003         0.000649\n",
              "7     5  per household (%)        1  2004         0.001556\n",
              "..  ...                ...      ...   ...              ...\n",
              "71   69  per household (%)        1  2020         0.469344\n",
              "70   70  per household (%)        2  2020         0.498972\n",
              "69   71  per household (%)        3  2020         0.515873\n",
              "68   72  per household (%)        4  2020         0.514683\n",
              "72   73  per household (%)        1  2021         0.532524\n",
              "\n",
              "[73 rows x 5 columns]"
            ]
          },
          "metadata": {},
          "execution_count": 7
        }
      ]
    },
    {
      "cell_type": "markdown",
      "metadata": {
        "id": "5wqCXoxS9a5v"
      },
      "source": [
        "#ข้อมูลชุดที่ 3 อัตราการเข้าถึงของบริการอินเทอร์เน็ตความเร็วสูงต่อจำนวนประชากร\n",
        "\n",
        "https://data.go.th/dataset/broadband-penetration-per-population?fbclid=IwAR0D5Z4yxZOXJYPM9hgBJpAVbuWBkxwNzEdW_jWwlvvkCKQxaGERqrxffFs"
      ]
    },
    {
      "cell_type": "markdown",
      "metadata": {
        "id": "2x9wDEDpL0oE"
      },
      "source": [
        "\n",
        "คำอธิบายตาราง\n",
        "*   no. คือ ลำดับ\n",
        "*   type_population คือ ประเภท\n",
        "*   quarter คือ ไตรมาส (4 ไตรมาส)\n",
        "*   year คือ ปี\n",
        "*   value_population คือ อัตราการเข้าถึงของบริการอินเทอร์เน็ตความเร็วสูงต่อจำนวนประชากร"
      ]
    },
    {
      "cell_type": "code",
      "metadata": {
        "colab": {
          "base_uri": "https://localhost:8080/",
          "height": 417
        },
        "id": "ocbi-LTh_120",
        "outputId": "30a8efc2-3125-42ff-e417-439948f4082e"
      },
      "source": [
        "data_population = pd.read_csv(os.path.join(path,'11broadband-penetration-per-population-.csv'))  #อัตราการเข้าถึงของบริการอินเทอร์เน็ตความเร็วสูงต่อจำนวนประชากร ชื่อ data_population\n",
        "data_population"
      ],
      "execution_count": 8,
      "outputs": [
        {
          "output_type": "execute_result",
          "data": {
            "text/html": [
              "<div>\n",
              "<style scoped>\n",
              "    .dataframe tbody tr th:only-of-type {\n",
              "        vertical-align: middle;\n",
              "    }\n",
              "\n",
              "    .dataframe tbody tr th {\n",
              "        vertical-align: top;\n",
              "    }\n",
              "\n",
              "    .dataframe thead th {\n",
              "        text-align: right;\n",
              "    }\n",
              "</style>\n",
              "<table border=\"1\" class=\"dataframe\">\n",
              "  <thead>\n",
              "    <tr style=\"text-align: right;\">\n",
              "      <th></th>\n",
              "      <th>no.</th>\n",
              "      <th>type_population</th>\n",
              "      <th>quarter</th>\n",
              "      <th>year</th>\n",
              "      <th>value_population</th>\n",
              "    </tr>\n",
              "  </thead>\n",
              "  <tbody>\n",
              "    <tr>\n",
              "      <th>0</th>\n",
              "      <td>1</td>\n",
              "      <td>per population (%)</td>\n",
              "      <td>1</td>\n",
              "      <td>2003</td>\n",
              "      <td>0.0001</td>\n",
              "    </tr>\n",
              "    <tr>\n",
              "      <th>1</th>\n",
              "      <td>2</td>\n",
              "      <td>per population (%)</td>\n",
              "      <td>2</td>\n",
              "      <td>2003</td>\n",
              "      <td>0.0001</td>\n",
              "    </tr>\n",
              "    <tr>\n",
              "      <th>2</th>\n",
              "      <td>3</td>\n",
              "      <td>per population (%)</td>\n",
              "      <td>3</td>\n",
              "      <td>2003</td>\n",
              "      <td>0.0001</td>\n",
              "    </tr>\n",
              "    <tr>\n",
              "      <th>3</th>\n",
              "      <td>4</td>\n",
              "      <td>per population (%)</td>\n",
              "      <td>4</td>\n",
              "      <td>2003</td>\n",
              "      <td>0.0002</td>\n",
              "    </tr>\n",
              "    <tr>\n",
              "      <th>4</th>\n",
              "      <td>5</td>\n",
              "      <td>per population (%)</td>\n",
              "      <td>1</td>\n",
              "      <td>2004</td>\n",
              "      <td>0.0005</td>\n",
              "    </tr>\n",
              "    <tr>\n",
              "      <th>...</th>\n",
              "      <td>...</td>\n",
              "      <td>...</td>\n",
              "      <td>...</td>\n",
              "      <td>...</td>\n",
              "      <td>...</td>\n",
              "    </tr>\n",
              "    <tr>\n",
              "      <th>68</th>\n",
              "      <td>69</td>\n",
              "      <td>per population (%)</td>\n",
              "      <td>1</td>\n",
              "      <td>2020</td>\n",
              "      <td>0.1510</td>\n",
              "    </tr>\n",
              "    <tr>\n",
              "      <th>69</th>\n",
              "      <td>70</td>\n",
              "      <td>per population (%)</td>\n",
              "      <td>2</td>\n",
              "      <td>2020</td>\n",
              "      <td>0.1605</td>\n",
              "    </tr>\n",
              "    <tr>\n",
              "      <th>70</th>\n",
              "      <td>71</td>\n",
              "      <td>per population (%)</td>\n",
              "      <td>3</td>\n",
              "      <td>2020</td>\n",
              "      <td>0.1659</td>\n",
              "    </tr>\n",
              "    <tr>\n",
              "      <th>71</th>\n",
              "      <td>72</td>\n",
              "      <td>per population (%)</td>\n",
              "      <td>4</td>\n",
              "      <td>2020</td>\n",
              "      <td>0.1685</td>\n",
              "    </tr>\n",
              "    <tr>\n",
              "      <th>72</th>\n",
              "      <td>73</td>\n",
              "      <td>per population (%)</td>\n",
              "      <td>1</td>\n",
              "      <td>2021</td>\n",
              "      <td>0.1740</td>\n",
              "    </tr>\n",
              "  </tbody>\n",
              "</table>\n",
              "<p>73 rows × 5 columns</p>\n",
              "</div>"
            ],
            "text/plain": [
              "    no.     type_population  quarter  year  value_population\n",
              "0     1  per population (%)        1  2003            0.0001\n",
              "1     2  per population (%)        2  2003            0.0001\n",
              "2     3  per population (%)        3  2003            0.0001\n",
              "3     4  per population (%)        4  2003            0.0002\n",
              "4     5  per population (%)        1  2004            0.0005\n",
              "..  ...                 ...      ...   ...               ...\n",
              "68   69  per population (%)        1  2020            0.1510\n",
              "69   70  per population (%)        2  2020            0.1605\n",
              "70   71  per population (%)        3  2020            0.1659\n",
              "71   72  per population (%)        4  2020            0.1685\n",
              "72   73  per population (%)        1  2021            0.1740\n",
              "\n",
              "[73 rows x 5 columns]"
            ]
          },
          "metadata": {},
          "execution_count": 8
        }
      ]
    },
    {
      "cell_type": "markdown",
      "metadata": {
        "id": "z_JqjfZEAD_z"
      },
      "source": [
        "#เชค Missing"
      ]
    },
    {
      "cell_type": "code",
      "metadata": {
        "colab": {
          "base_uri": "https://localhost:8080/"
        },
        "id": "IQ8lQiEnAN_T",
        "outputId": "902bca75-4d1f-4ce8-c8d5-2dc83b86efa6"
      },
      "source": [
        "data_household2.isnull().any()  #check missing ตาราง data_household2 พบว่า ขึ้น False คือไม่มี Missing "
      ],
      "execution_count": 9,
      "outputs": [
        {
          "output_type": "execute_result",
          "data": {
            "text/plain": [
              "no.                False\n",
              "type_household     False\n",
              "quarter            False\n",
              "year               False\n",
              "value_household    False\n",
              "dtype: bool"
            ]
          },
          "metadata": {},
          "execution_count": 9
        }
      ]
    },
    {
      "cell_type": "code",
      "metadata": {
        "id": "ZdMicM3osFA6",
        "colab": {
          "base_uri": "https://localhost:8080/"
        },
        "outputId": "d4e0b486-d5f8-40b6-caac-b571ba8714b0"
      },
      "source": [
        "data_subscriber2.isnull().any()  #check missing ตาราง data_subscriber2 พบว่าไม่มี Missing"
      ],
      "execution_count": 10,
      "outputs": [
        {
          "output_type": "execute_result",
          "data": {
            "text/plain": [
              "no.                                   False\n",
              "quarter                               False\n",
              "Thailand Internet Users_subscriber    False\n",
              "year                                  False\n",
              "value_subscriber                      False\n",
              "dtype: bool"
            ]
          },
          "metadata": {},
          "execution_count": 10
        }
      ]
    },
    {
      "cell_type": "code",
      "metadata": {
        "colab": {
          "base_uri": "https://localhost:8080/"
        },
        "id": "5l25X0whAUWD",
        "outputId": "23f2fbe8-cfad-4e9b-dec0-8d6be08d6e06"
      },
      "source": [
        "data_population.isnull().any()  #check missing ตาราง data_population พบว่าไม่มี Missing"
      ],
      "execution_count": 11,
      "outputs": [
        {
          "output_type": "execute_result",
          "data": {
            "text/plain": [
              "no.                 False\n",
              "type_population     False\n",
              "quarter             False\n",
              "year                False\n",
              "value_population    False\n",
              "dtype: bool"
            ]
          },
          "metadata": {},
          "execution_count": 11
        }
      ]
    },
    {
      "cell_type": "markdown",
      "metadata": {
        "id": "bv2ZIHbSEXmE"
      },
      "source": [
        "#ต่อตาราง"
      ]
    },
    {
      "cell_type": "code",
      "metadata": {
        "id": "FxBgY6YH269r",
        "colab": {
          "base_uri": "https://localhost:8080/",
          "height": 417
        },
        "outputId": "d4936528-e460-4416-9392-0e72635b3d03"
      },
      "source": [
        "data_population.drop(['quarter','year'], axis=1, inplace=True)  #drop colunm ไตรมาสกับปีออกเพราะชุดข้อมูลที่จะเชื่อมมีเหมือนกัน โดยที่ Axis=1 คือ ลบ Column\n",
        "data_population"
      ],
      "execution_count": 12,
      "outputs": [
        {
          "output_type": "execute_result",
          "data": {
            "text/html": [
              "<div>\n",
              "<style scoped>\n",
              "    .dataframe tbody tr th:only-of-type {\n",
              "        vertical-align: middle;\n",
              "    }\n",
              "\n",
              "    .dataframe tbody tr th {\n",
              "        vertical-align: top;\n",
              "    }\n",
              "\n",
              "    .dataframe thead th {\n",
              "        text-align: right;\n",
              "    }\n",
              "</style>\n",
              "<table border=\"1\" class=\"dataframe\">\n",
              "  <thead>\n",
              "    <tr style=\"text-align: right;\">\n",
              "      <th></th>\n",
              "      <th>no.</th>\n",
              "      <th>type_population</th>\n",
              "      <th>value_population</th>\n",
              "    </tr>\n",
              "  </thead>\n",
              "  <tbody>\n",
              "    <tr>\n",
              "      <th>0</th>\n",
              "      <td>1</td>\n",
              "      <td>per population (%)</td>\n",
              "      <td>0.0001</td>\n",
              "    </tr>\n",
              "    <tr>\n",
              "      <th>1</th>\n",
              "      <td>2</td>\n",
              "      <td>per population (%)</td>\n",
              "      <td>0.0001</td>\n",
              "    </tr>\n",
              "    <tr>\n",
              "      <th>2</th>\n",
              "      <td>3</td>\n",
              "      <td>per population (%)</td>\n",
              "      <td>0.0001</td>\n",
              "    </tr>\n",
              "    <tr>\n",
              "      <th>3</th>\n",
              "      <td>4</td>\n",
              "      <td>per population (%)</td>\n",
              "      <td>0.0002</td>\n",
              "    </tr>\n",
              "    <tr>\n",
              "      <th>4</th>\n",
              "      <td>5</td>\n",
              "      <td>per population (%)</td>\n",
              "      <td>0.0005</td>\n",
              "    </tr>\n",
              "    <tr>\n",
              "      <th>...</th>\n",
              "      <td>...</td>\n",
              "      <td>...</td>\n",
              "      <td>...</td>\n",
              "    </tr>\n",
              "    <tr>\n",
              "      <th>68</th>\n",
              "      <td>69</td>\n",
              "      <td>per population (%)</td>\n",
              "      <td>0.1510</td>\n",
              "    </tr>\n",
              "    <tr>\n",
              "      <th>69</th>\n",
              "      <td>70</td>\n",
              "      <td>per population (%)</td>\n",
              "      <td>0.1605</td>\n",
              "    </tr>\n",
              "    <tr>\n",
              "      <th>70</th>\n",
              "      <td>71</td>\n",
              "      <td>per population (%)</td>\n",
              "      <td>0.1659</td>\n",
              "    </tr>\n",
              "    <tr>\n",
              "      <th>71</th>\n",
              "      <td>72</td>\n",
              "      <td>per population (%)</td>\n",
              "      <td>0.1685</td>\n",
              "    </tr>\n",
              "    <tr>\n",
              "      <th>72</th>\n",
              "      <td>73</td>\n",
              "      <td>per population (%)</td>\n",
              "      <td>0.1740</td>\n",
              "    </tr>\n",
              "  </tbody>\n",
              "</table>\n",
              "<p>73 rows × 3 columns</p>\n",
              "</div>"
            ],
            "text/plain": [
              "    no.     type_population  value_population\n",
              "0     1  per population (%)            0.0001\n",
              "1     2  per population (%)            0.0001\n",
              "2     3  per population (%)            0.0001\n",
              "3     4  per population (%)            0.0002\n",
              "4     5  per population (%)            0.0005\n",
              "..  ...                 ...               ...\n",
              "68   69  per population (%)            0.1510\n",
              "69   70  per population (%)            0.1605\n",
              "70   71  per population (%)            0.1659\n",
              "71   72  per population (%)            0.1685\n",
              "72   73  per population (%)            0.1740\n",
              "\n",
              "[73 rows x 3 columns]"
            ]
          },
          "metadata": {},
          "execution_count": 12
        }
      ]
    },
    {
      "cell_type": "code",
      "metadata": {
        "id": "cZaLbOpty0bL",
        "colab": {
          "base_uri": "https://localhost:8080/",
          "height": 417
        },
        "outputId": "0b44dc0c-6b65-4157-ecfa-218af70efa18"
      },
      "source": [
        "merge_table1 = data_subscriber2.merge(data_population,how='left', left_on='no.',right_on='no.')  # เชื่อมตาราง data_subscriber2 กับ data_population  โดยให้ตาราง data_subscriber2 เป็นตารางหลักอยู่ที่ด้านซ้าย\n",
        "merge_table1"
      ],
      "execution_count": 47,
      "outputs": [
        {
          "output_type": "execute_result",
          "data": {
            "text/html": [
              "<div>\n",
              "<style scoped>\n",
              "    .dataframe tbody tr th:only-of-type {\n",
              "        vertical-align: middle;\n",
              "    }\n",
              "\n",
              "    .dataframe tbody tr th {\n",
              "        vertical-align: top;\n",
              "    }\n",
              "\n",
              "    .dataframe thead th {\n",
              "        text-align: right;\n",
              "    }\n",
              "</style>\n",
              "<table border=\"1\" class=\"dataframe\">\n",
              "  <thead>\n",
              "    <tr style=\"text-align: right;\">\n",
              "      <th></th>\n",
              "      <th>no.</th>\n",
              "      <th>quarter</th>\n",
              "      <th>Thailand Internet Users_subscriber</th>\n",
              "      <th>year</th>\n",
              "      <th>value_subscriber</th>\n",
              "      <th>type_population</th>\n",
              "      <th>value_population</th>\n",
              "    </tr>\n",
              "  </thead>\n",
              "  <tbody>\n",
              "    <tr>\n",
              "      <th>0</th>\n",
              "      <td>1</td>\n",
              "      <td>1</td>\n",
              "      <td>Total Internet subscribers</td>\n",
              "      <td>2003</td>\n",
              "      <td>365219.00</td>\n",
              "      <td>per population (%)</td>\n",
              "      <td>0.0001</td>\n",
              "    </tr>\n",
              "    <tr>\n",
              "      <th>1</th>\n",
              "      <td>2</td>\n",
              "      <td>2</td>\n",
              "      <td>Total Internet subscribers</td>\n",
              "      <td>2003</td>\n",
              "      <td>453043.00</td>\n",
              "      <td>per population (%)</td>\n",
              "      <td>0.0001</td>\n",
              "    </tr>\n",
              "    <tr>\n",
              "      <th>2</th>\n",
              "      <td>3</td>\n",
              "      <td>3</td>\n",
              "      <td>Total Internet subscribers</td>\n",
              "      <td>2003</td>\n",
              "      <td>529530.00</td>\n",
              "      <td>per population (%)</td>\n",
              "      <td>0.0001</td>\n",
              "    </tr>\n",
              "    <tr>\n",
              "      <th>3</th>\n",
              "      <td>4</td>\n",
              "      <td>4</td>\n",
              "      <td>Total Internet subscribers</td>\n",
              "      <td>2003</td>\n",
              "      <td>652726.00</td>\n",
              "      <td>per population (%)</td>\n",
              "      <td>0.0002</td>\n",
              "    </tr>\n",
              "    <tr>\n",
              "      <th>4</th>\n",
              "      <td>5</td>\n",
              "      <td>1</td>\n",
              "      <td>Total Internet subscribers</td>\n",
              "      <td>2004</td>\n",
              "      <td>785931.00</td>\n",
              "      <td>per population (%)</td>\n",
              "      <td>0.0005</td>\n",
              "    </tr>\n",
              "    <tr>\n",
              "      <th>...</th>\n",
              "      <td>...</td>\n",
              "      <td>...</td>\n",
              "      <td>...</td>\n",
              "      <td>...</td>\n",
              "      <td>...</td>\n",
              "      <td>...</td>\n",
              "      <td>...</td>\n",
              "    </tr>\n",
              "    <tr>\n",
              "      <th>68</th>\n",
              "      <td>69</td>\n",
              "      <td>1</td>\n",
              "      <td>Total Internet subscribers</td>\n",
              "      <td>2020</td>\n",
              "      <td>10264995.67</td>\n",
              "      <td>per population (%)</td>\n",
              "      <td>0.1510</td>\n",
              "    </tr>\n",
              "    <tr>\n",
              "      <th>69</th>\n",
              "      <td>70</td>\n",
              "      <td>2</td>\n",
              "      <td>Total Internet subscribers</td>\n",
              "      <td>2020</td>\n",
              "      <td>10912996.14</td>\n",
              "      <td>per population (%)</td>\n",
              "      <td>0.1605</td>\n",
              "    </tr>\n",
              "    <tr>\n",
              "      <th>70</th>\n",
              "      <td>71</td>\n",
              "      <td>3</td>\n",
              "      <td>Total Internet subscribers</td>\n",
              "      <td>2020</td>\n",
              "      <td>11282645.58</td>\n",
              "      <td>per population (%)</td>\n",
              "      <td>0.1659</td>\n",
              "    </tr>\n",
              "    <tr>\n",
              "      <th>71</th>\n",
              "      <td>72</td>\n",
              "      <td>4</td>\n",
              "      <td>Total Internet subscribers</td>\n",
              "      <td>2020</td>\n",
              "      <td>11478264.92</td>\n",
              "      <td>per population (%)</td>\n",
              "      <td>0.1685</td>\n",
              "    </tr>\n",
              "    <tr>\n",
              "      <th>72</th>\n",
              "      <td>73</td>\n",
              "      <td>1</td>\n",
              "      <td>Total Internet subscribers</td>\n",
              "      <td>2021</td>\n",
              "      <td>11876158.44</td>\n",
              "      <td>per population (%)</td>\n",
              "      <td>0.1740</td>\n",
              "    </tr>\n",
              "  </tbody>\n",
              "</table>\n",
              "<p>73 rows × 7 columns</p>\n",
              "</div>"
            ],
            "text/plain": [
              "    no.  quarter  ...     type_population  value_population\n",
              "0     1        1  ...  per population (%)            0.0001\n",
              "1     2        2  ...  per population (%)            0.0001\n",
              "2     3        3  ...  per population (%)            0.0001\n",
              "3     4        4  ...  per population (%)            0.0002\n",
              "4     5        1  ...  per population (%)            0.0005\n",
              "..  ...      ...  ...                 ...               ...\n",
              "68   69        1  ...  per population (%)            0.1510\n",
              "69   70        2  ...  per population (%)            0.1605\n",
              "70   71        3  ...  per population (%)            0.1659\n",
              "71   72        4  ...  per population (%)            0.1685\n",
              "72   73        1  ...  per population (%)            0.1740\n",
              "\n",
              "[73 rows x 7 columns]"
            ]
          },
          "metadata": {},
          "execution_count": 47
        }
      ]
    },
    {
      "cell_type": "code",
      "metadata": {
        "id": "L1wSiRjKCvv8",
        "colab": {
          "base_uri": "https://localhost:8080/",
          "height": 417
        },
        "outputId": "7beffcdc-c594-4b4c-ee43-3c84ced217c9"
      },
      "source": [
        "data_household2.drop(['quarter','year'], axis=1, inplace=True)  #drop ปีกับไตรมาสออก\n",
        "data_household2"
      ],
      "execution_count": 14,
      "outputs": [
        {
          "output_type": "execute_result",
          "data": {
            "text/html": [
              "<div>\n",
              "<style scoped>\n",
              "    .dataframe tbody tr th:only-of-type {\n",
              "        vertical-align: middle;\n",
              "    }\n",
              "\n",
              "    .dataframe tbody tr th {\n",
              "        vertical-align: top;\n",
              "    }\n",
              "\n",
              "    .dataframe thead th {\n",
              "        text-align: right;\n",
              "    }\n",
              "</style>\n",
              "<table border=\"1\" class=\"dataframe\">\n",
              "  <thead>\n",
              "    <tr style=\"text-align: right;\">\n",
              "      <th></th>\n",
              "      <th>no.</th>\n",
              "      <th>type_household</th>\n",
              "      <th>value_household</th>\n",
              "    </tr>\n",
              "  </thead>\n",
              "  <tbody>\n",
              "    <tr>\n",
              "      <th>3</th>\n",
              "      <td>1</td>\n",
              "      <td>per household (%)</td>\n",
              "      <td>0.000281</td>\n",
              "    </tr>\n",
              "    <tr>\n",
              "      <th>2</th>\n",
              "      <td>2</td>\n",
              "      <td>per household (%)</td>\n",
              "      <td>0.000343</td>\n",
              "    </tr>\n",
              "    <tr>\n",
              "      <th>1</th>\n",
              "      <td>3</td>\n",
              "      <td>per household (%)</td>\n",
              "      <td>0.000459</td>\n",
              "    </tr>\n",
              "    <tr>\n",
              "      <th>0</th>\n",
              "      <td>4</td>\n",
              "      <td>per household (%)</td>\n",
              "      <td>0.000649</td>\n",
              "    </tr>\n",
              "    <tr>\n",
              "      <th>7</th>\n",
              "      <td>5</td>\n",
              "      <td>per household (%)</td>\n",
              "      <td>0.001556</td>\n",
              "    </tr>\n",
              "    <tr>\n",
              "      <th>...</th>\n",
              "      <td>...</td>\n",
              "      <td>...</td>\n",
              "      <td>...</td>\n",
              "    </tr>\n",
              "    <tr>\n",
              "      <th>71</th>\n",
              "      <td>69</td>\n",
              "      <td>per household (%)</td>\n",
              "      <td>0.469344</td>\n",
              "    </tr>\n",
              "    <tr>\n",
              "      <th>70</th>\n",
              "      <td>70</td>\n",
              "      <td>per household (%)</td>\n",
              "      <td>0.498972</td>\n",
              "    </tr>\n",
              "    <tr>\n",
              "      <th>69</th>\n",
              "      <td>71</td>\n",
              "      <td>per household (%)</td>\n",
              "      <td>0.515873</td>\n",
              "    </tr>\n",
              "    <tr>\n",
              "      <th>68</th>\n",
              "      <td>72</td>\n",
              "      <td>per household (%)</td>\n",
              "      <td>0.514683</td>\n",
              "    </tr>\n",
              "    <tr>\n",
              "      <th>72</th>\n",
              "      <td>73</td>\n",
              "      <td>per household (%)</td>\n",
              "      <td>0.532524</td>\n",
              "    </tr>\n",
              "  </tbody>\n",
              "</table>\n",
              "<p>73 rows × 3 columns</p>\n",
              "</div>"
            ],
            "text/plain": [
              "    no.     type_household  value_household\n",
              "3     1  per household (%)         0.000281\n",
              "2     2  per household (%)         0.000343\n",
              "1     3  per household (%)         0.000459\n",
              "0     4  per household (%)         0.000649\n",
              "7     5  per household (%)         0.001556\n",
              "..  ...                ...              ...\n",
              "71   69  per household (%)         0.469344\n",
              "70   70  per household (%)         0.498972\n",
              "69   71  per household (%)         0.515873\n",
              "68   72  per household (%)         0.514683\n",
              "72   73  per household (%)         0.532524\n",
              "\n",
              "[73 rows x 3 columns]"
            ]
          },
          "metadata": {},
          "execution_count": 14
        }
      ]
    },
    {
      "cell_type": "code",
      "metadata": {
        "id": "qR_JD7Xi8y_N",
        "colab": {
          "base_uri": "https://localhost:8080/",
          "height": 417
        },
        "outputId": "26419ce6-bc66-41ca-fe0e-8cac535275d7"
      },
      "source": [
        "merge_table2 = merge_table.merge(data_household2,how='left', left_on='no.',right_on='no.')  # เชื่อมตาราง merge_table และ data_household2  โดยให้ตาราง merge_table เป็นตารางหลักอยู่ที่ด้านซ้าย\n",
        "merge_table2"
      ],
      "execution_count": 48,
      "outputs": [
        {
          "output_type": "execute_result",
          "data": {
            "text/html": [
              "<div>\n",
              "<style scoped>\n",
              "    .dataframe tbody tr th:only-of-type {\n",
              "        vertical-align: middle;\n",
              "    }\n",
              "\n",
              "    .dataframe tbody tr th {\n",
              "        vertical-align: top;\n",
              "    }\n",
              "\n",
              "    .dataframe thead th {\n",
              "        text-align: right;\n",
              "    }\n",
              "</style>\n",
              "<table border=\"1\" class=\"dataframe\">\n",
              "  <thead>\n",
              "    <tr style=\"text-align: right;\">\n",
              "      <th></th>\n",
              "      <th>no.</th>\n",
              "      <th>quarter</th>\n",
              "      <th>Thailand Internet Users_subscriber</th>\n",
              "      <th>year</th>\n",
              "      <th>value_subscriber</th>\n",
              "      <th>type_population</th>\n",
              "      <th>value_population</th>\n",
              "      <th>type_household</th>\n",
              "      <th>value_household</th>\n",
              "    </tr>\n",
              "  </thead>\n",
              "  <tbody>\n",
              "    <tr>\n",
              "      <th>0</th>\n",
              "      <td>1</td>\n",
              "      <td>1</td>\n",
              "      <td>Total Internet subscribers</td>\n",
              "      <td>2003</td>\n",
              "      <td>365219.00</td>\n",
              "      <td>per population (%)</td>\n",
              "      <td>0.0001</td>\n",
              "      <td>per household (%)</td>\n",
              "      <td>0.000281</td>\n",
              "    </tr>\n",
              "    <tr>\n",
              "      <th>1</th>\n",
              "      <td>2</td>\n",
              "      <td>2</td>\n",
              "      <td>Total Internet subscribers</td>\n",
              "      <td>2003</td>\n",
              "      <td>453043.00</td>\n",
              "      <td>per population (%)</td>\n",
              "      <td>0.0001</td>\n",
              "      <td>per household (%)</td>\n",
              "      <td>0.000343</td>\n",
              "    </tr>\n",
              "    <tr>\n",
              "      <th>2</th>\n",
              "      <td>3</td>\n",
              "      <td>3</td>\n",
              "      <td>Total Internet subscribers</td>\n",
              "      <td>2003</td>\n",
              "      <td>529530.00</td>\n",
              "      <td>per population (%)</td>\n",
              "      <td>0.0001</td>\n",
              "      <td>per household (%)</td>\n",
              "      <td>0.000459</td>\n",
              "    </tr>\n",
              "    <tr>\n",
              "      <th>3</th>\n",
              "      <td>4</td>\n",
              "      <td>4</td>\n",
              "      <td>Total Internet subscribers</td>\n",
              "      <td>2003</td>\n",
              "      <td>652726.00</td>\n",
              "      <td>per population (%)</td>\n",
              "      <td>0.0002</td>\n",
              "      <td>per household (%)</td>\n",
              "      <td>0.000649</td>\n",
              "    </tr>\n",
              "    <tr>\n",
              "      <th>4</th>\n",
              "      <td>5</td>\n",
              "      <td>1</td>\n",
              "      <td>Total Internet subscribers</td>\n",
              "      <td>2004</td>\n",
              "      <td>785931.00</td>\n",
              "      <td>per population (%)</td>\n",
              "      <td>0.0005</td>\n",
              "      <td>per household (%)</td>\n",
              "      <td>0.001556</td>\n",
              "    </tr>\n",
              "    <tr>\n",
              "      <th>...</th>\n",
              "      <td>...</td>\n",
              "      <td>...</td>\n",
              "      <td>...</td>\n",
              "      <td>...</td>\n",
              "      <td>...</td>\n",
              "      <td>...</td>\n",
              "      <td>...</td>\n",
              "      <td>...</td>\n",
              "      <td>...</td>\n",
              "    </tr>\n",
              "    <tr>\n",
              "      <th>68</th>\n",
              "      <td>69</td>\n",
              "      <td>1</td>\n",
              "      <td>Total Internet subscribers</td>\n",
              "      <td>2020</td>\n",
              "      <td>10264995.67</td>\n",
              "      <td>per population (%)</td>\n",
              "      <td>0.1510</td>\n",
              "      <td>per household (%)</td>\n",
              "      <td>0.469344</td>\n",
              "    </tr>\n",
              "    <tr>\n",
              "      <th>69</th>\n",
              "      <td>70</td>\n",
              "      <td>2</td>\n",
              "      <td>Total Internet subscribers</td>\n",
              "      <td>2020</td>\n",
              "      <td>10912996.14</td>\n",
              "      <td>per population (%)</td>\n",
              "      <td>0.1605</td>\n",
              "      <td>per household (%)</td>\n",
              "      <td>0.498972</td>\n",
              "    </tr>\n",
              "    <tr>\n",
              "      <th>70</th>\n",
              "      <td>71</td>\n",
              "      <td>3</td>\n",
              "      <td>Total Internet subscribers</td>\n",
              "      <td>2020</td>\n",
              "      <td>11282645.58</td>\n",
              "      <td>per population (%)</td>\n",
              "      <td>0.1659</td>\n",
              "      <td>per household (%)</td>\n",
              "      <td>0.515873</td>\n",
              "    </tr>\n",
              "    <tr>\n",
              "      <th>71</th>\n",
              "      <td>72</td>\n",
              "      <td>4</td>\n",
              "      <td>Total Internet subscribers</td>\n",
              "      <td>2020</td>\n",
              "      <td>11478264.92</td>\n",
              "      <td>per population (%)</td>\n",
              "      <td>0.1685</td>\n",
              "      <td>per household (%)</td>\n",
              "      <td>0.514683</td>\n",
              "    </tr>\n",
              "    <tr>\n",
              "      <th>72</th>\n",
              "      <td>73</td>\n",
              "      <td>1</td>\n",
              "      <td>Total Internet subscribers</td>\n",
              "      <td>2021</td>\n",
              "      <td>11876158.44</td>\n",
              "      <td>per population (%)</td>\n",
              "      <td>0.1740</td>\n",
              "      <td>per household (%)</td>\n",
              "      <td>0.532524</td>\n",
              "    </tr>\n",
              "  </tbody>\n",
              "</table>\n",
              "<p>73 rows × 9 columns</p>\n",
              "</div>"
            ],
            "text/plain": [
              "    no.  quarter  ...     type_household  value_household\n",
              "0     1        1  ...  per household (%)         0.000281\n",
              "1     2        2  ...  per household (%)         0.000343\n",
              "2     3        3  ...  per household (%)         0.000459\n",
              "3     4        4  ...  per household (%)         0.000649\n",
              "4     5        1  ...  per household (%)         0.001556\n",
              "..  ...      ...  ...                ...              ...\n",
              "68   69        1  ...  per household (%)         0.469344\n",
              "69   70        2  ...  per household (%)         0.498972\n",
              "70   71        3  ...  per household (%)         0.515873\n",
              "71   72        4  ...  per household (%)         0.514683\n",
              "72   73        1  ...  per household (%)         0.532524\n",
              "\n",
              "[73 rows x 9 columns]"
            ]
          },
          "metadata": {},
          "execution_count": 48
        }
      ]
    },
    {
      "cell_type": "markdown",
      "metadata": {
        "id": "KANteQ_z-h4f"
      },
      "source": [
        "#ชุดข้อมูลที่อาจารย์ให้หาเพิ่ม  คือ ข้อมูลชุดที่ 4 จำนวนเลขหมายโทรศัพท์เคลื่อนที่ที่ได้รับการจดทะเบียน\n",
        "https://data.go.th/dataset/mobile-subscribers?fbclid=IwAR3ZoY2gqT_ogfZwHHI40nC_ejcmi3O9xZMOmcac_rCCdA5brXcHVh85Ayw"
      ]
    },
    {
      "cell_type": "markdown",
      "metadata": {
        "id": "WfbrJ2_NMI5m"
      },
      "source": [
        "\n",
        "คำอธิบายตาราง\n",
        "\n",
        "\n",
        "*   no. คือ ลำดับ\n",
        "*   Mobile Market Report คือ ประเภท\n",
        "*  quarter คือ ไตรมาส (4 ไตรมาส)\n",
        "*   year คือ ปี\n",
        "*   value_mobile คือ จำนวนเลขหมายโทรศัพท์เคลื่อนที่ที่ได้รับการจดทะเบียน\n",
        "\n",
        "\n"
      ]
    },
    {
      "cell_type": "code",
      "metadata": {
        "id": "O3J-xM5OqDCE",
        "colab": {
          "base_uri": "https://localhost:8080/",
          "height": 417
        },
        "outputId": "e57c2212-b65b-4781-a5eb-59f16d117cf8"
      },
      "source": [
        "data_mobile = pd.read_csv(os.path.join(path,'05mobile-subscribers.csv'))  #จำนวนเลขหมายโทรศัพท์เคลื่อนที่ที่ได้รับการจดทะเบียน เก็บในตัวแปรชื่อdata_mobile\n",
        "data_mobile"
      ],
      "execution_count": 16,
      "outputs": [
        {
          "output_type": "execute_result",
          "data": {
            "text/html": [
              "<div>\n",
              "<style scoped>\n",
              "    .dataframe tbody tr th:only-of-type {\n",
              "        vertical-align: middle;\n",
              "    }\n",
              "\n",
              "    .dataframe tbody tr th {\n",
              "        vertical-align: top;\n",
              "    }\n",
              "\n",
              "    .dataframe thead th {\n",
              "        text-align: right;\n",
              "    }\n",
              "</style>\n",
              "<table border=\"1\" class=\"dataframe\">\n",
              "  <thead>\n",
              "    <tr style=\"text-align: right;\">\n",
              "      <th></th>\n",
              "      <th>no.</th>\n",
              "      <th>Mobile Market Report</th>\n",
              "      <th>quarter</th>\n",
              "      <th>year</th>\n",
              "      <th>value_mobile</th>\n",
              "    </tr>\n",
              "  </thead>\n",
              "  <tbody>\n",
              "    <tr>\n",
              "      <th>0</th>\n",
              "      <td>4</td>\n",
              "      <td>Mobile Subscribers</td>\n",
              "      <td>4</td>\n",
              "      <td>2002</td>\n",
              "      <td>17449890</td>\n",
              "    </tr>\n",
              "    <tr>\n",
              "      <th>1</th>\n",
              "      <td>3</td>\n",
              "      <td>Mobile Subscribers</td>\n",
              "      <td>3</td>\n",
              "      <td>2002</td>\n",
              "      <td>15743776</td>\n",
              "    </tr>\n",
              "    <tr>\n",
              "      <th>2</th>\n",
              "      <td>2</td>\n",
              "      <td>Mobile Subscribers</td>\n",
              "      <td>2</td>\n",
              "      <td>2002</td>\n",
              "      <td>12416261</td>\n",
              "    </tr>\n",
              "    <tr>\n",
              "      <th>3</th>\n",
              "      <td>1</td>\n",
              "      <td>Mobile Subscribers</td>\n",
              "      <td>1</td>\n",
              "      <td>2002</td>\n",
              "      <td>9669909</td>\n",
              "    </tr>\n",
              "    <tr>\n",
              "      <th>4</th>\n",
              "      <td>8</td>\n",
              "      <td>Mobile Subscribers</td>\n",
              "      <td>4</td>\n",
              "      <td>2003</td>\n",
              "      <td>21616910</td>\n",
              "    </tr>\n",
              "    <tr>\n",
              "      <th>...</th>\n",
              "      <td>...</td>\n",
              "      <td>...</td>\n",
              "      <td>...</td>\n",
              "      <td>...</td>\n",
              "      <td>...</td>\n",
              "    </tr>\n",
              "    <tr>\n",
              "      <th>72</th>\n",
              "      <td>76</td>\n",
              "      <td>Mobile Subscribers</td>\n",
              "      <td>4</td>\n",
              "      <td>2020</td>\n",
              "      <td>116294420</td>\n",
              "    </tr>\n",
              "    <tr>\n",
              "      <th>73</th>\n",
              "      <td>75</td>\n",
              "      <td>Mobile Subscribers</td>\n",
              "      <td>3</td>\n",
              "      <td>2020</td>\n",
              "      <td>119169759</td>\n",
              "    </tr>\n",
              "    <tr>\n",
              "      <th>74</th>\n",
              "      <td>74</td>\n",
              "      <td>Mobile Subscribers</td>\n",
              "      <td>2</td>\n",
              "      <td>2020</td>\n",
              "      <td>131881072</td>\n",
              "    </tr>\n",
              "    <tr>\n",
              "      <th>75</th>\n",
              "      <td>73</td>\n",
              "      <td>Mobile Subscribers</td>\n",
              "      <td>1</td>\n",
              "      <td>2020</td>\n",
              "      <td>132594791</td>\n",
              "    </tr>\n",
              "    <tr>\n",
              "      <th>76</th>\n",
              "      <td>77</td>\n",
              "      <td>Mobile Subscribers</td>\n",
              "      <td>1</td>\n",
              "      <td>2021</td>\n",
              "      <td>117562201</td>\n",
              "    </tr>\n",
              "  </tbody>\n",
              "</table>\n",
              "<p>77 rows × 5 columns</p>\n",
              "</div>"
            ],
            "text/plain": [
              "    no. Mobile Market Report  quarter  year  value_mobile\n",
              "0     4   Mobile Subscribers        4  2002      17449890\n",
              "1     3   Mobile Subscribers        3  2002      15743776\n",
              "2     2   Mobile Subscribers        2  2002      12416261\n",
              "3     1   Mobile Subscribers        1  2002       9669909\n",
              "4     8   Mobile Subscribers        4  2003      21616910\n",
              "..  ...                  ...      ...   ...           ...\n",
              "72   76   Mobile Subscribers        4  2020     116294420\n",
              "73   75   Mobile Subscribers        3  2020     119169759\n",
              "74   74   Mobile Subscribers        2  2020     131881072\n",
              "75   73   Mobile Subscribers        1  2020     132594791\n",
              "76   77   Mobile Subscribers        1  2021     117562201\n",
              "\n",
              "[77 rows x 5 columns]"
            ]
          },
          "metadata": {},
          "execution_count": 16
        }
      ]
    },
    {
      "cell_type": "code",
      "metadata": {
        "id": "vZPaMu5MqrlH",
        "colab": {
          "base_uri": "https://localhost:8080/",
          "height": 417
        },
        "outputId": "df755742-e117-4846-d447-b6e603f55030"
      },
      "source": [
        "data_mobile2 = data_mobile.sort_values(by=['no.'])  #เรียงข้อมูลตาม No.\n",
        "data_mobile2"
      ],
      "execution_count": 17,
      "outputs": [
        {
          "output_type": "execute_result",
          "data": {
            "text/html": [
              "<div>\n",
              "<style scoped>\n",
              "    .dataframe tbody tr th:only-of-type {\n",
              "        vertical-align: middle;\n",
              "    }\n",
              "\n",
              "    .dataframe tbody tr th {\n",
              "        vertical-align: top;\n",
              "    }\n",
              "\n",
              "    .dataframe thead th {\n",
              "        text-align: right;\n",
              "    }\n",
              "</style>\n",
              "<table border=\"1\" class=\"dataframe\">\n",
              "  <thead>\n",
              "    <tr style=\"text-align: right;\">\n",
              "      <th></th>\n",
              "      <th>no.</th>\n",
              "      <th>Mobile Market Report</th>\n",
              "      <th>quarter</th>\n",
              "      <th>year</th>\n",
              "      <th>value_mobile</th>\n",
              "    </tr>\n",
              "  </thead>\n",
              "  <tbody>\n",
              "    <tr>\n",
              "      <th>3</th>\n",
              "      <td>1</td>\n",
              "      <td>Mobile Subscribers</td>\n",
              "      <td>1</td>\n",
              "      <td>2002</td>\n",
              "      <td>9669909</td>\n",
              "    </tr>\n",
              "    <tr>\n",
              "      <th>2</th>\n",
              "      <td>2</td>\n",
              "      <td>Mobile Subscribers</td>\n",
              "      <td>2</td>\n",
              "      <td>2002</td>\n",
              "      <td>12416261</td>\n",
              "    </tr>\n",
              "    <tr>\n",
              "      <th>1</th>\n",
              "      <td>3</td>\n",
              "      <td>Mobile Subscribers</td>\n",
              "      <td>3</td>\n",
              "      <td>2002</td>\n",
              "      <td>15743776</td>\n",
              "    </tr>\n",
              "    <tr>\n",
              "      <th>0</th>\n",
              "      <td>4</td>\n",
              "      <td>Mobile Subscribers</td>\n",
              "      <td>4</td>\n",
              "      <td>2002</td>\n",
              "      <td>17449890</td>\n",
              "    </tr>\n",
              "    <tr>\n",
              "      <th>7</th>\n",
              "      <td>5</td>\n",
              "      <td>Mobile Subscribers</td>\n",
              "      <td>1</td>\n",
              "      <td>2003</td>\n",
              "      <td>18763102</td>\n",
              "    </tr>\n",
              "    <tr>\n",
              "      <th>...</th>\n",
              "      <td>...</td>\n",
              "      <td>...</td>\n",
              "      <td>...</td>\n",
              "      <td>...</td>\n",
              "      <td>...</td>\n",
              "    </tr>\n",
              "    <tr>\n",
              "      <th>75</th>\n",
              "      <td>73</td>\n",
              "      <td>Mobile Subscribers</td>\n",
              "      <td>1</td>\n",
              "      <td>2020</td>\n",
              "      <td>132594791</td>\n",
              "    </tr>\n",
              "    <tr>\n",
              "      <th>74</th>\n",
              "      <td>74</td>\n",
              "      <td>Mobile Subscribers</td>\n",
              "      <td>2</td>\n",
              "      <td>2020</td>\n",
              "      <td>131881072</td>\n",
              "    </tr>\n",
              "    <tr>\n",
              "      <th>73</th>\n",
              "      <td>75</td>\n",
              "      <td>Mobile Subscribers</td>\n",
              "      <td>3</td>\n",
              "      <td>2020</td>\n",
              "      <td>119169759</td>\n",
              "    </tr>\n",
              "    <tr>\n",
              "      <th>72</th>\n",
              "      <td>76</td>\n",
              "      <td>Mobile Subscribers</td>\n",
              "      <td>4</td>\n",
              "      <td>2020</td>\n",
              "      <td>116294420</td>\n",
              "    </tr>\n",
              "    <tr>\n",
              "      <th>76</th>\n",
              "      <td>77</td>\n",
              "      <td>Mobile Subscribers</td>\n",
              "      <td>1</td>\n",
              "      <td>2021</td>\n",
              "      <td>117562201</td>\n",
              "    </tr>\n",
              "  </tbody>\n",
              "</table>\n",
              "<p>77 rows × 5 columns</p>\n",
              "</div>"
            ],
            "text/plain": [
              "    no. Mobile Market Report  quarter  year  value_mobile\n",
              "3     1   Mobile Subscribers        1  2002       9669909\n",
              "2     2   Mobile Subscribers        2  2002      12416261\n",
              "1     3   Mobile Subscribers        3  2002      15743776\n",
              "0     4   Mobile Subscribers        4  2002      17449890\n",
              "7     5   Mobile Subscribers        1  2003      18763102\n",
              "..  ...                  ...      ...   ...           ...\n",
              "75   73   Mobile Subscribers        1  2020     132594791\n",
              "74   74   Mobile Subscribers        2  2020     131881072\n",
              "73   75   Mobile Subscribers        3  2020     119169759\n",
              "72   76   Mobile Subscribers        4  2020     116294420\n",
              "76   77   Mobile Subscribers        1  2021     117562201\n",
              "\n",
              "[77 rows x 5 columns]"
            ]
          },
          "metadata": {},
          "execution_count": 17
        }
      ]
    },
    {
      "cell_type": "code",
      "metadata": {
        "id": "RovDIoR-2N9T",
        "colab": {
          "base_uri": "https://localhost:8080/",
          "height": 417
        },
        "outputId": "3625856b-3e13-45b7-8447-41df4d04a822"
      },
      "source": [
        "data_mobile2.drop(['quarter','year'], axis=1, inplace=True)  #drop ปีและไตรมาสออกเพราะคอลัมน์ซ้ำ\n",
        "data_mobile2"
      ],
      "execution_count": 18,
      "outputs": [
        {
          "output_type": "execute_result",
          "data": {
            "text/html": [
              "<div>\n",
              "<style scoped>\n",
              "    .dataframe tbody tr th:only-of-type {\n",
              "        vertical-align: middle;\n",
              "    }\n",
              "\n",
              "    .dataframe tbody tr th {\n",
              "        vertical-align: top;\n",
              "    }\n",
              "\n",
              "    .dataframe thead th {\n",
              "        text-align: right;\n",
              "    }\n",
              "</style>\n",
              "<table border=\"1\" class=\"dataframe\">\n",
              "  <thead>\n",
              "    <tr style=\"text-align: right;\">\n",
              "      <th></th>\n",
              "      <th>no.</th>\n",
              "      <th>Mobile Market Report</th>\n",
              "      <th>value_mobile</th>\n",
              "    </tr>\n",
              "  </thead>\n",
              "  <tbody>\n",
              "    <tr>\n",
              "      <th>3</th>\n",
              "      <td>1</td>\n",
              "      <td>Mobile Subscribers</td>\n",
              "      <td>9669909</td>\n",
              "    </tr>\n",
              "    <tr>\n",
              "      <th>2</th>\n",
              "      <td>2</td>\n",
              "      <td>Mobile Subscribers</td>\n",
              "      <td>12416261</td>\n",
              "    </tr>\n",
              "    <tr>\n",
              "      <th>1</th>\n",
              "      <td>3</td>\n",
              "      <td>Mobile Subscribers</td>\n",
              "      <td>15743776</td>\n",
              "    </tr>\n",
              "    <tr>\n",
              "      <th>0</th>\n",
              "      <td>4</td>\n",
              "      <td>Mobile Subscribers</td>\n",
              "      <td>17449890</td>\n",
              "    </tr>\n",
              "    <tr>\n",
              "      <th>7</th>\n",
              "      <td>5</td>\n",
              "      <td>Mobile Subscribers</td>\n",
              "      <td>18763102</td>\n",
              "    </tr>\n",
              "    <tr>\n",
              "      <th>...</th>\n",
              "      <td>...</td>\n",
              "      <td>...</td>\n",
              "      <td>...</td>\n",
              "    </tr>\n",
              "    <tr>\n",
              "      <th>75</th>\n",
              "      <td>73</td>\n",
              "      <td>Mobile Subscribers</td>\n",
              "      <td>132594791</td>\n",
              "    </tr>\n",
              "    <tr>\n",
              "      <th>74</th>\n",
              "      <td>74</td>\n",
              "      <td>Mobile Subscribers</td>\n",
              "      <td>131881072</td>\n",
              "    </tr>\n",
              "    <tr>\n",
              "      <th>73</th>\n",
              "      <td>75</td>\n",
              "      <td>Mobile Subscribers</td>\n",
              "      <td>119169759</td>\n",
              "    </tr>\n",
              "    <tr>\n",
              "      <th>72</th>\n",
              "      <td>76</td>\n",
              "      <td>Mobile Subscribers</td>\n",
              "      <td>116294420</td>\n",
              "    </tr>\n",
              "    <tr>\n",
              "      <th>76</th>\n",
              "      <td>77</td>\n",
              "      <td>Mobile Subscribers</td>\n",
              "      <td>117562201</td>\n",
              "    </tr>\n",
              "  </tbody>\n",
              "</table>\n",
              "<p>77 rows × 3 columns</p>\n",
              "</div>"
            ],
            "text/plain": [
              "    no. Mobile Market Report  value_mobile\n",
              "3     1   Mobile Subscribers       9669909\n",
              "2     2   Mobile Subscribers      12416261\n",
              "1     3   Mobile Subscribers      15743776\n",
              "0     4   Mobile Subscribers      17449890\n",
              "7     5   Mobile Subscribers      18763102\n",
              "..  ...                  ...           ...\n",
              "75   73   Mobile Subscribers     132594791\n",
              "74   74   Mobile Subscribers     131881072\n",
              "73   75   Mobile Subscribers     119169759\n",
              "72   76   Mobile Subscribers     116294420\n",
              "76   77   Mobile Subscribers     117562201\n",
              "\n",
              "[77 rows x 3 columns]"
            ]
          },
          "metadata": {},
          "execution_count": 18
        }
      ]
    },
    {
      "cell_type": "code",
      "metadata": {
        "id": "UA3EeaCO2jSb",
        "colab": {
          "base_uri": "https://localhost:8080/",
          "height": 417
        },
        "outputId": "535c5b8d-9fc0-4dcb-c72a-617758301e03"
      },
      "source": [
        "data_mobile3 = data_mobile2.iloc[4:,:]  #ตัดข้อมูล 4 แถวแรกออกเพราะมันเป็นของปี 2002 แต่ตาราง merge_table2 มันเริ่มที่ปี 2003\n",
        "data_mobile3"
      ],
      "execution_count": 19,
      "outputs": [
        {
          "output_type": "execute_result",
          "data": {
            "text/html": [
              "<div>\n",
              "<style scoped>\n",
              "    .dataframe tbody tr th:only-of-type {\n",
              "        vertical-align: middle;\n",
              "    }\n",
              "\n",
              "    .dataframe tbody tr th {\n",
              "        vertical-align: top;\n",
              "    }\n",
              "\n",
              "    .dataframe thead th {\n",
              "        text-align: right;\n",
              "    }\n",
              "</style>\n",
              "<table border=\"1\" class=\"dataframe\">\n",
              "  <thead>\n",
              "    <tr style=\"text-align: right;\">\n",
              "      <th></th>\n",
              "      <th>no.</th>\n",
              "      <th>Mobile Market Report</th>\n",
              "      <th>value_mobile</th>\n",
              "    </tr>\n",
              "  </thead>\n",
              "  <tbody>\n",
              "    <tr>\n",
              "      <th>7</th>\n",
              "      <td>5</td>\n",
              "      <td>Mobile Subscribers</td>\n",
              "      <td>18763102</td>\n",
              "    </tr>\n",
              "    <tr>\n",
              "      <th>6</th>\n",
              "      <td>6</td>\n",
              "      <td>Mobile Subscribers</td>\n",
              "      <td>19788956</td>\n",
              "    </tr>\n",
              "    <tr>\n",
              "      <th>5</th>\n",
              "      <td>7</td>\n",
              "      <td>Mobile Subscribers</td>\n",
              "      <td>20655866</td>\n",
              "    </tr>\n",
              "    <tr>\n",
              "      <th>4</th>\n",
              "      <td>8</td>\n",
              "      <td>Mobile Subscribers</td>\n",
              "      <td>21616910</td>\n",
              "    </tr>\n",
              "    <tr>\n",
              "      <th>11</th>\n",
              "      <td>9</td>\n",
              "      <td>Mobile Subscribers</td>\n",
              "      <td>23217311</td>\n",
              "    </tr>\n",
              "    <tr>\n",
              "      <th>...</th>\n",
              "      <td>...</td>\n",
              "      <td>...</td>\n",
              "      <td>...</td>\n",
              "    </tr>\n",
              "    <tr>\n",
              "      <th>75</th>\n",
              "      <td>73</td>\n",
              "      <td>Mobile Subscribers</td>\n",
              "      <td>132594791</td>\n",
              "    </tr>\n",
              "    <tr>\n",
              "      <th>74</th>\n",
              "      <td>74</td>\n",
              "      <td>Mobile Subscribers</td>\n",
              "      <td>131881072</td>\n",
              "    </tr>\n",
              "    <tr>\n",
              "      <th>73</th>\n",
              "      <td>75</td>\n",
              "      <td>Mobile Subscribers</td>\n",
              "      <td>119169759</td>\n",
              "    </tr>\n",
              "    <tr>\n",
              "      <th>72</th>\n",
              "      <td>76</td>\n",
              "      <td>Mobile Subscribers</td>\n",
              "      <td>116294420</td>\n",
              "    </tr>\n",
              "    <tr>\n",
              "      <th>76</th>\n",
              "      <td>77</td>\n",
              "      <td>Mobile Subscribers</td>\n",
              "      <td>117562201</td>\n",
              "    </tr>\n",
              "  </tbody>\n",
              "</table>\n",
              "<p>73 rows × 3 columns</p>\n",
              "</div>"
            ],
            "text/plain": [
              "    no. Mobile Market Report  value_mobile\n",
              "7     5   Mobile Subscribers      18763102\n",
              "6     6   Mobile Subscribers      19788956\n",
              "5     7   Mobile Subscribers      20655866\n",
              "4     8   Mobile Subscribers      21616910\n",
              "11    9   Mobile Subscribers      23217311\n",
              "..  ...                  ...           ...\n",
              "75   73   Mobile Subscribers     132594791\n",
              "74   74   Mobile Subscribers     131881072\n",
              "73   75   Mobile Subscribers     119169759\n",
              "72   76   Mobile Subscribers     116294420\n",
              "76   77   Mobile Subscribers     117562201\n",
              "\n",
              "[73 rows x 3 columns]"
            ]
          },
          "metadata": {},
          "execution_count": 19
        }
      ]
    },
    {
      "cell_type": "code",
      "metadata": {
        "id": "qWEQt5eM2Cts",
        "colab": {
          "base_uri": "https://localhost:8080/",
          "height": 417
        },
        "outputId": "820875e7-4259-4293-a46f-62eb88da1de4"
      },
      "source": [
        "merge_table3 = data_mobile3.merge(merge_table2,how='left', left_on='no.',right_on='no.')  # เชื่อมตาราง merge_table2 และ data_mobile เโดยให้ตาราง merge_table2 เป็นตารางหลักอยู่ที่ด้านซ้าย\n",
        "merge_table3"
      ],
      "execution_count": 20,
      "outputs": [
        {
          "output_type": "execute_result",
          "data": {
            "text/html": [
              "<div>\n",
              "<style scoped>\n",
              "    .dataframe tbody tr th:only-of-type {\n",
              "        vertical-align: middle;\n",
              "    }\n",
              "\n",
              "    .dataframe tbody tr th {\n",
              "        vertical-align: top;\n",
              "    }\n",
              "\n",
              "    .dataframe thead th {\n",
              "        text-align: right;\n",
              "    }\n",
              "</style>\n",
              "<table border=\"1\" class=\"dataframe\">\n",
              "  <thead>\n",
              "    <tr style=\"text-align: right;\">\n",
              "      <th></th>\n",
              "      <th>no.</th>\n",
              "      <th>Mobile Market Report</th>\n",
              "      <th>value_mobile</th>\n",
              "      <th>quarter</th>\n",
              "      <th>Thailand Internet Users_subscriber</th>\n",
              "      <th>year</th>\n",
              "      <th>value_subscriber</th>\n",
              "      <th>type_population</th>\n",
              "      <th>value_population</th>\n",
              "      <th>type_household</th>\n",
              "      <th>value_household</th>\n",
              "    </tr>\n",
              "  </thead>\n",
              "  <tbody>\n",
              "    <tr>\n",
              "      <th>0</th>\n",
              "      <td>5</td>\n",
              "      <td>Mobile Subscribers</td>\n",
              "      <td>18763102</td>\n",
              "      <td>1.0</td>\n",
              "      <td>Total Internet subscribers</td>\n",
              "      <td>2004.0</td>\n",
              "      <td>785931.00</td>\n",
              "      <td>per population (%)</td>\n",
              "      <td>0.0005</td>\n",
              "      <td>per household (%)</td>\n",
              "      <td>0.001556</td>\n",
              "    </tr>\n",
              "    <tr>\n",
              "      <th>1</th>\n",
              "      <td>6</td>\n",
              "      <td>Mobile Subscribers</td>\n",
              "      <td>19788956</td>\n",
              "      <td>2.0</td>\n",
              "      <td>Total Internet subscribers</td>\n",
              "      <td>2004.0</td>\n",
              "      <td>914400.00</td>\n",
              "      <td>per population (%)</td>\n",
              "      <td>0.0007</td>\n",
              "      <td>per household (%)</td>\n",
              "      <td>0.002265</td>\n",
              "    </tr>\n",
              "    <tr>\n",
              "      <th>2</th>\n",
              "      <td>7</td>\n",
              "      <td>Mobile Subscribers</td>\n",
              "      <td>20655866</td>\n",
              "      <td>3.0</td>\n",
              "      <td>Total Internet subscribers</td>\n",
              "      <td>2004.0</td>\n",
              "      <td>1091652.00</td>\n",
              "      <td>per population (%)</td>\n",
              "      <td>0.0015</td>\n",
              "      <td>per household (%)</td>\n",
              "      <td>0.004964</td>\n",
              "    </tr>\n",
              "    <tr>\n",
              "      <th>3</th>\n",
              "      <td>8</td>\n",
              "      <td>Mobile Subscribers</td>\n",
              "      <td>21616910</td>\n",
              "      <td>4.0</td>\n",
              "      <td>Total Internet subscribers</td>\n",
              "      <td>2004.0</td>\n",
              "      <td>1231344.00</td>\n",
              "      <td>per population (%)</td>\n",
              "      <td>0.0026</td>\n",
              "      <td>per household (%)</td>\n",
              "      <td>0.008716</td>\n",
              "    </tr>\n",
              "    <tr>\n",
              "      <th>4</th>\n",
              "      <td>9</td>\n",
              "      <td>Mobile Subscribers</td>\n",
              "      <td>23217311</td>\n",
              "      <td>1.0</td>\n",
              "      <td>Total Internet subscribers</td>\n",
              "      <td>2005.0</td>\n",
              "      <td>1197942.00</td>\n",
              "      <td>per population (%)</td>\n",
              "      <td>0.0045</td>\n",
              "      <td>per household (%)</td>\n",
              "      <td>0.015449</td>\n",
              "    </tr>\n",
              "    <tr>\n",
              "      <th>...</th>\n",
              "      <td>...</td>\n",
              "      <td>...</td>\n",
              "      <td>...</td>\n",
              "      <td>...</td>\n",
              "      <td>...</td>\n",
              "      <td>...</td>\n",
              "      <td>...</td>\n",
              "      <td>...</td>\n",
              "      <td>...</td>\n",
              "      <td>...</td>\n",
              "      <td>...</td>\n",
              "    </tr>\n",
              "    <tr>\n",
              "      <th>68</th>\n",
              "      <td>73</td>\n",
              "      <td>Mobile Subscribers</td>\n",
              "      <td>132594791</td>\n",
              "      <td>1.0</td>\n",
              "      <td>Total Internet subscribers</td>\n",
              "      <td>2021.0</td>\n",
              "      <td>11876158.44</td>\n",
              "      <td>per population (%)</td>\n",
              "      <td>0.1740</td>\n",
              "      <td>per household (%)</td>\n",
              "      <td>0.532524</td>\n",
              "    </tr>\n",
              "    <tr>\n",
              "      <th>69</th>\n",
              "      <td>74</td>\n",
              "      <td>Mobile Subscribers</td>\n",
              "      <td>131881072</td>\n",
              "      <td>NaN</td>\n",
              "      <td>NaN</td>\n",
              "      <td>NaN</td>\n",
              "      <td>NaN</td>\n",
              "      <td>NaN</td>\n",
              "      <td>NaN</td>\n",
              "      <td>NaN</td>\n",
              "      <td>NaN</td>\n",
              "    </tr>\n",
              "    <tr>\n",
              "      <th>70</th>\n",
              "      <td>75</td>\n",
              "      <td>Mobile Subscribers</td>\n",
              "      <td>119169759</td>\n",
              "      <td>NaN</td>\n",
              "      <td>NaN</td>\n",
              "      <td>NaN</td>\n",
              "      <td>NaN</td>\n",
              "      <td>NaN</td>\n",
              "      <td>NaN</td>\n",
              "      <td>NaN</td>\n",
              "      <td>NaN</td>\n",
              "    </tr>\n",
              "    <tr>\n",
              "      <th>71</th>\n",
              "      <td>76</td>\n",
              "      <td>Mobile Subscribers</td>\n",
              "      <td>116294420</td>\n",
              "      <td>NaN</td>\n",
              "      <td>NaN</td>\n",
              "      <td>NaN</td>\n",
              "      <td>NaN</td>\n",
              "      <td>NaN</td>\n",
              "      <td>NaN</td>\n",
              "      <td>NaN</td>\n",
              "      <td>NaN</td>\n",
              "    </tr>\n",
              "    <tr>\n",
              "      <th>72</th>\n",
              "      <td>77</td>\n",
              "      <td>Mobile Subscribers</td>\n",
              "      <td>117562201</td>\n",
              "      <td>NaN</td>\n",
              "      <td>NaN</td>\n",
              "      <td>NaN</td>\n",
              "      <td>NaN</td>\n",
              "      <td>NaN</td>\n",
              "      <td>NaN</td>\n",
              "      <td>NaN</td>\n",
              "      <td>NaN</td>\n",
              "    </tr>\n",
              "  </tbody>\n",
              "</table>\n",
              "<p>73 rows × 11 columns</p>\n",
              "</div>"
            ],
            "text/plain": [
              "    no. Mobile Market Report  ...     type_household  value_household\n",
              "0     5   Mobile Subscribers  ...  per household (%)         0.001556\n",
              "1     6   Mobile Subscribers  ...  per household (%)         0.002265\n",
              "2     7   Mobile Subscribers  ...  per household (%)         0.004964\n",
              "3     8   Mobile Subscribers  ...  per household (%)         0.008716\n",
              "4     9   Mobile Subscribers  ...  per household (%)         0.015449\n",
              "..  ...                  ...  ...                ...              ...\n",
              "68   73   Mobile Subscribers  ...  per household (%)         0.532524\n",
              "69   74   Mobile Subscribers  ...                NaN              NaN\n",
              "70   75   Mobile Subscribers  ...                NaN              NaN\n",
              "71   76   Mobile Subscribers  ...                NaN              NaN\n",
              "72   77   Mobile Subscribers  ...                NaN              NaN\n",
              "\n",
              "[73 rows x 11 columns]"
            ]
          },
          "metadata": {},
          "execution_count": 20
        }
      ]
    },
    {
      "cell_type": "code",
      "metadata": {
        "id": "slXjm1euq0eH",
        "colab": {
          "base_uri": "https://localhost:8080/"
        },
        "outputId": "d3969464-60ee-4d62-f85e-854feeb28f8e"
      },
      "source": [
        "merge_table3.isnull().any()  #เชคค่า Missing พบว่าขึ้นมีขึ้น  True นั่นคือมันมี Missing"
      ],
      "execution_count": 21,
      "outputs": [
        {
          "output_type": "execute_result",
          "data": {
            "text/plain": [
              "no.                                   False\n",
              "Mobile Market Report                  False\n",
              "value_mobile                          False\n",
              "quarter                                True\n",
              "Thailand Internet Users_subscriber     True\n",
              "year                                   True\n",
              "value_subscriber                       True\n",
              "type_population                        True\n",
              "value_population                       True\n",
              "type_household                         True\n",
              "value_household                        True\n",
              "dtype: bool"
            ]
          },
          "metadata": {},
          "execution_count": 21
        }
      ]
    },
    {
      "cell_type": "code",
      "metadata": {
        "id": "NdOgO6v48jtO",
        "colab": {
          "base_uri": "https://localhost:8080/",
          "height": 417
        },
        "outputId": "2bac4cdf-c37c-4138-cca7-f8fe6e53f270"
      },
      "source": [
        "merge_table3_drop = merge_table3.dropna()  #จัดการกับ Missing ด้วยการ dropna\n",
        "merge_table3_drop"
      ],
      "execution_count": 22,
      "outputs": [
        {
          "output_type": "execute_result",
          "data": {
            "text/html": [
              "<div>\n",
              "<style scoped>\n",
              "    .dataframe tbody tr th:only-of-type {\n",
              "        vertical-align: middle;\n",
              "    }\n",
              "\n",
              "    .dataframe tbody tr th {\n",
              "        vertical-align: top;\n",
              "    }\n",
              "\n",
              "    .dataframe thead th {\n",
              "        text-align: right;\n",
              "    }\n",
              "</style>\n",
              "<table border=\"1\" class=\"dataframe\">\n",
              "  <thead>\n",
              "    <tr style=\"text-align: right;\">\n",
              "      <th></th>\n",
              "      <th>no.</th>\n",
              "      <th>Mobile Market Report</th>\n",
              "      <th>value_mobile</th>\n",
              "      <th>quarter</th>\n",
              "      <th>Thailand Internet Users_subscriber</th>\n",
              "      <th>year</th>\n",
              "      <th>value_subscriber</th>\n",
              "      <th>type_population</th>\n",
              "      <th>value_population</th>\n",
              "      <th>type_household</th>\n",
              "      <th>value_household</th>\n",
              "    </tr>\n",
              "  </thead>\n",
              "  <tbody>\n",
              "    <tr>\n",
              "      <th>0</th>\n",
              "      <td>5</td>\n",
              "      <td>Mobile Subscribers</td>\n",
              "      <td>18763102</td>\n",
              "      <td>1.0</td>\n",
              "      <td>Total Internet subscribers</td>\n",
              "      <td>2004.0</td>\n",
              "      <td>785931.00</td>\n",
              "      <td>per population (%)</td>\n",
              "      <td>0.0005</td>\n",
              "      <td>per household (%)</td>\n",
              "      <td>0.001556</td>\n",
              "    </tr>\n",
              "    <tr>\n",
              "      <th>1</th>\n",
              "      <td>6</td>\n",
              "      <td>Mobile Subscribers</td>\n",
              "      <td>19788956</td>\n",
              "      <td>2.0</td>\n",
              "      <td>Total Internet subscribers</td>\n",
              "      <td>2004.0</td>\n",
              "      <td>914400.00</td>\n",
              "      <td>per population (%)</td>\n",
              "      <td>0.0007</td>\n",
              "      <td>per household (%)</td>\n",
              "      <td>0.002265</td>\n",
              "    </tr>\n",
              "    <tr>\n",
              "      <th>2</th>\n",
              "      <td>7</td>\n",
              "      <td>Mobile Subscribers</td>\n",
              "      <td>20655866</td>\n",
              "      <td>3.0</td>\n",
              "      <td>Total Internet subscribers</td>\n",
              "      <td>2004.0</td>\n",
              "      <td>1091652.00</td>\n",
              "      <td>per population (%)</td>\n",
              "      <td>0.0015</td>\n",
              "      <td>per household (%)</td>\n",
              "      <td>0.004964</td>\n",
              "    </tr>\n",
              "    <tr>\n",
              "      <th>3</th>\n",
              "      <td>8</td>\n",
              "      <td>Mobile Subscribers</td>\n",
              "      <td>21616910</td>\n",
              "      <td>4.0</td>\n",
              "      <td>Total Internet subscribers</td>\n",
              "      <td>2004.0</td>\n",
              "      <td>1231344.00</td>\n",
              "      <td>per population (%)</td>\n",
              "      <td>0.0026</td>\n",
              "      <td>per household (%)</td>\n",
              "      <td>0.008716</td>\n",
              "    </tr>\n",
              "    <tr>\n",
              "      <th>4</th>\n",
              "      <td>9</td>\n",
              "      <td>Mobile Subscribers</td>\n",
              "      <td>23217311</td>\n",
              "      <td>1.0</td>\n",
              "      <td>Total Internet subscribers</td>\n",
              "      <td>2005.0</td>\n",
              "      <td>1197942.00</td>\n",
              "      <td>per population (%)</td>\n",
              "      <td>0.0045</td>\n",
              "      <td>per household (%)</td>\n",
              "      <td>0.015449</td>\n",
              "    </tr>\n",
              "    <tr>\n",
              "      <th>...</th>\n",
              "      <td>...</td>\n",
              "      <td>...</td>\n",
              "      <td>...</td>\n",
              "      <td>...</td>\n",
              "      <td>...</td>\n",
              "      <td>...</td>\n",
              "      <td>...</td>\n",
              "      <td>...</td>\n",
              "      <td>...</td>\n",
              "      <td>...</td>\n",
              "      <td>...</td>\n",
              "    </tr>\n",
              "    <tr>\n",
              "      <th>64</th>\n",
              "      <td>69</td>\n",
              "      <td>Mobile Subscribers</td>\n",
              "      <td>122173569</td>\n",
              "      <td>1.0</td>\n",
              "      <td>Total Internet subscribers</td>\n",
              "      <td>2020.0</td>\n",
              "      <td>10264995.67</td>\n",
              "      <td>per population (%)</td>\n",
              "      <td>0.1510</td>\n",
              "      <td>per household (%)</td>\n",
              "      <td>0.469344</td>\n",
              "    </tr>\n",
              "    <tr>\n",
              "      <th>65</th>\n",
              "      <td>70</td>\n",
              "      <td>Mobile Subscribers</td>\n",
              "      <td>124366678</td>\n",
              "      <td>2.0</td>\n",
              "      <td>Total Internet subscribers</td>\n",
              "      <td>2020.0</td>\n",
              "      <td>10912996.14</td>\n",
              "      <td>per population (%)</td>\n",
              "      <td>0.1605</td>\n",
              "      <td>per household (%)</td>\n",
              "      <td>0.498972</td>\n",
              "    </tr>\n",
              "    <tr>\n",
              "      <th>66</th>\n",
              "      <td>71</td>\n",
              "      <td>Mobile Subscribers</td>\n",
              "      <td>126137528</td>\n",
              "      <td>3.0</td>\n",
              "      <td>Total Internet subscribers</td>\n",
              "      <td>2020.0</td>\n",
              "      <td>11282645.58</td>\n",
              "      <td>per population (%)</td>\n",
              "      <td>0.1659</td>\n",
              "      <td>per household (%)</td>\n",
              "      <td>0.515873</td>\n",
              "    </tr>\n",
              "    <tr>\n",
              "      <th>67</th>\n",
              "      <td>72</td>\n",
              "      <td>Mobile Subscribers</td>\n",
              "      <td>129613743</td>\n",
              "      <td>4.0</td>\n",
              "      <td>Total Internet subscribers</td>\n",
              "      <td>2020.0</td>\n",
              "      <td>11478264.92</td>\n",
              "      <td>per population (%)</td>\n",
              "      <td>0.1685</td>\n",
              "      <td>per household (%)</td>\n",
              "      <td>0.514683</td>\n",
              "    </tr>\n",
              "    <tr>\n",
              "      <th>68</th>\n",
              "      <td>73</td>\n",
              "      <td>Mobile Subscribers</td>\n",
              "      <td>132594791</td>\n",
              "      <td>1.0</td>\n",
              "      <td>Total Internet subscribers</td>\n",
              "      <td>2021.0</td>\n",
              "      <td>11876158.44</td>\n",
              "      <td>per population (%)</td>\n",
              "      <td>0.1740</td>\n",
              "      <td>per household (%)</td>\n",
              "      <td>0.532524</td>\n",
              "    </tr>\n",
              "  </tbody>\n",
              "</table>\n",
              "<p>69 rows × 11 columns</p>\n",
              "</div>"
            ],
            "text/plain": [
              "    no. Mobile Market Report  ...     type_household  value_household\n",
              "0     5   Mobile Subscribers  ...  per household (%)         0.001556\n",
              "1     6   Mobile Subscribers  ...  per household (%)         0.002265\n",
              "2     7   Mobile Subscribers  ...  per household (%)         0.004964\n",
              "3     8   Mobile Subscribers  ...  per household (%)         0.008716\n",
              "4     9   Mobile Subscribers  ...  per household (%)         0.015449\n",
              "..  ...                  ...  ...                ...              ...\n",
              "64   69   Mobile Subscribers  ...  per household (%)         0.469344\n",
              "65   70   Mobile Subscribers  ...  per household (%)         0.498972\n",
              "66   71   Mobile Subscribers  ...  per household (%)         0.515873\n",
              "67   72   Mobile Subscribers  ...  per household (%)         0.514683\n",
              "68   73   Mobile Subscribers  ...  per household (%)         0.532524\n",
              "\n",
              "[69 rows x 11 columns]"
            ]
          },
          "metadata": {},
          "execution_count": 22
        }
      ]
    },
    {
      "cell_type": "code",
      "metadata": {
        "id": "CiiUwxmV8mu3",
        "colab": {
          "base_uri": "https://localhost:8080/"
        },
        "outputId": "3b03166b-60eb-4c2b-b63d-2dde1de47e5e"
      },
      "source": [
        "merge_table3_drop.isnull().any() #เชค missing อีกรอบพบว่าขึ้น False คือ ไม่มีMissing แล้ว"
      ],
      "execution_count": 23,
      "outputs": [
        {
          "output_type": "execute_result",
          "data": {
            "text/plain": [
              "no.                                   False\n",
              "Mobile Market Report                  False\n",
              "value_mobile                          False\n",
              "quarter                               False\n",
              "Thailand Internet Users_subscriber    False\n",
              "year                                  False\n",
              "value_subscriber                      False\n",
              "type_population                       False\n",
              "value_population                      False\n",
              "type_household                        False\n",
              "value_household                       False\n",
              "dtype: bool"
            ]
          },
          "metadata": {},
          "execution_count": 23
        }
      ]
    },
    {
      "cell_type": "code",
      "metadata": {
        "id": "_p4Mf11G8pDu",
        "colab": {
          "base_uri": "https://localhost:8080/"
        },
        "outputId": "2aaf205a-78bb-4994-ee34-1f1bf3603fc3"
      },
      "source": [
        "removed = merge_table3.shape[0] - merge_table3_drop.shape[0]  #เชคว่าข้อมูลหายไปกี% จากการ dropna\n",
        "\n",
        "print(f'size before drop = {merge_table3.shape[0]}')\n",
        "print(f'size aftre drop = {merge_table3_drop.shape[0]}')\n",
        "print(f'we loss {100*(removed/merge_table3.shape[0])}% of data')"
      ],
      "execution_count": 24,
      "outputs": [
        {
          "output_type": "stream",
          "name": "stdout",
          "text": [
            "size before drop = 73\n",
            "size aftre drop = 69\n",
            "we loss 5.47945205479452% of data\n"
          ]
        }
      ]
    },
    {
      "cell_type": "markdown",
      "metadata": {
        "id": "s_tvLgOc_sjv"
      },
      "source": [
        "พบว่าจากการ dropna ข้อมูลหาย 5.47945205479452% ซึ่งยอมรับได้"
      ]
    },
    {
      "cell_type": "markdown",
      "metadata": {
        "id": "IwWLK5r2Lfol"
      },
      "source": [
        "#Classification"
      ]
    },
    {
      "cell_type": "markdown",
      "metadata": {
        "id": "PcmZtRihWZ_R"
      },
      "source": [
        "####กำหนดค่าในตาราง เพื่อนำข้อมูลในตารางไปใช้ในการ Assosiation "
      ]
    },
    {
      "cell_type": "markdown",
      "metadata": {
        "id": "CRO8wLO-W2Aa"
      },
      "source": [
        "\n",
        "โดยการเพิ่ม column ใหม่ในตาราง merge_table3_drop และ column ที่สร้างใหม่นั้นจะตามหลังด้วย _group โดยการจัดกลุ่มให้ค่าทั้งหมดในแต่ละ column ซึ่งจัดกลุ่มดังนี้\n"
      ]
    },
    {
      "cell_type": "code",
      "metadata": {
        "id": "ZNwEur2Eij-L"
      },
      "source": [
        "from pandas.api.types import CategoricalDtype"
      ],
      "execution_count": 49,
      "outputs": []
    },
    {
      "cell_type": "markdown",
      "metadata": {
        "id": "RBE2sHGnI6iO"
      },
      "source": [
        "##เพิ่ม column ใหม่ในตาราง merge_table3_drop"
      ]
    },
    {
      "cell_type": "code",
      "metadata": {
        "colab": {
          "base_uri": "https://localhost:8080/"
        },
        "id": "9dO5YGH8I54F",
        "outputId": "438d4619-95b9-4a4e-f497-349a8d4b0b6a"
      },
      "source": [
        "merge_table3_drop.columns  #ดูว่ามี Column อะไรบ้าง"
      ],
      "execution_count": 26,
      "outputs": [
        {
          "output_type": "execute_result",
          "data": {
            "text/plain": [
              "Index(['no.', 'Mobile Market Report', 'value_mobile', 'quarter',\n",
              "       'Thailand Internet Users_subscriber', 'year', 'value_subscriber',\n",
              "       'type_population', 'value_population', 'type_household',\n",
              "       'value_household'],\n",
              "      dtype='object')"
            ]
          },
          "metadata": {},
          "execution_count": 26
        }
      ]
    },
    {
      "cell_type": "markdown",
      "metadata": {
        "id": "wehS-ajPJZ4w"
      },
      "source": [
        "column ชื่อว่า subscriber_group\n",
        "\n",
        "\n",
        "\n",
        "*   ถ้ามีค่าตั้งแต่ 0 - 2000000 จะให้เป็น low_subscriber\n",
        "*   ถ้ามีค่าตั้งแต่ 2000000 - 5000000 จะให้เป็น median_subscriber\n",
        "*   ถ้ามีค่าตั้งแต่ 5000000 - 12000000 จะให้เป็น high_subscriber\n",
        "\n",
        "\n",
        "\n",
        "\n"
      ]
    },
    {
      "cell_type": "code",
      "metadata": {
        "id": "XXYs5ZQ3MbFv",
        "outputId": "e00f65e9-abfe-44a8-b7c3-faf8a67b4eb5",
        "colab": {
          "base_uri": "https://localhost:8080/"
        }
      },
      "source": [
        "\n",
        "bucket = ['low_subscriber','median_subscriber','high_subscriber']  # กำหนดกลุ่มข้อมูล\n",
        "merge_table3_drop['subscriber_group'] = pd.cut(merge_table3_drop.value_subscriber,  # เลือก column ที่ต้องการ\n",
        "                            bins=[0,2000000,5000000,12000000],  # # กำหนดช่วงของข้อมูลตามกลุ่มที่เราจัด\n",
        "                            labels=bucket,\n",
        "                            right=False).astype(str).astype(CategoricalDtype(bucket,ordered=True))"
      ],
      "execution_count": 50,
      "outputs": [
        {
          "output_type": "stream",
          "name": "stderr",
          "text": [
            "/usr/local/lib/python3.7/dist-packages/ipykernel_launcher.py:6: SettingWithCopyWarning: \n",
            "A value is trying to be set on a copy of a slice from a DataFrame.\n",
            "Try using .loc[row_indexer,col_indexer] = value instead\n",
            "\n",
            "See the caveats in the documentation: https://pandas.pydata.org/pandas-docs/stable/user_guide/indexing.html#returning-a-view-versus-a-copy\n",
            "  \n"
          ]
        }
      ]
    },
    {
      "cell_type": "markdown",
      "metadata": {
        "id": "CrospW-BJd__"
      },
      "source": [
        "\n",
        "column ชื่อว่า household_group\n",
        "\n",
        "\n",
        "*   ถ้ามีค่าตั้งแต่ 0 - 0.1 จะให้เป็น low_household\n",
        "*   ถ้ามีค่าตั้งแต่ 0.1 - 0.3 จะให้เป็น median_household\n",
        "*   ถ้ามีค่าตั้งแต่ 0.3 - 0.6 จะให้เป็น high_household\n"
      ]
    },
    {
      "cell_type": "code",
      "metadata": {
        "id": "6ZpVBAwLMt9c"
      },
      "source": [
        "bucket = ['low_household','median_household','high_household']  # กำหนดกลุ่มข้อมูล\n",
        "merge_table3_drop['household_group'] = pd.cut(merge_table3_drop.value_household,  # เลือก column ที่ต้องการ\n",
        "                            bins=[0,0.1,0.3,0.6],  # กำหนดช่วงของข้อมูลตามกลุ่มที่เราจัด\n",
        "                            labels=bucket,\n",
        "                            right=False).astype(str).astype(CategoricalDtype(bucket,ordered=True))"
      ],
      "execution_count": null,
      "outputs": []
    },
    {
      "cell_type": "markdown",
      "metadata": {
        "id": "i5Su9bkbLTKU"
      },
      "source": [
        "column ชื่อว่า population_group\n",
        "\n",
        "\n",
        "*   ถ้ามีค่าตั้งแต่ 0 - 0.05 จะให้เป็น low_population\n",
        "*   ถ้ามีค่าตั้งแต่ 0.05 - 0.10 จะให้เป็น median_population\n",
        "*   ถ้ามีค่าตั้งแต่ 0.10 - 0.18 จะให้เป็น high_population\n"
      ]
    },
    {
      "cell_type": "code",
      "metadata": {
        "id": "DdglIjGENEnk",
        "outputId": "6ff3da56-453a-4d44-b78f-3fdf664997a1",
        "colab": {
          "base_uri": "https://localhost:8080/"
        }
      },
      "source": [
        "bucket = ['low_population','median_population','high_population']  # กำหนดกลุ่มข้อมูล\n",
        "merge_table3_drop['population_group'] = pd.cut(merge_table3_drop.value_population,  # เลือก column ที่ต้องการ\n",
        "                            bins=[0,0.05,0.10,0.18],  # กำหนดช่วงของข้อมูลตามกลุ่มที่เราจัด\n",
        "                            labels=bucket,\n",
        "                            right=False).astype(str).astype(CategoricalDtype(bucket,ordered=True))"
      ],
      "execution_count": 51,
      "outputs": [
        {
          "output_type": "stream",
          "name": "stderr",
          "text": [
            "/usr/local/lib/python3.7/dist-packages/ipykernel_launcher.py:5: SettingWithCopyWarning: \n",
            "A value is trying to be set on a copy of a slice from a DataFrame.\n",
            "Try using .loc[row_indexer,col_indexer] = value instead\n",
            "\n",
            "See the caveats in the documentation: https://pandas.pydata.org/pandas-docs/stable/user_guide/indexing.html#returning-a-view-versus-a-copy\n",
            "  \"\"\"\n"
          ]
        }
      ]
    },
    {
      "cell_type": "markdown",
      "metadata": {
        "id": "3MT8uSvmJn3s"
      },
      "source": [
        "\n",
        "column ชื่อว่า mobile_group\n",
        "\n",
        "\n",
        "*   ถ้ามีค่าตั้งแต่ 0 - 2000000 จะให้เป็น low_mobile\n",
        "*   ถ้ามีค่าตั้งแต่ 2000000 - 5000000 จะให้เป็น median_mobile\n",
        "*   ถ้ามีค่าตั้งแต่ 5000000 - 12000000 จะให้เป็น high_mobile\n"
      ]
    },
    {
      "cell_type": "code",
      "metadata": {
        "id": "5nMQ7X8QNU_1",
        "outputId": "667c5304-8c40-48e6-ef33-d9eee4238351",
        "colab": {
          "base_uri": "https://localhost:8080/"
        }
      },
      "source": [
        "bucket = ['low_mobile','median_mobile','high_mobile']  # กำหนดกลุ่มข้อมูล\n",
        "merge_table3_drop['mobile_group'] = pd.cut(merge_table3_drop.value_mobile,  # เลือก column ที่ต้องการ\n",
        "                            bins=[0,50000000,100000000,140000000],  # กำหนดช่วงของข้อมูลตามกลุ่มที่เราจัด\n",
        "                            labels=bucket,\n",
        "                            right=False).astype(str).astype(CategoricalDtype(bucket,ordered=True))"
      ],
      "execution_count": 52,
      "outputs": [
        {
          "output_type": "stream",
          "name": "stderr",
          "text": [
            "/usr/local/lib/python3.7/dist-packages/ipykernel_launcher.py:5: SettingWithCopyWarning: \n",
            "A value is trying to be set on a copy of a slice from a DataFrame.\n",
            "Try using .loc[row_indexer,col_indexer] = value instead\n",
            "\n",
            "See the caveats in the documentation: https://pandas.pydata.org/pandas-docs/stable/user_guide/indexing.html#returning-a-view-versus-a-copy\n",
            "  \"\"\"\n"
          ]
        }
      ]
    },
    {
      "cell_type": "markdown",
      "metadata": {
        "id": "icQHJgSqJuKQ"
      },
      "source": [
        "###ตารางแสดงผลจากการที่เราเพิ่ม column"
      ]
    },
    {
      "cell_type": "code",
      "metadata": {
        "id": "bhjJCAbbNdzO",
        "outputId": "fe0fcaa5-ba0e-4875-e3ce-ccb596b87181",
        "colab": {
          "base_uri": "https://localhost:8080/",
          "height": 638
        }
      },
      "source": [
        "merge_table3_drop"
      ],
      "execution_count": 53,
      "outputs": [
        {
          "output_type": "execute_result",
          "data": {
            "text/html": [
              "<div>\n",
              "<style scoped>\n",
              "    .dataframe tbody tr th:only-of-type {\n",
              "        vertical-align: middle;\n",
              "    }\n",
              "\n",
              "    .dataframe tbody tr th {\n",
              "        vertical-align: top;\n",
              "    }\n",
              "\n",
              "    .dataframe thead th {\n",
              "        text-align: right;\n",
              "    }\n",
              "</style>\n",
              "<table border=\"1\" class=\"dataframe\">\n",
              "  <thead>\n",
              "    <tr style=\"text-align: right;\">\n",
              "      <th></th>\n",
              "      <th>no.</th>\n",
              "      <th>Mobile Market Report</th>\n",
              "      <th>value_mobile</th>\n",
              "      <th>quarter</th>\n",
              "      <th>Thailand Internet Users_subscriber</th>\n",
              "      <th>year</th>\n",
              "      <th>value_subscriber</th>\n",
              "      <th>type_population</th>\n",
              "      <th>value_population</th>\n",
              "      <th>type_household</th>\n",
              "      <th>value_household</th>\n",
              "      <th>subscriber_group</th>\n",
              "      <th>household_group</th>\n",
              "      <th>population_group</th>\n",
              "      <th>mobile_group</th>\n",
              "    </tr>\n",
              "  </thead>\n",
              "  <tbody>\n",
              "    <tr>\n",
              "      <th>0</th>\n",
              "      <td>5</td>\n",
              "      <td>Mobile Subscribers</td>\n",
              "      <td>18763102</td>\n",
              "      <td>1.0</td>\n",
              "      <td>Total Internet subscribers</td>\n",
              "      <td>2004.0</td>\n",
              "      <td>785931.00</td>\n",
              "      <td>per population (%)</td>\n",
              "      <td>0.0005</td>\n",
              "      <td>per household (%)</td>\n",
              "      <td>0.001556</td>\n",
              "      <td>low_subscriber</td>\n",
              "      <td>low_household</td>\n",
              "      <td>low_population</td>\n",
              "      <td>low_mobile</td>\n",
              "    </tr>\n",
              "    <tr>\n",
              "      <th>1</th>\n",
              "      <td>6</td>\n",
              "      <td>Mobile Subscribers</td>\n",
              "      <td>19788956</td>\n",
              "      <td>2.0</td>\n",
              "      <td>Total Internet subscribers</td>\n",
              "      <td>2004.0</td>\n",
              "      <td>914400.00</td>\n",
              "      <td>per population (%)</td>\n",
              "      <td>0.0007</td>\n",
              "      <td>per household (%)</td>\n",
              "      <td>0.002265</td>\n",
              "      <td>low_subscriber</td>\n",
              "      <td>low_household</td>\n",
              "      <td>low_population</td>\n",
              "      <td>low_mobile</td>\n",
              "    </tr>\n",
              "    <tr>\n",
              "      <th>2</th>\n",
              "      <td>7</td>\n",
              "      <td>Mobile Subscribers</td>\n",
              "      <td>20655866</td>\n",
              "      <td>3.0</td>\n",
              "      <td>Total Internet subscribers</td>\n",
              "      <td>2004.0</td>\n",
              "      <td>1091652.00</td>\n",
              "      <td>per population (%)</td>\n",
              "      <td>0.0015</td>\n",
              "      <td>per household (%)</td>\n",
              "      <td>0.004964</td>\n",
              "      <td>low_subscriber</td>\n",
              "      <td>low_household</td>\n",
              "      <td>low_population</td>\n",
              "      <td>low_mobile</td>\n",
              "    </tr>\n",
              "    <tr>\n",
              "      <th>3</th>\n",
              "      <td>8</td>\n",
              "      <td>Mobile Subscribers</td>\n",
              "      <td>21616910</td>\n",
              "      <td>4.0</td>\n",
              "      <td>Total Internet subscribers</td>\n",
              "      <td>2004.0</td>\n",
              "      <td>1231344.00</td>\n",
              "      <td>per population (%)</td>\n",
              "      <td>0.0026</td>\n",
              "      <td>per household (%)</td>\n",
              "      <td>0.008716</td>\n",
              "      <td>low_subscriber</td>\n",
              "      <td>low_household</td>\n",
              "      <td>low_population</td>\n",
              "      <td>low_mobile</td>\n",
              "    </tr>\n",
              "    <tr>\n",
              "      <th>4</th>\n",
              "      <td>9</td>\n",
              "      <td>Mobile Subscribers</td>\n",
              "      <td>23217311</td>\n",
              "      <td>1.0</td>\n",
              "      <td>Total Internet subscribers</td>\n",
              "      <td>2005.0</td>\n",
              "      <td>1197942.00</td>\n",
              "      <td>per population (%)</td>\n",
              "      <td>0.0045</td>\n",
              "      <td>per household (%)</td>\n",
              "      <td>0.015449</td>\n",
              "      <td>low_subscriber</td>\n",
              "      <td>low_household</td>\n",
              "      <td>low_population</td>\n",
              "      <td>low_mobile</td>\n",
              "    </tr>\n",
              "    <tr>\n",
              "      <th>...</th>\n",
              "      <td>...</td>\n",
              "      <td>...</td>\n",
              "      <td>...</td>\n",
              "      <td>...</td>\n",
              "      <td>...</td>\n",
              "      <td>...</td>\n",
              "      <td>...</td>\n",
              "      <td>...</td>\n",
              "      <td>...</td>\n",
              "      <td>...</td>\n",
              "      <td>...</td>\n",
              "      <td>...</td>\n",
              "      <td>...</td>\n",
              "      <td>...</td>\n",
              "      <td>...</td>\n",
              "    </tr>\n",
              "    <tr>\n",
              "      <th>64</th>\n",
              "      <td>69</td>\n",
              "      <td>Mobile Subscribers</td>\n",
              "      <td>122173569</td>\n",
              "      <td>1.0</td>\n",
              "      <td>Total Internet subscribers</td>\n",
              "      <td>2020.0</td>\n",
              "      <td>10264995.67</td>\n",
              "      <td>per population (%)</td>\n",
              "      <td>0.1510</td>\n",
              "      <td>per household (%)</td>\n",
              "      <td>0.469344</td>\n",
              "      <td>high_subscriber</td>\n",
              "      <td>high_household</td>\n",
              "      <td>high_population</td>\n",
              "      <td>high_mobile</td>\n",
              "    </tr>\n",
              "    <tr>\n",
              "      <th>65</th>\n",
              "      <td>70</td>\n",
              "      <td>Mobile Subscribers</td>\n",
              "      <td>124366678</td>\n",
              "      <td>2.0</td>\n",
              "      <td>Total Internet subscribers</td>\n",
              "      <td>2020.0</td>\n",
              "      <td>10912996.14</td>\n",
              "      <td>per population (%)</td>\n",
              "      <td>0.1605</td>\n",
              "      <td>per household (%)</td>\n",
              "      <td>0.498972</td>\n",
              "      <td>high_subscriber</td>\n",
              "      <td>high_household</td>\n",
              "      <td>high_population</td>\n",
              "      <td>high_mobile</td>\n",
              "    </tr>\n",
              "    <tr>\n",
              "      <th>66</th>\n",
              "      <td>71</td>\n",
              "      <td>Mobile Subscribers</td>\n",
              "      <td>126137528</td>\n",
              "      <td>3.0</td>\n",
              "      <td>Total Internet subscribers</td>\n",
              "      <td>2020.0</td>\n",
              "      <td>11282645.58</td>\n",
              "      <td>per population (%)</td>\n",
              "      <td>0.1659</td>\n",
              "      <td>per household (%)</td>\n",
              "      <td>0.515873</td>\n",
              "      <td>high_subscriber</td>\n",
              "      <td>high_household</td>\n",
              "      <td>high_population</td>\n",
              "      <td>high_mobile</td>\n",
              "    </tr>\n",
              "    <tr>\n",
              "      <th>67</th>\n",
              "      <td>72</td>\n",
              "      <td>Mobile Subscribers</td>\n",
              "      <td>129613743</td>\n",
              "      <td>4.0</td>\n",
              "      <td>Total Internet subscribers</td>\n",
              "      <td>2020.0</td>\n",
              "      <td>11478264.92</td>\n",
              "      <td>per population (%)</td>\n",
              "      <td>0.1685</td>\n",
              "      <td>per household (%)</td>\n",
              "      <td>0.514683</td>\n",
              "      <td>high_subscriber</td>\n",
              "      <td>high_household</td>\n",
              "      <td>high_population</td>\n",
              "      <td>high_mobile</td>\n",
              "    </tr>\n",
              "    <tr>\n",
              "      <th>68</th>\n",
              "      <td>73</td>\n",
              "      <td>Mobile Subscribers</td>\n",
              "      <td>132594791</td>\n",
              "      <td>1.0</td>\n",
              "      <td>Total Internet subscribers</td>\n",
              "      <td>2021.0</td>\n",
              "      <td>11876158.44</td>\n",
              "      <td>per population (%)</td>\n",
              "      <td>0.1740</td>\n",
              "      <td>per household (%)</td>\n",
              "      <td>0.532524</td>\n",
              "      <td>high_subscriber</td>\n",
              "      <td>high_household</td>\n",
              "      <td>high_population</td>\n",
              "      <td>high_mobile</td>\n",
              "    </tr>\n",
              "  </tbody>\n",
              "</table>\n",
              "<p>69 rows × 15 columns</p>\n",
              "</div>"
            ],
            "text/plain": [
              "    no. Mobile Market Report  ...  population_group  mobile_group\n",
              "0     5   Mobile Subscribers  ...    low_population    low_mobile\n",
              "1     6   Mobile Subscribers  ...    low_population    low_mobile\n",
              "2     7   Mobile Subscribers  ...    low_population    low_mobile\n",
              "3     8   Mobile Subscribers  ...    low_population    low_mobile\n",
              "4     9   Mobile Subscribers  ...    low_population    low_mobile\n",
              "..  ...                  ...  ...               ...           ...\n",
              "64   69   Mobile Subscribers  ...   high_population   high_mobile\n",
              "65   70   Mobile Subscribers  ...   high_population   high_mobile\n",
              "66   71   Mobile Subscribers  ...   high_population   high_mobile\n",
              "67   72   Mobile Subscribers  ...   high_population   high_mobile\n",
              "68   73   Mobile Subscribers  ...   high_population   high_mobile\n",
              "\n",
              "[69 rows x 15 columns]"
            ]
          },
          "metadata": {},
          "execution_count": 53
        }
      ]
    },
    {
      "cell_type": "markdown",
      "metadata": {
        "id": "eMc69VTXJzIk"
      },
      "source": [
        "###ตัดตารางให้เหลือแต่กลุ่มของ column ที่ต้องการใช้"
      ]
    },
    {
      "cell_type": "code",
      "metadata": {
        "colab": {
          "base_uri": "https://localhost:8080/"
        },
        "id": "YGdpy3j8J1Eo",
        "outputId": "ed3771a0-6030-49cd-d08d-711acac8a624"
      },
      "source": [
        "merge_table3_drop.columns  #ดูว่ามี column อะไรบ้าง"
      ],
      "execution_count": 54,
      "outputs": [
        {
          "output_type": "execute_result",
          "data": {
            "text/plain": [
              "Index(['no.', 'Mobile Market Report', 'value_mobile', 'quarter',\n",
              "       'Thailand Internet Users_subscriber', 'year', 'value_subscriber',\n",
              "       'type_population', 'value_population', 'type_household',\n",
              "       'value_household', 'subscriber_group', 'household_group',\n",
              "       'population_group', 'mobile_group'],\n",
              "      dtype='object')"
            ]
          },
          "metadata": {},
          "execution_count": 54
        }
      ]
    },
    {
      "cell_type": "code",
      "metadata": {
        "id": "LRFkt7sxNrDm",
        "outputId": "e9c8ca3e-7781-4fbe-cc4d-5d031809ea04",
        "colab": {
          "base_uri": "https://localhost:8080/",
          "height": 417
        }
      },
      "source": [
        "data_cut = merge_table3_drop[['subscriber_group', 'household_group', 'population_group', 'mobile_group']]  # เลือกเฉพาะคอลัมน์ที่เราใช้\n",
        "data_cut"
      ],
      "execution_count": 55,
      "outputs": [
        {
          "output_type": "execute_result",
          "data": {
            "text/html": [
              "<div>\n",
              "<style scoped>\n",
              "    .dataframe tbody tr th:only-of-type {\n",
              "        vertical-align: middle;\n",
              "    }\n",
              "\n",
              "    .dataframe tbody tr th {\n",
              "        vertical-align: top;\n",
              "    }\n",
              "\n",
              "    .dataframe thead th {\n",
              "        text-align: right;\n",
              "    }\n",
              "</style>\n",
              "<table border=\"1\" class=\"dataframe\">\n",
              "  <thead>\n",
              "    <tr style=\"text-align: right;\">\n",
              "      <th></th>\n",
              "      <th>subscriber_group</th>\n",
              "      <th>household_group</th>\n",
              "      <th>population_group</th>\n",
              "      <th>mobile_group</th>\n",
              "    </tr>\n",
              "  </thead>\n",
              "  <tbody>\n",
              "    <tr>\n",
              "      <th>0</th>\n",
              "      <td>low_subscriber</td>\n",
              "      <td>low_household</td>\n",
              "      <td>low_population</td>\n",
              "      <td>low_mobile</td>\n",
              "    </tr>\n",
              "    <tr>\n",
              "      <th>1</th>\n",
              "      <td>low_subscriber</td>\n",
              "      <td>low_household</td>\n",
              "      <td>low_population</td>\n",
              "      <td>low_mobile</td>\n",
              "    </tr>\n",
              "    <tr>\n",
              "      <th>2</th>\n",
              "      <td>low_subscriber</td>\n",
              "      <td>low_household</td>\n",
              "      <td>low_population</td>\n",
              "      <td>low_mobile</td>\n",
              "    </tr>\n",
              "    <tr>\n",
              "      <th>3</th>\n",
              "      <td>low_subscriber</td>\n",
              "      <td>low_household</td>\n",
              "      <td>low_population</td>\n",
              "      <td>low_mobile</td>\n",
              "    </tr>\n",
              "    <tr>\n",
              "      <th>4</th>\n",
              "      <td>low_subscriber</td>\n",
              "      <td>low_household</td>\n",
              "      <td>low_population</td>\n",
              "      <td>low_mobile</td>\n",
              "    </tr>\n",
              "    <tr>\n",
              "      <th>...</th>\n",
              "      <td>...</td>\n",
              "      <td>...</td>\n",
              "      <td>...</td>\n",
              "      <td>...</td>\n",
              "    </tr>\n",
              "    <tr>\n",
              "      <th>64</th>\n",
              "      <td>high_subscriber</td>\n",
              "      <td>high_household</td>\n",
              "      <td>high_population</td>\n",
              "      <td>high_mobile</td>\n",
              "    </tr>\n",
              "    <tr>\n",
              "      <th>65</th>\n",
              "      <td>high_subscriber</td>\n",
              "      <td>high_household</td>\n",
              "      <td>high_population</td>\n",
              "      <td>high_mobile</td>\n",
              "    </tr>\n",
              "    <tr>\n",
              "      <th>66</th>\n",
              "      <td>high_subscriber</td>\n",
              "      <td>high_household</td>\n",
              "      <td>high_population</td>\n",
              "      <td>high_mobile</td>\n",
              "    </tr>\n",
              "    <tr>\n",
              "      <th>67</th>\n",
              "      <td>high_subscriber</td>\n",
              "      <td>high_household</td>\n",
              "      <td>high_population</td>\n",
              "      <td>high_mobile</td>\n",
              "    </tr>\n",
              "    <tr>\n",
              "      <th>68</th>\n",
              "      <td>high_subscriber</td>\n",
              "      <td>high_household</td>\n",
              "      <td>high_population</td>\n",
              "      <td>high_mobile</td>\n",
              "    </tr>\n",
              "  </tbody>\n",
              "</table>\n",
              "<p>69 rows × 4 columns</p>\n",
              "</div>"
            ],
            "text/plain": [
              "   subscriber_group household_group population_group mobile_group\n",
              "0    low_subscriber   low_household   low_population   low_mobile\n",
              "1    low_subscriber   low_household   low_population   low_mobile\n",
              "2    low_subscriber   low_household   low_population   low_mobile\n",
              "3    low_subscriber   low_household   low_population   low_mobile\n",
              "4    low_subscriber   low_household   low_population   low_mobile\n",
              "..              ...             ...              ...          ...\n",
              "64  high_subscriber  high_household  high_population  high_mobile\n",
              "65  high_subscriber  high_household  high_population  high_mobile\n",
              "66  high_subscriber  high_household  high_population  high_mobile\n",
              "67  high_subscriber  high_household  high_population  high_mobile\n",
              "68  high_subscriber  high_household  high_population  high_mobile\n",
              "\n",
              "[69 rows x 4 columns]"
            ]
          },
          "metadata": {},
          "execution_count": 55
        }
      ]
    },
    {
      "cell_type": "code",
      "metadata": {
        "id": "jRLydf_EN2Gt",
        "outputId": "102327e3-3fbb-43c2-f9fe-65535e6e00eb",
        "colab": {
          "base_uri": "https://localhost:8080/"
        }
      },
      "source": [
        "data_cut.shape  #ขนาดของตาราง data_cut"
      ],
      "execution_count": 56,
      "outputs": [
        {
          "output_type": "execute_result",
          "data": {
            "text/plain": [
              "(69, 4)"
            ]
          },
          "metadata": {},
          "execution_count": 56
        }
      ]
    },
    {
      "cell_type": "markdown",
      "metadata": {
        "id": "sqbDHiE3PRoQ"
      },
      "source": [
        "#Assosiation ตาราง data_cut"
      ]
    },
    {
      "cell_type": "markdown",
      "metadata": {
        "id": "kv_c1Zg0Pywh"
      },
      "source": [
        "\n",
        "*   Transection คือ ข้อมูล Internet ความเร็วสูง\n",
        "*   item คือ ระดับ low median high \n",
        "*   ค่าสนับสนุน (Support) คือ เปอร์เซ็นต์ของจำนวน Item sets ทั้งหมดที่เกิดขึ้นในฐานข้อมูล\n",
        "*   ค่าความเชื่อมั่น (Confidence) คือ เปอร์เซ็นต์ของจำนวน Item sets ทั้งหมดที่เกิดขึ้นในฐานข้อมูลต่อจำนวน Item sets ที่เกิดขึ้น\n",
        "*   ค่าสหสัมพันธ์ (Lift) คือค่าที่บ่งบอกว่ากฎมีความสัมพันธ์กัน หรือไม่ โดยถ้าLift มีค่ามากกว่า 1 แสดงว่ากฎทั้งสองมีความสัมพันธ์กัน แต่ถ้ามีค่าน้อยกว่า 1 แสดงว่า กฎไม่ความสัมพันธ์กัน"
      ]
    },
    {
      "cell_type": "code",
      "metadata": {
        "id": "0vfy3lQGOQnN"
      },
      "source": [
        "transaction = []  #ให้  transacstion เป็น  list ว่าง\n",
        "for i in range(0,len(data_cut)):\n",
        "  transaction.append([str(data_cut.values[i,j]) for j in range(0,4)])"
      ],
      "execution_count": 58,
      "outputs": []
    },
    {
      "cell_type": "markdown",
      "metadata": {
        "id": "us7vRFKlSR0g"
      },
      "source": [
        "####Apriori\n",
        "จะไปหาละก็คำนวณ Support ให้เรา\n",
        "\n",
        "http://zaxrosenberg.com/unofficial-apyori-documentation/"
      ]
    },
    {
      "cell_type": "code",
      "metadata": {
        "colab": {
          "base_uri": "https://localhost:8080/"
        },
        "id": "RSPmw7V8SVew",
        "outputId": "18592894-b1d1-43c7-ee49-2c3307a8f892"
      },
      "source": [
        "!pip install apyori"
      ],
      "execution_count": 59,
      "outputs": [
        {
          "output_type": "stream",
          "name": "stdout",
          "text": [
            "Requirement already satisfied: apyori in /usr/local/lib/python3.7/dist-packages (1.1.2)\n"
          ]
        }
      ]
    },
    {
      "cell_type": "code",
      "metadata": {
        "id": "7_EbQq4pSc1A"
      },
      "source": [
        "from apyori import apriori"
      ],
      "execution_count": 37,
      "outputs": []
    },
    {
      "cell_type": "code",
      "metadata": {
        "id": "A6r7YjYcOjWF",
        "outputId": "490d51d4-e3fb-490f-d796-60675884dfb3",
        "colab": {
          "base_uri": "https://localhost:8080/"
        }
      },
      "source": [
        "Asso = list(apriori(transaction,min_support = 0.4, min_cofidence = 0.4))\n",
        "Asso\n",
        "#min_support คือ ค่าสนับสนุนต่ำสุดที่ยอมรับได้ ต่ำกว่านี้จะไม่นำไปวิเคราะห์ โดยในที่นี้กำหนดให้เท่ากับ 0.4 \n",
        "# min_confidence คือ ค่าเชื่อมั่นต่ำสุดที่สนใจ ในที่นี้กำหนดให้เท่ากับ 0.4"
      ],
      "execution_count": 60,
      "outputs": [
        {
          "output_type": "execute_result",
          "data": {
            "text/plain": [
              "[RelationRecord(items=frozenset({'high_subscriber'}), support=0.42028985507246375, ordered_statistics=[OrderedStatistic(items_base=frozenset(), items_add=frozenset({'high_subscriber'}), confidence=0.42028985507246375, lift=1.0)]),\n",
              " RelationRecord(items=frozenset({'low_population'}), support=0.4057971014492754, ordered_statistics=[OrderedStatistic(items_base=frozenset(), items_add=frozenset({'low_population'}), confidence=0.4057971014492754, lift=1.0)]),\n",
              " RelationRecord(items=frozenset({'median_household'}), support=0.43478260869565216, ordered_statistics=[OrderedStatistic(items_base=frozenset(), items_add=frozenset({'median_household'}), confidence=0.43478260869565216, lift=1.0)]),\n",
              " RelationRecord(items=frozenset({'median_mobile'}), support=0.4492753623188406, ordered_statistics=[OrderedStatistic(items_base=frozenset(), items_add=frozenset({'median_mobile'}), confidence=0.4492753623188406, lift=1.0)]),\n",
              " RelationRecord(items=frozenset({'median_household', 'median_mobile'}), support=0.43478260869565216, ordered_statistics=[OrderedStatistic(items_base=frozenset(), items_add=frozenset({'median_household', 'median_mobile'}), confidence=0.43478260869565216, lift=1.0), OrderedStatistic(items_base=frozenset({'median_household'}), items_add=frozenset({'median_mobile'}), confidence=1.0, lift=2.225806451612903), OrderedStatistic(items_base=frozenset({'median_mobile'}), items_add=frozenset({'median_household'}), confidence=0.967741935483871, lift=2.2258064516129035)])]"
            ]
          },
          "metadata": {},
          "execution_count": 60
        }
      ]
    },
    {
      "cell_type": "markdown",
      "metadata": {
        "id": "t1alBDqFdAfF"
      },
      "source": [
        "#สรุปผล\n",
        "\n",
        "*   RelationRecord(items=frozenset({'high_subscriber'}), support=0.42028985507246375, ordered_statistics=[OrderedStatistic(items_base=frozenset(), items_add=frozenset({'high_subscriber'}), confidence=0.42028985507246375, lift=1.0)]),\n",
        "\n",
        "หมายความว่า จำนวนผู้ลงทะเบียนใช้บริการอินเทอร์เน็ตความเร็วสูงอยู่ในระดับสูง มีค่าสนับสนุนต่ำสุดที่ยอมรับได้ 42.03 % ค่าเชื่อมั่นต่ำสุดที่สนใจ 42.03 % ค่า lift เท่ากับ 1 \n",
        "\n",
        "*  RelationRecord(items=frozenset({'low_population'}), support=0.4057971014492754, ordered_statistics=[OrderedStatistic(items_base=frozenset(), items_add=frozenset({'low_population'}), confidence=0.4057971014492754, lift=1.0)]),\n",
        "\n",
        "หมายความว่า อัตราการเข้าถึงของบริการอินเทอร์เน็ตความเร็วสูงต่อจำนวนประชากรอยู่ในระดับต่ำ มีค่าสนับสนุนต่ำสุดที่ยอมรับได้ 40.58 %  ค่าเชื่อมั่นต่ำสุดที่สนใจ 40.58 % ค่า lift เท่ากับ 1\n",
        "\n",
        "*   RelationRecord(items=frozenset({'median_household'}), support=0.43478260869565216, ordered_statistics=[OrderedStatistic(items_base=frozenset(), items_add=frozenset({'median_household'}), confidence=0.43478260869565216, lift=1.0)]),\n",
        "\n",
        "หมายความว่า ตราการเข้าถึงของบริการอินเทอร์เน็ตความเร็วสูงต่อจำนวนครัวเรือนอยู่ในระดับกลาง มีค่าสนับสนุนต่ำสุดที่ยอมรับได้ 43.48 %  ค่าเชื่อมั่นต่ำสุดที่สนใจ 43.48 % ค่า lift เท่ากับ 1\n",
        "\n",
        "*   RelationRecord(items=frozenset({'median_mobile'}), support=0.4492753623188406, ordered_statistics=[OrderedStatistic(items_base=frozenset(), items_add=frozenset({'median_mobile'}), confidence=0.4492753623188406, lift=1.0)]),\n",
        "\n",
        "หมายความว่า  จำนวนเลขหมายโทรศัพท์เคลื่อนที่ที่ได้รับการจดทะเบียนอยู่ในระดับกลาง มีค่าสนับสนุนต่ำสุดที่ยอมรับได้ 44.93 % ค่าเชื่อมั่นต่ำสุดที่สนใจ 44.93 % ค่า lift เท่ากับ 1\n",
        "\n",
        "* จากกฏ 4 ข้อด้านบนจะสังเกตเห็นว่าค่า lift = 1 แสดงว่ากฏพวกนี้ยังไม่น่าสำคัญและยังไม่น่าสนใจ \n",
        "\n",
        "\n",
        "*   RelationRecord(items=frozenset({'median_household', 'median_mobile'}), support=0.43478260869565216, ordered_statistics=[OrderedStatistic(items_base=frozenset(), items_add=frozenset({'median_household', 'median_mobile'}), confidence=0.43478260869565216, lift=1.0), OrderedStatistic(items_base=frozenset({'median_household'}), items_add=frozenset({'median_mobile'}), confidence=1.0, lift=2.225806451612903), OrderedStatistic(items_base=frozenset({'median_mobile'}), items_add=frozenset({'median_household'}), confidence=0.967741935483871, lift=2.2258064516129035)])\n",
        "\n",
        "หมายความว่า \n",
        "\n",
        "-RelationRecord(items=frozenset({'median_mobile', 'median_household'}), support=0.43478260869565216  \n",
        "\n",
        " หมายความว่า  ค่าสนับสนุนต่ำสุดที่ยอมรับได้ของทั้ง 2 itemsets คือ อัตราการเข้าถึงของบริการอินเทอร์เน็ตความเร็วสูงต่อจำนวนครัวเรือนอยู่ในระดับปานกลางและจำนวนเลขหมายโทรศัพท์เคลื่อนที่ที่ได้รับการจดทะเบียนอยู่ในระดับปานกลาง มีค่าสนับสนุนต่ำสุดที่ยอมรับได้ทั้งหมด 43.48 %\n",
        "\n",
        "-OrderedStatistic(items_base=frozenset({'median_household'}), items_add=frozenset({'median_mobile'}), confidence=1.0, lift=2.225806451612903) \n",
        "\n",
        "หมายความว่ามีการเข้าถึงบริการอินเทอร์เน็ตความเร็วสูงต่อครัวเรือนที่อยู่ในระดับกลาง จึงค่อยมีการจดทะเบียนหมายเลขโทรศัพท์เคลื่อนที่ที่อยู่ในระดับกลางมีค่าเชื่อมั่นต่ำสุดที่สนใจทั้งหมด 100 %\n",
        "\n",
        "-OrderedStatistic(items_base=frozenset({'median_mobile'}), items_add=frozenset({'median_household'}), confidence=0.967741935483871, lift=2.2258064516129035)\n",
        "\n",
        "หมายความว่า มีการจดทะเบียนหมายเลขโทรศัพท์เคลื่อนที่ที่อยู่ในระดับกลางก่อนจึงค่อยมีการเข้าถึงบริการอินเทอร์เน็ตความเร็วสูงต่อครัวเรือนที่อยู่ในระดับกลาง มีค่าเชื่อมั่นต่ำสุดที่สนใจทั้งหมด 96.77 %\n",
        "\n",
        "-code : lift=2.2258064516129035 หมายความว่า ดีกฏนี้น่าสนใจ มีความสัมพันธ์กันมาก\n",
        "\n",
        "\n",
        "\n",
        "\n",
        "\n",
        "\n"
      ]
    },
    {
      "cell_type": "markdown",
      "metadata": {
        "id": "HBHR9mfnOzPN"
      },
      "source": [
        ""
      ]
    },
    {
      "cell_type": "markdown",
      "metadata": {
        "id": "_-TVrr9mdExw"
      },
      "source": [
        "#Visualization"
      ]
    },
    {
      "cell_type": "markdown",
      "metadata": {
        "id": "nAHrPGfAO_H8"
      },
      "source": [
        "####กำหนดข้อมูลให้เป็นตัวเลขก่อน โดยกำหนดค่าข้อมูลดังนี้\n",
        "*   low = 0 \n",
        "*   median = 1\n",
        "*   high = 2\n",
        "\n",
        "\n",
        "\n",
        "\n"
      ]
    },
    {
      "cell_type": "code",
      "metadata": {
        "id": "MtUEQG4uO7nl",
        "outputId": "89c12913-5008-4d54-848e-19d21814a710",
        "colab": {
          "base_uri": "https://localhost:8080/",
          "height": 820
        }
      },
      "source": [
        "data_cut['subscriber_group'] = data_cut['subscriber_group'].map({'low_subscriber':0,'median_subscriber':1,'high_subscriber':2})\n",
        "data_cut['household_group'] = data_cut['household_group'].map({'low_household':0,'median_household':1,'high_household':2})\n",
        "data_cut['population_group'] = data_cut['population_group'].map({'low_population':0,'median_population':1,'high_population':2})\n",
        "data_cut['mobile_group'] = data_cut['mobile_group'].map({'low_mobile':0,'median_mobile':1,'high_mobile':2})\n",
        "data_cut"
      ],
      "execution_count": 61,
      "outputs": [
        {
          "output_type": "stream",
          "name": "stderr",
          "text": [
            "/usr/local/lib/python3.7/dist-packages/ipykernel_launcher.py:1: SettingWithCopyWarning: \n",
            "A value is trying to be set on a copy of a slice from a DataFrame.\n",
            "Try using .loc[row_indexer,col_indexer] = value instead\n",
            "\n",
            "See the caveats in the documentation: https://pandas.pydata.org/pandas-docs/stable/user_guide/indexing.html#returning-a-view-versus-a-copy\n",
            "  \"\"\"Entry point for launching an IPython kernel.\n",
            "/usr/local/lib/python3.7/dist-packages/ipykernel_launcher.py:2: SettingWithCopyWarning: \n",
            "A value is trying to be set on a copy of a slice from a DataFrame.\n",
            "Try using .loc[row_indexer,col_indexer] = value instead\n",
            "\n",
            "See the caveats in the documentation: https://pandas.pydata.org/pandas-docs/stable/user_guide/indexing.html#returning-a-view-versus-a-copy\n",
            "  \n",
            "/usr/local/lib/python3.7/dist-packages/ipykernel_launcher.py:3: SettingWithCopyWarning: \n",
            "A value is trying to be set on a copy of a slice from a DataFrame.\n",
            "Try using .loc[row_indexer,col_indexer] = value instead\n",
            "\n",
            "See the caveats in the documentation: https://pandas.pydata.org/pandas-docs/stable/user_guide/indexing.html#returning-a-view-versus-a-copy\n",
            "  This is separate from the ipykernel package so we can avoid doing imports until\n",
            "/usr/local/lib/python3.7/dist-packages/ipykernel_launcher.py:4: SettingWithCopyWarning: \n",
            "A value is trying to be set on a copy of a slice from a DataFrame.\n",
            "Try using .loc[row_indexer,col_indexer] = value instead\n",
            "\n",
            "See the caveats in the documentation: https://pandas.pydata.org/pandas-docs/stable/user_guide/indexing.html#returning-a-view-versus-a-copy\n",
            "  after removing the cwd from sys.path.\n"
          ]
        },
        {
          "output_type": "execute_result",
          "data": {
            "text/html": [
              "<div>\n",
              "<style scoped>\n",
              "    .dataframe tbody tr th:only-of-type {\n",
              "        vertical-align: middle;\n",
              "    }\n",
              "\n",
              "    .dataframe tbody tr th {\n",
              "        vertical-align: top;\n",
              "    }\n",
              "\n",
              "    .dataframe thead th {\n",
              "        text-align: right;\n",
              "    }\n",
              "</style>\n",
              "<table border=\"1\" class=\"dataframe\">\n",
              "  <thead>\n",
              "    <tr style=\"text-align: right;\">\n",
              "      <th></th>\n",
              "      <th>subscriber_group</th>\n",
              "      <th>household_group</th>\n",
              "      <th>population_group</th>\n",
              "      <th>mobile_group</th>\n",
              "    </tr>\n",
              "  </thead>\n",
              "  <tbody>\n",
              "    <tr>\n",
              "      <th>0</th>\n",
              "      <td>0</td>\n",
              "      <td>0</td>\n",
              "      <td>0</td>\n",
              "      <td>0</td>\n",
              "    </tr>\n",
              "    <tr>\n",
              "      <th>1</th>\n",
              "      <td>0</td>\n",
              "      <td>0</td>\n",
              "      <td>0</td>\n",
              "      <td>0</td>\n",
              "    </tr>\n",
              "    <tr>\n",
              "      <th>2</th>\n",
              "      <td>0</td>\n",
              "      <td>0</td>\n",
              "      <td>0</td>\n",
              "      <td>0</td>\n",
              "    </tr>\n",
              "    <tr>\n",
              "      <th>3</th>\n",
              "      <td>0</td>\n",
              "      <td>0</td>\n",
              "      <td>0</td>\n",
              "      <td>0</td>\n",
              "    </tr>\n",
              "    <tr>\n",
              "      <th>4</th>\n",
              "      <td>0</td>\n",
              "      <td>0</td>\n",
              "      <td>0</td>\n",
              "      <td>0</td>\n",
              "    </tr>\n",
              "    <tr>\n",
              "      <th>...</th>\n",
              "      <td>...</td>\n",
              "      <td>...</td>\n",
              "      <td>...</td>\n",
              "      <td>...</td>\n",
              "    </tr>\n",
              "    <tr>\n",
              "      <th>64</th>\n",
              "      <td>2</td>\n",
              "      <td>2</td>\n",
              "      <td>2</td>\n",
              "      <td>2</td>\n",
              "    </tr>\n",
              "    <tr>\n",
              "      <th>65</th>\n",
              "      <td>2</td>\n",
              "      <td>2</td>\n",
              "      <td>2</td>\n",
              "      <td>2</td>\n",
              "    </tr>\n",
              "    <tr>\n",
              "      <th>66</th>\n",
              "      <td>2</td>\n",
              "      <td>2</td>\n",
              "      <td>2</td>\n",
              "      <td>2</td>\n",
              "    </tr>\n",
              "    <tr>\n",
              "      <th>67</th>\n",
              "      <td>2</td>\n",
              "      <td>2</td>\n",
              "      <td>2</td>\n",
              "      <td>2</td>\n",
              "    </tr>\n",
              "    <tr>\n",
              "      <th>68</th>\n",
              "      <td>2</td>\n",
              "      <td>2</td>\n",
              "      <td>2</td>\n",
              "      <td>2</td>\n",
              "    </tr>\n",
              "  </tbody>\n",
              "</table>\n",
              "<p>69 rows × 4 columns</p>\n",
              "</div>"
            ],
            "text/plain": [
              "   subscriber_group household_group population_group mobile_group\n",
              "0                 0               0                0            0\n",
              "1                 0               0                0            0\n",
              "2                 0               0                0            0\n",
              "3                 0               0                0            0\n",
              "4                 0               0                0            0\n",
              "..              ...             ...              ...          ...\n",
              "64                2               2                2            2\n",
              "65                2               2                2            2\n",
              "66                2               2                2            2\n",
              "67                2               2                2            2\n",
              "68                2               2                2            2\n",
              "\n",
              "[69 rows x 4 columns]"
            ]
          },
          "metadata": {},
          "execution_count": 61
        }
      ]
    },
    {
      "cell_type": "code",
      "metadata": {
        "id": "ESThbkvwP5bl"
      },
      "source": [
        "from matplotlib import pyplot as plt "
      ],
      "execution_count": 62,
      "outputs": []
    },
    {
      "cell_type": "markdown",
      "metadata": {
        "id": "1iijD8RnR3ZG"
      },
      "source": [
        "##### ผล Asso code 1 มา plot กราฟ subscriber_group\n",
        "\n",
        "โดย high ดูกราฟที่ข้อมูลอยู่ในกลุ่ม high หรือ  2"
      ]
    },
    {
      "cell_type": "code",
      "metadata": {
        "id": "iOlzldSUR2ie",
        "outputId": "c1a7062e-e44d-43cc-dbae-303dab6f80a9",
        "colab": {
          "base_uri": "https://localhost:8080/",
          "height": 295
        }
      },
      "source": [
        "plt.plot(range(len(data_cut.iloc[:,:-3])),data_cut.iloc[:,:-3],'*:g',alpha=0.5,label='subscriber_group') \n",
        "plt.ylabel('value')  # แกน y คือ value บอกว่าข้อมูลในแต่ละ column มีค่าข้อมูลเท่ากับเท่าไหร่  โดยค่าข้อมูลมี 3 ตัวตามที่ได้กำหนดไว้ คือ 0,1,2 \n",
        "plt.xlabel('no.')  # แกน x  คือ บอกว่าข้อมูลในแต่ละ column อยู่จุดที่เท่าไหร่\n",
        "plt.title('Compare data relationships')  # ชื่อกราฟคือ Compare data relationships/เปรียบเทียบความสัมพันธ์ของข้อมูล\n",
        "plt.legend(); "
      ],
      "execution_count": 63,
      "outputs": [
        {
          "output_type": "display_data",
          "data": {
            "image/png": "[encoded data removed]",
            "text/plain": [
              "<Figure size 432x288 with 1 Axes>"
            ]
          },
          "metadata": {
            "needs_background": "light"
          }
        }
      ]
    },
    {
      "cell_type": "markdown",
      "metadata": {
        "id": "UyIbuQLoTwzA"
      },
      "source": [
        "#####ผล Asso code 2 มา plot กราฟ population_group\n",
        "โดย low_population ดูกราฟที่ข้อมูลอยู่ในกลุ่ม Low หรือ  0 \n"
      ]
    },
    {
      "cell_type": "code",
      "metadata": {
        "id": "N_F_0ZFBUY41",
        "outputId": "b717d543-09b5-461c-df68-74a811562488",
        "colab": {
          "base_uri": "https://localhost:8080/",
          "height": 295
        }
      },
      "source": [
        "plt.plot(range(len(data_cut.iloc[:,2:-1])),data_cut.iloc[:,2:-1],'*:y',alpha=0.5,label='population_group')  \n",
        "plt.ylabel('value')   # แกน y คือ value บอกว่าข้อมูลในแต่ละ column มีค่าข้อมูลเท่ากับเท่าไหร่  โดยค่าข้อมูลมี 3 ตัวตามที่ได้กำหนดไว้ คือ 0,1,2 \n",
        "plt.xlabel('no.')  # แกน x  คือ บอกว่าข้อมูลในแต่ละ column อยู่จุดที่เท่าไหร่\n",
        "plt.title('Compare data relationships')  # ชื่อกราฟคือ Compare data relationships/เปรียบเทียบความสัมพันธ์ของข้อมูล\n",
        "plt.legend();  "
      ],
      "execution_count": 64,
      "outputs": [
        {
          "output_type": "display_data",
          "data": {
            "image/png": "[encoded data removed]",
            "text/plain": [
              "<Figure size 432x288 with 1 Axes>"
            ]
          },
          "metadata": {
            "needs_background": "light"
          }
        }
      ]
    },
    {
      "cell_type": "markdown",
      "metadata": {
        "id": "ybSvHhWWUylG"
      },
      "source": [
        "#####ผล code 3 มา plot กราฟ household_group\n",
        "\n",
        "โดย median_household  ดูกราฟที่ข้อมูลอยู่ในกลุ่ม Median/1"
      ]
    },
    {
      "cell_type": "code",
      "metadata": {
        "id": "zBmlGc21VC5C",
        "outputId": "18bdeeeb-01ac-455b-a50f-df4e1dc134eb",
        "colab": {
          "base_uri": "https://localhost:8080/",
          "height": 295
        }
      },
      "source": [
        "plt.plot(range(len(data_cut.iloc[:,1:-2])),data_cut.iloc[:,1:-2],'*:b',alpha=0.5,label='household_group')  \n",
        "plt.ylabel('value')  # แกน y คือ value บอกว่าข้อมูลในแต่ละ column มีค่าข้อมูลเท่ากับเท่าไหร่  โดยค่าข้อมูลมี 3 ตัวตามที่ได้กำหนดไว้ คือ 0,1,2 \n",
        "plt.xlabel('no.')  # แกน x  คือ บอกว่าข้อมูลในแต่ละ column อยู่จุดที่เท่าไหร่\n",
        "plt.title('Compare data relationships')  # ชื่อกราฟคือ Compare data relationships/เปรียบเทียบความสัมพันธ์ของข้อมูล\n",
        "plt.legend(); "
      ],
      "execution_count": 65,
      "outputs": [
        {
          "output_type": "display_data",
          "data": {
            "image/png": "[encoded data removed]",
            "text/plain": [
              "<Figure size 432x288 with 1 Axes>"
            ]
          },
          "metadata": {
            "needs_background": "light"
          }
        }
      ]
    },
    {
      "cell_type": "markdown",
      "metadata": {
        "id": "dA_2xmLtVP0m"
      },
      "source": [
        "#####ผล Asso code 4 มา plot กราฟ mobile_group\n",
        "\n",
        "โดย median_mobile  ดูกราฟที่ข้อมูลอยู่ในกลุ่ม Median/1"
      ]
    },
    {
      "cell_type": "code",
      "metadata": {
        "id": "Iw9lw39BVgdF",
        "outputId": "26f17bcf-3e43-4563-9c20-a429727cd725",
        "colab": {
          "base_uri": "https://localhost:8080/",
          "height": 295
        }
      },
      "source": [
        "plt.plot(range(len(data_cut.iloc[:,3:])),data_cut.iloc[:,3:],'*:r',alpha=0.5,label='mobile_group')  \n",
        "plt.ylabel('value')  # แกน y คือ value บอกว่าข้อมูลในแต่ละ column มีค่าข้อมูลเท่ากับเท่าไหร่  โดยค่าข้อมูลมี 3 ตัวตามที่ได้กำหนดไว้ คือ 0,1,2 \n",
        "plt.xlabel('no.')  # แกน x  คือ บอกว่าข้อมูลในแต่ละ column อยู่จุดที่เท่าไหร่\n",
        "plt.title('Compare data relationships')  # ชื่อกราฟคือ Compare data relationships/เปรียบเทียบความสัมพันธ์ของข้อมูล\n",
        "plt.legend(); "
      ],
      "execution_count": 66,
      "outputs": [
        {
          "output_type": "display_data",
          "data": {
            "image/png": "[encoded data removed]",
            "text/plain": [
              "<Figure size 432x288 with 1 Axes>"
            ]
          },
          "metadata": {
            "needs_background": "light"
          }
        }
      ]
    },
    {
      "cell_type": "markdown",
      "metadata": {
        "id": "nKozXpZkVth-"
      },
      "source": [
        "#####ผล Asso code 5 มา plot กราฟ household_group กับ mobile_group\n",
        "\n",
        "\n",
        "median_household กับ median_mobile ดูกราฟตรงที่ข้อมูลอยู่ในกลุ่ม median/1"
      ]
    },
    {
      "cell_type": "code",
      "metadata": {
        "id": "lxB7uuIiV2-n",
        "outputId": "56bc9ea2-b95b-4ab4-af2c-35d7f7aedf4e",
        "colab": {
          "base_uri": "https://localhost:8080/",
          "height": 295
        }
      },
      "source": [
        "plt.plot(range(len(data_cut.iloc[:,1:-2])),data_cut.iloc[:,1:-2],'*:b',alpha=0.5,label='household_group')  #household_group คือสี b= สีน้ำเงิน\n",
        "plt.plot(range(len(data_cut.iloc[:,3:])),data_cut.iloc[:,3:],'*:r',alpha=0.5,label='mobile_group')  # mobile_group คือสี r= สีแดง\n",
        "plt.ylabel('value')  # แกน y คือ value บอกว่าข้อมูลในแต่ละ column มีค่าข้อมูลเท่ากับเท่าไหร่  โดยค่าข้อมูลมี 3 ตัวตามที่ได้กำหนดไว้ คือ 0,1,2 \n",
        "plt.xlabel('no.')  # แกน x  คือ บอกว่าข้อมูลในแต่ละ column อยู่จุดที่เท่าไหร่\n",
        "plt.title('Compare data relationships')  # ชื่อกราฟคือ Compare data relationships/เปรียบเทียบความสัมพันธ์ของข้อมูล\n",
        "plt.legend();  "
      ],
      "execution_count": 67,
      "outputs": [
        {
          "output_type": "display_data",
          "data": {
            "image/png": "[encoded data removed]",
            "text/plain": [
              "<Figure size 432x288 with 1 Axes>"
            ]
          },
          "metadata": {
            "needs_background": "light"
          }
        }
      ]
    },
    {
      "cell_type": "markdown",
      "metadata": {
        "id": "TA1i9_jmWP7v"
      },
      "source": [
        "#####เปรียบเทียบข้อมูลทุก column\n",
        "ยกตัวอย่างเช่น ข้อมูล Mobile group ที่ No.10 ก็จะจัดอยู่ในกลุ่มที่ 0 คือในระดับ Low   และข้อมูลsubscriber_group ที่ No.10 ก็จะจัดอยู่ในกลุ่มที่ 0 เช่นกัน"
      ]
    },
    {
      "cell_type": "code",
      "metadata": {
        "id": "Ls8lwJbfWSrJ",
        "outputId": "7c87213b-1174-49c0-b4c1-66cff6c86a5b",
        "colab": {
          "base_uri": "https://localhost:8080/",
          "height": 295
        }
      },
      "source": [
        "plt.plot(range(len(data_cut.iloc[:,:-3])),data_cut.iloc[:,:-3],'*:g',alpha=0.5,label='subscriber_group')   #  subscriber_group คือสี g = สีเขียว\n",
        "plt.plot(range(len(data_cut.iloc[:,1:-2])),data_cut.iloc[:,1:-2],'*:b',alpha=0.5,label='household_group')  # household_group คือสี b = สีน้ำเงิน \n",
        "plt.plot(range(len(data_cut.iloc[:,2:-1])),data_cut.iloc[:,2:-1],'*:y',alpha=0.5,label='population_group')  #  population_group คือสี y = สีเหลือง\n",
        "plt.plot(range(len(data_cut.iloc[:,3:])),data_cut.iloc[:,3:],'*:r',alpha=0.5,label='mobile_group')  #  mobile_group คือสี r = สีแดง\n",
        "plt.ylabel('value') # แกน y คือ value บอกว่าข้อมูลในแต่ละ column มีค่าข้อมูลเท่ากับเท่าไหร่  โดยค่าข้อมูลมี 3 ตัวตามที่ได้กำหนดไว้ คือ 0,1,2\n",
        "plt.xlabel('no.')  # แกน x  คือ บอกว่าข้อมูลในแต่ละ column อยู่จุดที่เท่าไหร่\n",
        "plt.title('Compare data relationships')  # ชื่อกราฟคือ Compare data relationships/เปรียบเทียบความสัมพันธ์ของข้อมูล\n",
        "plt.legend(); "
      ],
      "execution_count": 68,
      "outputs": [
        {
          "output_type": "display_data",
          "data": {
            "image/png": "[encoded data removed]",
            "text/plain": [
              "<Figure size 432x288 with 1 Axes>"
            ]
          },
          "metadata": {
            "needs_background": "light"
          }
        }
      ]
    },
    {
      "cell_type": "code",
      "metadata": {
        "id": "i6XNuZp5W7fV",
        "outputId": "e7af3115-fb5a-4cd0-c3d4-94edf56083d3",
        "colab": {
          "base_uri": "https://localhost:8080/",
          "height": 80
        }
      },
      "source": [
        "data_cut.iloc[20:-48,:-3]  #จากการเรียกดูข้อมูลพบว่าตรงกับส่วนที่อยู่ในกราฟคือ No. จัดอยู่ในกลุ่มที่  หรือ median"
      ],
      "execution_count": 69,
      "outputs": [
        {
          "output_type": "execute_result",
          "data": {
            "text/html": [
              "<div>\n",
              "<style scoped>\n",
              "    .dataframe tbody tr th:only-of-type {\n",
              "        vertical-align: middle;\n",
              "    }\n",
              "\n",
              "    .dataframe tbody tr th {\n",
              "        vertical-align: top;\n",
              "    }\n",
              "\n",
              "    .dataframe thead th {\n",
              "        text-align: right;\n",
              "    }\n",
              "</style>\n",
              "<table border=\"1\" class=\"dataframe\">\n",
              "  <thead>\n",
              "    <tr style=\"text-align: right;\">\n",
              "      <th></th>\n",
              "      <th>subscriber_group</th>\n",
              "    </tr>\n",
              "  </thead>\n",
              "  <tbody>\n",
              "    <tr>\n",
              "      <th>20</th>\n",
              "      <td>1</td>\n",
              "    </tr>\n",
              "  </tbody>\n",
              "</table>\n",
              "</div>"
            ],
            "text/plain": [
              "   subscriber_group\n",
              "20                1"
            ]
          },
          "metadata": {},
          "execution_count": 69
        }
      ]
    }
  ]
}