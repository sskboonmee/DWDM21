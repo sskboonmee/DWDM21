{
  "nbformat": 4,
  "nbformat_minor": 0,
  "metadata": {
    "colab": {
      "name": "Projectlookmhee.ipynb",
      "provenance": [],
      "authorship_tag": "ABX9TyPRn5TrYIn3l0LkbrUS4nLe",
      "include_colab_link": true
    },
    "kernelspec": {
      "name": "python3",
      "display_name": "Python 3"
    },
    "language_info": {
      "name": "python"
    }
  },
  "cells": [
    {
      "cell_type": "markdown",
      "metadata": {
        "id": "view-in-github",
        "colab_type": "text"
      },
      "source": [
        "<a href=\"https://colab.research.google.com/github/sskboonmee/DWDM21/blob/main/Projectlookmhee.ipynb\" target=\"_parent\"><img src=\"https://colab.research.google.com/assets/colab-badge.svg\" alt=\"Open In Colab\"/></a>"
      ]
    },
    {
      "cell_type": "markdown",
      "metadata": {
        "id": "_hnr_3lGjw9Q"
      },
      "source": [
        "\n",
        "*  ปัญหา คือ ไม่สามารถพยากรณ์ข้อมูลของปีต่อๆไปได้เนื่องจากไม่ทราบความสัมพันธ์ของข้อมูลปัจจุบันที่มีอยู่\n",
        "*   วัตถุประสงค์ คือ ศึกษาความสัมพันธ์ของตารางที่ 1-4 ว่าความสัมพันธ์ที่ได้จากการคาดเดาปีต่อๆไปเป็นยังไง?"
      ]
    },
    {
      "cell_type": "code",
      "metadata": {
        "id": "5dvkQC2j9-Fg"
      },
      "source": [
        "import pandas as pd   \n",
        "import os"
      ],
      "execution_count": 1,
      "outputs": []
    },
    {
      "cell_type": "code",
      "metadata": {
        "colab": {
          "base_uri": "https://localhost:8080/"
        },
        "id": "tH-Ycm7g-DVF",
        "outputId": "9d890519-9c8e-470b-81a1-b21e6f8b689d"
      },
      "source": [
        "from google.colab import drive\n",
        "drive.mount('/content/drive')"
      ],
      "execution_count": 2,
      "outputs": [
        {
          "output_type": "stream",
          "name": "stdout",
          "text": [
            "Mounted at /content/drive\n"
          ]
        }
      ]
    },
    {
      "cell_type": "code",
      "metadata": {
        "id": "akP23nMr-Izl"
      },
      "source": [
        "path = '/content/drive/My Drive/DWDM2021_DATA'"
      ],
      "execution_count": 3,
      "outputs": []
    },
    {
      "cell_type": "markdown",
      "metadata": {
        "id": "HUDSGABg8z0X"
      },
      "source": [
        "#ข้อมูลชุดที่ 1 จำนวนผู้ลงทะเบียนใช้บริการอินเทอร์เน็ตความเร็วสูง \n",
        "https://data.go.th/dataset/broadband-subscribers?fbclid=IwAR2hJLTNGiEnMNwRApUdbzzaFUj-1_Ag7HWgdZPxX-oaEKw2PBU0_W3-_m0"
      ]
    },
    {
      "cell_type": "markdown",
      "metadata": {
        "id": "eud6GZKELiKO"
      },
      "source": [
        "\n",
        "คำอธิบายตาราง\n",
        "\n",
        "no. คือ ลำดับ\n",
        "\n",
        "quarter คือ ไตรมาส (4 ไตรมาส)\n",
        "\n",
        "Thailand Internet Users_subscriber คือ ประเภท\n",
        "year คือ ปี\n",
        "\n",
        "value_subscriber คือ จำนวนผู้ลงทะเบียนใช้บริการอินเทอร์เน็ตความเร็วสูง\n"
      ]
    },
    {
      "cell_type": "code",
      "metadata": {
        "colab": {
          "base_uri": "https://localhost:8080/",
          "height": 417
        },
        "id": "NwyxrFdh_wuW",
        "outputId": "1f9c147a-4454-40c2-f673-f78536c0f3c6"
      },
      "source": [
        "data_subscriber = pd.read_csv(os.path.join(path,'10broadband-subscribers.csv'))  #จำนวนผู้ลงทะเบียนใช้บริการอินเทอร์เน็ตความเร็วสูงเก็บไว้ในตัวแปร data_subscriber\n",
        "data_subscriber"
      ],
      "execution_count": 4,
      "outputs": [
        {
          "output_type": "execute_result",
          "data": {
            "text/html": [
              "<div>\n",
              "<style scoped>\n",
              "    .dataframe tbody tr th:only-of-type {\n",
              "        vertical-align: middle;\n",
              "    }\n",
              "\n",
              "    .dataframe tbody tr th {\n",
              "        vertical-align: top;\n",
              "    }\n",
              "\n",
              "    .dataframe thead th {\n",
              "        text-align: right;\n",
              "    }\n",
              "</style>\n",
              "<table border=\"1\" class=\"dataframe\">\n",
              "  <thead>\n",
              "    <tr style=\"text-align: right;\">\n",
              "      <th></th>\n",
              "      <th>no.</th>\n",
              "      <th>quarter</th>\n",
              "      <th>Thailand Internet Users_subscriber</th>\n",
              "      <th>year</th>\n",
              "      <th>value_subscriber</th>\n",
              "    </tr>\n",
              "  </thead>\n",
              "  <tbody>\n",
              "    <tr>\n",
              "      <th>0</th>\n",
              "      <td>4</td>\n",
              "      <td>4</td>\n",
              "      <td>Total Internet subscribers</td>\n",
              "      <td>2003</td>\n",
              "      <td>652726.00</td>\n",
              "    </tr>\n",
              "    <tr>\n",
              "      <th>1</th>\n",
              "      <td>3</td>\n",
              "      <td>3</td>\n",
              "      <td>Total Internet subscribers</td>\n",
              "      <td>2003</td>\n",
              "      <td>529530.00</td>\n",
              "    </tr>\n",
              "    <tr>\n",
              "      <th>2</th>\n",
              "      <td>2</td>\n",
              "      <td>2</td>\n",
              "      <td>Total Internet subscribers</td>\n",
              "      <td>2003</td>\n",
              "      <td>453043.00</td>\n",
              "    </tr>\n",
              "    <tr>\n",
              "      <th>3</th>\n",
              "      <td>1</td>\n",
              "      <td>1</td>\n",
              "      <td>Total Internet subscribers</td>\n",
              "      <td>2003</td>\n",
              "      <td>365219.00</td>\n",
              "    </tr>\n",
              "    <tr>\n",
              "      <th>4</th>\n",
              "      <td>8</td>\n",
              "      <td>4</td>\n",
              "      <td>Total Internet subscribers</td>\n",
              "      <td>2004</td>\n",
              "      <td>1231344.00</td>\n",
              "    </tr>\n",
              "    <tr>\n",
              "      <th>...</th>\n",
              "      <td>...</td>\n",
              "      <td>...</td>\n",
              "      <td>...</td>\n",
              "      <td>...</td>\n",
              "      <td>...</td>\n",
              "    </tr>\n",
              "    <tr>\n",
              "      <th>68</th>\n",
              "      <td>72</td>\n",
              "      <td>4</td>\n",
              "      <td>Total Internet subscribers</td>\n",
              "      <td>2020</td>\n",
              "      <td>11478264.92</td>\n",
              "    </tr>\n",
              "    <tr>\n",
              "      <th>69</th>\n",
              "      <td>71</td>\n",
              "      <td>3</td>\n",
              "      <td>Total Internet subscribers</td>\n",
              "      <td>2020</td>\n",
              "      <td>11282645.58</td>\n",
              "    </tr>\n",
              "    <tr>\n",
              "      <th>70</th>\n",
              "      <td>70</td>\n",
              "      <td>2</td>\n",
              "      <td>Total Internet subscribers</td>\n",
              "      <td>2020</td>\n",
              "      <td>10912996.14</td>\n",
              "    </tr>\n",
              "    <tr>\n",
              "      <th>71</th>\n",
              "      <td>69</td>\n",
              "      <td>1</td>\n",
              "      <td>Total Internet subscribers</td>\n",
              "      <td>2020</td>\n",
              "      <td>10264995.67</td>\n",
              "    </tr>\n",
              "    <tr>\n",
              "      <th>72</th>\n",
              "      <td>73</td>\n",
              "      <td>1</td>\n",
              "      <td>Total Internet subscribers</td>\n",
              "      <td>2021</td>\n",
              "      <td>11876158.44</td>\n",
              "    </tr>\n",
              "  </tbody>\n",
              "</table>\n",
              "<p>73 rows × 5 columns</p>\n",
              "</div>"
            ],
            "text/plain": [
              "    no.  quarter Thailand Internet Users_subscriber  year  value_subscriber\n",
              "0     4        4         Total Internet subscribers  2003         652726.00\n",
              "1     3        3         Total Internet subscribers  2003         529530.00\n",
              "2     2        2         Total Internet subscribers  2003         453043.00\n",
              "3     1        1         Total Internet subscribers  2003         365219.00\n",
              "4     8        4         Total Internet subscribers  2004        1231344.00\n",
              "..  ...      ...                                ...   ...               ...\n",
              "68   72        4         Total Internet subscribers  2020       11478264.92\n",
              "69   71        3         Total Internet subscribers  2020       11282645.58\n",
              "70   70        2         Total Internet subscribers  2020       10912996.14\n",
              "71   69        1         Total Internet subscribers  2020       10264995.67\n",
              "72   73        1         Total Internet subscribers  2021       11876158.44\n",
              "\n",
              "[73 rows x 5 columns]"
            ]
          },
          "metadata": {},
          "execution_count": 4
        }
      ]
    },
    {
      "cell_type": "code",
      "metadata": {
        "id": "U8N8w-Myn1Cy",
        "colab": {
          "base_uri": "https://localhost:8080/",
          "height": 417
        },
        "outputId": "9fdd9374-4d7d-405e-8f8c-166037565ba9"
      },
      "source": [
        "data_subscriber2 = data_subscriber.sort_values(by=['no.'])   #เรียงข้อมูลโดยใช้ No. เก็บในตัวแปร data_subscriber2\n",
        "data_subscriber2"
      ],
      "execution_count": 5,
      "outputs": [
        {
          "output_type": "execute_result",
          "data": {
            "text/html": [
              "<div>\n",
              "<style scoped>\n",
              "    .dataframe tbody tr th:only-of-type {\n",
              "        vertical-align: middle;\n",
              "    }\n",
              "\n",
              "    .dataframe tbody tr th {\n",
              "        vertical-align: top;\n",
              "    }\n",
              "\n",
              "    .dataframe thead th {\n",
              "        text-align: right;\n",
              "    }\n",
              "</style>\n",
              "<table border=\"1\" class=\"dataframe\">\n",
              "  <thead>\n",
              "    <tr style=\"text-align: right;\">\n",
              "      <th></th>\n",
              "      <th>no.</th>\n",
              "      <th>quarter</th>\n",
              "      <th>Thailand Internet Users_subscriber</th>\n",
              "      <th>year</th>\n",
              "      <th>value_subscriber</th>\n",
              "    </tr>\n",
              "  </thead>\n",
              "  <tbody>\n",
              "    <tr>\n",
              "      <th>3</th>\n",
              "      <td>1</td>\n",
              "      <td>1</td>\n",
              "      <td>Total Internet subscribers</td>\n",
              "      <td>2003</td>\n",
              "      <td>365219.00</td>\n",
              "    </tr>\n",
              "    <tr>\n",
              "      <th>2</th>\n",
              "      <td>2</td>\n",
              "      <td>2</td>\n",
              "      <td>Total Internet subscribers</td>\n",
              "      <td>2003</td>\n",
              "      <td>453043.00</td>\n",
              "    </tr>\n",
              "    <tr>\n",
              "      <th>1</th>\n",
              "      <td>3</td>\n",
              "      <td>3</td>\n",
              "      <td>Total Internet subscribers</td>\n",
              "      <td>2003</td>\n",
              "      <td>529530.00</td>\n",
              "    </tr>\n",
              "    <tr>\n",
              "      <th>0</th>\n",
              "      <td>4</td>\n",
              "      <td>4</td>\n",
              "      <td>Total Internet subscribers</td>\n",
              "      <td>2003</td>\n",
              "      <td>652726.00</td>\n",
              "    </tr>\n",
              "    <tr>\n",
              "      <th>7</th>\n",
              "      <td>5</td>\n",
              "      <td>1</td>\n",
              "      <td>Total Internet subscribers</td>\n",
              "      <td>2004</td>\n",
              "      <td>785931.00</td>\n",
              "    </tr>\n",
              "    <tr>\n",
              "      <th>...</th>\n",
              "      <td>...</td>\n",
              "      <td>...</td>\n",
              "      <td>...</td>\n",
              "      <td>...</td>\n",
              "      <td>...</td>\n",
              "    </tr>\n",
              "    <tr>\n",
              "      <th>71</th>\n",
              "      <td>69</td>\n",
              "      <td>1</td>\n",
              "      <td>Total Internet subscribers</td>\n",
              "      <td>2020</td>\n",
              "      <td>10264995.67</td>\n",
              "    </tr>\n",
              "    <tr>\n",
              "      <th>70</th>\n",
              "      <td>70</td>\n",
              "      <td>2</td>\n",
              "      <td>Total Internet subscribers</td>\n",
              "      <td>2020</td>\n",
              "      <td>10912996.14</td>\n",
              "    </tr>\n",
              "    <tr>\n",
              "      <th>69</th>\n",
              "      <td>71</td>\n",
              "      <td>3</td>\n",
              "      <td>Total Internet subscribers</td>\n",
              "      <td>2020</td>\n",
              "      <td>11282645.58</td>\n",
              "    </tr>\n",
              "    <tr>\n",
              "      <th>68</th>\n",
              "      <td>72</td>\n",
              "      <td>4</td>\n",
              "      <td>Total Internet subscribers</td>\n",
              "      <td>2020</td>\n",
              "      <td>11478264.92</td>\n",
              "    </tr>\n",
              "    <tr>\n",
              "      <th>72</th>\n",
              "      <td>73</td>\n",
              "      <td>1</td>\n",
              "      <td>Total Internet subscribers</td>\n",
              "      <td>2021</td>\n",
              "      <td>11876158.44</td>\n",
              "    </tr>\n",
              "  </tbody>\n",
              "</table>\n",
              "<p>73 rows × 5 columns</p>\n",
              "</div>"
            ],
            "text/plain": [
              "    no.  quarter Thailand Internet Users_subscriber  year  value_subscriber\n",
              "3     1        1         Total Internet subscribers  2003         365219.00\n",
              "2     2        2         Total Internet subscribers  2003         453043.00\n",
              "1     3        3         Total Internet subscribers  2003         529530.00\n",
              "0     4        4         Total Internet subscribers  2003         652726.00\n",
              "7     5        1         Total Internet subscribers  2004         785931.00\n",
              "..  ...      ...                                ...   ...               ...\n",
              "71   69        1         Total Internet subscribers  2020       10264995.67\n",
              "70   70        2         Total Internet subscribers  2020       10912996.14\n",
              "69   71        3         Total Internet subscribers  2020       11282645.58\n",
              "68   72        4         Total Internet subscribers  2020       11478264.92\n",
              "72   73        1         Total Internet subscribers  2021       11876158.44\n",
              "\n",
              "[73 rows x 5 columns]"
            ]
          },
          "metadata": {},
          "execution_count": 5
        }
      ]
    },
    {
      "cell_type": "markdown",
      "metadata": {
        "id": "cQLMTtP29E_f"
      },
      "source": [
        "#ข้อมูลชุดที่ 2 อัตราการเข้าถึงของบริการอินเทอร์เน็ตความเร็วสูงต่อจำนวนครัวเรือน\n",
        "https://data.go.th/dataset/broadband-penetration-per-household?fbclid=IwAR0tNweDa7pmiAaygo0Z88iFFIYLtQRFjujfaIyEpUub_bFVQEkcCbXAZJc"
      ]
    },
    {
      "cell_type": "markdown",
      "metadata": {
        "id": "zu4fQyydLw5Y"
      },
      "source": [
        "คำอธิบายตาราง\n",
        "\n",
        "no. คือ ลำดับ\n",
        "\n",
        "type_household คือ ประเภท\n",
        "\n",
        "quarter คือ ไตรมาส (4 ไตรมาส)\n",
        "\n",
        "year คือ ปี\n",
        "\n",
        "value_household คือ อัตราการเข้าถึงของบริการอินเทอร์เน็ตความเร็วสูงต่อจำนวนครัวเรือน"
      ]
    },
    {
      "cell_type": "code",
      "metadata": {
        "id": "0BRzfc4N7k4T",
        "colab": {
          "base_uri": "https://localhost:8080/",
          "height": 417
        },
        "outputId": "3c21b0d5-492c-4eb2-8b81-a73f0c784eae"
      },
      "source": [
        "data_household = pd.read_csv(os.path.join(path,'12broadband-penetration-per-household-.csv'))  #อัตราการเข้าถึงของบริการอินเทอร์เน็ตความเร็วสูงต่อจำนวนครัวเรือนเก็บไว้ในตัวแปร data_household\n",
        "data_household"
      ],
      "execution_count": 6,
      "outputs": [
        {
          "output_type": "execute_result",
          "data": {
            "text/html": [
              "<div>\n",
              "<style scoped>\n",
              "    .dataframe tbody tr th:only-of-type {\n",
              "        vertical-align: middle;\n",
              "    }\n",
              "\n",
              "    .dataframe tbody tr th {\n",
              "        vertical-align: top;\n",
              "    }\n",
              "\n",
              "    .dataframe thead th {\n",
              "        text-align: right;\n",
              "    }\n",
              "</style>\n",
              "<table border=\"1\" class=\"dataframe\">\n",
              "  <thead>\n",
              "    <tr style=\"text-align: right;\">\n",
              "      <th></th>\n",
              "      <th>no.</th>\n",
              "      <th>type_household</th>\n",
              "      <th>quarter</th>\n",
              "      <th>year</th>\n",
              "      <th>value_household</th>\n",
              "    </tr>\n",
              "  </thead>\n",
              "  <tbody>\n",
              "    <tr>\n",
              "      <th>0</th>\n",
              "      <td>4</td>\n",
              "      <td>per household (%)</td>\n",
              "      <td>4</td>\n",
              "      <td>2003</td>\n",
              "      <td>0.000649</td>\n",
              "    </tr>\n",
              "    <tr>\n",
              "      <th>1</th>\n",
              "      <td>3</td>\n",
              "      <td>per household (%)</td>\n",
              "      <td>3</td>\n",
              "      <td>2003</td>\n",
              "      <td>0.000459</td>\n",
              "    </tr>\n",
              "    <tr>\n",
              "      <th>2</th>\n",
              "      <td>2</td>\n",
              "      <td>per household (%)</td>\n",
              "      <td>2</td>\n",
              "      <td>2003</td>\n",
              "      <td>0.000343</td>\n",
              "    </tr>\n",
              "    <tr>\n",
              "      <th>3</th>\n",
              "      <td>1</td>\n",
              "      <td>per household (%)</td>\n",
              "      <td>1</td>\n",
              "      <td>2003</td>\n",
              "      <td>0.000281</td>\n",
              "    </tr>\n",
              "    <tr>\n",
              "      <th>4</th>\n",
              "      <td>8</td>\n",
              "      <td>per household (%)</td>\n",
              "      <td>4</td>\n",
              "      <td>2004</td>\n",
              "      <td>0.008716</td>\n",
              "    </tr>\n",
              "    <tr>\n",
              "      <th>...</th>\n",
              "      <td>...</td>\n",
              "      <td>...</td>\n",
              "      <td>...</td>\n",
              "      <td>...</td>\n",
              "      <td>...</td>\n",
              "    </tr>\n",
              "    <tr>\n",
              "      <th>68</th>\n",
              "      <td>72</td>\n",
              "      <td>per household (%)</td>\n",
              "      <td>4</td>\n",
              "      <td>2020</td>\n",
              "      <td>0.514683</td>\n",
              "    </tr>\n",
              "    <tr>\n",
              "      <th>69</th>\n",
              "      <td>71</td>\n",
              "      <td>per household (%)</td>\n",
              "      <td>3</td>\n",
              "      <td>2020</td>\n",
              "      <td>0.515873</td>\n",
              "    </tr>\n",
              "    <tr>\n",
              "      <th>70</th>\n",
              "      <td>70</td>\n",
              "      <td>per household (%)</td>\n",
              "      <td>2</td>\n",
              "      <td>2020</td>\n",
              "      <td>0.498972</td>\n",
              "    </tr>\n",
              "    <tr>\n",
              "      <th>71</th>\n",
              "      <td>69</td>\n",
              "      <td>per household (%)</td>\n",
              "      <td>1</td>\n",
              "      <td>2020</td>\n",
              "      <td>0.469344</td>\n",
              "    </tr>\n",
              "    <tr>\n",
              "      <th>72</th>\n",
              "      <td>73</td>\n",
              "      <td>per household (%)</td>\n",
              "      <td>1</td>\n",
              "      <td>2021</td>\n",
              "      <td>0.532524</td>\n",
              "    </tr>\n",
              "  </tbody>\n",
              "</table>\n",
              "<p>73 rows × 5 columns</p>\n",
              "</div>"
            ],
            "text/plain": [
              "    no.     type_household  quarter  year  value_household\n",
              "0     4  per household (%)        4  2003         0.000649\n",
              "1     3  per household (%)        3  2003         0.000459\n",
              "2     2  per household (%)        2  2003         0.000343\n",
              "3     1  per household (%)        1  2003         0.000281\n",
              "4     8  per household (%)        4  2004         0.008716\n",
              "..  ...                ...      ...   ...              ...\n",
              "68   72  per household (%)        4  2020         0.514683\n",
              "69   71  per household (%)        3  2020         0.515873\n",
              "70   70  per household (%)        2  2020         0.498972\n",
              "71   69  per household (%)        1  2020         0.469344\n",
              "72   73  per household (%)        1  2021         0.532524\n",
              "\n",
              "[73 rows x 5 columns]"
            ]
          },
          "metadata": {},
          "execution_count": 6
        }
      ]
    },
    {
      "cell_type": "code",
      "metadata": {
        "id": "cWDmKUt_78eL",
        "colab": {
          "base_uri": "https://localhost:8080/",
          "height": 417
        },
        "outputId": "efa7e48f-cae8-4efd-cbc5-9177692692fd"
      },
      "source": [
        "data_household2 = data_household.sort_values(by=['no.'])  #เรียงข้อมูลโดยใช้ No. เก็บในตัวแปร data_household2\n",
        "data_household2"
      ],
      "execution_count": 7,
      "outputs": [
        {
          "output_type": "execute_result",
          "data": {
            "text/html": [
              "<div>\n",
              "<style scoped>\n",
              "    .dataframe tbody tr th:only-of-type {\n",
              "        vertical-align: middle;\n",
              "    }\n",
              "\n",
              "    .dataframe tbody tr th {\n",
              "        vertical-align: top;\n",
              "    }\n",
              "\n",
              "    .dataframe thead th {\n",
              "        text-align: right;\n",
              "    }\n",
              "</style>\n",
              "<table border=\"1\" class=\"dataframe\">\n",
              "  <thead>\n",
              "    <tr style=\"text-align: right;\">\n",
              "      <th></th>\n",
              "      <th>no.</th>\n",
              "      <th>type_household</th>\n",
              "      <th>quarter</th>\n",
              "      <th>year</th>\n",
              "      <th>value_household</th>\n",
              "    </tr>\n",
              "  </thead>\n",
              "  <tbody>\n",
              "    <tr>\n",
              "      <th>3</th>\n",
              "      <td>1</td>\n",
              "      <td>per household (%)</td>\n",
              "      <td>1</td>\n",
              "      <td>2003</td>\n",
              "      <td>0.000281</td>\n",
              "    </tr>\n",
              "    <tr>\n",
              "      <th>2</th>\n",
              "      <td>2</td>\n",
              "      <td>per household (%)</td>\n",
              "      <td>2</td>\n",
              "      <td>2003</td>\n",
              "      <td>0.000343</td>\n",
              "    </tr>\n",
              "    <tr>\n",
              "      <th>1</th>\n",
              "      <td>3</td>\n",
              "      <td>per household (%)</td>\n",
              "      <td>3</td>\n",
              "      <td>2003</td>\n",
              "      <td>0.000459</td>\n",
              "    </tr>\n",
              "    <tr>\n",
              "      <th>0</th>\n",
              "      <td>4</td>\n",
              "      <td>per household (%)</td>\n",
              "      <td>4</td>\n",
              "      <td>2003</td>\n",
              "      <td>0.000649</td>\n",
              "    </tr>\n",
              "    <tr>\n",
              "      <th>7</th>\n",
              "      <td>5</td>\n",
              "      <td>per household (%)</td>\n",
              "      <td>1</td>\n",
              "      <td>2004</td>\n",
              "      <td>0.001556</td>\n",
              "    </tr>\n",
              "    <tr>\n",
              "      <th>...</th>\n",
              "      <td>...</td>\n",
              "      <td>...</td>\n",
              "      <td>...</td>\n",
              "      <td>...</td>\n",
              "      <td>...</td>\n",
              "    </tr>\n",
              "    <tr>\n",
              "      <th>71</th>\n",
              "      <td>69</td>\n",
              "      <td>per household (%)</td>\n",
              "      <td>1</td>\n",
              "      <td>2020</td>\n",
              "      <td>0.469344</td>\n",
              "    </tr>\n",
              "    <tr>\n",
              "      <th>70</th>\n",
              "      <td>70</td>\n",
              "      <td>per household (%)</td>\n",
              "      <td>2</td>\n",
              "      <td>2020</td>\n",
              "      <td>0.498972</td>\n",
              "    </tr>\n",
              "    <tr>\n",
              "      <th>69</th>\n",
              "      <td>71</td>\n",
              "      <td>per household (%)</td>\n",
              "      <td>3</td>\n",
              "      <td>2020</td>\n",
              "      <td>0.515873</td>\n",
              "    </tr>\n",
              "    <tr>\n",
              "      <th>68</th>\n",
              "      <td>72</td>\n",
              "      <td>per household (%)</td>\n",
              "      <td>4</td>\n",
              "      <td>2020</td>\n",
              "      <td>0.514683</td>\n",
              "    </tr>\n",
              "    <tr>\n",
              "      <th>72</th>\n",
              "      <td>73</td>\n",
              "      <td>per household (%)</td>\n",
              "      <td>1</td>\n",
              "      <td>2021</td>\n",
              "      <td>0.532524</td>\n",
              "    </tr>\n",
              "  </tbody>\n",
              "</table>\n",
              "<p>73 rows × 5 columns</p>\n",
              "</div>"
            ],
            "text/plain": [
              "    no.     type_household  quarter  year  value_household\n",
              "3     1  per household (%)        1  2003         0.000281\n",
              "2     2  per household (%)        2  2003         0.000343\n",
              "1     3  per household (%)        3  2003         0.000459\n",
              "0     4  per household (%)        4  2003         0.000649\n",
              "7     5  per household (%)        1  2004         0.001556\n",
              "..  ...                ...      ...   ...              ...\n",
              "71   69  per household (%)        1  2020         0.469344\n",
              "70   70  per household (%)        2  2020         0.498972\n",
              "69   71  per household (%)        3  2020         0.515873\n",
              "68   72  per household (%)        4  2020         0.514683\n",
              "72   73  per household (%)        1  2021         0.532524\n",
              "\n",
              "[73 rows x 5 columns]"
            ]
          },
          "metadata": {},
          "execution_count": 7
        }
      ]
    },
    {
      "cell_type": "markdown",
      "metadata": {
        "id": "5wqCXoxS9a5v"
      },
      "source": [
        "#ข้อมูลชุดที่ 3 อัตราการเข้าถึงของบริการอินเทอร์เน็ตความเร็วสูงต่อจำนวนประชากร\n",
        "\n",
        "https://data.go.th/dataset/broadband-penetration-per-population?fbclid=IwAR0D5Z4yxZOXJYPM9hgBJpAVbuWBkxwNzEdW_jWwlvvkCKQxaGERqrxffFs"
      ]
    },
    {
      "cell_type": "markdown",
      "metadata": {
        "id": "2x9wDEDpL0oE"
      },
      "source": [
        "\n",
        "คำอธิบายตาราง\n",
        "\n",
        "no. คือ ลำดับ\n",
        "\n",
        "type_population คือ ประเภท\n",
        "\n",
        "quarter คือ ไตรมาส (4 ไตรมาส)\n",
        "\n",
        "year คือ ปี\n",
        "\n",
        "value_population คือ อัตราการเข้าถึงของบริการอินเทอร์เน็ตความเร็วสูงต่อจำนวนประชากร"
      ]
    },
    {
      "cell_type": "code",
      "metadata": {
        "colab": {
          "base_uri": "https://localhost:8080/",
          "height": 417
        },
        "id": "ocbi-LTh_120",
        "outputId": "4cf70358-50c6-4014-8c76-6bb908e0885d"
      },
      "source": [
        "data_population = pd.read_csv(os.path.join(path,'11broadband-penetration-per-population-.csv'))  #อัตราการเข้าถึงของบริการอินเทอร์เน็ตความเร็วสูงต่อจำนวนประชากร ชื่อ data_population\n",
        "data_population"
      ],
      "execution_count": 8,
      "outputs": [
        {
          "output_type": "execute_result",
          "data": {
            "text/html": [
              "<div>\n",
              "<style scoped>\n",
              "    .dataframe tbody tr th:only-of-type {\n",
              "        vertical-align: middle;\n",
              "    }\n",
              "\n",
              "    .dataframe tbody tr th {\n",
              "        vertical-align: top;\n",
              "    }\n",
              "\n",
              "    .dataframe thead th {\n",
              "        text-align: right;\n",
              "    }\n",
              "</style>\n",
              "<table border=\"1\" class=\"dataframe\">\n",
              "  <thead>\n",
              "    <tr style=\"text-align: right;\">\n",
              "      <th></th>\n",
              "      <th>no.</th>\n",
              "      <th>type_population</th>\n",
              "      <th>quarter</th>\n",
              "      <th>year</th>\n",
              "      <th>value_population</th>\n",
              "    </tr>\n",
              "  </thead>\n",
              "  <tbody>\n",
              "    <tr>\n",
              "      <th>0</th>\n",
              "      <td>1</td>\n",
              "      <td>per population (%)</td>\n",
              "      <td>1</td>\n",
              "      <td>2003</td>\n",
              "      <td>0.0001</td>\n",
              "    </tr>\n",
              "    <tr>\n",
              "      <th>1</th>\n",
              "      <td>2</td>\n",
              "      <td>per population (%)</td>\n",
              "      <td>2</td>\n",
              "      <td>2003</td>\n",
              "      <td>0.0001</td>\n",
              "    </tr>\n",
              "    <tr>\n",
              "      <th>2</th>\n",
              "      <td>3</td>\n",
              "      <td>per population (%)</td>\n",
              "      <td>3</td>\n",
              "      <td>2003</td>\n",
              "      <td>0.0001</td>\n",
              "    </tr>\n",
              "    <tr>\n",
              "      <th>3</th>\n",
              "      <td>4</td>\n",
              "      <td>per population (%)</td>\n",
              "      <td>4</td>\n",
              "      <td>2003</td>\n",
              "      <td>0.0002</td>\n",
              "    </tr>\n",
              "    <tr>\n",
              "      <th>4</th>\n",
              "      <td>5</td>\n",
              "      <td>per population (%)</td>\n",
              "      <td>1</td>\n",
              "      <td>2004</td>\n",
              "      <td>0.0005</td>\n",
              "    </tr>\n",
              "    <tr>\n",
              "      <th>...</th>\n",
              "      <td>...</td>\n",
              "      <td>...</td>\n",
              "      <td>...</td>\n",
              "      <td>...</td>\n",
              "      <td>...</td>\n",
              "    </tr>\n",
              "    <tr>\n",
              "      <th>68</th>\n",
              "      <td>69</td>\n",
              "      <td>per population (%)</td>\n",
              "      <td>1</td>\n",
              "      <td>2020</td>\n",
              "      <td>0.1510</td>\n",
              "    </tr>\n",
              "    <tr>\n",
              "      <th>69</th>\n",
              "      <td>70</td>\n",
              "      <td>per population (%)</td>\n",
              "      <td>2</td>\n",
              "      <td>2020</td>\n",
              "      <td>0.1605</td>\n",
              "    </tr>\n",
              "    <tr>\n",
              "      <th>70</th>\n",
              "      <td>71</td>\n",
              "      <td>per population (%)</td>\n",
              "      <td>3</td>\n",
              "      <td>2020</td>\n",
              "      <td>0.1659</td>\n",
              "    </tr>\n",
              "    <tr>\n",
              "      <th>71</th>\n",
              "      <td>72</td>\n",
              "      <td>per population (%)</td>\n",
              "      <td>4</td>\n",
              "      <td>2020</td>\n",
              "      <td>0.1685</td>\n",
              "    </tr>\n",
              "    <tr>\n",
              "      <th>72</th>\n",
              "      <td>73</td>\n",
              "      <td>per population (%)</td>\n",
              "      <td>1</td>\n",
              "      <td>2021</td>\n",
              "      <td>0.1740</td>\n",
              "    </tr>\n",
              "  </tbody>\n",
              "</table>\n",
              "<p>73 rows × 5 columns</p>\n",
              "</div>"
            ],
            "text/plain": [
              "    no.     type_population  quarter  year  value_population\n",
              "0     1  per population (%)        1  2003            0.0001\n",
              "1     2  per population (%)        2  2003            0.0001\n",
              "2     3  per population (%)        3  2003            0.0001\n",
              "3     4  per population (%)        4  2003            0.0002\n",
              "4     5  per population (%)        1  2004            0.0005\n",
              "..  ...                 ...      ...   ...               ...\n",
              "68   69  per population (%)        1  2020            0.1510\n",
              "69   70  per population (%)        2  2020            0.1605\n",
              "70   71  per population (%)        3  2020            0.1659\n",
              "71   72  per population (%)        4  2020            0.1685\n",
              "72   73  per population (%)        1  2021            0.1740\n",
              "\n",
              "[73 rows x 5 columns]"
            ]
          },
          "metadata": {},
          "execution_count": 8
        }
      ]
    },
    {
      "cell_type": "markdown",
      "metadata": {
        "id": "z_JqjfZEAD_z"
      },
      "source": [
        "###เชค Missing"
      ]
    },
    {
      "cell_type": "code",
      "metadata": {
        "colab": {
          "base_uri": "https://localhost:8080/"
        },
        "id": "IQ8lQiEnAN_T",
        "outputId": "2e0f6ef7-1b18-4d7d-9724-ee9d8c92a843"
      },
      "source": [
        "data_household2.isnull().any()  #check missing ตาราง data_household2 ขึ้น False คือไม่มี Missing "
      ],
      "execution_count": 9,
      "outputs": [
        {
          "output_type": "execute_result",
          "data": {
            "text/plain": [
              "no.                False\n",
              "type_household     False\n",
              "quarter            False\n",
              "year               False\n",
              "value_household    False\n",
              "dtype: bool"
            ]
          },
          "metadata": {},
          "execution_count": 9
        }
      ]
    },
    {
      "cell_type": "code",
      "metadata": {
        "id": "ZdMicM3osFA6",
        "colab": {
          "base_uri": "https://localhost:8080/"
        },
        "outputId": "e2b76e1f-8867-4faa-e715-c7e7030585d4"
      },
      "source": [
        "data_subscriber2.isnull().any()  #check missing ตาราง data_subscriber2"
      ],
      "execution_count": 10,
      "outputs": [
        {
          "output_type": "execute_result",
          "data": {
            "text/plain": [
              "no.                                   False\n",
              "quarter                               False\n",
              "Thailand Internet Users_subscriber    False\n",
              "year                                  False\n",
              "value_subscriber                      False\n",
              "dtype: bool"
            ]
          },
          "metadata": {},
          "execution_count": 10
        }
      ]
    },
    {
      "cell_type": "code",
      "metadata": {
        "colab": {
          "base_uri": "https://localhost:8080/"
        },
        "id": "5l25X0whAUWD",
        "outputId": "9ae6985c-d58e-4296-a9d3-c7903a5bedb5"
      },
      "source": [
        "data_population.isnull().any()  #check missing ตาราง data_population"
      ],
      "execution_count": 11,
      "outputs": [
        {
          "output_type": "execute_result",
          "data": {
            "text/plain": [
              "no.                 False\n",
              "type_population     False\n",
              "quarter             False\n",
              "year                False\n",
              "value_population    False\n",
              "dtype: bool"
            ]
          },
          "metadata": {},
          "execution_count": 11
        }
      ]
    },
    {
      "cell_type": "markdown",
      "metadata": {
        "id": "bv2ZIHbSEXmE"
      },
      "source": [
        "####ต่อตาราง"
      ]
    },
    {
      "cell_type": "code",
      "metadata": {
        "id": "FxBgY6YH269r",
        "colab": {
          "base_uri": "https://localhost:8080/",
          "height": 417
        },
        "outputId": "14f08d40-9461-4414-cbe7-e0c393475f6a"
      },
      "source": [
        "data_population.drop(['quarter','year'], axis=1, inplace=True)  #drop colunm ไตรมาสกับปีออกเพราะชุดข้อมูลที่จะเชื่อมมีเหมือนกัน\n",
        "data_population"
      ],
      "execution_count": 12,
      "outputs": [
        {
          "output_type": "execute_result",
          "data": {
            "text/html": [
              "<div>\n",
              "<style scoped>\n",
              "    .dataframe tbody tr th:only-of-type {\n",
              "        vertical-align: middle;\n",
              "    }\n",
              "\n",
              "    .dataframe tbody tr th {\n",
              "        vertical-align: top;\n",
              "    }\n",
              "\n",
              "    .dataframe thead th {\n",
              "        text-align: right;\n",
              "    }\n",
              "</style>\n",
              "<table border=\"1\" class=\"dataframe\">\n",
              "  <thead>\n",
              "    <tr style=\"text-align: right;\">\n",
              "      <th></th>\n",
              "      <th>no.</th>\n",
              "      <th>type_population</th>\n",
              "      <th>value_population</th>\n",
              "    </tr>\n",
              "  </thead>\n",
              "  <tbody>\n",
              "    <tr>\n",
              "      <th>0</th>\n",
              "      <td>1</td>\n",
              "      <td>per population (%)</td>\n",
              "      <td>0.0001</td>\n",
              "    </tr>\n",
              "    <tr>\n",
              "      <th>1</th>\n",
              "      <td>2</td>\n",
              "      <td>per population (%)</td>\n",
              "      <td>0.0001</td>\n",
              "    </tr>\n",
              "    <tr>\n",
              "      <th>2</th>\n",
              "      <td>3</td>\n",
              "      <td>per population (%)</td>\n",
              "      <td>0.0001</td>\n",
              "    </tr>\n",
              "    <tr>\n",
              "      <th>3</th>\n",
              "      <td>4</td>\n",
              "      <td>per population (%)</td>\n",
              "      <td>0.0002</td>\n",
              "    </tr>\n",
              "    <tr>\n",
              "      <th>4</th>\n",
              "      <td>5</td>\n",
              "      <td>per population (%)</td>\n",
              "      <td>0.0005</td>\n",
              "    </tr>\n",
              "    <tr>\n",
              "      <th>...</th>\n",
              "      <td>...</td>\n",
              "      <td>...</td>\n",
              "      <td>...</td>\n",
              "    </tr>\n",
              "    <tr>\n",
              "      <th>68</th>\n",
              "      <td>69</td>\n",
              "      <td>per population (%)</td>\n",
              "      <td>0.1510</td>\n",
              "    </tr>\n",
              "    <tr>\n",
              "      <th>69</th>\n",
              "      <td>70</td>\n",
              "      <td>per population (%)</td>\n",
              "      <td>0.1605</td>\n",
              "    </tr>\n",
              "    <tr>\n",
              "      <th>70</th>\n",
              "      <td>71</td>\n",
              "      <td>per population (%)</td>\n",
              "      <td>0.1659</td>\n",
              "    </tr>\n",
              "    <tr>\n",
              "      <th>71</th>\n",
              "      <td>72</td>\n",
              "      <td>per population (%)</td>\n",
              "      <td>0.1685</td>\n",
              "    </tr>\n",
              "    <tr>\n",
              "      <th>72</th>\n",
              "      <td>73</td>\n",
              "      <td>per population (%)</td>\n",
              "      <td>0.1740</td>\n",
              "    </tr>\n",
              "  </tbody>\n",
              "</table>\n",
              "<p>73 rows × 3 columns</p>\n",
              "</div>"
            ],
            "text/plain": [
              "    no.     type_population  value_population\n",
              "0     1  per population (%)            0.0001\n",
              "1     2  per population (%)            0.0001\n",
              "2     3  per population (%)            0.0001\n",
              "3     4  per population (%)            0.0002\n",
              "4     5  per population (%)            0.0005\n",
              "..  ...                 ...               ...\n",
              "68   69  per population (%)            0.1510\n",
              "69   70  per population (%)            0.1605\n",
              "70   71  per population (%)            0.1659\n",
              "71   72  per population (%)            0.1685\n",
              "72   73  per population (%)            0.1740\n",
              "\n",
              "[73 rows x 3 columns]"
            ]
          },
          "metadata": {},
          "execution_count": 12
        }
      ]
    },
    {
      "cell_type": "code",
      "metadata": {
        "id": "cZaLbOpty0bL",
        "colab": {
          "base_uri": "https://localhost:8080/",
          "height": 417
        },
        "outputId": "58dd1fd1-0644-40c3-cad6-e76adba1a42f"
      },
      "source": [
        "merge_table = data_subscriber2.merge(data_population,how='left', left_on='no.',right_on='no.')  # เชื่อมตาราง data_subscriber2 กับ data_population  โดยให้ตาราง data_subscriber2 เป็นตารางหลักอยู่ที่ด้านซ้าย\n",
        "merge_table"
      ],
      "execution_count": 13,
      "outputs": [
        {
          "output_type": "execute_result",
          "data": {
            "text/html": [
              "<div>\n",
              "<style scoped>\n",
              "    .dataframe tbody tr th:only-of-type {\n",
              "        vertical-align: middle;\n",
              "    }\n",
              "\n",
              "    .dataframe tbody tr th {\n",
              "        vertical-align: top;\n",
              "    }\n",
              "\n",
              "    .dataframe thead th {\n",
              "        text-align: right;\n",
              "    }\n",
              "</style>\n",
              "<table border=\"1\" class=\"dataframe\">\n",
              "  <thead>\n",
              "    <tr style=\"text-align: right;\">\n",
              "      <th></th>\n",
              "      <th>no.</th>\n",
              "      <th>quarter</th>\n",
              "      <th>Thailand Internet Users_subscriber</th>\n",
              "      <th>year</th>\n",
              "      <th>value_subscriber</th>\n",
              "      <th>type_population</th>\n",
              "      <th>value_population</th>\n",
              "    </tr>\n",
              "  </thead>\n",
              "  <tbody>\n",
              "    <tr>\n",
              "      <th>0</th>\n",
              "      <td>1</td>\n",
              "      <td>1</td>\n",
              "      <td>Total Internet subscribers</td>\n",
              "      <td>2003</td>\n",
              "      <td>365219.00</td>\n",
              "      <td>per population (%)</td>\n",
              "      <td>0.0001</td>\n",
              "    </tr>\n",
              "    <tr>\n",
              "      <th>1</th>\n",
              "      <td>2</td>\n",
              "      <td>2</td>\n",
              "      <td>Total Internet subscribers</td>\n",
              "      <td>2003</td>\n",
              "      <td>453043.00</td>\n",
              "      <td>per population (%)</td>\n",
              "      <td>0.0001</td>\n",
              "    </tr>\n",
              "    <tr>\n",
              "      <th>2</th>\n",
              "      <td>3</td>\n",
              "      <td>3</td>\n",
              "      <td>Total Internet subscribers</td>\n",
              "      <td>2003</td>\n",
              "      <td>529530.00</td>\n",
              "      <td>per population (%)</td>\n",
              "      <td>0.0001</td>\n",
              "    </tr>\n",
              "    <tr>\n",
              "      <th>3</th>\n",
              "      <td>4</td>\n",
              "      <td>4</td>\n",
              "      <td>Total Internet subscribers</td>\n",
              "      <td>2003</td>\n",
              "      <td>652726.00</td>\n",
              "      <td>per population (%)</td>\n",
              "      <td>0.0002</td>\n",
              "    </tr>\n",
              "    <tr>\n",
              "      <th>4</th>\n",
              "      <td>5</td>\n",
              "      <td>1</td>\n",
              "      <td>Total Internet subscribers</td>\n",
              "      <td>2004</td>\n",
              "      <td>785931.00</td>\n",
              "      <td>per population (%)</td>\n",
              "      <td>0.0005</td>\n",
              "    </tr>\n",
              "    <tr>\n",
              "      <th>...</th>\n",
              "      <td>...</td>\n",
              "      <td>...</td>\n",
              "      <td>...</td>\n",
              "      <td>...</td>\n",
              "      <td>...</td>\n",
              "      <td>...</td>\n",
              "      <td>...</td>\n",
              "    </tr>\n",
              "    <tr>\n",
              "      <th>68</th>\n",
              "      <td>69</td>\n",
              "      <td>1</td>\n",
              "      <td>Total Internet subscribers</td>\n",
              "      <td>2020</td>\n",
              "      <td>10264995.67</td>\n",
              "      <td>per population (%)</td>\n",
              "      <td>0.1510</td>\n",
              "    </tr>\n",
              "    <tr>\n",
              "      <th>69</th>\n",
              "      <td>70</td>\n",
              "      <td>2</td>\n",
              "      <td>Total Internet subscribers</td>\n",
              "      <td>2020</td>\n",
              "      <td>10912996.14</td>\n",
              "      <td>per population (%)</td>\n",
              "      <td>0.1605</td>\n",
              "    </tr>\n",
              "    <tr>\n",
              "      <th>70</th>\n",
              "      <td>71</td>\n",
              "      <td>3</td>\n",
              "      <td>Total Internet subscribers</td>\n",
              "      <td>2020</td>\n",
              "      <td>11282645.58</td>\n",
              "      <td>per population (%)</td>\n",
              "      <td>0.1659</td>\n",
              "    </tr>\n",
              "    <tr>\n",
              "      <th>71</th>\n",
              "      <td>72</td>\n",
              "      <td>4</td>\n",
              "      <td>Total Internet subscribers</td>\n",
              "      <td>2020</td>\n",
              "      <td>11478264.92</td>\n",
              "      <td>per population (%)</td>\n",
              "      <td>0.1685</td>\n",
              "    </tr>\n",
              "    <tr>\n",
              "      <th>72</th>\n",
              "      <td>73</td>\n",
              "      <td>1</td>\n",
              "      <td>Total Internet subscribers</td>\n",
              "      <td>2021</td>\n",
              "      <td>11876158.44</td>\n",
              "      <td>per population (%)</td>\n",
              "      <td>0.1740</td>\n",
              "    </tr>\n",
              "  </tbody>\n",
              "</table>\n",
              "<p>73 rows × 7 columns</p>\n",
              "</div>"
            ],
            "text/plain": [
              "    no.  quarter  ...     type_population  value_population\n",
              "0     1        1  ...  per population (%)            0.0001\n",
              "1     2        2  ...  per population (%)            0.0001\n",
              "2     3        3  ...  per population (%)            0.0001\n",
              "3     4        4  ...  per population (%)            0.0002\n",
              "4     5        1  ...  per population (%)            0.0005\n",
              "..  ...      ...  ...                 ...               ...\n",
              "68   69        1  ...  per population (%)            0.1510\n",
              "69   70        2  ...  per population (%)            0.1605\n",
              "70   71        3  ...  per population (%)            0.1659\n",
              "71   72        4  ...  per population (%)            0.1685\n",
              "72   73        1  ...  per population (%)            0.1740\n",
              "\n",
              "[73 rows x 7 columns]"
            ]
          },
          "metadata": {},
          "execution_count": 13
        }
      ]
    },
    {
      "cell_type": "code",
      "metadata": {
        "id": "L1wSiRjKCvv8",
        "colab": {
          "base_uri": "https://localhost:8080/",
          "height": 417
        },
        "outputId": "83e97c96-e4b9-41ff-d2da-127e30b687bb"
      },
      "source": [
        "data_household2.drop(['quarter','year'], axis=1, inplace=True)  #drop ปีกับไตรมาสออก\n",
        "data_household2"
      ],
      "execution_count": 14,
      "outputs": [
        {
          "output_type": "execute_result",
          "data": {
            "text/html": [
              "<div>\n",
              "<style scoped>\n",
              "    .dataframe tbody tr th:only-of-type {\n",
              "        vertical-align: middle;\n",
              "    }\n",
              "\n",
              "    .dataframe tbody tr th {\n",
              "        vertical-align: top;\n",
              "    }\n",
              "\n",
              "    .dataframe thead th {\n",
              "        text-align: right;\n",
              "    }\n",
              "</style>\n",
              "<table border=\"1\" class=\"dataframe\">\n",
              "  <thead>\n",
              "    <tr style=\"text-align: right;\">\n",
              "      <th></th>\n",
              "      <th>no.</th>\n",
              "      <th>type_household</th>\n",
              "      <th>value_household</th>\n",
              "    </tr>\n",
              "  </thead>\n",
              "  <tbody>\n",
              "    <tr>\n",
              "      <th>3</th>\n",
              "      <td>1</td>\n",
              "      <td>per household (%)</td>\n",
              "      <td>0.000281</td>\n",
              "    </tr>\n",
              "    <tr>\n",
              "      <th>2</th>\n",
              "      <td>2</td>\n",
              "      <td>per household (%)</td>\n",
              "      <td>0.000343</td>\n",
              "    </tr>\n",
              "    <tr>\n",
              "      <th>1</th>\n",
              "      <td>3</td>\n",
              "      <td>per household (%)</td>\n",
              "      <td>0.000459</td>\n",
              "    </tr>\n",
              "    <tr>\n",
              "      <th>0</th>\n",
              "      <td>4</td>\n",
              "      <td>per household (%)</td>\n",
              "      <td>0.000649</td>\n",
              "    </tr>\n",
              "    <tr>\n",
              "      <th>7</th>\n",
              "      <td>5</td>\n",
              "      <td>per household (%)</td>\n",
              "      <td>0.001556</td>\n",
              "    </tr>\n",
              "    <tr>\n",
              "      <th>...</th>\n",
              "      <td>...</td>\n",
              "      <td>...</td>\n",
              "      <td>...</td>\n",
              "    </tr>\n",
              "    <tr>\n",
              "      <th>71</th>\n",
              "      <td>69</td>\n",
              "      <td>per household (%)</td>\n",
              "      <td>0.469344</td>\n",
              "    </tr>\n",
              "    <tr>\n",
              "      <th>70</th>\n",
              "      <td>70</td>\n",
              "      <td>per household (%)</td>\n",
              "      <td>0.498972</td>\n",
              "    </tr>\n",
              "    <tr>\n",
              "      <th>69</th>\n",
              "      <td>71</td>\n",
              "      <td>per household (%)</td>\n",
              "      <td>0.515873</td>\n",
              "    </tr>\n",
              "    <tr>\n",
              "      <th>68</th>\n",
              "      <td>72</td>\n",
              "      <td>per household (%)</td>\n",
              "      <td>0.514683</td>\n",
              "    </tr>\n",
              "    <tr>\n",
              "      <th>72</th>\n",
              "      <td>73</td>\n",
              "      <td>per household (%)</td>\n",
              "      <td>0.532524</td>\n",
              "    </tr>\n",
              "  </tbody>\n",
              "</table>\n",
              "<p>73 rows × 3 columns</p>\n",
              "</div>"
            ],
            "text/plain": [
              "    no.     type_household  value_household\n",
              "3     1  per household (%)         0.000281\n",
              "2     2  per household (%)         0.000343\n",
              "1     3  per household (%)         0.000459\n",
              "0     4  per household (%)         0.000649\n",
              "7     5  per household (%)         0.001556\n",
              "..  ...                ...              ...\n",
              "71   69  per household (%)         0.469344\n",
              "70   70  per household (%)         0.498972\n",
              "69   71  per household (%)         0.515873\n",
              "68   72  per household (%)         0.514683\n",
              "72   73  per household (%)         0.532524\n",
              "\n",
              "[73 rows x 3 columns]"
            ]
          },
          "metadata": {},
          "execution_count": 14
        }
      ]
    },
    {
      "cell_type": "code",
      "metadata": {
        "id": "qR_JD7Xi8y_N",
        "colab": {
          "base_uri": "https://localhost:8080/",
          "height": 417
        },
        "outputId": "50b46467-07b5-4f14-974f-58ca8c9dd6dd"
      },
      "source": [
        "merge_table2 = merge_table.merge(data_household2,how='left', left_on='no.',right_on='no.')  # เชื่อมตาราง merge_table และ data_household2  โดยให้ตาราง merge_table เป็นตารางหลักอยู่ที่ด้านซ้าย\n",
        "merge_table2"
      ],
      "execution_count": 15,
      "outputs": [
        {
          "output_type": "execute_result",
          "data": {
            "text/html": [
              "<div>\n",
              "<style scoped>\n",
              "    .dataframe tbody tr th:only-of-type {\n",
              "        vertical-align: middle;\n",
              "    }\n",
              "\n",
              "    .dataframe tbody tr th {\n",
              "        vertical-align: top;\n",
              "    }\n",
              "\n",
              "    .dataframe thead th {\n",
              "        text-align: right;\n",
              "    }\n",
              "</style>\n",
              "<table border=\"1\" class=\"dataframe\">\n",
              "  <thead>\n",
              "    <tr style=\"text-align: right;\">\n",
              "      <th></th>\n",
              "      <th>no.</th>\n",
              "      <th>quarter</th>\n",
              "      <th>Thailand Internet Users_subscriber</th>\n",
              "      <th>year</th>\n",
              "      <th>value_subscriber</th>\n",
              "      <th>type_population</th>\n",
              "      <th>value_population</th>\n",
              "      <th>type_household</th>\n",
              "      <th>value_household</th>\n",
              "    </tr>\n",
              "  </thead>\n",
              "  <tbody>\n",
              "    <tr>\n",
              "      <th>0</th>\n",
              "      <td>1</td>\n",
              "      <td>1</td>\n",
              "      <td>Total Internet subscribers</td>\n",
              "      <td>2003</td>\n",
              "      <td>365219.00</td>\n",
              "      <td>per population (%)</td>\n",
              "      <td>0.0001</td>\n",
              "      <td>per household (%)</td>\n",
              "      <td>0.000281</td>\n",
              "    </tr>\n",
              "    <tr>\n",
              "      <th>1</th>\n",
              "      <td>2</td>\n",
              "      <td>2</td>\n",
              "      <td>Total Internet subscribers</td>\n",
              "      <td>2003</td>\n",
              "      <td>453043.00</td>\n",
              "      <td>per population (%)</td>\n",
              "      <td>0.0001</td>\n",
              "      <td>per household (%)</td>\n",
              "      <td>0.000343</td>\n",
              "    </tr>\n",
              "    <tr>\n",
              "      <th>2</th>\n",
              "      <td>3</td>\n",
              "      <td>3</td>\n",
              "      <td>Total Internet subscribers</td>\n",
              "      <td>2003</td>\n",
              "      <td>529530.00</td>\n",
              "      <td>per population (%)</td>\n",
              "      <td>0.0001</td>\n",
              "      <td>per household (%)</td>\n",
              "      <td>0.000459</td>\n",
              "    </tr>\n",
              "    <tr>\n",
              "      <th>3</th>\n",
              "      <td>4</td>\n",
              "      <td>4</td>\n",
              "      <td>Total Internet subscribers</td>\n",
              "      <td>2003</td>\n",
              "      <td>652726.00</td>\n",
              "      <td>per population (%)</td>\n",
              "      <td>0.0002</td>\n",
              "      <td>per household (%)</td>\n",
              "      <td>0.000649</td>\n",
              "    </tr>\n",
              "    <tr>\n",
              "      <th>4</th>\n",
              "      <td>5</td>\n",
              "      <td>1</td>\n",
              "      <td>Total Internet subscribers</td>\n",
              "      <td>2004</td>\n",
              "      <td>785931.00</td>\n",
              "      <td>per population (%)</td>\n",
              "      <td>0.0005</td>\n",
              "      <td>per household (%)</td>\n",
              "      <td>0.001556</td>\n",
              "    </tr>\n",
              "    <tr>\n",
              "      <th>...</th>\n",
              "      <td>...</td>\n",
              "      <td>...</td>\n",
              "      <td>...</td>\n",
              "      <td>...</td>\n",
              "      <td>...</td>\n",
              "      <td>...</td>\n",
              "      <td>...</td>\n",
              "      <td>...</td>\n",
              "      <td>...</td>\n",
              "    </tr>\n",
              "    <tr>\n",
              "      <th>68</th>\n",
              "      <td>69</td>\n",
              "      <td>1</td>\n",
              "      <td>Total Internet subscribers</td>\n",
              "      <td>2020</td>\n",
              "      <td>10264995.67</td>\n",
              "      <td>per population (%)</td>\n",
              "      <td>0.1510</td>\n",
              "      <td>per household (%)</td>\n",
              "      <td>0.469344</td>\n",
              "    </tr>\n",
              "    <tr>\n",
              "      <th>69</th>\n",
              "      <td>70</td>\n",
              "      <td>2</td>\n",
              "      <td>Total Internet subscribers</td>\n",
              "      <td>2020</td>\n",
              "      <td>10912996.14</td>\n",
              "      <td>per population (%)</td>\n",
              "      <td>0.1605</td>\n",
              "      <td>per household (%)</td>\n",
              "      <td>0.498972</td>\n",
              "    </tr>\n",
              "    <tr>\n",
              "      <th>70</th>\n",
              "      <td>71</td>\n",
              "      <td>3</td>\n",
              "      <td>Total Internet subscribers</td>\n",
              "      <td>2020</td>\n",
              "      <td>11282645.58</td>\n",
              "      <td>per population (%)</td>\n",
              "      <td>0.1659</td>\n",
              "      <td>per household (%)</td>\n",
              "      <td>0.515873</td>\n",
              "    </tr>\n",
              "    <tr>\n",
              "      <th>71</th>\n",
              "      <td>72</td>\n",
              "      <td>4</td>\n",
              "      <td>Total Internet subscribers</td>\n",
              "      <td>2020</td>\n",
              "      <td>11478264.92</td>\n",
              "      <td>per population (%)</td>\n",
              "      <td>0.1685</td>\n",
              "      <td>per household (%)</td>\n",
              "      <td>0.514683</td>\n",
              "    </tr>\n",
              "    <tr>\n",
              "      <th>72</th>\n",
              "      <td>73</td>\n",
              "      <td>1</td>\n",
              "      <td>Total Internet subscribers</td>\n",
              "      <td>2021</td>\n",
              "      <td>11876158.44</td>\n",
              "      <td>per population (%)</td>\n",
              "      <td>0.1740</td>\n",
              "      <td>per household (%)</td>\n",
              "      <td>0.532524</td>\n",
              "    </tr>\n",
              "  </tbody>\n",
              "</table>\n",
              "<p>73 rows × 9 columns</p>\n",
              "</div>"
            ],
            "text/plain": [
              "    no.  quarter  ...     type_household  value_household\n",
              "0     1        1  ...  per household (%)         0.000281\n",
              "1     2        2  ...  per household (%)         0.000343\n",
              "2     3        3  ...  per household (%)         0.000459\n",
              "3     4        4  ...  per household (%)         0.000649\n",
              "4     5        1  ...  per household (%)         0.001556\n",
              "..  ...      ...  ...                ...              ...\n",
              "68   69        1  ...  per household (%)         0.469344\n",
              "69   70        2  ...  per household (%)         0.498972\n",
              "70   71        3  ...  per household (%)         0.515873\n",
              "71   72        4  ...  per household (%)         0.514683\n",
              "72   73        1  ...  per household (%)         0.532524\n",
              "\n",
              "[73 rows x 9 columns]"
            ]
          },
          "metadata": {},
          "execution_count": 15
        }
      ]
    },
    {
      "cell_type": "markdown",
      "metadata": {
        "id": "KANteQ_z-h4f"
      },
      "source": [
        "#ชุดข้อมูลที่อาจารย์ให้หาเพิ่ม  จำนวนเลขหมายโทรศัพท์เคลื่อนที่ที่ได้รับการจดทะเบียน\n",
        "https://data.go.th/dataset/mobile-subscribers?fbclid=IwAR3ZoY2gqT_ogfZwHHI40nC_ejcmi3O9xZMOmcac_rCCdA5brXcHVh85Ayw"
      ]
    },
    {
      "cell_type": "markdown",
      "metadata": {
        "id": "WfbrJ2_NMI5m"
      },
      "source": [
        "\n",
        "คำอธิบายตาราง\n",
        "\n",
        "no. คือ ลำดับ\n",
        "\n",
        "Mobile Market Report คือ ประเภท\n",
        "\n",
        "quarter คือ ไตรมาส (4 ไตรมาส)\n",
        "\n",
        "year คือ ปี\n",
        "\n",
        "value_mobile คือ จำนวนเลขหมายโทรศัพท์เคลื่อนที่ที่ได้รับการจดทะเบียน"
      ]
    },
    {
      "cell_type": "code",
      "metadata": {
        "id": "O3J-xM5OqDCE",
        "colab": {
          "base_uri": "https://localhost:8080/",
          "height": 417
        },
        "outputId": "d1622b47-8d49-45ff-d113-bd8b3bd5665d"
      },
      "source": [
        "data_mobile = pd.read_csv(os.path.join(path,'05mobile-subscribers.csv'))  #จำนวนเลขหมายโทรศัพท์เคลื่อนที่ที่ได้รับการจดทะเบียน เก็บในตัวแปรชื่อdata_mobile\n",
        "data_mobile"
      ],
      "execution_count": 16,
      "outputs": [
        {
          "output_type": "execute_result",
          "data": {
            "text/html": [
              "<div>\n",
              "<style scoped>\n",
              "    .dataframe tbody tr th:only-of-type {\n",
              "        vertical-align: middle;\n",
              "    }\n",
              "\n",
              "    .dataframe tbody tr th {\n",
              "        vertical-align: top;\n",
              "    }\n",
              "\n",
              "    .dataframe thead th {\n",
              "        text-align: right;\n",
              "    }\n",
              "</style>\n",
              "<table border=\"1\" class=\"dataframe\">\n",
              "  <thead>\n",
              "    <tr style=\"text-align: right;\">\n",
              "      <th></th>\n",
              "      <th>no.</th>\n",
              "      <th>Mobile Market Report</th>\n",
              "      <th>quarter</th>\n",
              "      <th>year</th>\n",
              "      <th>value_mobile</th>\n",
              "    </tr>\n",
              "  </thead>\n",
              "  <tbody>\n",
              "    <tr>\n",
              "      <th>0</th>\n",
              "      <td>4</td>\n",
              "      <td>Mobile Subscribers</td>\n",
              "      <td>4</td>\n",
              "      <td>2002</td>\n",
              "      <td>17449890</td>\n",
              "    </tr>\n",
              "    <tr>\n",
              "      <th>1</th>\n",
              "      <td>3</td>\n",
              "      <td>Mobile Subscribers</td>\n",
              "      <td>3</td>\n",
              "      <td>2002</td>\n",
              "      <td>15743776</td>\n",
              "    </tr>\n",
              "    <tr>\n",
              "      <th>2</th>\n",
              "      <td>2</td>\n",
              "      <td>Mobile Subscribers</td>\n",
              "      <td>2</td>\n",
              "      <td>2002</td>\n",
              "      <td>12416261</td>\n",
              "    </tr>\n",
              "    <tr>\n",
              "      <th>3</th>\n",
              "      <td>1</td>\n",
              "      <td>Mobile Subscribers</td>\n",
              "      <td>1</td>\n",
              "      <td>2002</td>\n",
              "      <td>9669909</td>\n",
              "    </tr>\n",
              "    <tr>\n",
              "      <th>4</th>\n",
              "      <td>8</td>\n",
              "      <td>Mobile Subscribers</td>\n",
              "      <td>4</td>\n",
              "      <td>2003</td>\n",
              "      <td>21616910</td>\n",
              "    </tr>\n",
              "    <tr>\n",
              "      <th>...</th>\n",
              "      <td>...</td>\n",
              "      <td>...</td>\n",
              "      <td>...</td>\n",
              "      <td>...</td>\n",
              "      <td>...</td>\n",
              "    </tr>\n",
              "    <tr>\n",
              "      <th>72</th>\n",
              "      <td>76</td>\n",
              "      <td>Mobile Subscribers</td>\n",
              "      <td>4</td>\n",
              "      <td>2020</td>\n",
              "      <td>116294420</td>\n",
              "    </tr>\n",
              "    <tr>\n",
              "      <th>73</th>\n",
              "      <td>75</td>\n",
              "      <td>Mobile Subscribers</td>\n",
              "      <td>3</td>\n",
              "      <td>2020</td>\n",
              "      <td>119169759</td>\n",
              "    </tr>\n",
              "    <tr>\n",
              "      <th>74</th>\n",
              "      <td>74</td>\n",
              "      <td>Mobile Subscribers</td>\n",
              "      <td>2</td>\n",
              "      <td>2020</td>\n",
              "      <td>131881072</td>\n",
              "    </tr>\n",
              "    <tr>\n",
              "      <th>75</th>\n",
              "      <td>73</td>\n",
              "      <td>Mobile Subscribers</td>\n",
              "      <td>1</td>\n",
              "      <td>2020</td>\n",
              "      <td>132594791</td>\n",
              "    </tr>\n",
              "    <tr>\n",
              "      <th>76</th>\n",
              "      <td>77</td>\n",
              "      <td>Mobile Subscribers</td>\n",
              "      <td>1</td>\n",
              "      <td>2021</td>\n",
              "      <td>117562201</td>\n",
              "    </tr>\n",
              "  </tbody>\n",
              "</table>\n",
              "<p>77 rows × 5 columns</p>\n",
              "</div>"
            ],
            "text/plain": [
              "    no. Mobile Market Report  quarter  year  value_mobile\n",
              "0     4   Mobile Subscribers        4  2002      17449890\n",
              "1     3   Mobile Subscribers        3  2002      15743776\n",
              "2     2   Mobile Subscribers        2  2002      12416261\n",
              "3     1   Mobile Subscribers        1  2002       9669909\n",
              "4     8   Mobile Subscribers        4  2003      21616910\n",
              "..  ...                  ...      ...   ...           ...\n",
              "72   76   Mobile Subscribers        4  2020     116294420\n",
              "73   75   Mobile Subscribers        3  2020     119169759\n",
              "74   74   Mobile Subscribers        2  2020     131881072\n",
              "75   73   Mobile Subscribers        1  2020     132594791\n",
              "76   77   Mobile Subscribers        1  2021     117562201\n",
              "\n",
              "[77 rows x 5 columns]"
            ]
          },
          "metadata": {},
          "execution_count": 16
        }
      ]
    },
    {
      "cell_type": "code",
      "metadata": {
        "id": "vZPaMu5MqrlH",
        "colab": {
          "base_uri": "https://localhost:8080/",
          "height": 417
        },
        "outputId": "1623ebad-732c-44c8-dab0-8cc15f9a44bb"
      },
      "source": [
        "data_mobile2 = data_mobile.sort_values(by=['no.'])  #เรียงข้อมูลตาม No.\n",
        "data_mobile2"
      ],
      "execution_count": 17,
      "outputs": [
        {
          "output_type": "execute_result",
          "data": {
            "text/html": [
              "<div>\n",
              "<style scoped>\n",
              "    .dataframe tbody tr th:only-of-type {\n",
              "        vertical-align: middle;\n",
              "    }\n",
              "\n",
              "    .dataframe tbody tr th {\n",
              "        vertical-align: top;\n",
              "    }\n",
              "\n",
              "    .dataframe thead th {\n",
              "        text-align: right;\n",
              "    }\n",
              "</style>\n",
              "<table border=\"1\" class=\"dataframe\">\n",
              "  <thead>\n",
              "    <tr style=\"text-align: right;\">\n",
              "      <th></th>\n",
              "      <th>no.</th>\n",
              "      <th>Mobile Market Report</th>\n",
              "      <th>quarter</th>\n",
              "      <th>year</th>\n",
              "      <th>value_mobile</th>\n",
              "    </tr>\n",
              "  </thead>\n",
              "  <tbody>\n",
              "    <tr>\n",
              "      <th>3</th>\n",
              "      <td>1</td>\n",
              "      <td>Mobile Subscribers</td>\n",
              "      <td>1</td>\n",
              "      <td>2002</td>\n",
              "      <td>9669909</td>\n",
              "    </tr>\n",
              "    <tr>\n",
              "      <th>2</th>\n",
              "      <td>2</td>\n",
              "      <td>Mobile Subscribers</td>\n",
              "      <td>2</td>\n",
              "      <td>2002</td>\n",
              "      <td>12416261</td>\n",
              "    </tr>\n",
              "    <tr>\n",
              "      <th>1</th>\n",
              "      <td>3</td>\n",
              "      <td>Mobile Subscribers</td>\n",
              "      <td>3</td>\n",
              "      <td>2002</td>\n",
              "      <td>15743776</td>\n",
              "    </tr>\n",
              "    <tr>\n",
              "      <th>0</th>\n",
              "      <td>4</td>\n",
              "      <td>Mobile Subscribers</td>\n",
              "      <td>4</td>\n",
              "      <td>2002</td>\n",
              "      <td>17449890</td>\n",
              "    </tr>\n",
              "    <tr>\n",
              "      <th>7</th>\n",
              "      <td>5</td>\n",
              "      <td>Mobile Subscribers</td>\n",
              "      <td>1</td>\n",
              "      <td>2003</td>\n",
              "      <td>18763102</td>\n",
              "    </tr>\n",
              "    <tr>\n",
              "      <th>...</th>\n",
              "      <td>...</td>\n",
              "      <td>...</td>\n",
              "      <td>...</td>\n",
              "      <td>...</td>\n",
              "      <td>...</td>\n",
              "    </tr>\n",
              "    <tr>\n",
              "      <th>75</th>\n",
              "      <td>73</td>\n",
              "      <td>Mobile Subscribers</td>\n",
              "      <td>1</td>\n",
              "      <td>2020</td>\n",
              "      <td>132594791</td>\n",
              "    </tr>\n",
              "    <tr>\n",
              "      <th>74</th>\n",
              "      <td>74</td>\n",
              "      <td>Mobile Subscribers</td>\n",
              "      <td>2</td>\n",
              "      <td>2020</td>\n",
              "      <td>131881072</td>\n",
              "    </tr>\n",
              "    <tr>\n",
              "      <th>73</th>\n",
              "      <td>75</td>\n",
              "      <td>Mobile Subscribers</td>\n",
              "      <td>3</td>\n",
              "      <td>2020</td>\n",
              "      <td>119169759</td>\n",
              "    </tr>\n",
              "    <tr>\n",
              "      <th>72</th>\n",
              "      <td>76</td>\n",
              "      <td>Mobile Subscribers</td>\n",
              "      <td>4</td>\n",
              "      <td>2020</td>\n",
              "      <td>116294420</td>\n",
              "    </tr>\n",
              "    <tr>\n",
              "      <th>76</th>\n",
              "      <td>77</td>\n",
              "      <td>Mobile Subscribers</td>\n",
              "      <td>1</td>\n",
              "      <td>2021</td>\n",
              "      <td>117562201</td>\n",
              "    </tr>\n",
              "  </tbody>\n",
              "</table>\n",
              "<p>77 rows × 5 columns</p>\n",
              "</div>"
            ],
            "text/plain": [
              "    no. Mobile Market Report  quarter  year  value_mobile\n",
              "3     1   Mobile Subscribers        1  2002       9669909\n",
              "2     2   Mobile Subscribers        2  2002      12416261\n",
              "1     3   Mobile Subscribers        3  2002      15743776\n",
              "0     4   Mobile Subscribers        4  2002      17449890\n",
              "7     5   Mobile Subscribers        1  2003      18763102\n",
              "..  ...                  ...      ...   ...           ...\n",
              "75   73   Mobile Subscribers        1  2020     132594791\n",
              "74   74   Mobile Subscribers        2  2020     131881072\n",
              "73   75   Mobile Subscribers        3  2020     119169759\n",
              "72   76   Mobile Subscribers        4  2020     116294420\n",
              "76   77   Mobile Subscribers        1  2021     117562201\n",
              "\n",
              "[77 rows x 5 columns]"
            ]
          },
          "metadata": {},
          "execution_count": 17
        }
      ]
    },
    {
      "cell_type": "code",
      "metadata": {
        "id": "RovDIoR-2N9T",
        "colab": {
          "base_uri": "https://localhost:8080/",
          "height": 417
        },
        "outputId": "be7614a2-a183-41fe-9f28-0fa30394bd9a"
      },
      "source": [
        "data_mobile2.drop(['quarter','year'], axis=1, inplace=True)  #drop ปีและไตรมาสออกเพราะคอลัมน์ซ้ำ\n",
        "data_mobile2"
      ],
      "execution_count": 18,
      "outputs": [
        {
          "output_type": "execute_result",
          "data": {
            "text/html": [
              "<div>\n",
              "<style scoped>\n",
              "    .dataframe tbody tr th:only-of-type {\n",
              "        vertical-align: middle;\n",
              "    }\n",
              "\n",
              "    .dataframe tbody tr th {\n",
              "        vertical-align: top;\n",
              "    }\n",
              "\n",
              "    .dataframe thead th {\n",
              "        text-align: right;\n",
              "    }\n",
              "</style>\n",
              "<table border=\"1\" class=\"dataframe\">\n",
              "  <thead>\n",
              "    <tr style=\"text-align: right;\">\n",
              "      <th></th>\n",
              "      <th>no.</th>\n",
              "      <th>Mobile Market Report</th>\n",
              "      <th>value_mobile</th>\n",
              "    </tr>\n",
              "  </thead>\n",
              "  <tbody>\n",
              "    <tr>\n",
              "      <th>3</th>\n",
              "      <td>1</td>\n",
              "      <td>Mobile Subscribers</td>\n",
              "      <td>9669909</td>\n",
              "    </tr>\n",
              "    <tr>\n",
              "      <th>2</th>\n",
              "      <td>2</td>\n",
              "      <td>Mobile Subscribers</td>\n",
              "      <td>12416261</td>\n",
              "    </tr>\n",
              "    <tr>\n",
              "      <th>1</th>\n",
              "      <td>3</td>\n",
              "      <td>Mobile Subscribers</td>\n",
              "      <td>15743776</td>\n",
              "    </tr>\n",
              "    <tr>\n",
              "      <th>0</th>\n",
              "      <td>4</td>\n",
              "      <td>Mobile Subscribers</td>\n",
              "      <td>17449890</td>\n",
              "    </tr>\n",
              "    <tr>\n",
              "      <th>7</th>\n",
              "      <td>5</td>\n",
              "      <td>Mobile Subscribers</td>\n",
              "      <td>18763102</td>\n",
              "    </tr>\n",
              "    <tr>\n",
              "      <th>...</th>\n",
              "      <td>...</td>\n",
              "      <td>...</td>\n",
              "      <td>...</td>\n",
              "    </tr>\n",
              "    <tr>\n",
              "      <th>75</th>\n",
              "      <td>73</td>\n",
              "      <td>Mobile Subscribers</td>\n",
              "      <td>132594791</td>\n",
              "    </tr>\n",
              "    <tr>\n",
              "      <th>74</th>\n",
              "      <td>74</td>\n",
              "      <td>Mobile Subscribers</td>\n",
              "      <td>131881072</td>\n",
              "    </tr>\n",
              "    <tr>\n",
              "      <th>73</th>\n",
              "      <td>75</td>\n",
              "      <td>Mobile Subscribers</td>\n",
              "      <td>119169759</td>\n",
              "    </tr>\n",
              "    <tr>\n",
              "      <th>72</th>\n",
              "      <td>76</td>\n",
              "      <td>Mobile Subscribers</td>\n",
              "      <td>116294420</td>\n",
              "    </tr>\n",
              "    <tr>\n",
              "      <th>76</th>\n",
              "      <td>77</td>\n",
              "      <td>Mobile Subscribers</td>\n",
              "      <td>117562201</td>\n",
              "    </tr>\n",
              "  </tbody>\n",
              "</table>\n",
              "<p>77 rows × 3 columns</p>\n",
              "</div>"
            ],
            "text/plain": [
              "    no. Mobile Market Report  value_mobile\n",
              "3     1   Mobile Subscribers       9669909\n",
              "2     2   Mobile Subscribers      12416261\n",
              "1     3   Mobile Subscribers      15743776\n",
              "0     4   Mobile Subscribers      17449890\n",
              "7     5   Mobile Subscribers      18763102\n",
              "..  ...                  ...           ...\n",
              "75   73   Mobile Subscribers     132594791\n",
              "74   74   Mobile Subscribers     131881072\n",
              "73   75   Mobile Subscribers     119169759\n",
              "72   76   Mobile Subscribers     116294420\n",
              "76   77   Mobile Subscribers     117562201\n",
              "\n",
              "[77 rows x 3 columns]"
            ]
          },
          "metadata": {},
          "execution_count": 18
        }
      ]
    },
    {
      "cell_type": "code",
      "metadata": {
        "id": "UA3EeaCO2jSb",
        "colab": {
          "base_uri": "https://localhost:8080/",
          "height": 417
        },
        "outputId": "89817dfb-e357-4eac-e19d-81e9066e9cb2"
      },
      "source": [
        "data_mobile3 = data_mobile2.iloc[4:,:]  #ตัดข้อมูล 4 แถวแรกออกเพราะมันเป็นของปี 2002 แต่ตาราง merge_table2 มันเริ่มที่ปี 2003\n",
        "data_mobile3"
      ],
      "execution_count": 19,
      "outputs": [
        {
          "output_type": "execute_result",
          "data": {
            "text/html": [
              "<div>\n",
              "<style scoped>\n",
              "    .dataframe tbody tr th:only-of-type {\n",
              "        vertical-align: middle;\n",
              "    }\n",
              "\n",
              "    .dataframe tbody tr th {\n",
              "        vertical-align: top;\n",
              "    }\n",
              "\n",
              "    .dataframe thead th {\n",
              "        text-align: right;\n",
              "    }\n",
              "</style>\n",
              "<table border=\"1\" class=\"dataframe\">\n",
              "  <thead>\n",
              "    <tr style=\"text-align: right;\">\n",
              "      <th></th>\n",
              "      <th>no.</th>\n",
              "      <th>Mobile Market Report</th>\n",
              "      <th>value_mobile</th>\n",
              "    </tr>\n",
              "  </thead>\n",
              "  <tbody>\n",
              "    <tr>\n",
              "      <th>7</th>\n",
              "      <td>5</td>\n",
              "      <td>Mobile Subscribers</td>\n",
              "      <td>18763102</td>\n",
              "    </tr>\n",
              "    <tr>\n",
              "      <th>6</th>\n",
              "      <td>6</td>\n",
              "      <td>Mobile Subscribers</td>\n",
              "      <td>19788956</td>\n",
              "    </tr>\n",
              "    <tr>\n",
              "      <th>5</th>\n",
              "      <td>7</td>\n",
              "      <td>Mobile Subscribers</td>\n",
              "      <td>20655866</td>\n",
              "    </tr>\n",
              "    <tr>\n",
              "      <th>4</th>\n",
              "      <td>8</td>\n",
              "      <td>Mobile Subscribers</td>\n",
              "      <td>21616910</td>\n",
              "    </tr>\n",
              "    <tr>\n",
              "      <th>11</th>\n",
              "      <td>9</td>\n",
              "      <td>Mobile Subscribers</td>\n",
              "      <td>23217311</td>\n",
              "    </tr>\n",
              "    <tr>\n",
              "      <th>...</th>\n",
              "      <td>...</td>\n",
              "      <td>...</td>\n",
              "      <td>...</td>\n",
              "    </tr>\n",
              "    <tr>\n",
              "      <th>75</th>\n",
              "      <td>73</td>\n",
              "      <td>Mobile Subscribers</td>\n",
              "      <td>132594791</td>\n",
              "    </tr>\n",
              "    <tr>\n",
              "      <th>74</th>\n",
              "      <td>74</td>\n",
              "      <td>Mobile Subscribers</td>\n",
              "      <td>131881072</td>\n",
              "    </tr>\n",
              "    <tr>\n",
              "      <th>73</th>\n",
              "      <td>75</td>\n",
              "      <td>Mobile Subscribers</td>\n",
              "      <td>119169759</td>\n",
              "    </tr>\n",
              "    <tr>\n",
              "      <th>72</th>\n",
              "      <td>76</td>\n",
              "      <td>Mobile Subscribers</td>\n",
              "      <td>116294420</td>\n",
              "    </tr>\n",
              "    <tr>\n",
              "      <th>76</th>\n",
              "      <td>77</td>\n",
              "      <td>Mobile Subscribers</td>\n",
              "      <td>117562201</td>\n",
              "    </tr>\n",
              "  </tbody>\n",
              "</table>\n",
              "<p>73 rows × 3 columns</p>\n",
              "</div>"
            ],
            "text/plain": [
              "    no. Mobile Market Report  value_mobile\n",
              "7     5   Mobile Subscribers      18763102\n",
              "6     6   Mobile Subscribers      19788956\n",
              "5     7   Mobile Subscribers      20655866\n",
              "4     8   Mobile Subscribers      21616910\n",
              "11    9   Mobile Subscribers      23217311\n",
              "..  ...                  ...           ...\n",
              "75   73   Mobile Subscribers     132594791\n",
              "74   74   Mobile Subscribers     131881072\n",
              "73   75   Mobile Subscribers     119169759\n",
              "72   76   Mobile Subscribers     116294420\n",
              "76   77   Mobile Subscribers     117562201\n",
              "\n",
              "[73 rows x 3 columns]"
            ]
          },
          "metadata": {},
          "execution_count": 19
        }
      ]
    },
    {
      "cell_type": "code",
      "metadata": {
        "id": "qWEQt5eM2Cts",
        "colab": {
          "base_uri": "https://localhost:8080/",
          "height": 417
        },
        "outputId": "86c19b3e-e6e2-4da5-d709-73575262672d"
      },
      "source": [
        "merge_table3 = data_mobile3.merge(merge_table2,how='left', left_on='no.',right_on='no.')  # เชื่อมตาราง merge_table2 และ data_mobile เโดยให้ตาราง merge_table2 เป็นตารางหลักอยู่ที่ด้านซ้าย\n",
        "merge_table3"
      ],
      "execution_count": 20,
      "outputs": [
        {
          "output_type": "execute_result",
          "data": {
            "text/html": [
              "<div>\n",
              "<style scoped>\n",
              "    .dataframe tbody tr th:only-of-type {\n",
              "        vertical-align: middle;\n",
              "    }\n",
              "\n",
              "    .dataframe tbody tr th {\n",
              "        vertical-align: top;\n",
              "    }\n",
              "\n",
              "    .dataframe thead th {\n",
              "        text-align: right;\n",
              "    }\n",
              "</style>\n",
              "<table border=\"1\" class=\"dataframe\">\n",
              "  <thead>\n",
              "    <tr style=\"text-align: right;\">\n",
              "      <th></th>\n",
              "      <th>no.</th>\n",
              "      <th>Mobile Market Report</th>\n",
              "      <th>value_mobile</th>\n",
              "      <th>quarter</th>\n",
              "      <th>Thailand Internet Users_subscriber</th>\n",
              "      <th>year</th>\n",
              "      <th>value_subscriber</th>\n",
              "      <th>type_population</th>\n",
              "      <th>value_population</th>\n",
              "      <th>type_household</th>\n",
              "      <th>value_household</th>\n",
              "    </tr>\n",
              "  </thead>\n",
              "  <tbody>\n",
              "    <tr>\n",
              "      <th>0</th>\n",
              "      <td>5</td>\n",
              "      <td>Mobile Subscribers</td>\n",
              "      <td>18763102</td>\n",
              "      <td>1.0</td>\n",
              "      <td>Total Internet subscribers</td>\n",
              "      <td>2004.0</td>\n",
              "      <td>785931.00</td>\n",
              "      <td>per population (%)</td>\n",
              "      <td>0.0005</td>\n",
              "      <td>per household (%)</td>\n",
              "      <td>0.001556</td>\n",
              "    </tr>\n",
              "    <tr>\n",
              "      <th>1</th>\n",
              "      <td>6</td>\n",
              "      <td>Mobile Subscribers</td>\n",
              "      <td>19788956</td>\n",
              "      <td>2.0</td>\n",
              "      <td>Total Internet subscribers</td>\n",
              "      <td>2004.0</td>\n",
              "      <td>914400.00</td>\n",
              "      <td>per population (%)</td>\n",
              "      <td>0.0007</td>\n",
              "      <td>per household (%)</td>\n",
              "      <td>0.002265</td>\n",
              "    </tr>\n",
              "    <tr>\n",
              "      <th>2</th>\n",
              "      <td>7</td>\n",
              "      <td>Mobile Subscribers</td>\n",
              "      <td>20655866</td>\n",
              "      <td>3.0</td>\n",
              "      <td>Total Internet subscribers</td>\n",
              "      <td>2004.0</td>\n",
              "      <td>1091652.00</td>\n",
              "      <td>per population (%)</td>\n",
              "      <td>0.0015</td>\n",
              "      <td>per household (%)</td>\n",
              "      <td>0.004964</td>\n",
              "    </tr>\n",
              "    <tr>\n",
              "      <th>3</th>\n",
              "      <td>8</td>\n",
              "      <td>Mobile Subscribers</td>\n",
              "      <td>21616910</td>\n",
              "      <td>4.0</td>\n",
              "      <td>Total Internet subscribers</td>\n",
              "      <td>2004.0</td>\n",
              "      <td>1231344.00</td>\n",
              "      <td>per population (%)</td>\n",
              "      <td>0.0026</td>\n",
              "      <td>per household (%)</td>\n",
              "      <td>0.008716</td>\n",
              "    </tr>\n",
              "    <tr>\n",
              "      <th>4</th>\n",
              "      <td>9</td>\n",
              "      <td>Mobile Subscribers</td>\n",
              "      <td>23217311</td>\n",
              "      <td>1.0</td>\n",
              "      <td>Total Internet subscribers</td>\n",
              "      <td>2005.0</td>\n",
              "      <td>1197942.00</td>\n",
              "      <td>per population (%)</td>\n",
              "      <td>0.0045</td>\n",
              "      <td>per household (%)</td>\n",
              "      <td>0.015449</td>\n",
              "    </tr>\n",
              "    <tr>\n",
              "      <th>...</th>\n",
              "      <td>...</td>\n",
              "      <td>...</td>\n",
              "      <td>...</td>\n",
              "      <td>...</td>\n",
              "      <td>...</td>\n",
              "      <td>...</td>\n",
              "      <td>...</td>\n",
              "      <td>...</td>\n",
              "      <td>...</td>\n",
              "      <td>...</td>\n",
              "      <td>...</td>\n",
              "    </tr>\n",
              "    <tr>\n",
              "      <th>68</th>\n",
              "      <td>73</td>\n",
              "      <td>Mobile Subscribers</td>\n",
              "      <td>132594791</td>\n",
              "      <td>1.0</td>\n",
              "      <td>Total Internet subscribers</td>\n",
              "      <td>2021.0</td>\n",
              "      <td>11876158.44</td>\n",
              "      <td>per population (%)</td>\n",
              "      <td>0.1740</td>\n",
              "      <td>per household (%)</td>\n",
              "      <td>0.532524</td>\n",
              "    </tr>\n",
              "    <tr>\n",
              "      <th>69</th>\n",
              "      <td>74</td>\n",
              "      <td>Mobile Subscribers</td>\n",
              "      <td>131881072</td>\n",
              "      <td>NaN</td>\n",
              "      <td>NaN</td>\n",
              "      <td>NaN</td>\n",
              "      <td>NaN</td>\n",
              "      <td>NaN</td>\n",
              "      <td>NaN</td>\n",
              "      <td>NaN</td>\n",
              "      <td>NaN</td>\n",
              "    </tr>\n",
              "    <tr>\n",
              "      <th>70</th>\n",
              "      <td>75</td>\n",
              "      <td>Mobile Subscribers</td>\n",
              "      <td>119169759</td>\n",
              "      <td>NaN</td>\n",
              "      <td>NaN</td>\n",
              "      <td>NaN</td>\n",
              "      <td>NaN</td>\n",
              "      <td>NaN</td>\n",
              "      <td>NaN</td>\n",
              "      <td>NaN</td>\n",
              "      <td>NaN</td>\n",
              "    </tr>\n",
              "    <tr>\n",
              "      <th>71</th>\n",
              "      <td>76</td>\n",
              "      <td>Mobile Subscribers</td>\n",
              "      <td>116294420</td>\n",
              "      <td>NaN</td>\n",
              "      <td>NaN</td>\n",
              "      <td>NaN</td>\n",
              "      <td>NaN</td>\n",
              "      <td>NaN</td>\n",
              "      <td>NaN</td>\n",
              "      <td>NaN</td>\n",
              "      <td>NaN</td>\n",
              "    </tr>\n",
              "    <tr>\n",
              "      <th>72</th>\n",
              "      <td>77</td>\n",
              "      <td>Mobile Subscribers</td>\n",
              "      <td>117562201</td>\n",
              "      <td>NaN</td>\n",
              "      <td>NaN</td>\n",
              "      <td>NaN</td>\n",
              "      <td>NaN</td>\n",
              "      <td>NaN</td>\n",
              "      <td>NaN</td>\n",
              "      <td>NaN</td>\n",
              "      <td>NaN</td>\n",
              "    </tr>\n",
              "  </tbody>\n",
              "</table>\n",
              "<p>73 rows × 11 columns</p>\n",
              "</div>"
            ],
            "text/plain": [
              "    no. Mobile Market Report  ...     type_household  value_household\n",
              "0     5   Mobile Subscribers  ...  per household (%)         0.001556\n",
              "1     6   Mobile Subscribers  ...  per household (%)         0.002265\n",
              "2     7   Mobile Subscribers  ...  per household (%)         0.004964\n",
              "3     8   Mobile Subscribers  ...  per household (%)         0.008716\n",
              "4     9   Mobile Subscribers  ...  per household (%)         0.015449\n",
              "..  ...                  ...  ...                ...              ...\n",
              "68   73   Mobile Subscribers  ...  per household (%)         0.532524\n",
              "69   74   Mobile Subscribers  ...                NaN              NaN\n",
              "70   75   Mobile Subscribers  ...                NaN              NaN\n",
              "71   76   Mobile Subscribers  ...                NaN              NaN\n",
              "72   77   Mobile Subscribers  ...                NaN              NaN\n",
              "\n",
              "[73 rows x 11 columns]"
            ]
          },
          "metadata": {},
          "execution_count": 20
        }
      ]
    },
    {
      "cell_type": "code",
      "metadata": {
        "id": "slXjm1euq0eH",
        "colab": {
          "base_uri": "https://localhost:8080/"
        },
        "outputId": "a925eaa5-dec1-45d8-f3b0-ef6826e34239"
      },
      "source": [
        "merge_table3.isnull().any()  #เชคค่า Missing พบว่าขึ้นมีขึ้น  True นั่นคือมันมี Missing"
      ],
      "execution_count": 21,
      "outputs": [
        {
          "output_type": "execute_result",
          "data": {
            "text/plain": [
              "no.                                   False\n",
              "Mobile Market Report                  False\n",
              "value_mobile                          False\n",
              "quarter                                True\n",
              "Thailand Internet Users_subscriber     True\n",
              "year                                   True\n",
              "value_subscriber                       True\n",
              "type_population                        True\n",
              "value_population                       True\n",
              "type_household                         True\n",
              "value_household                        True\n",
              "dtype: bool"
            ]
          },
          "metadata": {},
          "execution_count": 21
        }
      ]
    },
    {
      "cell_type": "code",
      "metadata": {
        "id": "NdOgO6v48jtO",
        "colab": {
          "base_uri": "https://localhost:8080/",
          "height": 417
        },
        "outputId": "a6575078-5271-4fb2-dfa2-cb1a9a76ebd1"
      },
      "source": [
        "merge_table3_drop = merge_table3.dropna()  #จัดการกับ Missing ด้วยการ dropna\n",
        "merge_table3_drop"
      ],
      "execution_count": 22,
      "outputs": [
        {
          "output_type": "execute_result",
          "data": {
            "text/html": [
              "<div>\n",
              "<style scoped>\n",
              "    .dataframe tbody tr th:only-of-type {\n",
              "        vertical-align: middle;\n",
              "    }\n",
              "\n",
              "    .dataframe tbody tr th {\n",
              "        vertical-align: top;\n",
              "    }\n",
              "\n",
              "    .dataframe thead th {\n",
              "        text-align: right;\n",
              "    }\n",
              "</style>\n",
              "<table border=\"1\" class=\"dataframe\">\n",
              "  <thead>\n",
              "    <tr style=\"text-align: right;\">\n",
              "      <th></th>\n",
              "      <th>no.</th>\n",
              "      <th>Mobile Market Report</th>\n",
              "      <th>value_mobile</th>\n",
              "      <th>quarter</th>\n",
              "      <th>Thailand Internet Users_subscriber</th>\n",
              "      <th>year</th>\n",
              "      <th>value_subscriber</th>\n",
              "      <th>type_population</th>\n",
              "      <th>value_population</th>\n",
              "      <th>type_household</th>\n",
              "      <th>value_household</th>\n",
              "    </tr>\n",
              "  </thead>\n",
              "  <tbody>\n",
              "    <tr>\n",
              "      <th>0</th>\n",
              "      <td>5</td>\n",
              "      <td>Mobile Subscribers</td>\n",
              "      <td>18763102</td>\n",
              "      <td>1.0</td>\n",
              "      <td>Total Internet subscribers</td>\n",
              "      <td>2004.0</td>\n",
              "      <td>785931.00</td>\n",
              "      <td>per population (%)</td>\n",
              "      <td>0.0005</td>\n",
              "      <td>per household (%)</td>\n",
              "      <td>0.001556</td>\n",
              "    </tr>\n",
              "    <tr>\n",
              "      <th>1</th>\n",
              "      <td>6</td>\n",
              "      <td>Mobile Subscribers</td>\n",
              "      <td>19788956</td>\n",
              "      <td>2.0</td>\n",
              "      <td>Total Internet subscribers</td>\n",
              "      <td>2004.0</td>\n",
              "      <td>914400.00</td>\n",
              "      <td>per population (%)</td>\n",
              "      <td>0.0007</td>\n",
              "      <td>per household (%)</td>\n",
              "      <td>0.002265</td>\n",
              "    </tr>\n",
              "    <tr>\n",
              "      <th>2</th>\n",
              "      <td>7</td>\n",
              "      <td>Mobile Subscribers</td>\n",
              "      <td>20655866</td>\n",
              "      <td>3.0</td>\n",
              "      <td>Total Internet subscribers</td>\n",
              "      <td>2004.0</td>\n",
              "      <td>1091652.00</td>\n",
              "      <td>per population (%)</td>\n",
              "      <td>0.0015</td>\n",
              "      <td>per household (%)</td>\n",
              "      <td>0.004964</td>\n",
              "    </tr>\n",
              "    <tr>\n",
              "      <th>3</th>\n",
              "      <td>8</td>\n",
              "      <td>Mobile Subscribers</td>\n",
              "      <td>21616910</td>\n",
              "      <td>4.0</td>\n",
              "      <td>Total Internet subscribers</td>\n",
              "      <td>2004.0</td>\n",
              "      <td>1231344.00</td>\n",
              "      <td>per population (%)</td>\n",
              "      <td>0.0026</td>\n",
              "      <td>per household (%)</td>\n",
              "      <td>0.008716</td>\n",
              "    </tr>\n",
              "    <tr>\n",
              "      <th>4</th>\n",
              "      <td>9</td>\n",
              "      <td>Mobile Subscribers</td>\n",
              "      <td>23217311</td>\n",
              "      <td>1.0</td>\n",
              "      <td>Total Internet subscribers</td>\n",
              "      <td>2005.0</td>\n",
              "      <td>1197942.00</td>\n",
              "      <td>per population (%)</td>\n",
              "      <td>0.0045</td>\n",
              "      <td>per household (%)</td>\n",
              "      <td>0.015449</td>\n",
              "    </tr>\n",
              "    <tr>\n",
              "      <th>...</th>\n",
              "      <td>...</td>\n",
              "      <td>...</td>\n",
              "      <td>...</td>\n",
              "      <td>...</td>\n",
              "      <td>...</td>\n",
              "      <td>...</td>\n",
              "      <td>...</td>\n",
              "      <td>...</td>\n",
              "      <td>...</td>\n",
              "      <td>...</td>\n",
              "      <td>...</td>\n",
              "    </tr>\n",
              "    <tr>\n",
              "      <th>64</th>\n",
              "      <td>69</td>\n",
              "      <td>Mobile Subscribers</td>\n",
              "      <td>122173569</td>\n",
              "      <td>1.0</td>\n",
              "      <td>Total Internet subscribers</td>\n",
              "      <td>2020.0</td>\n",
              "      <td>10264995.67</td>\n",
              "      <td>per population (%)</td>\n",
              "      <td>0.1510</td>\n",
              "      <td>per household (%)</td>\n",
              "      <td>0.469344</td>\n",
              "    </tr>\n",
              "    <tr>\n",
              "      <th>65</th>\n",
              "      <td>70</td>\n",
              "      <td>Mobile Subscribers</td>\n",
              "      <td>124366678</td>\n",
              "      <td>2.0</td>\n",
              "      <td>Total Internet subscribers</td>\n",
              "      <td>2020.0</td>\n",
              "      <td>10912996.14</td>\n",
              "      <td>per population (%)</td>\n",
              "      <td>0.1605</td>\n",
              "      <td>per household (%)</td>\n",
              "      <td>0.498972</td>\n",
              "    </tr>\n",
              "    <tr>\n",
              "      <th>66</th>\n",
              "      <td>71</td>\n",
              "      <td>Mobile Subscribers</td>\n",
              "      <td>126137528</td>\n",
              "      <td>3.0</td>\n",
              "      <td>Total Internet subscribers</td>\n",
              "      <td>2020.0</td>\n",
              "      <td>11282645.58</td>\n",
              "      <td>per population (%)</td>\n",
              "      <td>0.1659</td>\n",
              "      <td>per household (%)</td>\n",
              "      <td>0.515873</td>\n",
              "    </tr>\n",
              "    <tr>\n",
              "      <th>67</th>\n",
              "      <td>72</td>\n",
              "      <td>Mobile Subscribers</td>\n",
              "      <td>129613743</td>\n",
              "      <td>4.0</td>\n",
              "      <td>Total Internet subscribers</td>\n",
              "      <td>2020.0</td>\n",
              "      <td>11478264.92</td>\n",
              "      <td>per population (%)</td>\n",
              "      <td>0.1685</td>\n",
              "      <td>per household (%)</td>\n",
              "      <td>0.514683</td>\n",
              "    </tr>\n",
              "    <tr>\n",
              "      <th>68</th>\n",
              "      <td>73</td>\n",
              "      <td>Mobile Subscribers</td>\n",
              "      <td>132594791</td>\n",
              "      <td>1.0</td>\n",
              "      <td>Total Internet subscribers</td>\n",
              "      <td>2021.0</td>\n",
              "      <td>11876158.44</td>\n",
              "      <td>per population (%)</td>\n",
              "      <td>0.1740</td>\n",
              "      <td>per household (%)</td>\n",
              "      <td>0.532524</td>\n",
              "    </tr>\n",
              "  </tbody>\n",
              "</table>\n",
              "<p>69 rows × 11 columns</p>\n",
              "</div>"
            ],
            "text/plain": [
              "    no. Mobile Market Report  ...     type_household  value_household\n",
              "0     5   Mobile Subscribers  ...  per household (%)         0.001556\n",
              "1     6   Mobile Subscribers  ...  per household (%)         0.002265\n",
              "2     7   Mobile Subscribers  ...  per household (%)         0.004964\n",
              "3     8   Mobile Subscribers  ...  per household (%)         0.008716\n",
              "4     9   Mobile Subscribers  ...  per household (%)         0.015449\n",
              "..  ...                  ...  ...                ...              ...\n",
              "64   69   Mobile Subscribers  ...  per household (%)         0.469344\n",
              "65   70   Mobile Subscribers  ...  per household (%)         0.498972\n",
              "66   71   Mobile Subscribers  ...  per household (%)         0.515873\n",
              "67   72   Mobile Subscribers  ...  per household (%)         0.514683\n",
              "68   73   Mobile Subscribers  ...  per household (%)         0.532524\n",
              "\n",
              "[69 rows x 11 columns]"
            ]
          },
          "metadata": {},
          "execution_count": 22
        }
      ]
    },
    {
      "cell_type": "code",
      "metadata": {
        "id": "CiiUwxmV8mu3",
        "colab": {
          "base_uri": "https://localhost:8080/"
        },
        "outputId": "38ec6459-5a1d-4f0a-d653-9d7497746232"
      },
      "source": [
        "merge_table3_drop.isnull().any() #เชค missing อีกรอบพบว่าไม่มีแล้ว"
      ],
      "execution_count": 23,
      "outputs": [
        {
          "output_type": "execute_result",
          "data": {
            "text/plain": [
              "no.                                   False\n",
              "Mobile Market Report                  False\n",
              "value_mobile                          False\n",
              "quarter                               False\n",
              "Thailand Internet Users_subscriber    False\n",
              "year                                  False\n",
              "value_subscriber                      False\n",
              "type_population                       False\n",
              "value_population                      False\n",
              "type_household                        False\n",
              "value_household                       False\n",
              "dtype: bool"
            ]
          },
          "metadata": {},
          "execution_count": 23
        }
      ]
    },
    {
      "cell_type": "code",
      "metadata": {
        "id": "_p4Mf11G8pDu",
        "colab": {
          "base_uri": "https://localhost:8080/"
        },
        "outputId": "a91ad18b-48c7-4082-fd07-7e22fd460636"
      },
      "source": [
        "removed = merge_table3.shape[0] - merge_table3_drop.shape[0]  #เชคว่าข้อมูลหายไปกี% จากการ dropna\n",
        "\n",
        "print(f'size before drop = {merge_table3.shape[0]}')\n",
        "print(f'size aftre drop = {merge_table3_drop.shape[0]}')\n",
        "print(f'we loss {100*(removed/merge_table3.shape[0])}% of data')"
      ],
      "execution_count": 24,
      "outputs": [
        {
          "output_type": "stream",
          "name": "stdout",
          "text": [
            "size before drop = 73\n",
            "size aftre drop = 69\n",
            "we loss 5.47945205479452% of data\n"
          ]
        }
      ]
    },
    {
      "cell_type": "markdown",
      "metadata": {
        "id": "s_tvLgOc_sjv"
      },
      "source": [
        "พบว่าจากการ dropna ข้อมูลหาย 5.47945205479452% ซึ่งยอมรับได้"
      ]
    },
    {
      "cell_type": "markdown",
      "metadata": {
        "id": "PcmZtRihWZ_R"
      },
      "source": [
        "####กำหนดค่าในตาราง เพื่อนำข้อมูลในตารางไปใช้ในการ Assosiation "
      ]
    },
    {
      "cell_type": "markdown",
      "metadata": {
        "id": "CRO8wLO-W2Aa"
      },
      "source": [
        "\n",
        "โดยการเพิ่ม column ใหม่ในตาราง merge_table3_drop และ column ที่สร้างใหม่นั้นจะตามหลังด้วย _group โดยการจัดกลุ่มให้ค่าทั้งหมดในแต่ละ column ซึ่งจัดกลุ่มดังนี้\n"
      ]
    },
    {
      "cell_type": "code",
      "metadata": {
        "id": "ZNwEur2Eij-L"
      },
      "source": [
        "from pandas.api.types import CategoricalDtype"
      ],
      "execution_count": 25,
      "outputs": []
    },
    {
      "cell_type": "markdown",
      "metadata": {
        "id": "RBE2sHGnI6iO"
      },
      "source": [
        "##เพิ่ม column ใหม่ในตาราง merge_table3_drop"
      ]
    },
    {
      "cell_type": "code",
      "metadata": {
        "colab": {
          "base_uri": "https://localhost:8080/"
        },
        "id": "9dO5YGH8I54F",
        "outputId": "d3840a3e-5716-4a74-8c6c-c511657b129d"
      },
      "source": [
        "merge_table3_drop.columns"
      ],
      "execution_count": 26,
      "outputs": [
        {
          "output_type": "execute_result",
          "data": {
            "text/plain": [
              "Index(['no.', 'Mobile Market Report', 'value_mobile', 'quarter',\n",
              "       'Thailand Internet Users_subscriber', 'year', 'value_subscriber',\n",
              "       'type_population', 'value_population', 'type_household',\n",
              "       'value_household'],\n",
              "      dtype='object')"
            ]
          },
          "metadata": {},
          "execution_count": 26
        }
      ]
    },
    {
      "cell_type": "markdown",
      "metadata": {
        "id": "wehS-ajPJZ4w"
      },
      "source": [
        "column ชื่อว่า value_subscriber\n",
        "\n",
        "ถ้ามีค่าตั้งแต่ 0 - 2000000 จะให้เป็น low_subscriber\n",
        "\n",
        "ถ้ามีค่าตั้งแต่ 2000000 - 5000000 จะให้เป็น median_subscriber\n",
        "\n",
        "ถ้ามีค่าตั้งแต่ 5000000 - 12000000 จะให้เป็น high_subscriber"
      ]
    },
    {
      "cell_type": "code",
      "metadata": {
        "colab": {
          "base_uri": "https://localhost:8080/"
        },
        "id": "mMcceMZ8MtI4",
        "outputId": "d9f88b0a-9128-4580-ac9d-6eb132ce48df"
      },
      "source": [
        "bucket = ['low','median','high']\n",
        "merge_table3_drop['subscriber_group'] = pd.cut(merge_table3_drop.value_subscriber,\n",
        "                            bins=[0,2000000,5000000,12000000],\n",
        "                            labels=bucket,\n",
        "                            right=False).astype(str).astype(CategoricalDtype(bucket,ordered=True))"
      ],
      "execution_count": 44,
      "outputs": [
        {
          "output_type": "stream",
          "name": "stderr",
          "text": [
            "/usr/local/lib/python3.7/dist-packages/ipykernel_launcher.py:5: SettingWithCopyWarning: \n",
            "A value is trying to be set on a copy of a slice from a DataFrame.\n",
            "Try using .loc[row_indexer,col_indexer] = value instead\n",
            "\n",
            "See the caveats in the documentation: https://pandas.pydata.org/pandas-docs/stable/user_guide/indexing.html#returning-a-view-versus-a-copy\n",
            "  \"\"\"\n"
          ]
        }
      ]
    },
    {
      "cell_type": "markdown",
      "metadata": {
        "id": "CrospW-BJd__"
      },
      "source": [
        "\n",
        "column ชื่อว่า value_household\n",
        "\n",
        "ถ้ามีค่าตั้งแต่ 0 - 0.1 จะให้เป็น low_household\n",
        "\n",
        "ถ้ามีค่าตั้งแต่ 0.1 - 0.3 จะให้เป็น median_household\n",
        "\n",
        "ถ้ามีค่าตั้งแต่ 0.3 - 0.6 จะให้เป็น high_household"
      ]
    },
    {
      "cell_type": "code",
      "metadata": {
        "colab": {
          "base_uri": "https://localhost:8080/"
        },
        "id": "Yg5QNDxFMwp1",
        "outputId": "c65c6ad8-5a12-4e28-909a-811d404ef64e"
      },
      "source": [
        "bucket = ['low','median','high']\n",
        "merge_table3_drop['household_group'] = pd.cut(merge_table3_drop.value_household,\n",
        "                            bins=[0,0.1,0.3,0.6],\n",
        "                            labels=bucket,\n",
        "                            right=False).astype(str).astype(CategoricalDtype(bucket,ordered=True))"
      ],
      "execution_count": 46,
      "outputs": [
        {
          "output_type": "stream",
          "name": "stderr",
          "text": [
            "/usr/local/lib/python3.7/dist-packages/ipykernel_launcher.py:5: SettingWithCopyWarning: \n",
            "A value is trying to be set on a copy of a slice from a DataFrame.\n",
            "Try using .loc[row_indexer,col_indexer] = value instead\n",
            "\n",
            "See the caveats in the documentation: https://pandas.pydata.org/pandas-docs/stable/user_guide/indexing.html#returning-a-view-versus-a-copy\n",
            "  \"\"\"\n"
          ]
        }
      ]
    },
    {
      "cell_type": "markdown",
      "metadata": {
        "id": "i5Su9bkbLTKU"
      },
      "source": [
        "column ชื่อว่า value_population\n",
        "\n",
        "ถ้ามีค่าตั้งแต่ 0 - 0.05 จะให้เป็น low_population\n",
        "\n",
        "ถ้ามีค่าตั้งแต่ 0.05 - 0.10 จะให้เป็น median_population\n",
        "\n",
        "ถ้ามีค่าตั้งแต่ 0.10 - 0.18 จะให้เป็น high_population\n"
      ]
    },
    {
      "cell_type": "code",
      "metadata": {
        "colab": {
          "base_uri": "https://localhost:8080/"
        },
        "id": "Z-74AkgaMzuj",
        "outputId": "abd7bfc9-b5e6-40e3-b834-57eb9169f3b8"
      },
      "source": [
        "bucket = ['low','median','high']\n",
        "merge_table3_drop['population_group'] = pd.cut(merge_table3_drop.value_population,\n",
        "                            bins=[0,0.05,0.10,0.18],\n",
        "                            labels=bucket,\n",
        "                            right=False).astype(str).astype(CategoricalDtype(bucket,ordered=True))"
      ],
      "execution_count": 47,
      "outputs": [
        {
          "output_type": "stream",
          "name": "stderr",
          "text": [
            "/usr/local/lib/python3.7/dist-packages/ipykernel_launcher.py:5: SettingWithCopyWarning: \n",
            "A value is trying to be set on a copy of a slice from a DataFrame.\n",
            "Try using .loc[row_indexer,col_indexer] = value instead\n",
            "\n",
            "See the caveats in the documentation: https://pandas.pydata.org/pandas-docs/stable/user_guide/indexing.html#returning-a-view-versus-a-copy\n",
            "  \"\"\"\n"
          ]
        }
      ]
    },
    {
      "cell_type": "markdown",
      "metadata": {
        "id": "3MT8uSvmJn3s"
      },
      "source": [
        "\n",
        "column ชื่อว่า value_mobile\n",
        "\n",
        "ถ้ามีค่าตั้งแต่ 0 - 2000000 จะให้เป็น low_mobile\n",
        "\n",
        "ถ้ามีค่าตั้งแต่ 2000000 - 5000000 จะให้เป็น median_mobile\n",
        "\n",
        "ถ้ามีค่าตั้งแต่ 5000000 - 12000000 จะให้เป็น high_mobile"
      ]
    },
    {
      "cell_type": "code",
      "metadata": {
        "colab": {
          "base_uri": "https://localhost:8080/"
        },
        "id": "mxuuYhWPM5FX",
        "outputId": "a491a2d5-02a9-4ccb-c965-6dac5554c2f9"
      },
      "source": [
        "bucket = ['low','median','high']\n",
        "merge_table3_drop['mobile_group'] = pd.cut(merge_table3_drop.value_mobile,\n",
        "                            bins=[0,50000000,100000000,140000000],\n",
        "                            labels=bucket,\n",
        "                            right=False).astype(str).astype(CategoricalDtype(bucket,ordered=True))"
      ],
      "execution_count": 48,
      "outputs": [
        {
          "output_type": "stream",
          "name": "stderr",
          "text": [
            "/usr/local/lib/python3.7/dist-packages/ipykernel_launcher.py:5: SettingWithCopyWarning: \n",
            "A value is trying to be set on a copy of a slice from a DataFrame.\n",
            "Try using .loc[row_indexer,col_indexer] = value instead\n",
            "\n",
            "See the caveats in the documentation: https://pandas.pydata.org/pandas-docs/stable/user_guide/indexing.html#returning-a-view-versus-a-copy\n",
            "  \"\"\"\n"
          ]
        }
      ]
    },
    {
      "cell_type": "markdown",
      "metadata": {
        "id": "icQHJgSqJuKQ"
      },
      "source": [
        "ตารางแสดงผลจากการที่เราเพิ่ม column"
      ]
    },
    {
      "cell_type": "code",
      "metadata": {
        "colab": {
          "base_uri": "https://localhost:8080/",
          "height": 638
        },
        "id": "MQhLIkxsJtHs",
        "outputId": "c1631537-7269-44f5-dd70-971279c59576"
      },
      "source": [
        "merge_table3_drop  "
      ],
      "execution_count": 49,
      "outputs": [
        {
          "output_type": "execute_result",
          "data": {
            "text/html": [
              "<div>\n",
              "<style scoped>\n",
              "    .dataframe tbody tr th:only-of-type {\n",
              "        vertical-align: middle;\n",
              "    }\n",
              "\n",
              "    .dataframe tbody tr th {\n",
              "        vertical-align: top;\n",
              "    }\n",
              "\n",
              "    .dataframe thead th {\n",
              "        text-align: right;\n",
              "    }\n",
              "</style>\n",
              "<table border=\"1\" class=\"dataframe\">\n",
              "  <thead>\n",
              "    <tr style=\"text-align: right;\">\n",
              "      <th></th>\n",
              "      <th>no.</th>\n",
              "      <th>Mobile Market Report</th>\n",
              "      <th>value_mobile</th>\n",
              "      <th>quarter</th>\n",
              "      <th>Thailand Internet Users_subscriber</th>\n",
              "      <th>year</th>\n",
              "      <th>value_subscriber</th>\n",
              "      <th>type_population</th>\n",
              "      <th>value_population</th>\n",
              "      <th>type_household</th>\n",
              "      <th>value_household</th>\n",
              "      <th>subscriber_group</th>\n",
              "      <th>household_group</th>\n",
              "      <th>population_group</th>\n",
              "      <th>mobile_group</th>\n",
              "    </tr>\n",
              "  </thead>\n",
              "  <tbody>\n",
              "    <tr>\n",
              "      <th>0</th>\n",
              "      <td>5</td>\n",
              "      <td>Mobile Subscribers</td>\n",
              "      <td>18763102</td>\n",
              "      <td>1.0</td>\n",
              "      <td>Total Internet subscribers</td>\n",
              "      <td>2004.0</td>\n",
              "      <td>785931.00</td>\n",
              "      <td>per population (%)</td>\n",
              "      <td>0.0005</td>\n",
              "      <td>per household (%)</td>\n",
              "      <td>0.001556</td>\n",
              "      <td>low</td>\n",
              "      <td>low</td>\n",
              "      <td>low</td>\n",
              "      <td>low</td>\n",
              "    </tr>\n",
              "    <tr>\n",
              "      <th>1</th>\n",
              "      <td>6</td>\n",
              "      <td>Mobile Subscribers</td>\n",
              "      <td>19788956</td>\n",
              "      <td>2.0</td>\n",
              "      <td>Total Internet subscribers</td>\n",
              "      <td>2004.0</td>\n",
              "      <td>914400.00</td>\n",
              "      <td>per population (%)</td>\n",
              "      <td>0.0007</td>\n",
              "      <td>per household (%)</td>\n",
              "      <td>0.002265</td>\n",
              "      <td>low</td>\n",
              "      <td>low</td>\n",
              "      <td>low</td>\n",
              "      <td>low</td>\n",
              "    </tr>\n",
              "    <tr>\n",
              "      <th>2</th>\n",
              "      <td>7</td>\n",
              "      <td>Mobile Subscribers</td>\n",
              "      <td>20655866</td>\n",
              "      <td>3.0</td>\n",
              "      <td>Total Internet subscribers</td>\n",
              "      <td>2004.0</td>\n",
              "      <td>1091652.00</td>\n",
              "      <td>per population (%)</td>\n",
              "      <td>0.0015</td>\n",
              "      <td>per household (%)</td>\n",
              "      <td>0.004964</td>\n",
              "      <td>low</td>\n",
              "      <td>low</td>\n",
              "      <td>low</td>\n",
              "      <td>low</td>\n",
              "    </tr>\n",
              "    <tr>\n",
              "      <th>3</th>\n",
              "      <td>8</td>\n",
              "      <td>Mobile Subscribers</td>\n",
              "      <td>21616910</td>\n",
              "      <td>4.0</td>\n",
              "      <td>Total Internet subscribers</td>\n",
              "      <td>2004.0</td>\n",
              "      <td>1231344.00</td>\n",
              "      <td>per population (%)</td>\n",
              "      <td>0.0026</td>\n",
              "      <td>per household (%)</td>\n",
              "      <td>0.008716</td>\n",
              "      <td>low</td>\n",
              "      <td>low</td>\n",
              "      <td>low</td>\n",
              "      <td>low</td>\n",
              "    </tr>\n",
              "    <tr>\n",
              "      <th>4</th>\n",
              "      <td>9</td>\n",
              "      <td>Mobile Subscribers</td>\n",
              "      <td>23217311</td>\n",
              "      <td>1.0</td>\n",
              "      <td>Total Internet subscribers</td>\n",
              "      <td>2005.0</td>\n",
              "      <td>1197942.00</td>\n",
              "      <td>per population (%)</td>\n",
              "      <td>0.0045</td>\n",
              "      <td>per household (%)</td>\n",
              "      <td>0.015449</td>\n",
              "      <td>low</td>\n",
              "      <td>low</td>\n",
              "      <td>low</td>\n",
              "      <td>low</td>\n",
              "    </tr>\n",
              "    <tr>\n",
              "      <th>...</th>\n",
              "      <td>...</td>\n",
              "      <td>...</td>\n",
              "      <td>...</td>\n",
              "      <td>...</td>\n",
              "      <td>...</td>\n",
              "      <td>...</td>\n",
              "      <td>...</td>\n",
              "      <td>...</td>\n",
              "      <td>...</td>\n",
              "      <td>...</td>\n",
              "      <td>...</td>\n",
              "      <td>...</td>\n",
              "      <td>...</td>\n",
              "      <td>...</td>\n",
              "      <td>...</td>\n",
              "    </tr>\n",
              "    <tr>\n",
              "      <th>64</th>\n",
              "      <td>69</td>\n",
              "      <td>Mobile Subscribers</td>\n",
              "      <td>122173569</td>\n",
              "      <td>1.0</td>\n",
              "      <td>Total Internet subscribers</td>\n",
              "      <td>2020.0</td>\n",
              "      <td>10264995.67</td>\n",
              "      <td>per population (%)</td>\n",
              "      <td>0.1510</td>\n",
              "      <td>per household (%)</td>\n",
              "      <td>0.469344</td>\n",
              "      <td>high</td>\n",
              "      <td>high</td>\n",
              "      <td>high</td>\n",
              "      <td>high</td>\n",
              "    </tr>\n",
              "    <tr>\n",
              "      <th>65</th>\n",
              "      <td>70</td>\n",
              "      <td>Mobile Subscribers</td>\n",
              "      <td>124366678</td>\n",
              "      <td>2.0</td>\n",
              "      <td>Total Internet subscribers</td>\n",
              "      <td>2020.0</td>\n",
              "      <td>10912996.14</td>\n",
              "      <td>per population (%)</td>\n",
              "      <td>0.1605</td>\n",
              "      <td>per household (%)</td>\n",
              "      <td>0.498972</td>\n",
              "      <td>high</td>\n",
              "      <td>high</td>\n",
              "      <td>high</td>\n",
              "      <td>high</td>\n",
              "    </tr>\n",
              "    <tr>\n",
              "      <th>66</th>\n",
              "      <td>71</td>\n",
              "      <td>Mobile Subscribers</td>\n",
              "      <td>126137528</td>\n",
              "      <td>3.0</td>\n",
              "      <td>Total Internet subscribers</td>\n",
              "      <td>2020.0</td>\n",
              "      <td>11282645.58</td>\n",
              "      <td>per population (%)</td>\n",
              "      <td>0.1659</td>\n",
              "      <td>per household (%)</td>\n",
              "      <td>0.515873</td>\n",
              "      <td>high</td>\n",
              "      <td>high</td>\n",
              "      <td>high</td>\n",
              "      <td>high</td>\n",
              "    </tr>\n",
              "    <tr>\n",
              "      <th>67</th>\n",
              "      <td>72</td>\n",
              "      <td>Mobile Subscribers</td>\n",
              "      <td>129613743</td>\n",
              "      <td>4.0</td>\n",
              "      <td>Total Internet subscribers</td>\n",
              "      <td>2020.0</td>\n",
              "      <td>11478264.92</td>\n",
              "      <td>per population (%)</td>\n",
              "      <td>0.1685</td>\n",
              "      <td>per household (%)</td>\n",
              "      <td>0.514683</td>\n",
              "      <td>high</td>\n",
              "      <td>high</td>\n",
              "      <td>high</td>\n",
              "      <td>high</td>\n",
              "    </tr>\n",
              "    <tr>\n",
              "      <th>68</th>\n",
              "      <td>73</td>\n",
              "      <td>Mobile Subscribers</td>\n",
              "      <td>132594791</td>\n",
              "      <td>1.0</td>\n",
              "      <td>Total Internet subscribers</td>\n",
              "      <td>2021.0</td>\n",
              "      <td>11876158.44</td>\n",
              "      <td>per population (%)</td>\n",
              "      <td>0.1740</td>\n",
              "      <td>per household (%)</td>\n",
              "      <td>0.532524</td>\n",
              "      <td>high</td>\n",
              "      <td>high</td>\n",
              "      <td>high</td>\n",
              "      <td>high</td>\n",
              "    </tr>\n",
              "  </tbody>\n",
              "</table>\n",
              "<p>69 rows × 15 columns</p>\n",
              "</div>"
            ],
            "text/plain": [
              "    no. Mobile Market Report  ...  population_group  mobile_group\n",
              "0     5   Mobile Subscribers  ...               low           low\n",
              "1     6   Mobile Subscribers  ...               low           low\n",
              "2     7   Mobile Subscribers  ...               low           low\n",
              "3     8   Mobile Subscribers  ...               low           low\n",
              "4     9   Mobile Subscribers  ...               low           low\n",
              "..  ...                  ...  ...               ...           ...\n",
              "64   69   Mobile Subscribers  ...              high          high\n",
              "65   70   Mobile Subscribers  ...              high          high\n",
              "66   71   Mobile Subscribers  ...              high          high\n",
              "67   72   Mobile Subscribers  ...              high          high\n",
              "68   73   Mobile Subscribers  ...              high          high\n",
              "\n",
              "[69 rows x 15 columns]"
            ]
          },
          "metadata": {},
          "execution_count": 49
        }
      ]
    },
    {
      "cell_type": "markdown",
      "metadata": {
        "id": "eMc69VTXJzIk"
      },
      "source": [
        "ตัดตารางให้เหลือแต่กลุ่มของ column ที่ต้องการใช้"
      ]
    },
    {
      "cell_type": "code",
      "metadata": {
        "colab": {
          "base_uri": "https://localhost:8080/"
        },
        "id": "YGdpy3j8J1Eo",
        "outputId": "30e83e42-d012-4a55-9182-a27b95b01db5"
      },
      "source": [
        "merge_table3_drop.columns"
      ],
      "execution_count": 50,
      "outputs": [
        {
          "output_type": "execute_result",
          "data": {
            "text/plain": [
              "Index(['no.', 'Mobile Market Report', 'value_mobile', 'quarter',\n",
              "       'Thailand Internet Users_subscriber', 'year', 'value_subscriber',\n",
              "       'type_population', 'value_population', 'type_household',\n",
              "       'value_household', 'subscriber_group', 'household_group',\n",
              "       'population_group', 'mobile_group'],\n",
              "      dtype='object')"
            ]
          },
          "metadata": {},
          "execution_count": 50
        }
      ]
    },
    {
      "cell_type": "code",
      "metadata": {
        "colab": {
          "base_uri": "https://localhost:8080/",
          "height": 417
        },
        "id": "XNRO5zlKNAwi",
        "outputId": "85911ccd-f58a-498a-f412-ba033e41f69c"
      },
      "source": [
        "data_cut = merge_table3_drop[['subscriber_group', 'household_group', 'population_group', 'mobile_group']]\n",
        "data_cut"
      ],
      "execution_count": 51,
      "outputs": [
        {
          "output_type": "execute_result",
          "data": {
            "text/html": [
              "<div>\n",
              "<style scoped>\n",
              "    .dataframe tbody tr th:only-of-type {\n",
              "        vertical-align: middle;\n",
              "    }\n",
              "\n",
              "    .dataframe tbody tr th {\n",
              "        vertical-align: top;\n",
              "    }\n",
              "\n",
              "    .dataframe thead th {\n",
              "        text-align: right;\n",
              "    }\n",
              "</style>\n",
              "<table border=\"1\" class=\"dataframe\">\n",
              "  <thead>\n",
              "    <tr style=\"text-align: right;\">\n",
              "      <th></th>\n",
              "      <th>subscriber_group</th>\n",
              "      <th>household_group</th>\n",
              "      <th>population_group</th>\n",
              "      <th>mobile_group</th>\n",
              "    </tr>\n",
              "  </thead>\n",
              "  <tbody>\n",
              "    <tr>\n",
              "      <th>0</th>\n",
              "      <td>low</td>\n",
              "      <td>low</td>\n",
              "      <td>low</td>\n",
              "      <td>low</td>\n",
              "    </tr>\n",
              "    <tr>\n",
              "      <th>1</th>\n",
              "      <td>low</td>\n",
              "      <td>low</td>\n",
              "      <td>low</td>\n",
              "      <td>low</td>\n",
              "    </tr>\n",
              "    <tr>\n",
              "      <th>2</th>\n",
              "      <td>low</td>\n",
              "      <td>low</td>\n",
              "      <td>low</td>\n",
              "      <td>low</td>\n",
              "    </tr>\n",
              "    <tr>\n",
              "      <th>3</th>\n",
              "      <td>low</td>\n",
              "      <td>low</td>\n",
              "      <td>low</td>\n",
              "      <td>low</td>\n",
              "    </tr>\n",
              "    <tr>\n",
              "      <th>4</th>\n",
              "      <td>low</td>\n",
              "      <td>low</td>\n",
              "      <td>low</td>\n",
              "      <td>low</td>\n",
              "    </tr>\n",
              "    <tr>\n",
              "      <th>...</th>\n",
              "      <td>...</td>\n",
              "      <td>...</td>\n",
              "      <td>...</td>\n",
              "      <td>...</td>\n",
              "    </tr>\n",
              "    <tr>\n",
              "      <th>64</th>\n",
              "      <td>high</td>\n",
              "      <td>high</td>\n",
              "      <td>high</td>\n",
              "      <td>high</td>\n",
              "    </tr>\n",
              "    <tr>\n",
              "      <th>65</th>\n",
              "      <td>high</td>\n",
              "      <td>high</td>\n",
              "      <td>high</td>\n",
              "      <td>high</td>\n",
              "    </tr>\n",
              "    <tr>\n",
              "      <th>66</th>\n",
              "      <td>high</td>\n",
              "      <td>high</td>\n",
              "      <td>high</td>\n",
              "      <td>high</td>\n",
              "    </tr>\n",
              "    <tr>\n",
              "      <th>67</th>\n",
              "      <td>high</td>\n",
              "      <td>high</td>\n",
              "      <td>high</td>\n",
              "      <td>high</td>\n",
              "    </tr>\n",
              "    <tr>\n",
              "      <th>68</th>\n",
              "      <td>high</td>\n",
              "      <td>high</td>\n",
              "      <td>high</td>\n",
              "      <td>high</td>\n",
              "    </tr>\n",
              "  </tbody>\n",
              "</table>\n",
              "<p>69 rows × 4 columns</p>\n",
              "</div>"
            ],
            "text/plain": [
              "   subscriber_group household_group population_group mobile_group\n",
              "0               low             low              low          low\n",
              "1               low             low              low          low\n",
              "2               low             low              low          low\n",
              "3               low             low              low          low\n",
              "4               low             low              low          low\n",
              "..              ...             ...              ...          ...\n",
              "64             high            high             high         high\n",
              "65             high            high             high         high\n",
              "66             high            high             high         high\n",
              "67             high            high             high         high\n",
              "68             high            high             high         high\n",
              "\n",
              "[69 rows x 4 columns]"
            ]
          },
          "metadata": {},
          "execution_count": 51
        }
      ]
    },
    {
      "cell_type": "code",
      "metadata": {
        "colab": {
          "base_uri": "https://localhost:8080/"
        },
        "id": "nQ5OfMBYOQj6",
        "outputId": "d408fef6-afca-4081-ef2f-d4eda5905ff6"
      },
      "source": [
        "data_cut.shape"
      ],
      "execution_count": 52,
      "outputs": [
        {
          "output_type": "execute_result",
          "data": {
            "text/plain": [
              "(69, 4)"
            ]
          },
          "metadata": {},
          "execution_count": 52
        }
      ]
    },
    {
      "cell_type": "markdown",
      "metadata": {
        "id": "sqbDHiE3PRoQ"
      },
      "source": [
        "##Assosiation ตาราง data_cut"
      ]
    },
    {
      "cell_type": "markdown",
      "metadata": {
        "id": "kv_c1Zg0Pywh"
      },
      "source": [
        "Transection คือ ข้อมูล Internet ความเร็วสูง\n",
        "\n",
        "item คือ ระดับ low median high \n",
        "\n",
        "ค่าสนับสนุน (Support) คือ เปอร์เซ็นต์ของจำนวน Item sets ทั้งหมดที่เกิดขึ้นในฐานข้อมูล\n",
        "\n",
        "ค่าความเชื่อมั่น (Confidence) คือ เปอร์เซ็นต์ของจำนวน Item sets ทั้งหมดที่เกิดขึ้นในฐานข้อมูลต่อจำนวน Item sets ที่เกิดขึ้น\n",
        "\n",
        "ค่าสหสัมพันธ์ (Lift) คือค่าที่บ่งบอกว่ากฎมีความสัมพันธ์กัน หรือไม่ โดยถ้าLift มีค่ามากกว่า 1 แสดงว่ากฎทั้งสองมีความสัมพันธ์กัน แต่ถ้ามีค่าน้อยกว่า 1 แสดงว่า กฎไม่ความสัมพันธ์กัน"
      ]
    },
    {
      "cell_type": "code",
      "metadata": {
        "id": "Mbhas_1aSMKR"
      },
      "source": [
        "transactions = data_cut"
      ],
      "execution_count": 53,
      "outputs": []
    },
    {
      "cell_type": "markdown",
      "metadata": {
        "id": "us7vRFKlSR0g"
      },
      "source": [
        "####Apriori\n",
        "จะไปหาละก็คำนวณ Support ให้เรา\n",
        "\n",
        "http://zaxrosenberg.com/unofficial-apyori-documentation/"
      ]
    },
    {
      "cell_type": "code",
      "metadata": {
        "colab": {
          "base_uri": "https://localhost:8080/"
        },
        "id": "RSPmw7V8SVew",
        "outputId": "d6610ccb-aee4-4dbd-a0db-7d997d40d367"
      },
      "source": [
        "!pip install apyori"
      ],
      "execution_count": 54,
      "outputs": [
        {
          "output_type": "stream",
          "name": "stdout",
          "text": [
            "Requirement already satisfied: apyori in /usr/local/lib/python3.7/dist-packages (1.1.2)\n"
          ]
        }
      ]
    },
    {
      "cell_type": "code",
      "metadata": {
        "id": "7_EbQq4pSc1A"
      },
      "source": [
        "from apyori import apriori"
      ],
      "execution_count": 55,
      "outputs": []
    },
    {
      "cell_type": "code",
      "metadata": {
        "id": "Jw5Rv3xjb9vL"
      },
      "source": [
        "#Convert data to list \n",
        "transacs = []#คือกำหนด transacs ให้เป็น listว่าง\n",
        "for i in range(0,len(data_cut)):\n",
        "  transacs.append([str(data_cut.values[i,j]) for j in range(0,4)]) "
      ],
      "execution_count": 56,
      "outputs": []
    },
    {
      "cell_type": "code",
      "metadata": {
        "id": "Pe2L_2lbcUwt",
        "colab": {
          "base_uri": "https://localhost:8080/"
        },
        "outputId": "9d159e8d-4bcb-4bb5-e0dd-ec1ad0c361a7"
      },
      "source": [
        "Association = list(apriori(transacs,min_support = 0.40, min_cofidence = 0.50))\n",
        "Association"
      ],
      "execution_count": 57,
      "outputs": [
        {
          "output_type": "execute_result",
          "data": {
            "text/plain": [
              "[RelationRecord(items=frozenset({'high'}), support=0.42028985507246375, ordered_statistics=[OrderedStatistic(items_base=frozenset(), items_add=frozenset({'high'}), confidence=0.42028985507246375, lift=1.0)]),\n",
              " RelationRecord(items=frozenset({'low'}), support=0.4057971014492754, ordered_statistics=[OrderedStatistic(items_base=frozenset(), items_add=frozenset({'low'}), confidence=0.4057971014492754, lift=1.0)]),\n",
              " RelationRecord(items=frozenset({'median'}), support=0.4782608695652174, ordered_statistics=[OrderedStatistic(items_base=frozenset(), items_add=frozenset({'median'}), confidence=0.4782608695652174, lift=1.0)])]"
            ]
          },
          "metadata": {},
          "execution_count": 57
        }
      ]
    },
    {
      "cell_type": "markdown",
      "metadata": {
        "id": "t1alBDqFdAfF"
      },
      "source": [
        "#สรุปผล"
      ]
    },
    {
      "cell_type": "markdown",
      "metadata": {
        "id": "ZdnpkDHzdDtU"
      },
      "source": [
        ""
      ]
    },
    {
      "cell_type": "markdown",
      "metadata": {
        "id": "_-TVrr9mdExw"
      },
      "source": [
        "#Visualization"
      ]
    },
    {
      "cell_type": "code",
      "metadata": {
        "id": "o2DUwlsQ5IBD"
      },
      "source": [
        "from sklearn.tree import DecisionTreeClassifier\n",
        "from sklearn.model_selection import train_test_split"
      ],
      "execution_count": 58,
      "outputs": []
    },
    {
      "cell_type": "code",
      "metadata": {
        "id": "rQL6xOIheFEU"
      },
      "source": [
        "from matplotlib import pyplot as plt"
      ],
      "execution_count": 59,
      "outputs": []
    },
    {
      "cell_type": "markdown",
      "metadata": {
        "id": "KL3LcWdZ4PKT"
      },
      "source": [
        "ใช้ map ในการเปลี่ยนข้อมูล โดยให้ \n",
        "\n",
        "\n",
        "*   low = 0\n",
        "*   median = 1\n",
        "*   high = 2\n",
        "\n",
        "\n",
        "\n",
        "\n"
      ]
    },
    {
      "cell_type": "code",
      "metadata": {
        "id": "MYCATs855OUs",
        "outputId": "f8ea0844-2e00-4b8a-afac-a09967c408c0",
        "colab": {
          "base_uri": "https://localhost:8080/"
        }
      },
      "source": [
        "X = data_cut.values\n",
        "X "
      ],
      "execution_count": 60,
      "outputs": [
        {
          "output_type": "execute_result",
          "data": {
            "text/plain": [
              "array([['low', 'low', 'low', 'low'],\n",
              "       ['low', 'low', 'low', 'low'],\n",
              "       ['low', 'low', 'low', 'low'],\n",
              "       ['low', 'low', 'low', 'low'],\n",
              "       ['low', 'low', 'low', 'low'],\n",
              "       ['low', 'low', 'low', 'low'],\n",
              "       ['low', 'low', 'low', 'low'],\n",
              "       ['low', 'low', 'low', 'low'],\n",
              "       ['low', 'low', 'low', 'low'],\n",
              "       ['low', 'low', 'low', 'low'],\n",
              "       ['low', 'low', 'low', 'low'],\n",
              "       ['low', 'low', 'low', 'low'],\n",
              "       ['low', 'low', 'low', 'low'],\n",
              "       ['low', 'low', 'low', 'low'],\n",
              "       ['low', 'low', 'low', 'low'],\n",
              "       ['low', 'low', 'low', 'low'],\n",
              "       ['median', 'low', 'low', 'low'],\n",
              "       ['median', 'low', 'low', 'low'],\n",
              "       ['median', 'median', 'low', 'median'],\n",
              "       ['median', 'median', 'low', 'median'],\n",
              "       ['median', 'median', 'low', 'median'],\n",
              "       ['median', 'median', 'low', 'median'],\n",
              "       ['median', 'median', 'low', 'median'],\n",
              "       ['median', 'median', 'low', 'median'],\n",
              "       ['median', 'median', 'low', 'median'],\n",
              "       ['median', 'median', 'low', 'median'],\n",
              "       ['median', 'median', 'low', 'median'],\n",
              "       ['median', 'median', 'low', 'median'],\n",
              "       ['median', 'median', 'median', 'median'],\n",
              "       ['median', 'median', 'median', 'median'],\n",
              "       ['median', 'median', 'median', 'median'],\n",
              "       ['median', 'median', 'median', 'median'],\n",
              "       ['median', 'median', 'median', 'median'],\n",
              "       ['median', 'median', 'median', 'median'],\n",
              "       ['median', 'median', 'median', 'median'],\n",
              "       ['median', 'median', 'median', 'median'],\n",
              "       ['median', 'median', 'median', 'median'],\n",
              "       ['median', 'median', 'median', 'median'],\n",
              "       ['median', 'median', 'median', 'median'],\n",
              "       ['median', 'median', 'median', 'median'],\n",
              "       ['high', 'median', 'median', 'median'],\n",
              "       ['high', 'median', 'median', 'median'],\n",
              "       ['high', 'median', 'median', 'median'],\n",
              "       ['high', 'median', 'median', 'median'],\n",
              "       ['high', 'median', 'median', 'median'],\n",
              "       ['high', 'median', 'median', 'median'],\n",
              "       ['high', 'median', 'median', 'median'],\n",
              "       ['high', 'median', 'median', 'median'],\n",
              "       ['high', 'high', 'median', 'median'],\n",
              "       ['high', 'high', 'high', 'high'],\n",
              "       ['high', 'high', 'high', 'high'],\n",
              "       ['high', 'high', 'high', 'high'],\n",
              "       ['high', 'high', 'high', 'high'],\n",
              "       ['high', 'high', 'high', 'high'],\n",
              "       ['high', 'high', 'high', 'high'],\n",
              "       ['high', 'high', 'high', 'high'],\n",
              "       ['high', 'high', 'high', 'high'],\n",
              "       ['high', 'high', 'high', 'high'],\n",
              "       ['high', 'high', 'high', 'high'],\n",
              "       ['high', 'high', 'high', 'high'],\n",
              "       ['high', 'high', 'high', 'high'],\n",
              "       ['high', 'high', 'high', 'high'],\n",
              "       ['high', 'high', 'high', 'high'],\n",
              "       ['high', 'high', 'high', 'high'],\n",
              "       ['high', 'high', 'high', 'high'],\n",
              "       ['high', 'high', 'high', 'high'],\n",
              "       ['high', 'high', 'high', 'high'],\n",
              "       ['high', 'high', 'high', 'high'],\n",
              "       ['high', 'high', 'high', 'high']], dtype=object)"
            ]
          },
          "metadata": {},
          "execution_count": 60
        }
      ]
    },
    {
      "cell_type": "code",
      "metadata": {
        "id": "-15I7Jme6osq",
        "outputId": "d88a74c7-2c30-4993-dea9-927a88584a3e",
        "colab": {
          "base_uri": "https://localhost:8080/"
        }
      },
      "source": [
        "data_cut.columns"
      ],
      "execution_count": 61,
      "outputs": [
        {
          "output_type": "execute_result",
          "data": {
            "text/plain": [
              "Index(['subscriber_group', 'household_group', 'population_group',\n",
              "       'mobile_group'],\n",
              "      dtype='object')"
            ]
          },
          "metadata": {},
          "execution_count": 61
        }
      ]
    },
    {
      "cell_type": "code",
      "metadata": {
        "id": "jeP1rjJE6rAK",
        "outputId": "c7656be5-0f05-4c53-b17e-5cd22dff5c07",
        "colab": {
          "base_uri": "https://localhost:8080/",
          "height": 820
        }
      },
      "source": [
        "data_cut['subscriber_group'] = data_cut['subscriber_group'].map({'low':0,'median':1,'high':2})\n",
        "data_cut['household_group'] = data_cut['household_group'].map({'low':0,'median':1,'high':2})\n",
        "data_cut['population_group'] = data_cut['population_group'].map({'low':0,'median':1,'high':2})\n",
        "data_cut['mobile_group'] = data_cut['mobile_group'].map({'low':0,'median':1,'high':2})\n",
        "data_cut"
      ],
      "execution_count": 62,
      "outputs": [
        {
          "output_type": "stream",
          "name": "stderr",
          "text": [
            "/usr/local/lib/python3.7/dist-packages/ipykernel_launcher.py:1: SettingWithCopyWarning: \n",
            "A value is trying to be set on a copy of a slice from a DataFrame.\n",
            "Try using .loc[row_indexer,col_indexer] = value instead\n",
            "\n",
            "See the caveats in the documentation: https://pandas.pydata.org/pandas-docs/stable/user_guide/indexing.html#returning-a-view-versus-a-copy\n",
            "  \"\"\"Entry point for launching an IPython kernel.\n",
            "/usr/local/lib/python3.7/dist-packages/ipykernel_launcher.py:2: SettingWithCopyWarning: \n",
            "A value is trying to be set on a copy of a slice from a DataFrame.\n",
            "Try using .loc[row_indexer,col_indexer] = value instead\n",
            "\n",
            "See the caveats in the documentation: https://pandas.pydata.org/pandas-docs/stable/user_guide/indexing.html#returning-a-view-versus-a-copy\n",
            "  \n",
            "/usr/local/lib/python3.7/dist-packages/ipykernel_launcher.py:3: SettingWithCopyWarning: \n",
            "A value is trying to be set on a copy of a slice from a DataFrame.\n",
            "Try using .loc[row_indexer,col_indexer] = value instead\n",
            "\n",
            "See the caveats in the documentation: https://pandas.pydata.org/pandas-docs/stable/user_guide/indexing.html#returning-a-view-versus-a-copy\n",
            "  This is separate from the ipykernel package so we can avoid doing imports until\n",
            "/usr/local/lib/python3.7/dist-packages/ipykernel_launcher.py:4: SettingWithCopyWarning: \n",
            "A value is trying to be set on a copy of a slice from a DataFrame.\n",
            "Try using .loc[row_indexer,col_indexer] = value instead\n",
            "\n",
            "See the caveats in the documentation: https://pandas.pydata.org/pandas-docs/stable/user_guide/indexing.html#returning-a-view-versus-a-copy\n",
            "  after removing the cwd from sys.path.\n"
          ]
        },
        {
          "output_type": "execute_result",
          "data": {
            "text/html": [
              "<div>\n",
              "<style scoped>\n",
              "    .dataframe tbody tr th:only-of-type {\n",
              "        vertical-align: middle;\n",
              "    }\n",
              "\n",
              "    .dataframe tbody tr th {\n",
              "        vertical-align: top;\n",
              "    }\n",
              "\n",
              "    .dataframe thead th {\n",
              "        text-align: right;\n",
              "    }\n",
              "</style>\n",
              "<table border=\"1\" class=\"dataframe\">\n",
              "  <thead>\n",
              "    <tr style=\"text-align: right;\">\n",
              "      <th></th>\n",
              "      <th>subscriber_group</th>\n",
              "      <th>household_group</th>\n",
              "      <th>population_group</th>\n",
              "      <th>mobile_group</th>\n",
              "    </tr>\n",
              "  </thead>\n",
              "  <tbody>\n",
              "    <tr>\n",
              "      <th>0</th>\n",
              "      <td>0</td>\n",
              "      <td>0</td>\n",
              "      <td>0</td>\n",
              "      <td>0</td>\n",
              "    </tr>\n",
              "    <tr>\n",
              "      <th>1</th>\n",
              "      <td>0</td>\n",
              "      <td>0</td>\n",
              "      <td>0</td>\n",
              "      <td>0</td>\n",
              "    </tr>\n",
              "    <tr>\n",
              "      <th>2</th>\n",
              "      <td>0</td>\n",
              "      <td>0</td>\n",
              "      <td>0</td>\n",
              "      <td>0</td>\n",
              "    </tr>\n",
              "    <tr>\n",
              "      <th>3</th>\n",
              "      <td>0</td>\n",
              "      <td>0</td>\n",
              "      <td>0</td>\n",
              "      <td>0</td>\n",
              "    </tr>\n",
              "    <tr>\n",
              "      <th>4</th>\n",
              "      <td>0</td>\n",
              "      <td>0</td>\n",
              "      <td>0</td>\n",
              "      <td>0</td>\n",
              "    </tr>\n",
              "    <tr>\n",
              "      <th>...</th>\n",
              "      <td>...</td>\n",
              "      <td>...</td>\n",
              "      <td>...</td>\n",
              "      <td>...</td>\n",
              "    </tr>\n",
              "    <tr>\n",
              "      <th>64</th>\n",
              "      <td>2</td>\n",
              "      <td>2</td>\n",
              "      <td>2</td>\n",
              "      <td>2</td>\n",
              "    </tr>\n",
              "    <tr>\n",
              "      <th>65</th>\n",
              "      <td>2</td>\n",
              "      <td>2</td>\n",
              "      <td>2</td>\n",
              "      <td>2</td>\n",
              "    </tr>\n",
              "    <tr>\n",
              "      <th>66</th>\n",
              "      <td>2</td>\n",
              "      <td>2</td>\n",
              "      <td>2</td>\n",
              "      <td>2</td>\n",
              "    </tr>\n",
              "    <tr>\n",
              "      <th>67</th>\n",
              "      <td>2</td>\n",
              "      <td>2</td>\n",
              "      <td>2</td>\n",
              "      <td>2</td>\n",
              "    </tr>\n",
              "    <tr>\n",
              "      <th>68</th>\n",
              "      <td>2</td>\n",
              "      <td>2</td>\n",
              "      <td>2</td>\n",
              "      <td>2</td>\n",
              "    </tr>\n",
              "  </tbody>\n",
              "</table>\n",
              "<p>69 rows × 4 columns</p>\n",
              "</div>"
            ],
            "text/plain": [
              "   subscriber_group household_group population_group mobile_group\n",
              "0                 0               0                0            0\n",
              "1                 0               0                0            0\n",
              "2                 0               0                0            0\n",
              "3                 0               0                0            0\n",
              "4                 0               0                0            0\n",
              "..              ...             ...              ...          ...\n",
              "64                2               2                2            2\n",
              "65                2               2                2            2\n",
              "66                2               2                2            2\n",
              "67                2               2                2            2\n",
              "68                2               2                2            2\n",
              "\n",
              "[69 rows x 4 columns]"
            ]
          },
          "metadata": {},
          "execution_count": 62
        }
      ]
    },
    {
      "cell_type": "code",
      "metadata": {
        "id": "Giooqsy8CPpC",
        "outputId": "9d9126de-25a5-4461-c951-6e5a14ba9b47",
        "colab": {
          "base_uri": "https://localhost:8080/"
        }
      },
      "source": [
        "list(range(len(data_cut)))"
      ],
      "execution_count": 67,
      "outputs": [
        {
          "output_type": "execute_result",
          "data": {
            "text/plain": [
              "[0,\n",
              " 1,\n",
              " 2,\n",
              " 3,\n",
              " 4,\n",
              " 5,\n",
              " 6,\n",
              " 7,\n",
              " 8,\n",
              " 9,\n",
              " 10,\n",
              " 11,\n",
              " 12,\n",
              " 13,\n",
              " 14,\n",
              " 15,\n",
              " 16,\n",
              " 17,\n",
              " 18,\n",
              " 19,\n",
              " 20,\n",
              " 21,\n",
              " 22,\n",
              " 23,\n",
              " 24,\n",
              " 25,\n",
              " 26,\n",
              " 27,\n",
              " 28,\n",
              " 29,\n",
              " 30,\n",
              " 31,\n",
              " 32,\n",
              " 33,\n",
              " 34,\n",
              " 35,\n",
              " 36,\n",
              " 37,\n",
              " 38,\n",
              " 39,\n",
              " 40,\n",
              " 41,\n",
              " 42,\n",
              " 43,\n",
              " 44,\n",
              " 45,\n",
              " 46,\n",
              " 47,\n",
              " 48,\n",
              " 49,\n",
              " 50,\n",
              " 51,\n",
              " 52,\n",
              " 53,\n",
              " 54,\n",
              " 55,\n",
              " 56,\n",
              " 57,\n",
              " 58,\n",
              " 59,\n",
              " 60,\n",
              " 61,\n",
              " 62,\n",
              " 63,\n",
              " 64,\n",
              " 65,\n",
              " 66,\n",
              " 67,\n",
              " 68]"
            ]
          },
          "metadata": {},
          "execution_count": 67
        }
      ]
    },
    {
      "cell_type": "code",
      "metadata": {
        "id": "3_Pt9qpyCfUu",
        "outputId": "11ee60f7-d79f-4d90-d16b-706257681290",
        "colab": {
          "base_uri": "https://localhost:8080/",
          "height": 417
        }
      },
      "source": [
        "data_cut"
      ],
      "execution_count": 68,
      "outputs": [
        {
          "output_type": "execute_result",
          "data": {
            "text/html": [
              "<div>\n",
              "<style scoped>\n",
              "    .dataframe tbody tr th:only-of-type {\n",
              "        vertical-align: middle;\n",
              "    }\n",
              "\n",
              "    .dataframe tbody tr th {\n",
              "        vertical-align: top;\n",
              "    }\n",
              "\n",
              "    .dataframe thead th {\n",
              "        text-align: right;\n",
              "    }\n",
              "</style>\n",
              "<table border=\"1\" class=\"dataframe\">\n",
              "  <thead>\n",
              "    <tr style=\"text-align: right;\">\n",
              "      <th></th>\n",
              "      <th>subscriber_group</th>\n",
              "      <th>household_group</th>\n",
              "      <th>population_group</th>\n",
              "      <th>mobile_group</th>\n",
              "    </tr>\n",
              "  </thead>\n",
              "  <tbody>\n",
              "    <tr>\n",
              "      <th>0</th>\n",
              "      <td>0</td>\n",
              "      <td>0</td>\n",
              "      <td>0</td>\n",
              "      <td>0</td>\n",
              "    </tr>\n",
              "    <tr>\n",
              "      <th>1</th>\n",
              "      <td>0</td>\n",
              "      <td>0</td>\n",
              "      <td>0</td>\n",
              "      <td>0</td>\n",
              "    </tr>\n",
              "    <tr>\n",
              "      <th>2</th>\n",
              "      <td>0</td>\n",
              "      <td>0</td>\n",
              "      <td>0</td>\n",
              "      <td>0</td>\n",
              "    </tr>\n",
              "    <tr>\n",
              "      <th>3</th>\n",
              "      <td>0</td>\n",
              "      <td>0</td>\n",
              "      <td>0</td>\n",
              "      <td>0</td>\n",
              "    </tr>\n",
              "    <tr>\n",
              "      <th>4</th>\n",
              "      <td>0</td>\n",
              "      <td>0</td>\n",
              "      <td>0</td>\n",
              "      <td>0</td>\n",
              "    </tr>\n",
              "    <tr>\n",
              "      <th>...</th>\n",
              "      <td>...</td>\n",
              "      <td>...</td>\n",
              "      <td>...</td>\n",
              "      <td>...</td>\n",
              "    </tr>\n",
              "    <tr>\n",
              "      <th>64</th>\n",
              "      <td>2</td>\n",
              "      <td>2</td>\n",
              "      <td>2</td>\n",
              "      <td>2</td>\n",
              "    </tr>\n",
              "    <tr>\n",
              "      <th>65</th>\n",
              "      <td>2</td>\n",
              "      <td>2</td>\n",
              "      <td>2</td>\n",
              "      <td>2</td>\n",
              "    </tr>\n",
              "    <tr>\n",
              "      <th>66</th>\n",
              "      <td>2</td>\n",
              "      <td>2</td>\n",
              "      <td>2</td>\n",
              "      <td>2</td>\n",
              "    </tr>\n",
              "    <tr>\n",
              "      <th>67</th>\n",
              "      <td>2</td>\n",
              "      <td>2</td>\n",
              "      <td>2</td>\n",
              "      <td>2</td>\n",
              "    </tr>\n",
              "    <tr>\n",
              "      <th>68</th>\n",
              "      <td>2</td>\n",
              "      <td>2</td>\n",
              "      <td>2</td>\n",
              "      <td>2</td>\n",
              "    </tr>\n",
              "  </tbody>\n",
              "</table>\n",
              "<p>69 rows × 4 columns</p>\n",
              "</div>"
            ],
            "text/plain": [
              "   subscriber_group household_group population_group mobile_group\n",
              "0                 0               0                0            0\n",
              "1                 0               0                0            0\n",
              "2                 0               0                0            0\n",
              "3                 0               0                0            0\n",
              "4                 0               0                0            0\n",
              "..              ...             ...              ...          ...\n",
              "64                2               2                2            2\n",
              "65                2               2                2            2\n",
              "66                2               2                2            2\n",
              "67                2               2                2            2\n",
              "68                2               2                2            2\n",
              "\n",
              "[69 rows x 4 columns]"
            ]
          },
          "metadata": {},
          "execution_count": 68
        }
      ]
    },
    {
      "cell_type": "code",
      "metadata": {
        "id": "67Q-0TmdCkUW",
        "outputId": "24b94b6e-e7d7-4b42-d0dc-5b0b5f093763",
        "colab": {
          "base_uri": "https://localhost:8080/",
          "height": 282
        }
      },
      "source": [
        "plt.scatter(range(len(data_cut)),data_cut['household_group']) "
      ],
      "execution_count": 82,
      "outputs": [
        {
          "output_type": "execute_result",
          "data": {
            "text/plain": [
              "<matplotlib.collections.PathCollection at 0x7f5b33e1aad0>"
            ]
          },
          "metadata": {},
          "execution_count": 82
        },
        {
          "output_type": "display_data",
          "data": {
            "image/png": "[encoded data removed]",
            "text/plain": [
              "<Figure size 432x288 with 1 Axes>"
            ]
          },
          "metadata": {
            "needs_background": "light"
          }
        }
      ]
    },
    {
      "cell_type": "code",
      "metadata": {
        "id": "21KbDrrIDgDG",
        "outputId": "c54ebf3d-0872-4cb3-fac5-5c153c88046a",
        "colab": {
          "base_uri": "https://localhost:8080/",
          "height": 282
        }
      },
      "source": [
        "plt.scatter(data_cut['mobile_group'],data_cut['population_group'])"
      ],
      "execution_count": 78,
      "outputs": [
        {
          "output_type": "execute_result",
          "data": {
            "text/plain": [
              "<matplotlib.collections.PathCollection at 0x7f5b33ef06d0>"
            ]
          },
          "metadata": {},
          "execution_count": 78
        },
        {
          "output_type": "display_data",
          "data": {
            "image/png": "[encoded data removed]",
            "text/plain": [
              "<Figure size 432x288 with 1 Axes>"
            ]
          },
          "metadata": {
            "needs_background": "light"
          }
        }
      ]
    },
    {
      "cell_type": "code",
      "metadata": {
        "id": "m-M4il4XF3Vt",
        "outputId": "a50c3968-9e5a-48fb-898e-51f4cd2ec05f",
        "colab": {
          "base_uri": "https://localhost:8080/",
          "height": 607
        }
      },
      "source": [
        "X = data_cut\n",
        "Y = [0,1,2,3,4,5]\n",
        "plt.scatter(X,Y)\n",
        "plt.show()"
      ],
      "execution_count": 88,
      "outputs": [
        {
          "output_type": "error",
          "ename": "ValueError",
          "evalue": "ignored",
          "traceback": [
            "\u001b[0;31m---------------------------------------------------------------------------\u001b[0m",
            "\u001b[0;31mValueError\u001b[0m                                Traceback (most recent call last)",
            "\u001b[0;32m<ipython-input-88-4082fe85cf57>\u001b[0m in \u001b[0;36m<module>\u001b[0;34m()\u001b[0m\n\u001b[1;32m      1\u001b[0m \u001b[0mX\u001b[0m \u001b[0;34m=\u001b[0m \u001b[0mdata_cut\u001b[0m\u001b[0;34m\u001b[0m\u001b[0;34m\u001b[0m\u001b[0m\n\u001b[1;32m      2\u001b[0m \u001b[0mY\u001b[0m \u001b[0;34m=\u001b[0m \u001b[0;34m[\u001b[0m\u001b[0;36m0\u001b[0m\u001b[0;34m,\u001b[0m\u001b[0;36m1\u001b[0m\u001b[0;34m,\u001b[0m\u001b[0;36m2\u001b[0m\u001b[0;34m,\u001b[0m\u001b[0;36m3\u001b[0m\u001b[0;34m,\u001b[0m\u001b[0;36m4\u001b[0m\u001b[0;34m,\u001b[0m\u001b[0;36m5\u001b[0m\u001b[0;34m]\u001b[0m\u001b[0;34m\u001b[0m\u001b[0;34m\u001b[0m\u001b[0m\n\u001b[0;32m----> 3\u001b[0;31m \u001b[0mplt\u001b[0m\u001b[0;34m.\u001b[0m\u001b[0mscatter\u001b[0m\u001b[0;34m(\u001b[0m\u001b[0mX\u001b[0m\u001b[0;34m,\u001b[0m\u001b[0mY\u001b[0m\u001b[0;34m)\u001b[0m\u001b[0;34m\u001b[0m\u001b[0;34m\u001b[0m\u001b[0m\n\u001b[0m\u001b[1;32m      4\u001b[0m \u001b[0mplt\u001b[0m\u001b[0;34m.\u001b[0m\u001b[0mshow\u001b[0m\u001b[0;34m(\u001b[0m\u001b[0;34m)\u001b[0m\u001b[0;34m\u001b[0m\u001b[0;34m\u001b[0m\u001b[0m\n",
            "\u001b[0;32m/usr/local/lib/python3.7/dist-packages/matplotlib/pyplot.py\u001b[0m in \u001b[0;36mscatter\u001b[0;34m(x, y, s, c, marker, cmap, norm, vmin, vmax, alpha, linewidths, verts, edgecolors, plotnonfinite, data, **kwargs)\u001b[0m\n\u001b[1;32m   2814\u001b[0m         \u001b[0mverts\u001b[0m\u001b[0;34m=\u001b[0m\u001b[0mverts\u001b[0m\u001b[0;34m,\u001b[0m \u001b[0medgecolors\u001b[0m\u001b[0;34m=\u001b[0m\u001b[0medgecolors\u001b[0m\u001b[0;34m,\u001b[0m\u001b[0;34m\u001b[0m\u001b[0;34m\u001b[0m\u001b[0m\n\u001b[1;32m   2815\u001b[0m         plotnonfinite=plotnonfinite, **({\"data\": data} if data is not\n\u001b[0;32m-> 2816\u001b[0;31m         None else {}), **kwargs)\n\u001b[0m\u001b[1;32m   2817\u001b[0m     \u001b[0msci\u001b[0m\u001b[0;34m(\u001b[0m\u001b[0m__ret\u001b[0m\u001b[0;34m)\u001b[0m\u001b[0;34m\u001b[0m\u001b[0;34m\u001b[0m\u001b[0m\n\u001b[1;32m   2818\u001b[0m     \u001b[0;32mreturn\u001b[0m \u001b[0m__ret\u001b[0m\u001b[0;34m\u001b[0m\u001b[0;34m\u001b[0m\u001b[0m\n",
            "\u001b[0;32m/usr/local/lib/python3.7/dist-packages/matplotlib/__init__.py\u001b[0m in \u001b[0;36minner\u001b[0;34m(ax, data, *args, **kwargs)\u001b[0m\n\u001b[1;32m   1563\u001b[0m     \u001b[0;32mdef\u001b[0m \u001b[0minner\u001b[0m\u001b[0;34m(\u001b[0m\u001b[0max\u001b[0m\u001b[0;34m,\u001b[0m \u001b[0;34m*\u001b[0m\u001b[0margs\u001b[0m\u001b[0;34m,\u001b[0m \u001b[0mdata\u001b[0m\u001b[0;34m=\u001b[0m\u001b[0;32mNone\u001b[0m\u001b[0;34m,\u001b[0m \u001b[0;34m**\u001b[0m\u001b[0mkwargs\u001b[0m\u001b[0;34m)\u001b[0m\u001b[0;34m:\u001b[0m\u001b[0;34m\u001b[0m\u001b[0;34m\u001b[0m\u001b[0m\n\u001b[1;32m   1564\u001b[0m         \u001b[0;32mif\u001b[0m \u001b[0mdata\u001b[0m \u001b[0;32mis\u001b[0m \u001b[0;32mNone\u001b[0m\u001b[0;34m:\u001b[0m\u001b[0;34m\u001b[0m\u001b[0;34m\u001b[0m\u001b[0m\n\u001b[0;32m-> 1565\u001b[0;31m             \u001b[0;32mreturn\u001b[0m \u001b[0mfunc\u001b[0m\u001b[0;34m(\u001b[0m\u001b[0max\u001b[0m\u001b[0;34m,\u001b[0m \u001b[0;34m*\u001b[0m\u001b[0mmap\u001b[0m\u001b[0;34m(\u001b[0m\u001b[0msanitize_sequence\u001b[0m\u001b[0;34m,\u001b[0m \u001b[0margs\u001b[0m\u001b[0;34m)\u001b[0m\u001b[0;34m,\u001b[0m \u001b[0;34m**\u001b[0m\u001b[0mkwargs\u001b[0m\u001b[0;34m)\u001b[0m\u001b[0;34m\u001b[0m\u001b[0;34m\u001b[0m\u001b[0m\n\u001b[0m\u001b[1;32m   1566\u001b[0m \u001b[0;34m\u001b[0m\u001b[0m\n\u001b[1;32m   1567\u001b[0m         \u001b[0mbound\u001b[0m \u001b[0;34m=\u001b[0m \u001b[0mnew_sig\u001b[0m\u001b[0;34m.\u001b[0m\u001b[0mbind\u001b[0m\u001b[0;34m(\u001b[0m\u001b[0max\u001b[0m\u001b[0;34m,\u001b[0m \u001b[0;34m*\u001b[0m\u001b[0margs\u001b[0m\u001b[0;34m,\u001b[0m \u001b[0;34m**\u001b[0m\u001b[0mkwargs\u001b[0m\u001b[0;34m)\u001b[0m\u001b[0;34m\u001b[0m\u001b[0;34m\u001b[0m\u001b[0m\n",
            "\u001b[0;32m/usr/local/lib/python3.7/dist-packages/matplotlib/cbook/deprecation.py\u001b[0m in \u001b[0;36mwrapper\u001b[0;34m(*args, **kwargs)\u001b[0m\n\u001b[1;32m    356\u001b[0m                 \u001b[0;34mf\"%(removal)s.  If any parameter follows {name!r}, they \"\u001b[0m\u001b[0;34m\u001b[0m\u001b[0;34m\u001b[0m\u001b[0m\n\u001b[1;32m    357\u001b[0m                 f\"should be pass as keyword, not positionally.\")\n\u001b[0;32m--> 358\u001b[0;31m         \u001b[0;32mreturn\u001b[0m \u001b[0mfunc\u001b[0m\u001b[0;34m(\u001b[0m\u001b[0;34m*\u001b[0m\u001b[0margs\u001b[0m\u001b[0;34m,\u001b[0m \u001b[0;34m**\u001b[0m\u001b[0mkwargs\u001b[0m\u001b[0;34m)\u001b[0m\u001b[0;34m\u001b[0m\u001b[0;34m\u001b[0m\u001b[0m\n\u001b[0m\u001b[1;32m    359\u001b[0m \u001b[0;34m\u001b[0m\u001b[0m\n\u001b[1;32m    360\u001b[0m     \u001b[0;32mreturn\u001b[0m \u001b[0mwrapper\u001b[0m\u001b[0;34m\u001b[0m\u001b[0;34m\u001b[0m\u001b[0m\n",
            "\u001b[0;32m/usr/local/lib/python3.7/dist-packages/matplotlib/axes/_axes.py\u001b[0m in \u001b[0;36mscatter\u001b[0;34m(self, x, y, s, c, marker, cmap, norm, vmin, vmax, alpha, linewidths, verts, edgecolors, plotnonfinite, **kwargs)\u001b[0m\n\u001b[1;32m   4389\u001b[0m         \u001b[0my\u001b[0m \u001b[0;34m=\u001b[0m \u001b[0mnp\u001b[0m\u001b[0;34m.\u001b[0m\u001b[0mma\u001b[0m\u001b[0;34m.\u001b[0m\u001b[0mravel\u001b[0m\u001b[0;34m(\u001b[0m\u001b[0my\u001b[0m\u001b[0;34m)\u001b[0m\u001b[0;34m\u001b[0m\u001b[0;34m\u001b[0m\u001b[0m\n\u001b[1;32m   4390\u001b[0m         \u001b[0;32mif\u001b[0m \u001b[0mx\u001b[0m\u001b[0;34m.\u001b[0m\u001b[0msize\u001b[0m \u001b[0;34m!=\u001b[0m \u001b[0my\u001b[0m\u001b[0;34m.\u001b[0m\u001b[0msize\u001b[0m\u001b[0;34m:\u001b[0m\u001b[0;34m\u001b[0m\u001b[0;34m\u001b[0m\u001b[0m\n\u001b[0;32m-> 4391\u001b[0;31m             \u001b[0;32mraise\u001b[0m \u001b[0mValueError\u001b[0m\u001b[0;34m(\u001b[0m\u001b[0;34m\"x and y must be the same size\"\u001b[0m\u001b[0;34m)\u001b[0m\u001b[0;34m\u001b[0m\u001b[0;34m\u001b[0m\u001b[0m\n\u001b[0m\u001b[1;32m   4392\u001b[0m \u001b[0;34m\u001b[0m\u001b[0m\n\u001b[1;32m   4393\u001b[0m         \u001b[0;32mif\u001b[0m \u001b[0ms\u001b[0m \u001b[0;32mis\u001b[0m \u001b[0;32mNone\u001b[0m\u001b[0;34m:\u001b[0m\u001b[0;34m\u001b[0m\u001b[0;34m\u001b[0m\u001b[0m\n",
            "\u001b[0;31mValueError\u001b[0m: x and y must be the same size"
          ]
        },
        {
          "output_type": "display_data",
          "data": {
            "image/png": "[encoded data removed]",
            "text/plain": [
              "<Figure size 432x288 with 1 Axes>"
            ]
          },
          "metadata": {
            "needs_background": "light"
          }
        }
      ]
    }
  ]
}