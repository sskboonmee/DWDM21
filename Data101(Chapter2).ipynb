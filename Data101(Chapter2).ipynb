{
  "nbformat": 4,
  "nbformat_minor": 0,
  "metadata": {
    "colab": {
      "name": "Data101(Chapter2).ipynb",
      "provenance": [],
      "authorship_tag": "ABX9TyNDD2kxbrLAq+sKsN4vg3S6",
      "include_colab_link": true
    },
    "kernelspec": {
      "name": "python3",
      "display_name": "Python 3"
    },
    "language_info": {
      "name": "python"
    }
  },
  "cells": [
    {
      "cell_type": "markdown",
      "metadata": {
        "id": "view-in-github",
        "colab_type": "text"
      },
      "source": [
        "<a href=\"https://colab.research.google.com/github/sskboonmee/DWDM21/blob/main/Data101(Chapter2).ipynb\" target=\"_parent\"><img src=\"https://colab.research.google.com/assets/colab-badge.svg\" alt=\"Open In Colab\"/></a>"
      ]
    },
    {
      "cell_type": "markdown",
      "metadata": {
        "id": "mKDeGaMIz3yv"
      },
      "source": [
        "ข้อความที่อยู่ใน Textbox จะเป็นภาษา markdown"
      ]
    },
    {
      "cell_type": "markdown",
      "metadata": {
        "id": "xa2R0vnhtn_v"
      },
      "source": [
        "ข้อดีหนึ่งของ ข้อดีหนึ่งของ Python คือมี package สำหรับทำงานต่างๆมากมาย \n",
        "\n",
        "ซึ่ง pandas เป็น package สำหรับการทำงานกับข้อมูลที่อยู่ในรูปแบบตาราง \n",
        "\n",
        "โดย Pandas จะเรียกตารางนั้นว่า dataframe"
      ]
    },
    {
      "cell_type": "code",
      "metadata": {
        "id": "Wu3ibE1fr6Zr"
      },
      "source": [
        "import pandas    #วิธีเรียกใช้ package คือ import ตามด้วยชื่อ package  #อันนี้คือ import แบบธรรมดา"
      ],
      "execution_count": 1,
      "outputs": []
    },
    {
      "cell_type": "code",
      "metadata": {
        "id": "tIC3QBQ9tBL-"
      },
      "source": [
        "import pandas as pd #เหมือนกับข้างบนแต่ว่าตั้งชื่อให้ package ที่โหลดมาใหม่ว่า่ pd "
      ],
      "execution_count": 2,
      "outputs": []
    },
    {
      "cell_type": "markdown",
      "metadata": {
        "id": "YmTBc_9Yus2I"
      },
      "source": [
        "ไฟล์ที่จะได้เจอเป็นหลักเลยคือ .csv  (CSV = comma separated values) เป็นไฟล์หลักที่เราจะได้ใช้วิชานี้ \n",
        "\n",
        "ข้อดี  ไฟล์ง่ายคนอ่านได้คอมอ่านได้ เก็บข้อมูลตารางที่เข้าใจง่ายๆ \n",
        "\n",
        "การแบ่งค่าใช้ comma ในการแบ่ง และใช้ enter แบ่งว่าเป็นข้อมูลคนละ record"
      ]
    },
    {
      "cell_type": "code",
      "metadata": {
        "id": "FLC_AXeoudHz"
      },
      "source": [
        "data_df = pd.read_csv('data.csv')"
      ],
      "execution_count": 5,
      "outputs": []
    },
    {
      "cell_type": "code",
      "metadata": {
        "colab": {
          "base_uri": "https://localhost:8080/",
          "height": 142
        },
        "id": "WcXC3ttHxXUf",
        "outputId": "54b3206b-7c11-4392-8819-d08d8767cacd"
      },
      "source": [
        "data_df"
      ],
      "execution_count": 6,
      "outputs": [
        {
          "output_type": "execute_result",
          "data": {
            "text/html": [
              "<div>\n",
              "<style scoped>\n",
              "    .dataframe tbody tr th:only-of-type {\n",
              "        vertical-align: middle;\n",
              "    }\n",
              "\n",
              "    .dataframe tbody tr th {\n",
              "        vertical-align: top;\n",
              "    }\n",
              "\n",
              "    .dataframe thead th {\n",
              "        text-align: right;\n",
              "    }\n",
              "</style>\n",
              "<table border=\"1\" class=\"dataframe\">\n",
              "  <thead>\n",
              "    <tr style=\"text-align: right;\">\n",
              "      <th></th>\n",
              "      <th>\\tname</th>\n",
              "      <th>age</th>\n",
              "      <th>city</th>\n",
              "    </tr>\n",
              "  </thead>\n",
              "  <tbody>\n",
              "    <tr>\n",
              "      <th>0</th>\n",
              "      <td>Tom</td>\n",
              "      <td>27</td>\n",
              "      <td>Khon Kean</td>\n",
              "    </tr>\n",
              "    <tr>\n",
              "      <th>1</th>\n",
              "      <td>Paul</td>\n",
              "      <td>15</td>\n",
              "      <td>Bangkok</td>\n",
              "    </tr>\n",
              "    <tr>\n",
              "      <th>2</th>\n",
              "      <td>Sarah</td>\n",
              "      <td>49</td>\n",
              "      <td>London</td>\n",
              "    </tr>\n",
              "  </tbody>\n",
              "</table>\n",
              "</div>"
            ],
            "text/plain": [
              "  \\tname  age       city\n",
              "0    Tom   27  Khon Kean\n",
              "1   Paul   15    Bangkok\n",
              "2  Sarah   49     London"
            ]
          },
          "metadata": {
            "tags": []
          },
          "execution_count": 6
        }
      ]
    },
    {
      "cell_type": "code",
      "metadata": {
        "colab": {
          "base_uri": "https://localhost:8080/",
          "height": 142
        },
        "id": "58b9Rr4JyD4c",
        "outputId": "1a5945e1-6dee-404c-a68f-5dc3daef40ca"
      },
      "source": [
        "data_df2 = pandas.read_csv('data.csv')\n",
        "data_df2"
      ],
      "execution_count": 7,
      "outputs": [
        {
          "output_type": "execute_result",
          "data": {
            "text/html": [
              "<div>\n",
              "<style scoped>\n",
              "    .dataframe tbody tr th:only-of-type {\n",
              "        vertical-align: middle;\n",
              "    }\n",
              "\n",
              "    .dataframe tbody tr th {\n",
              "        vertical-align: top;\n",
              "    }\n",
              "\n",
              "    .dataframe thead th {\n",
              "        text-align: right;\n",
              "    }\n",
              "</style>\n",
              "<table border=\"1\" class=\"dataframe\">\n",
              "  <thead>\n",
              "    <tr style=\"text-align: right;\">\n",
              "      <th></th>\n",
              "      <th>\\tname</th>\n",
              "      <th>age</th>\n",
              "      <th>city</th>\n",
              "    </tr>\n",
              "  </thead>\n",
              "  <tbody>\n",
              "    <tr>\n",
              "      <th>0</th>\n",
              "      <td>Tom</td>\n",
              "      <td>27</td>\n",
              "      <td>Khon Kean</td>\n",
              "    </tr>\n",
              "    <tr>\n",
              "      <th>1</th>\n",
              "      <td>Paul</td>\n",
              "      <td>15</td>\n",
              "      <td>Bangkok</td>\n",
              "    </tr>\n",
              "    <tr>\n",
              "      <th>2</th>\n",
              "      <td>Sarah</td>\n",
              "      <td>49</td>\n",
              "      <td>London</td>\n",
              "    </tr>\n",
              "  </tbody>\n",
              "</table>\n",
              "</div>"
            ],
            "text/plain": [
              "  \\tname  age       city\n",
              "0    Tom   27  Khon Kean\n",
              "1   Paul   15    Bangkok\n",
              "2  Sarah   49     London"
            ]
          },
          "metadata": {
            "tags": []
          },
          "execution_count": 7
        }
      ]
    },
    {
      "cell_type": "markdown",
      "metadata": {
        "id": "DgtdsrBqylFm"
      },
      "source": [
        "#Basic Python\n",
        "## Variable \n",
        "ตัวแปร คือคล้ายๆกับกล่องที่ไว้ใส่ข้อมูล  ชื่อตัวแปรต้องเป็นตัวอักษรติดกันหมดเลยห้ามมีเว้นวรรค ถ้าอยากมีชื่อเพิ่มก็_ก่อน\n"
      ]
    },
    {
      "cell_type": "markdown",
      "metadata": {
        "id": "_XDDrQrc1nqT"
      },
      "source": [
        "ข้อกำหนดในการตั้งชื่อตัวแปร\n",
        "\n",
        "1.   ชื่อห้ามมีเว้นวรรค\n",
        "2.   (พยายาม)ใช้ภาษาอังกฤษ \n",
        "\n",
        "1.   ตัวเล็กกับตัวใหญ่แตกต่างกัน คือมันจะเป็นคนละตัวแปร (case sensitive)\n",
        "2.   ห้ามใช้ตัวเลขเป็นตัวหน้า\n",
        "\n",
        "\n",
        "\n",
        "\n"
      ]
    },
    {
      "cell_type": "code",
      "metadata": {
        "id": "DXvCLjH6yR3q"
      },
      "source": [
        "variable_a = 12    \n",
        "variable_b = 'abcde'  # ' เรียกว่า quote  ตัวที่มี quote = string\n",
        "variable_c = variable_a"
      ],
      "execution_count": 8,
      "outputs": []
    },
    {
      "cell_type": "code",
      "metadata": {
        "colab": {
          "base_uri": "https://localhost:8080/"
        },
        "id": "MpEcde4F0VnP",
        "outputId": "4f09546e-e610-4bf1-97b9-478c1d1a186d"
      },
      "source": [
        "variable_a"
      ],
      "execution_count": 9,
      "outputs": [
        {
          "output_type": "execute_result",
          "data": {
            "text/plain": [
              "12"
            ]
          },
          "metadata": {
            "tags": []
          },
          "execution_count": 9
        }
      ]
    },
    {
      "cell_type": "code",
      "metadata": {
        "colab": {
          "base_uri": "https://localhost:8080/",
          "height": 35
        },
        "id": "6yMz5bLh0VTM",
        "outputId": "fa5dfe6b-a6f9-42fc-feed-99ad2a7a1107"
      },
      "source": [
        "variable_b"
      ],
      "execution_count": 10,
      "outputs": [
        {
          "output_type": "execute_result",
          "data": {
            "application/vnd.google.colaboratory.intrinsic+json": {
              "type": "string"
            },
            "text/plain": [
              "'abcde'"
            ]
          },
          "metadata": {
            "tags": []
          },
          "execution_count": 10
        }
      ]
    },
    {
      "cell_type": "code",
      "metadata": {
        "colab": {
          "base_uri": "https://localhost:8080/"
        },
        "id": "pVg7kjCF0U_1",
        "outputId": "51a0a9a0-50ff-4c60-a4a4-c8fa01cab9b5"
      },
      "source": [
        "variable_c"
      ],
      "execution_count": 15,
      "outputs": [
        {
          "output_type": "execute_result",
          "data": {
            "text/plain": [
              "12"
            ]
          },
          "metadata": {
            "tags": []
          },
          "execution_count": 15
        }
      ]
    },
    {
      "cell_type": "markdown",
      "metadata": {
        "id": "DkfPZ0lK2ppt"
      },
      "source": [
        "ชื่อห้ามมีเว้นวรรค"
      ]
    },
    {
      "cell_type": "code",
      "metadata": {
        "id": "j1zycqlI0U8W",
        "colab": {
          "base_uri": "https://localhost:8080/",
          "height": 130
        },
        "outputId": "f6703fae-43d9-47bc-8da8-16f7b89b019c"
      },
      "source": [
        "variable a = 6"
      ],
      "execution_count": 16,
      "outputs": [
        {
          "output_type": "error",
          "ename": "SyntaxError",
          "evalue": "ignored",
          "traceback": [
            "\u001b[0;36m  File \u001b[0;32m\"<ipython-input-16-fd7265a87fe2>\"\u001b[0;36m, line \u001b[0;32m1\u001b[0m\n\u001b[0;31m    variable a = 6\u001b[0m\n\u001b[0m             ^\u001b[0m\n\u001b[0;31mSyntaxError\u001b[0m\u001b[0;31m:\u001b[0m invalid syntax\n"
          ]
        }
      ]
    },
    {
      "cell_type": "markdown",
      "metadata": {
        "id": "sWXjzorB2sgO"
      },
      "source": [
        "พยายามใช้ภาษาอังกฤษ"
      ]
    },
    {
      "cell_type": "code",
      "metadata": {
        "colab": {
          "base_uri": "https://localhost:8080/"
        },
        "id": "4zLfuUnx2PnV",
        "outputId": "5d206c74-45a5-4f13-984b-9e85008f353f"
      },
      "source": [
        "ตัวแปร = 3   #colab ใช้ชื่อภาษาไทยได้แต่ไม่ควรใช้\n",
        "ตัวแปร"
      ],
      "execution_count": 12,
      "outputs": [
        {
          "output_type": "execute_result",
          "data": {
            "text/plain": [
              "3"
            ]
          },
          "metadata": {
            "tags": []
          },
          "execution_count": 12
        }
      ]
    },
    {
      "cell_type": "markdown",
      "metadata": {
        "id": "l6bP5d7-24qA"
      },
      "source": [
        "ตัวเล็กกับตัวใหญ่แตกต่างกัน (case sensitive)"
      ]
    },
    {
      "cell_type": "code",
      "metadata": {
        "colab": {
          "base_uri": "https://localhost:8080/"
        },
        "id": "V3_255at2-CN",
        "outputId": "124e6324-c10c-401e-a05a-48e281fd02d6"
      },
      "source": [
        "v_a = 1\n",
        "V_a = 2\n",
        "print(v_a)\n",
        "print(V_a)"
      ],
      "execution_count": 11,
      "outputs": [
        {
          "output_type": "stream",
          "text": [
            "1\n",
            "2\n"
          ],
          "name": "stdout"
        }
      ]
    },
    {
      "cell_type": "code",
      "metadata": {
        "colab": {
          "base_uri": "https://localhost:8080/"
        },
        "id": "VEcmmLl43Tdr",
        "outputId": "d22d41ea-389a-42ab-c001-8e9a8fb89665"
      },
      "source": [
        "v_a = 1\n",
        "v_a = 2\n",
        "print(v_a)\n",
        "print(v_a)"
      ],
      "execution_count": 17,
      "outputs": [
        {
          "output_type": "stream",
          "text": [
            "2\n",
            "2\n"
          ],
          "name": "stdout"
        }
      ]
    },
    {
      "cell_type": "markdown",
      "metadata": {
        "id": "978gH5R_3lrX"
      },
      "source": [
        "ห้ามใช้ตัวเลขเป็นชื่อตัวแปร"
      ]
    },
    {
      "cell_type": "code",
      "metadata": {
        "colab": {
          "base_uri": "https://localhost:8080/",
          "height": 130
        },
        "id": "JSe5qieR3pSn",
        "outputId": "a89ef205-61c5-4a03-a953-6955cc9d6ab2"
      },
      "source": [
        "2 = 1 "
      ],
      "execution_count": 18,
      "outputs": [
        {
          "output_type": "error",
          "ename": "SyntaxError",
          "evalue": "ignored",
          "traceback": [
            "\u001b[0;36m  File \u001b[0;32m\"<ipython-input-18-45a86d54c6f1>\"\u001b[0;36m, line \u001b[0;32m1\u001b[0m\n\u001b[0;31m    2 = 1\u001b[0m\n\u001b[0m          ^\u001b[0m\n\u001b[0;31mSyntaxError\u001b[0m\u001b[0;31m:\u001b[0m can't assign to literal\n"
          ]
        }
      ]
    },
    {
      "cell_type": "code",
      "metadata": {
        "id": "4CNazNUw3poe"
      },
      "source": [
        " 2ab = 1 "
      ],
      "execution_count": null,
      "outputs": []
    },
    {
      "cell_type": "markdown",
      "metadata": {
        "id": "QoF5fe5n3wuA"
      },
      "source": [
        "แต่ใช้ตัวเลขเป็นตัวหลังไม่มีปัญหา"
      ]
    },
    {
      "cell_type": "code",
      "metadata": {
        "colab": {
          "base_uri": "https://localhost:8080/"
        },
        "id": "fObZj-3H30YL",
        "outputId": "211e712c-b568-4b45-9ad0-6e3c3302c8e4"
      },
      "source": [
        "variable = 1\n",
        "print(variable)"
      ],
      "execution_count": 19,
      "outputs": [
        {
          "output_type": "stream",
          "text": [
            "1\n"
          ],
          "name": "stdout"
        }
      ]
    },
    {
      "cell_type": "code",
      "metadata": {
        "id": "05F88kcd4BSg"
      },
      "source": [
        "variable_a = 12    \n",
        "variable_b = 'abcde'  # ' เรียกว่า quote  ตัวที่มี quote = string\n",
        "variable_c = variable_a\n",
        "variable_d = -41.2\n",
        "variable_4 = \"KKU\" #\"\" เรียก double qoute ก็คือ string เลือใช้ได้เลยว่าจะใช้ ' \" "
      ],
      "execution_count": 20,
      "outputs": []
    },
    {
      "cell_type": "code",
      "metadata": {
        "colab": {
          "base_uri": "https://localhost:8080/"
        },
        "id": "N1xvH2uZ4gD7",
        "outputId": "dc79a0e5-8860-4585-83fd-6d8bf3ac2104"
      },
      "source": [
        "variable_x = variable_c + variable_d \n",
        "print(variable_x)"
      ],
      "execution_count": 21,
      "outputs": [
        {
          "output_type": "stream",
          "text": [
            "-29.200000000000003\n"
          ],
          "name": "stdout"
        }
      ]
    },
    {
      "cell_type": "code",
      "metadata": {
        "id": "8ntgoJeX6Hhl",
        "colab": {
          "base_uri": "https://localhost:8080/",
          "height": 130
        },
        "outputId": "323c2db2-eb28-49c5-d618-50b3d3cc5d42"
      },
      "source": [
        "variable a + variable_b"
      ],
      "execution_count": 22,
      "outputs": [
        {
          "output_type": "error",
          "ename": "SyntaxError",
          "evalue": "ignored",
          "traceback": [
            "\u001b[0;36m  File \u001b[0;32m\"<ipython-input-22-ff78b7e9cbbc>\"\u001b[0;36m, line \u001b[0;32m1\u001b[0m\n\u001b[0;31m    variable a + variable_b\u001b[0m\n\u001b[0m             ^\u001b[0m\n\u001b[0;31mSyntaxError\u001b[0m\u001b[0;31m:\u001b[0m invalid syntax\n"
          ]
        }
      ]
    },
    {
      "cell_type": "code",
      "metadata": {
        "colab": {
          "base_uri": "https://localhost:8080/"
        },
        "id": "8SfnK1Q76XyP",
        "outputId": "6ce12ebb-507d-467c-8eb3-eeadd55622b2"
      },
      "source": [
        "print(variable_b + variable_4)"
      ],
      "execution_count": 23,
      "outputs": [
        {
          "output_type": "stream",
          "text": [
            "abcdeKKU\n"
          ],
          "name": "stdout"
        }
      ]
    },
    {
      "cell_type": "markdown",
      "metadata": {
        "id": "BqQvcdaA7BRc"
      },
      "source": [
        "##Casting  int()  float() str()\n",
        "\n",
        "คือเราสามารถเปลี่ยนชนิดของตัวแปรได้ "
      ]
    },
    {
      "cell_type": "code",
      "metadata": {
        "id": "CDV8YdZL7Vpf"
      },
      "source": [
        "print(variable_x)\n",
        "print(int(variable_x))"
      ],
      "execution_count": null,
      "outputs": []
    },
    {
      "cell_type": "code",
      "metadata": {
        "id": "NaMc5Jcg7pU1"
      },
      "source": [
        "V_X = str(variable_x)\n",
        "print(V_X)"
      ],
      "execution_count": null,
      "outputs": []
    },
    {
      "cell_type": "code",
      "metadata": {
        "id": "WO7bSCy771wS"
      },
      "source": [
        "V_X + variable_a  #ตัวอข้างหน้าเป็น str ไม่สามารถเอาตัวเลขมาบวกได้"
      ],
      "execution_count": null,
      "outputs": []
    },
    {
      "cell_type": "code",
      "metadata": {
        "id": "lM72Acfn8AT_"
      },
      "source": [
        "variable_a + V_X  #ตัวเลขก็ไม่สามารถเอา str มาบวกได้เหมือนกัน"
      ],
      "execution_count": null,
      "outputs": []
    },
    {
      "cell_type": "code",
      "metadata": {
        "id": "02t95nIn8KhI"
      },
      "source": [
        "V_X"
      ],
      "execution_count": null,
      "outputs": []
    },
    {
      "cell_type": "code",
      "metadata": {
        "id": "rzmTLlfC8Kdp"
      },
      "source": [
        "float(V_X)"
      ],
      "execution_count": null,
      "outputs": []
    },
    {
      "cell_type": "markdown",
      "metadata": {
        "id": "nQQTMUe_9Nel"
      },
      "source": [
        "##Data Structure\n",
        "###list() "
      ]
    },
    {
      "cell_type": "code",
      "metadata": {
        "id": "c7BYxtBa8KVg"
      },
      "source": [
        "list_a = [1,2,0.2,'abs' ]  #[ ] square brackets\n",
        "list_b = [2,'xyz' ,list_a, [1,2,0.0]]"
      ],
      "execution_count": 24,
      "outputs": []
    },
    {
      "cell_type": "code",
      "metadata": {
        "colab": {
          "base_uri": "https://localhost:8080/"
        },
        "id": "F4gu9jbT98Jl",
        "outputId": "8f62f7f3-ca98-4688-9e52-0a4ba78954c7"
      },
      "source": [
        "list_a"
      ],
      "execution_count": 25,
      "outputs": [
        {
          "output_type": "execute_result",
          "data": {
            "text/plain": [
              "[1, 2, 0.2, 'abs']"
            ]
          },
          "metadata": {
            "tags": []
          },
          "execution_count": 25
        }
      ]
    },
    {
      "cell_type": "code",
      "metadata": {
        "colab": {
          "base_uri": "https://localhost:8080/"
        },
        "id": "5HCuiw799_ro",
        "outputId": "a0126657-9039-4d30-a9e0-649a5cc70be8"
      },
      "source": [
        "list_b"
      ],
      "execution_count": 26,
      "outputs": [
        {
          "output_type": "execute_result",
          "data": {
            "text/plain": [
              "[2, 'xyz', [1, 2, 0.2, 'abs'], [1, 2, 0.0]]"
            ]
          },
          "metadata": {
            "tags": []
          },
          "execution_count": 26
        }
      ]
    },
    {
      "cell_type": "code",
      "metadata": {
        "colab": {
          "base_uri": "https://localhost:8080/"
        },
        "id": "8Koj9_dJ-LSx",
        "outputId": "800a6cc6-4d8d-4586-d14d-9bb69d9d9de2"
      },
      "source": [
        "len(list_b) #len = ความยาวดูสมาขิกใน list"
      ],
      "execution_count": 27,
      "outputs": [
        {
          "output_type": "execute_result",
          "data": {
            "text/plain": [
              "4"
            ]
          },
          "metadata": {
            "tags": []
          },
          "execution_count": 27
        }
      ]
    },
    {
      "cell_type": "code",
      "metadata": {
        "colab": {
          "base_uri": "https://localhost:8080/"
        },
        "id": "cl7sZ9h7-ULt",
        "outputId": "63d2b9c4-2d11-4b99-80e8-81a833d97653"
      },
      "source": [
        "list_b[3] #ชี้สมาชิกในลิสต์ได้เพื่อดึงค่ามันออกมา"
      ],
      "execution_count": 28,
      "outputs": [
        {
          "output_type": "execute_result",
          "data": {
            "text/plain": [
              "[1, 2, 0.0]"
            ]
          },
          "metadata": {
            "tags": []
          },
          "execution_count": 28
        }
      ]
    },
    {
      "cell_type": "code",
      "metadata": {
        "colab": {
          "base_uri": "https://localhost:8080/"
        },
        "id": "za16k1_1-eW2",
        "outputId": "55387b2a-d95f-4c9b-b593-818e1282a592"
      },
      "source": [
        "list_b[3][1]"
      ],
      "execution_count": 29,
      "outputs": [
        {
          "output_type": "execute_result",
          "data": {
            "text/plain": [
              "2"
            ]
          },
          "metadata": {
            "tags": []
          },
          "execution_count": 29
        }
      ]
    },
    {
      "cell_type": "markdown",
      "metadata": {
        "id": "iNpaeVsT-4w6"
      },
      "source": [
        "string คือ list ของตัวหนังสือ"
      ]
    },
    {
      "cell_type": "code",
      "metadata": {
        "id": "1vXBJ8Lg-_Wo"
      },
      "source": [
        "a = 'Stat KKU'"
      ],
      "execution_count": 30,
      "outputs": []
    },
    {
      "cell_type": "code",
      "metadata": {
        "colab": {
          "base_uri": "https://localhost:8080/",
          "height": 0
        },
        "id": "bjteqzhm_K3_",
        "outputId": "2dbd4151-8eac-4852-fccf-e769d8be889e"
      },
      "source": [
        "a[4]"
      ],
      "execution_count": 31,
      "outputs": [
        {
          "output_type": "execute_result",
          "data": {
            "application/vnd.google.colaboratory.intrinsic+json": {
              "type": "string"
            },
            "text/plain": [
              "' '"
            ]
          },
          "metadata": {
            "tags": []
          },
          "execution_count": 31
        }
      ]
    },
    {
      "cell_type": "markdown",
      "metadata": {
        "id": "KNsG-Iwh_f54"
      },
      "source": [
        "###วิธีสร้าง list ว่าง"
      ]
    },
    {
      "cell_type": "code",
      "metadata": {
        "id": "4hzruuqs_mXt"
      },
      "source": [
        "list_c = list()  #แบบที่1\n",
        "list_d = []     #แบบที่2"
      ],
      "execution_count": 32,
      "outputs": []
    },
    {
      "cell_type": "code",
      "metadata": {
        "colab": {
          "base_uri": "https://localhost:8080/"
        },
        "id": "-m2vJKj0_3ic",
        "outputId": "cfca6580-142c-4a54-f014-5ac41286ecc3"
      },
      "source": [
        "list_c"
      ],
      "execution_count": 33,
      "outputs": [
        {
          "output_type": "execute_result",
          "data": {
            "text/plain": [
              "[]"
            ]
          },
          "metadata": {
            "tags": []
          },
          "execution_count": 33
        }
      ]
    },
    {
      "cell_type": "code",
      "metadata": {
        "colab": {
          "base_uri": "https://localhost:8080/"
        },
        "id": "Id9oX0ML_68c",
        "outputId": "f024e16c-2f7c-45c3-ef7f-ef2539d338cc"
      },
      "source": [
        "list_d"
      ],
      "execution_count": 34,
      "outputs": [
        {
          "output_type": "execute_result",
          "data": {
            "text/plain": [
              "[]"
            ]
          },
          "metadata": {
            "tags": []
          },
          "execution_count": 34
        }
      ]
    },
    {
      "cell_type": "markdown",
      "metadata": {
        "id": "AQuHK_zKAT-a"
      },
      "source": [
        "เติมค่าลงไปใน list (.append())"
      ]
    },
    {
      "cell_type": "code",
      "metadata": {
        "id": "uY0uf6T0BBWJ"
      },
      "source": [
        "list_d.append('a')"
      ],
      "execution_count": 35,
      "outputs": []
    },
    {
      "cell_type": "code",
      "metadata": {
        "colab": {
          "base_uri": "https://localhost:8080/"
        },
        "id": "DE6eIh2eBC02",
        "outputId": "4a52fc88-bb51-40e6-d44d-2cfdae85ccae"
      },
      "source": [
        "list_d"
      ],
      "execution_count": 36,
      "outputs": [
        {
          "output_type": "execute_result",
          "data": {
            "text/plain": [
              "['a']"
            ]
          },
          "metadata": {
            "tags": []
          },
          "execution_count": 36
        }
      ]
    },
    {
      "cell_type": "code",
      "metadata": {
        "id": "uZNHlWWzBEMU"
      },
      "source": [
        "list_d.append(56)"
      ],
      "execution_count": 37,
      "outputs": []
    },
    {
      "cell_type": "code",
      "metadata": {
        "colab": {
          "base_uri": "https://localhost:8080/"
        },
        "id": "LE-CNK2DBE39",
        "outputId": "dd0b9583-a8e2-48b7-83ff-8551d559ae59"
      },
      "source": [
        "list_d"
      ],
      "execution_count": 38,
      "outputs": [
        {
          "output_type": "execute_result",
          "data": {
            "text/plain": [
              "['a', 56]"
            ]
          },
          "metadata": {
            "tags": []
          },
          "execution_count": 38
        }
      ]
    },
    {
      "cell_type": "markdown",
      "metadata": {
        "id": "jzt0BecMBHt1"
      },
      "source": [
        "การชี้ค่าใน list (indexing)\n",
        "\n",
        "1.   ใช้ลำดับในการชี้\n",
        "2.   ลำดับเริ่มจาก 0\n",
        "3.   สามารถชี้จากข้างหลังโดยใช้ negative index\n",
        "\n",
        "\n",
        "\n",
        "\n"
      ]
    },
    {
      "cell_type": "code",
      "metadata": {
        "colab": {
          "base_uri": "https://localhost:8080/"
        },
        "id": "96n7_JwiBgUQ",
        "outputId": "dfc785bd-9c42-47fe-caef-c74903e3adaa"
      },
      "source": [
        "list_b"
      ],
      "execution_count": 39,
      "outputs": [
        {
          "output_type": "execute_result",
          "data": {
            "text/plain": [
              "[2, 'xyz', [1, 2, 0.2, 'abs'], [1, 2, 0.0]]"
            ]
          },
          "metadata": {
            "tags": []
          },
          "execution_count": 39
        }
      ]
    },
    {
      "cell_type": "code",
      "metadata": {
        "colab": {
          "base_uri": "https://localhost:8080/"
        },
        "id": "vYO1YfhqBizv",
        "outputId": "b6544b44-7dbf-4347-a601-1c8bc1fa39ca"
      },
      "source": [
        "list_b[-1]"
      ],
      "execution_count": 40,
      "outputs": [
        {
          "output_type": "execute_result",
          "data": {
            "text/plain": [
              "[1, 2, 0.0]"
            ]
          },
          "metadata": {
            "tags": []
          },
          "execution_count": 40
        }
      ]
    },
    {
      "cell_type": "markdown",
      "metadata": {
        "id": "kqvkjZegCF2N"
      },
      "source": [
        "### list slicing"
      ]
    },
    {
      "cell_type": "code",
      "metadata": {
        "id": "QI5EP5dCCR09"
      },
      "source": [
        "list_ex = [1,2,3,5,6,8,-1,20,50,0]"
      ],
      "execution_count": 41,
      "outputs": []
    },
    {
      "cell_type": "markdown",
      "metadata": {
        "id": "tUi2eK7YC5Q8"
      },
      "source": [
        "เราจะตัด list โดยเอาตั้งแต่ [ตัวหน้า:ตัวก่อนตัวหลัง] \n",
        "ถ้าเป็นสัญลักษณ์คณิตศาสตร์  [ตัวหน้า,ตัวหลัง] -> [ตัวหน้า,ตัวหลัง)\n",
        "ไม่ระบุด้ายท้าก็คือเอาถึงตัวท้ายไม่ระบุด้านหน้าก็คือเอาตั้งแต่ตัวหน้า"
      ]
    },
    {
      "cell_type": "code",
      "metadata": {
        "colab": {
          "base_uri": "https://localhost:8080/"
        },
        "id": "VX9zWVPCCcuA",
        "outputId": "4eee23e8-99e3-4dc6-faea-9d48eec65908"
      },
      "source": [
        "list_ex[1:6]  #: ใช้  colon ในการตัด "
      ],
      "execution_count": 42,
      "outputs": [
        {
          "output_type": "execute_result",
          "data": {
            "text/plain": [
              "[2, 3, 5, 6, 8]"
            ]
          },
          "metadata": {
            "tags": []
          },
          "execution_count": 42
        }
      ]
    },
    {
      "cell_type": "code",
      "metadata": {
        "colab": {
          "base_uri": "https://localhost:8080/"
        },
        "id": "ZpwW6AaHDX2E",
        "outputId": "83198fd5-8c35-4a95-e9dd-8fc60cd1d361"
      },
      "source": [
        "list_ex[4:]  #เว้นข้างหลังเอาไว้แสดงว่าเอาไปจนถึงตัวสุดท้าย"
      ],
      "execution_count": 43,
      "outputs": [
        {
          "output_type": "execute_result",
          "data": {
            "text/plain": [
              "[6, 8, -1, 20, 50, 0]"
            ]
          },
          "metadata": {
            "tags": []
          },
          "execution_count": 43
        }
      ]
    },
    {
      "cell_type": "code",
      "metadata": {
        "colab": {
          "base_uri": "https://localhost:8080/"
        },
        "id": "nhG9mQRBDgpH",
        "outputId": "2ae6938d-9eeb-4123-9601-70d6ae86dbb2"
      },
      "source": [
        "list_ex[:6]  #เว้นข้างหน้าคือเอาตั้งแต่ตัวแรก "
      ],
      "execution_count": 44,
      "outputs": [
        {
          "output_type": "execute_result",
          "data": {
            "text/plain": [
              "[1, 2, 3, 5, 6, 8]"
            ]
          },
          "metadata": {
            "tags": []
          },
          "execution_count": 44
        }
      ]
    },
    {
      "cell_type": "code",
      "metadata": {
        "colab": {
          "base_uri": "https://localhost:8080/"
        },
        "id": "dQItRKOUD8Hy",
        "outputId": "ab8f4e29-7c12-4eaf-dddb-731250165a06"
      },
      "source": [
        "list_ex[:-1:]"
      ],
      "execution_count": 45,
      "outputs": [
        {
          "output_type": "execute_result",
          "data": {
            "text/plain": [
              "[1, 2, 3, 5, 6, 8, -1, 20, 50]"
            ]
          },
          "metadata": {
            "tags": []
          },
          "execution_count": 45
        }
      ]
    },
    {
      "cell_type": "markdown",
      "metadata": {
        "id": "bqTjExDiERFT"
      },
      "source": [
        "[จุดเริ่มต้น:จุดสุดท้าย:step]"
      ]
    },
    {
      "cell_type": "code",
      "metadata": {
        "colab": {
          "base_uri": "https://localhost:8080/"
        },
        "id": "upBKBfoDEZEG",
        "outputId": "c5ca41a4-c4db-4ece-eeb5-7f0d7dad5d79"
      },
      "source": [
        "list_ex"
      ],
      "execution_count": 46,
      "outputs": [
        {
          "output_type": "execute_result",
          "data": {
            "text/plain": [
              "[1, 2, 3, 5, 6, 8, -1, 20, 50, 0]"
            ]
          },
          "metadata": {
            "tags": []
          },
          "execution_count": 46
        }
      ]
    },
    {
      "cell_type": "code",
      "metadata": {
        "colab": {
          "base_uri": "https://localhost:8080/"
        },
        "id": "hvD2d3i3EcEX",
        "outputId": "cad6687e-56d8-4df9-d516-a06d59a57f9c"
      },
      "source": [
        "list_ex[::2]  #ขอบเขตด้านหน้าขอบเขตด้านหลังและstep"
      ],
      "execution_count": 47,
      "outputs": [
        {
          "output_type": "execute_result",
          "data": {
            "text/plain": [
              "[1, 3, 6, -1, 50]"
            ]
          },
          "metadata": {
            "tags": []
          },
          "execution_count": 47
        }
      ]
    },
    {
      "cell_type": "code",
      "metadata": {
        "colab": {
          "base_uri": "https://localhost:8080/"
        },
        "id": "Ah-ET2bNElhq",
        "outputId": "4f912874-de6b-4193-fd4e-a16bcc079d3b"
      },
      "source": [
        "list_ex[::-1]  #กลับlist ที่กระโดด การกลับlistนั่นเองอิอิ"
      ],
      "execution_count": 48,
      "outputs": [
        {
          "output_type": "execute_result",
          "data": {
            "text/plain": [
              "[0, 50, 20, -1, 8, 6, 5, 3, 2, 1]"
            ]
          },
          "metadata": {
            "tags": []
          },
          "execution_count": 48
        }
      ]
    },
    {
      "cell_type": "code",
      "metadata": {
        "colab": {
          "base_uri": "https://localhost:8080/",
          "height": 0
        },
        "id": "7ya7fBeEE-3l",
        "outputId": "98505247-7b85-409a-df8e-e56f4ce504c4"
      },
      "source": [
        "a"
      ],
      "execution_count": 49,
      "outputs": [
        {
          "output_type": "execute_result",
          "data": {
            "application/vnd.google.colaboratory.intrinsic+json": {
              "type": "string"
            },
            "text/plain": [
              "'Stat KKU'"
            ]
          },
          "metadata": {
            "tags": []
          },
          "execution_count": 49
        }
      ]
    },
    {
      "cell_type": "code",
      "metadata": {
        "colab": {
          "base_uri": "https://localhost:8080/",
          "height": 0
        },
        "id": "HW81g9jHFBq-",
        "outputId": "6213fecd-5464-4e63-a05b-b20357f2831e"
      },
      "source": [
        "a[:4]"
      ],
      "execution_count": 50,
      "outputs": [
        {
          "output_type": "execute_result",
          "data": {
            "application/vnd.google.colaboratory.intrinsic+json": {
              "type": "string"
            },
            "text/plain": [
              "'Stat'"
            ]
          },
          "metadata": {
            "tags": []
          },
          "execution_count": 50
        }
      ]
    },
    {
      "cell_type": "code",
      "metadata": {
        "colab": {
          "base_uri": "https://localhost:8080/",
          "height": 0
        },
        "id": "WtdqmqccFtON",
        "outputId": "834bc59c-5128-41df-c793-9878f6d898e3"
      },
      "source": [
        "a[5:]"
      ],
      "execution_count": 51,
      "outputs": [
        {
          "output_type": "execute_result",
          "data": {
            "application/vnd.google.colaboratory.intrinsic+json": {
              "type": "string"
            },
            "text/plain": [
              "'KKU'"
            ]
          },
          "metadata": {
            "tags": []
          },
          "execution_count": 51
        }
      ]
    },
    {
      "cell_type": "code",
      "metadata": {
        "colab": {
          "base_uri": "https://localhost:8080/",
          "height": 0
        },
        "id": "aDXumo-CF3Sm",
        "outputId": "778160b8-464f-4382-cc04-34b7c398518a"
      },
      "source": [
        "a[-3:]"
      ],
      "execution_count": 52,
      "outputs": [
        {
          "output_type": "execute_result",
          "data": {
            "application/vnd.google.colaboratory.intrinsic+json": {
              "type": "string"
            },
            "text/plain": [
              "'KKU'"
            ]
          },
          "metadata": {
            "tags": []
          },
          "execution_count": 52
        }
      ]
    },
    {
      "cell_type": "code",
      "metadata": {
        "colab": {
          "base_uri": "https://localhost:8080/",
          "height": 0
        },
        "id": "PaDweoLOF76R",
        "outputId": "62d7e78e-93f4-4109-dde3-fa2201f3d988"
      },
      "source": [
        "a[5:8]"
      ],
      "execution_count": 53,
      "outputs": [
        {
          "output_type": "execute_result",
          "data": {
            "application/vnd.google.colaboratory.intrinsic+json": {
              "type": "string"
            },
            "text/plain": [
              "'KKU'"
            ]
          },
          "metadata": {
            "tags": []
          },
          "execution_count": 53
        }
      ]
    },
    {
      "cell_type": "code",
      "metadata": {
        "colab": {
          "base_uri": "https://localhost:8080/",
          "height": 0
        },
        "id": "5yu8t73aGGbU",
        "outputId": "b835cd23-a4eb-4de7-d53a-42458914f024"
      },
      "source": [
        "a[5::]"
      ],
      "execution_count": 54,
      "outputs": [
        {
          "output_type": "execute_result",
          "data": {
            "application/vnd.google.colaboratory.intrinsic+json": {
              "type": "string"
            },
            "text/plain": [
              "'KKU'"
            ]
          },
          "metadata": {
            "tags": []
          },
          "execution_count": 54
        }
      ]
    },
    {
      "cell_type": "code",
      "metadata": {
        "colab": {
          "base_uri": "https://localhost:8080/",
          "height": 0
        },
        "id": "_Ilc3IvcGJQM",
        "outputId": "dff6f98b-28bb-46ee-c084-c5716c08d4fd"
      },
      "source": [
        "a[-3::]"
      ],
      "execution_count": 55,
      "outputs": [
        {
          "output_type": "execute_result",
          "data": {
            "application/vnd.google.colaboratory.intrinsic+json": {
              "type": "string"
            },
            "text/plain": [
              "'KKU'"
            ]
          },
          "metadata": {
            "tags": []
          },
          "execution_count": 55
        }
      ]
    },
    {
      "cell_type": "markdown",
      "metadata": {
        "id": "XS1Oh5miGnel"
      },
      "source": [
        "### list + list"
      ]
    },
    {
      "cell_type": "code",
      "metadata": {
        "colab": {
          "base_uri": "https://localhost:8080/"
        },
        "id": "lnCE9vjoGtlM",
        "outputId": "1fc04693-27c2-4649-e001-b87847227446"
      },
      "source": [
        "print(list_a)\n",
        "print(list_b)"
      ],
      "execution_count": 56,
      "outputs": [
        {
          "output_type": "stream",
          "text": [
            "[1, 2, 0.2, 'abs']\n",
            "[2, 'xyz', [1, 2, 0.2, 'abs'], [1, 2, 0.0]]\n"
          ],
          "name": "stdout"
        }
      ]
    },
    {
      "cell_type": "code",
      "metadata": {
        "colab": {
          "base_uri": "https://localhost:8080/"
        },
        "id": "3YS1OAQbGug8",
        "outputId": "635d90c9-1057-4030-9f78-4f7f9d870653"
      },
      "source": [
        "list_a + list_b"
      ],
      "execution_count": 57,
      "outputs": [
        {
          "output_type": "execute_result",
          "data": {
            "text/plain": [
              "[1, 2, 0.2, 'abs', 2, 'xyz', [1, 2, 0.2, 'abs'], [1, 2, 0.0]]"
            ]
          },
          "metadata": {
            "tags": []
          },
          "execution_count": 57
        }
      ]
    },
    {
      "cell_type": "markdown",
      "metadata": {
        "id": "yGXexZLVLO_t"
      },
      "source": [
        "format string"
      ]
    },
    {
      "cell_type": "markdown",
      "metadata": {
        "id": "gnC2tymOL4yC"
      },
      "source": [
        "f'string{ตัวแปร}'"
      ]
    },
    {
      "cell_type": "code",
      "metadata": {
        "colab": {
          "base_uri": "https://localhost:8080/",
          "height": 0
        },
        "id": "zCqFlKVRLRzV",
        "outputId": "c10af6e1-89b8-4c16-b303-86189db35ef8"
      },
      "source": [
        "f'ตัวแปร list_a มีค่าคือ {list_a} '\n"
      ],
      "execution_count": 58,
      "outputs": [
        {
          "output_type": "execute_result",
          "data": {
            "application/vnd.google.colaboratory.intrinsic+json": {
              "type": "string"
            },
            "text/plain": [
              "\"ตัวแปร list_a มีค่าคือ [1, 2, 0.2, 'abs'] \""
            ]
          },
          "metadata": {
            "tags": []
          },
          "execution_count": 58
        }
      ]
    },
    {
      "cell_type": "markdown",
      "metadata": {
        "id": "LhUcfvXcHNUK"
      },
      "source": [
        "##Loop\n",
        "       python\n",
        "for ตัวแปรที่จะรับค่าจากลิสต์  in ลิสต์ที่จะนำมาวนลูป:\n",
        "  do something  #in loop\n",
        "  do another thing #in loop\n",
        "\n",
        "do other things #out side loop\n",
        "  \n",
        "การที่ทำอะไรซ้ำๆอาจเปลี่ยนเล็กน้อยแต่วนซ้ำไปเรื่อยๆ\n"
      ]
    },
    {
      "cell_type": "code",
      "metadata": {
        "colab": {
          "base_uri": "https://localhost:8080/"
        },
        "id": "dKywJjw-JoPM",
        "outputId": "557d5204-28a8-463a-bd75-7d6077a722d2"
      },
      "source": [
        "for i in {1,2,3,4,5}:\n",
        "    print(i+1)   #ก็คือ1+1,2+1,3+1,4+1,5+1\n"
      ],
      "execution_count": 59,
      "outputs": [
        {
          "output_type": "stream",
          "text": [
            "2\n",
            "3\n",
            "4\n",
            "5\n",
            "6\n"
          ],
          "name": "stdout"
        }
      ]
    },
    {
      "cell_type": "code",
      "metadata": {
        "colab": {
          "base_uri": "https://localhost:8080/"
        },
        "id": "9T7gmHG0MsMg",
        "outputId": "55b5a3ed-d37b-48d0-cb39-2fa8da5d012c"
      },
      "source": [
        "for x in [1,2,3,4,5]:\n",
        "    print(f'ค่าตัวแปร x คือ {x} และ x+2={x+2}')"
      ],
      "execution_count": 60,
      "outputs": [
        {
          "output_type": "stream",
          "text": [
            "ค่าตัวแปร x คือ 1 และ x+2=3\n",
            "ค่าตัวแปร x คือ 2 และ x+2=4\n",
            "ค่าตัวแปร x คือ 3 และ x+2=5\n",
            "ค่าตัวแปร x คือ 4 และ x+2=6\n",
            "ค่าตัวแปร x คือ 5 และ x+2=7\n"
          ],
          "name": "stdout"
        }
      ]
    },
    {
      "cell_type": "code",
      "metadata": {
        "colab": {
          "base_uri": "https://localhost:8080/"
        },
        "id": "hA6vqlzMNADx",
        "outputId": "1e1d53b2-2b2b-4141-9a8f-470db86a1cd2"
      },
      "source": [
        "list5={1,2,3,4,5}\n",
        "for x in list5:\n",
        "    print(f'ค่าตัวแปร x คือ {x} และ x+2={x+2}')"
      ],
      "execution_count": 61,
      "outputs": [
        {
          "output_type": "stream",
          "text": [
            "ค่าตัวแปร x คือ 1 และ x+2=3\n",
            "ค่าตัวแปร x คือ 2 และ x+2=4\n",
            "ค่าตัวแปร x คือ 3 และ x+2=5\n",
            "ค่าตัวแปร x คือ 4 และ x+2=6\n",
            "ค่าตัวแปร x คือ 5 และ x+2=7\n"
          ],
          "name": "stdout"
        }
      ]
    },
    {
      "cell_type": "code",
      "metadata": {
        "colab": {
          "base_uri": "https://localhost:8080/"
        },
        "id": "uDinrBcxNVh3",
        "outputId": "17569dec-d4fb-4ea8-8720-c5c5d8aaf61c"
      },
      "source": [
        "list(range(10))"
      ],
      "execution_count": 62,
      "outputs": [
        {
          "output_type": "execute_result",
          "data": {
            "text/plain": [
              "[0, 1, 2, 3, 4, 5, 6, 7, 8, 9]"
            ]
          },
          "metadata": {
            "tags": []
          },
          "execution_count": 62
        }
      ]
    },
    {
      "cell_type": "code",
      "metadata": {
        "colab": {
          "base_uri": "https://localhost:8080/"
        },
        "id": "8Zt1SFnwNZZo",
        "outputId": "10f2c1cd-dfc4-49f0-eb15-290ddf668f49"
      },
      "source": [
        "for i in range(2,7):  #จุดเริ่ม จุดจบ step\n",
        "  print(i)"
      ],
      "execution_count": 63,
      "outputs": [
        {
          "output_type": "stream",
          "text": [
            "2\n",
            "3\n",
            "4\n",
            "5\n",
            "6\n"
          ],
          "name": "stdout"
        }
      ]
    },
    {
      "cell_type": "code",
      "metadata": {
        "colab": {
          "base_uri": "https://localhost:8080/"
        },
        "id": "Gno8RvfwN6mF",
        "outputId": "3f3d865b-50b7-4cab-ec3c-6a4e5c191876"
      },
      "source": [
        "for i in range(2,7,2): \n",
        "  print(i)"
      ],
      "execution_count": 64,
      "outputs": [
        {
          "output_type": "stream",
          "text": [
            "2\n",
            "4\n",
            "6\n"
          ],
          "name": "stdout"
        }
      ]
    },
    {
      "cell_type": "code",
      "metadata": {
        "colab": {
          "base_uri": "https://localhost:8080/"
        },
        "id": "8EnZEzQSOZsV",
        "outputId": "ce768a28-4487-4b21-fc8f-daa36366c7ba"
      },
      "source": [
        "for i in range(5):    #range เป็น list ที่ยังไม่ได้ถูกใส่ไว้ใน memory จะเจน list ตามจำนวนที่เราใส่ให้มัน\n",
        "  print('hahaha')\n",
        "  x = i+3\n",
        "  print(f'i={i} x={x}')"
      ],
      "execution_count": 65,
      "outputs": [
        {
          "output_type": "stream",
          "text": [
            "hahaha\n",
            "i=0 x=3\n",
            "hahaha\n",
            "i=1 x=4\n",
            "hahaha\n",
            "i=2 x=5\n",
            "hahaha\n",
            "i=3 x=6\n",
            "hahaha\n",
            "i=4 x=7\n"
          ],
          "name": "stdout"
        }
      ]
    },
    {
      "cell_type": "markdown",
      "metadata": {
        "id": "I1AZadn4PFqh"
      },
      "source": [
        "##Nested loop\n",
        "ก็คือ loop ซ้อน loop ไปเรื่อยๆ "
      ]
    },
    {
      "cell_type": "code",
      "metadata": {
        "colab": {
          "base_uri": "https://localhost:8080/"
        },
        "id": "i9yihHhXPMog",
        "outputId": "90ea4631-9a3f-4746-8f0a-988653eb26e2"
      },
      "source": [
        "for i in range(3):\n",
        "  print(f'now i = {i}')\n",
        "  print ('start j loop')\n",
        "  for j in range(4):\n",
        "    print(f' i = {i} j = {j} i+j = {i+j}')\n",
        "  print ('end j loop')"
      ],
      "execution_count": 66,
      "outputs": [
        {
          "output_type": "stream",
          "text": [
            "now i = 0\n",
            "start j loop\n",
            " i = 0 j = 0 i+j = 0\n",
            " i = 0 j = 1 i+j = 1\n",
            " i = 0 j = 2 i+j = 2\n",
            " i = 0 j = 3 i+j = 3\n",
            "end j loop\n",
            "now i = 1\n",
            "start j loop\n",
            " i = 1 j = 0 i+j = 1\n",
            " i = 1 j = 1 i+j = 2\n",
            " i = 1 j = 2 i+j = 3\n",
            " i = 1 j = 3 i+j = 4\n",
            "end j loop\n",
            "now i = 2\n",
            "start j loop\n",
            " i = 2 j = 0 i+j = 2\n",
            " i = 2 j = 1 i+j = 3\n",
            " i = 2 j = 2 i+j = 4\n",
            " i = 2 j = 3 i+j = 5\n",
            "end j loop\n"
          ],
          "name": "stdout"
        }
      ]
    },
    {
      "cell_type": "markdown",
      "metadata": {
        "id": "wEWT-yxTI-dZ"
      },
      "source": [
        "##Condition  (if statement)\n",
        "   python\n",
        "if เงื่อนไขที่จะตรวจสอบ โดยใช้สัญลักษณ์ ==,!=,<,>,<=,>=):\n",
        "  \n",
        "  ถ้าเงื่อนไขเป็นจริง  ทำงาน 1\n",
        "  \n",
        "  ถ้าเงื่อนไขเป็นจริง  ทำงาน 2 \n",
        "elif เงื่อนไขที่จะตรวจสอบต่อไปถ้าเงื่อนไขข้างบนไม่เป็นจริง\n",
        "  ถ้าเงื่อนไขเป็นจริง ทำงานที่ a1\n",
        "  ถ้าเงื่อนไขเป็นจริง ทำงานที่ a2\n",
        "elif เงื่อนไขที่ตรวจสอบต่อไปถ้าเงื่อนไขข้างบนไม่เป็นจริง\n",
        "  ถ้าเงื่อนไขเป็นจริง ทำงานที่ b1\n",
        "  ถ้าเงื่อนไขเป็นจริง ทำงานที่ b2\n",
        "elif: #ตรวจสอบเงื่อนไขข้างบนแล้วไม่เป็นจริง\n",
        "  ทำงานที่ x\n",
        "\n"
      ]
    },
    {
      "cell_type": "code",
      "metadata": {
        "colab": {
          "base_uri": "https://localhost:8080/"
        },
        "id": "YDiqQXBNGjib",
        "outputId": "174583bf-788e-49ce-ba98-3f8c9e549fdc"
      },
      "source": [
        "stringx = 'sadfasdsadfweirjwersdfspadofgj'\n",
        "\n",
        "if len(stringx) > 30:\n",
        "    print(f'{stringx} is longer than 30 characters')"
      ],
      "execution_count": 72,
      "outputs": [
        {
          "output_type": "stream",
          "text": [
            "sadfasdsadfweirjwersdfspkkkkkkkkkkkkkkkkkkkkkkkadofgj is longer than 30 characters\n"
          ],
          "name": "stdout"
        }
      ]
    },
    {
      "cell_type": "code",
      "metadata": {
        "colab": {
          "base_uri": "https://localhost:8080/"
        },
        "id": "WTCv0YIVHMHT",
        "outputId": "dfbd95da-01e4-411b-c1ac-80ad03ee9e2e"
      },
      "source": [
        "stringx = 'sadfasdsadfweirjwersdfspadofgj'\n",
        "\n",
        "if len(stringx) > 100:\n",
        "    print(f'{stringx} is longer than 30 characters')\n",
        "else:\n",
        "  print(f'{stringx} in {len(stringx)} characters')"
      ],
      "execution_count": 73,
      "outputs": [
        {
          "output_type": "stream",
          "text": [
            "sadfasdsadfweirjwersdfspadofgj in 30 characters\n"
          ],
          "name": "stdout"
        }
      ]
    },
    {
      "cell_type": "code",
      "metadata": {
        "colab": {
          "base_uri": "https://localhost:8080/"
        },
        "id": "X0nAcBiSLHvq",
        "outputId": "84b888da-66d4-4012-faa6-f7d4de452ade"
      },
      "source": [
        "password = '12345'\n",
        "\n",
        "input_pass = '123sf'\n",
        "if input_pass == password:\n",
        "    print('Welcome!')\n",
        "elif len(input_pass)  >  len(password):\n",
        "    print('Too long, try again')\n",
        "elif len(input_pass)  <  len(password):\n",
        "    print('Too short, try again')\n",
        "else:\n",
        "  print('Wrong password, try again!')"
      ],
      "execution_count": 77,
      "outputs": [
        {
          "output_type": "stream",
          "text": [
            "Wrong password, try again!\n"
          ],
          "name": "stdout"
        }
      ]
    },
    {
      "cell_type": "markdown",
      "metadata": {
        "id": "hWivP2voNi9B"
      },
      "source": [
        "Quiz 1 หา Min"
      ]
    },
    {
      "cell_type": "code",
      "metadata": {
        "id": "fwBwqZ4FQ9iI"
      },
      "source": [
        "list_ex = [1,5,9,-19,-2,0]  #หาค่าน้อยที่สุดใน list โดยไม่ใช้ function min \n"
      ],
      "execution_count": null,
      "outputs": []
    },
    {
      "cell_type": "code",
      "metadata": {
        "id": "pz2wvCblTEa9",
        "outputId": "b2637e47-22bd-485e-803f-e205463e6942",
        "colab": {
          "base_uri": "https://localhost:8080/"
        }
      },
      "source": [
        "min = 1000000\n",
        "print(list_ex)\n",
        "for i in list_ex:\n",
        "  print(f'now i = {i}, min = {min}')\n",
        "  print('start condition')\n",
        "  if i < min:\n",
        "      print(f'i < min,  update min -> {i}')\n",
        "      min = i\n",
        "  else:\n",
        "        print('end condition, go to next i')\n",
        "\n",
        "print(min)"
      ],
      "execution_count": 91,
      "outputs": [
        {
          "output_type": "stream",
          "text": [
            "[1, 5, 9, -19, -2, 0]\n",
            "now i = 1, min = 1000000\n",
            "start condition\n",
            "i < min,  update min -> 1\n",
            "now i = 5, min = 1\n",
            "start condition\n",
            "end condition, go to next i\n",
            "now i = 9, min = 1\n",
            "start condition\n",
            "end condition, go to next i\n",
            "now i = -19, min = 1\n",
            "start condition\n",
            "i < min,  update min -> -19\n",
            "now i = -2, min = -19\n",
            "start condition\n",
            "end condition, go to next i\n",
            "now i = 0, min = -19\n",
            "start condition\n",
            "end condition, go to next i\n",
            "-19\n"
          ],
          "name": "stdout"
        }
      ]
    },
    {
      "cell_type": "markdown",
      "metadata": {
        "id": "eGTq8uuHJP_Y"
      },
      "source": [
        "##Function"
      ]
    },
    {
      "cell_type": "markdown",
      "metadata": {
        "id": "X_mXziBmVxBG"
      },
      "source": [
        "HW3 ตัดเกรด"
      ]
    },
    {
      "cell_type": "code",
      "metadata": {
        "id": "kWK5aEdHV11z"
      },
      "source": [
        "score = [49,65,70,95,82,55,89,20,77,77,81,59,10]  #ตัดเกรด คะแนนใน list score ใช้ if กับ for "
      ],
      "execution_count": null,
      "outputs": []
    },
    {
      "cell_type": "code",
      "metadata": {
        "id": "XxYD3S_NV_-S"
      },
      "source": [
        " "
      ],
      "execution_count": null,
      "outputs": []
    },
    {
      "cell_type": "code",
      "metadata": {
        "id": "EqeEEK38GvOB"
      },
      "source": [
        ""
      ],
      "execution_count": null,
      "outputs": []
    }
  ]
}