{
  "nbformat": 4,
  "nbformat_minor": 0,
  "metadata": {
    "colab": {
      "name": "Data101(Chapter2).ipynb",
      "provenance": [],
      "authorship_tag": "ABX9TyOuQnBc75b8PO39umXUHGUi",
      "include_colab_link": true
    },
    "kernelspec": {
      "name": "python3",
      "display_name": "Python 3"
    },
    "language_info": {
      "name": "python"
    }
  },
  "cells": [
    {
      "cell_type": "markdown",
      "metadata": {
        "id": "view-in-github",
        "colab_type": "text"
      },
      "source": [
        "<a href=\"https://colab.research.google.com/github/sskboonmee/DWDM21/blob/main/Data101(Chapter2).ipynb\" target=\"_parent\"><img src=\"https://colab.research.google.com/assets/colab-badge.svg\" alt=\"Open In Colab\"/></a>"
      ]
    },
    {
      "cell_type": "markdown",
      "metadata": {
        "id": "mKDeGaMIz3yv"
      },
      "source": [
        "ข้อความที่อยู่ใน Textbox จะเป็นภาษา markdown"
      ]
    },
    {
      "cell_type": "markdown",
      "metadata": {
        "id": "xa2R0vnhtn_v"
      },
      "source": [
        "ข้อดีหนึ่งของ ข้อดีหนึ่งของ Python คือมี package สำหรับทำงานต่างๆมากมาย \n",
        "\n",
        "ซึ่ง pandas เป็น package สำหรับการทำงานกับข้อมูลที่อยู่ในรูปแบบตาราง \n",
        "\n",
        "โดย Pandas จะเรียกตารางนั้นว่า dataframe"
      ]
    },
    {
      "cell_type": "code",
      "metadata": {
        "id": "Wu3ibE1fr6Zr"
      },
      "source": [
        "import pandas    #วิธีเรียกใช้ package คือ import ตามด้วยชื่อ package  #อันนี้คือ import แบบธรรมดา"
      ],
      "execution_count": 2,
      "outputs": []
    },
    {
      "cell_type": "code",
      "metadata": {
        "id": "tIC3QBQ9tBL-"
      },
      "source": [
        "import pandas as pd #เหมือนกับข้างบนแต่ว่าตั้งชื่อให้ package ที่โหลดมาใหม่ว่า่ pd "
      ],
      "execution_count": 3,
      "outputs": []
    },
    {
      "cell_type": "markdown",
      "metadata": {
        "id": "YmTBc_9Yus2I"
      },
      "source": [
        "ไฟล์ที่จะได้เจอเป็นหลักเลยคือ .csv  (CSV = comma separated values) เป็นไฟล์หลักที่เราจะได้ใช้วิชานี้ \n",
        "\n",
        "ข้อดี  ไฟล์ง่ายคนอ่านได้คอมอ่านได้ เก็บข้อมูลตารางที่เข้าใจง่ายๆ \n",
        "\n",
        "การแบ่งค่าใช้ comma ในการแบ่ง และใช้ enter แบ่งว่าเป็นข้อมูลคนละ record"
      ]
    },
    {
      "cell_type": "code",
      "metadata": {
        "id": "FLC_AXeoudHz",
        "outputId": "3f97d141-3846-45a3-9fcb-abf850618629",
        "colab": {
          "base_uri": "https://localhost:8080/",
          "height": 372
        }
      },
      "source": [
        "data_df = pd.read_csv('data.csv')"
      ],
      "execution_count": 4,
      "outputs": [
        {
          "output_type": "error",
          "ename": "FileNotFoundError",
          "evalue": "ignored",
          "traceback": [
            "\u001b[0;31m---------------------------------------------------------------------------\u001b[0m",
            "\u001b[0;31mFileNotFoundError\u001b[0m                         Traceback (most recent call last)",
            "\u001b[0;32m<ipython-input-4-3c6ae9713f57>\u001b[0m in \u001b[0;36m<module>\u001b[0;34m()\u001b[0m\n\u001b[0;32m----> 1\u001b[0;31m \u001b[0mdata_df\u001b[0m \u001b[0;34m=\u001b[0m \u001b[0mpd\u001b[0m\u001b[0;34m.\u001b[0m\u001b[0mread_csv\u001b[0m\u001b[0;34m(\u001b[0m\u001b[0;34m'data.csv'\u001b[0m\u001b[0;34m)\u001b[0m\u001b[0;34m\u001b[0m\u001b[0;34m\u001b[0m\u001b[0m\n\u001b[0m",
            "\u001b[0;32m/usr/local/lib/python3.7/dist-packages/pandas/io/parsers.py\u001b[0m in \u001b[0;36mread_csv\u001b[0;34m(filepath_or_buffer, sep, delimiter, header, names, index_col, usecols, squeeze, prefix, mangle_dupe_cols, dtype, engine, converters, true_values, false_values, skipinitialspace, skiprows, skipfooter, nrows, na_values, keep_default_na, na_filter, verbose, skip_blank_lines, parse_dates, infer_datetime_format, keep_date_col, date_parser, dayfirst, cache_dates, iterator, chunksize, compression, thousands, decimal, lineterminator, quotechar, quoting, doublequote, escapechar, comment, encoding, dialect, error_bad_lines, warn_bad_lines, delim_whitespace, low_memory, memory_map, float_precision)\u001b[0m\n\u001b[1;32m    686\u001b[0m     )\n\u001b[1;32m    687\u001b[0m \u001b[0;34m\u001b[0m\u001b[0m\n\u001b[0;32m--> 688\u001b[0;31m     \u001b[0;32mreturn\u001b[0m \u001b[0m_read\u001b[0m\u001b[0;34m(\u001b[0m\u001b[0mfilepath_or_buffer\u001b[0m\u001b[0;34m,\u001b[0m \u001b[0mkwds\u001b[0m\u001b[0;34m)\u001b[0m\u001b[0;34m\u001b[0m\u001b[0;34m\u001b[0m\u001b[0m\n\u001b[0m\u001b[1;32m    689\u001b[0m \u001b[0;34m\u001b[0m\u001b[0m\n\u001b[1;32m    690\u001b[0m \u001b[0;34m\u001b[0m\u001b[0m\n",
            "\u001b[0;32m/usr/local/lib/python3.7/dist-packages/pandas/io/parsers.py\u001b[0m in \u001b[0;36m_read\u001b[0;34m(filepath_or_buffer, kwds)\u001b[0m\n\u001b[1;32m    452\u001b[0m \u001b[0;34m\u001b[0m\u001b[0m\n\u001b[1;32m    453\u001b[0m     \u001b[0;31m# Create the parser.\u001b[0m\u001b[0;34m\u001b[0m\u001b[0;34m\u001b[0m\u001b[0;34m\u001b[0m\u001b[0m\n\u001b[0;32m--> 454\u001b[0;31m     \u001b[0mparser\u001b[0m \u001b[0;34m=\u001b[0m \u001b[0mTextFileReader\u001b[0m\u001b[0;34m(\u001b[0m\u001b[0mfp_or_buf\u001b[0m\u001b[0;34m,\u001b[0m \u001b[0;34m**\u001b[0m\u001b[0mkwds\u001b[0m\u001b[0;34m)\u001b[0m\u001b[0;34m\u001b[0m\u001b[0;34m\u001b[0m\u001b[0m\n\u001b[0m\u001b[1;32m    455\u001b[0m \u001b[0;34m\u001b[0m\u001b[0m\n\u001b[1;32m    456\u001b[0m     \u001b[0;32mif\u001b[0m \u001b[0mchunksize\u001b[0m \u001b[0;32mor\u001b[0m \u001b[0miterator\u001b[0m\u001b[0;34m:\u001b[0m\u001b[0;34m\u001b[0m\u001b[0;34m\u001b[0m\u001b[0m\n",
            "\u001b[0;32m/usr/local/lib/python3.7/dist-packages/pandas/io/parsers.py\u001b[0m in \u001b[0;36m__init__\u001b[0;34m(self, f, engine, **kwds)\u001b[0m\n\u001b[1;32m    946\u001b[0m             \u001b[0mself\u001b[0m\u001b[0;34m.\u001b[0m\u001b[0moptions\u001b[0m\u001b[0;34m[\u001b[0m\u001b[0;34m\"has_index_names\"\u001b[0m\u001b[0;34m]\u001b[0m \u001b[0;34m=\u001b[0m \u001b[0mkwds\u001b[0m\u001b[0;34m[\u001b[0m\u001b[0;34m\"has_index_names\"\u001b[0m\u001b[0;34m]\u001b[0m\u001b[0;34m\u001b[0m\u001b[0;34m\u001b[0m\u001b[0m\n\u001b[1;32m    947\u001b[0m \u001b[0;34m\u001b[0m\u001b[0m\n\u001b[0;32m--> 948\u001b[0;31m         \u001b[0mself\u001b[0m\u001b[0;34m.\u001b[0m\u001b[0m_make_engine\u001b[0m\u001b[0;34m(\u001b[0m\u001b[0mself\u001b[0m\u001b[0;34m.\u001b[0m\u001b[0mengine\u001b[0m\u001b[0;34m)\u001b[0m\u001b[0;34m\u001b[0m\u001b[0;34m\u001b[0m\u001b[0m\n\u001b[0m\u001b[1;32m    949\u001b[0m \u001b[0;34m\u001b[0m\u001b[0m\n\u001b[1;32m    950\u001b[0m     \u001b[0;32mdef\u001b[0m \u001b[0mclose\u001b[0m\u001b[0;34m(\u001b[0m\u001b[0mself\u001b[0m\u001b[0;34m)\u001b[0m\u001b[0;34m:\u001b[0m\u001b[0;34m\u001b[0m\u001b[0;34m\u001b[0m\u001b[0m\n",
            "\u001b[0;32m/usr/local/lib/python3.7/dist-packages/pandas/io/parsers.py\u001b[0m in \u001b[0;36m_make_engine\u001b[0;34m(self, engine)\u001b[0m\n\u001b[1;32m   1178\u001b[0m     \u001b[0;32mdef\u001b[0m \u001b[0m_make_engine\u001b[0m\u001b[0;34m(\u001b[0m\u001b[0mself\u001b[0m\u001b[0;34m,\u001b[0m \u001b[0mengine\u001b[0m\u001b[0;34m=\u001b[0m\u001b[0;34m\"c\"\u001b[0m\u001b[0;34m)\u001b[0m\u001b[0;34m:\u001b[0m\u001b[0;34m\u001b[0m\u001b[0;34m\u001b[0m\u001b[0m\n\u001b[1;32m   1179\u001b[0m         \u001b[0;32mif\u001b[0m \u001b[0mengine\u001b[0m \u001b[0;34m==\u001b[0m \u001b[0;34m\"c\"\u001b[0m\u001b[0;34m:\u001b[0m\u001b[0;34m\u001b[0m\u001b[0;34m\u001b[0m\u001b[0m\n\u001b[0;32m-> 1180\u001b[0;31m             \u001b[0mself\u001b[0m\u001b[0;34m.\u001b[0m\u001b[0m_engine\u001b[0m \u001b[0;34m=\u001b[0m \u001b[0mCParserWrapper\u001b[0m\u001b[0;34m(\u001b[0m\u001b[0mself\u001b[0m\u001b[0;34m.\u001b[0m\u001b[0mf\u001b[0m\u001b[0;34m,\u001b[0m \u001b[0;34m**\u001b[0m\u001b[0mself\u001b[0m\u001b[0;34m.\u001b[0m\u001b[0moptions\u001b[0m\u001b[0;34m)\u001b[0m\u001b[0;34m\u001b[0m\u001b[0;34m\u001b[0m\u001b[0m\n\u001b[0m\u001b[1;32m   1181\u001b[0m         \u001b[0;32melse\u001b[0m\u001b[0;34m:\u001b[0m\u001b[0;34m\u001b[0m\u001b[0;34m\u001b[0m\u001b[0m\n\u001b[1;32m   1182\u001b[0m             \u001b[0;32mif\u001b[0m \u001b[0mengine\u001b[0m \u001b[0;34m==\u001b[0m \u001b[0;34m\"python\"\u001b[0m\u001b[0;34m:\u001b[0m\u001b[0;34m\u001b[0m\u001b[0;34m\u001b[0m\u001b[0m\n",
            "\u001b[0;32m/usr/local/lib/python3.7/dist-packages/pandas/io/parsers.py\u001b[0m in \u001b[0;36m__init__\u001b[0;34m(self, src, **kwds)\u001b[0m\n\u001b[1;32m   2008\u001b[0m         \u001b[0mkwds\u001b[0m\u001b[0;34m[\u001b[0m\u001b[0;34m\"usecols\"\u001b[0m\u001b[0;34m]\u001b[0m \u001b[0;34m=\u001b[0m \u001b[0mself\u001b[0m\u001b[0;34m.\u001b[0m\u001b[0musecols\u001b[0m\u001b[0;34m\u001b[0m\u001b[0;34m\u001b[0m\u001b[0m\n\u001b[1;32m   2009\u001b[0m \u001b[0;34m\u001b[0m\u001b[0m\n\u001b[0;32m-> 2010\u001b[0;31m         \u001b[0mself\u001b[0m\u001b[0;34m.\u001b[0m\u001b[0m_reader\u001b[0m \u001b[0;34m=\u001b[0m \u001b[0mparsers\u001b[0m\u001b[0;34m.\u001b[0m\u001b[0mTextReader\u001b[0m\u001b[0;34m(\u001b[0m\u001b[0msrc\u001b[0m\u001b[0;34m,\u001b[0m \u001b[0;34m**\u001b[0m\u001b[0mkwds\u001b[0m\u001b[0;34m)\u001b[0m\u001b[0;34m\u001b[0m\u001b[0;34m\u001b[0m\u001b[0m\n\u001b[0m\u001b[1;32m   2011\u001b[0m         \u001b[0mself\u001b[0m\u001b[0;34m.\u001b[0m\u001b[0munnamed_cols\u001b[0m \u001b[0;34m=\u001b[0m \u001b[0mself\u001b[0m\u001b[0;34m.\u001b[0m\u001b[0m_reader\u001b[0m\u001b[0;34m.\u001b[0m\u001b[0munnamed_cols\u001b[0m\u001b[0;34m\u001b[0m\u001b[0;34m\u001b[0m\u001b[0m\n\u001b[1;32m   2012\u001b[0m \u001b[0;34m\u001b[0m\u001b[0m\n",
            "\u001b[0;32mpandas/_libs/parsers.pyx\u001b[0m in \u001b[0;36mpandas._libs.parsers.TextReader.__cinit__\u001b[0;34m()\u001b[0m\n",
            "\u001b[0;32mpandas/_libs/parsers.pyx\u001b[0m in \u001b[0;36mpandas._libs.parsers.TextReader._setup_parser_source\u001b[0;34m()\u001b[0m\n",
            "\u001b[0;31mFileNotFoundError\u001b[0m: [Errno 2] No such file or directory: 'data.csv'"
          ]
        }
      ]
    },
    {
      "cell_type": "code",
      "metadata": {
        "id": "WcXC3ttHxXUf"
      },
      "source": [
        "data_df"
      ],
      "execution_count": null,
      "outputs": []
    },
    {
      "cell_type": "code",
      "metadata": {
        "id": "58b9Rr4JyD4c"
      },
      "source": [
        "data_df2 = pandas.read_csv('data.csv')\n",
        "data_df2"
      ],
      "execution_count": null,
      "outputs": []
    },
    {
      "cell_type": "markdown",
      "metadata": {
        "id": "DgtdsrBqylFm"
      },
      "source": [
        "#Basic Python\n",
        "## Variable \n",
        "ตัวแปร คือคล้ายๆกับกล่องที่ไว้ใส่ข้อมูล  ชื่อตัวแปรต้องเป็นตัวอักษรติดกันหมดเลยห้ามมีเว้นวรรค ถ้าอยากมีชื่อเพิ่มก็_ก่อน\n"
      ]
    },
    {
      "cell_type": "markdown",
      "metadata": {
        "id": "_XDDrQrc1nqT"
      },
      "source": [
        "ข้อกำหนดในการตั้งชื่อตัวแปร\n",
        "\n",
        "1.   ชื่อห้ามมีเว้นวรรค\n",
        "2.   (พยายาม)ใช้ภาษาอังกฤษ \n",
        "\n",
        "1.   ตัวเล็กกับตัวใหญ่แตกต่างกัน คือมันจะเป็นคนละตัวแปร (case sensitive)\n",
        "2.   ห้ามใช้ตัวเลขเป็นตัวหน้า\n",
        "\n",
        "\n",
        "\n",
        "\n"
      ]
    },
    {
      "cell_type": "code",
      "metadata": {
        "id": "DXvCLjH6yR3q"
      },
      "source": [
        "variable_a = 12    \n",
        "variable_b = 'abcde'  # ' เรียกว่า quote  ตัวที่มี quote = string\n",
        "variable_c = variable_a"
      ],
      "execution_count": null,
      "outputs": []
    },
    {
      "cell_type": "code",
      "metadata": {
        "id": "MpEcde4F0VnP"
      },
      "source": [
        "variable_a"
      ],
      "execution_count": null,
      "outputs": []
    },
    {
      "cell_type": "code",
      "metadata": {
        "id": "6yMz5bLh0VTM"
      },
      "source": [
        "variable_b"
      ],
      "execution_count": null,
      "outputs": []
    },
    {
      "cell_type": "code",
      "metadata": {
        "id": "pVg7kjCF0U_1"
      },
      "source": [
        "variable_c"
      ],
      "execution_count": null,
      "outputs": []
    },
    {
      "cell_type": "markdown",
      "metadata": {
        "id": "DkfPZ0lK2ppt"
      },
      "source": [
        "ชื่อห้ามมีเว้นวรรค"
      ]
    },
    {
      "cell_type": "code",
      "metadata": {
        "id": "j1zycqlI0U8W"
      },
      "source": [
        "variable a = 6"
      ],
      "execution_count": null,
      "outputs": []
    },
    {
      "cell_type": "markdown",
      "metadata": {
        "id": "sWXjzorB2sgO"
      },
      "source": [
        "พยายามใช้ภาษาอังกฤษ"
      ]
    },
    {
      "cell_type": "code",
      "metadata": {
        "id": "4zLfuUnx2PnV"
      },
      "source": [
        "ตัวแปร = 3   #colab ใช้ชื่อภาษาไทยได้แต่ไม่ควรใช้\n",
        "ตัวแปร"
      ],
      "execution_count": null,
      "outputs": []
    },
    {
      "cell_type": "markdown",
      "metadata": {
        "id": "l6bP5d7-24qA"
      },
      "source": [
        "ตัวเล็กกับตัวใหญ่แตกต่างกัน (case sensitive)"
      ]
    },
    {
      "cell_type": "code",
      "metadata": {
        "id": "V3_255at2-CN"
      },
      "source": [
        "v_a = 1\n",
        "V_a = 2\n",
        "print(v_a)\n",
        "print(V_a)"
      ],
      "execution_count": null,
      "outputs": []
    },
    {
      "cell_type": "code",
      "metadata": {
        "id": "VEcmmLl43Tdr"
      },
      "source": [
        "v_a = 1\n",
        "v_a = 2\n",
        "print(v_a)\n",
        "print(v_a)"
      ],
      "execution_count": null,
      "outputs": []
    },
    {
      "cell_type": "markdown",
      "metadata": {
        "id": "978gH5R_3lrX"
      },
      "source": [
        "ห้ามใช้ตัวเลขเป็นชื่อตัวแปร"
      ]
    },
    {
      "cell_type": "code",
      "metadata": {
        "id": "JSe5qieR3pSn"
      },
      "source": [
        "2 = 1 "
      ],
      "execution_count": null,
      "outputs": []
    },
    {
      "cell_type": "code",
      "metadata": {
        "id": "4CNazNUw3poe"
      },
      "source": [
        " 2ab = 1 "
      ],
      "execution_count": null,
      "outputs": []
    },
    {
      "cell_type": "markdown",
      "metadata": {
        "id": "QoF5fe5n3wuA"
      },
      "source": [
        "แต่ใช้ตัวเลขเป็นตัวหลังไม่มีปัญหา"
      ]
    },
    {
      "cell_type": "code",
      "metadata": {
        "id": "fObZj-3H30YL"
      },
      "source": [
        "variable = 1\n",
        "print(variable)"
      ],
      "execution_count": null,
      "outputs": []
    },
    {
      "cell_type": "code",
      "metadata": {
        "id": "05F88kcd4BSg"
      },
      "source": [
        "variable_a = 12    \n",
        "variable_b = 'abcde'  # ' เรียกว่า quote  ตัวที่มี quote = string\n",
        "variable_c = variable_a\n",
        "variable_d = -41.2\n",
        "variable_4 = \"KKU\" #\"\" เรียก double qoute ก็คือ string เลือใช้ได้เลยว่าจะใช้ ' \" "
      ],
      "execution_count": null,
      "outputs": []
    },
    {
      "cell_type": "code",
      "metadata": {
        "id": "N1xvH2uZ4gD7"
      },
      "source": [
        "variable_x = variable_c + variable_d \n",
        "print(variable_x)"
      ],
      "execution_count": null,
      "outputs": []
    },
    {
      "cell_type": "code",
      "metadata": {
        "id": "8ntgoJeX6Hhl"
      },
      "source": [
        "variable a + variable_b"
      ],
      "execution_count": null,
      "outputs": []
    },
    {
      "cell_type": "code",
      "metadata": {
        "id": "8SfnK1Q76XyP"
      },
      "source": [
        "print(variable_b + variable_4)"
      ],
      "execution_count": null,
      "outputs": []
    },
    {
      "cell_type": "markdown",
      "metadata": {
        "id": "BqQvcdaA7BRc"
      },
      "source": [
        "##Casting  int()  float() str()\n",
        "\n",
        "คือเราสามารถเปลี่ยนชนิดของตัวแปรได้ "
      ]
    },
    {
      "cell_type": "code",
      "metadata": {
        "id": "CDV8YdZL7Vpf"
      },
      "source": [
        "print(variable_x)\n",
        "print(int(variable_x))"
      ],
      "execution_count": null,
      "outputs": []
    },
    {
      "cell_type": "code",
      "metadata": {
        "id": "NaMc5Jcg7pU1"
      },
      "source": [
        "V_X = str(variable_x)\n",
        "print(V_X)"
      ],
      "execution_count": null,
      "outputs": []
    },
    {
      "cell_type": "code",
      "metadata": {
        "id": "WO7bSCy771wS"
      },
      "source": [
        "V_X + variable_a  #ตัวอข้างหน้าเป็น str ไม่สามารถเอาตัวเลขมาบวกได้"
      ],
      "execution_count": null,
      "outputs": []
    },
    {
      "cell_type": "code",
      "metadata": {
        "id": "lM72Acfn8AT_"
      },
      "source": [
        "variable_a + V_X  #ตัวเลขก็ไม่สามารถเอา str มาบวกได้เหมือนกัน"
      ],
      "execution_count": null,
      "outputs": []
    },
    {
      "cell_type": "code",
      "metadata": {
        "id": "02t95nIn8KhI"
      },
      "source": [
        "V_X"
      ],
      "execution_count": null,
      "outputs": []
    },
    {
      "cell_type": "code",
      "metadata": {
        "id": "rzmTLlfC8Kdp"
      },
      "source": [
        "float(V_X)"
      ],
      "execution_count": null,
      "outputs": []
    },
    {
      "cell_type": "markdown",
      "metadata": {
        "id": "nQQTMUe_9Nel"
      },
      "source": [
        "##Data Structure\n",
        "###list() "
      ]
    },
    {
      "cell_type": "code",
      "metadata": {
        "id": "c7BYxtBa8KVg"
      },
      "source": [
        "list_a = [1,2,0.2,'abs' ]  #[ ] square brackets\n",
        "list_b = [2,'xyz' ,list_a, [1,2,0.0]]"
      ],
      "execution_count": null,
      "outputs": []
    },
    {
      "cell_type": "code",
      "metadata": {
        "id": "F4gu9jbT98Jl"
      },
      "source": [
        "list_a"
      ],
      "execution_count": null,
      "outputs": []
    },
    {
      "cell_type": "code",
      "metadata": {
        "id": "5HCuiw799_ro"
      },
      "source": [
        "list_b"
      ],
      "execution_count": null,
      "outputs": []
    },
    {
      "cell_type": "code",
      "metadata": {
        "id": "8Koj9_dJ-LSx"
      },
      "source": [
        "len(list_b) #len = ความยาวดูสมาขิกใน list"
      ],
      "execution_count": null,
      "outputs": []
    },
    {
      "cell_type": "code",
      "metadata": {
        "id": "cl7sZ9h7-ULt"
      },
      "source": [
        "list_b[3] #ชี้สมาชิกในลิสต์ได้เพื่อดึงค่ามันออกมา"
      ],
      "execution_count": null,
      "outputs": []
    },
    {
      "cell_type": "code",
      "metadata": {
        "id": "za16k1_1-eW2"
      },
      "source": [
        "list_b[3][1]"
      ],
      "execution_count": null,
      "outputs": []
    },
    {
      "cell_type": "markdown",
      "metadata": {
        "id": "iNpaeVsT-4w6"
      },
      "source": [
        "string คือ list ของตัวหนังสือ"
      ]
    },
    {
      "cell_type": "code",
      "metadata": {
        "id": "1vXBJ8Lg-_Wo"
      },
      "source": [
        "a = 'Stat KKU'"
      ],
      "execution_count": null,
      "outputs": []
    },
    {
      "cell_type": "code",
      "metadata": {
        "id": "bjteqzhm_K3_"
      },
      "source": [
        "a[4]"
      ],
      "execution_count": null,
      "outputs": []
    },
    {
      "cell_type": "markdown",
      "metadata": {
        "id": "KNsG-Iwh_f54"
      },
      "source": [
        "###วิธีสร้าง list ว่าง"
      ]
    },
    {
      "cell_type": "code",
      "metadata": {
        "id": "4hzruuqs_mXt"
      },
      "source": [
        "list_c = list()  #แบบที่1\n",
        "list_d = []     #แบบที่2"
      ],
      "execution_count": null,
      "outputs": []
    },
    {
      "cell_type": "code",
      "metadata": {
        "id": "-m2vJKj0_3ic"
      },
      "source": [
        "list_c"
      ],
      "execution_count": null,
      "outputs": []
    },
    {
      "cell_type": "code",
      "metadata": {
        "id": "Id9oX0ML_68c"
      },
      "source": [
        "list_d"
      ],
      "execution_count": null,
      "outputs": []
    },
    {
      "cell_type": "markdown",
      "metadata": {
        "id": "AQuHK_zKAT-a"
      },
      "source": [
        "เติมค่าลงไปใน list (.append())"
      ]
    },
    {
      "cell_type": "code",
      "metadata": {
        "id": "uY0uf6T0BBWJ"
      },
      "source": [
        "list_d.append('a')"
      ],
      "execution_count": null,
      "outputs": []
    },
    {
      "cell_type": "code",
      "metadata": {
        "id": "DE6eIh2eBC02"
      },
      "source": [
        "list_d"
      ],
      "execution_count": null,
      "outputs": []
    },
    {
      "cell_type": "code",
      "metadata": {
        "id": "uZNHlWWzBEMU"
      },
      "source": [
        "list_d.append(56)"
      ],
      "execution_count": null,
      "outputs": []
    },
    {
      "cell_type": "code",
      "metadata": {
        "id": "LE-CNK2DBE39"
      },
      "source": [
        "list_d"
      ],
      "execution_count": null,
      "outputs": []
    },
    {
      "cell_type": "markdown",
      "metadata": {
        "id": "jzt0BecMBHt1"
      },
      "source": [
        "การชี้ค่าใน list (indexing)\n",
        "\n",
        "1.   ใช้ลำดับในการชี้\n",
        "2.   ลำดับเริ่มจาก 0\n",
        "3.   สามารถชี้จากข้างหลังโดยใช้ negative index\n",
        "\n",
        "\n",
        "\n",
        "\n"
      ]
    },
    {
      "cell_type": "code",
      "metadata": {
        "id": "96n7_JwiBgUQ"
      },
      "source": [
        "list_b"
      ],
      "execution_count": null,
      "outputs": []
    },
    {
      "cell_type": "code",
      "metadata": {
        "id": "vYO1YfhqBizv"
      },
      "source": [
        "list_b[-1]"
      ],
      "execution_count": null,
      "outputs": []
    },
    {
      "cell_type": "markdown",
      "metadata": {
        "id": "kqvkjZegCF2N"
      },
      "source": [
        "### list slicing"
      ]
    },
    {
      "cell_type": "code",
      "metadata": {
        "id": "QI5EP5dCCR09"
      },
      "source": [
        "list_ex = [1,2,3,5,6,8,-1,20,50,0]"
      ],
      "execution_count": null,
      "outputs": []
    },
    {
      "cell_type": "markdown",
      "metadata": {
        "id": "tUi2eK7YC5Q8"
      },
      "source": [
        "เราจะตัด list โดยเอาตั้งแต่ [ตัวหน้า:ตัวก่อนตัวหลัง] \n",
        "ถ้าเป็นสัญลักษณ์คณิตศาสตร์  [ตัวหน้า,ตัวหลัง] -> [ตัวหน้า,ตัวหลัง)\n",
        "ไม่ระบุด้ายท้าก็คือเอาถึงตัวท้ายไม่ระบุด้านหน้าก็คือเอาตั้งแต่ตัวหน้า"
      ]
    },
    {
      "cell_type": "code",
      "metadata": {
        "id": "VX9zWVPCCcuA"
      },
      "source": [
        "list_ex[1:6]  #: ใช้  colon ในการตัด "
      ],
      "execution_count": null,
      "outputs": []
    },
    {
      "cell_type": "code",
      "metadata": {
        "id": "ZpwW6AaHDX2E"
      },
      "source": [
        "list_ex[4:]  #เว้นข้างหลังเอาไว้แสดงว่าเอาไปจนถึงตัวสุดท้าย"
      ],
      "execution_count": null,
      "outputs": []
    },
    {
      "cell_type": "code",
      "metadata": {
        "id": "nhG9mQRBDgpH"
      },
      "source": [
        "list_ex[:6]  #เว้นข้างหน้าคือเอาตั้งแต่ตัวแรก "
      ],
      "execution_count": null,
      "outputs": []
    },
    {
      "cell_type": "code",
      "metadata": {
        "id": "dQItRKOUD8Hy"
      },
      "source": [
        "list_ex[:-1:]"
      ],
      "execution_count": null,
      "outputs": []
    },
    {
      "cell_type": "markdown",
      "metadata": {
        "id": "bqTjExDiERFT"
      },
      "source": [
        "[จุดเริ่มต้น:จุดสุดท้าย:step]"
      ]
    },
    {
      "cell_type": "code",
      "metadata": {
        "id": "upBKBfoDEZEG"
      },
      "source": [
        "list_ex"
      ],
      "execution_count": null,
      "outputs": []
    },
    {
      "cell_type": "code",
      "metadata": {
        "id": "hvD2d3i3EcEX"
      },
      "source": [
        "list_ex[::2]  #ขอบเขตด้านหน้าขอบเขตด้านหลังและstep"
      ],
      "execution_count": null,
      "outputs": []
    },
    {
      "cell_type": "code",
      "metadata": {
        "id": "Ah-ET2bNElhq"
      },
      "source": [
        "list_ex[::-1]  #กลับlist ที่กระโดด การกลับlistนั่นเองอิอิ"
      ],
      "execution_count": null,
      "outputs": []
    },
    {
      "cell_type": "code",
      "metadata": {
        "id": "7ya7fBeEE-3l"
      },
      "source": [
        "a"
      ],
      "execution_count": null,
      "outputs": []
    },
    {
      "cell_type": "code",
      "metadata": {
        "id": "HW81g9jHFBq-"
      },
      "source": [
        "a[:4]"
      ],
      "execution_count": null,
      "outputs": []
    },
    {
      "cell_type": "code",
      "metadata": {
        "id": "WtdqmqccFtON"
      },
      "source": [
        "a[5:]"
      ],
      "execution_count": null,
      "outputs": []
    },
    {
      "cell_type": "code",
      "metadata": {
        "id": "aDXumo-CF3Sm"
      },
      "source": [
        "a[-3:]"
      ],
      "execution_count": null,
      "outputs": []
    },
    {
      "cell_type": "code",
      "metadata": {
        "id": "PaDweoLOF76R"
      },
      "source": [
        "a[5:8]"
      ],
      "execution_count": null,
      "outputs": []
    },
    {
      "cell_type": "code",
      "metadata": {
        "id": "5yu8t73aGGbU"
      },
      "source": [
        "a[5::]"
      ],
      "execution_count": null,
      "outputs": []
    },
    {
      "cell_type": "code",
      "metadata": {
        "id": "_Ilc3IvcGJQM"
      },
      "source": [
        "a[-3::]"
      ],
      "execution_count": null,
      "outputs": []
    },
    {
      "cell_type": "markdown",
      "metadata": {
        "id": "XS1Oh5miGnel"
      },
      "source": [
        "### list + list"
      ]
    },
    {
      "cell_type": "code",
      "metadata": {
        "id": "lnCE9vjoGtlM"
      },
      "source": [
        "print(list_a)\n",
        "print(list_b)"
      ],
      "execution_count": null,
      "outputs": []
    },
    {
      "cell_type": "code",
      "metadata": {
        "id": "3YS1OAQbGug8"
      },
      "source": [
        "list_a + list_b"
      ],
      "execution_count": null,
      "outputs": []
    },
    {
      "cell_type": "markdown",
      "metadata": {
        "id": "yGXexZLVLO_t"
      },
      "source": [
        "format string"
      ]
    },
    {
      "cell_type": "markdown",
      "metadata": {
        "id": "gnC2tymOL4yC"
      },
      "source": [
        "f'string{ตัวแปร}'"
      ]
    },
    {
      "cell_type": "code",
      "metadata": {
        "id": "zCqFlKVRLRzV"
      },
      "source": [
        "f'ตัวแปร list_a มีค่าคือ {list_a} '\n"
      ],
      "execution_count": null,
      "outputs": []
    },
    {
      "cell_type": "markdown",
      "metadata": {
        "id": "LhUcfvXcHNUK"
      },
      "source": [
        "##Loop\n",
        "       python\n",
        "for ตัวแปรที่จะรับค่าจากลิสต์  in ลิสต์ที่จะนำมาวนลูป:\n",
        "  do something  #in loop\n",
        "  do another thing #in loop\n",
        "\n",
        "do other things #out side loop\n",
        "  \n",
        "การที่ทำอะไรซ้ำๆอาจเปลี่ยนเล็กน้อยแต่วนซ้ำไปเรื่อยๆ\n"
      ]
    },
    {
      "cell_type": "code",
      "metadata": {
        "id": "dKywJjw-JoPM"
      },
      "source": [
        "for i in {1,2,3,4,5}:\n",
        "    print(i+1)   #ก็คือ1+1,2+1,3+1,4+1,5+1\n"
      ],
      "execution_count": null,
      "outputs": []
    },
    {
      "cell_type": "code",
      "metadata": {
        "id": "9T7gmHG0MsMg"
      },
      "source": [
        "for x in [1,2,3,4,5]:\n",
        "    print(f'ค่าตัวแปร x คือ {x} และ x+2={x+2}')"
      ],
      "execution_count": null,
      "outputs": []
    },
    {
      "cell_type": "code",
      "metadata": {
        "id": "hA6vqlzMNADx"
      },
      "source": [
        "list5={1,2,3,4,5}\n",
        "for x in list5:\n",
        "    print(f'ค่าตัวแปร x คือ {x} และ x+2={x+2}')"
      ],
      "execution_count": null,
      "outputs": []
    },
    {
      "cell_type": "code",
      "metadata": {
        "id": "uDinrBcxNVh3"
      },
      "source": [
        "list(range(10))"
      ],
      "execution_count": null,
      "outputs": []
    },
    {
      "cell_type": "code",
      "metadata": {
        "id": "8Zt1SFnwNZZo"
      },
      "source": [
        "for i in range(2,7):  #จุดเริ่ม จุดจบ step\n",
        "  print(i)"
      ],
      "execution_count": null,
      "outputs": []
    },
    {
      "cell_type": "code",
      "metadata": {
        "id": "Gno8RvfwN6mF"
      },
      "source": [
        "for i in range(2,7,2): \n",
        "  print(i)"
      ],
      "execution_count": null,
      "outputs": []
    },
    {
      "cell_type": "code",
      "metadata": {
        "id": "8EnZEzQSOZsV"
      },
      "source": [
        "for i in range(5):    #range เป็น list ที่ยังไม่ได้ถูกใส่ไว้ใน memory จะเจน list ตามจำนวนที่เราใส่ให้มัน\n",
        "  print('hahaha')\n",
        "  x = i+3\n",
        "  print(f'i={i} x={x}')"
      ],
      "execution_count": null,
      "outputs": []
    },
    {
      "cell_type": "markdown",
      "metadata": {
        "id": "I1AZadn4PFqh"
      },
      "source": [
        "##Nested loop\n",
        "ก็คือ loop ซ้อน loop ไปเรื่อยๆ "
      ]
    },
    {
      "cell_type": "code",
      "metadata": {
        "id": "i9yihHhXPMog"
      },
      "source": [
        "for i in range(3):\n",
        "  print(f'now i = {i}')\n",
        "  print ('start j loop')\n",
        "  for j in range(4):\n",
        "    print(f' i = {i} j = {j} i+j = {i+j}')\n",
        "  print ('end j loop')"
      ],
      "execution_count": null,
      "outputs": []
    },
    {
      "cell_type": "markdown",
      "metadata": {
        "id": "wEWT-yxTI-dZ"
      },
      "source": [
        "##Condition  (if statement)\n",
        "   python\n",
        "if เงื่อนไขที่จะตรวจสอบ โดยใช้สัญลักษณ์ ==,!=,<,>,<=,>=):\n",
        "  \n",
        "  ถ้าเงื่อนไขเป็นจริง  ทำงาน 1\n",
        "  \n",
        "  ถ้าเงื่อนไขเป็นจริง  ทำงาน 2 \n",
        "elif เงื่อนไขที่จะตรวจสอบต่อไปถ้าเงื่อนไขข้างบนไม่เป็นจริง\n",
        "  ถ้าเงื่อนไขเป็นจริง ทำงานที่ a1\n",
        "  ถ้าเงื่อนไขเป็นจริง ทำงานที่ a2\n",
        "elif เงื่อนไขที่ตรวจสอบต่อไปถ้าเงื่อนไขข้างบนไม่เป็นจริง\n",
        "  ถ้าเงื่อนไขเป็นจริง ทำงานที่ b1\n",
        "  ถ้าเงื่อนไขเป็นจริง ทำงานที่ b2\n",
        "elif: #ตรวจสอบเงื่อนไขข้างบนแล้วไม่เป็นจริง\n",
        "  ทำงานที่ x\n",
        "\n"
      ]
    },
    {
      "cell_type": "code",
      "metadata": {
        "id": "YDiqQXBNGjib"
      },
      "source": [
        "stringx = 'sadfasdsadfweirjwersdfspadofgj'\n",
        "\n",
        "if len(stringx) > 30:\n",
        "    print(f'{stringx} is longer than 30 characters')"
      ],
      "execution_count": null,
      "outputs": []
    },
    {
      "cell_type": "code",
      "metadata": {
        "id": "WTCv0YIVHMHT"
      },
      "source": [
        "stringx = 'sadfasdsadfweirjwersdfspadofgj'\n",
        "\n",
        "if len(stringx) > 100:\n",
        "    print(f'{stringx} is longer than 30 characters')\n",
        "else:\n",
        "  print(f'{stringx} in {len(stringx)} characters')"
      ],
      "execution_count": null,
      "outputs": []
    },
    {
      "cell_type": "code",
      "metadata": {
        "id": "X0nAcBiSLHvq"
      },
      "source": [
        "password = '12345'\n",
        "\n",
        "input_pass = '123sf'\n",
        "if input_pass == password:\n",
        "    print('Welcome!')\n",
        "elif len(input_pass)  >  len(password):\n",
        "    print('Too long, try again')\n",
        "elif len(input_pass)  <  len(password):\n",
        "    print('Too short, try again')\n",
        "else:\n",
        "  print('Wrong password, try again!')"
      ],
      "execution_count": null,
      "outputs": []
    },
    {
      "cell_type": "markdown",
      "metadata": {
        "id": "hWivP2voNi9B"
      },
      "source": [
        "Quiz 1 หา Min"
      ]
    },
    {
      "cell_type": "code",
      "metadata": {
        "id": "fwBwqZ4FQ9iI"
      },
      "source": [
        "list_ex = [1,5,9,-19,-2,0]  #หาค่าน้อยที่สุดใน list โดยไม่ใช้ function min \n"
      ],
      "execution_count": null,
      "outputs": []
    },
    {
      "cell_type": "code",
      "metadata": {
        "id": "pz2wvCblTEa9"
      },
      "source": [
        "min = 1000000\n",
        "print(list_ex)\n",
        "for i in list_ex:\n",
        "  print(f'now i = {i}, min = {min}')\n",
        "  print('start condition')\n",
        "  if i < min:\n",
        "      print(f'i < min,  update min -> {i}')\n",
        "      min = i\n",
        "  else:\n",
        "        print('end condition, go to next i')\n",
        "\n",
        "print(min)"
      ],
      "execution_count": null,
      "outputs": []
    },
    {
      "cell_type": "markdown",
      "metadata": {
        "id": "eGTq8uuHJP_Y"
      },
      "source": [
        "##Function"
      ]
    },
    {
      "cell_type": "markdown",
      "metadata": {
        "id": "X_mXziBmVxBG"
      },
      "source": [
        "HW3 ตัดเกรด"
      ]
    },
    {
      "cell_type": "code",
      "metadata": {
        "id": "kWK5aEdHV11z"
      },
      "source": [
        "score = [49,65,70,95,82,55,89,20,77,77,81,59,10]  #ตัดเกรด คะแนนใน list score ใช้ if กับ for "
      ],
      "execution_count": 5,
      "outputs": []
    },
    {
      "cell_type": "code",
      "metadata": {
        "id": "XxYD3S_NV_-S",
        "outputId": "9ef0f80e-ae4b-4bba-83ee-98ba35fd4c99",
        "colab": {
          "base_uri": "https://localhost:8080/"
        }
      },
      "source": [
        "score =  [49,65,70,95,82,55,89,20,77,77,81,59,10] \n",
        "for i in score:\n",
        "\n",
        "  if i >= 80:\n",
        "    print(f'{i} = A')\n",
        "  elif i >= 75 and i < 80:\n",
        "    print(f'{i} = B+')\n",
        "  elif i >= 70 and i < 75:\n",
        "     print(f'{i} = B')\n",
        "  elif i >= 65 and i < 70:\n",
        "    print(f'{i} = C+')\n",
        "  elif i >= 60 and i < 65:\n",
        "     print(f'{i} = C')\n",
        "  elif i >= 55 and i < 60:\n",
        "    print(f'{i} = D+')\n",
        "  elif i >= 50 and i < 55:\n",
        "     print(f'{i} = D')\n",
        "  else:\n",
        "    print(f'{i} = F')\n",
        "\n"
      ],
      "execution_count": 13,
      "outputs": [
        {
          "output_type": "stream",
          "text": [
            "49 = F\n",
            "65 = C+\n",
            "70 = B\n",
            "95 = A\n",
            "82 = A\n",
            "55 = D+\n",
            "89 = A\n",
            "20 = F\n",
            "77 = B+\n",
            "77 = B+\n",
            "81 = A\n",
            "59 = D+\n",
            "10 = F\n"
          ],
          "name": "stdout"
        }
      ]
    }
  ]
}