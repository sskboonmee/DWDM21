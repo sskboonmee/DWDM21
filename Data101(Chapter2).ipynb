{
  "nbformat": 4,
  "nbformat_minor": 0,
  "metadata": {
    "colab": {
      "name": "Data101(Chapter2).ipynb",
      "provenance": [],
      "authorship_tag": "ABX9TyNccKZNNq7DgmFHuC4iovrS",
      "include_colab_link": true
    },
    "kernelspec": {
      "name": "python3",
      "display_name": "Python 3"
    },
    "language_info": {
      "name": "python"
    }
  },
  "cells": [
    {
      "cell_type": "markdown",
      "metadata": {
        "id": "view-in-github",
        "colab_type": "text"
      },
      "source": [
        "<a href=\"https://colab.research.google.com/github/sskboonmee/DWDM21/blob/main/Data101(Chapter2).ipynb\" target=\"_parent\"><img src=\"https://colab.research.google.com/assets/colab-badge.svg\" alt=\"Open In Colab\"/></a>"
      ]
    },
    {
      "cell_type": "markdown",
      "metadata": {
        "id": "mKDeGaMIz3yv"
      },
      "source": [
        "ข้อความที่อยู่ใน Textbox จะเป็นภาษา markdown"
      ]
    },
    {
      "cell_type": "markdown",
      "metadata": {
        "id": "xa2R0vnhtn_v"
      },
      "source": [
        "ข้อดีหนึ่งของ ข้อดีหนึ่งของ Python คือมี package สำหรับทำงานต่างๆมากมาย \n",
        "\n",
        "ซึ่ง pandas เป็น package สำหรับการทำงานกับข้อมูลที่อยู่ในรูปแบบตาราง \n",
        "\n",
        "โดย Pandas จะเรียกตารางนั้นว่า dataframe"
      ]
    },
    {
      "cell_type": "code",
      "metadata": {
        "id": "Wu3ibE1fr6Zr"
      },
      "source": [
        "import pandas    #วิธีเรียกใช้ package คือ import ตามด้วยชื่อ package  #อันนี้คือ import แบบธรรมดา"
      ],
      "execution_count": null,
      "outputs": []
    },
    {
      "cell_type": "code",
      "metadata": {
        "id": "tIC3QBQ9tBL-"
      },
      "source": [
        "import pandas as pd #เหมือนกับข้างบนแต่ว่าตั้งชื่อให้ package ที่โหลดมาใหม่ว่า่ pd "
      ],
      "execution_count": null,
      "outputs": []
    },
    {
      "cell_type": "markdown",
      "metadata": {
        "id": "YmTBc_9Yus2I"
      },
      "source": [
        "ไฟล์ที่จะได้เจอเป็นหลักเลยคือ .csv  (CSV = comma separated values) เป็นไฟล์หลักที่เราจะได้ใช้วิชานี้ \n",
        "\n",
        "ข้อดี  ไฟล์ง่ายคนอ่านได้คอมอ่านได้ เก็บข้อมูลตารางที่เข้าใจง่ายๆ \n",
        "\n",
        "การแบ่งค่าใช้ comma ในการแบ่ง และใช้ enter แบ่งว่าเป็นข้อมูลคนละ record"
      ]
    },
    {
      "cell_type": "code",
      "metadata": {
        "id": "FLC_AXeoudHz",
        "colab": {
          "base_uri": "https://localhost:8080/",
          "height": 372
        },
        "outputId": "3f97d141-3846-45a3-9fcb-abf850618629"
      },
      "source": [
        "data_df = pd.read_csv('data.csv')"
      ],
      "execution_count": null,
      "outputs": [
        {
          "output_type": "error",
          "ename": "FileNotFoundError",
          "evalue": "ignored",
          "traceback": [
            "\u001b[0;31m---------------------------------------------------------------------------\u001b[0m",
            "\u001b[0;31mFileNotFoundError\u001b[0m                         Traceback (most recent call last)",
            "\u001b[0;32m<ipython-input-4-3c6ae9713f57>\u001b[0m in \u001b[0;36m<module>\u001b[0;34m()\u001b[0m\n\u001b[0;32m----> 1\u001b[0;31m \u001b[0mdata_df\u001b[0m \u001b[0;34m=\u001b[0m \u001b[0mpd\u001b[0m\u001b[0;34m.\u001b[0m\u001b[0mread_csv\u001b[0m\u001b[0;34m(\u001b[0m\u001b[0;34m'data.csv'\u001b[0m\u001b[0;34m)\u001b[0m\u001b[0;34m\u001b[0m\u001b[0;34m\u001b[0m\u001b[0m\n\u001b[0m",
            "\u001b[0;32m/usr/local/lib/python3.7/dist-packages/pandas/io/parsers.py\u001b[0m in \u001b[0;36mread_csv\u001b[0;34m(filepath_or_buffer, sep, delimiter, header, names, index_col, usecols, squeeze, prefix, mangle_dupe_cols, dtype, engine, converters, true_values, false_values, skipinitialspace, skiprows, skipfooter, nrows, na_values, keep_default_na, na_filter, verbose, skip_blank_lines, parse_dates, infer_datetime_format, keep_date_col, date_parser, dayfirst, cache_dates, iterator, chunksize, compression, thousands, decimal, lineterminator, quotechar, quoting, doublequote, escapechar, comment, encoding, dialect, error_bad_lines, warn_bad_lines, delim_whitespace, low_memory, memory_map, float_precision)\u001b[0m\n\u001b[1;32m    686\u001b[0m     )\n\u001b[1;32m    687\u001b[0m \u001b[0;34m\u001b[0m\u001b[0m\n\u001b[0;32m--> 688\u001b[0;31m     \u001b[0;32mreturn\u001b[0m \u001b[0m_read\u001b[0m\u001b[0;34m(\u001b[0m\u001b[0mfilepath_or_buffer\u001b[0m\u001b[0;34m,\u001b[0m \u001b[0mkwds\u001b[0m\u001b[0;34m)\u001b[0m\u001b[0;34m\u001b[0m\u001b[0;34m\u001b[0m\u001b[0m\n\u001b[0m\u001b[1;32m    689\u001b[0m \u001b[0;34m\u001b[0m\u001b[0m\n\u001b[1;32m    690\u001b[0m \u001b[0;34m\u001b[0m\u001b[0m\n",
            "\u001b[0;32m/usr/local/lib/python3.7/dist-packages/pandas/io/parsers.py\u001b[0m in \u001b[0;36m_read\u001b[0;34m(filepath_or_buffer, kwds)\u001b[0m\n\u001b[1;32m    452\u001b[0m \u001b[0;34m\u001b[0m\u001b[0m\n\u001b[1;32m    453\u001b[0m     \u001b[0;31m# Create the parser.\u001b[0m\u001b[0;34m\u001b[0m\u001b[0;34m\u001b[0m\u001b[0;34m\u001b[0m\u001b[0m\n\u001b[0;32m--> 454\u001b[0;31m     \u001b[0mparser\u001b[0m \u001b[0;34m=\u001b[0m \u001b[0mTextFileReader\u001b[0m\u001b[0;34m(\u001b[0m\u001b[0mfp_or_buf\u001b[0m\u001b[0;34m,\u001b[0m \u001b[0;34m**\u001b[0m\u001b[0mkwds\u001b[0m\u001b[0;34m)\u001b[0m\u001b[0;34m\u001b[0m\u001b[0;34m\u001b[0m\u001b[0m\n\u001b[0m\u001b[1;32m    455\u001b[0m \u001b[0;34m\u001b[0m\u001b[0m\n\u001b[1;32m    456\u001b[0m     \u001b[0;32mif\u001b[0m \u001b[0mchunksize\u001b[0m \u001b[0;32mor\u001b[0m \u001b[0miterator\u001b[0m\u001b[0;34m:\u001b[0m\u001b[0;34m\u001b[0m\u001b[0;34m\u001b[0m\u001b[0m\n",
            "\u001b[0;32m/usr/local/lib/python3.7/dist-packages/pandas/io/parsers.py\u001b[0m in \u001b[0;36m__init__\u001b[0;34m(self, f, engine, **kwds)\u001b[0m\n\u001b[1;32m    946\u001b[0m             \u001b[0mself\u001b[0m\u001b[0;34m.\u001b[0m\u001b[0moptions\u001b[0m\u001b[0;34m[\u001b[0m\u001b[0;34m\"has_index_names\"\u001b[0m\u001b[0;34m]\u001b[0m \u001b[0;34m=\u001b[0m \u001b[0mkwds\u001b[0m\u001b[0;34m[\u001b[0m\u001b[0;34m\"has_index_names\"\u001b[0m\u001b[0;34m]\u001b[0m\u001b[0;34m\u001b[0m\u001b[0;34m\u001b[0m\u001b[0m\n\u001b[1;32m    947\u001b[0m \u001b[0;34m\u001b[0m\u001b[0m\n\u001b[0;32m--> 948\u001b[0;31m         \u001b[0mself\u001b[0m\u001b[0;34m.\u001b[0m\u001b[0m_make_engine\u001b[0m\u001b[0;34m(\u001b[0m\u001b[0mself\u001b[0m\u001b[0;34m.\u001b[0m\u001b[0mengine\u001b[0m\u001b[0;34m)\u001b[0m\u001b[0;34m\u001b[0m\u001b[0;34m\u001b[0m\u001b[0m\n\u001b[0m\u001b[1;32m    949\u001b[0m \u001b[0;34m\u001b[0m\u001b[0m\n\u001b[1;32m    950\u001b[0m     \u001b[0;32mdef\u001b[0m \u001b[0mclose\u001b[0m\u001b[0;34m(\u001b[0m\u001b[0mself\u001b[0m\u001b[0;34m)\u001b[0m\u001b[0;34m:\u001b[0m\u001b[0;34m\u001b[0m\u001b[0;34m\u001b[0m\u001b[0m\n",
            "\u001b[0;32m/usr/local/lib/python3.7/dist-packages/pandas/io/parsers.py\u001b[0m in \u001b[0;36m_make_engine\u001b[0;34m(self, engine)\u001b[0m\n\u001b[1;32m   1178\u001b[0m     \u001b[0;32mdef\u001b[0m \u001b[0m_make_engine\u001b[0m\u001b[0;34m(\u001b[0m\u001b[0mself\u001b[0m\u001b[0;34m,\u001b[0m \u001b[0mengine\u001b[0m\u001b[0;34m=\u001b[0m\u001b[0;34m\"c\"\u001b[0m\u001b[0;34m)\u001b[0m\u001b[0;34m:\u001b[0m\u001b[0;34m\u001b[0m\u001b[0;34m\u001b[0m\u001b[0m\n\u001b[1;32m   1179\u001b[0m         \u001b[0;32mif\u001b[0m \u001b[0mengine\u001b[0m \u001b[0;34m==\u001b[0m \u001b[0;34m\"c\"\u001b[0m\u001b[0;34m:\u001b[0m\u001b[0;34m\u001b[0m\u001b[0;34m\u001b[0m\u001b[0m\n\u001b[0;32m-> 1180\u001b[0;31m             \u001b[0mself\u001b[0m\u001b[0;34m.\u001b[0m\u001b[0m_engine\u001b[0m \u001b[0;34m=\u001b[0m \u001b[0mCParserWrapper\u001b[0m\u001b[0;34m(\u001b[0m\u001b[0mself\u001b[0m\u001b[0;34m.\u001b[0m\u001b[0mf\u001b[0m\u001b[0;34m,\u001b[0m \u001b[0;34m**\u001b[0m\u001b[0mself\u001b[0m\u001b[0;34m.\u001b[0m\u001b[0moptions\u001b[0m\u001b[0;34m)\u001b[0m\u001b[0;34m\u001b[0m\u001b[0;34m\u001b[0m\u001b[0m\n\u001b[0m\u001b[1;32m   1181\u001b[0m         \u001b[0;32melse\u001b[0m\u001b[0;34m:\u001b[0m\u001b[0;34m\u001b[0m\u001b[0;34m\u001b[0m\u001b[0m\n\u001b[1;32m   1182\u001b[0m             \u001b[0;32mif\u001b[0m \u001b[0mengine\u001b[0m \u001b[0;34m==\u001b[0m \u001b[0;34m\"python\"\u001b[0m\u001b[0;34m:\u001b[0m\u001b[0;34m\u001b[0m\u001b[0;34m\u001b[0m\u001b[0m\n",
            "\u001b[0;32m/usr/local/lib/python3.7/dist-packages/pandas/io/parsers.py\u001b[0m in \u001b[0;36m__init__\u001b[0;34m(self, src, **kwds)\u001b[0m\n\u001b[1;32m   2008\u001b[0m         \u001b[0mkwds\u001b[0m\u001b[0;34m[\u001b[0m\u001b[0;34m\"usecols\"\u001b[0m\u001b[0;34m]\u001b[0m \u001b[0;34m=\u001b[0m \u001b[0mself\u001b[0m\u001b[0;34m.\u001b[0m\u001b[0musecols\u001b[0m\u001b[0;34m\u001b[0m\u001b[0;34m\u001b[0m\u001b[0m\n\u001b[1;32m   2009\u001b[0m \u001b[0;34m\u001b[0m\u001b[0m\n\u001b[0;32m-> 2010\u001b[0;31m         \u001b[0mself\u001b[0m\u001b[0;34m.\u001b[0m\u001b[0m_reader\u001b[0m \u001b[0;34m=\u001b[0m \u001b[0mparsers\u001b[0m\u001b[0;34m.\u001b[0m\u001b[0mTextReader\u001b[0m\u001b[0;34m(\u001b[0m\u001b[0msrc\u001b[0m\u001b[0;34m,\u001b[0m \u001b[0;34m**\u001b[0m\u001b[0mkwds\u001b[0m\u001b[0;34m)\u001b[0m\u001b[0;34m\u001b[0m\u001b[0;34m\u001b[0m\u001b[0m\n\u001b[0m\u001b[1;32m   2011\u001b[0m         \u001b[0mself\u001b[0m\u001b[0;34m.\u001b[0m\u001b[0munnamed_cols\u001b[0m \u001b[0;34m=\u001b[0m \u001b[0mself\u001b[0m\u001b[0;34m.\u001b[0m\u001b[0m_reader\u001b[0m\u001b[0;34m.\u001b[0m\u001b[0munnamed_cols\u001b[0m\u001b[0;34m\u001b[0m\u001b[0;34m\u001b[0m\u001b[0m\n\u001b[1;32m   2012\u001b[0m \u001b[0;34m\u001b[0m\u001b[0m\n",
            "\u001b[0;32mpandas/_libs/parsers.pyx\u001b[0m in \u001b[0;36mpandas._libs.parsers.TextReader.__cinit__\u001b[0;34m()\u001b[0m\n",
            "\u001b[0;32mpandas/_libs/parsers.pyx\u001b[0m in \u001b[0;36mpandas._libs.parsers.TextReader._setup_parser_source\u001b[0;34m()\u001b[0m\n",
            "\u001b[0;31mFileNotFoundError\u001b[0m: [Errno 2] No such file or directory: 'data.csv'"
          ]
        }
      ]
    },
    {
      "cell_type": "code",
      "metadata": {
        "id": "WcXC3ttHxXUf"
      },
      "source": [
        "data_df"
      ],
      "execution_count": null,
      "outputs": []
    },
    {
      "cell_type": "code",
      "metadata": {
        "id": "58b9Rr4JyD4c"
      },
      "source": [
        "data_df2 = pandas.read_csv('data.csv')\n",
        "data_df2"
      ],
      "execution_count": null,
      "outputs": []
    },
    {
      "cell_type": "markdown",
      "metadata": {
        "id": "DgtdsrBqylFm"
      },
      "source": [
        "#Basic Python\n",
        "## Variable \n",
        "ตัวแปร คือคล้ายๆกับกล่องที่ไว้ใส่ข้อมูล  ชื่อตัวแปรต้องเป็นตัวอักษรติดกันหมดเลยห้ามมีเว้นวรรค ถ้าอยากมีชื่อเพิ่มก็_ก่อน\n"
      ]
    },
    {
      "cell_type": "markdown",
      "metadata": {
        "id": "_XDDrQrc1nqT"
      },
      "source": [
        "ข้อกำหนดในการตั้งชื่อตัวแปร\n",
        "\n",
        "1.   ชื่อห้ามมีเว้นวรรค\n",
        "2.   (พยายาม)ใช้ภาษาอังกฤษ \n",
        "\n",
        "1.   ตัวเล็กกับตัวใหญ่แตกต่างกัน คือมันจะเป็นคนละตัวแปร (case sensitive)\n",
        "2.   ห้ามใช้ตัวเลขเป็นตัวหน้า\n",
        "\n",
        "\n",
        "\n",
        "\n"
      ]
    },
    {
      "cell_type": "code",
      "metadata": {
        "id": "DXvCLjH6yR3q"
      },
      "source": [
        "variable_a = 12    \n",
        "variable_b = 'abcde'  # ' เรียกว่า quote  ตัวที่มี quote = string\n",
        "variable_c = variable_a"
      ],
      "execution_count": null,
      "outputs": []
    },
    {
      "cell_type": "code",
      "metadata": {
        "id": "MpEcde4F0VnP"
      },
      "source": [
        "variable_a"
      ],
      "execution_count": null,
      "outputs": []
    },
    {
      "cell_type": "code",
      "metadata": {
        "id": "6yMz5bLh0VTM"
      },
      "source": [
        "variable_b"
      ],
      "execution_count": null,
      "outputs": []
    },
    {
      "cell_type": "code",
      "metadata": {
        "id": "pVg7kjCF0U_1"
      },
      "source": [
        "variable_c"
      ],
      "execution_count": null,
      "outputs": []
    },
    {
      "cell_type": "markdown",
      "metadata": {
        "id": "DkfPZ0lK2ppt"
      },
      "source": [
        "ชื่อห้ามมีเว้นวรรค"
      ]
    },
    {
      "cell_type": "code",
      "metadata": {
        "id": "j1zycqlI0U8W"
      },
      "source": [
        "variable a = 6"
      ],
      "execution_count": null,
      "outputs": []
    },
    {
      "cell_type": "markdown",
      "metadata": {
        "id": "sWXjzorB2sgO"
      },
      "source": [
        "พยายามใช้ภาษาอังกฤษ"
      ]
    },
    {
      "cell_type": "code",
      "metadata": {
        "id": "4zLfuUnx2PnV"
      },
      "source": [
        "ตัวแปร = 3   #colab ใช้ชื่อภาษาไทยได้แต่ไม่ควรใช้\n",
        "ตัวแปร"
      ],
      "execution_count": null,
      "outputs": []
    },
    {
      "cell_type": "markdown",
      "metadata": {
        "id": "l6bP5d7-24qA"
      },
      "source": [
        "ตัวเล็กกับตัวใหญ่แตกต่างกัน (case sensitive)"
      ]
    },
    {
      "cell_type": "code",
      "metadata": {
        "id": "V3_255at2-CN"
      },
      "source": [
        "v_a = 1\n",
        "V_a = 2\n",
        "print(v_a)\n",
        "print(V_a)"
      ],
      "execution_count": null,
      "outputs": []
    },
    {
      "cell_type": "code",
      "metadata": {
        "id": "VEcmmLl43Tdr"
      },
      "source": [
        "v_a = 1\n",
        "v_a = 2\n",
        "print(v_a)\n",
        "print(v_a)"
      ],
      "execution_count": null,
      "outputs": []
    },
    {
      "cell_type": "markdown",
      "metadata": {
        "id": "978gH5R_3lrX"
      },
      "source": [
        "ห้ามใช้ตัวเลขเป็นชื่อตัวแปร"
      ]
    },
    {
      "cell_type": "code",
      "metadata": {
        "id": "JSe5qieR3pSn"
      },
      "source": [
        "2 = 1 "
      ],
      "execution_count": null,
      "outputs": []
    },
    {
      "cell_type": "code",
      "metadata": {
        "id": "4CNazNUw3poe"
      },
      "source": [
        " 2ab = 1 "
      ],
      "execution_count": null,
      "outputs": []
    },
    {
      "cell_type": "markdown",
      "metadata": {
        "id": "QoF5fe5n3wuA"
      },
      "source": [
        "แต่ใช้ตัวเลขเป็นตัวหลังไม่มีปัญหา"
      ]
    },
    {
      "cell_type": "code",
      "metadata": {
        "id": "fObZj-3H30YL"
      },
      "source": [
        "variable = 1\n",
        "print(variable)"
      ],
      "execution_count": null,
      "outputs": []
    },
    {
      "cell_type": "code",
      "metadata": {
        "id": "05F88kcd4BSg"
      },
      "source": [
        "variable_a = 12    \n",
        "variable_b = 'abcde'  # ' เรียกว่า quote  ตัวที่มี quote = string\n",
        "variable_c = variable_a\n",
        "variable_d = -41.2\n",
        "variable_4 = \"KKU\" #\"\" เรียก double qoute ก็คือ string เลือใช้ได้เลยว่าจะใช้ ' \" "
      ],
      "execution_count": null,
      "outputs": []
    },
    {
      "cell_type": "code",
      "metadata": {
        "id": "N1xvH2uZ4gD7"
      },
      "source": [
        "variable_x = variable_c + variable_d \n",
        "print(variable_x)"
      ],
      "execution_count": null,
      "outputs": []
    },
    {
      "cell_type": "code",
      "metadata": {
        "id": "8ntgoJeX6Hhl"
      },
      "source": [
        "variable a + variable_b"
      ],
      "execution_count": null,
      "outputs": []
    },
    {
      "cell_type": "code",
      "metadata": {
        "id": "8SfnK1Q76XyP"
      },
      "source": [
        "print(variable_b + variable_4)"
      ],
      "execution_count": null,
      "outputs": []
    },
    {
      "cell_type": "markdown",
      "metadata": {
        "id": "BqQvcdaA7BRc"
      },
      "source": [
        "##Casting  int()  float() str()\n",
        "\n",
        "คือเราสามารถเปลี่ยนชนิดของตัวแปรได้ "
      ]
    },
    {
      "cell_type": "code",
      "metadata": {
        "id": "CDV8YdZL7Vpf"
      },
      "source": [
        "print(variable_x)\n",
        "print(int(variable_x))"
      ],
      "execution_count": null,
      "outputs": []
    },
    {
      "cell_type": "code",
      "metadata": {
        "id": "NaMc5Jcg7pU1"
      },
      "source": [
        "V_X = str(variable_x)\n",
        "print(V_X)"
      ],
      "execution_count": null,
      "outputs": []
    },
    {
      "cell_type": "code",
      "metadata": {
        "id": "WO7bSCy771wS"
      },
      "source": [
        "V_X + variable_a  #ตัวอข้างหน้าเป็น str ไม่สามารถเอาตัวเลขมาบวกได้"
      ],
      "execution_count": null,
      "outputs": []
    },
    {
      "cell_type": "code",
      "metadata": {
        "id": "lM72Acfn8AT_"
      },
      "source": [
        "variable_a + V_X  #ตัวเลขก็ไม่สามารถเอา str มาบวกได้เหมือนกัน"
      ],
      "execution_count": null,
      "outputs": []
    },
    {
      "cell_type": "code",
      "metadata": {
        "id": "02t95nIn8KhI"
      },
      "source": [
        "V_X"
      ],
      "execution_count": null,
      "outputs": []
    },
    {
      "cell_type": "code",
      "metadata": {
        "id": "rzmTLlfC8Kdp"
      },
      "source": [
        "float(V_X)"
      ],
      "execution_count": null,
      "outputs": []
    },
    {
      "cell_type": "markdown",
      "metadata": {
        "id": "nQQTMUe_9Nel"
      },
      "source": [
        "##Data Structure\n",
        "###list() "
      ]
    },
    {
      "cell_type": "code",
      "metadata": {
        "id": "c7BYxtBa8KVg"
      },
      "source": [
        "list_a = [1,2,0.2,'abs' ]  #[ ] square brackets\n",
        "list_b = [2,'xyz' ,list_a, [1,2,0.0]]"
      ],
      "execution_count": null,
      "outputs": []
    },
    {
      "cell_type": "code",
      "metadata": {
        "id": "F4gu9jbT98Jl"
      },
      "source": [
        "list_a"
      ],
      "execution_count": null,
      "outputs": []
    },
    {
      "cell_type": "code",
      "metadata": {
        "id": "5HCuiw799_ro"
      },
      "source": [
        "list_b"
      ],
      "execution_count": null,
      "outputs": []
    },
    {
      "cell_type": "code",
      "metadata": {
        "id": "8Koj9_dJ-LSx"
      },
      "source": [
        "len(list_b) #len = ความยาวดูสมาขิกใน list"
      ],
      "execution_count": null,
      "outputs": []
    },
    {
      "cell_type": "code",
      "metadata": {
        "id": "cl7sZ9h7-ULt"
      },
      "source": [
        "list_b[3] #ชี้สมาชิกในลิสต์ได้เพื่อดึงค่ามันออกมา"
      ],
      "execution_count": null,
      "outputs": []
    },
    {
      "cell_type": "code",
      "metadata": {
        "id": "za16k1_1-eW2"
      },
      "source": [
        "list_b[3][1]"
      ],
      "execution_count": null,
      "outputs": []
    },
    {
      "cell_type": "markdown",
      "metadata": {
        "id": "iNpaeVsT-4w6"
      },
      "source": [
        "string คือ list ของตัวหนังสือ"
      ]
    },
    {
      "cell_type": "code",
      "metadata": {
        "id": "1vXBJ8Lg-_Wo"
      },
      "source": [
        "a = 'Stat KKU'"
      ],
      "execution_count": null,
      "outputs": []
    },
    {
      "cell_type": "code",
      "metadata": {
        "id": "bjteqzhm_K3_"
      },
      "source": [
        "a[4]"
      ],
      "execution_count": null,
      "outputs": []
    },
    {
      "cell_type": "markdown",
      "metadata": {
        "id": "KNsG-Iwh_f54"
      },
      "source": [
        "###วิธีสร้าง list ว่าง"
      ]
    },
    {
      "cell_type": "code",
      "metadata": {
        "id": "4hzruuqs_mXt"
      },
      "source": [
        "list_c = list()  #แบบที่1\n",
        "list_d = []     #แบบที่2"
      ],
      "execution_count": null,
      "outputs": []
    },
    {
      "cell_type": "code",
      "metadata": {
        "id": "-m2vJKj0_3ic"
      },
      "source": [
        "list_c"
      ],
      "execution_count": null,
      "outputs": []
    },
    {
      "cell_type": "code",
      "metadata": {
        "id": "Id9oX0ML_68c"
      },
      "source": [
        "list_d"
      ],
      "execution_count": null,
      "outputs": []
    },
    {
      "cell_type": "markdown",
      "metadata": {
        "id": "AQuHK_zKAT-a"
      },
      "source": [
        "เติมค่าลงไปใน list (.append())"
      ]
    },
    {
      "cell_type": "code",
      "metadata": {
        "id": "uY0uf6T0BBWJ"
      },
      "source": [
        "list_d.append('a')"
      ],
      "execution_count": null,
      "outputs": []
    },
    {
      "cell_type": "code",
      "metadata": {
        "id": "DE6eIh2eBC02"
      },
      "source": [
        "list_d"
      ],
      "execution_count": null,
      "outputs": []
    },
    {
      "cell_type": "code",
      "metadata": {
        "id": "uZNHlWWzBEMU"
      },
      "source": [
        "list_d.append(56)"
      ],
      "execution_count": null,
      "outputs": []
    },
    {
      "cell_type": "code",
      "metadata": {
        "id": "LE-CNK2DBE39"
      },
      "source": [
        "list_d"
      ],
      "execution_count": null,
      "outputs": []
    },
    {
      "cell_type": "markdown",
      "metadata": {
        "id": "jzt0BecMBHt1"
      },
      "source": [
        "การชี้ค่าใน list (indexing)\n",
        "\n",
        "1.   ใช้ลำดับในการชี้\n",
        "2.   ลำดับเริ่มจาก 0\n",
        "3.   สามารถชี้จากข้างหลังโดยใช้ negative index\n",
        "\n",
        "\n",
        "\n",
        "\n"
      ]
    },
    {
      "cell_type": "code",
      "metadata": {
        "id": "96n7_JwiBgUQ"
      },
      "source": [
        "list_b"
      ],
      "execution_count": null,
      "outputs": []
    },
    {
      "cell_type": "code",
      "metadata": {
        "id": "vYO1YfhqBizv"
      },
      "source": [
        "list_b[-1]"
      ],
      "execution_count": null,
      "outputs": []
    },
    {
      "cell_type": "markdown",
      "metadata": {
        "id": "kqvkjZegCF2N"
      },
      "source": [
        "### list slicing"
      ]
    },
    {
      "cell_type": "code",
      "metadata": {
        "id": "QI5EP5dCCR09"
      },
      "source": [
        "list_ex = [1,2,3,5,6,8,-1,20,50,0]"
      ],
      "execution_count": null,
      "outputs": []
    },
    {
      "cell_type": "markdown",
      "metadata": {
        "id": "tUi2eK7YC5Q8"
      },
      "source": [
        "เราจะตัด list โดยเอาตั้งแต่ [ตัวหน้า:ตัวก่อนตัวหลัง] \n",
        "ถ้าเป็นสัญลักษณ์คณิตศาสตร์  [ตัวหน้า,ตัวหลัง] -> [ตัวหน้า,ตัวหลัง)\n",
        "ไม่ระบุด้ายท้าก็คือเอาถึงตัวท้ายไม่ระบุด้านหน้าก็คือเอาตั้งแต่ตัวหน้า"
      ]
    },
    {
      "cell_type": "code",
      "metadata": {
        "id": "VX9zWVPCCcuA"
      },
      "source": [
        "list_ex[1:6]  #: ใช้  colon ในการตัด "
      ],
      "execution_count": null,
      "outputs": []
    },
    {
      "cell_type": "code",
      "metadata": {
        "id": "ZpwW6AaHDX2E"
      },
      "source": [
        "list_ex[4:]  #เว้นข้างหลังเอาไว้แสดงว่าเอาไปจนถึงตัวสุดท้าย"
      ],
      "execution_count": null,
      "outputs": []
    },
    {
      "cell_type": "code",
      "metadata": {
        "id": "nhG9mQRBDgpH"
      },
      "source": [
        "list_ex[:6]  #เว้นข้างหน้าคือเอาตั้งแต่ตัวแรก "
      ],
      "execution_count": null,
      "outputs": []
    },
    {
      "cell_type": "code",
      "metadata": {
        "id": "dQItRKOUD8Hy"
      },
      "source": [
        "list_ex[:-1:]"
      ],
      "execution_count": null,
      "outputs": []
    },
    {
      "cell_type": "markdown",
      "metadata": {
        "id": "bqTjExDiERFT"
      },
      "source": [
        "[จุดเริ่มต้น:จุดสุดท้าย:step]"
      ]
    },
    {
      "cell_type": "code",
      "metadata": {
        "id": "upBKBfoDEZEG"
      },
      "source": [
        "list_ex"
      ],
      "execution_count": null,
      "outputs": []
    },
    {
      "cell_type": "code",
      "metadata": {
        "id": "hvD2d3i3EcEX"
      },
      "source": [
        "list_ex[::2]  #ขอบเขตด้านหน้าขอบเขตด้านหลังและstep"
      ],
      "execution_count": null,
      "outputs": []
    },
    {
      "cell_type": "code",
      "metadata": {
        "id": "Ah-ET2bNElhq"
      },
      "source": [
        "list_ex[::-1]  #กลับlist ที่กระโดด การกลับlistนั่นเองอิอิ"
      ],
      "execution_count": null,
      "outputs": []
    },
    {
      "cell_type": "code",
      "metadata": {
        "id": "7ya7fBeEE-3l"
      },
      "source": [
        "a"
      ],
      "execution_count": null,
      "outputs": []
    },
    {
      "cell_type": "code",
      "metadata": {
        "id": "HW81g9jHFBq-"
      },
      "source": [
        "a[:4]"
      ],
      "execution_count": null,
      "outputs": []
    },
    {
      "cell_type": "code",
      "metadata": {
        "id": "WtdqmqccFtON"
      },
      "source": [
        "a[5:]"
      ],
      "execution_count": null,
      "outputs": []
    },
    {
      "cell_type": "code",
      "metadata": {
        "id": "aDXumo-CF3Sm"
      },
      "source": [
        "a[-3:]"
      ],
      "execution_count": null,
      "outputs": []
    },
    {
      "cell_type": "code",
      "metadata": {
        "id": "PaDweoLOF76R"
      },
      "source": [
        "a[5:8]"
      ],
      "execution_count": null,
      "outputs": []
    },
    {
      "cell_type": "code",
      "metadata": {
        "id": "5yu8t73aGGbU"
      },
      "source": [
        "a[5::]"
      ],
      "execution_count": null,
      "outputs": []
    },
    {
      "cell_type": "code",
      "metadata": {
        "id": "_Ilc3IvcGJQM"
      },
      "source": [
        "a[-3::]"
      ],
      "execution_count": null,
      "outputs": []
    },
    {
      "cell_type": "markdown",
      "metadata": {
        "id": "XS1Oh5miGnel"
      },
      "source": [
        "### list + list"
      ]
    },
    {
      "cell_type": "code",
      "metadata": {
        "id": "lnCE9vjoGtlM"
      },
      "source": [
        "print(list_a)\n",
        "print(list_b)"
      ],
      "execution_count": null,
      "outputs": []
    },
    {
      "cell_type": "code",
      "metadata": {
        "id": "3YS1OAQbGug8"
      },
      "source": [
        "list_a + list_b"
      ],
      "execution_count": null,
      "outputs": []
    },
    {
      "cell_type": "markdown",
      "metadata": {
        "id": "yGXexZLVLO_t"
      },
      "source": [
        "format string"
      ]
    },
    {
      "cell_type": "markdown",
      "metadata": {
        "id": "gnC2tymOL4yC"
      },
      "source": [
        "f'string{ตัวแปร}'"
      ]
    },
    {
      "cell_type": "code",
      "metadata": {
        "id": "zCqFlKVRLRzV"
      },
      "source": [
        "f'ตัวแปร list_a มีค่าคือ {list_a} '\n"
      ],
      "execution_count": null,
      "outputs": []
    },
    {
      "cell_type": "markdown",
      "metadata": {
        "id": "LhUcfvXcHNUK"
      },
      "source": [
        "##Loop\n",
        "       python\n",
        "for ตัวแปรที่จะรับค่าจากลิสต์  in ลิสต์ที่จะนำมาวนลูป:\n",
        "  do something  #in loop\n",
        "  do another thing #in loop\n",
        "\n",
        "do other things #out side loop\n",
        "  \n",
        "การที่ทำอะไรซ้ำๆอาจเปลี่ยนเล็กน้อยแต่วนซ้ำไปเรื่อยๆ\n"
      ]
    },
    {
      "cell_type": "code",
      "metadata": {
        "id": "dKywJjw-JoPM",
        "colab": {
          "base_uri": "https://localhost:8080/"
        },
        "outputId": "fdd9d7f8-245d-43d0-9140-e2ce8558e019"
      },
      "source": [
        "for i in {1,2,3,4,5}:\n",
        "    print(i+1)   #ก็คือ1+1,2+1,3+1,4+1,5+1\n"
      ],
      "execution_count": 1,
      "outputs": [
        {
          "output_type": "stream",
          "text": [
            "2\n",
            "3\n",
            "4\n",
            "5\n",
            "6\n"
          ],
          "name": "stdout"
        }
      ]
    },
    {
      "cell_type": "code",
      "metadata": {
        "id": "9T7gmHG0MsMg",
        "colab": {
          "base_uri": "https://localhost:8080/"
        },
        "outputId": "47893deb-8242-42ec-e816-448d2302cdf7"
      },
      "source": [
        "for x in [1,2,3,4,5]:\n",
        "    print(f'ค่าตัวแปร x คือ {x} และ x+2={x+2}')"
      ],
      "execution_count": 2,
      "outputs": [
        {
          "output_type": "stream",
          "text": [
            "ค่าตัวแปร x คือ 1 และ x+2=3\n",
            "ค่าตัวแปร x คือ 2 และ x+2=4\n",
            "ค่าตัวแปร x คือ 3 และ x+2=5\n",
            "ค่าตัวแปร x คือ 4 และ x+2=6\n",
            "ค่าตัวแปร x คือ 5 และ x+2=7\n"
          ],
          "name": "stdout"
        }
      ]
    },
    {
      "cell_type": "code",
      "metadata": {
        "id": "hA6vqlzMNADx",
        "colab": {
          "base_uri": "https://localhost:8080/"
        },
        "outputId": "e5b55f9b-f577-4fdf-96b4-36df1545bb5e"
      },
      "source": [
        "list5={1,2,3,4,5}\n",
        "for x in list5:\n",
        "    print(f'ค่าตัวแปร x คือ {x} และ x+2={x+2}')"
      ],
      "execution_count": 3,
      "outputs": [
        {
          "output_type": "stream",
          "text": [
            "ค่าตัวแปร x คือ 1 และ x+2=3\n",
            "ค่าตัวแปร x คือ 2 และ x+2=4\n",
            "ค่าตัวแปร x คือ 3 และ x+2=5\n",
            "ค่าตัวแปร x คือ 4 และ x+2=6\n",
            "ค่าตัวแปร x คือ 5 และ x+2=7\n"
          ],
          "name": "stdout"
        }
      ]
    },
    {
      "cell_type": "code",
      "metadata": {
        "id": "uDinrBcxNVh3",
        "colab": {
          "base_uri": "https://localhost:8080/"
        },
        "outputId": "681d78c1-6d15-420a-8572-bed191da1681"
      },
      "source": [
        "list(range(10))"
      ],
      "execution_count": 4,
      "outputs": [
        {
          "output_type": "execute_result",
          "data": {
            "text/plain": [
              "[0, 1, 2, 3, 4, 5, 6, 7, 8, 9]"
            ]
          },
          "metadata": {
            "tags": []
          },
          "execution_count": 4
        }
      ]
    },
    {
      "cell_type": "code",
      "metadata": {
        "id": "8Zt1SFnwNZZo",
        "colab": {
          "base_uri": "https://localhost:8080/"
        },
        "outputId": "974cac8e-3259-4e67-fa22-4d02941681d4"
      },
      "source": [
        "for i in range(2,7):  #จุดเริ่ม จุดจบ step\n",
        "  print(i)"
      ],
      "execution_count": 5,
      "outputs": [
        {
          "output_type": "stream",
          "text": [
            "2\n",
            "3\n",
            "4\n",
            "5\n",
            "6\n"
          ],
          "name": "stdout"
        }
      ]
    },
    {
      "cell_type": "code",
      "metadata": {
        "id": "Gno8RvfwN6mF",
        "colab": {
          "base_uri": "https://localhost:8080/"
        },
        "outputId": "64d5c0c8-ba8e-4d9c-bc21-c8b48a941733"
      },
      "source": [
        "for i in range(2,7,2): \n",
        "  print(i)"
      ],
      "execution_count": 6,
      "outputs": [
        {
          "output_type": "stream",
          "text": [
            "2\n",
            "4\n",
            "6\n"
          ],
          "name": "stdout"
        }
      ]
    },
    {
      "cell_type": "code",
      "metadata": {
        "id": "8EnZEzQSOZsV",
        "colab": {
          "base_uri": "https://localhost:8080/"
        },
        "outputId": "4d8beaf5-c682-4803-cfdc-6cf283754ea8"
      },
      "source": [
        "for i in range(5):    #range เป็น list ที่ยังไม่ได้ถูกใส่ไว้ใน memory จะเจน list ตามจำนวนที่เราใส่ให้มัน\n",
        "  print('hahaha')\n",
        "  x = i+3\n",
        "  print(f'i={i} x={x}')"
      ],
      "execution_count": 7,
      "outputs": [
        {
          "output_type": "stream",
          "text": [
            "hahaha\n",
            "i=0 x=3\n",
            "hahaha\n",
            "i=1 x=4\n",
            "hahaha\n",
            "i=2 x=5\n",
            "hahaha\n",
            "i=3 x=6\n",
            "hahaha\n",
            "i=4 x=7\n"
          ],
          "name": "stdout"
        }
      ]
    },
    {
      "cell_type": "markdown",
      "metadata": {
        "id": "I1AZadn4PFqh"
      },
      "source": [
        "##Nested loop\n",
        "ก็คือ loop ซ้อน loop ไปเรื่อยๆ "
      ]
    },
    {
      "cell_type": "code",
      "metadata": {
        "id": "i9yihHhXPMog",
        "colab": {
          "base_uri": "https://localhost:8080/"
        },
        "outputId": "e335746b-c730-4942-c9b5-a646a8ff615b"
      },
      "source": [
        "for i in range(3):\n",
        "  print(f'now i = {i}')\n",
        "  print ('start j loop')\n",
        "  for j in range(4):\n",
        "    print(f' i = {i} j = {j} i+j = {i+j}')\n",
        "  print ('end j loop')"
      ],
      "execution_count": 8,
      "outputs": [
        {
          "output_type": "stream",
          "text": [
            "now i = 0\n",
            "start j loop\n",
            " i = 0 j = 0 i+j = 0\n",
            " i = 0 j = 1 i+j = 1\n",
            " i = 0 j = 2 i+j = 2\n",
            " i = 0 j = 3 i+j = 3\n",
            "end j loop\n",
            "now i = 1\n",
            "start j loop\n",
            " i = 1 j = 0 i+j = 1\n",
            " i = 1 j = 1 i+j = 2\n",
            " i = 1 j = 2 i+j = 3\n",
            " i = 1 j = 3 i+j = 4\n",
            "end j loop\n",
            "now i = 2\n",
            "start j loop\n",
            " i = 2 j = 0 i+j = 2\n",
            " i = 2 j = 1 i+j = 3\n",
            " i = 2 j = 2 i+j = 4\n",
            " i = 2 j = 3 i+j = 5\n",
            "end j loop\n"
          ],
          "name": "stdout"
        }
      ]
    },
    {
      "cell_type": "markdown",
      "metadata": {
        "id": "wEWT-yxTI-dZ"
      },
      "source": [
        "##Condition  (if statement)\n",
        "   python\n",
        "if เงื่อนไขที่จะตรวจสอบ โดยใช้สัญลักษณ์ ==,!=,<,>,<=,>=):\n",
        "  \n",
        "  ถ้าเงื่อนไขเป็นจริง  ทำงาน 1\n",
        "  \n",
        "  ถ้าเงื่อนไขเป็นจริง  ทำงาน 2 \n",
        "elif เงื่อนไขที่จะตรวจสอบต่อไปถ้าเงื่อนไขข้างบนไม่เป็นจริง\n",
        "  ถ้าเงื่อนไขเป็นจริง ทำงานที่ a1\n",
        "  ถ้าเงื่อนไขเป็นจริง ทำงานที่ a2\n",
        "elif เงื่อนไขที่ตรวจสอบต่อไปถ้าเงื่อนไขข้างบนไม่เป็นจริง\n",
        "  ถ้าเงื่อนไขเป็นจริง ทำงานที่ b1\n",
        "  ถ้าเงื่อนไขเป็นจริง ทำงานที่ b2\n",
        "elif: #ตรวจสอบเงื่อนไขข้างบนแล้วไม่เป็นจริง\n",
        "  ทำงานที่ x\n",
        "\n"
      ]
    },
    {
      "cell_type": "code",
      "metadata": {
        "id": "YDiqQXBNGjib"
      },
      "source": [
        "stringx = 'sadfasdsadfweirjwersdfspadofgj'\n",
        "\n",
        "if len(stringx) > 30:\n",
        "    print(f'{stringx} is longer than 30 characters')"
      ],
      "execution_count": 9,
      "outputs": []
    },
    {
      "cell_type": "code",
      "metadata": {
        "id": "WTCv0YIVHMHT",
        "colab": {
          "base_uri": "https://localhost:8080/"
        },
        "outputId": "43c39a58-795a-4e8e-c7b7-0a58321bf422"
      },
      "source": [
        "stringx = 'sadfasdsadfweirjwersdfspadofgj'\n",
        "\n",
        "if len(stringx) > 100:\n",
        "    print(f'{stringx} is longer than 30 characters')\n",
        "else:\n",
        "  print(f'{stringx} in {len(stringx)} characters')"
      ],
      "execution_count": 10,
      "outputs": [
        {
          "output_type": "stream",
          "text": [
            "sadfasdsadfweirjwersdfspadofgj in 30 characters\n"
          ],
          "name": "stdout"
        }
      ]
    },
    {
      "cell_type": "code",
      "metadata": {
        "id": "X0nAcBiSLHvq",
        "colab": {
          "base_uri": "https://localhost:8080/"
        },
        "outputId": "ce658f42-e11f-4d7f-bd7c-d8d57f50a088"
      },
      "source": [
        "password = '12345'\n",
        "\n",
        "input_pass = '123sf'\n",
        "if input_pass == password:\n",
        "    print('Welcome!')\n",
        "elif len(input_pass)  >  len(password):\n",
        "    print('Too long, try again')\n",
        "elif len(input_pass)  <  len(password):\n",
        "    print('Too short, try again')\n",
        "else:\n",
        "  print('Wrong password, try again!')"
      ],
      "execution_count": 11,
      "outputs": [
        {
          "output_type": "stream",
          "text": [
            "Wrong password, try again!\n"
          ],
          "name": "stdout"
        }
      ]
    },
    {
      "cell_type": "markdown",
      "metadata": {
        "id": "hWivP2voNi9B"
      },
      "source": [
        "Quiz 1 หา Min"
      ]
    },
    {
      "cell_type": "code",
      "metadata": {
        "id": "fwBwqZ4FQ9iI"
      },
      "source": [
        "list_ex = [1,5,9,-19,-2,0]  #หาค่าน้อยที่สุดใน list โดยไม่ใช้ function min \n"
      ],
      "execution_count": 12,
      "outputs": []
    },
    {
      "cell_type": "code",
      "metadata": {
        "id": "pz2wvCblTEa9",
        "colab": {
          "base_uri": "https://localhost:8080/"
        },
        "outputId": "01ba89cd-260b-4225-9bb5-b3d8483db4a2"
      },
      "source": [
        "min = 1000000\n",
        "print(list_ex)\n",
        "for i in list_ex:\n",
        "  print(f'now i = {i}, min = {min}')\n",
        "  print('start condition')\n",
        "  if i < min:\n",
        "      print(f'i < min,  update min -> {i}')\n",
        "      min = i\n",
        "  else:\n",
        "        print('end condition, go to next i')\n",
        "\n",
        "print(min)"
      ],
      "execution_count": 13,
      "outputs": [
        {
          "output_type": "stream",
          "text": [
            "[1, 5, 9, -19, -2, 0]\n",
            "now i = 1, min = 1000000\n",
            "start condition\n",
            "i < min,  update min -> 1\n",
            "now i = 5, min = 1\n",
            "start condition\n",
            "end condition, go to next i\n",
            "now i = 9, min = 1\n",
            "start condition\n",
            "end condition, go to next i\n",
            "now i = -19, min = 1\n",
            "start condition\n",
            "i < min,  update min -> -19\n",
            "now i = -2, min = -19\n",
            "start condition\n",
            "end condition, go to next i\n",
            "now i = 0, min = -19\n",
            "start condition\n",
            "end condition, go to next i\n",
            "-19\n"
          ],
          "name": "stdout"
        }
      ]
    },
    {
      "cell_type": "markdown",
      "metadata": {
        "id": "X_mXziBmVxBG"
      },
      "source": [
        "HW3 ตัดเกรด"
      ]
    },
    {
      "cell_type": "code",
      "metadata": {
        "id": "kWK5aEdHV11z"
      },
      "source": [
        "score = [49,65,70,95,82,55,89,20,77,77,81,59,10]  #ตัดเกรด คะแนนใน list score ใช้ if กับ for "
      ],
      "execution_count": 14,
      "outputs": []
    },
    {
      "cell_type": "code",
      "metadata": {
        "id": "XxYD3S_NV_-S",
        "colab": {
          "base_uri": "https://localhost:8080/"
        },
        "outputId": "82ea2e2a-88f9-49ee-c8bb-6a647da5bc0f"
      },
      "source": [
        "score =  [49,65,70,95,82,55,89,20,77,77,81,59,10] \n",
        "for i in score:\n",
        "\n",
        "  if i >= 80:\n",
        "    print(f'{i} = A')\n",
        "  elif i >= 75 and i < 80:\n",
        "    print(f'{i} = B+')\n",
        "  elif i >= 70 and i < 75:\n",
        "     print(f'{i} = B')\n",
        "  elif i >= 65 and i < 70:\n",
        "    print(f'{i} = C+')\n",
        "  elif i >= 60 and i < 65:\n",
        "     print(f'{i} = C')\n",
        "  elif i >= 55 and i < 60:\n",
        "    print(f'{i} = D+')\n",
        "  elif i >= 50 and i < 55:\n",
        "     print(f'{i} = D')\n",
        "  else:\n",
        "    print(f'{i} = F')\n",
        "\n"
      ],
      "execution_count": 15,
      "outputs": [
        {
          "output_type": "stream",
          "text": [
            "49 = F\n",
            "65 = C+\n",
            "70 = B\n",
            "95 = A\n",
            "82 = A\n",
            "55 = D+\n",
            "89 = A\n",
            "20 = F\n",
            "77 = B+\n",
            "77 = B+\n",
            "81 = A\n",
            "59 = D+\n",
            "10 = F\n"
          ],
          "name": "stdout"
        }
      ]
    },
    {
      "cell_type": "markdown",
      "metadata": {
        "id": "eGTq8uuHJP_Y"
      },
      "source": [
        "##Function\n",
        "   python\n",
        "def ชื่อฟังก์ชัน (input1,input2,.....):\n",
        "    งานxxx\n",
        "    งานyyy\n",
        "    ruturn output\n",
        "    sdf sadsd\n",
        "\n",
        "\n",
        "\n",
        "ส่วนประกอบสำคัญ\n",
        "*   input\n",
        "*   process (ไม่มีไม่ได้)\n",
        "*   output\n",
        "\n",
        "\n",
        "\n"
      ]
    },
    {
      "cell_type": "markdown",
      "metadata": {
        "id": "AASESmKbyoVd"
      },
      "source": [
        "![2.jpg](data:image/jpeg;base64,/9j/4AAQSkZJRgABAQEAYABgAAD/4SNARXhpZgAATU0AKgAAAAgABgALAAIAAAAmAAAIYgESAAMAAAABAAEAAAExAAIAAAAmAAAIiAEyAAIAAAAUAAAIrodpAAQAAAABAAAIwuocAAcAAAgMAAAAVgAAEUYc6gAAAAgAAAAAAAAAAAAAAAAAAAAAAAAAAAAAAAAAAAAAAAAAAAAAAAAAAAAAAAAAAAAAAAAAAAAAAAAAAAAAAAAAAAAAAAAAAAAAAAAAAAAAAAAAAAAAAAAAAAAAAAAAAAAAAAAAAAAAAAAAAAAAAAAAAAAAAAAAAAAAAAAAAAAAAAAAAAAAAAAAAAAAAAAAAAAAAAAAAAAAAAAAAAAAAAAAAAAAAAAAAAAAAAAAAAAAAAAAAAAAAAAAAAAAAAAAAAAAAAAAAAAAAAAAAAAAAAAAAAAAAAAAAAAAAAAAAAAAAAAAAAAAAAAAAAAAAAAAAAAAAAAAAAAAAAAAAAAAAAAAAAAAAAAAAAAAAAAAAAAAAAAAAAAAAAAAAAAAAAAAAAAAAAAAAAAAAAAAAAAAAAAAAAAAAAAAAAAAAAAAAAAAAAAAAAAAAAAAAAAAAAAAAAAAAAAAAAAAAAAAAAAAAAAAAAAAAAAAAAAAAAAAAAAAAAAAAAAAAAAAAAAAAAAAAAAAAAAAAAAAAAAAAAAAAAAAAAAAAAAAAAAAAAAAAAAAAAAAAAAAAAAAAAAAAAAAAAAAAAAAAAAAAAAAAAAAAAAAAAAAAAAAAAAAAAAAAAAAAAAAAAAAAAAAAAAAAAAAAAAAAAAAAAAAAAAAAAAAAAAAAAAAAAAAAAAAAAAAAAAAAAAAAAAAAAAAAAAAAAAAAAAAAAAAAAAAAAAAAAAAAAAAAAAAAAAAAAAAAAAAAAAAAAAAAAAAAAAAAAAAAAAAAAAAAAAAAAAAAAAAAAAAAAAAAAAAAAAAAAAAAAAAAAAAAAAAAAAAAAAAAAAAAAAAAAAAAAAAAAAAAAAAAAAAAAAAAAAAAAAAAAAAAAAAAAAAAAAAAAAAAAAAAAAAAAAAAAAAAAAAAAAAAAAAAAAAAAAAAAAAAAAAAAAAAAAAAAAAAAAAAAAAAAAAAAAAAAAAAAAAAAAAAAAAAAAAAAAAAAAAAAAAAAAAAAAAAAAAAAAAAAAAAAAAAAAAAAAAAAAAAAAAAAAAAAAAAAAAAAAAAAAAAAAAAAAAAAAAAAAAAAAAAAAAAAAAAAAAAAAAAAAAAAAAAAAAAAAAAAAAAAAAAAAAAAAAAAAAAAAAAAAAAAAAAAAAAAAAAAAAAAAAAAAAAAAAAAAAAAAAAAAAAAAAAAAAAAAAAAAAAAAAAAAAAAAAAAAAAAAAAAAAAAAAAAAAAAAAAAAAAAAAAAAAAAAAAAAAAAAAAAAAAAAAAAAAAAAAAAAAAAAAAAAAAAAAAAAAAAAAAAAAAAAAAAAAAAAAAAAAAAAAAAAAAAAAAAAAAAAAAAAAAAAAAAAAAAAAAAAAAAAAAAAAAAAAAAAAAAAAAAAAAAAAAAAAAAAAAAAAAAAAAAAAAAAAAAAAAAAAAAAAAAAAAAAAAAAAAAAAAAAAAAAAAAAAAAAAAAAAAAAAAAAAAAAAAAAAAAAAAAAAAAAAAAAAAAAAAAAAAAAAAAAAAAAAAAAAAAAAAAAAAAAAAAAAAAAAAAAAAAAAAAAAAAAAAAAAAAAAAAAAAAAAAAAAAAAAAAAAAAAAAAAAAAAAAAAAAAAAAAAAAAAAAAAAAAAAAAAAAAAAAAAAAAAAAAAAAAAAAAAAAAAAAAAAAAAAAAAAAAAAAAAAAAAAAAAAAAAAAAAAAAAAAAAAAAAAAAAAAAAAAAAAAAAAAAAAAAAAAAAAAAAAAAAAAAAAAAAAAAAAAAAAAAAAAAAAAAAAAAAAAAAAAAAAAAAAAAAAAAAAAAAAAAAAAAAAAAAAAAAAAAAAAAAAAAAAAAAAAAAAAAAAAAAAAAAAAAAAAAAAAAAAAAAAAAAAAAAAAAAAAAAAAAAAAAAAAAAAAAAAAAAAAAAAAAAAAAAAAAAAAAAAAAAAAAAAAAAAAAAAAAAAAAAAAAAAAAAAAAAAAAAAAAAAAAAAAAAAAAAAAAAAAAAAAAAAAAAAAAAAAAAAAAAAAAAAAAAAAAAAAAAAAAAAAAAAAAAAAAAAAAAAAAAAAAAAAAAAAAAAAAAAAAAAAAAAAAAAAAAAAAAAAAAAAAAAAAAAAAAAAAAAAAAAAAAAAAAAAAAAAAAAAAAAAAAAAAAAAAAAAAAAAAAAAAAAAAAAAAAAAAAAAAAAAAAAAAAAAAAAAAAAAAAAAAAAAAAAAAAAAAAAAAAAAAAAAAAAAAAAAAAAAAAAAAAAAAAAAAAAAAAAAAAAAAAAAAAAAAAAAAAAAAAAAAAAAAAAAAAAAAAAAAAAAAAAAAAAAAAAAAAAAAAAAAAAAAAAAAAAAAAAAAAAAAAAAAAAAAAAAAAAAAAAAAAAAAAAAAAAAAAAAAAAAAAAAAAAAAAAAAAAAAAAAAAAAAAAAAAAAAAAAAAAAAAAAAAAAAAAAAAAAAAAAAAAAAAAAAAAAAAAAAAAAAAAAAAAAAAAAAAAAAAAAAAAAAAAAAAAAAAAAAAAAAAAAAAAAAAAAAAAAAAAAAAAAAAAAAAAAAAAAAAAAAAAAAAAAAAAAAAAAAAAAAAAAAAAAAAAAAAAAAAAAAAAAAAAAAAAAAAAAAAAAAAAAAAAAAAAAAAAAAAAAAAAAAAAAAAAAAAAAAAAAAAAAAAAAAAAAAAAAAAAAAAAAAAAAAAAAAAAAAAAAAAAAAAAAAAAAAAAAAAAAAAAAAAAAAAAAAAAAAAAAAAAAAAAAAAAAAAAAAAAAAAAAAAAAAAAAAAAAAAAAAAAAAAAAAAAAAAAAAAAAAAAAAAAAFdpbmRvd3MgUGhvdG8gRWRpdG9yIDEwLjAuMTAwMTEuMTYzODQAV2luZG93cyBQaG90byBFZGl0b3IgMTAuMC4xMDAxMS4xNjM4NAAyMDIxOjA3OjI3IDA5OjI3OjU5AAAGkAMAAgAAABQAABEckAQAAgAAABQAABEwkpEAAgAAAAMwMAAAkpIAAgAAAAMwMAAAoAEAAwAAAAEAAQAA6hwABwAACAwAAAkQAAAAABzqAAAACAAAAAAAAAAAAAAAAAAAAAAAAAAAAAAAAAAAAAAAAAAAAAAAAAAAAAAAAAAAAAAAAAAAAAAAAAAAAAAAAAAAAAAAAAAAAAAAAAAAAAAAAAAAAAAAAAAAAAAAAAAAAAAAAAAAAAAAAAAAAAAAAAAAAAAAAAAAAAAAAAAAAAAAAAAAAAAAAAAAAAAAAAAAAAAAAAAAAAAAAAAAAAAAAAAAAAAAAAAAAAAAAAAAAAAAAAAAAAAAAAAAAAAAAAAAAAAAAAAAAAAAAAAAAAAAAAAAAAAAAAAAAAAAAAAAAAAAAAAAAAAAAAAAAAAAAAAAAAAAAAAAAAAAAAAAAAAAAAAAAAAAAAAAAAAAAAAAAAAAAAAAAAAAAAAAAAAAAAAAAAAAAAAAAAAAAAAAAAAAAAAAAAAAAAAAAAAAAAAAAAAAAAAAAAAAAAAAAAAAAAAAAAAAAAAAAAAAAAAAAAAAAAAAAAAAAAAAAAAAAAAAAAAAAAAAAAAAAAAAAAAAAAAAAAAAAAAAAAAAAAAAAAAAAAAAAAAAAAAAAAAAAAAAAAAAAAAAAAAAAAAAAAAAAAAAAAAAAAAAAAAAAAAAAAAAAAAAAAAAAAAAAAAAAAAAAAAAAAAAAAAAAAAAAAAAAAAAAAAAAAAAAAAAAAAAAAAAAAAAAAAAAAAAAAAAAAAAAAAAAAAAAAAAAAAAAAAAAAAAAAAAAAAAAAAAAAAAAAAAAAAAAAAAAAAAAAAAAAAAAAAAAAAAAAAAAAAAAAAAAAAAAAAAAAAAAAAAAAAAAAAAAAAAAAAAAAAAAAAAAAAAAAAAAAAAAAAAAAAAAAAAAAAAAAAAAAAAAAAAAAAAAAAAAAAAAAAAAAAAAAAAAAAAAAAAAAAAAAAAAAAAAAAAAAAAAAAAAAAAAAAAAAAAAAAAAAAAAAAAAAAAAAAAAAAAAAAAAAAAAAAAAAAAAAAAAAAAAAAAAAAAAAAAAAAAAAAAAAAAAAAAAAAAAAAAAAAAAAAAAAAAAAAAAAAAAAAAAAAAAAAAAAAAAAAAAAAAAAAAAAAAAAAAAAAAAAAAAAAAAAAAAAAAAAAAAAAAAAAAAAAAAAAAAAAAAAAAAAAAAAAAAAAAAAAAAAAAAAAAAAAAAAAAAAAAAAAAAAAAAAAAAAAAAAAAAAAAAAAAAAAAAAAAAAAAAAAAAAAAAAAAAAAAAAAAAAAAAAAAAAAAAAAAAAAAAAAAAAAAAAAAAAAAAAAAAAAAAAAAAAAAAAAAAAAAAAAAAAAAAAAAAAAAAAAAAAAAAAAAAAAAAAAAAAAAAAAAAAAAAAAAAAAAAAAAAAAAAAAAAAAAAAAAAAAAAAAAAAAAAAAAAAAAAAAAAAAAAAAAAAAAAAAAAAAAAAAAAAAAAAAAAAAAAAAAAAAAAAAAAAAAAAAAAAAAAAAAAAAAAAAAAAAAAAAAAAAAAAAAAAAAAAAAAAAAAAAAAAAAAAAAAAAAAAAAAAAAAAAAAAAAAAAAAAAAAAAAAAAAAAAAAAAAAAAAAAAAAAAAAAAAAAAAAAAAAAAAAAAAAAAAAAAAAAAAAAAAAAAAAAAAAAAAAAAAAAAAAAAAAAAAAAAAAAAAAAAAAAAAAAAAAAAAAAAAAAAAAAAAAAAAAAAAAAAAAAAAAAAAAAAAAAAAAAAAAAAAAAAAAAAAAAAAAAAAAAAAAAAAAAAAAAAAAAAAAAAAAAAAAAAAAAAAAAAAAAAAAAAAAAAAAAAAAAAAAAAAAAAAAAAAAAAAAAAAAAAAAAAAAAAAAAAAAAAAAAAAAAAAAAAAAAAAAAAAAAAAAAAAAAAAAAAAAAAAAAAAAAAAAAAAAAAAAAAAAAAAAAAAAAAAAAAAAAAAAAAAAAAAAAAAAAAAAAAAAAAAAAAAAAAAAAAAAAAAAAAAAAAAAAAAAAAAAAAAAAAAAAAAAAAAAAAAAAAAAAAAAAAAAAAAAAAAAAAAAAAAAAAAAAAAAAAAAAAAAAAAAAAAAAAAAAAAAAAAAAAAAAAAAAAAAAAAAAAAAAAAAAAAAAAAAAAAAAAAAAAAAAAAAAAAAAAAAAAAAAAAAAAAAAAAAAAAAAAAAAAAAAAAAAAAAAAAAAAAAAAAAAAAAAAAAAAAAAAAAAAAAAAAAAAAAAAAAAAAAAAAAAAAAAAAAAAAAAAAAAAAAAAAAAAAAAAAAAAAAAAAAAAAAAAAAAAAAAAAAAAAAAAAAAAAAAAAAAAAAAAAAAAAAAAAAAAAAAAAAAAAAAAAAAAAAAAAAAAAAAAAAAAAAAAAAAAAAAAAAAAAAAAAAAAAAAAAAAAAAAAAAAAAAAAAAAAAAAAAAAAAAAAAAAAAAAAAAAAAAAAAAAAAAAAAAAAAAAAAAAAAAAAAAAAAAAAAAAAAAAAAAAAAAAAAAAAAAAAAAAAAAAAAAAAAAAAAAAAAAAAAAAAAAAAAAAAAAAAAAAAAAAAAAAAAAAAAAAAAAAAAAAAAAAAAAAAAAAAAAAAAAAAAAAAAAAAAAAAAAAAAAAAAAAAAAAAAAAAAAAAAAAAAAAAAAAAAAAAAAAAAAAAAAAAAAAAAAAAAAAAAAAAAAAAAAAAAAAAAAAAAAAAAAAAAAAAAAAAAAAAAAAAAAAAAAAAAAAAAAAAAAAAAAAAAAAAAAAAAAAAAAAAAAAAAAAAAAAAAAAAAAAAAAAAAAAAAAAAAAAAAAAAAAAAAAAAAAAAAAAAAAAAAAAAAAAAAAAAAAAAAAAAAAAAAAAAAAAAAAAAAAAAAMjAyMTowNzoyNyAwOToyNzoxOAAyMDIxOjA3OjI3IDA5OjI3OjE4AAAAAAYBAwADAAAAAQAGAAABGgAFAAAAAQAAEZQBGwAFAAAAAQAAEZwBKAADAAAAAQACAAACAQAEAAAAAQAAEaQCAgAEAAAAAQAAEZQAAAAAAAAAYAAAAAEAAABgAAAAAf/Y/9sAQwAIBgYHBgUIBwcHCQkICgwUDQwLCwwZEhMPFB0aHx4dGhwcICQuJyAiLCMcHCg3KSwwMTQ0NB8nOT04MjwuMzQy/9sAQwEJCQkMCwwYDQ0YMiEcITIyMjIyMjIyMjIyMjIyMjIyMjIyMjIyMjIyMjIyMjIyMjIyMjIyMjIyMjIyMjIyMjIy/8AAEQgAdwEAAwEhAAIRAQMRAf/EAB8AAAEFAQEBAQEBAAAAAAAAAAABAgMEBQYHCAkKC//EALUQAAIBAwMCBAMFBQQEAAABfQECAwAEEQUSITFBBhNRYQcicRQygZGhCCNCscEVUtHwJDNicoIJChYXGBkaJSYnKCkqNDU2Nzg5OkNERUZHSElKU1RVVldYWVpjZGVmZ2hpanN0dXZ3eHl6g4SFhoeIiYqSk5SVlpeYmZqio6Slpqeoqaqys7S1tre4ubrCw8TFxsfIycrS09TV1tfY2drh4uPk5ebn6Onq8fLz9PX29/j5+v/EAB8BAAMBAQEBAQEBAQEAAAAAAAABAgMEBQYHCAkKC//EALURAAIBAgQEAwQHBQQEAAECdwABAgMRBAUhMQYSQVEHYXETIjKBCBRCkaGxwQkjM1LwFWJy0QoWJDThJfEXGBkaJicoKSo1Njc4OTpDREVGR0hJSlNUVVZXWFlaY2RlZmdoaWpzdHV2d3h5eoKDhIWGh4iJipKTlJWWl5iZmqKjpKWmp6ipqrKztLW2t7i5usLDxMXGx8jJytLT1NXW19jZ2uLj5OXm5+jp6vLz9PX29/j5+v/aAAwDAQACEQMRAD8A9+ooAKKACigAooAKKACigAooAKKACigAooAKKACigAooAKKACigAooAKKACigAooAKx7LXftqNMLSRLVWYNO7DA25yf0plxhzJs0Gv7RAC1xGoMfmglv4P730piapYyQPOl3CYk+824YX60rByStexVPiHTft0NolwryTKWXaeOKmGsWSwxST3EUJkGVVnFOxTozVtCR9TsY7gQPdRLKcYQsM89Ki1jV4dGtFuZ0dkaRUwgyeTRYlU5OSXcT+2bX7aLctgGDz/MJ+XbnFR3XiLTLW1W4a6R4zIsWUOcEmixSozbSSLX9qWPnLCbqISMMhS3J4z/Kqtnr9lfoj2zblMrRHJxgjP8AhRYXspWvYtR6pYSmQJdwt5Yy2HHAp9rfWt6G+zXEcu3rtbOKRLhJatFiigkKKACigAooAKKACigAooAKKACigArmbDwwItHuoJgFuphMu8MSAHzj9DTTNadTlTXoZ9x4e1a9snSSKGN49OFnGBJkOcglunA+X9as33h27lubiSBIQhEDKhOA5QnIPFVdHT7eC0/roWn069l1SzvvsMEYjR43jWTpnoc45rMi8Oana20iC3t7hp7MW53yY8phnkccjmlcmNaCVrjj4VvRZ6nFmN5JvswhkJ5/dqoJ9uQa3td0+bULa2jiCny7hJGDH+EHmi5Mq0XJPt/kjBvfC1/JfXPkPGbUxBYQx5B37ip9qddeH9QuzcXX2a3ikZ4GS3V8g+W2Tk44J+lFzRYiFl/XYW60LVr7VI5ZgixrdRzIVl4RFxlduOTwRnNOTw9ffZ47YpFGI7yWUSK3VX3Y4x1GRRcXtoJJIrS+G9SuLKO3+z28LW9q0IdHz5pPc8cetbmmaTNZ6w9yVRYWtI4sKf4lzmh7E1K0XFpG5RUnIFFABRQAUUAFFABRQAUUAFFABRQAUUAFFABRQAUUAFFABRQAUUAFFABRQAUUAFFABRQAUUAFFABRQAUUAFNkkSKNpJHVEUZLMcAUAcP4R8T6l4j1C91KS9sI9IjlmigtFGZisbbfMJz3weMVqeEddutZ0m41e+kiitJrhxaDG3EQOASe5JFAHRSTwxKrSSoiscKWbGTXOSa5eWXxAi0a6ZDY39qZbRguCsiH51J78EGgDp6KACg8DNAHD3HijxfEst5H4PJsY8th7tRMVHfZ6+2a6bSdcsdY0ey1OCULBeIGi3nBJPb60AXmmiSRY3kVXf7qk8n6VJQAUUAFFABRQAUUAFFABRQAUUAFFABRQAVBeWdvqFnLaXcSy28q7ZI26MPSgDyzwFoGm23w91LU7SxiTUd19Esyj5todwB+QFdR4U0+w1P4V6XZzqrWktiofPbjk/nQBxPgy4fxL4rj0vVb4XNjopY2GQR9rwcBzn723pXYeMh/xWvgop/rftk3Trt8o5/pQB3FedeOrrVYdbjWyutdij8oErYW6umcnue9AGj4Anv547z7dPq0pBG3+0IVjI/3cda7SgDkfF/iCVR/wj2iYn1y9XaqjkW6HgyP6AdvWotV8K6bY/DuPSpbjyI9NgDxXRODHIvO/wDPP50Ac/8ADO6l8V6nca9rUyvqVooggtyCPLTH+swe7dc16nQAUUAFFABRQAUUAFFABRQAUUAFFABRQAUhYL1IGTjmgDJ0Lw9a6Bo76Zbu8kLSyyEydcyMWI/M1h6J4VvYPC194bvJ3htBO6200D/MYWOdvtjJFAGjP4M0x4dLS2D2j6YwNvJDwwHcH1B71C+h3t98QYtXuggsbC1MdoN2S0j/AH2I7cDFAHUUUAFB5BFAHn1v8K4rS9ury18S6zDPdPvldJRlj9cVuXHg6K+0O10m/wBSvbqCGUSyNK4LT4OQrn0oAtt4Zsl8QW+s25e3uIovJdYsBZU7Bh7dq2qACigAooAKKACigAooAKKACigAooAKKACs+7jW81C3hOdsJ85sHHP8I/n+VRNXVjSk+WXN2NCirMylqLzxLC8LhVEoD5Gcg1dqU3zMuSXKmgoqiAooAKKAK1teLcyzxBHRoW2kMOvuKs1MZcyuXODg7BRVEBRQAUUAFFABRQAUUAFFABRQAUUAIxCqSeABk1T08F0kuWGGmbcPZeg/SpfxI0jpBsu0VRmVtQXdYTcchdw/DmpYX8yBHH8Sg1P2i38HzJKKogKKACigCleIYZFvIxynEgHdf/rVbVg6BlOQRkGoWkmjSWsU/kOoqzMKKACigAooAKKACigAqrfahb6dCstwxVWcIuBkknoKAHyXlvC+2WVUOAfmOOvSq+oazY6ZxdThD5LzYxklFxuP60ATC/syqMLmLDnCncOTUkl1BFKsUkyLI33VLYJoAhkvrExSeZcxbAdjZb9KVL+xEAdbqHygdoO8Yz6UDu7WLVFAjGuNfgt5bmK5t5USAqJHPI+bpVldU0+JEVbiMIQNmD1zkAY/A/lRbqO7tYkuNUtLS8itZ5QkssbyLkcbVxk5/EVXl1+wiZAJd4cZDL0+8Bz+JFAi4l9ayW5uFmUwg4354z0qM6rYCQRm6j3EkAZ9KAJ4bmGc4ilVyFV+D2bofxwaloAp6lqEOnQCWeOV42IU+Wm7rxTP7RsrS3OZAnlgZj/iXJA6fjQO7tYktdStLwgQzKWJYbT1+UlTx9Qake8towS88a4znLDt1oEKt1buAVmjIJAGGHfpQ91bxsVeaNWHUFgO2f5UAQQatY3ImMdwn7lmVwTjG04P4Zp8WpWc901tFOjyrGJCFOflJIB/Q0AV4de024uFhjukLsGxngHB2kfnV2K4hmZlilR2Q4YK2cUAS0UAFFABVS/sUv0hVzgRSrKOM5xQBn6t4fTVJmm87YxRVU4ztIJOR7807VtAj1ZFDzFSLaW3LbQchwuT9flFAFS78JwXF+1z9oZFeQsYgMLghBgf98frV7UNDjv7s3DSlG2BBgdMNnNAFCPwjEJnlkuWkZ2JOVHPBHPvzTJ/BsE0QRbl1AI4AGCNgQ/yzQB00aCOJI16KoA/CnUAZV3pdrLLcSzT7PPMbNkgY2EYqpP4UtpxLieRTIchgBlfmZsj0PzmgC3qWjQasieZK20QSQkqfvK+M8/8BFUx4Ws0VQZmDHOTgDcSVP8A7KKBk40VbXRbuzik3+fnbvO1VJ6Y9PWq9r4Ztfs8SLcs8YVBKBg+YyHOc/WgRo6XpCaZvKyvKzIkQLADCICFH6mtGgCrqFkL+18hnKjcrZHsc1jT+FYZL25umunAlJfB/gyQT+Hy0AS2Ph6O11GG+huchd5O0D94GZmwT6At+lQy+HGn1S8u3fy1d0aFeGAIwWJHvtXj2oAktvDccE6Mt0SqusrrtHLDJH0HJpus+E4NY1Fbt7mWIhQNqdDzyfxX5aAFl8LRMpEVy0TFpSSqjkO6sQfb5cfjU+j+H4tHl3xSbsxlGBX/AG2bj2+Yj8qAIf8AhFocSDzvvBgpCDK5cPU+i6AmjzTSLO8pcYBbqBkn+tAGzRQAUUAFc5qaazLe3EcHnCJlwhUqE27Tn33ZxQAk+m3sej6RDCZ98DqZgrjJG0g59eSKz/s/iWysbe3tvOeMRpvYspdW2tkD2BC/nQBq6zY6jeRaW0LsJ4XLylCAu7y2wSD23Yqs58QXBLqJoUAJVfkByFHXrwTmgBHg1i5EbTm7WRLpXYRsoTZ7c/nVdf8AhJ0tiFSUXAT5B8nl42Hr/tbsYoA39IS+jN1HeM7qrr5LuRkgopbp/tbq0qAOd17RLjUbxZocbTD5ZzIVx84P8hVaXSNb+0QpFcbbeOfcG847tm/JU56/LxQBZi0nULfwlDp1rJ5V7GAqymQkKQfve49vwqxc2OoS6XZQxysk0ePOIlOTxg/NjnmgCu+lahceHIrS5Ia5jlVsiQ5YA55PriqJ0HWYLXZZ3AQuS0iGViD8+cD049MUAdLpkM9vplvDdSGSZEAdyckmrdABVDW7WW+0S9tYc+bLCyphtpyRxzQBiyWeurE1tA8ipGJNsnmj5gSu0DnOQN3Wnix1YzPDM9w9tiRYik2CMn5SxzkjGfWgZWi0/XILeKJftHlJCqbVnG/eFIzknpnHetDTLXWIr6OW8lZkbzBIDJlccbMD86BFK70/W5NTa4jMuU8wbhMAGjaSMhUGeG2Kwycc96aLTxIbuI+dLHbg/KNwZlXceG+YAnbt5+agDc0NL6PTgmoA+crEBmbLMPU8nB9ga0qACigAooAKKACigAooAKKACigAooA5O58S3dil3cSwAWtoWaT5GZmXznTjn+6oPQ9aLXxVczqkzRQm3blpFBxHndhTz14H50AaOiXt9d3l19sZVXbG8UQTBUEc8555rboAKKAOTkv9Z82RYJersMGEttIcDGc9NvapYtc1X7VEstmRG0ojciM57cqM9PxOKAJr2+1Cx1e4m2tLaEKiII2O35HOeDzlgo6d6Y2s6unMlmiqxxnymPl4ZQSeeepPbpQBENY1eN5N6LIolIDiBgETAwxGcnvVvTdU1O6uoxcWqxwsdp/dsD0B3ZJ6e2KAGzanrCXrBLaM24kIC+U24gSKnXOOhLdO1U7nWNZnhR7WBonSLL5hJHmbGJXB9CBQAh17UrrzBbRbhG+C0cbDp2Oc9f0pG8Q60vnf8S4BYgPvKSxHsM8k/hQB1kbF41YggkZwRinUAFFABRQAUUAFFABRQAUUAFFACMqupVgCD1BFIiKiBEUKqjAAHAoAdRQAUUAc/qesX9pqLQW9vCyApjcTls5z/Kn6R4hfVL54PsckSKud7etAFVvFMsMDzSWmYkDbmzg5CM/T0wuPxqQeJpCrp9lHnAhVw2Vc5wcHuBQBYfW5bfR7S9mtw7TABliOQrHoPzrPfxXObto0tDtiyzEA4YbWOPrkUATP4pc3qQQ2LyKzEBweCM4yDT5NeuH0S2v4YUWR5hHIjk4XnB5/rQBPpOsi+upLZLTyCqCV/T5uh/Hn8qr22sXEt8kazxzQm68oMEwSNpJ79iOtAHR0UAFFABRQAUUAFFABRQAUUAFFABRQAUUAFFADSiFtxRS3qRQI41bcqKGIxkDmgCOa1guIJIJYlaORSrLjqCMGnCCJduI0Gz7uFHH0oAd5aBdoVcemKQRRgkiNQTyeBzQAnkRYUeUny/d+UcfSl8qPy/L8tNn93aMflQAyO1hhlklRAHlxvPrjpSrawK4dYY1YHIIUCgCWigAooA//2f/tAMRQaG90b3Nob3AgMy4wADhCSU0EBAAAAAAAjBwBWgADGyVHHAIoAGJGQk1EMDEwMDBhOGEwMTAwMDA1NzQ2MDAwMDczOGQwMDAwNmY5MDAwMDBjMDkyMDAwMGE3ZGYwMDAwNTYzNDAxMDA5ODU4MDEwMDg0NWMwMTAwYTY1ZjAxMDBmOGUzMDEwMBwCNwAIMjAyMTA3MjccAjwACzA5MjcxOCswMDAwOEJJTQQlAAAAAAAQ1w3/+Pp5i8Vjt2EhO2TMyv/hMeRodHRwOi8vbnMuYWRvYmUuY29tL3hhcC8xLjAvADw/eHBhY2tldCBiZWdpbj0n77u/JyBpZD0nVzVNME1wQ2VoaUh6cmVTek5UY3prYzlkJz8+DQo8eDp4bXBtZXRhIHhtbG5zOng9ImFkb2JlOm5zOm1ldGEvIj48cmRmOlJERiB4bWxuczpyZGY9Imh0dHA6Ly93d3cudzMub3JnLzE5OTkvMDIvMjItcmRmLXN5bnRheC1ucyMiPjxyZGY6RGVzY3JpcHRpb24gcmRmOmFib3V0PSJ1dWlkOmZhZjViZGQ1LWJhM2QtMTFkYS1hZDMxLWQzM2Q3NTE4MmYxYiIgeG1sbnM6eG1wPSJodHRwOi8vbnMuYWRvYmUuY29tL3hhcC8xLjAvIj48eG1wOkNyZWF0b3JUb29sPldpbmRvd3MgUGhvdG8gRWRpdG9yIDEwLjAuMTAwMTEuMTYzODQ8L3htcDpDcmVhdG9yVG9vbD48eG1wOkNyZWF0ZURhdGU+MjAyMS0wNy0yN1QwOToyNzoxODwveG1wOkNyZWF0ZURhdGU+PC9yZGY6RGVzY3JpcHRpb24+PC9yZGY6UkRGPjwveDp4bXBtZXRhPg0KICAgICAgICAgICAgICAgICAgICAgICAgICAgICAgICAgICAgICAgICAgICAgICAgICAgICAgICAgICAgICAgICAgICAgICAgICAgICAgICAgICAgICAgICAgICAgICAgICAgIAogICAgICAgICAgICAgICAgICAgICAgICAgICAgICAgICAgICAgICAgICAgICAgICAgICAgICAgICAgICAgICAgICAgICAgICAgICAgICAgICAgICAgICAgICAgICAgICAgICAgCiAgICAgICAgICAgICAgICAgICAgICAgICAgICAgICAgICAgICAgICAgICAgICAgICAgICAgICAgICAgICAgICAgICAgICAgICAgICAgICAgICAgICAgICAgICAgICAgICAgICAKICAgICAgICAgICAgICAgICAgICAgICAgICAgICAgICAgICAgICAgICAgICAgICAgICAgICAgICAgICAgICAgICAgICAgICAgICAgICAgICAgICAgICAgICAgICAgICAgICAgIAogICAgICAgICAgICAgICAgICAgICAgICAgICAgICAgICAgICAgICAgICAgICAgICAgICAgICAgICAgICAgICAgICAgICAgICAgICAgICAgICAgICAgICAgICAgICAgICAgICAgCiAgICAgICAgICAgICAgICAgICAgICAgICAgICAgICAgICAgICAgICAgICAgICAgICAgICAgICAgICAgICAgICAgICAgICAgICAgICAgICAgICAgICAgICAgICAgICAgICAgICAKICAgICAgICAgICAgICAgICAgICAgICAgICAgICAgICAgICAgICAgICAgICAgICAgICAgICAgICAgICAgICAgICAgICAgICAgICAgICAgICAgICAgICAgICAgICAgICAgICAgIAogICAgICAgICAgICAgICAgICAgICAgICAgICAgICAgICAgICAgICAgICAgICAgICAgICAgICAgICAgICAgICAgICAgICAgICAgICAgICAgICAgICAgICAgICAgICAgICAgICAgCiAgICAgICAgICAgICAgICAgICAgICAgICAgICAgICAgICAgICAgICAgICAgICAgICAgICAgICAgICAgICAgICAgICAgICAgICAgICAgICAgICAgICAgICAgICAgICAgICAgICAKICAgICAgICAgICAgICAgICAgICAgICAgICAgICAgICAgICAgICAgICAgICAgICAgICAgICAgICAgICAgICAgICAgICAgICAgICAgICAgICAgICAgICAgICAgICAgICAgICAgIAogICAgICAgICAgICAgICAgICAgICAgICAgICAgICAgICAgICAgICAgICAgICAgICAgICAgICAgICAgICAgICAgICAgICAgICAgICAgICAgICAgICAgICAgICAgICAgICAgICAgCiAgICAgICAgICAgICAgICAgICAgICAgICAgICAgICAgICAgICAgICAgICAgICAgICAgICAgICAgICAgICAgICAgICAgICAgICAgICAgICAgICAgICAgICAgICAgICAgICAgICAKICAgICAgICAgICAgICAgICAgICAgICAgICAgICAgICAgICAgICAgICAgICAgICAgICAgICAgICAgICAgICAgICAgICAgICAgICAgICAgICAgICAgICAgICAgICAgICAgICAgIAogICAgICAgICAgICAgICAgICAgICAgICAgICAgICAgICAgICAgICAgICAgICAgICAgICAgICAgICAgICAgICAgICAgICAgICAgICAgICAgICAgICAgICAgICAgICAgICAgICAgCiAgICAgICAgICAgICAgICAgICAgICAgICAgICAgICAgICAgICAgICAgICAgICAgICAgICAgICAgICAgICAgICAgICAgICAgICAgICAgICAgICAgICAgICAgICAgICAgICAgICAKICAgICAgICAgICAgICAgICAgICAgICAgICAgICAgICAgICAgICAgICAgICAgICAgICAgICAgICAgICAgICAgICAgICAgICAgICAgICAgICAgICAgICAgICAgICAgICAgICAgIAogICAgICAgICAgICAgICAgICAgICAgICAgICAgICAgICAgICAgICAgICAgICAgICAgICAgICAgICAgICAgICAgICAgICAgICAgICAgICAgICAgICAgICAgICAgICAgICAgICAgCiAgICAgICAgICAgICAgICAgICAgICAgICAgICAgICAgICAgICAgICAgICAgICAgICAgICAgICAgICAgICAgICAgICAgICAgICAgICAgICAgICAgICAgICAgICAgICAgICAgICAKICAgICAgICAgICAgICAgICAgICAgICAgICAgICAgICAgICAgICAgICAgICAgICAgICAgICAgICAgICAgICAgICAgICAgICAgICAgICAgICAgICAgICAgICAgICAgICAgICAgIAogICAgICAgICAgICAgICAgICAgICAgICAgICAgICAgICAgICAgICAgICAgICAgICAgICAgICAgICAgICAgICAgICAgICAgICAgICAgICAgICAgICAgICAgICAgICAgICAgICAgCiAgICAgICAgICAgICAgICAgICAgICAgICAgICAgICAgICAgICAgICAgICAgICAgICAgICAgICAgICAgICAgICAgICAgICAgICAgICAgICAgICAgICAgICAgICAgICAgICAgICAKICAgICAgICAgICAgICAgICAgICAgICAgICAgICAgICAgICAgICAgICAgICAgICAgICAgICAgICAgICAgICAgICAgICAgICAgICAgICAgICAgICAgICAgICAgICAgICAgICAgIAogICAgICAgICAgICAgICAgICAgICAgICAgICAgICAgICAgICAgICAgICAgICAgICAgICAgICAgICAgICAgICAgICAgICAgICAgICAgICAgICAgICAgICAgICAgICAgICAgICAgCiAgICAgICAgICAgICAgICAgICAgICAgICAgICAgICAgICAgICAgICAgICAgICAgICAgICAgICAgICAgICAgICAgICAgICAgICAgICAgICAgICAgICAgICAgICAgICAgICAgICAKICAgICAgICAgICAgICAgICAgICAgICAgICAgICAgICAgICAgICAgICAgICAgICAgICAgICAgICAgICAgICAgICAgICAgICAgICAgICAgICAgICAgICAgICAgICAgICAgICAgIAogICAgICAgICAgICAgICAgICAgICAgICAgICAgICAgICAgICAgICAgICAgICAgICAgICAgICAgICAgICAgICAgICAgICAgICAgICAgICAgICAgICAgICAgICAgICAgICAgICAgCiAgICAgICAgICAgICAgICAgICAgICAgICAgICAgICAgICAgICAgICAgICAgICAgICAgICAgICAgICAgICAgICAgICAgICAgICAgICAgICAgICAgICAgICAgICAgICAgICAgICAKICAgICAgICAgICAgICAgICAgICAgICAgICAgICAgICAgICAgICAgICAgICAgICAgICAgICAgICAgICAgICAgICAgICAgICAgICAgICAgICAgICAgICAgICAgICAgICAgICAgIAogICAgICAgICAgICAgICAgICAgICAgICAgICAgICAgICAgICAgICAgICAgICAgICAgICAgICAgICAgICAgICAgICAgICAgICAgICAgICAgICAgICAgICAgICAgICAgICAgICAgCiAgICAgICAgICAgICAgICAgICAgICAgICAgICAgICAgICAgICAgICAgICAgICAgICAgICAgICAgICAgICAgICAgICAgICAgICAgICAgICAgICAgICAgICAgICAgICAgICAgICAKICAgICAgICAgICAgICAgICAgICAgICAgICAgICAgICAgICAgICAgICAgICAgICAgICAgICAgICAgICAgICAgICAgICAgICAgICAgICAgICAgICAgICAgICAgICAgICAgICAgIAogICAgICAgICAgICAgICAgICAgICAgICAgICAgICAgICAgICAgICAgICAgICAgICAgICAgICAgICAgICAgICAgICAgICAgICAgICAgICAgICAgICAgICAgICAgICAgICAgICAgCiAgICAgICAgICAgICAgICAgICAgICAgICAgICAgICAgICAgICAgICAgICAgICAgICAgICAgICAgICAgICAgICAgICAgICAgICAgICAgICAgICAgICAgICAgICAgICAgICAgICAKICAgICAgICAgICAgICAgICAgICAgICAgICAgICAgICAgICAgICAgICAgICAgICAgICAgICAgICAgICAgICAgICAgICAgICAgICAgICAgICAgICAgICAgICAgICAgICAgICAgIAogICAgICAgICAgICAgICAgICAgICAgICAgICAgICAgICAgICAgICAgICAgICAgICAgICAgICAgICAgICAgICAgICAgICAgICAgICAgICAgICAgICAgICAgICAgICAgICAgICAgCiAgICAgICAgICAgICAgICAgICAgICAgICAgICAgICAgICAgICAgICAgICAgICAgICAgICAgICAgICAgICAgICAgICAgICAgICAgICAgICAgICAgICAgICAgICAgICAgICAgICAKICAgICAgICAgICAgICAgICAgICAgICAgICAgICAgICAgICAgICAgICAgICAgICAgICAgICAgICAgICAgICAgICAgICAgICAgICAgICAgICAgICAgICAgICAgICAgICAgICAgIAogICAgICAgICAgICAgICAgICAgICAgICAgICAgICAgICAgICAgICAgICAgICAgICAgICAgICAgICAgICAgICAgICAgICAgICAgICAgICAgICAgICAgICAgICAgICAgICAgICAgCiAgICAgICAgICAgICAgICAgICAgICAgICAgICAgICAgICAgICAgICAgICAgICAgICAgICAgICAgICAgICAgICAgICAgICAgICAgICAgICAgICAgICAgICAgICAgICAgICAgICAKICAgICAgICAgICAgICAgICAgICAgICAgICAgICAgICAgICAgICAgICAgICAgICAgICAgICAgICAgICAgICAgICAgICAgICAgICAgICAgICAgICAgICAgICAgICAgICAgICAgIAogICAgICAgICAgICAgICAgICAgICAgICAgICAgICAgICAgICAgICAgICAgICAgICAgICAgICAgICAgICAgICAgICAgICAgICAgICAgICAgICAgICAgICAgICAgICAgICAgICAgCiAgICAgICAgICAgICAgICAgICAgICAgICAgICAgICAgICAgICAgICAgICAgICAgICAgICAgICAgICAgICAgICAgICAgICAgICAgICAgICAgICAgICAgICAgICAgICAgICAgICAKICAgICAgICAgICAgICAgICAgICAgICAgICAgICAgICAgICAgICAgICAgICAgICAgICAgICAgICAgICAgICAgICAgICAgICAgICAgICAgICAgICAgICAgICAgICAgICAgICAgIAogICAgICAgICAgICAgICAgICAgICAgICAgICAgICAgICAgICAgICAgICAgICAgICAgICAgICAgICAgICAgICAgICAgICAgICAgICAgICAgICAgICAgICAgICAgICAgICAgICAgCiAgICAgICAgICAgICAgICAgICAgICAgICAgICAgICAgICAgICAgICAgICAgICAgICAgICAgICAgICAgICAgICAgICAgICAgICAgICAgICAgICAgICAgICAgICAgICAgICAgICAKICAgICAgICAgICAgICAgICAgICAgICAgICAgICAgICAgICAgICAgICAgICAgICAgICAgICAgICAgICAgICAgICAgICAgICAgICAgICAgICAgICAgICAgICAgICAgICAgICAgIAogICAgICAgICAgICAgICAgICAgICAgICAgICAgICAgICAgICAgICAgICAgICAgICAgICAgICAgICAgICAgICAgICAgICAgICAgICAgICAgICAgICAgICAgICAgICAgICAgICAgCiAgICAgICAgICAgICAgICAgICAgICAgICAgICAgICAgICAgICAgICAgICAgICAgICAgICAgICAgICAgICAgICAgICAgICAgICAgICAgICAgICAgICAgICAgICAgICAgICAgICAKICAgICAgICAgICAgICAgICAgICAgICAgICAgICAgICAgICAgICAgICAgICAgICAgICAgICAgICAgICAgICAgICAgICAgICAgICAgICAgICAgICAgICAgICAgICAgICAgICAgIAogICAgICAgICAgICAgICAgICAgICAgICAgICAgICAgICAgICAgICAgICAgICAgICAgICAgICAgICAgICAgICAgICAgICAgICAgICAgICAgICAgICAgICAgICAgICAgICAgICAgCiAgICAgICAgICAgICAgICAgICAgICAgICAgICAgICAgICAgICAgICAgICAgICAgICAgICAgICAgICAgICAgICAgICAgICAgICAgICAgICAgICAgICAgICAgICAgICAgICAgICAKICAgICAgICAgICAgICAgICAgICAgICAgICAgICAgICAgICAgICAgICAgICAgICAgICAgICAgICAgICAgICAgICAgICAgICAgICAgICAgICAgICAgICAgICAgICAgICAgICAgIAogICAgICAgICAgICAgICAgICAgICAgICAgICAgICAgICAgICAgICAgICAgICAgICAgICAgICAgICAgICAgICAgICAgICAgICAgICAgICAgICAgICAgICAgICAgICAgICAgICAgCiAgICAgICAgICAgICAgICAgICAgICAgICAgICAgICAgICAgICAgICAgICAgICAgICAgICAgICAgICAgICAgICAgICAgICAgICAgICAgICAgICAgICAgICAgICAgICAgICAgICAKICAgICAgICAgICAgICAgICAgICAgICAgICAgICAgICAgICAgICAgICAgICAgICAgICAgICAgICAgICAgICAgICAgICAgICAgICAgICAgICAgICAgICAgICAgICAgICAgICAgIAogICAgICAgICAgICAgICAgICAgICAgICAgICAgICAgICAgICAgICAgICAgICAgICAgICAgICAgICAgICAgICAgICAgICAgICAgICAgICAgICAgICAgICAgICAgICAgICAgICAgCiAgICAgICAgICAgICAgICAgICAgICAgICAgICAgICAgICAgICAgICAgICAgICAgICAgICAgICAgICAgICAgICAgICAgICAgICAgICAgICAgICAgICAgICAgICAgICAgICAgICAKICAgICAgICAgICAgICAgICAgICAgICAgICAgICAgICAgICAgICAgICAgICAgICAgICAgICAgICAgICAgICAgICAgICAgICAgICAgICAgICAgICAgICAgICAgICAgICAgICAgIAogICAgICAgICAgICAgICAgICAgICAgICAgICAgICAgICAgICAgICAgICAgICAgICAgICAgICAgICAgICAgICAgICAgICAgICAgICAgICAgICAgICAgICAgICAgICAgICAgICAgCiAgICAgICAgICAgICAgICAgICAgICAgICAgICAgICAgICAgICAgICAgICAgICAgICAgICAgICAgICAgICAgICAgICAgICAgICAgICAgICAgICAgICAgICAgICAgICAgICAgICAKICAgICAgICAgICAgICAgICAgICAgICAgICAgICAgICAgICAgICAgICAgICAgICAgICAgICAgICAgICAgICAgICAgICAgICAgICAgICAgICAgICAgICAgICAgICAgICAgICAgIAogICAgICAgICAgICAgICAgICAgICAgICAgICAgICAgICAgICAgICAgICAgICAgICAgICAgICAgICAgICAgICAgICAgICAgICAgICAgICAgICAgICAgICAgICAgICAgICAgICAgCiAgICAgICAgICAgICAgICAgICAgICAgICAgICAgICAgICAgICAgICAgICAgICAgICAgICAgICAgICAgICAgICAgICAgICAgICAgICAgICAgICAgICAgICAgICAgICAgICAgICAKICAgICAgICAgICAgICAgICAgICAgICAgICAgICAgICAgICAgICAgICAgICAgICAgICAgICAgICAgICAgICAgICAgICAgICAgICAgICAgICAgICAgICAgICAgICAgICAgICAgIAogICAgICAgICAgICAgICAgICAgICAgICAgICAgICAgICAgICAgICAgICAgICAgICAgICAgICAgICAgICAgICAgICAgICAgICAgICAgICAgICAgICAgICAgICAgICAgICAgICAgCiAgICAgICAgICAgICAgICAgICAgICAgICAgICAgICAgICAgICAgICAgICAgICAgICAgICAgICAgICAgICAgICAgICAgICAgICAgICAgICAgICAgICAgICAgICAgICAgICAgICAKICAgICAgICAgICAgICAgICAgICAgICAgICAgICAgICAgICAgICAgICAgICAgICAgICAgICAgICAgICAgICAgICAgICAgICAgICAgICAgICAgICAgICAgICAgICAgICAgICAgIAogICAgICAgICAgICAgICAgICAgICAgICAgICAgICAgICAgICAgICAgICAgICAgICAgICAgICAgICAgICAgICAgICAgICAgICAgICAgICAgICAgICAgICAgICAgICAgICAgICAgCiAgICAgICAgICAgICAgICAgICAgICAgICAgICAgICAgICAgICAgICAgICAgICAgICAgICAgICAgICAgICAgICAgICAgICAgICAgICAgICAgICAgICAgICAgICAgICAgICAgICAKICAgICAgICAgICAgICAgICAgICAgICAgICAgICAgICAgICAgICAgICAgICAgICAgICAgICAgICAgICAgICAgICAgICAgICAgICAgICAgICAgICAgICAgICAgICAgICAgICAgIAogICAgICAgICAgICAgICAgICAgICAgICAgICAgICAgICAgICAgICAgICAgICAgICAgICAgICAgICAgICAgICAgICAgICAgICAgICAgICAgICAgICAgICAgICAgICAgICAgICAgCiAgICAgICAgICAgICAgICAgICAgICAgICAgICAgICAgICAgICAgICAgICAgICAgICAgICAgICAgICAgICAgICAgICAgICAgICAgICAgICAgICAgICAgICAgICAgICAgICAgICAKICAgICAgICAgICAgICAgICAgICAgICAgICAgICAgICAgICAgICAgICAgICAgICAgICAgICAgICAgICAgICAgICAgICAgICAgICAgICAgICAgICAgICAgICAgICAgICAgICAgIAogICAgICAgICAgICAgICAgICAgICAgICAgICAgICAgICAgICAgICAgICAgICAgICAgICAgICAgICAgICAgICAgICAgICAgICAgICAgICAgICAgICAgICAgICAgICAgICAgICAgCiAgICAgICAgICAgICAgICAgICAgICAgICAgICAgICAgICAgICAgICAgICAgICAgICAgICAgICAgICAgICAgICAgICAgICAgICAgICAgICAgICAgICAgICAgICAgICAgICAgICAKICAgICAgICAgICAgICAgICAgICAgICAgICAgICAgICAgICAgICAgICAgICAgICAgICAgICAgICAgICAgICAgICAgICAgICAgICAgICAgICAgICAgICAgICAgICAgICAgICAgIAogICAgICAgICAgICAgICAgICAgICAgICAgICAgICAgICAgICAgICAgICAgICAgICAgICAgICAgICAgICAgICAgICAgICAgICAgICAgICAgICAgICAgICAgICAgICAgICAgICAgCiAgICAgICAgICAgICAgICAgICAgICAgICAgICAgICAgICAgICAgICAgICAgICAgICAgICAgICAgICAgICAgICAgICAgICAgICAgICAgICAgICAgICAgICAgICAgICAgICAgICAKICAgICAgICAgICAgICAgICAgICAgICAgICAgICAgICAgICAgICAgICAgICAgICAgICAgICAgICAgICAgICAgICAgICAgICAgICAgICAgICAgICAgICAgICAgICAgICAgICAgIAogICAgICAgICAgICAgICAgICAgICAgICAgICAgICAgICAgICAgICAgICAgICAgICAgICAgICAgICAgICAgICAgICAgICAgICAgICAgICAgICAgICAgICAgICAgICAgICAgICAgCiAgICAgICAgICAgICAgICAgICAgICAgICAgICAgICAgICAgICAgICAgICAgICAgICAgICAgICAgICAgICAgICAgICAgICAgICAgICAgICAgICAgICAgICAgICAgICAgICAgICAKICAgICAgICAgICAgICAgICAgICAgICAgICAgICAgICAgICAgICAgICAgICAgICAgICAgICAgICAgICAgICAgICAgICAgICAgICAgICAgICAgICAgICAgICAgICAgICAgICAgIAogICAgICAgICAgICAgICAgICAgICAgICAgICAgICAgICAgICAgICAgICAgICAgICAgICAgICAgICAgICAgICAgICAgICAgICAgICAgICAgICAgICAgICAgICAgICAgICAgICAgCiAgICAgICAgICAgICAgICAgICAgICAgICAgICAgICAgICAgICAgICAgICAgICAgICAgICAgICAgICAgICAgICAgICAgICAgICAgICAgICAgICAgICAgICAgICAgICAgICAgICAKICAgICAgICAgICAgICAgICAgICAgICAgICAgICAgICAgICAgICAgICAgICAgICAgICAgICAgICAgICAgICAgICAgICAgICAgICAgICAgICAgICAgICAgICAgICAgICAgICAgIAogICAgICAgICAgICAgICAgICAgICAgICAgICAgICAgICAgICAgICAgICAgICAgICAgICAgICAgICAgICAgICAgICAgICAgICAgICAgICAgICAgICAgICAgICAgICAgICAgICAgCiAgICAgICAgICAgICAgICAgICAgICAgICAgICAgICAgICAgICAgICAgICAgICAgICAgICAgICAgICAgICAgICAgICAgICAgICAgICAgICAgICAgICAgICAgICAgICAgICAgICAKICAgICAgICAgICAgICAgICAgICAgICAgICAgICAgICAgICAgICAgICAgICAgICAgICAgICAgICAgICAgICAgICAgICAgICAgICAgICAgICAgICAgICAgICAgICAgICAgICAgIAogICAgICAgICAgICAgICAgICAgICAgICAgICAgICAgICAgICAgICAgICAgICAgICAgICAgICAgICAgICAgICAgICAgICAgICAgICAgICAgICAgICAgICAgICAgICAgICAgICAgCiAgICAgICAgICAgICAgICAgICAgICAgICAgICAgICAgICAgICAgICAgICAgICAgICAgICAgICAgICAgICAgICAgICAgICAgICAgICAgICAgICAgICAgICAgICAgICAgICAgICAKICAgICAgICAgICAgICAgICAgICAgICAgICAgICAgICAgICAgICAgICAgICAgICAgICAgICAgICAgICAgICAgICAgICAgICAgICAgICAgICAgICAgICAgICAgICAgICAgICAgIAogICAgICAgICAgICAgICAgICAgICAgICAgICAgICAgICAgICAgICAgICAgICAgICAgICAgICAgICAgICAgICAgICAgICAgICAgICAgICAgICAgICAgICAgICAgICAgICAgICAgCiAgICAgICAgICAgICAgICAgICAgICAgICAgICAgICAgICAgICAgICAgICAgICAgICAgICAgICAgICAgICAgICAgICAgICAgICAgICAgICAgICAgICAgICAgICAgICAgICAgICAKICAgICAgICAgICAgICAgICAgICAgICAgICAgICAgICAgICAgICAgICAgICAgICAgICAgICAgICAgICAgICAgICAgICAgICAgICAgICAgICAgICAgICAgICAgICAgICAgICAgIAogICAgICAgICAgICAgICAgICAgICAgICAgICAgICAgICAgICAgICAgICAgICAgICAgICAgICAgICAgICAgICAgICAgICAgICAgICAgICAgICAgICAgICAgICAgICAgICAgICAgCiAgICAgICAgICAgICAgICAgICAgICAgICAgICAgICAgICAgICAgICAgICAgICAgICAgICAgICAgICAgICAgICAgICAgICAgICAgICAgICAgICAgICAgICAgICAgICAgICAgICAKICAgICAgICAgICAgICAgICAgICAgICAgICAgICAgICAgICAgICAgICAgICAgICAgICAgICAgICAgICAgICAgICAgICAgICAgICAgICAgICAgICAgICAgICAgICAgICAgICAgIAogICAgICAgICAgICAgICAgICAgICAgICAgICAgICAgICAgICAgICAgICAgICAgICAgICAgICAgICAgICAgICAgICAgICAgICAgICAgICAgICAgICAgICAgICAgICAgICAgICAgCiAgICAgICAgICAgICAgICAgICAgICAgICAgICAgICAgICAgICAgICAgICAgICAgICAgICAgICAgICAgICAgICAgICAgICAgICAgICAgICAgICAgICAgICAgICAgICAgICAgICAKICAgICAgICAgICAgICAgICAgICAgICAgICAgICAgICAgICAgICAgICAgICAgICAgICAgICAgICAgICAgICAgICAgICAgICAgICAgICAgICAgICAgICAgICAgICAgICAgICAgIAogICAgICAgICAgICAgICAgICAgICAgICAgICAgICAgICAgICAgICAgICAgICAgICAgICAgICAgICAgICAgICAgICAgICAgICAgICAgICAgICAgICAgICAgICAgICAgICAgICAgCiAgICAgICAgICAgICAgICAgICAgICAgICAgICAgICAgICAgICAgICAgICAgICAgICAgICAgICAgICAgICAgICAgICAgICAgICAgICAgICAgICAgICAgICAgICAgICAgICAgICAKICAgICAgICAgICAgICAgICAgICAgICAgICAgICAgICAgICAgICAgICAgICAgICAgICAgICAgICAgICAgICAgICAgICAgICAgICAgICAgICAgICAgICAgICAgICAgICAgICAgIAogICAgICAgICAgICAgICAgICAgICAgICAgICAgICAgICAgICAgICAgICAgICAgICAgICAgICAgICAgICAgICAgICAgICAgICAgICAgICAgICAgICAgICAgICAgICAgICAgICAgCiAgICAgICAgICAgICAgICAgICAgICAgICAgICAgICAgICAgICAgICAgICAgICAgICAgICAgICAgICAgICAgICAgICAgICAgICAgICAgICAgICAgICAgICAgICAgICAgICAgICAKICAgICAgICAgICAgICAgICAgICAgICAgICAgICAgICAgICAgICAgICAgICAgICAgICAgICAgICAgICAgICAgICAgICAgICAgICAgICAgICAgICAgICAgICAgICAgICAgICAgIAogICAgICAgICAgICAgICAgICAgICAgICAgICAgICAgICAgICAgICAgICAgICAgICAgICAgICAgICAgICAgICAgICAgICAgICAgICAgICAgICAgICAgICAgICAgICAgICAgICAgCiAgICAgICAgICAgICAgICAgICAgICAgICAgICAgICAgICAgICAgICAgICAgICAgICAgICAgICAgICAgICAgICAgICAgICAgICAgICAgICAgICAgICAgICAgICAgICAgICAgICAKICAgICAgICAgICAgICAgICAgICAgICAgICAgICAgICAgICAgICAgICAgICAgICAgICAgICAgICAgICAgICAgICAgICAgICAgICAgICAgICAgICAgICAgICAgICAgICAgICAgIAogICAgICAgICAgICAgICAgICAgICAgICAgICAgICAgICAgICAgICAgICAgICAgICAgICAgICAgICAgICAgICAgICAgICAgICAgICAgICAgICAgICAgICAgICAgICAgICAgICAgCiAgICAgICAgICAgICAgICAgICAgICAgICAgICAgICAgICAgICAgICAgICAgICAgICAgICAgICAgICAgICAgICAgICAgICAgICAgICAgICAgICAgICAgICAgICAgICAgICAgICAKICAgICAgICAgICAgICAgICAgICAgICAgICAgICAgICAgICAgICAgICAgICAgICAgICAgICAgICAgICAgICAgICAgICAgICAgICAgICAgICAgICAgICAgICAgICAgICAgICAgIAogICAgICAgICAgICAgICAgICAgICAgICAgICAgICAgICAgICAgICAgICAgICAgICAgICAgICAgICAgICAgICAgICAgICAgICAgICAgICAgICAgICAgICAgICAgICAgICAgICAgCiAgICAgICAgICAgICAgICAgICAgICAgICAgICAgICAgICAgICAgICAgICAgICAgICAgICAgICAgICAgICAgICAgICAgICAgICAgICAgICAgICAgICAgICAgICAgICAgICAgICAKICAgICAgICAgICAgICAgICAgICAgICAgICAgICAgICAgICAgICAgICAgICAgICAgICAgICAgICAgICAgICAgICAgICAgICAgICAgICAgICAgICAgICAgICAgICAgICAgICAgIAogICAgICAgICAgICAgICAgICAgICAgICAgICAgICAgICAgICAgICAgICAgICAgICAgICAgICAgICAgICAgICAgICAgICAgICAgICAgICAgICAgICAgICAgICAgICAgICAgICAgCiAgICAgICAgICAgICAgICAgICAgICAgICAgICAgICAgICAgICAgICAgICAgICAgICAgICAgICAgICAgICAgICAgICAgICAgICAgICAgICAgICAgICAgICAgICAgICAgICAgICAKICAgICAgICAgICAgICAgICAgICAgICAgICAgICAgICAgICAgICAgICAgICAgICAgICAgICAgICAgICAgICAgICAgICAgICAgICAgICAgICAgICAgICAgICAgICAgICAgICAgIAogICAgICAgICAgICAgICAgICAgICAgICAgICAgICAgICAgICAgICAgICAgICAgICAgICAgICAgICAgICAgICAgICAgICAgICAgICAgICAgICAgICAgICAgICAgICAgICAgICAgCiAgICAgICAgICAgICAgICAgICAgICAgICAgICAgICAgICAgICAgICAgICAgICAgICAgICAgICAgICAgICAgICAgICAgICAgICAgICAgICAgICAgICAgICAgICAgICAgICAgICAKICAgICAgICAgICAgICAgICAgICAgICAgICAgICAgICAgICAgICAgICAgICAgICAgICAgICAgICAgICAgICAgICAgICAgICAgICAgICAgICAgICAgICAgICAgICAgICAgICAgIAogICAgICAgICAgICAgICAgICAgICAgICAgICAgICAgICAgICAgICAgICAgICAgICAgICAgICAgICAgICAgICAgICAgPD94cGFja2V0IGVuZD0ndyc/Pv/bAEMAAwICAwICAwMDAwQDAwQFCAUFBAQFCgcHBggMCgwMCwoLCw0OEhANDhEOCwsQFhARExQVFRUMDxcYFhQYEhQVFP/bAEMBAwQEBQQFCQUFCRQNCw0UFBQUFBQUFBQUFBQUFBQUFBQUFBQUFBQUFBQUFBQUFBQUFBQUFBQUFBQUFBQUFBQUFP/AABEIAewEHgMBIgACEQEDEQH/xAAfAAABBQEBAQEBAQAAAAAAAAAAAQIDBAUGBwgJCgv/xAC1EAACAQMDAgQDBQUEBAAAAX0BAgMABBEFEiExQQYTUWEHInEUMoGRoQgjQrHBFVLR8CQzYnKCCQoWFxgZGiUmJygpKjQ1Njc4OTpDREVGR0hJSlNUVVZXWFlaY2RlZmdoaWpzdHV2d3h5eoOEhYaHiImKkpOUlZaXmJmaoqOkpaanqKmqsrO0tba3uLm6wsPExcbHyMnK0tPU1dbX2Nna4eLj5OXm5+jp6vHy8/T19vf4+fr/xAAfAQADAQEBAQEBAQEBAAAAAAAAAQIDBAUGBwgJCgv/xAC1EQACAQIEBAMEBwUEBAABAncAAQIDEQQFITEGEkFRB2FxEyIygQgUQpGhscEJIzNS8BVictEKFiQ04SXxFxgZGiYnKCkqNTY3ODk6Q0RFRkdISUpTVFVWV1hZWmNkZWZnaGlqc3R1dnd4eXqCg4SFhoeIiYqSk5SVlpeYmZqio6Slpqeoqaqys7S1tre4ubrCw8TFxsfIycrS09TV1tfY2dri4+Tl5ufo6ery8/T19vf4+fr/2gAMAwEAAhEDEQA/AP1QooooAKKKKACiiigAooooAKKKKACiiigAooooAKKKKACiiigAooooAKKKKACiiigAooooAKKKKACiiigAooooAKKKKACiiigAooooAKKKKACiiigAooooAKKKKACiiigAooooAKKKKACiiigAooooAKKKKACiiigAooooAKKKKACiiigAooooAKKKKACiiigAooooAKKKKACiiigAooooAKKKKACiiigAooooAKKKKACiiigAooooAKKKKACiiigAooooAKKKKACiiigAooooAKKKKACiiigAooooAKKKKACiiigAooooAKKKKACiiigAooooAKKKKACiiigAooooAKKKKACiiigAooooAKKKKACiiigAooooAKKKKACiiigAooooAKKKKACiiigAooooAKKKKACiiigAooooAKKKKACiiigAooooAKKKKACiiigAooooAKKKKACiiigAooooAKKKKACiiigAooooAKKKKACiiigAooooAKKKKACiiigAooooAKKKKACiiigAooooAKKKKACiiigAooooAKKKKACiiigAooooAKKKKACiiigAooooAKKKKACiiigAooooAKKKKACiiigAooooAKKKKACiiigAooooAKKKKACiiigAooooAKKKKACiiigAooooAKKKKACiiigAooooAKKKKACiiigAooooAKKKKACiiigAooooAKKKKACiiigAooooAKKKKACiiigAooooAKKKKACiiigAooooAKKKKACiiigAooooAKKKKACiiko0AWim8etL+tIN9haKKKYBRRRQAUUUUAFFFFABRRRQAUUUUAFFI30zSDHpQGvQdRRRQAUUUUAFFFFABRRRQAUUUUAFFFFABRSUCgNRaKKKACiiigAopDjvS0BoFFFFABRRRQAUUUUBoFFJS0CugooooGFFFFABRRRQAUUUUAFFFFABRRRQAUUUUAFFFFABRRRQAUUUUAFFFFABRRRQAUUUUAFFFFABRRRQAUUUUAFFFFABRRRQAUUUUAFFFFABRRRQAUUUUAFFFFABRRRQAUUUUAFFFFABRRRQAUUUUAFFFFABRRRQAUUUUAFFFFABRRRQAUUUUAFFFFABRRRQAUUUUAFFFFABRRRQAUUUUAFFFFABRRRQAUUUUAMmcRoWboOa8X8Y/taeAfBWsyabqesRwXMZw0eCcflXs1wuY2PoDX5i/EzT7XVv2oFsr2Hz7Wa7w6evNbQSe57+U4Kli5zVTorn12P24PhbjnXE/wC+GqS1/ba+GV1dwwR64rGRto+Q9T0610Om/s1/D6TT4N+gw9Mj15Aq5H+zX8P4JEkj0GFXRgwY9iKnQiUsujdKLPR9J1S21mwhvLSQSwTKGVwOoNXK5DxZ4+8N/DHS4X1S6SxtB+7XjPTH+Iq94Q8baV430saho9ytzaMcBgMVLR5UqM0udR906GisrxR4msPCOjzanqcvk2cI+d8ZxWV4L+JGgeP7czaNfR3KDnC8GkldXIVOUouSWh1VFYuueKtM8OWr3Go30FnEvJMsmDXA3H7TPgCzkaKbXrdZF/hzT5Tanha9ZOUINnrFFcf4R+K/hnxsudH1SC7/ANlWwa60Hdzt5PvmjlMalOdF2qKzH0Vh+JPGWj+EbFrvVb6OzhXq0hxXC/8ADTvw76DxDbEdAS3WjlNqeFr1VeEGz1Rs8Y61iXnjLSrG+S1lvYluGOBHnmsG4+M3hNNFbVE1WB7VVyzq/Svz4+LPxC03Wvj5b6vpepT/ANnrMpaSOXAAzzn1p2PVwGUVsTOSlFo/T2JlkRSpyG/UV5l8Tf2jPBPwn1ey03xFqQsru8TzYlKbsjOKj+HXxz8H+J5bDSNO1dLm+dAoj7nA5/pSfFPw54B1fXNLuPFlvBJfITHbtL0yaVjhWH9jWdOtFnoHhfxPYeLtIg1PTZhPaTLuRx3rXrI8PWWn2Ok2kWmIosVjCwiP7u3tj9azPFXxM8OeDAf7V1OG2cDlWPNFjk5Oeo4UkdVRXksH7Tnw/uLlLca5biZztHOOtej6PrlprVqtxZTJPEw4dDmjlZVTD1aMXKpGyNOis/UtYs9Jhaa8uY7WNVLFpHC9PrXAap+0R4I0e6ME2tWwOM53hv5UcrCjh6uI1pRbPT6K888N/HbwX4qvvsmna3bzT/8APPdgnP8A+qu8t5EmjyjBgfQ5pWa3IqUalJpTjYmag/dpaTtSMVvc83+JHx98I/Cu8S31/UktZWAO1vSt7wH8StE+JGkLqWh3a3dmxwHWviD/AIKCRibxpokW4BpBsXPuP/rVH+zD461r4L+LNO0PXW8nRtaQTQyN9ADj8xW/Kkj65ZPTqYH6xF+92P0KPGTngV5t8SP2gPCXwrvo7XXr5baSTG1T716LZXMd3bxyxMGjYArj0xXwB/wUI/5HbTP+uX/spqUeVleChi8R7Cpofefh3X7PxLpUGoWMomtp1Do47g1qV538C8f8Kx0MnH/Huo5+lbfiz4g6H4Ji36rfR23GfmOKUo6nDUoP6w6NFXsdTRXk6/tOfD8SCN9dgR2/2q9A0PxNpviSzW5066juYWGQyHNTyiqYatSV5waL9/fRafAZpmCRr1ZjgCqmk+JNP1xmSzu45nXqIznFeF/tSfFnQdN8B65okuotFqLwELDF94mvnb9jP4naB4A/tibxBrM1uZQMLO+445/LqKvk0uexSyirVwjxCWx+iC46jpS1znhTxro/jTSf7U0u7jubPp5gNc9r3x58GeGbo299rEMcqtt2g5qOU8eGGrTk4Qg20eiUh/T0rzbQ/wBoDwR4jvltbPWYGmZioUtjNdtf65YWelvfXFzGlqgyZCeMZo5RVMPVpNKcWrketeK9M0GRUvbyOBz0VzitC0vo72BJoWEkLLuDKc5r86v22viTovjPxl4ZudG1KaWO2ykjQuVQYbjp16Gvpb4IfHzwhH4J8NaXPrMX29oFjCSEgk596fKevUymrDDRrpXuekfFD40+GfhFbwXHiK9FlHMcKxGef8mtr4f+PtH+JXh2LW9CuRd6fKxVZAMZYdf51gfE3QvBfiDTI7jxSlvJbMQEaY5U1rfD7T/D+k+Fobfwwka6Urts8r7u7jOKXKzyakYU8PzNanWg0tYHifxro/g2za61i+jtIVGWaQ4rh1/ac+HhbH9v22M8HfUip4WvUjzQg2j1haGrE8P+LdL8UWa3OmXUd1Ew4aNs/StG6vIbGIvO6xIBku7AKPrmqsZOEoy5JLUs0V5zr/x68GeG5Nl1rVvuzj5WBH6VW0r9ojwJrF8lna69btPJjarNgn6UrHSsHiZJOMHY9PoqC1vIb6FZoZFkRhkFTmp6RyWadmgooooEFFFFABRRRQAUUUUAFFFFABRRRQAUUUUAFFFFABRRRQAUUUUAFFFFABRRRQAUUUUAFFFFABRRRQAUUUUAFFFFABRRRQAUUUUAFFFFABRRRQAUUUUAFFFFABRRRQAUUUUAFFFFABRRRQAUUUUAFFFFABRRRQAUUUUAFFFFABRRRQAUUUUAFFFFABRRRQAUUUUAFFFFABRRRQBHOf3bfQ/yr8v/AIs6xb+H/wBpY6jdkra29zukYDJHIr9QJ/8AVt9D/KvzI+JGm2+rftSRW11EJ7d7vDwt9xuR1rensfY8N8qq1XLblZ9PWf7c3w8tbeKGSW7zGoXJj4PHaul8G/tieBPG2u2+lWEtx9pmOFDJXU2PwC8B3FnC7eF9MJKgn9yPStfR/gz4M0G6W4sPDmn2twpyJI4Rnip07nlVquXtO0Xf1PnL9v4rP4T0kqcAnd0x2rsP2F5N3wrc5z++/wDZa5j9v6x/4o3TZAMAHAx06V0v7Cn/ACSmQesw/wDQau3u3PWqcryW8dX/AME6f9r7B+C+shs7SnOK8c/4J5pu8O6sEzhX6H6mvYf2vz/xZnWB/sf4V4//AME7jjQNY/3h/M0lpFMMLG2T1JNanmf7b2qXc3xSh08XU8dmWXdGDgfw17J8M/2N/AniTwTZ6lqGnreT3UW/dIckHHUV4b+25z8YIv8Aron9K+8vgv8A8kz0P/r3H8hVy91XOzGYirhcuoyouze58DfHL4e337NPjrTb3w5evBbB1YRqcDbkZH6197+DPGi6x8M7PXiN5Np5rnOTkLzXyV/wUK/5DGkf7qfzFfQnw3z/AMM8JjO77A+Mf7hpPoycfGnicFhq817zaufGupXGs/tPfGqfTlu500pZWXYOgwef5V9Pab+wx4Bh0dIZ7BHvivNx3HvXz5+w7KIfizrUcmd5nfGa/RSPBUH2oloc2cYqrg5xp4aTirHzp4T/AGL/AAxoK6ra3dxNqml3kJh+xyHCLzn/AD9K+Pvih8MvDvhv46Q+H9Oslh0uSRVaNX4I4GK/U1vlVvpX5sfHT/k521/6+B/MUo+8dGRYyvWq1HKV7I+wPhj+zL4F8Dalp2v6RpC2+oRxKyzk5PPWvnf9vm6kj8e+EVSRkPy/P2Pz19yeH/8AkBWH/XGOvhX9vv8A5KH4S+i/+h0t2ceU1JYrMH7Z3tc+mL7x5/wgHwDtdXdiZo7ICNz/AH8cV8bfCD4d6n+1R48v9S8QX0n2BTmRG6Hk8fpX0F8dEaX9mDTFVS2IVO0d+K57/gnm0f8Awjup8KrksCo7cmqtZXOqhH6tg8RXS967sb/jH9hXwNJ4el/sqzWy1KGHcksbYJPqa8h/Zt+IusfCv4qXfgzVLyS4s/MKoHOcfT9K+/r5V+ySF8Abe/0r82PEwW4/aoZExj7UDx9aFexWVYieOw9WNb3rI9o/b816907w5pTWs7xCRwPlOOqmua/Zf/Zl8KfFT4fW+ua/bNfytIwbe/8AEAMVof8ABQf/AJFHRP8AeX/0GvUv2G/+SFQf9fD/AMlo1RfNPC5OqlHRt2ueA/tQfs62HwZtLfX/AApLNpih+fLOQG4xn9a+lf2Q/iTd/ET4aQPfv5l5ajynbufQ/pXJ/t2f8knf/eH8xVP/AIJ/nHw91L/roP61UrclzmxP+0ZUq89ZXtc+r1+6D7UDpSL94ml/hFch8Sj8/P298/8ACfeHvQkD+Veh+Mvg+vj79n7QdQtoS+sWFuJLd1+8vTOP++R+Vee/t8f8j/4f/wB5a+ufgYqyfCbQkZQwa1Awe/Wup3sfe4irLC4HD1Idd/vOB/ZM+MQ8ceFW0e/cjWdNzBIrdW28c/lXz7/wUE58aaafVCcf8Brrfi/4Zu/2f/i5Y+NdFTytHvZRHd269OcEmvPf20vE1r4y1LQNWsZFmtrmESDH8OVP+FZx3aOjLMOnjViIfDJM+vvAWvjwx8CbPUm4FvZbs/8AAa+LPC+l6p+1p8WbqPUb2Z9KiYhk7AAnH8q+pb9if2WZ8/OosuF/CvGf+Cd9xF/a3iRJSsc5cYVvq3StOlyMMlQo4mvD4k9D1XU/2E/AMmgmCCxWC/RMi5jOGJx3r55+GvizXP2ePjZH4Uub2R9MnlEYikORgk4P61+jzKAsmffn8K/Nb9pLB/aU0fafMbzVwq/Q1MXcjJ8VVx8atGu7q3bY+j/2nvgn4Q1jwPq3jCTTY31VYAyXI6k187/sf/Bfwr8VrjWP+El04X+1gqiTooO7p+Q/Kvrf44Ky/s23+4FSbFPlPbgV4F/wT2/4/Ne/66r/AOzVS1QYOtVjltdJ7M+tfCPwl0LwN4Rfw/okP9n2TRlB5fbOcGvIo/2IfBk15dXWuSHV5Z2LfvPc16v8ZPiMnwv8FXOtModkj2ordCx6V8XeD9a+LP7Sl/cX+la1PpVispU+U5VV5Pp9KzUb6nk5fSxc4yxCqcse50Hx0/ZR8N+C9Dudf8GXC2lxZgB4YTgr612f7IPjJ/i18Or3wt4hk+3eSdjb2yWTJ4P5VwXxM/Zr8f8AhfwPqeo3HjCa8jVFeWMzN8/zD1qX/gnfuXVvEIY5IZAfrjmtLWR72ItVy6Uoz53F7nC/tgfB/wAOfCvxP4dsvDtglhFft+8Qd/mJz/OvpD4M/st/D+68LeHPEsmkRvqTQrceceu6vJ/+Chn/ACPHgr/P8VfWfwR/5JP4b/68l/rS6HHmGLrRyyhJS3PDf2+42g+HOjpGfLC3Y2/7IGK7r9l/Wm039n22vpTvEKyuT64riv2/v+Sd6T/19D+la/wJG79luUDJPlT4Ud/lNGjRzeyVTLaTa3lb8T5mvL3XP2pvjFPYTXcg0qKZkCIMgAHnP5V9KL+wv4Bm8PiEWUaajtybnGG3dq8N/YJuYv8AhZ2vRyIUcO+Aa/Q3YN5YHA/+tWex0Zzi6mBqQoUXZJLpufmxpep69+zD8a7bQ/t876S0oDqejIT/APXr6i/as8QTP8F5b2znaNLiIMu04yDjGa+dP23JFm+M+lxxnMnlp/Wvav2iD/xjtY4/59YP5JWsUrHZUhGpUwtVrVrU8I/ZV+BWj/Gr+1bjxKHvTAcCOR/l5znP/fIr0v46/sfeGfCPhG71zwzH/Zl3aoz7oG6AKc4qb/gnjzpuv/RP5Gvff2hP+SW61/17yf8AotqnrYwxGNrUszVGDtHTQ8S/YP8AibqfizQ7rSNRuWuhbKQjuctgYFfYIbOMdK+Bf+CeP/Ia13/dk/8ARgr76XvWUtzwc+goYxpK17C0UUVB8+FFFFABRRRQAUUUUAFFFFABRRRQAUUUUAFFFFABRRRQAUUUUAFFFFABRRRQAUUUUAFFFFABRRRQAUUUUAFFFFABRRRQAUUUUAFFFFABRRRQAUUUUAFFFFABRRRQAUUUUAFFFFABRRRQAUUUUAFFFFABRRRQAUUUUAFFFFABRRRQAUUUUAFFFFABRRRQAUUUUAFFFFABRRRQBFcLmNj7GvzR8cf8nWW//X4P5iv0yOO54rm7n4e+HbrVhqMujWb3o5E5hG786uLsezluYPAubtfmVjZ0j/kG2/8AuD+VW2x070kaCNQiqFVRgY6U6oPHk+Z3PIf2k/hdJ8TvANzbQRma6hBeJFGWJ9vyr5I+Bfx21H9mqa58P+L9KuksvMbaypyDnjNfomy7uvT3FYGq+AtA1iQyXmkWlw56tJEp/nW0ZWVme7hcyVPDvDV480WfCPx6/aguvjlpsXhnwjpt4sVw+xiycMeP/r19Ifsm/CCb4WeA4YryPy764/eSruyfb+Zr1fT/AIdeHdNmEtto1pA6/ddIlGPyrfFttwOAO2BgVTkmaV8ypyofVqEeWJ+bn7bkZX4v2wPRnTHGe4r7y+DJ2/DnRB6W69sdq1ta+H+ha/dLc6hpdrd3C875VzWzbWMdnAkMSJFEgwFUYVfpRKSkjPFZhHEYWnh7axPhb/goVcf8T7SFwT8qdBnuK+mvglarqXwX0q2YYEkGwhxgHIruvEXgvR/FCodU0+G7KnhpFyR9K0NP0uLS7eO3to1hhjGFRRgAUuZWRVTMvaYSnh0rODPzt8Y+DfEv7OfxdvPEOlWVw2kvKZMxLlSCeRXs2n/t8eF10tPtFherfquGh24+b/69fVWpaHZatGY7y2juY2/gkQN/Ouf/AOFUeFFbI8PWIJOc+SoNX7RNG9TNKGIUfrELtHmPwL+PGqfF3XtQjk0O407TEg3xyTdM54/lXzN+1b4X1bwX8ZrTxVLYTT6b5iu00a5HbNfoNpPh6w0VWFlaR2ynHEahc4+lN1rw1pviC3MOoWcV1EeqSoGH60oyUWctDMqeHrudKNos8H+Ef7WOhfEPW9L8N6fY3Yu2QK8kq4UAYzXin7f0br8QvCB2HB2Y2rkY80V9o6P8OfDug3wu9P0iztblV2iSOIBhn6Va1nwXo3iKSKXU9Nt754vuNNHkj6fpUXV7jo46lh8T7elHQ86i8Gx+OPgnp+lSx7jNpyKpcYAOwYr4z8C+I/Fv7JPja6h1XT5pNFaQgtGuVK5OMfnX6SW9jFawrFGmxEGFVegHpWdq3hPSdaTbe2EFyD2kQNn86rmTNKGaQpucaqvGXQ+UfE37eGkXmivb6JpV5LezIQu85ANcR+zR8Ite8efEKXxr4k09oonYuPN+pxivs23+E3hS1bdDoNlE3XKwKD+ldLY6XBpsYjt4kjjHRR0o5kjX+06FKlKnho2ufGX/AAULjK+GdKymI0lGNozwBXqP7Eo2/Au1wCBJcORkY/hWvbte8IaV4oiWLVdPt76JW3BZk3Aev9KuaNoVjoNmtnYWsdrbIcrHGu1Rn0qXJHHUzBzwSwltnc+bf25oTJ8KplH16Z7iqv7AcJj+HN8x/icdsdM19N614fsPEFqba+tYrmA9Y5FyDUGh+GNO8NwtFp1tHaxcZSIYFRzdCXj1LBfVUutzWX7xFKcYGetA9aDjv09ak8ZH5+/t9oyePPDzbHb5l+6M19cfAVWb4WeHjtZf9HH3hius8ReCtG8TTQzahptreSxNlXlTcR9PTp+latjp8On2629vGsMS9EXoKpyZ7WIzD22FhQt8Jy3xN+Htj8RvCd/o91ErtNEwjc9UbHDCvyw+K3hzXfAviKTw3qssr/ZXbylYZDKFbkfXiv1+aPp/hmuf1b4eaBrt4Lq/0u2urnrvkTmiMuXVm+WZq8C5KWqf4HAfD3Q4fE3wNsNNmUKlxaBSJE4BI4r43t9P8WfsrfFi51BLCW60Vid0sKfK6k/0zX6PWunxWMQht4o4YlGBGoxVfUvD1hq0PlXlnDcJ/wBNEDfzqua2pWGzONGU+aN4y6HyjqH7fnh7+y/LtdPujqUi7Nuzox6V5f8ABf4Y+J/jX8YE8X+I7GWLToZfMXzBjjORj8q+44fhT4WhkDpoFirdSwiAP6V0tjpVtpsfl2sKQp/dQYpKprsUszpUKc4YeHK5dbnBfG7wtJ4q+E+s6NZITJJbFY1Htz/SvhL9n34vwfs7atqtl4m0663TMSGXr36flX6XTQiRQpAK+4zXNal8M/DusXEk97pFrcSvjeZI87sdKfNYxwWYxo0p0aiumeJeONSH7UXwLlutEhaB5MTwh/vHbnivn39n/wCNc37NaXnh7xVo95HHJMZPMHQEk81+hGm6HZaPapa2VpFbW68CONdqj8KzNR8A6DrEhe70m1nY9WaEf1pxlZDw+ZUqdOVCcbxZ8b/Gr9sK0+IvhW40Hwhpl3dXE4CN8uT15xXefsX/AAh1XwPpeoavqqNbzahhhC4wyjPf86+hLP4Y+GtPmWS30ayjkXo3lKD+ldPa26267VUKOwAwKbn0NauZ0o4WWGw8bJ+Z8S/8FAvBGq6nfaFrlnazXFpafJJtGcc5/pWz8E/2wNBs9D8N+F20++lv/KW3LbOM5xX13qmk2usW5guoY5oz/C6Bv51ztr8L/DNncpLFotnHKhyJBCuQfwqObQzjmFKpho0K0b8ux88/t+SGT4YaNcASENdDonTIHWu2/Zf0wat+z1ZWkiqEm8xWyMHacZr2bVvDOn+ILVLfUrKG8hQ5CTJuUfT0q3pWkWeiWa2tlbpb2yHKxxrtUZpc2hg8wTwkcPFbO5+dGueEfFf7M/xaudf0+wubrR2kMglhGdyk9D9P617Of2/PDkmjqY9Pvm1HaVeEp0bFfVuqaHYaxCY7y0iuYz0EiBsfnXNJ8IvCiS710GxDZzuEK5/Sri1Y9B5phsSk8TTvJK258LeB/BPij9pT4vReItZ05otLjk3DzRjEeeP5V9G/tgWEel/BlraJf3cSoihRnCgrive9M8P2Wjq62VtHAGxkIm3p/wDro1fw7Za9ZvbX9rHcwt1SRdwo5jCeaKpXhVirRjsj5B/4J5yb9L1x8EZ2DlcdjX0D+0J/yS/WztLHyX+UDP8AAa7fQPCOl+FoGTS7KGzQ4yIk25+v5mtC80uHULdoLiNJo3GGRxkEUrnNWxyq4xYmx8Jf8E74nXVNZkYFRhsKRjHIr74U7uawvD/grR/DjN/Z+nw2oY5PkrjJ9/zreXOOaiTuznzDFfXK3tbC0UUVJ5oUUUUAFFFFABRRRQAUUUUAFFFFABRRRQAUUUUAFFFFABRRRQAUUUUAFFFFABRRRQAUUUUAFFFFABRRRQAUUUUAFFFFABRRRQAUUUUAFFFFABRRRQAUUUUAFFFFABRRRQAUUUUAFFFFABRRRQAUUUUAFFFFABRRRQAUUUUAFFFFABRRRQAUUUUAFFFFABRRRQAUUUUAFFFFABRRRQAUUUUANbtzigZ9adRSHdhzRRRTFoFFFFArIKKKKBhRRRQAjUClophqFFFFIVhDRzS0UDD9KKKKBWQUUUUtRg2KKKKYaBRRRQAdaTdzS0UBoNbPGKXOOCaWigNbCdPeloooAb9acKKKSVhWQhzSbTTqKq47sbj1NLj3paKB3Yn1paKKQtBCcUnXvTqKBaifWloooHoFJg+tLRQMKKKKdxBmiiii4rBRRRSGFFFFABRRRQAUUUUAFFFFABRRRQAUUUUAFFFFABRRRQAUUUUAFFFFABRRRQAUUUUAFFFFABRRRQAUUUUAFFFFABRRRQAUUUUAFFFFABRRRQAUUUUAFFFFABRRRQAUUUUAFFFFABRRRQAUUUUAFFFFABRRRQAUUUUAFFFFABRRRQAUUUUAFFFFABRRRQAUUUUAFFFFABRRRQAUUUUAFFFFABRRRQAUUUUAFFFFABRRRQAUUUUAFFFFABRRRQAUUUUAFFFFABRRRQAUUUUAFFFFABRRRQAUUUUAFFFFABRRRQAUUUUAFFFFABRRRQAUUUUAFFFFABRRRQAUUUUAFFFFABRRRQAUUUUAFFFFABRRRQAUUUUAFFFFABRRRQAUUUUAFFFFABRRRQAUUUUAFFFFABRRRQAUUUUAFFFFABRRRQAUUUUAFFFFABRRRQAUUUUAFFFFABRRRQAUUUUAFFFFABRRRQAUUUUAFFFFABRRRQAUUUUAFFFFABRRRQAUUUUAFFFFABRRRQAUUUUAFFFFABRRRQAUUUUAFFFFABRRRQAUUUUAFFFFABRRRQAUUUjOqKSxAHqelAC0V554w+P3w/8AAdwLbW/FWm2VznBiknAI/Oo/BP7QfgH4g6kNP0HxNp+pXbHCwQTgscemKAPR6KKq6pqVvo9jLd3cy29tEN0kjnAUUAWqK8o039qH4Z6trkekWfizTp76WTylgjny5b0xXqqYYZGDnv6jtQA6iiigAooooAKKKM49+M4oAKK4T4gfGvwf8MZ0i8R61a6U8gyDcyBAfzrS8B/Ezw38StPe+8Oata6naKdpe3kDjPPp9KAOpooDblBGPwooAKKKKACiiigAooooAKKKKACiiigAooooAKKKKACiiigAooooAKKKKACiiigAooooAKKKKACiiigAooooAKKKKACiiigAooooAKKKKACiiigAooooAKKKKACiiigAooooAKKKKACiiigAooooAKKKKACiiigAooooAKKKKACiiigAooooAKKKKACiiigAooooAKKKKACiiigAooooAKKKKACiiigAooooAKKKKACiiigAooooAKKKKACiiigAooooAKKKKACiiigAooooAKKKKACiiigAooooAKKKKACiiigAooooARuoGOpx+FfGf/BRr9q6b4E+BYtG0OUJr2pYYtnBWE8Ej9K+zGr8M/8AgqR4yn8TftELa3Ehe309Gtgo68Mf8aBnkPgv4Y/FT9qDWrmaxtb7Vnb53mkXfHnP+GK+2v2H/wBjT4kfBj4yWmt65pP2fTgd0jhNoHFfW/7AXwysvh7+z7oPk28ST3ka3bTmH523KMZPtz+dfSvlM33ju96BEgbIJByOua+Ov+Ck/wAeE+Fvwlk0q0lK6jqhMBw+3CnH59a+wpnWGIs5wqjJr8P/APgo58Vrj4n/ALQVxoFvdNJBprfZYoQM/MBQM7b/AIJd/AeL4hfEiXxxqVms9pYSHy2k/wCegJ5H6V+xceCoK8qQCK+dP2E/hHbfCn4E6PGIFjur2NLiXAwSxX/69fRueSMYPWgQtFFFABRRRQAUjZ2nHPbFLRQB8kf8FFPgFb/Fr4O3mpW1oraxpSNdLMvUqq8ivgv/AIJl/G+7+G/xgTwHqczQ6fqT/ZhG38L4z+ua/Z3W9Ng1jSbuyuY/MgmjZHX1BFfz7ftMeH7r4FftLao9gGsWhvPtETA4+QuDQOx/QpDt8tSh3Jj73rT681/Z2+Ilr8VvhH4e8QWrBhJaxxSYOfnVRur0rbtoEFFFFABRRRQAUUUUAFFFFABRRRQAUUUUAFFFFABRzngZ/Gis3xJI0Og37oxV1t5CuOudhxQB5h8af2qvh/8AA61dvEOswJdDI+zo3Pbr+dfG/jP/AIK+eHbfVHg0bR5b2BOEKkHd+dfM+pfsg/FD9pP4y+I5gJrfTmuiRcTyFlA/3R16V9IeCf8AgjnoUVhC/ibW/tdzgF1gLxj8u1A7GJa/8FiHF0qzeFbiKEHn7lfQnwd/4KafDb4jXNrY6jcjQr+YhfLunAAPtivPtT/4JA/D2SylWyv7qGfblC1y7AH6V8X/ALTn/BPnxl+zvEde06eTVtCicMZ4wd0Y9ef88UBY/cvR9Ws9bsY7ywnS4tZBlJI23KR7Ver8sf8Aglz+1te3esr8O/Et6bhWB+yzzfeGM4X+Vfqav3RQIWiiigAooooAKKKKACiiigAooooAKKKKACiiigAooooAKKKKACiiigAooooAKKKKACiiigAooooAKKKKACiiigAooooAKKKKACiiigAooooAKKKKACiiigAooooAKKKKACiiigAooooAKKKKACiiigAooooAKKKKACiiigAooooAKKKKACiiigAooooAKKKKACiiigAooooAKKKKACiiigAooooAKKKKACiiigAooooAKKKKACkbPGO/FLRx1oA/P39qX/gpVqXwB+J1/wCGrTwvb6rFa/KZmudpP0Fflb8ffjNL8cPiRdeKZbH7BLNJu8jduA5B6/hX7X/Gr/gn54D+NPi6bxBq91cxX05+fYisP1r8eP2qvhPpnwn+MmoeGtJkeW3hm8sNIoUnkDjHXrTsUj6b+Fv/AAVt1T4c+CdI8OxeDIbsafbrAJzPjdgYr6S/ZT/4KUap+0B8TbXwxd+F4dOguOTOJ87etYHwV/4Jk/Df4gfDPw5r91fXkdxqFjDcSIIRgO0asev1r3n4Lf8ABP7wJ8EfGFv4h0e7uZryH7qyIqj9KQHvfxM8Qf8ACPeAPEepZ2PZ2M8qt6MEOK/BX4YwzfGr9qrTHn/0n7XqiySf5/Cv2Z/bW10+Gf2d/E9xvePzomgG3/aRuv5V+T3/AATH8K/8JD+0RZXUvMdrl93rjNAH7keF9Nh0fQLGxgG2K3iWML6YrSkby42bGdozj1qOKNVQGP7h5FKy4wW/h+b9P/r0CPz9/aO/4KMeL/gD8Rp9AvvAolti5MFyZvvpxz+v619R/sy/tGaN+0V4Fj1vT/Lt7oYWe1L7trc5/ka8+/bo/Zjsvjr8Mbqe2gRdf06HzLeRep28kfyr8t/2T/2ida/ZR+Myafqcc9vp0lx5N7bv06kFh+dOwWP3sDbQTjgdq4r4mfFDSfhn4P1DXdYlWC2tUZhuONxA6VreF/FumeLfDNlr2n3azaZcxCZJPQYzj8K/JP8A4KU/tcy+PvEz+CPDNyf7ItHEcrx/elfOCPwx+tILHp2j/wDBWjxH4y8fLoHhzwDFfLLP5MB+09ecBsV+kvg7UNS1Xwzp13q1p9h1GaFXmt852MR0r84/+CYX7H50ezj+IfiOzInlJa0jk6nrz/Kv0zThVGAMAdKBCt1HTFfkH/wWG+HcOk+N9F8VRx+XJeYgyvfaua/X30+tfBX/AAVz8MLq3wRsNUaNH+wTGXLduAKB3G/8Ej/iFJ4k+C93okzl5NKfv238/wBK+9/f15r8jv8Agjv4qFl4l13Ry7b7hFJA7YDEf+hV+tsP+r6k896BElFFFABRRRQAUVW1G8Sxs5rh1LrGpbaoyTgV+ePjz/grRpXgnxbquiHQZXazuHhLMh5wfagZ+i9FfmKf+CyOlt08Pv8A98PSf8PkNM/6F9/++HoCx+ndFfmJ/wAPkNL43eH2xn+49e1/sr/8FCLP9pLx0fDkOjyWhZdwlCkY6+v0oCx9oUU2MFVwW3e9Op2CwUUUUhBSNtYYYAg+ozS0UAQw2cEDM0UccZb72wYz9amoooHcK4z4xeH7LxN8NfEFlfoHgNnK3IzghTiuyPv0xmvnj9ub4yW/wh+BGuXQukg1GePy4lb+MEEHH5j86Aufi78AdRn8M/tPaYtk4Qf2r5OAMfL5nFf0SRtlAWHPX8cmvwc/4J+/Cm7+LX7RVpeSwb7S1ke6kk9GXLj+VfvNEu0MD1DH+ef60CPmH9sr9qHxb+zPY2+q6Z4TTXNHkIDz7yu08Zzj6/pXIfsf/wDBQ3S/2kNaudE1eyg0LVgCYo1csWHpz/nmvp/4sfDbTviv4Lv/AA9qcavb3KEZYZwcV+EfxY8A+Jv2Of2g2mhSS2NrdCW1eP5Q0ZPH6fzoGf0GLzk+tMuLiO1haWV1jjUZLMcAV4d+yd+0Npf7QHwytNVt7nfqcKBbuJm5Vx/jg/lXin/BRr9reP4N+BZvDuh3e7xBqCGN9pz5SkD5v1NAWOO/aM/4KqW/wr+I114b8MaBH4hgtmMUsokIy47LivqX9lb4ueLPjR8P4fEnibw8vh9bnmCEOWYp75/D86/Iv9hn9mnVv2lPil/bOtO7aNA/nXN1IM+aQc4H1x+lfuf4b0S18O6PbafZQiC1t0WONAMYUDAFAjR/HJxRStSUAFFFFABRRRQAUUUUAFFFFABRRRQAUUUUAFFFFABRRRQAUUUUAFFFFABRRRQAUUUUAFFFFABRRRQAUUUUAFFFFABRRRQAUUUUAFFFFABRRRQAUUUUAFFFFABRRRQAUUUUAFFFFABRRRQAUUUUAFFFFABRRRQAUUUUAFFFFABRRRQAUUUUAFFFFABRRRQAUUUUAFFFFABRRRQAUUUUAFFFFABRRRQAUUUUAI3SvwJ/4KCf8nOa5/1+H+a1++9fgR/wUA/5Oc1v/r8b+a07jufs1+yr/wAkD8F/9g6D/wBFrXri9K8k/ZR/5IJ4K/7BsP8A6LWvXO1ILnyj/wAFMpHi/Zb1Yo7qWu4F+XvknrXwl/wSFtYbj4xagjojbYG2luucc19+f8FGNEm179mXWoIQ2Y5o5iw7bTX53/8ABJnXhpvxuuIMqhlhZQR/FwM0Bc/a5V28Dp0paRc9+tLQFxksayKVZA4x3r8of+CoX7Ikmk3DfETwtYsEeTddxQ9cnHzfzr9YPwryH9qDxz4W8E/B/wAQ3XigxS2Uls8Swyf8tGI4ApjPx1+FH7fHi74Y/AvWfAsV1NLczo0VlM33oGP/ANarn7Dn7Nd7+0x8Ul1fWbaS50S3lE9zPOMrI+c5/Eg18reJ7qDWPE2oT2UPl2skzNFF2Rd3C1+03/BMXxl4L1P4Qro2heVb6rbnddx989/5GkM+zvD+h2PhvTbbTtOto7W0t0EaRxrgYAArTbrTEz82TnnI+lOoID1+lfH/APwVERH/AGYde3DJVNwr6/IOcjpg18a/8FStSgtf2a9ZgkOJJ0IX8AP8aAPi7/gkHx8ZL8YwPJB/NK/Zi3/1K/Svxx/4I/6PNP8AFbVr5TmOG3Cv+K8fyNfsfD93I6E8UAPooooAKKKKAKupWSajZzWzsyrKhQ7Tg4IxXwZ45/4JM+DPG3inUNZk8QalFLdzNM0az5AJOa+79cu3sNIu7lCd8cTMuBnnHFfjR8Wv+Cjfxl8L/ELXNLsNQjjs7a6eOJDbdADQO59Gj/gjf4EUc67qm7v+/wAUf8OcfAn/AEHdU/8AAivkP/h5p8ceo1OL/wAB6T/h5p8c/wDoJxf+A9OwXPr5f+COHgTP/Id1T/wIr1j9nL/gnj4Z/Z18cJ4m0jV9QnuVXZsmnyp69fzr86P+Hmnxz3D/AImcWe3+j19LfsH/ALaPxM+NfxcGieJb9JbIQ7mVYduef/rUgufp8v3cY/KnUgxzgY59MUtO4XCiiikIKKKKACiiqerataaJYzXt9MlvbQqWaRjjFAEfiDXbTwzo15qd/PHbWlrGZHlkOAAK/DP9vL9pvUP2iPiz/YeiTvPo+ny/ZbeOE5SRsjJ/Svaf+ChX7dk/j2af4eeCLiX+zGmCXFzCcmY9Cv4f1rV/4J2/sGtql9F4+8eWh+XMlnbTDOeeGP6UAfTX/BOv9mBfgr8M7XV9TsI4Ne1FBM7EZYKQcfzr7DU8ep+mKZbwpbwpDGgSOMBQqjAGB2qSgBrgMMEZHpjNfLH7d37LGnfHz4d3N5bWaN4h06Np4JkGHOAOB+Qr6pqjrWpWmk6bPdX0scVrGpaRpOm3HNAz8A/2bv2lvFH7I/xA1COUSyW/72KezuDhfMGQGP5msO81Lxb+2N8cxs+1311qU4Uj7wiQng/Qc1p/tzeLvC/jL46a9c+FbeNLMTMGMYyGIzk175/wSZ8a+CvDfxCvdP1uOOPXrni2uZBjtwBQM/T39mn4C6T+z/8ADfTtAsLdFuViVrmVRgvJg5J/M162vH1pI2DLkEH3FK1BINSUUUAFFFFABRRRQAUUUUAFFFFABRRRQAUUUUAFFFFABRRRQAUUUUAFFFFABRRRQAUUUUAFFFFABRRRQAUUUUAFFFFABRRRQAUUUUAFFFFABRRRQAUUUUAFFFFABRRRQAUUUUAFFFFABRRRQAUUUUAFFFFABRRRQAUUUUAFFFFABRRRQAUUUUAFFFFABRRRQAUUUUAFFFFABRRRQAUUUUAFFFFABRRRQAUUUUAA+8K/Aj/goD/yc9rn/X4381r996/Aj/goAwX9prXM/wDP4381oA/Zv9lH/kgngr/sGw/+i1r1ztXkf7KLBvgH4Kx/0DYf/Ra1652oA80/aQ8OjxT8FfFtgU3btPndfZghxX4i/sM68/w9/aZ0NJpPKzcCJ29CSRiv351ayTUtOubWQbo54mib6MMGvwA+PXhm5+A37VlxOsbx28GpCaMt0K7s/wBaBn9A1rIZYVcjG75vrkdalrz/AOA/jiDx78K/D2sQurefapu29jiu+cjgn6igRV1bVLbRdPnvryVYLaBGd3Y4AAFfh9/wUE/amvfjt8QB4e0C5Z9FtWMSQxPxI+QB/I/nX1l/wUv/AGyIfB2kt4D8M3KSX9ym26mXrGD2/Hn8q+bv+CdX7Icnxs8bL4z8TWz/ANj2Mwmj8yPCyuCSD+n60DO9+Af/AATJHjL9nXU9b1hZLfxNqUHmafGVx8mcr+or5l+DHxQ8Ufsg/HLF5vQw3JiuoM4DKGI/xr+gDT7OLTbSG1gRYoo0CooGAPpX51/8FNP2Qf8AhI9Dk+IHhm1xqULbryOMZZl45H5GgLn3h8LfiBpfxO8GaX4i0m5juba8hVyUOdjY5U/SuubrX4yf8E1f2vLj4W+MB4H8TXm3Q7qUxxNOMNFJk4A+pP6V+ylndRXlvFNC4kikQMrDuDQIlOeMetfm3/wWI8bfYfBPh/Q7WSNpLiZllUddpAH/ALNX6QzMEUk4AweWOB+Nfhx/wU6+KC/EH9oKTTbGfzbOxZY1SP5v3g4OP0oHY+kf+COfg82+h+I9YmgYrKIkjmPcZY/+zV+nEahFwPz/ABr5i/4J4fCtvhj+znoEFzEY7+4UzOGGDg8jP5mvp8Z6HrQIKKKKACiiigBk0STxtHIu6NhgivDdb/Y1+F3ibVrrUr/wzFPdTyF3k3bd2a91ooA+fv8Ahh34Q/8AQqRf9/aP+GHfhF28KR/9/a+gaKdwPn7/AIYd+En/AEKkf/f2uo+Hv7MPw/8AhrrH9p6Doa2F5x86vuzjP+Nes0UgDG3jGKKKKACiiigAozgEnpRVHWtQXS9Lu7xgG+zwvLtbocDOKAM/xV4z0bwjo9zqWqahDZWkCFnkkfafoPWvyK/bk/4KDah8W9QuPBXgS5mh0Hf5MksH3pmGAQMc/l615j+2l+2Z4t+L/ijUPD8Vw2n6LbzGMW0ZwpwSP6V4n8C/ilpHws8VR63q3hiz8RS27F0jvHOAfXhh/kUAfb37Bf8AwT6v/F11Z+PPHkckVgh822tLgZeU5yCc8+nX1r9Y9J0q10WyS0s4hFBGAAoGO1fkxY/8Fl9d063jgg8AaVDDGoVEWRwoA6Y+erH/AA+r8SdvAml/9/X/APi6dgP1ror8mLf/AILReJLy4jhbwRpkQdgN3mOR1H+0a/TL4M+PH+KHwx8O+KpYEt5NVtRcmGMkovJHGaQHZyHau7G4jtX51f8ABSz9sSLwbo0/w+8N33n6td7kuvL6xoV6H9fyr6d/a/8A2ktL/Z5+GOoX80qHWJomS0h77sDn9RX4w/Crwb4s/a8+Pi/aPNumvpw9zcAZEa5J/wAaAPV/2Bv2Opf2hNe1HWvEFtKnh+NGjknk/iJXjH4ivNv2lPgl4i/ZP+MiS2sc9naQziaxuQcBlByo/Wv3M+D/AMLNL+D/AIJ0/wAO6TbJDFDEFkZRgu2OWP1rz/8AbC/Zo0r9on4X3+nSxbdVtomls5FGT5gAwP0FA7nO/sL/ALVll+0X8N7cXM0cfiGwRYbiItktgEA/+Omvp/39ea/nt+C3xK8Vfsb/AB0SK8WS0FrceXdWsgwswzg/pX7x/Cn4jaX8VPBmn+ItJnSa2uoVconSNiOVoA7CiiigQUUUUAFFFFABRRRQAUUUUAFFFFABRRRQAUUUUAFFFFABRRRQAUUUUAFFFFABRRRQAUUUUAFFFFABRRRQAUUUUAFFFFABRRRQAUUUUAFFFFABRRRQAUUUUAFFFFABRRRQAUUUUAFFFFABRRRQAUUUUAFFFFABRRRQAUUUUAFFFFABRRRQAUUUUAFFFFABRRRQAUUUUAFFFFABRRRQAUUUUAFFFFABRSMSMcZox7UBZh6fnXyT8Yf+CcPw6+Mnji78U6vd6jDezsXKW/3ckg/0r62AApaA16nO/D3wbZ/D/wAI6XoFgzva2MKwo0v3sD1rov4jRRQA1sHAPfivyz/4K1fBJpJbDxnp9szAYikYLnHFfqb3Brzf48/CG2+M3w71Xw/P5Ye4iYRtIucNigdz44/4JO/HNfEnge58G30w+12bHy1ds/KB2r9C7qH7RbzRNuw4KkqcHkdRX5h/s5/sEfFv4C/GCx1yxvrMaYs2JQE5MWf8DX6exNujXOcgYJAwCaBHx944/wCCZPw6+IXjC58Q6zq2rTXk8nmOmcp16V9L/DL4YaJ8JfC9toGgW4t7GEAD1OO5rrG2/wC1QuOcZ/GgB57VT1bSbXW9Pns72Bbi3mQo8bdwat0UAfGHiP8A4Jb/AAv13xXc67Dfappk0rmXy7f7qtnPFfWPgnwvH4L8MadoiXc98lnCsSXFx95gOlb1IccZ9eKAPL/2jPiRb/C34T+IdZuLhIJFtnSAMcbnI7f571+HnwJ+H+o/tN/tLQW8yPMl5qDSXEi/MFXlv/Zf0r9U/wBvT4D/ABF+PuiWWh+Fb23t9KXEkwZCxJyPT6VR/YL/AGJZv2cbe81rXpYrrXrgFAfLI2rz6/Wgdz698N6TFoWh2GnQ/wCqtYI4F4xwqgf0rSpFG3IHb2xS0CCiiigAooooAKKKKACiiigAooooAKKKKACiiigAqnq2nx6tp9zZynEdxE0TY64YYOKuUUAfEniT/glL8LfEmuXepSahqkclw5dlXGASecZrN/4dE/Cn/oJ6t+Gyvu2igD4S/wCHQ/wobrqerf8AjlOX/gkL8J/+gnq3/jlfddFO4HwvH/wSN+FFrNFKNS1ZijhsfJ0H/wCuvsb4f+DbH4e+DdK8NWDM9jpkAtojIRuKjpnFdFRSA+dP2jf2K/Cn7SmvQaj4k1XVIEiQILe1fCjHf+Va/wCzr+yH4L/Ztt7keHke5nm63FyuH9v5mvdKKAGqNrN9f6UpAYEEZB4IxmlooA+Zfj1+wL8Ofj54oXXNbF1ZXqjl7H5WY8Yz9Mfqa9B/Z8/Z70f9nfwu+haHqN5eWDSeYFvGyVPOcfXP6V6zRQMQelLRRQIKKKKACiiigAooooAKKKKACiiigAooooAKKKKACiiigAooooAKKKKACiiigAooooAKKKKACiiigAooooAKKKKACiiigAooooAKKKKACiiigAooooAKKKKACiiigAooooAKKKKACiiigAooooAKKKKACiiigAooooAKKKKACiiigAooooAKKKKACiiigAooooAKKKKACiiigAooooAKKKKACiiigANUNW1a20WzkubqVUjQZJNXJM7Tj0r5m/aH1zW/tiWW4/ZDnCr36V5eY4xYOg6iV2e1lGW/2pi40HKye57z4L8aWvjGCae1YPErbQw79f8ACuj9q8M/ZluHj0G4ieMxjdxn8a9yXlQa0wNd16EZvqRmuFjg8ZUoQd1EWiiivQPICiiigAooooAKKKKACiiobq4jtYWkkOEHWk2oq7CzbsiaisjQ/Etj4g8w2km8IxU/UVqLkrz1ojJTXNF6FTjKnLkmrMfRRRTJCiiigAooooAKKKKACiiigAooooAKKKKACiiigAooooAKKKKACiiigAooooAKKKKACiiigAooooAKKKKACiiigAooooAKKKKACiiigAooooAKKKKACiiigAooooAKKKKACiiigAooooAKKKKACiiigAooooAKKKKACiiigAooooAKKKKACiiigAooooAKKKKACiiigAooooAKKKKACiiigAooooAKKKKACiiigAooooAKKKKACiiigAooooAKKKKACiiigAooooAKKKKACiiigAooooAKKKKACiiigAooooAKKKQgNQL1EkYAcnFfOviAN8RPi5FZAB7Kyf5wfX/Ir2fx/wCJYfCXhi9vpCcrGwVfU15v8AfDbmyuNduUImvWLgH0Of8AGvEx376vTodHufWZTbB4atjnva0fVnrGl+H7HS4wLaBV9DWoue9RwLgZ6cAVLXrQpqmuVHzE5ym+abuwooorUzCiiigAooooAKKKKACuG+L2vLoPhK6l37ZHG1a7g1ma5odrrlqYbmMSLg43DNYV4OpSlFO2h14SrTo4iE6mqTPlf4NePbvQddMEcU91FO5LKOgyev619bWkouLdJeQXUE5r538NabZ+G/jFPYpGuxgpC7cbev8AjX0Uv+rwcZ9q8HJY1YU3Gcr2b/M+o4mqUK2IhUoQsml+RJRSClr6U+LCiiigYUUUUAFFFFABRRRQAUUUUAFFFFABRRRQAUUUUAFFFFABRRRQAUUUUAFFFFABRRSjvQA0/TNNWbkjbiua+Ik1za+Gbm5tZBHND+8BPtXl3w8/aEg1FltdbKxz79nmiuCtjaNCrGjUdnI9jDZVicZh54mjG8YbnvROcUlQWd1HeQrLE2+NgCG9anruTurnkWa0YUUUUxBRRRQAUUUUAFFFFABRRRQAUUUUAFFFFABRRRQAUUUUAFFFFABRRRQAUUUUAFFFFABRRRQAUUUUAFFFFABRRRQAUUUUAFFFFABRRRQAUUUUAFFFFABRRRQAUUUUAFFFFABRRRQAUUUUAFFFFABRRRQAUUUUAFFFFABRRRQAUUUUAFFFFABRRRQAUUUUAFFFFABRRRQAUUUUAFFFFABRRRQAU1iFBbvQx6L61S1S9i020kuJidiqc4qXaKbZUYuclFI8X+OmsSa9rOleHbNsSSyjzB7ZFeweHdLi0fSbazQYEaBT+VeKfDizk8bfEK+1+dC0VuxWLPbk/wCFe/x/dGT2zXi5fF1pyxEvkfTZxJYelRwUfsq79XqKnTjpTqQGlr3WfLK63CiiikMKKKKACiiigAooooARvypOqkdadSMNykUg1ueA/EKL+wvippOoldomkEZPrXvFm/mWsbDoVFeLftDabL5elX/RLecMW9BkV6v4UvE1DQLKeM5R4xg+teHg3y4irT+Z9TmS9pgMNXXmn8jZFFItLXunyoUUUUDCiiigAooooAKKKKACiiigAooooAKKKKACiiigAooooAKKKKACiiigAooooAKKKKAMjxVpsmsaHdWcRAklQgZr5S1j4Z3Pw7161v8AVENzZySYYJ0XkcmvsTjvXO+M/DEHibRprWTkspxXi5jl1PFpVHpKJ9Pk2cVMvk6Df7ufxFrwveW17otrJZtug2ALWye1eA/CHxLP4V1q78Mai/zK58kf7GTXvSuNgI5FdeDr+2ppdVuedmWDlhK/Le6lqn3Q+ikDZJFLXeeSFFFFABRRRQAUUUUAFFFFABRRRQAUUUUAFFFFABRRRQAUUUUAFFFFABRRRQAUUUUAFFFFABRRRQAUUUUAFFFFABRRRQAUUUUAFFFFABRRRQAUUUUAFFFFABRRRQAUUUUAFFFFABRRRQAUUUUAFFFFABRRRQAUUUUAFFFFABRRRQAUUUUAFFFFABRRRQAUUUUAFFFFABRRRQAUUUUAFFFG7bQA1scHvXmfxx8RDS/Dv2WJys852gL1PTp+delTPhSxO0KCSa+evEt43jn4qQafGvmWtswdm/z9K8nMpy9mqcd2fR5Hh1UxXtp/DTV/+Aek/CDwydD8J25fJnm+di3Wu+/hx3qG0hFvCka/dUAAVaruoUlSpKCPGxVd4mvKtLqxi9x6UtK1JXQcgUUUUDCiiigAooooAKKKKACk9qWigT1PO/jjYyXnge68pdzJz9Kf8Fb4XngexVf+Wfymul8aWYvfDl7H38psf98mvMP2b72T+ydSs533TQzfL7DH/wBavDl+6zGM+klY+rpfvsmmusJJ/foe1L0paZEflx7U+vc20PlfIKKKKACiiigAooooAKKKKACiiigAooooAKKKKACiiigAooooAKKKKACiiigAooooAKKKKAEPao3IwDj6VLRQK19zxX42+DpLYweJdLTbeW5zIIx8zDj/AOvXafDHxpH4w8PR3Kg5QBWVvvA9811mo2MWoW7QTKGjYHOa+frKaf4Q/EKWzYmDR7yXcrn1J6frXzuITwOI9uvhlufW4b/hUwbw0v4sNY+h9FAgnpS1BZzpc26SIdwYAg1L0NfRJqSTR8pytNpjqKQUtAgooooAKKKKACiiigAooooAKKKKACiiigAooooAKKKKACiiigAooooAKKKKACiiigAooooAKKKKACiiigAooooAKKKKACiiigAooooAKKKKACiiigAooooAKKKKACiiigAooooAKKKKACiiigAooooAKKKKACiiigAooooAKKKKACiiigAooooAKKKKACiiigAooooAKKKKACkalo9/TmgDnPHetR6D4ZvLp2wyodteZ/AfQGuvtWsTp888hdT9Sau/HiG+1j+zNMsY3cvtMm0ZABPf9a9F8H6HHoOiWttGu3agzxjnFePOE6uMTa92P4n1EK0MJlTjB+/Uevkl0NxR+dLTlPUUjV697ny4lFFFMAooooAKKKKACiiigAooooAKKKKAKepQfaYfKP3XBU/jXgvwpn/sn4qa5pofarSyYHrgj/GvoOT7vvXhd54YvtP+NNtcwW8ot7hG3Sdj0rxMxpzdWlUgtj6XKa8I0a9Gq7KUdPU90i6H60+o4VKxqD1AAqSvaWx811YUUUUwCiiigAooooAKKKKACiiigAooooAKKKKACiiigAooooAKKKKACiiigAooooAKKKKACiiigBrNtFcD8WPB6eLPDreXDm4jJdD7jH+FegUyRQylOx4rCvRjXg4TV0dOFxM8JXjWg9jyf4KePH1Gyk0a/JjvrL5WD9xzjH5V6xGdyjgcjPFeFePPDGoeEPGFrrukWrSrNJslC/UY/ma9t0yeS4sYXkXa7KCV9K4cC6sb0qn2T181p05OOJo7T19H1LdFIO9LXqnz+4UUUUAFFFFABRRRQAUUUUAFFFFABRRRQAUUUUAFFFFABRRRQAUUUUAFFFFABRRRQAUUUUAFFFFABRRRQAUUUUAFFFFABRRRQAUUUUAFFFFABRRRQAUUUUAFFFFABRRRQAUUUUAFFFFABRRRQAUUUUAFFFRy3EduAZJFjU92OKAJKKRWDKCp3KeQ2c5oZtvUgL3ycUALRTIZknXchBHsc0+gAooooAKKKMhQSSB7mgAopFkEgyCD9KctACUUrUlABRSrQ1ACUUUq0AJRStSUAFGdvfFFFAEE8CSTKzR7vQ1Lt24x0p606gd31GrQ1OprUCEooooAKKKKACiiigAooooAKKK5vxz8RvDXw30tdT8Uaza6JYbtv2i6cqufwoA6SivF2/bG+Cy/81I0XOf+erkfyoh/bE+DVxPHBF8Q9HllkO1VR2yT6dKBns5pkkaGRHKbmXOPbNcvefE7wrpd7p1re67ZwXWpANZxNIQ04OMFfXqPzFdWrbhSsnuLUMjp3paZNIkMZkkYKijJLHAHvWF4b8eaB4vmuYdF1WC/kt32TLC2Sjc8H8j+VMDoKKMg5x0ooAKKKRpFQgMwXPTPegBaKPy/CigAoo7++K53V/HGk+GJrePWdQgsBcv5cBmbG9uOB+Y/OgDoqKydb8TaV4Y0w6nqd/DZ6epw1xI/y5PSpNJ1q31mKO4s5ori1lG6OSI5DD1oA0qKB0xRQAUUUUAFFFFABRRRQAUUUUAFFFFABRRRQAUUUUAFFFH5fjQAh6imq27NRzXsEX3541/3nC1GmpWz5xcQnHXbIDQFtGmSXUSyKAybqci7FCjgdqij1G1kbCTxMfTfVkevb65pqy6BbVMF9KWimvIsQyxAHucUgHUU1XVl37l2fXNKrh+VII9qAFooooAKKKKACiiigAooooAKKKKACiiigAooooAKKKRpFj5Y4oAWijO7kHIPSigAooooAKKKKACiiigAoo/L8aasqS52MGx1xQA6iiigAooooAKKKKACiiigAooooAKKKKACiiigAooooAKKKKACiiigAooooAKKKKACiiigAooooAzfEGu2PhvTXv8AUJlt7eLJMjdAcHr+tfndpfjrQv2ivj94mt/FPjO5sfDek3Bt7C3spjEWwAQcj0I/Wv0D8eeGdO8XeGb3TdUQyWckbF1DbcjH/wBevz3/AGVPgD4I8TfHL4m6bf6XLJBp2omK22zkbQFzzjr2/KgZ+hfgm0tLHwzp8FhNLcWccKrHLOxd3x/EWPXPFaOsRRXGm3MU0rQxPEwZ0bayjHUUmjaTbaHp0FjZoY7aBQiKSTwPrWJ8TWK+A9bbJUC1c7lOGHHagRifB/wv4d8L6PPF4e1KTUrczPI800+872PzD2rQ8R/GDwn4Vvvsmo6xDDcKMmMHJFfLP7Atxdz/AAF8XNDJJJfNNfCAyHJ3Zk2/rivBvgHq3w+1rxDrth8aH1CPxZ9sMTs0sscQPPc+23pQOx+n/h/xFp3ijTkv9Luku7V+ki1p+/cciuG+D/hnw14X8KR2vhWVZtKOGQrMZeOccmu3ZdwwRx/9egR8cftkftTX3wt8TeHNJ8N6zawyTSqLyN03EDcv5cE17frnxK0nxl8GvEN9pOpLLcrpcru8BwySCPlh6c18ff8ABQ/4PeGLLxt4NvorSRbvUbgC4kMzfMPMXpj6mvqBvhL4a+GPwT8Qnw/ayWzTaQ7SeZISOUGev1p2HY8T/YJ+N2n6b8K9Tk8U+IGa4jvkVVuZtxAMY5HpnA/Kvsbwv4+0HxtCz6VqEN2FOCqnP0r4A/YF/Z28G/Er4f61fa7bXNxMt6P9XMVX7pwRiup+IPhuD9l79orwT/wis9za6Fr0qWdxaPKX+X+JufUsPypBY+777ULfToWmuZVhiUZZpDhRiuN0341eEdX1RrC31m3e4B2kFuCfavmL9sb4gXfiH4keCPhvZ6oumWWsSYvpWfZ8mB3+mak+JX7NPwtj+HeoT+HfEkFj4hsLdrmC6XU926RI88j/AIDQFj7ShkWVQyMrKeQVOacxPGBk180/sLfFq++JHwqW31O5W8vdIcWclwpzvIGc579a+lc9PXrQIxtd8W6Z4atzNqV7Bax52ne2M1z+k/GvwdrepLp9jrdtLdMSqxh+uK+Ov2l7d/Fn7a3gTwrqVzcSaHdZMlushTOYX9Otd18ev2Y/BXw++Gura/4dt7rTNVsjvhuPPJCkAnv60DsfX/n/ALrzDhRgncDkACuDv/jz4K069ktZ9bgSeM7WBOMVx37JHjjUPHnwL0e/1iYS3CIY5JWONyjI5NeRfFS1/Z08P+KrptbW/utSnkLSrp7PLtb1+Xp1PWgLH1z4d8VaX4rs1udMvIryBu6nNM8QeMNH8KwmbUr6K1UdmOPrXwD+zf8AFDS/Df7TbeFfBmp3d74U1HhLe+Do0bHJON34dPSuk/aRtR4u/bH8D+Fr+WaXR7uORpoY5CN3ygDp6c/nQFj60sPjr4K1S5Ftba7bGc9AWpuofHnwPpt2IZ9ctg5OOH718x/tNfsq+BfAvwX1XXvD1vd6fq1mvmJcC6c5+U5FSfs1/sy+BPiL8FtF13WrC9udTubZXkk+1OMnHBoCx9l6Pr1jr1ml3p9xHcwOMh4zmotf8Sab4ZsWvNTuY7WBf4pDivjv9ivXr3Svi18QfAS3LzaDprNJbpIxbZl9pHP1H5Vg/EnXl+OX7U194R1/VYrDwlocYEltJceT5jOisO4z90/nQFj7L8M/FLwz4ulMel6tb3D/AN0Nyf8AOK6lW3emfY5r89/2h/hr4H+FOgWni74d+IIrHU7CdGe1j1Dzd6jk5G446frX2b8DfGrfET4Y+HvEUn+t1C1WZhnPtn9KBHeUUdqKACiiigAooooAKyvEXhfSPFlmLTWdOt9Ttgd3k3MYdfyNatFAHwd/wUh+GHhLw38KdEudK8Pabps7agVM1taomRsPB9a+jfhb8F/A0ngPwzdv4T0lp20+By5tED7toO4mvGv+Cn3/ACR3Qv8AsJH/ANANfTPwp/5Jv4X/AOwbb/8AoIoKPi79s7xTp3gH9oz4Y3l0nl6fbGXKxR5H3eB8vT8a9osP26vA7XcUNx51nb5EZmljYKMkgda8o/a10y21b9rD4UwXcYlgMkmUIBB6etfS3xg+HfhrUvhHr8NzpFqkaac8gaOFUcMEO07h060Aeh2HiLTfEGgpqlldR3FjJHvEqncpXGelef8Awe+J3gfxtca0PCyW8U1ncNFciOLYdy53E+vevIP2Etcu9Y+AesW10+9dPmltIiW3Haq8DP41yH7BNi91N8T445DE7alcBXHZi+B/OgVj17x3+2t4G8Ia1Pp0Nw1/Lbvsm8pGYIfQ4/H8q9U+FPxN0/4r+GE1vTQRbM20ZQr/ADr8+/hn4p1z9kHxF4h0zxv4KGs6VdXLyrqjwebgFiemD/er7t+B/wAVPCPxT8LjUfCUkMULN+8t44/LKNjkFcDH/wBagR6RI/lqzHhQOTXwb/wUR/aCj8OvonhqwmvbK9iuPNlngcqCpA4OOvQ195gAjAxj2FfGf/BSCztbXwf4RuRaW5nk1Mq8jRg5HyY6/WgD1z9mz496V8V/DNla2UNwLi1t40kafPJCdefpU3xR/au8HfDTVTpc873mpR/6yC3QsVz64/zxWtpX2Xwv8FItStbO3tWTRg48hFQ7hFkHIr4m/ZL+PHw60HS9d1zxhPc3niXU7xnZptPluFCh2AAJU569qB2Ptr4TftGeEfjAssOj3uy+jU77aZSjL6dfoa8C/b8u5bXxH8MDHKyB9YXcAc/wivG/iF8UPCN/+0n4K8Q/DEXyXFxJHb3yx2RiiZTJzkFRjvXrH7fVz53iD4VMV2k6snHtj/8AXQFjuP21ZHh/ZTndZJA32eE8fhXa/Ajxdp/hH9nvw9rGs3iW9pDbMWkbr948VxP7bAx+yhdH/p3h/pXGeJPhjrHxR/Yt0XStCldNQTbdCNODIqMxK57daAsej2H7c3gnUNYjsoWmKySeWJfJbHXrkV9EaXqEGqWMN3bP5kEyh1bnv9a+Cvg7+1d4c+Hul6V4S8feCk8OXVuqwi7ktBJnkjcXPrX3X4Y1Sy1rQ7S9011ksp0DxNGAFIPoBQIu3t2tjaT3DnCxRtI3+6Bk1wnwr+Nfhv4wQ37aDdiZrKUxzx/3CrY/x/Ku6vrdLu1lgkXdHKpjZT0IPB/nXw38OUPwE/bP13RXJtdC8UDzbeMfcDpkt/IUDPqH4j/Hrw18MfE2jaBql0q6jqkm2KP/AHmwP51f+Jfxk8N/CjTRc69fpbM3ESbSS54wOPrXyb4T0uT45fts6nql0nn6D4SSWzVm+55x2yL/ADNQeMLWP4pftyW+ka6n2jTtLs47mG2B/dlxkHI79qAsexeHv25fA+r60tlcebYxM+wTSIdhP417hq3jzSNM8L3HiE3SSaXBF55nRsgqATXJ/FD4Q+GvFfgPVNMuNKtI4/s5CNDCkbKwGQQy/TvXyt8A9U1S8/ZD8ZaZqNy93HYTXQgkfk7d7DGe+NooCx9i/Cv4qaH8XfC8Gu6FcefZtkZ9xkGsnxh8dvDXgjx1pXhHUbny9Y1FQ0Uftn/69eOf8E5T/wAWB0v3Gf1NcH+05/yed8O/+uMX/oygR9zr90c596WmR/d/D+pp9ABRRRQAUUUUAFNb+nc4FOooA8p+LX7O+g/F+8hu9U1HVLOSMY/0C6MSke+OtfDHxq+Adl4H+P8A4Q8Laf4j8Qf2RqRIlDai/pxj8zX6eNXwn+09/wAna/Dr/fb/ANAoKR7X4E/Y98JeCtYs9WttX12eeFVwtxfuyE4HWvZPEPjDSPB9kJtUvobWJcKDK469v8mtOFtlrESMgJn8uf6V8CRzWP7Q37TXiex8Y6zHaeG9Cd7RbGS4EO6Q/MrcsM4/rQFj7d8K/E7w34zYppGqW93IM/KhzyOteSft2eJr/wAK/s4eI7/TZ2tbpPK2yxnBGW5Ar5z/AGgPBvhn4CzeG/G/w48SW8E9teD7XYx3gl81AOSVDHPU16p+2p4m/wCEu/Yr1DWCAv261gnAAxwxXt2oFY9C8G+JNRvP2Uhq81zJ9vGjNKsxf5w4jGK5H/gnx4x1Xxd8Gft2r3b3Mwk+Zpn56f8A1q3PA4x+xz/3BJP/AERXkf7Df9o/8Ml+If7Iz/afky/Z9vXflsUBY+r9c+NHg/w/dC3v9agt5chdgboa6rRNcsfEVit5p863NuxwJFOc1+ZXwBvvhXrMmq6Z8W5r6Hxibtg7TSPGnU55b8Olfor8K/DOgeFPCMNl4ZnW50je0kUqyeYDkDvQI65jtUnGcenWse38XaTcawdKjvomvgM+TnDfjWuxHAPfgV8N/tCJdfBH9qjwj47tnmbTdYP2e5j37gGcbB9PvGgZ9ratrljodr9pv7mK1hB5eVuMiiPXLSayS8juYntWXf5of5SPavj79u7xLL4muvCPw70+SUyaxeo07wnDeUcj+lUv2lNT1Dwjpfwz+FGi30lpPqUkdhczFjuIEY4OPY0BY+oW+Ofgv+1RYHW4Vus7dpbgH3rtYb6C6tVuYpUkgIz5iN8uK+cE/Yo8CR+E1Elrdz6qYdzXK3bgh9mNwH1rh/2UfFXiDQvEXj/4a6xcveQ6QrfZJ5A27ZsY4yfTigLH1xo3iaw8QSTJYzpMYX2uFOcEetLr/ijTvDUccmo3MdqjuAGc4yT2FfHv7AV9c3vjb4q/aJXk2a1KAGfdjgflU/8AwUqeVfCfhIRTyQqdQGRG+3d16+tAWPs23nW4hWVCGVxuUg5yD0NLNMlvE0khCoOpJxWH4A/5EXw7kkn+zrfk/wDXNa2L21S8tZYHGVkUoRnBwetAijovibTfECzHT7qO58hisio33frUd14s0qy1mPS5r6BNQkAZIWkwSD0r4v8AgZq1z8Hf2uPFXg7UJ5U0vWhLfxLM3yjHTH/fVfOvxW+JHiDVf2qLbx9ayTPoGg6uLCfD/KAnp+dA7H6w69r1j4b09rzULqKzhHHmSHAya+Uv2/PGl5p3wx0e+0bUZLQSXkR863fhl3pyK5f9sT4hS/EwfDzwVpE8iv4ikWeRY3/gwCM/rTv2/NDj034G+GNJ+ZIoZLSIndycFN3/AKDQFj3r4cfHjwpY+CtBt9Q1+OW8a3UO8r/MW75r2HTtRttWtUuLS4S4t3GVZDnOfWvmTwL+xz8N9Z+H+iz3On3TXM1sN0y3bDLdOg69K5X9ivxdqej/ABA8cfDm5mlvbDS7qSW3mnyNiBgAoJ64oCx9N+JPjD4U8J6h9i1PWLe1ugeUY4rS8J/EDQfG1uZtH1KG8QEjCN6V8/8Ax80H4H2euPqPjSWafU1G3ybaV2fqT0Xp1718neJPit4N+F/xg8Jal8L7/UYLOaRYbixuo5FDhmA6n05/OgLH1n+2h+0lJ8G/C9mmiatFaa293Grq3zYU16p8D/i7pfxK8J6W8Gpx32ptbK9xsGPm/wA5r5g/4KE/Drw1rHw+0TxLNZM2o3l3bkyidwAGxkCvfP2Yvg/4Y8C+CdK1PR7KS3urm2Xe0khft2z9TQFj25j8vB28Z+lfK/7an7Sknwf8K79A1eG31iOWMmBhk7SwBP619Ufjg+tfCH/BSr4V+G5vAkfiGayZ9VkkiTzlkKfxj0oEfTHw4+L2mfELwHEbTU47vVjYbpCgwd+zJ/rXzR+xV8ZLXSvEHxWXxP4gdY4dbkEEU77gkYHb0/8ArV7v8Fvgx4T8AfDe31LRNPktLu60wNM5mZssY9xPP0r5Y/Y++A/hr4peMvipca+s1y0etSKqpMVyDhhnH1oHY+9vC3xO8NeNGI0fVre7f+4rYNdNJMlvG0kjBEUZJLcDFfBX7QngPS/2XfFXg/xP4OkudNhmuhDcWZkLhxkg9f8AeP512/7bPxg1PR/h/wCCtF0q7/s6XxUwjluG42R7EJ57feNAWPoiT42eEF1RNPXWrY3LMVCF+cj/APXXb21zHdQrJE6yIwyGU5FfHd1+zT8IrjwOSviOBddeEzC//tbnzv8Ad+taH7CfxK1bXtN8Q+EdWvRqLeH71raK5D796fNjn8BQFj63akpFOVFLQIKKKKACiiigAooooAKKKKACiiigAooooAKKKKACiiigAooooAKKKKACiiigCpq3/INuf+uZr4l/Yz/5OK+L3/YUf/0GvuOQbl5APfnpWBofgXQvDOpX19pem21peXshkuJo02s7H19ep/OgdzoF71zPxN/5EHXf+vV/5V0y9AOoAxmo7qCO6geGVFkjdSpV/unPY0CPjX/gnLdLY/BnXrh1Jjiv7uRsLuOBIxPHc8Vo/EbxZ+zz8ZvDuqXOvDToNSdG3C9Hl3CnOCdv1UV9QeHfBOh+E9NuLHR9LtdNtJ2ZpYoU2qzN94n1zXJXv7N3w21C/N3c+ENMnnblmeHqfU0DufPX/BPS31zTLbxPZGS5k8KpfONPNyuD5fO3HqK+zgp2r64x+ozWd4f8N6b4WsFsdLs4rK1X7sMK7VH0rToEfEv/AAUa0W8kXwXrUUDzWFhdL57R9UBkXn6cGvctX8daF4x+CuvHRtUt9QKaOysLd9wB8rkH0PFeqeIvDemeKtPaw1ayiv7VusMy7lNY/h74W+F/CWnz2Ok6NaWVpPkPDHHhGB6g07jufLv/AATFjz8I9ebov25QB/2zrM/bhUt8aPhPhsH+0UH/AKDX2J4T8F6L4GsZLPRNNg0u2kfe0cAwC3r+tM8ReBNB8VXlrd6tpkF7cWr7oXmTcVbjBHp0FILnw1+2/wDCFbzx94J8T6jo76p4ai2pfhFzsXHB9u/5VetPhh+y3c6ULxp7CKQqG+zSyfvB8o7ZHT+tfc+paPBqtu1vcxRTwMu1opF3KR6e1edS/sw/DKaZ528H6WZWO8t5GW3UBcg/Zv8ABPgbwf4N2eBtKj07TLh/N3RrgS9cN1Pqa9d/HJqjoei2Ph+wis9OtY7S1jUBY4xgCrzDPfHGOOtAj4N+NP8AykS+HP0/9oyV9F/tVf8AJD/E3/XE/wAmr0O+8AaBqXia11+40q3n1a2UrHeMMyLnGcfkK1tV0qz17T5rO+gS5tZRh45V4PsaB3Pkv9mWC+uv2M76LTCV1JrGf7KQM/vNrbfxrz/9kPxB8MPDfgu4tfHpt7DxStw32t9X+VjJ3x6ivuvQfC+meGdLTTdLsoLKzUkiCIYXnrXJeJ/gF8PvGGoC81Xwtp15dbtxklh6mgLnyB4Z0XTvHH7aWn694K0/y/DtiFMl5AuITwc49elbfxgOf+CgXw2P3laKRvbBUYr7H8M+BdB8G25g0bS7bT4z1EEeAB7U3UvAeg6p4gt9dudLtpNYtxthvGjzIi+gP4D8qAueVftlL5n7PfidQMDyWI/74NVP2L/+Tc/DLetoo/8AHTXuWuaHYeJdNn07UraO7tJl2yQyjIIpmgeHbDwzpsen6bax2llEAqQxjChaAufFP7IKlv2qPiivZoSp/wC/mf6Vwnxo+EOgaV+1trGtfEHSZLvwzraRsl8PuIyoo+b8x+Rr9BtF8DaH4f1O81LTtMt7XULs5mmjTaX64z64yfzqXxJ4R0nxhYtZ6vYW9/bsMMkybvrQFz4luvhD+yvF9nVo9N1NpSIxBE+58nr9O1fZ/wAOdB0rw54L0jTtDt/smkQW6rbQd1TnFcrpv7Nvw30u8jurXwhpsM0bbldYec16ZbwpbwpFGixogwqL0AoEO27aKVqSgAooooAKKKKACiiigD5J/wCCkHhjVvFXwn0W10jTbjUpl1AuyWybnUBDz7D/AAr6J+F8Etr8P/DkUyeVNHp8COndTtGQfeuqkijmwJIw49xnFOVQigKAF7ADFAz4z/aS8H63q37U3ww1Kx0q6uLG3eQSTouQvTGfyP5V9N/ES1nvPhnr1vGkkk8mnSIsaL85OzpXYtGrsCyhiOme1Ke6/Lj0oC58lfsL+F9X8OfB3xTY6rpk9jcvfTGNJk+Zsrxisr9iPwzr3g2f4jTX+kTW7yX9xLAsynEh3ZAGK+yBGsYIVVXPX3ojjRd21FXPX3oC58i6x+1p52navpfi74bazJdjzoUit9OeWN1GRkt2zkfWqP7DHwk13wjqnibxJeWTaFpesTedbaa6lWVMHGQen3hX2M1rCzAtCpPY4zT1jEf3QAPYYoEOH8VfMv7eHwz1n4ifDXTZdGh+0zaTd/a5IQu5nXA4X34NfTNMZQ33gCPcZoGeE/BX4lWnxX8BzeGToer6NNY2As5RqNvsyQmMg9xz+tfN3gHw7c/sp6trGkeLvAk3iPRZLoyWmo6bCZpcMScEBhjqP1r9A1ijjb5IwhPXAxmkkhjmyJFVl/2hmgZ8x/DX4raL4w8bWlt4a+Guo6XaMf3t9qlgYip+pY571zX7cnhHWfEHiX4bDStNmvoodSV5WgTcqKAM59K+wUt4kUBI1C/7IxSmONsZjBI6ZoGfOP7Y3h7U9e/ZgvbLSrKbUL5baJlt4xlsALn8ql8A+Jta+Ev7PPh26Xw/cahcxQETWaqfMXLHsOv/ANavotoxIu1gpWm+Qm0LtXb9M0AfB/x6+Llj+0L4CufDGl/DnWF8RXQ8qO41DTzHDA5/jDHrjFfU37NHgzUvAPwX8M6Jq0iy6ha2iJKyDC556V6OtnArZECg+uMVZVdoxxj2oJYNjgnjBr4l/wCCk/hG+sPBum/EDQRs17Q28iBk+9847V9rXTOtvK0a73CHavqfSvjX4raL8Qv2jfGUXhS90r+xPC1nOsk80qbfMVWGMevQ/nQB1X7Anw9n8PfBweINQX/iceJpl1C6d/vFgu2uY+Pvw38WfD346WXxW8LWDajZeSkN3Zw8sEB6gfia+uvDuj2/h/R7XTbWNY4LWNYkC9wABmtFoxJ94Aj3GaAufIPjP9rLWPHnhe68PeEPA+tJ4gvEMAl1K1MVumRjIcehxXY/s+fs7y/Dv4B33hjVWE2qasJ5riRmLBTJyoyfTFfRH2WFWysMYPqRipl9O3pQFz4U+EPj3W/2RV1Twj4m8Marq9jHKZLW60yAzDblgAQPXIrW8K+EfEX7R37Q2l/EHVtAfQPDmkWQSyhu42SV5QcqSp6cA/nX2g9rDIx3RIfqM06OMR5VVVV7bRigQ4c5Yc5NLRRQAUUUUAFFFFABRRRQAjV8KftPf8nbfDn/AH2/9Ar7sI3KR6isDVfAeha5rNtqt/pVtc6hbjEM8ibiucZx6dB+VA7mmsfnWSpyNyYyBnFfmPq/wg8I+Ff2mvFB+KejNJo2tTNcxalOuEHYZ/Ov1CVQuAOMDAA6Vg+MPAOgePNPNlrul22owddsybsf5xQFz4tPwg/ZdW8061iXTtZmmlUR29q29i3b6V6F+3FotlpX7HurWmm2/wBlsILeGOGHGCihxgV7PpH7PPw88O3sN7p/hXTbW6h+5IsPIrsde8KaV4n0VtJ1Syt7zT2wWt5BlcjpQFzw3wOu39j0/wDYEk/9EV51/wAE79Wi0H9nW71KdGeC1Z5HVBliAW6V9dWvh/TrLSBpMVpCunmMw/ZguIypHSqvh/wPoXhnR20zSdKtbGwdCGghTarZznPrQFz5S+KPiD9nj4xeGr6+1mLS4dX2nBnbZOG/qcipv+Cd8fiC18J+ILK7e6fw5FeyHTDdddoYdPbpXvd1+zf8M72/F7P4N0ua5DBjJJD3Heu80XQdO8O2YtdMs4bK3HIjhTatAi9tGeOnX8c18/8A7aHw/k8bfCe6uLaPfe6W326A+hjG7+lfQB6E9gM188/tO/He38J6Ld+F7LSrjUtc1SJ7WGFVyMuhXJ+hIoGfMn7Guq3v7S/xatvGGvWg+z+GbH7GA33XlUkgn6Z/WvWv2zPB93Z+MvBHxIhs5b618P6huv0gXIWIKK9D/Y6+Dknwn+GEZv4fJ1jVQLy+TGCJNrDB/Cvb49PtdVt9RtbmJZ7eZtjxyDIYbRQFzxf/AIbD+G58F/2mNaja7aPyxpsbZuDJtzgD6V5v+yNp1742+IXjnx5e2cllZ6pcFLZZz+8MJXbz+dfQDfs8fDmS4hl/4Q/SfMhYOjiDDZ7n+VdxZ6Tb6XAtvZwR2tsOBHEm0CgLnxL8Gdes/wBmv48fEHTfFhfTdP1nUJL23vpGAjKkYXOfp+tM/am8Y6X+0hrnhHwj4Nkk1aZL1ZHu7fDRDjHOOnf8q+wfFvwy8MePBGPEGh2epiM8ecm6ovCXwl8J+BZml0PQ7PTSxyPJTbQFzb8L6c2keHdMsXOXtbaOBucjKKFP8q0zyCPUYpeOo5zRQI+A/wDgpNpereBdR0X4leHrZpL+0RbZzH1Ckj/Cs74b/BW58XfsV+LtS1G3f+3Ncjk1KHd97c5AAr718UeEdJ8aaadP1nT7fUrMncYbhNwyOhqzp+i2Wl6amn29rDBZxpsWGNdqY9Pegdz80v2DLHXvjF8ZG8QeKLaQReFbSOyt0k/geM7CR9dq/lXuX/BSTP8AwrnSQT0vYcj/ALaqa+qvDPgPQfBv2k6LpdvpxuX8yYxJgux7n16n86m8TeDdG8aWa2us6fDqFurBtsoyMjoaAuZXwm/5JzoH/Xsv8q+OP2Y1nb9rj4mhEMcmLgK46/eFfd1rZxWdtHBAiQwxqEVFGFCjoKxtL8C6FomtXOr2Wl20Gp3H+tuY48M4/r/9egLnwf8ACn/hF/D3x88bTfFi3jilkLfY7zUTtjH73se3FRftPQ+Ffit8QvAuj/Da0h1C5W7D3F3YLvRAsgz83uMflX3N4t+E/hLx3tOvaFZamV5VriPJHpR4S+EnhDwM+/Q/D1hpz53FoYfmz7UBc8A/bs8K6jffBPSEs4DcSWM0DS+oCAZPt3r0r9nH4meHfGHgXQLDS9Uhur63tAJ7ZH3MjAfxenQ/ka9Y1bSLTXLN7W9t47q3kBDRzDOQevFYHhP4WeEvAt5JdaFoVnplxLw8sEWwt16+vU/nQFzqx8wI9s18qf8ABRPw3ea58F5JbOF5zbzxyuqLn5Q6kmvqz8MD0qpqmmWusWb2t5BHc27/AH45V3KR70CPIPg78S/DvjL4X2tlp2p2895b6dsktw2XRliIIb/PavEf+Ce3/I0fFjsP7bc/+OrX1P4V+E3hPwXJcSaJolnpstwS0klvHgsD1H05rQ8N+BdD8JTXcuk6db6e12d0v2dcB255PvyfzoHc+TP+CjiyNo/gnYm5RqILe3NYf7cXwvvPGXwt+G2vJpz6tp+hwRzXdrHyxVkTBA78rX2n4j8E6N4tWBdZ0631FIWDItwMhSO4/T8q0G0mzksfsb20TWwG0Rbfkx6CgLnwT4e+GP7MmsaKl7O2m6ZcAfPa3z7JFbJONu4c4xX0V+zD4J+GXh3StVvfhxpf2O1llKTTf89COp+8eOv511N/+zR8NdXvnurzwhpc08hyzmDBzXceGvCGk+EbFLPR7GCwtl48uFNo46ZoC5rL1anUrUlAgooooAKKKKACiiigAooooAKKKKACiiigAooooAKKKKACiiigAooooAKKKKACiimueMA8np7mgB1FfM/ij9rDV7/4k3vg74e+FU8W3dj8t5JLP5IiII3jPtzX0Zo9xc3em2015bi0upI1eSFX3hCR0Dd6ALlFV9QvYtNs57qc7IIUaR2AzhQMmuN+F/xk8MfGC1vbnw3dSXUdlMYZfMj24YEjj16GgZ3VFeD/ABO/aXb4c/GTQPAv9li6OphD9pLY27jXu65wQQBz2OaBC0UUUAFFFFABRUdxKsETSOcKoyT6V8yXP7WPiDxN8SNR8MfD7wYPE8Ol3X2a9upZ/K8snuD+DflQM+n6Kq6bNLcWcL3EQguCgMkQbeEbuN3fFWqBBRRRQAUUUUAFFKvpXF/FH4ueHfhBoiav4luZLWwaZYA8ce/5mOAD6UAdnRWdo+tW+v6TbahZktbXCCSNm+X5SMg1zHhbxJ4r1TXb611bw5FpemRMVt7z7RuMo7HFAzuKKaue5zxTqBBRRRQAUUUUAFFFFABRRRQAUUUUAFFVtQvodNtnubiQRQRqWaRugHvXx34Q/a5m1P8AaW1fw9d69anwvCqiAE4Xf83+AoHY+ypJlhG5yFHTk4pysGHBBHbBzXyR+3/4yutP+DtjqGias1tG17AWmgkwCPMWvY/Avxk8Kr4P0AXfiG0+1SWqb/NnAbdjvmgLHqtFU7PUbXULVLi1uEuIH5V4mBB+mKxNc+JHhrwzeNaanrVpZXAG4pNKFOPxoCx09FYeh+NND8TR+ZpeqWt8pGB5MoY/pXgH7aP7Qlx8IfBti2gaxb2msPexRtGzfPsPX+dAj6bpteffBz4n6b8QvB+k3EWqQ32oSW6tOqNlg3fNd+3+RnFBSForMufEml2eoRWFxqFtFey52wvJgt9PzqfVNVstGtWub65hs7deskrBF59zQBcpD2HGfeoNPvYNQtkuLaZLmBxlZY3Dqw9iKnYbvp9M/pQAwSxlyolG8dQKk57151L4H8Mt8UItda/P9vAAfYxd5GMHny+1dfrHiPTPD0Am1HUbazQD700qp+QNAGwtLXP+H/HWg+KJvJ0rVbW/l2ltsMgcj8q39x4IOc/w0CFpMFiPTvXl/wC0L8Trb4a/D3U7+PUo7HUo0JtvMIHz4OOtcB+yL+0HF8VPhrYTa7rkF34ikkdZIxIoJwwAxigLH0UbuFZfKDhX9DU35Z9q+GR49bRf2/o7fUtakstHGkXbGG5nUREjHqR619daX8UPC2rXS21rrlnJcOTti89Sx5PoTQI6yikyDjPIIzx0/OuZ1T4leF9Fufs95rtlbT5wY3nUEfnQB09FU9L1a01i2FxZ3MV1CwyHicMP0q5QAUUUUAFFFFABRRRQAUUUUAFFFFABRRRQAUUVneINXg0PSbm8nZVSNGb5u+FJx+lAGjRXxr8G/iX8Uv2ivEd94g0nxPa+HvC1tdGKPT1gEjTBWYNgnp0H519hWLEwIrsGmCjf0zn1IFA7FiimuwUZYgL70iyBsbSCD0xQFh5/L6dayr7wzpepXsd3cadaz3ScrNJDlh+NXWv4IZNjzxK3ozYNTJIknKMGHsc0CF2KuNoXOMD0FUF01luXlEu2M9FXu1XpHEa7mOFHU5xUcd3DKcLMjcZADZ/OgCvHDIZsrOduRlT2Pero7/WvFP2j/wBodPgDpNherp0OpNdTrCYw+3G4gZ/WvVdL1hfEGh297aSoktzAsygMG2sVBxzQBr0VxPw/0XxLpd1qr694kj123mnL2qRxKnkR9kOOvX9K7KW4jhA8x1jJHRmxQBJRUEF9HPJtjkWT12nOKlkback4A75xQA6iq41C1LbftEW70381OPUHI+uaAFoopDnjFAC0VWkvrZGIaeIOvXLgV4l8Fv2lR8WvH3ivw6NLW1Gh3ctr5yvu8zZj5vxoGe7UVG0iRKXdwqnnLHFJDdxXGTFJHIB/cOcfWgRLRQWBGTwB74qFbyFpNgmjz6A5oAmopAxJIABHtUM9/b2uBLMif7xxQBPRUcMizLvRtynoc5qSgAooooAKKKKACiiigAooooAKKKKACiiigAooooAKKKKACiiigAooooAKKKKACiiigAooooAC21T3OM188/tEftLy/DbxLpXgzw1Z/wBqeLNUYJHC33Y93c/57V9Ct0J7Yr4T8Sv9n/4KTzyXn+obTrUW3mf3vJXOP0oA6rUfiJ8evAGmy+IvEGk291o8a+ZNFbPuKLnn6V6vpPxa1X4xfB0a54DWE6vMuwQzvt2tg5z+Veg/EAww/D/XnuNvlm0kMm7p05r5r/4J2ws3w98SyfN9la9XyP7u3a3T9KB2Pmr9mK3+LNx8ZPiImhpayXa6pML1Xm4Vgxzt/X8hX6geHF1FdFtBqYUX/lKJtrbhuxzXxR+xJGJPj98XwO2q3Z/8jGvuv3/D9aBHlf7Ri+K2+GOrL4UWM37QSB/MfauzYc18NfsDw/FSKfWZNIW2k0z7aq3377gYJzj8zX6PeNgP+EP1sn+GymP/AJDavj//AIJlxk+E/Gm77736k/8AfPFBRwn7b15rtj+1F4EOhRrPqnkQ+XGxwpO71r0/XvHn7Q/gfTbrxHqel2N1o9ifNnijm3OU4H4YzXOftMRof20Ph7u7Rw4/77r65+Khx8N/EA27gbWQY/OgDB+Hfxy0jx18JY/G6EWtp5DSSqxyVZOGH5ivBofjp8V/jRc3OpfD3T7aDw/av8s08uzzMHBA9a8p+EN1dN+w34rFu7Bo724AVc8DzGznFSfsweOPjZYfBvSE8L+FdDutJUsY5pt+9yJCTn8qBWPof4A/tLan4u8eaj4A8ZWP9k+LLMnainKSoBnI/T86+k1PXjjGc18K+G/hb8ZPHf7SXhz4geIdE0zRILC2NrP9hcqxAbcM56/eNfdCHOT+hHNAjgfjd/wk/wDwgeof8IrHG+o+W33zjHHX+dfnx+xrH8X38S+MT4fS1mVdQh/tFmkxk+g/8er9OdcXdpN3/wBcn/8AQTXxZ/wTrjH9tfFIfxf2ihH5PQO56L8P/wBoLxJrP7Rd54AvrKFbaG1Z3cSZwwPNemftJfEi9+Evwf1/xTYR+bc2EfmKu72x/Wvm7wen9ift+as13IyLNZMUDdD0/wARXr37dJ3fs1+MY8F3NsSqjvQBt+D/AI4TXv7PcHj29tx56WYnaInOSEB/rXiXgL4vfHP41aDD4m8KWFlFo0zsieZcYJAJ6Ct3wzp89j+wpGJozHIdLDlT6GNa6H/gn/Gv/DNvh1u+6T/0aaYWIfgf+0d4hvviU/w38fWC2fiLY80M0ZyHVf8A9Y/Ouq/aQ/aIT4Pto2kabbf2l4j1eb7PBaqOBuxya8J8TOf+HiGhfNj/AIlFwoz0Ocdaj+PKvB+3N4EmuT5dv+5WDzPulsvnH4Ugsd/o+u/tB/ao9RvrCzbTnIdoVm+cITyK8l/4KFXXxE1TwRa3JigtPDLTW/7t5Mky5GP1r9AIVj5YeWQfulf7v+c18nf8FIFD/Bm3JRWVdQtx9MyLQFjpf2W2+J6eHLL/AIS1IU0j7Ov2eRJt3y7ePp2qr+z/APtHav8AFD4teM/DuoWqw2mkyyRpJnIwp6n8q9o+GaGP4ZaCpxu+xJ0/3a+N/wBj9Wb9ob4sYGf3lyMDrnnpQM9P8ZftLeJ/HfxA1DwX8L9PjuruxUtcX0sm1AfT36GsjUPjz8VfgjNY3nxH0uGXSLlliMttJvEZJABPp1/SsP8AYFZP+E8+JdvcEfa1vZsq33gDIMZr1X9vOSzj/Z91MXQyftEOzb67qBWNv4+ftDW/wz+Etr4s0sLerfSrDF6BmAODXlmh+MP2ivF2hWWv6fY2EdjdILhIzN8zJzxj8K8v+Nsc0f7FPgbzwQxvISM+m/ivtj4HqH+EfhYMMj7Cn8zQFjgf2av2hj8XjquiatD9j8SaSzJdQ9jzjI/I170p6/mPpXwT+xrI0n7WfxS3Nki3YfT981fe/r9aBBRRRQAUUUUAFFFFAGd4h0O18SaPc6bex+ba3CFJFzjINfmz8P8A9nvwLqn7YHiLw/NpAfS4IxIkBf7rAtk/jx+Vfps3Q8Zr4CttYsvhT+2lrereLrmLQ9OvIgsV1dnajn5u/bqPzoHc6b/goF4WsNL/AGfdN0fTofsdgt7bxqqnO0FwK674f/sYfDTVvh9pNxfaObnUJ7NWa5MxypOeRiuY/wCCgmtWesfAnT760uIru0lv4DHNAdyMNwwQe9fUHwwDr8PNDDdfsmPzzigLny7+xv4n1DRfiR4w+Hc15Nd2GlzTPavIxbagPAGenQV2/wAftE+Bj64mp+OIYrzVpMAxxzNvHHUgf5615T+zDKrftYfEkBgGCTqP1rmPhpd+E9B+OfjST4xvHBJJK4tX1k7bfy93y7D2PSgZyfjD4jeDfhJ8UPCupfCq7u7GykmWO605iQrbuN3PXqa9Y/4KHfC3wxqXgPSPFk2mJ/bdxewRG43nO0kkg4+tcT+0RbeAPiD4o8GaZ8KdNsdSkW6V577SF8yJFEi53N69fyr3T9vLw7fXvwK0SO1t5J/sN5bvNt6qqqOT6DrQB3f7MvwL8IfDvwhpGs6JpK2epXdqplmDE7sjnr9a9v2g5UcDbgCvJ/2dfih4W8YfD/w/p+ka5Y6jfQ2aiWG2fcY2GeD6Hg16yflYHG7qc5wKBHzN+2F8FbvxHpcPjjww8kPivQsTxiNsB0GCwP4L+tfOeofGLxH+2t/wjHgDR/NsYIyraxKvy4eMjgnvn5vyr6M/bB+PkngXRLXwh4cdbrxdrZW3ggX5gqnhif8AvoV826T8M/En7DeqaB41Ez32lao2NbjxiNWkIOfwy1AXP0P8D+EdN8C+GbHQ9Ij8rT7SJUiUnJxjr+NbjAHGfX+hrG8G+LtN8c+HbLW9Ju47yyvI1lSSPoMjp+FbTZ4x6/0NAXPhG6upz/wUgSL7RIIxbxEIxwD8p/pmue/ai1hbH9qDSrb4hw3c/wAOikjRwxkmNiVG08dOd1b+rSQr/wAFIoB8m8wQ7tozxtPWvePi98T/AIP3msP4W+Isunwt8+19RXCAD3oC5U/Zy8JfCGG+XXfh00Edy0Ox4hMxYAj5gQa+hPlVNoOBjA96/NjwfaaT4a/a10M/Be+l1Pw/PABdx2L7rZVJ/T+L8q/Sdf8AVjjFAjwD9s34d6B4w+EmrXurWQuZ7KLfGxONp4/wryT/AIJ/fA/wbJ8LdG8VnREOvCeTZeb+iiSvo/8AaJ0W78Q/CXxJY2MTT3MlvlY16nFeDfsF/E3wxpPwz0zwbfazZ2nieKeYNpkj7ZR856etBSPKPFnw50j4pf8ABQi00zWY3uLIaZOXj3HDYYelek/tHfsu+D/hz8L9R8W+ELOTRNZ0WH7YssMxbeAR1z0/+vXPaGwj/wCCkWCCM6TeYz/uLX0R+19n/hnXxwT/AM+DY/MUBY4Vv2hb7Sf2OJPHb+YdQtrFUMm7nJGN34ZrzD4G/B/4b+PvAdvr/wAQdfstX8SaizytNNebXRWwUGPYE1e8P+AdR+Jn7Al34f0qMS3lzZjavcgYJA9+K8z+B/g/4LN4JhtfGniSbwrr9vJ5M1pqEoRyVGCRnqOP1oFY9C/Zx8ZP8MP2htZ+HVh4jj1vwxcBn09Uk3iGNe3/AI9+lfeIz3r5O/Z5+GvwXt/H0up+DdQi1zV7ZD/pmQcbs4xj6H8q+sV4UD260CFooooAKKKKACiiigAooooAKKKKACiiigA27s/TFeP/ALS3w8ufH3gG9S21m50Y28Tuz2v3nAU8H2/xr2CuV+KX/JP9d/69JP5UAfAn/BP34J6x4g8JPrVn4xv7G3tr+RTZquY5MSYJPvjNev8AwZ+JPiHVv2w/Hvhm41e4udE0+WSG3tXbK7VVeR+JqP8A4Jpk/wDCn9TwcD+07k/lKT/jXO/D1o/Af7eXjV9WH9nxavJJc2rSfxqVUcfj/OgpHtf7a3jLWPBPwdur/RL6TT7tX4nj6gY6VQ1L4na34b/Y1/4TEXDyazFpEUouM4csxVcn/vqsj/goFrtjH8HDprXCG+u5gkFuPvSkjgCqfxSsbnSf2ALy0u42hnj0OANG3VTvj4oA4f4M/CPx58ePA9p4vv8A4k6nYXFzIy+QhzgAgV03wK+K/ijwn8eNQ+E/iTUW1v7xt76T7+AM816F+w4uP2efD59Wf/0KvEPD5x/wUYlO7b/o9x/6BQFju/2l/jN4puvih4f+GfgqZrfUNS2y3N0vWKPo3+fatbQP2bfiB4cu11VPiNf3rpyLWYZTbnkV5R8UNvw//be8O6nq839n6Vf25hiupvus7Sg7fx/pX3Hc+ItPsLGK8uryGK3k+5KTw3sKBWPzz/4KJ/C3V1j0bWLzxRclLlo0+xqnEbAqCw/P9K+pvgL8KdW+Gvg0XVz4uvdf+0WiyxxTrjYTCCAv05/SvJf+Cj7favA3hmeLLwm5Vgy9MHHNfUWivDL8N7NYyCP7LGMf9cjQFj53/Y5+J2veKfEXxL/t7VZb6307U5Ftlk6RxgHGPyNc1oviPx1+1d8RvEdnpHiW48NeE9HnazE1v96aRc1n/sY241TVfjZaoxSV9UnXK/e78CtP9gzWofDfiTx34Q1JltNXTV5p1t5Dh2j7GgLFb4jL8Q/2TrzRddPim68VaBLcLHdC66pnAAH5mu2/a5+O+v8AhX4P+H9X8MXbWFxrLwx+avVd5Gf51X/4KEeLrBvhXH4UiaK417VLiEWdrnLkiRWz+Qrz/wDbD0+TT/gD8O7a4Ty2F3aEoeoyQT+pNOwWOw0z9m/xvqnh2DxB/wALN1Q3rQi5ELf6vdjOD+ddZ+xz8btX+IUHiLw94gl+06noN1JaG5/56AH/AOt+tezeGFC/DqyC9PsP/tOvk79gX/kqHxR/7DNz/wChNSEfc7Ywa8R/ar+OUvwV8Arfaenmapdzi2tgem88D+de3MN2Pr/Svj3/AIKKaBeXXw+0PVokZorC9ieRv4VHmIefwU0AL4X/AGdfiN488PWOvaz8R9Q0m/vYvPa0hTckYPOPbNec/wDBP3T5fDfxV+J9je3k19cWuoXCvdSfxYzz+lfZnwz8eaT4m+Hml6zBdwyWTWqyCRfuqoGOfxBr4/8A2N7J9d+KHxhv7ItLYXOo3KJdxjKliw4oKRuWvjbx3+1F8SfEWg6B4gm8PeGNHJH2q2+88isEK/rS/EfR/iN+ybpdp4wt/Fd14p0SO5SC9t7o4IVmI4/I1X/Yj1K08H/FL4heF9TuI7XVGuZZEt2+VnBkPIr0H9vzxpp+k/BOXShJb3GrX9/BDb2Mpy0nz84+mR+dAWNL47ftMHwr8ItH1vQUD6hrbxwwDdkguO30JFcHF8A/ileeF4/ER+I2rQ+JZIPtBsD/AKrf94KfwxXlf7VHgrXrX4F/DS5lMumPazwtLKr7Vtlzw34V6R4V+A/xM8S6HZ6np/xcv7iwniDqy3QKFSOOvTvQKx2n7Nv7R2reOPh74kTXoN/ifQZZoZkX+JkHX8cV438J9S8S/tP3GrajqfxPm8NX8V1IkWmR43Kithev0r2T9mH9nXTPg9N4k1u58SnXpb3ct7LNMrICSdxbH1rnfiL+xV4M8VSan4y8Ca/ceH79VklMmnyL5bMFJLHP+eTQFj6Y+FnhPUvBfhhNN1LWJddmVt4vJsbnyPauxr5F/YN+LnijxrpniPw14ivP7Xl0S68pNQZ1ZpFIwM49Nv619dYwT9f6UCCiiigAooooAKKKKACiiigAooooAKKKKACiiigAooooAKKKKACiiigAooooAKKKKACiiigBG5Ujoe1eDftB/sz23xW1TTfE+j3f9keLNLfzbW8bJTcMAbgPpXvVFAHyVqHwL+PHjzS18P8Ai/x1or6AyBJhp9o8dw655Bf3GK+g/hj8M9G+FvhKy0HR4FitoVCuQSfMPOSSetdlRQM+evgB+zbqHwi+JXjjxPd6pFexa9eSXcMMabTGrn7p9ccV9CjgYxjHFFFAitqFpHf2slvMN0MiMjg8ZUqVPPbrXyz4H/Zn+IPwb8d6nL4B8S6XaeEdVuxPcWeo2/nS9MEK3bvX1fRQUj5z+KH7NusePPjl4X8cQ6pDDaaXHGJoZB8zspHT24/WvcfGGht4k8N6lpUcghe8iaMSsMqpIxmtuinYDwL9nb9m+T4V/CvUfCGvXUWrx3s8zuUyq7XZvTvzXDWf7NHxP+E95cxfCnxfp+naTO7OLXWYHnEeT2Hpyf0r62oosM8J+EPw3+KOk+NpNa8feK7HWYvI8tLXToDBGGOcttPpxXuka7e5zjkE5/GnUUiSrqlubrT7iJeXeNlX0yRjNeF/sw/s63/wM1LxfdahqEN+dcuRcxiJNpi5ckH1zuH5V79RQI8E+Pv7Nz/EjXNN8VeGtQXRfF1i6mG8bJXj+8B24rgtR/Zt+K/xYurWx+J/jPTL/QIyGe30a3aJ5O3LHrX1xRQO55543+Gqa78JbvwZpckdsDZi1t2kG4KqjaCT3OKzP2a/hHefBP4U6T4UvrqO9urQuGuIhgYLEgD869Wophc+ddY/Zu1LUv2mtM+JseoQpYW1nJbNasuZCW24P6V0P7Qn7OemfG6x0+5E76b4g0yVZ7O+jyrK69Mkdule00UgufL+jfC/9oI/ZdN1bxzoMuhwbUZLezcTsoP/AD09a9I+M3wPtvjB8K5PCl/dMJ1CNHcsxfEiEMCc9RkV6xRQFzw34H+BPin4LjOl+L/EmkarodrGYrWOwtNkgXHGT36j8qwfgX+zRqfwo+Kni7xRe6hb3ltrEkjpDD95Nx/+vzX0hRQFz5h+If7LWuaZ46u/G/ws1i28O+ILpQksN1GXt3/2mUdTyaw5v2X/AIl/FbXLCf4t+LbDVNNtGEi2ujRNArMDkZB6/wD66+uqKAueG/tG/s+yfF74Y6d4W0e4h0w2M8U0fmLlcJwfxr0z4f8AhyTwh4L0bRZZVlext1gZkX5SR3/WumooC584/An9mfUfhT8YvF/jC71K3u7fXFKLCq4KZkY/rkflX0YrbuvB9PxNOooEFFFFABRRRQAUUUUAIe3cdMYzXL+Kvhj4X8cOj69oVjqsiH5XuIQzD6Z6V1NFAHN3/wAP/DeraPBpN7otndabAQY4Jo1KKR0xjpit23sYLKKOKCNUSNNiKD91R2A9KnooAwdP8E6FpGqT6jZ6Xa21/OP3l1HHiRvq341R8V/C3wp45kR9d0Ky1SRMYluIQ7Y+prrKKBnH+GfhN4Q8GSeZovh3T9PlznzIYFDfmK6DVdKtNWsXtLu3jurd/vwzAFW+oNaFFAXOO8I/C/wz4HvJrrQtCstKlmyZJLeELkH6da68bePl6dABTt22igRz2ofD/wAN6prUOr3miWNzqcWfLu3gBkXOOh/AVf1zw7pniTT2sNUsLfULORdrQ3EYZD9Qa0qKAKGiaBYeHdPisNMs4rCyhGEggQIi/QCrzIOM89xS0UAYP/CC6A3iE662lWp1ogA3vl4kIHT61meLvhD4P8dzrNrvh+w1KdTnzJ4Q5/WuxooA5Xwl8L/DHgRmbQtFstNZjz9niCfnjrXVZz26cUUUAMljWRdrqHQ8FWAIP1zXHwfB/wAGWviJdft/Dmnw6upyLyOAB/0rs6KBnPR+BPD8fiQeIF0m1GtBCgvfK/ebTjIB/AVo6to1hrmnzWN/ax3dnMmyS3mXcrL7itCigDM0bw/p+gabFp+m2cVlZRDCW8I2xgfSuZ8RfBLwL4ovDd6p4X0u7uW6yzWysT+ddzRQBzPhf4c+GPBbM2g6BYaS7AKfssKpnrjOOveulX09OKWigQUUUUAFFFFABRRRQAUUUUAFFFFABRRRQAVR1rSbfXtLudPugTb3KNE+Dg4II496vUUAeb/Bv4HeHvgfocukeHBcrYzSPNILqTexZ2y30FVPjD+z34Y+M0MQ1f7Ta3cIAjvrOUwyoP8AZYdOlep0UDPnnwl+xZ4L8L6ta6hd6nrniGa3cSRJrd+1zGGHTg/54r1f4gfDvSPiN4J1HwrqUTR6VfxiF1gPltjcG49PuiuvooC5yPw3+Hek/CrwnbeHdBSb+z7bJj89955JJ+auXs/2d/DNr8XG+I4F2viBo2iJ8793tOM8fhXq1FAXPPfih8GPDfxf0wWPiCzMoBBWeE7ZEx0Kt2rznw9+xX4T8O6pDep4h8VXhhbekF1qjyQjHQbG4/KvoiigLnG+PfhjoXxI8MroOtWxnsdgVegdMDAIJ6H6Vyvwk/Z50f4OQ39vpmr61qMF5G0Zi1O9aZVGeAoP3cZPTr+FeuUUBc8x+FfwB8M/CDUNfv8AQlvPtWsXbXVw1xNuG49gPTk1g/Er9lHwf8TNXOq3EmoaRqZ+9d6VcG3kP/Ah1/8Ar17ZRQFzwPwL+xx4L8F65b6rLdax4hvIGLRS6zetclD7E9M8fkK7P4vfAvw/8atNsrHX3uPItJ1uIhbybAGUjA9+lek0UwuZljoNtY6OmnRBxAkXkglvnxjHJ/CuF+Ff7P3hb4R67rmq6CtwLjWLhrqfz5d43nOcenWvTaKQhF4UD04rO8QeHdP8U6XPp2qWkd7ZTKVeKQZBz7VpUUAfMd/+wf4NuGmFtr/ijSrVyx+w2OqvDbgEjI8teoPvXtHwz+FHhz4T6CNJ0CyW3hBy0jgNJIfV279/1rtKKBni/wAUP2VfBnxS1cardi80rVv+f7S5jBKcdPmH+eawvBf7F/gzwrrkOrX19rHiW7hbeg1u8a4Cnscnp/8AWr6FooC5g+KPB+keMtBl0bV7KO906ZdjQSKCMDp19K8Cuv2DfBxnJtPEfinTbfdvS0sdUkhhTkcBRwK+m6KAuec/Df4K6F8NfB9x4d06a+ubS4ZzJLdXBeQlic5cc/nXlep/sI+EL++uZ4fEviuwguH3ta22rSLFz1G0dQfevpqigLnEfCf4SeH/AIO+H20nQYGSEsC8srbpJCM8se/U/nXb89TRRx3oEFFIJA2cdqWgAooooAKKKKACiiigAooooAKKKKACiiigAooooAKKKKACiiigAooooAKKKKACiiigAooooAKKKKACiiigAooooHcKKKKdwuFFFFFwuFFFFIQUUUUAFFFFABRRRQAUUUUAFFFFABRRRQAUUUUAFFFFABRRRQAUUUUAFFFFABRRRQAUUUUAFFFFABRRRQAVHMdsbHOOOv8ASpKq6lMbexncEhlQsCOo96AOR8DeG/E2la1q9zr2s/2hbSzM1vD/AHEI4X8OK7jcq4yfoa+Rv2PviZ4l8YfEb4n2Ot6tPqVtpurSQ26TPuEag5wPTt+VcDb+JvHvx+/aU8VeC7fxhqHhvSdLthNGdOk2ScyMp/L+tA7H3wrBuhzQ1fFfjjQvib+znqWmaxpHjTVvG9rLLm70/VJN8hTcFyv05z+Fe8/FL4yL4F+DNz4uKqly1qrJDJ0SR8bQfoc07BY9bWhq+KvhP8M/iJ8b/h7p/jnUPijr2iy6vELqKz0+4xEgIz0/Kuk/Zz+NHiaL4ka18MvHN219qOnwmW1upjmSaIE4dj74FILH1hRXyJ8DPiZ4j8R/tf8AxJ0G/wBWurrRbW0ia3tJHykZJb7vp0H5Cu8/ba8Yax4E+BN7qmiX8thqCXkKLNCcHDFsj9BTCx7R4s14eGfDuoaoU8z7JC03l/3sdv1ry/8AZm/aAP7QHhrV9U/s4ad/Z9+9nsP8WM81xGv6Hq/xe/ZNs5Z/Eup6Rff2e0st3ZSYeXC8hvb/ABr5+/4J0/BnVtW0nWdZg8da3Y2drrUgfTY5v3U5UDlv896Qj9HlbPp+FLUcCmOMKWLEfxN1NSUAFFFFABRRRQAUUUUAFFFFABRRRQAUq9aSlXrQBh+MteXwz4d1TVXZVWztZZxn+8qkj+teJ/sn/ErxV8VtL1vxBrjbNLlumWyjXtGBwf0q5+25r134e+Amr3Fk2JpJ44D/ALrbs1Y/Z78HrJ+zfpemWl1Np8t9ZHN1bnEkbN1ZfpQB2/hX40eGvGXizVPDmn3EranYFhPG6bQNvXnvXM/Ez48r4A+IXhjwyLMXTazIYxj+AcYP6/pXxp8CP2ftZvvj74tth8Q/EUH2FndrmKXDzDPf1HFehftleHL/AFT4pfDrTtM1Oa0vdwQXiHEp+QAsD607Dsfc8NwJFU92UN9M1z3j7Wdc0PRVufD+lx6vqHmAC3kl2Daep96+SviV8OfH/wACPB9v4y034la1rptmjee01K4zEY8ZYAfhXXfHP43axqn7LOheOvDmoPpN9fzQMZrc4C53BgPrikFj6c0G6urzR7Se9gW2u5IwZYlOVVu4FaFfHfx6+OHinwP+z18OdQ066aG71ryLW81BuZEVogS+e3etr4GeB9Tvr7StfsPjFq/imFwsk2nz3eYgCBlcfgaBH1VXM/ErxlH8PvAut+IpVDrp1q8+wnGcCukX7pzgZ4BBzXz5+2z4FuvF/wAFdfubfxDqOhpZ2kkkkdo+0SqFPyt7f/XoA5z9mzUPiZ8Sr6HxvrOum08N3582201Dn5CT1/Svqle/GK+Jf2U/hHq/hn4E6T4q/wCE41i4RtN81NPkkzbRgDjHvXpv7EvjnXPH3w78QXuv6jNqV1HrdzDG8zZIjBGB9KBn0fTWr5ZvviF4jt/2vbbw6NWuv7FkRgbMnMfRa5n4ia54w+Jn7SE/gO08U6h4c0eGMyb9Pba4wO3+e9OwWPsujjvXxF4vj8bfsw+OPDkw8cat4s0XU5o7eeHVJ97AMT09O/5CvTv2ovjpqXg3QPDGkeGdja94olEEA3HMWduDx9T+VFgsfRkjIpXj7x2/p/8AWrg/H3xu8MfDbWdJ0rWrqSO81UgWyom7JJwM+lePeGf2e/iLpdvZaxL8TdautSbbNLYzXBNsGJ5XnpXzj+2n8Kdcb4qfD64vPFuo/ab7ChIZMrE/mLhk9Dz+gpBY/RXxRqGoaf4Zvr3SLNdS1KO3L29rI+wSvjhSe1J4N1HVNV8N2F1rdkunarJEGuLWN96xt3Ge9eJeLvCmtfBX9nPxlLF4w1nXNRg055473UZt0sL7R09AK5nR/wBoDVPBX7IeieMdRuH1PWJbBMTSt80khyAT7U7BY+rdwXqQPrRuDdCD9K+PfB/wN+JvxE8LW/ibU/iXrWj6hfw/bItO025/cKHHyjH86v8AwO+Nniix1Xx74E8Uzi91rwyjGO8LcyDZxn36fnRYLH1kWxgU7GK+FvhH4Q8aftGrruo6h8SfEXh9La7NvHa6dNtQD5uv6frXafs+eOPFXgz4waz8NvFmsz+I4FhFza31zJvkI3bRn/vmkFj60opqHgn3/qa8M/bA8fa14D+GLXOhXTWV3NOkXnxnDLll6fnQI91o3ba+IdS+CvxBtvhXJ42sfin4ik1ZbVrsWs1z+5PJJFZ3wN8B/EX49fD9/EV/8T/EGk32TF9ntLn5Dg8/yFA7H3fu3UV8s/ss/FTxNqPijxf8PfE19JqN94fj89L6Vv3rpvCgH60/9k3x94h8XePPHlrq+qXGoW9lcbYIZTkRAMQFH/fNAj6hZd3fHb9RXgnxd+P1/wCAfjV4M8I29vFLZ64yI0nddzH/AArnP2lPH3iDwz8VvB+naZq1xY2d3InmxxHAJLjg1xP7Tbf8ZS/CjJ3P5lsTuOSf3gz9KAPp/wCIXxc8PfDG80ODXJpYX1q7Npa+Wm4M/Gc+nUfnXaQyLNGsiHKOAwPfmvgD9vr4a3+pfED4c348VatDa6pqht0tVm+S2IVeV9z/AEr3q1s9U/Z1+Cmra1P4o1HxPcRwq8R1ZtxQnAAHoOP0oHY+iM474qO4m8uF24bAJGfaviv4Y/DP4ifGnwePGknxL1/SLu6EskGn2dxiAEE7VI9DmvRf2X/jNrPjpfFHhPxQqnXvD101lJMpyJQE6/Xj9aAsdB8Afjfd/FHX/FVncxRp/Z9/LbpsHULngnt0Fd74I8S+JtZ1fVLbW9Eh0yzgbFtPHNvMi88kdug/Ovm79jNfJ8X/ABGKHA/tC5YEdQc9a1f2T/id4i8VfEH4jw63qU2oWmmrmFZn3BMSycD04H6UBY+sVzgE8dqWvhbTPGXiP9pHx14kz4/uvBGg6ZKI7ddMn8p5Rt6H15X9TWh8P/i5rnwb+Mlr4G8SeMF8W6HqUWLS+upN86Oegb8xTsI+2duaN2a+A/EXxO134ofH7xB4R1Xx/efDnTdPaRIprOfymmw5wB65wK+s/gr4R1bwrozpqHiq78U27HdDdXkm9yD/AJFID0mijPbvjpRQAUUUUAFFFFABRRRQAUUUUAFFFFABRRRQAUUUUAFFFFABRRRQAUUUUAFFFFABRRRQAUUUUAFFFFABRRRQAUUUUAFFFFABRRRQAUUUUAFFFFABRRRQAUUUUAFFFFABRRRQAUUUUAFFFFABRRRQAUUUUAFFFFABRRRQAUUUUAFVNW/5B83+6f5GrdR3EIuIXjbgMMUAfEP7C/8AyVf4vf8AYam/kKq/swxCT9tX4mEnBXTlx/3+avpn4X/s++HvhP4k8Q6zpEkxn1m4e6nEj7hubrj0qv4F/Zt8NeAPib4g8c6c1yda1q3W3n8x90e0Nu4Hagdzzf8Abk1y88OeAdS1OwuGt7200u5lhlXqpBHP0r478G/tiTftTfs9ax4C1WG2tvHNktvNbqxwmoomPMA9X2jIXvX6I/Hr4S2/xa8K3mkysY1urSS2MidUVyGyP++cZ96+IrP9lm8+CPxMtNM8KaTbxab4jtTDb63eadFfroOpwYlR3ldGKI+CDtI5K5zgYdxn13+x7dQR/sy/DtWuI8rpCAeY/wAxAJxkdiAMY7YrxrwNrEHj79ubX9X0tRJYW2nLayzKn8atg/lWn4M/4J72Og+G9G0++8X6rJcWMKwyNa3ksKO/UnaOBnOOnQCvon4T/BPw18H9Na30O1Kyzf665lO+RyepLdTSC58t/DJrb4d/t3eNrXULjyRrFjbpZzS/KJJOSQPoD+td5/wUH16xm+A8mlx3UZvrzUIBDCpyz4ZgcV6r8Y/2fPDPxit7d9Tjez1G0bfb39pIYpUOMcsK4PwP+xT4S8LapaanqN/qWuXVr9yPUbppow2ck4PU9PypiudD4K0+4s/2WY7S4RknTRmBRuv3a8p/4JrzRwfDfxdGzojf2/N8rHHYdK+uYrKBLQW3lRrb7NgQrt46Yx2rwS3/AGOfDml/EaLxRpN/qGm5uftMtjDdOsTNySSF6/jSEfQ/v2+uaKhtYRbwrGpZgBwTU1ABRRRQAUUUUAFFFFABRRRQAUUUUAFHaij3oA8Q/bG8KT+MPgbrVpb7t8JS6OPSMFj/ACqT9knxPbeIvgXoDRFVEEOx8dc9f616zr+hw69p91Z3HMFzC8MgxklGUqR+tePfs5/AvWPge2s6e+qR6hoV1O0trb/deFcY2+/agDwn4Z+ONI+Gf7THjeLxLcf2ULzzPJ8z+ME8Y/P9a6H9pKQXnx6+GM0I3xPIGVvVSgwa+kPF3wb8L+NryO81TTIprpQMTbPnGOlbF54F0XUJrGW50+Gd7JFWFmTlMf8A6hTuO545+2Upb9m/WwMu3kL8o+gr558STeX/AME8vAwdGDfaYBtxnH7xq+8tb8M2HiXR5tN1KGO8s5uGjZflI7VnTfDfw/P4bj8PPpsJ0iLaVtgvygjoRSC54vZ6h4LX9nnwdaeN4o20iXTohmdOjbeor5h1aHwh8OPiJ4Zu/hB4rutUuZ5yLjS45P3QXvx7ZNfoNrXw50HxFocek6hp8V1p0a7EhxjaP8isDwr+z54H8GX8d9pmiwx3sZykpGStAju9JmkuNNtJZRiWSFHfjAyVGRXmv7UylvgH4zCgk/YJOn0r1VRjpjHsMVV1TS7bWtPuLG8iWe2nQxyRuMgqetAHg37NOny6l+yd4bsURvNn03y8Yz1zXkP7Lvxa0D4Ew+LfBvjC7/sa9TUZtQSa4GAyswAA/wA96+0dG0Ky8P6bb2FhElvZwKFjjVeAK5Pxt8D/AAd8QLo3Ws6PDc3B5MgGGOKBnzN8PdYg+MH7Xdx4m0JXm0OwHlm6H3XbGSR+Vafh2Mt+3BqDnJ3WshBP0r6h8J+A9G8FWKWmkWFvaRryNseGP1NTR+C9Hh8QNrcdjEuospUzbOTmncLny/8AtwRM114D2gkf2jBnH0asH9qfQb/Rtf8Ahh46jtpLrS9LlikuMdEUIBk/r+VfYOueEtK8SLCNStI7sQsHTen3SO4q1qGi2Gqae1lfW8Nzasu0xyIMY9OaLhc8q0n9qr4a3VrZg+JLWCaXYghfrkgcfrXgf7ck/meKvht4nhzLoVvIHkul+6q+Ypz+hr6Gb9l34em9+1DQ4w+7cqqAFU+oxXc6x4D0TW9CXR7+wiurEIqeUwzwOlILnkHxq+IWhfEL9mPx7d6DfR6hb/2VIm5PXC8GvDdX8F6n4v8A2FdCtdNiMtxBYrK0SjJ24wcfnX2FoPwp8N+G9Au9EstPjTT7oESxMvysp/hrd0nw3YaHpMWmWFtHbWMabI4FX5VX0p3C58+fCf8Aaw8A23wz0e11PVY9M1XT7OO1lsphh90aBcD/AL5ryr4OWtz44+KHxg+ISWr2+hakp+zuwyJMJgkfp+dfTmqfs3fD/VtYOpz6DD9pZw7bV6kdzXcad4U0zSdLfTrK1it7VwVMar2PY0XC583/ALCqlvC/ikrv2/2jgbhju3SsTQYz/wANsX+f+gV/7Vr6m8OeENN8KRSw6ZbR20Uhy6IvU+p/Wo4PBOkx+IJNaFrCdSdVUz7OeM/40gub69/xr5o/bxUt8KosAn/Soun++tfS4xk+vfjFZfiTwvpvi2wFlqtpHeW24P5b+o7igR5hfI3/AAzXdjY246JLj/vmuK/YXVl+D9wCCD9rfOf90V9FSaJayaaNPEaizEfleVjI2+lVtB8Kad4YsDZ6XbR2dsTu2xpzk9aB3Pkf9nEB/wBrP4roFdi2mKCHGR/razvhL410v9nX45eNdJ8Xytp0epOs0F3IMREMcj8sj86+xNN8F6No+t3Or2enww6hdKEluEGHcD1/P9ax/G/wl8M/ERYhremQ3TxH5H8sB8fU/SgD5W+I3jCw/aA+PPhq38IM2pwaaPMuLqP/AFQCn/6x/Kp/2oBI37UfwqlRS/7+3Hy9APOr6p8F/DHw54AiZNF02G1dur7Rvx+FXtW8FaLrmrW2qXtjHPfW2DDNIOVIoCx8w/t5WrWU/wAK9UaOQ6dY6y8t5NjKxR7VyT+X6VufHb4iaD4+/Zd1640LUE1BIbaNpGjGP89K+i/EfhnTPF2ly6fqtrHeWsn3o2Gea8C/aL+G+i/D/wDZ18V2ehWS20c4T92ox1bp+tMZyX7Mv7TXw+8J/A3Q7W/16CG6t4JHe3P+syCePxxVX9j3R9R1rx98SvHZtHttJ1rUJZ7UHqykLz+grV/Zb/Zt8Ea78G/D2oapoAF8wZjuPUhjzX1NpOh2Wg2UdpYW8VrBCuEVExj6+tILnyZ+x3G0fjL4jBwQf7Quuoz/ABGsX9jWNLr4k/Fy3RnV5YXX5hgf62QZ/WvsHRPBmj6BNdTafYw28l0xeV1T7zHrmo9F8DaN4a1C8vdNsobO7vBiWSNfvEZxn8z+dArn5ueCfhb4S8K/EbxfovxF1fVvCrR3O+CeOTYkyFc5HrnIr3H4S/CP4Kah8QtLv9A8Q3nifVbfDRtcS7wvt+lfTnjb4QeFviE6ya1pkF1KAAZMYJxUfgv4L+EvAM3m6NpcdvLnIcjNO4j5/wDj5pfwR8ceJrqDxRq0eg67D8n2q0XZL2/PGB+dY37DGuanH458X+HLXV7nXfB9od1jfXRyzncc/wAhX0f4t+AvgvxxqTX2r6PHPdN1YfLuz/Oun8I+B9E8D2K2ei2EdjAoxtjXGfr/AJ70gNwZ7/55NLRyBz1ooAKKKKACiiigAooooAKKKKACiiigAooooAKKKKACiiigAooooAKKKKACiiigAooooAKKKKACiiigAooooAKKKKACiiigAooooAKKKKACiiigAooooAKKKKACiiigAooooAKKKKACiiigAooooAKKKKACiiigAooooAKKKKACiiigAooooAa67qo3ei21+0bXCb/LOV9v84rQooHcRV2qB6DFLRRQIKKKKACiiigAooooAKKKKACiiigAooooAKKKKACiiigAooooAVadUbY4z6+lfNf7Yn7S3/Ci9BtorSC7/tKYgrJDFuQe360AfS7e/Sobe6iuN3lurlTg7e1fPHwE/aTsPjN4Tijt7XULbUYbLzJ3mi2Jv3DkflXh3wF/aws/A03iiHxRLq2t3Q1GdYxbxb1jUSvt+n/1qB2Pv6lrzb4WfHbwr8XIpDot5i6jP720m+WRP84qh8Vv2i/CfwlKw6lNJeXzdLOzXfNj12/jQFj1iivJPhP+0h4S+Lcj22mzTWOoL/y53y+XLj1x716svY+3rQFht1PHbRmWV1jjXqznApLeeO5jEsTrJG3RkORXD/GbVNP0zwHqFxqtzLZ2Ee3zJoPvr6Yqh8N/GOg6R8GtL1xL95dFitmkF1cffIDN1oCx6ZRXzXcft4eA4bzy1sdWmtgcG7jt8xfXNe3+CfH+ifEHQ49W0a8jubSRc53fMPqO1AWOlorw74i/tceC/hzrJ0uYXmqXiHa8djH5hX6+ldp8MfjN4b+K9mbjRrr94vDW8oxInXqPwP5UBY72iuF0n4xeH9c+INz4NtpydZt42leM9No61P4++KOifDuHTpNXkMSX0vkRcZGT60BY7Oivkf8AbA/a6j+EfhmzOixXTahebWWXy8x+XnLfjgV678Df2gtJ+NGnIdPstQt54Yo/Ne8h8tSxQMceo5oCx63RUbSbQCPm/wB3v61xngv4vaD458Qapo9hKTfWDFJYz7E/4UCO3orhPHnxi0D4f61o+lao8n2zVJfKgjj6845Ncp8UP2oPD3wp1K2stS0zVruSdPMDWVtuQ56DNAHspz29M1QutcsLW+isri7jhu5V3LCzYJrzX4a/tIeE/ioZLexmksNQIIFneDY/ANeGfGLVru3/AG2/B1oLmRYPssLmMHI5kkoHY+zBnqRj8c0tcT4k+LGgeGPGWjeGb2crqWqyGK3UeuAf6itbxp4y03wHoE2sarJ5dnGcO3vz/hQB0FFctpPxE0XVvBdv4qS7ji0WeHzhPIeAOf8ACvHZv24vAcWtNYrbanNCr+X9uSD9x165oCx9F0Vz1j440XUvDf8Ab8F/C+k+X5n2ndtCgdQT2rxlf23PAc3iAaXDBqVyDL5Qu4oN0BbOPvd6Bn0PUdxMsEbSOwREGSzHAFRabex6lYw3cLFopkDrkY4NcF+0Tc3Fp8EfGk1q7RTx6XcOsitgrhDzQM7+zuob2ATQOskTchlOQafPCk8bJIiuh6q4yK+Cv2Xf2ytA8I/De10/Xk1rVNQSZw9wkG5ADjqa+wfCPxf8O+NvC8uuaVcm4toU3yR4w6gZ7fgaYjs7e3jt4wkSKidlQYFS1xPw1+LGh/FjTbq80OUyRW8phfd1VgT1/I1Bb/Gbw9cfEt/AyTs+tRxeayr0AoFY72q95fW9iga4mjiU/wDPRwv86mHqRzXjnxe+B+pfFTU4l/4SW70rTV+Zltzhu3A/KkFj1az1yxvHK295byt6RuGI/Kq/ibxVpfg+wF7q95FZ25YJvlbAJNfFXxg+E+r/ALMGm2njLQPGGoXyLexwyWl8/DBj/wDrr6A+Kmiw/GD9n25muYF+1GxN3HtOQsgQ/wCNAWPY9P1C21W0ju7OZbi2kUFJIzlSParNfOH7C3jefxV8IxYXsnmXukzfYpF/u7RxX0fknrQIKKKKACiiigAooooAKKKKACiiigAooooAKKKKACiiigAooooAKKKKACiiigAooooAKKKKACiiigAooooAKKKKACiiigAooooAKKKKACiiigAooooAKKKKACiiigAooooAKKKKACiiigAooooAKKKKACiiigAooooAKKKKACiiigAooooAKKKKACiiigAooooAKKKKACiiigAooooAKKKKACiiigAooooAKKKKACiiigAooooAQ9weBjrXzf8AtzaZZXHwlkurmyguJo3G2RxnB7V9I15j+0V8N5vij8NNR0e1k8q72F4m/wBodqAMj4HeG9N0n4F6DcWdjb29zNpaM8iw7cnDfn1rwn9ifwXpOsT+MJ77T4byX+0JmPnJxnzmxivUP2dpviFYeHz4S8UaGtjZaTaGCG7L7vOI4H06j86Z+yn8JfEXwwm8SjXIVj+13sksRH9wyMf/AGYUDueRzQxfD79vHRdO0OKO0s9UjlNzFH8qEqNwH8689tPiBLY/tSeNNR1P4da18RJ7SR7e3h09EkEKkA/xEYxkV9BeJPgf4l1L9sLw543SEtoNnHKskoOMAg/4Vn/EX4K+M/hl8V7n4gfDyBtVkvA32zTS4+diBnrQFzyPxVqPibxp8XPBXiDwf8GfFXg+4ivI49QurqFFjMHc/Kx/Wv0I0lpptPgM6GOXYCysMHNfPHwv8bfGXxH4ktI/EHhP/hHtHBIkOQcD8K+kg3yD3oC54l+2Mm74Fa+v97yv/QxXi0K7f+CfOgRbmXNiQdrYP32/OvoP9pbwbqnjr4U6xpOjx+bfSBWRfpzXmtv8GfE3/DIuk+CFt1/t63tmhKE4wQzYoC5vfAn4d+GtQ+BGgNeaVaXLyad87PFlz16mvNv2PydJ8Q/EvTrP9xZ2jyyRRxnlPmPSvoP4Q+DtQ8J/CPRdEvwFv7ey8uVAc/N3ry74A/CPxJ4B174g3+r2yrDqRlELHuuSRQM8/wD2IfCGkeMNL8Tavq1hDqV9Lfyp51ygY/fPHPTpT73w7afDH9tjQLbw9G1nZ6xaTTXVnGwEbMOAePqfzryf9lzxr8TvDOm+JB4V8LPrmlyXsp8zftwxdgf5V9E/Bn4I+Kda+KB+I/j5DHqqIyWtqX3eWpAyP0H5UBc434Z7Y/29/EkjLuH2KdVwchfmPSum/bsh8/Q/AwBH/IWJC4y3RelWPjJ8FfFnhf4pRfEv4fKtxqHl+Vc2ZbHmA4yP51z7eBfid+0N4u0B/GekP4W0HR7n7SIM5808ZH44FAFH9uDSLVvgLoc0thDJIy2qjzE+bO5K+q/h94d03Q/C+kGysYrZ2s4S/lLjLeWOtedftL/BO4+Kfwt/sPS2xd2uxoB3JQghf0qx+z14i8e6lpX2HxnoD6ULVFhilb+PaMAj8qAPZGAZQD1BzjGa+L/FljJ8D/2vdI1yziMGjeJAlpOoGMFmBY19nDBXk7Rjbj3rwn9r74M3/wAWvhrKmhjb4jtDvtGHXdx0/IUAeO+E4x8f/wBsLVdbEi3vh3w2qLAsnRpNpUj+VemfFf8AaA8FaD4kfw/H4Sn8b+I7Y7ZNP0qNXkhxwByRjp+lXv2Pfgtf/Cv4cRNr8ePE91k3kn8fUY/rXn3jf4L+PfhX8Z/EfxB8D6bDr6a24MttIAZI+OoJ+p/KgVj57+InxInuP2ivA2pab8Odc+HU7XMcUr6jGE81Sy5HDHrXt3xifzP25PBznO5rO3Pt1fip4/g18Qfj18SNC8TeN7AeH7bSXVkt2YEyMrKVPH0/Wu4+InwY8R+IP2pNA8Y2dujaLZ28Imk91LA0DOP/AGgofN/bD+FJ2odtyfvf7o6V6d+2fKo+A+tBvnHmRgr+Ipn7TXwT1bxrcaN4s8LSCHxNoEnnWyg48zGOP8+teVeIdJ+NXx30uHwp4i0L/hH9Kyslxc5z5jA8/oT+dAXOS+KmuXnhf/gn/wCAWsRIRc3MUMlvCfnkRpJMqKl8L/ESzX4X2mhR/s3+KL2J7XyvtSW8J3n+/ncD3r6T8dfs5aZ4p+Bln4AgLQJYootJQcbJFGQ/55rx7w/4o+PPw30i38M2/hD+2YbJPKTUVcfvACQGOaBXOb+Cfwz8feKP2ffiF4NvNG1PwuNR8z+zIdVG2VDuBCE7jgYrnfhr4+m/Z60ey8P/ABM+FV0tjFKIxrXkgwtkkBix68ivr3w9eePtS+G0t3ewJY+KdhaOExjG70JHtmvnb4jD41fGbRW8Jal4MS0s7mZU/tST5kCDPI9D1oC59ieE9a07xDoNjf6S6SafNGphMeNoXHQYriv2lpvJ+BPjk44/sqcbh1Hymtn4L+BX+G3w60bw9JM08tnCFd3bJz/hWx498J23jrwjq2gXhYW+oW727FeoyDz+lAXPmz9iHwB4d1j4E2015otldTzXUolkkiw7DaMc/ia5/wCEGj2/g79qjxx4X0vjRLqOPzbM/MEDdcen/wBaqXhLR/jX+z/p+o+GPD2gf8JBowuZpLW5BwwUtgZ+lem/s3fA3WfDHiTXPG/i0tJ4l1cDdHL8wiwc8fTdQFzyr4K6wvwJ/aK8deE2MdtpNzDNqEURGMiKJpT/AJ963/2N9DXx58QPG/xQvT9ok1C9ZbCT+7Cyhv61xX/BSDwne2d94Z8QeHrhbTW55Rp0kcIw00czCNj/AOPV9Yfs8eAYfh78J9B0hIDDLFbr5it13Hnn8zTuM9J8z5m46HGajubyK1heWZxHHGpdnboAOpNSFeOm09jXyz+2jp/xg8UaXBoHw5tcWNxlrqWEhXIG3jJ6ZyaQHAfE7xFcftefGmy8E+GXD+DvD84fUbwDKGRSCo/Rq+xNS0210vwXNZqkcdnDaeWVUYG0AAmvjf4UzfGL4P8AhuDStH+GBDD5prkyJvkbuWPfvXtnxB+KmteGfgBqus+KNObSNUuLeSCO3yHw7KfSnYDh/wBhiNIdS8ftAhaE6tcBNnYblxmvrlMgkH6/qa+cf2GfBs3h34TNqV7EVvdXuDes5GN24Cvo7pxnJpEitSUUUAFFFFABRRRQAUUUUAFFFFABRRRQAUUUUAFFFFABRRRQAUUUUAFFFFABRRRQAUUUUAFFFFABRRRQAUUUUAFFFFABRRRQAUUUUAFFFFABRRRQAUUUUAFFFFABRRRQAUUUUAFFFFABRRRQAUUUUAFFFFABRRRQAUUUUAFFFFABRRRQAUUUUAFFFFABRRRQAUUUUAFFFFABRRRQAUUUUAFFFFABRRRQAUUUUAFFFFABRRRQAUhXdx2paKAGJDGhOE2k9felaNadRQA1VC5xTtobrRRQAbQvSiiigAooooAKq39qLmznjBALxsoY9sqR/WrVFAzwr9mT4AXvwa0TV7TVLtbya7vpZ1ZeyMxIH617n5YAUDoBgU6igRDNAJF2kn14pYI/LU9fxqWigdwxmmsvtmnUUBcaq+2KGUMuCMg06igLjVAQbQMDtQy+2adRQFxqjGeMU6iigLiN29KasEYYMOop9FAhTnnIyKaIkBJCUtFACNGu37tLtCngYoooAVaGpKKADYG6jOKhulZoXWL5X2kDp/WpqKAPmdv2dfEvxB+Llt4o8d6gl5pOlyl7CyXHqOTj/dFfSkMYijwP/wBXtUlFA7hTWQNjIzTqKAuM8lP7tYnivwXpXjKwSy1W0W6tg+7y36E1vUU7iKmi6ZbaNptvZWcaxW0KBUVOgHtV6mUUgFakoooAKKKKACiiigAooooAKKKKACiiigAooooAKKKKACiiigAooooAKKKKACiiigAooooAKKKKACiiigAooooAKKKKACiiigAooooAKKKKACiiigAooooAKKKKACiiigAooooAKKKKACiiigAooooAKKKKACiiigAooooAKKKKACiiigAooooAKKKKACiiigAooooAKKKKACiiigAooooAKKKKACiiigAooooAKKKKACiiigAooooAKKKKACiiigAooooAKKKKACiiigAooooAKKKKACiiigAooooAKKKKACiiigAooooAKKKKACiiigAooooAKKKKACiiigAooooAKKKKACiiigAooooAKKKKACiiigAooooAKKKKACiiigAooooAKKKKAP/Z)"
      ]
    },
    {
      "cell_type": "markdown",
      "metadata": {
        "id": "7N0vt8B0w0aT"
      },
      "source": [
        "Example1 (ไม่มี output)"
      ]
    },
    {
      "cell_type": "code",
      "metadata": {
        "id": "jk7T1FHCy3Ia"
      },
      "source": [
        "def grading(score):\n",
        "  if score >= 80:\n",
        "    grade = 'A'\n",
        "  elif score >= 75: \n",
        "    grade = 'B+'\n",
        "  elif score >= 70:\n",
        "    grade = 'B'\n",
        "  elif score >= 65: \n",
        "    grade = 'C+'\n",
        "  elif score >= 60: \n",
        "    grade = 'C'\n",
        "  elif score >= 55:\n",
        "    grade = 'D+'\n",
        "  elif score >= 50: \n",
        "    grade = 'D'\n",
        "  else:\n",
        "    grade = 'F'\n",
        "\n",
        "  return grade"
      ],
      "execution_count": 22,
      "outputs": []
    },
    {
      "cell_type": "code",
      "metadata": {
        "colab": {
          "base_uri": "https://localhost:8080/"
        },
        "id": "o1QmoD6v0kdc",
        "outputId": "cbdbe09e-9ad3-4ad1-8727-f48849034da8"
      },
      "source": [
        "score =  [49,65,70,95,82,55,89,20,77,77,81,59,10] \n",
        "for i in score:\n",
        "  print(f'คะแนน {i} ได้เกรด {grading(i)}')"
      ],
      "execution_count": 23,
      "outputs": [
        {
          "output_type": "stream",
          "text": [
            "คะแนน 49 ได้เกรด F\n",
            "คะแนน 65 ได้เกรด C+\n",
            "คะแนน 70 ได้เกรด B\n",
            "คะแนน 95 ได้เกรด A\n",
            "คะแนน 82 ได้เกรด A\n",
            "คะแนน 55 ได้เกรด D+\n",
            "คะแนน 89 ได้เกรด A\n",
            "คะแนน 20 ได้เกรด F\n",
            "คะแนน 77 ได้เกรด B+\n",
            "คะแนน 77 ได้เกรด B+\n",
            "คะแนน 81 ได้เกรด A\n",
            "คะแนน 59 ได้เกรด D+\n",
            "คะแนน 10 ได้เกรด F\n"
          ],
          "name": "stdout"
        }
      ]
    },
    {
      "cell_type": "code",
      "metadata": {
        "id": "sHzXSUut7QoK"
      },
      "source": [
        "def grading2(score):\n",
        "  if score >= 80:\n",
        "    return 'A'\n",
        "  elif score >= 75: \n",
        "    return 'B+'\n",
        "  elif score >= 70:\n",
        "    return 'B'\n",
        "  elif score >= 65: \n",
        "    return 'C+'\n",
        "  elif score >= 60: \n",
        "    return 'C'\n",
        "  elif score >= 55:\n",
        "    return 'D+'\n",
        "  elif score >= 50: \n",
        "    return 'D'\n",
        "  else:\n",
        "    return 'F'"
      ],
      "execution_count": 24,
      "outputs": []
    },
    {
      "cell_type": "code",
      "metadata": {
        "colab": {
          "base_uri": "https://localhost:8080/"
        },
        "id": "rg9-17Zh718z",
        "outputId": "60368729-5169-4dd4-f3fa-1db0c09675c1"
      },
      "source": [
        "score =  [49,65,70,95,82,55,89,20,77,77,81,59,10] \n",
        "for i in score:\n",
        "  print(f'คะแนน {i} ได้เกรด {grading2(i)}')"
      ],
      "execution_count": 25,
      "outputs": [
        {
          "output_type": "stream",
          "text": [
            "คะแนน 49 ได้เกรด F\n",
            "คะแนน 65 ได้เกรด C+\n",
            "คะแนน 70 ได้เกรด B\n",
            "คะแนน 95 ได้เกรด A\n",
            "คะแนน 82 ได้เกรด A\n",
            "คะแนน 55 ได้เกรด D+\n",
            "คะแนน 89 ได้เกรด A\n",
            "คะแนน 20 ได้เกรด F\n",
            "คะแนน 77 ได้เกรด B+\n",
            "คะแนน 77 ได้เกรด B+\n",
            "คะแนน 81 ได้เกรด A\n",
            "คะแนน 59 ได้เกรด D+\n",
            "คะแนน 10 ได้เกรด F\n"
          ],
          "name": "stdout"
        }
      ]
    },
    {
      "cell_type": "markdown",
      "metadata": {
        "id": "VOBL_y5_9DmI"
      },
      "source": [
        "Example 2 (ไม่มี input)"
      ]
    },
    {
      "cell_type": "code",
      "metadata": {
        "id": "VAle77ed9Ita"
      },
      "source": [
        "def mypi():\n",
        "    return 3.14"
      ],
      "execution_count": 26,
      "outputs": []
    },
    {
      "cell_type": "code",
      "metadata": {
        "colab": {
          "base_uri": "https://localhost:8080/"
        },
        "id": "t2SA8aFL9OEx",
        "outputId": "ccd75e39-8251-4691-ebb5-756cbc0d5e31"
      },
      "source": [
        "r=10\n",
        "print(f'รัศมี={r} จะมีเส้นรอบวง={2*mypi()*r}')"
      ],
      "execution_count": 30,
      "outputs": [
        {
          "output_type": "stream",
          "text": [
            "รัศมี=10 จะมีเส้นรอบวง=62.800000000000004\n"
          ],
          "name": "stdout"
        }
      ]
    },
    {
      "cell_type": "markdown",
      "metadata": {
        "id": "VYzHJvJj9z9a"
      },
      "source": [
        "Example 3 (ไม่มี output)"
      ]
    },
    {
      "cell_type": "code",
      "metadata": {
        "id": "vCVNKFnN97cC"
      },
      "source": [
        "def grading_nooutput(score):\n",
        "  if score >= 80:\n",
        "    print('ได้เกรด A')\n",
        "  elif score >= 75: \n",
        "    print('ได้เกรด B+')\n",
        "  elif score >= 70:\n",
        "    print('ได้เกรด B')\n",
        "  elif score >= 65: \n",
        "    print('ได้เกรด C+')\n",
        "  elif score >= 60: \n",
        "    print('ได้เกรด C')\n",
        "  elif score >= 55:\n",
        "    print('ได้เกรด D+')\n",
        "  elif score >= 50: \n",
        "    print('ได้เกรด D')\n",
        "  else:\n",
        "    print('ได้เกรด F')"
      ],
      "execution_count": 32,
      "outputs": []
    },
    {
      "cell_type": "code",
      "metadata": {
        "colab": {
          "base_uri": "https://localhost:8080/"
        },
        "id": "YHR6JJth-RZS",
        "outputId": "38c007c6-cc41-4afb-c61a-5d52e637f6af"
      },
      "source": [
        "score =  [49,65,70,95,82,55,89,20,77,77,81,59,10] \n",
        "for i in score:\n",
        "  print(f'คะแนน {i}', end=' ')\n",
        "  grading_nooutput(i)"
      ],
      "execution_count": 33,
      "outputs": [
        {
          "output_type": "stream",
          "text": [
            "คะแนน 49 ได้เกรด F\n",
            "คะแนน 65 ได้เกรด C+\n",
            "คะแนน 70 ได้เกรด B\n",
            "คะแนน 95 ได้เกรด A\n",
            "คะแนน 82 ได้เกรด A\n",
            "คะแนน 55 ได้เกรด D+\n",
            "คะแนน 89 ได้เกรด A\n",
            "คะแนน 20 ได้เกรด F\n",
            "คะแนน 77 ได้เกรด B+\n",
            "คะแนน 77 ได้เกรด B+\n",
            "คะแนน 81 ได้เกรด A\n",
            "คะแนน 59 ได้เกรด D+\n",
            "คะแนน 10 ได้เกรด F\n"
          ],
          "name": "stdout"
        }
      ]
    },
    {
      "cell_type": "markdown",
      "metadata": {
        "id": "0L63psxL_Z3y"
      },
      "source": [
        "Example 3 (ไม่มี input และ output)"
      ]
    },
    {
      "cell_type": "code",
      "metadata": {
        "id": "mdLQaXf8_Y_-"
      },
      "source": [
        "def draw_rect():\n",
        "    print('==============')\n",
        "    print('|            |')\n",
        "    print('|            |')\n",
        "    print('==============')"
      ],
      "execution_count": 34,
      "outputs": []
    },
    {
      "cell_type": "code",
      "metadata": {
        "colab": {
          "base_uri": "https://localhost:8080/"
        },
        "id": "WCWplAfIADpm",
        "outputId": "757e6f88-fe7e-48e9-f87a-292f335fbf9a"
      },
      "source": [
        "draw_rect()"
      ],
      "execution_count": 35,
      "outputs": [
        {
          "output_type": "stream",
          "text": [
            "==============\n",
            "|            |\n",
            "|            |\n",
            "==============\n"
          ],
          "name": "stdout"
        }
      ]
    },
    {
      "cell_type": "markdown",
      "metadata": {
        "id": "Dd8lkbHfA7mK"
      },
      "source": [
        "#### ลักษณะของ input\n",
        "\n",
        "\n",
        "\n",
        "*   จำเป็นต้องใส่  \n",
        "*   ไม่จำเป็นต้องใส่\n",
        "\n"
      ]
    },
    {
      "cell_type": "code",
      "metadata": {
        "id": "vFcTgn-CA3DD"
      },
      "source": [
        "def A(input1, input2 = 3):\n",
        "    return input1+input2"
      ],
      "execution_count": 37,
      "outputs": []
    },
    {
      "cell_type": "code",
      "metadata": {
        "colab": {
          "base_uri": "https://localhost:8080/"
        },
        "id": "BOQ_GeIeBzjl",
        "outputId": "e2886996-36da-4261-e233-64bc23e0c3b5"
      },
      "source": [
        "A(1)  "
      ],
      "execution_count": 38,
      "outputs": [
        {
          "output_type": "execute_result",
          "data": {
            "text/plain": [
              "4"
            ]
          },
          "metadata": {
            "tags": []
          },
          "execution_count": 38
        }
      ]
    },
    {
      "cell_type": "code",
      "metadata": {
        "colab": {
          "base_uri": "https://localhost:8080/"
        },
        "id": "s-OCnwLHB_SK",
        "outputId": "c96159e6-84d5-478f-b6cb-b967e7b711b1"
      },
      "source": [
        "A(1,6)  #ลำดับ input มีความสำคัญ"
      ],
      "execution_count": 40,
      "outputs": [
        {
          "output_type": "execute_result",
          "data": {
            "text/plain": [
              "7"
            ]
          },
          "metadata": {
            "tags": []
          },
          "execution_count": 40
        }
      ]
    },
    {
      "cell_type": "code",
      "metadata": {
        "id": "gvcbY8tmCxXy"
      },
      "source": [
        "def printlove(input1, input2 = 'Stat', input3 = 'KKU'):\n",
        "    print(f'{input1} love {input2} {input3}')"
      ],
      "execution_count": 47,
      "outputs": []
    },
    {
      "cell_type": "code",
      "metadata": {
        "colab": {
          "base_uri": "https://localhost:8080/"
        },
        "id": "Jm52FQmwDTm8",
        "outputId": "775cddfe-af7b-4228-ada8-28b1fda3bf76"
      },
      "source": [
        "printlove('Sasikarn')"
      ],
      "execution_count": 48,
      "outputs": [
        {
          "output_type": "stream",
          "text": [
            "Sasikarn love Stat KKU\n"
          ],
          "name": "stdout"
        }
      ]
    },
    {
      "cell_type": "code",
      "metadata": {
        "colab": {
          "base_uri": "https://localhost:8080/"
        },
        "id": "Sl0TQY-RDqcZ",
        "outputId": "969b1aa2-3950-4841-eed1-f4fdb345ba2a"
      },
      "source": [
        "printlove('Sasikarn','SI','Stat')"
      ],
      "execution_count": 49,
      "outputs": [
        {
          "output_type": "stream",
          "text": [
            "Sasikarn love SI Stat\n"
          ],
          "name": "stdout"
        }
      ]
    },
    {
      "cell_type": "code",
      "metadata": {
        "colab": {
          "base_uri": "https://localhost:8080/"
        },
        "id": "rACeZ43JECJ1",
        "outputId": "dc33480f-813a-453b-ff32-005cb631122b"
      },
      "source": [
        "printlove(input3 = 'Sasikarn',input2 = 'SI',input1 = 'Stat')"
      ],
      "execution_count": 51,
      "outputs": [
        {
          "output_type": "stream",
          "text": [
            "Stat love SI Sasikarn\n"
          ],
          "name": "stdout"
        }
      ]
    },
    {
      "cell_type": "markdown",
      "metadata": {
        "id": "voRCL65eFCTn"
      },
      "source": [
        "#### Quiz \n",
        "สร้างฟังก์ชัน\n",
        "\n",
        "\n",
        "*   วาดรูปบ้าน\n",
        "*   วาดรูปต้นไม้\n",
        "\n"
      ]
    },
    {
      "cell_type": "code",
      "metadata": {
        "id": "opvxnYwaGNIW"
      },
      "source": [
        "def draw_house():\n",
        "    print('      /\\      ')\n",
        "    print('     /  \\     ')\n",
        "    print('    /    \\    ')\n",
        "    print('   /      \\   ')\n",
        "    print('  /        \\  ')\n",
        "    print(' /          \\ ')\n",
        "    print('______________')\n",
        "    print('|            |')\n",
        "    print('|            |')\n",
        "    print('--------------')"
      ],
      "execution_count": 55,
      "outputs": []
    },
    {
      "cell_type": "code",
      "metadata": {
        "id": "gs1wxRBoGisr",
        "outputId": "77e600e6-2b3e-434d-88dc-47ae3fb9c446",
        "colab": {
          "base_uri": "https://localhost:8080/"
        }
      },
      "source": [
        "draw_house()"
      ],
      "execution_count": 56,
      "outputs": [
        {
          "output_type": "stream",
          "text": [
            "      /\\      \n",
            "     /  \\     \n",
            "    /    \\    \n",
            "   /      \\   \n",
            "  /        \\  \n",
            " /          \\ \n",
            "______________\n",
            "|            |\n",
            "|            |\n",
            "--------------\n"
          ],
          "name": "stdout"
        }
      ]
    },
    {
      "cell_type": "code",
      "metadata": {
        "id": "zQdt1-TeH4OM"
      },
      "source": [
        "def draw_tree():\n",
        "    print('      *      ')\n",
        "    print('     ***     ')\n",
        "    print('    *****    ')\n",
        "    print('      |      ')\n",
        "    print('      |      ')"
      ],
      "execution_count": 57,
      "outputs": []
    },
    {
      "cell_type": "code",
      "metadata": {
        "id": "CKtKltDZIPR0",
        "outputId": "5ad5b1e8-9382-439c-91ed-e2518216f087",
        "colab": {
          "base_uri": "https://localhost:8080/"
        }
      },
      "source": [
        "draw_tree()"
      ],
      "execution_count": 58,
      "outputs": [
        {
          "output_type": "stream",
          "text": [
            "      *      \n",
            "     ***     \n",
            "    *****    \n",
            "      |      \n",
            "      |      \n"
          ],
          "name": "stdout"
        }
      ]
    }
  ]
}