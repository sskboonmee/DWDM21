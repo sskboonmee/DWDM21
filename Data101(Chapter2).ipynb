{
  "nbformat": 4,
  "nbformat_minor": 0,
  "metadata": {
    "colab": {
      "name": "Data101(Chapter2).ipynb",
      "provenance": [],
      "authorship_tag": "ABX9TyPN5Jke9b/5ckjnxOHn5E8u",
      "include_colab_link": true
    },
    "kernelspec": {
      "name": "python3",
      "display_name": "Python 3"
    },
    "language_info": {
      "name": "python"
    }
  },
  "cells": [
    {
      "cell_type": "markdown",
      "metadata": {
        "id": "view-in-github",
        "colab_type": "text"
      },
      "source": [
        "<a href=\"https://colab.research.google.com/github/sskboonmee/DWDM21/blob/main/Data101(Chapter2).ipynb\" target=\"_parent\"><img src=\"https://colab.research.google.com/assets/colab-badge.svg\" alt=\"Open In Colab\"/></a>"
      ]
    },
    {
      "cell_type": "markdown",
      "metadata": {
        "id": "mKDeGaMIz3yv"
      },
      "source": [
        "ข้อความที่อยู่ใน Textbox จะเป็นภาษา markdown"
      ]
    },
    {
      "cell_type": "markdown",
      "metadata": {
        "id": "xa2R0vnhtn_v"
      },
      "source": [
        "ข้อดีหนึ่งของ ข้อดีหนึ่งของ Python คือมี package สำหรับทำงานต่างๆมากมาย \n",
        "\n",
        "ซึ่ง pandas เป็น package สำหรับการทำงานกับข้อมูลที่อยู่ในรูปแบบตาราง \n",
        "\n",
        "โดย Pandas จะเรียกตารางนั้นว่า dataframe"
      ]
    },
    {
      "cell_type": "code",
      "metadata": {
        "id": "Wu3ibE1fr6Zr"
      },
      "source": [
        "import pandas    #วิธีเรียกใช้ package คือ import ตามด้วยชื่อ package  #อันนี้คือ import แบบธรรมดา"
      ],
      "execution_count": 1,
      "outputs": []
    },
    {
      "cell_type": "code",
      "metadata": {
        "id": "tIC3QBQ9tBL-"
      },
      "source": [
        "import pandas as pd #เหมือนกับข้างบนแต่ว่าตั้งชื่อให้ package ที่โหลดมาใหม่ว่า่ pd "
      ],
      "execution_count": 3,
      "outputs": []
    },
    {
      "cell_type": "markdown",
      "metadata": {
        "id": "YmTBc_9Yus2I"
      },
      "source": [
        "ไฟล์ที่จะได้เจอเป็นหลักเลยคือ .csv  (CSV = comma separated values) เป็นไฟล์หลักที่เราจะได้ใช้วิชานี้ \n",
        "\n",
        "ข้อดี  ไฟล์ง่ายคนอ่านได้คอมอ่านได้ เก็บข้อมูลตารางที่เข้าใจง่ายๆ \n",
        "\n",
        "การแบ่งค่าใช้ comma ในการแบ่ง และใช้ enter แบ่งว่าเป็นข้อมูลคนละ record"
      ]
    },
    {
      "cell_type": "code",
      "metadata": {
        "id": "FLC_AXeoudHz"
      },
      "source": [
        "data_df = pd.read_csv('data.csv')"
      ],
      "execution_count": 4,
      "outputs": []
    },
    {
      "cell_type": "code",
      "metadata": {
        "colab": {
          "base_uri": "https://localhost:8080/",
          "height": 142
        },
        "id": "WcXC3ttHxXUf",
        "outputId": "ee717986-c921-4f92-f4e6-0fed0fb328b0"
      },
      "source": [
        "data_df"
      ],
      "execution_count": 5,
      "outputs": [
        {
          "output_type": "execute_result",
          "data": {
            "text/html": [
              "<div>\n",
              "<style scoped>\n",
              "    .dataframe tbody tr th:only-of-type {\n",
              "        vertical-align: middle;\n",
              "    }\n",
              "\n",
              "    .dataframe tbody tr th {\n",
              "        vertical-align: top;\n",
              "    }\n",
              "\n",
              "    .dataframe thead th {\n",
              "        text-align: right;\n",
              "    }\n",
              "</style>\n",
              "<table border=\"1\" class=\"dataframe\">\n",
              "  <thead>\n",
              "    <tr style=\"text-align: right;\">\n",
              "      <th></th>\n",
              "      <th>name</th>\n",
              "      <th>age</th>\n",
              "      <th>city</th>\n",
              "    </tr>\n",
              "  </thead>\n",
              "  <tbody>\n",
              "    <tr>\n",
              "      <th>0</th>\n",
              "      <td>Tom</td>\n",
              "      <td>27</td>\n",
              "      <td>Khon Kean</td>\n",
              "    </tr>\n",
              "    <tr>\n",
              "      <th>1</th>\n",
              "      <td>Paul</td>\n",
              "      <td>15</td>\n",
              "      <td>Bangkok</td>\n",
              "    </tr>\n",
              "    <tr>\n",
              "      <th>2</th>\n",
              "      <td>Sarah</td>\n",
              "      <td>49</td>\n",
              "      <td>London</td>\n",
              "    </tr>\n",
              "  </tbody>\n",
              "</table>\n",
              "</div>"
            ],
            "text/plain": [
              "    name  age       city\n",
              "0    Tom   27  Khon Kean\n",
              "1   Paul   15    Bangkok\n",
              "2  Sarah   49     London"
            ]
          },
          "metadata": {
            "tags": []
          },
          "execution_count": 5
        }
      ]
    },
    {
      "cell_type": "code",
      "metadata": {
        "colab": {
          "base_uri": "https://localhost:8080/",
          "height": 142
        },
        "id": "58b9Rr4JyD4c",
        "outputId": "dfc0db31-4fa8-4c21-9545-9a4dafd1783f"
      },
      "source": [
        "data_df2 = pandas.read_csv('data.csv')\n",
        "data_df2"
      ],
      "execution_count": 6,
      "outputs": [
        {
          "output_type": "execute_result",
          "data": {
            "text/html": [
              "<div>\n",
              "<style scoped>\n",
              "    .dataframe tbody tr th:only-of-type {\n",
              "        vertical-align: middle;\n",
              "    }\n",
              "\n",
              "    .dataframe tbody tr th {\n",
              "        vertical-align: top;\n",
              "    }\n",
              "\n",
              "    .dataframe thead th {\n",
              "        text-align: right;\n",
              "    }\n",
              "</style>\n",
              "<table border=\"1\" class=\"dataframe\">\n",
              "  <thead>\n",
              "    <tr style=\"text-align: right;\">\n",
              "      <th></th>\n",
              "      <th>name</th>\n",
              "      <th>age</th>\n",
              "      <th>city</th>\n",
              "    </tr>\n",
              "  </thead>\n",
              "  <tbody>\n",
              "    <tr>\n",
              "      <th>0</th>\n",
              "      <td>Tom</td>\n",
              "      <td>27</td>\n",
              "      <td>Khon Kean</td>\n",
              "    </tr>\n",
              "    <tr>\n",
              "      <th>1</th>\n",
              "      <td>Paul</td>\n",
              "      <td>15</td>\n",
              "      <td>Bangkok</td>\n",
              "    </tr>\n",
              "    <tr>\n",
              "      <th>2</th>\n",
              "      <td>Sarah</td>\n",
              "      <td>49</td>\n",
              "      <td>London</td>\n",
              "    </tr>\n",
              "  </tbody>\n",
              "</table>\n",
              "</div>"
            ],
            "text/plain": [
              "    name  age       city\n",
              "0    Tom   27  Khon Kean\n",
              "1   Paul   15    Bangkok\n",
              "2  Sarah   49     London"
            ]
          },
          "metadata": {
            "tags": []
          },
          "execution_count": 6
        }
      ]
    },
    {
      "cell_type": "markdown",
      "metadata": {
        "id": "DgtdsrBqylFm"
      },
      "source": [
        "#Basic Python\n",
        "## Variable \n",
        "ตัวแปร คือคล้ายๆกับกล่องที่ไว้ใส่ข้อมูล  ชื่อตัวแปรต้องเป็นตัวอักษรติดกันหมดเลยห้ามมีเว้นวรรค ถ้าอยากมีชื่อเพิ่มก็_ก่อน\n"
      ]
    },
    {
      "cell_type": "markdown",
      "metadata": {
        "id": "_XDDrQrc1nqT"
      },
      "source": [
        "ข้อกำหนดในการตั้งชื่อตัวแปร\n",
        "\n",
        "1.   ชื่อห้ามมีเว้นวรรค\n",
        "2.   (พยายาม)ใช้ภาษาอังกฤษ \n",
        "\n",
        "1.   ตัวเล็กกับตัวใหญ่แตกต่างกัน คือมันจะเป็นคนละตัวแปร (case sensitive)\n",
        "2.   ห้ามใช้ตัวเลขเป็นตัวหน้า\n",
        "\n",
        "\n",
        "\n",
        "\n"
      ]
    },
    {
      "cell_type": "code",
      "metadata": {
        "id": "DXvCLjH6yR3q"
      },
      "source": [
        "variable_a = 12    \n",
        "variable_b = 'abcde'  # ' เรียกว่า quote  ตัวที่มี quote = string\n",
        "variable_c = variable_a"
      ],
      "execution_count": 7,
      "outputs": []
    },
    {
      "cell_type": "code",
      "metadata": {
        "colab": {
          "base_uri": "https://localhost:8080/"
        },
        "id": "MpEcde4F0VnP",
        "outputId": "f5c9a793-daaf-4b11-a42a-1e0ffe52caf0"
      },
      "source": [
        "variable_a"
      ],
      "execution_count": 8,
      "outputs": [
        {
          "output_type": "execute_result",
          "data": {
            "text/plain": [
              "12"
            ]
          },
          "metadata": {
            "tags": []
          },
          "execution_count": 8
        }
      ]
    },
    {
      "cell_type": "code",
      "metadata": {
        "colab": {
          "base_uri": "https://localhost:8080/",
          "height": 35
        },
        "id": "6yMz5bLh0VTM",
        "outputId": "8c1485d3-7f3c-4c46-c0d9-4a9c6e72c360"
      },
      "source": [
        "variable_b"
      ],
      "execution_count": 9,
      "outputs": [
        {
          "output_type": "execute_result",
          "data": {
            "application/vnd.google.colaboratory.intrinsic+json": {
              "type": "string"
            },
            "text/plain": [
              "'abcde'"
            ]
          },
          "metadata": {
            "tags": []
          },
          "execution_count": 9
        }
      ]
    },
    {
      "cell_type": "code",
      "metadata": {
        "colab": {
          "base_uri": "https://localhost:8080/"
        },
        "id": "pVg7kjCF0U_1",
        "outputId": "86a64932-f373-4134-c9cb-a4cf5c4f32af"
      },
      "source": [
        "variable_c"
      ],
      "execution_count": 10,
      "outputs": [
        {
          "output_type": "execute_result",
          "data": {
            "text/plain": [
              "12"
            ]
          },
          "metadata": {
            "tags": []
          },
          "execution_count": 10
        }
      ]
    },
    {
      "cell_type": "markdown",
      "metadata": {
        "id": "DkfPZ0lK2ppt"
      },
      "source": [
        "ชื่อห้ามมีเว้นวรรค"
      ]
    },
    {
      "cell_type": "code",
      "metadata": {
        "id": "j1zycqlI0U8W"
      },
      "source": [
        "variable a = 6"
      ],
      "execution_count": null,
      "outputs": []
    },
    {
      "cell_type": "markdown",
      "metadata": {
        "id": "sWXjzorB2sgO"
      },
      "source": [
        "พยายามใช้ภาษาอังกฤษ"
      ]
    },
    {
      "cell_type": "code",
      "metadata": {
        "colab": {
          "base_uri": "https://localhost:8080/"
        },
        "id": "4zLfuUnx2PnV",
        "outputId": "00daa376-e590-474f-8bef-cf69b01f53ba"
      },
      "source": [
        "ตัวแปร = 3   #colab ใช้ชื่อภาษาไทยได้แต่ไม่ควรใช้\n",
        "ตัวแปร"
      ],
      "execution_count": 12,
      "outputs": [
        {
          "output_type": "execute_result",
          "data": {
            "text/plain": [
              "3"
            ]
          },
          "metadata": {
            "tags": []
          },
          "execution_count": 12
        }
      ]
    },
    {
      "cell_type": "markdown",
      "metadata": {
        "id": "l6bP5d7-24qA"
      },
      "source": [
        "ตัวเล็กกับตัวใหญ่แตกต่างกัน (case sensitive)"
      ]
    },
    {
      "cell_type": "code",
      "metadata": {
        "colab": {
          "base_uri": "https://localhost:8080/"
        },
        "id": "V3_255at2-CN",
        "outputId": "3a43091b-6b10-4e0c-c278-5d83106b056d"
      },
      "source": [
        "v_a = 1\n",
        "V_a = 2\n",
        "print(v_a)\n",
        "print(V_a)"
      ],
      "execution_count": 11,
      "outputs": [
        {
          "output_type": "stream",
          "text": [
            "1\n",
            "2\n"
          ],
          "name": "stdout"
        }
      ]
    },
    {
      "cell_type": "code",
      "metadata": {
        "colab": {
          "base_uri": "https://localhost:8080/"
        },
        "id": "VEcmmLl43Tdr",
        "outputId": "f66b44e2-8bab-4ae6-9730-48acf905791a"
      },
      "source": [
        "v_a = 1\n",
        "v_a = 2\n",
        "print(v_a)\n",
        "print(v_a)"
      ],
      "execution_count": 13,
      "outputs": [
        {
          "output_type": "stream",
          "text": [
            "2\n",
            "2\n"
          ],
          "name": "stdout"
        }
      ]
    },
    {
      "cell_type": "markdown",
      "metadata": {
        "id": "978gH5R_3lrX"
      },
      "source": [
        "ห้ามใช้ตัวเลขเป็นชื่อตัวแปร"
      ]
    },
    {
      "cell_type": "code",
      "metadata": {
        "colab": {
          "base_uri": "https://localhost:8080/",
          "height": 130
        },
        "id": "JSe5qieR3pSn",
        "outputId": "db524d2b-04c8-4b92-c1f2-84f0034befbc"
      },
      "source": [
        "2 = 1 "
      ],
      "execution_count": 14,
      "outputs": [
        {
          "output_type": "error",
          "ename": "SyntaxError",
          "evalue": "ignored",
          "traceback": [
            "\u001b[0;36m  File \u001b[0;32m\"<ipython-input-14-45a86d54c6f1>\"\u001b[0;36m, line \u001b[0;32m1\u001b[0m\n\u001b[0;31m    2 = 1\u001b[0m\n\u001b[0m          ^\u001b[0m\n\u001b[0;31mSyntaxError\u001b[0m\u001b[0;31m:\u001b[0m can't assign to literal\n"
          ]
        }
      ]
    },
    {
      "cell_type": "code",
      "metadata": {
        "colab": {
          "base_uri": "https://localhost:8080/",
          "height": 130
        },
        "id": "4CNazNUw3poe",
        "outputId": "a1ff8434-ad57-4487-dbd2-4b9529612c8c"
      },
      "source": [
        " 2ab = 1 "
      ],
      "execution_count": 15,
      "outputs": [
        {
          "output_type": "error",
          "ename": "SyntaxError",
          "evalue": "ignored",
          "traceback": [
            "\u001b[0;36m  File \u001b[0;32m\"<ipython-input-15-9c797b462e5c>\"\u001b[0;36m, line \u001b[0;32m1\u001b[0m\n\u001b[0;31m    2ab = 1\u001b[0m\n\u001b[0m      ^\u001b[0m\n\u001b[0;31mSyntaxError\u001b[0m\u001b[0;31m:\u001b[0m invalid syntax\n"
          ]
        }
      ]
    },
    {
      "cell_type": "markdown",
      "metadata": {
        "id": "QoF5fe5n3wuA"
      },
      "source": [
        "แต่ใช้ตัวเลขเป็นตัวหลังไม่มีปัญหา"
      ]
    },
    {
      "cell_type": "code",
      "metadata": {
        "colab": {
          "base_uri": "https://localhost:8080/"
        },
        "id": "fObZj-3H30YL",
        "outputId": "4deed096-2ce4-4b11-9d82-6210cc8db596"
      },
      "source": [
        "variable = 1\n",
        "print(variable)"
      ],
      "execution_count": 16,
      "outputs": [
        {
          "output_type": "stream",
          "text": [
            "1\n"
          ],
          "name": "stdout"
        }
      ]
    },
    {
      "cell_type": "code",
      "metadata": {
        "id": "05F88kcd4BSg"
      },
      "source": [
        "variable_a = 12    \n",
        "variable_b = 'abcde'  # ' เรียกว่า quote  ตัวที่มี quote = string\n",
        "variable_c = variable_a\n",
        "variable_d = -41.2\n",
        "variable_4 = \"KKU\" #\"\" เรียก double qoute ก็คือ string เลือใช้ได้เลยว่าจะใช้ ' \" "
      ],
      "execution_count": 17,
      "outputs": []
    },
    {
      "cell_type": "code",
      "metadata": {
        "colab": {
          "base_uri": "https://localhost:8080/"
        },
        "id": "N1xvH2uZ4gD7",
        "outputId": "3e77d4be-7782-46bd-c9b2-8c315b120f93"
      },
      "source": [
        "variable_x = variable_c + variable_d \n",
        "print(variable_x)"
      ],
      "execution_count": 18,
      "outputs": [
        {
          "output_type": "stream",
          "text": [
            "-29.200000000000003\n"
          ],
          "name": "stdout"
        }
      ]
    },
    {
      "cell_type": "code",
      "metadata": {
        "id": "8ntgoJeX6Hhl"
      },
      "source": [
        "variable a + variable_b"
      ],
      "execution_count": null,
      "outputs": []
    },
    {
      "cell_type": "code",
      "metadata": {
        "colab": {
          "base_uri": "https://localhost:8080/"
        },
        "id": "8SfnK1Q76XyP",
        "outputId": "5942986c-32cd-46eb-808c-cf78f5d62ad4"
      },
      "source": [
        "print(variable_b + variable_4)"
      ],
      "execution_count": 19,
      "outputs": [
        {
          "output_type": "stream",
          "text": [
            "abcdeKKU\n"
          ],
          "name": "stdout"
        }
      ]
    },
    {
      "cell_type": "markdown",
      "metadata": {
        "id": "BqQvcdaA7BRc"
      },
      "source": [
        "##Casting  int()  float() str()\n",
        "\n",
        "คือเราสามารถเปลี่ยนชนิดของตัวแปรได้ "
      ]
    },
    {
      "cell_type": "code",
      "metadata": {
        "colab": {
          "base_uri": "https://localhost:8080/"
        },
        "id": "CDV8YdZL7Vpf",
        "outputId": "78a0b45e-a9cf-4d5b-907a-ed60219e730e"
      },
      "source": [
        "print(variable_x)\n",
        "print(int(variable_x))"
      ],
      "execution_count": 20,
      "outputs": [
        {
          "output_type": "stream",
          "text": [
            "-29.200000000000003\n",
            "-29\n"
          ],
          "name": "stdout"
        }
      ]
    },
    {
      "cell_type": "code",
      "metadata": {
        "colab": {
          "base_uri": "https://localhost:8080/"
        },
        "id": "NaMc5Jcg7pU1",
        "outputId": "9fbd2d97-4c8a-4050-9c0f-55a9460ed836"
      },
      "source": [
        "V_X = str(variable_x)\n",
        "print(V_X)"
      ],
      "execution_count": 21,
      "outputs": [
        {
          "output_type": "stream",
          "text": [
            "-29.200000000000003\n"
          ],
          "name": "stdout"
        }
      ]
    },
    {
      "cell_type": "code",
      "metadata": {
        "colab": {
          "base_uri": "https://localhost:8080/",
          "height": 163
        },
        "id": "WO7bSCy771wS",
        "outputId": "da5f93fb-2e1b-4c59-e1ec-a66b34a9e5d5"
      },
      "source": [
        "V_X + variable_a  #ตัวอข้างหน้าเป็น str ไม่สามารถเอาตัวเลขมาบวกได้"
      ],
      "execution_count": 22,
      "outputs": [
        {
          "output_type": "error",
          "ename": "TypeError",
          "evalue": "ignored",
          "traceback": [
            "\u001b[0;31m---------------------------------------------------------------------------\u001b[0m",
            "\u001b[0;31mTypeError\u001b[0m                                 Traceback (most recent call last)",
            "\u001b[0;32m<ipython-input-22-d83c0918f5c6>\u001b[0m in \u001b[0;36m<module>\u001b[0;34m()\u001b[0m\n\u001b[0;32m----> 1\u001b[0;31m \u001b[0mV_X\u001b[0m \u001b[0;34m+\u001b[0m \u001b[0mvariable_a\u001b[0m\u001b[0;34m\u001b[0m\u001b[0;34m\u001b[0m\u001b[0m\n\u001b[0m",
            "\u001b[0;31mTypeError\u001b[0m: can only concatenate str (not \"int\") to str"
          ]
        }
      ]
    },
    {
      "cell_type": "code",
      "metadata": {
        "colab": {
          "base_uri": "https://localhost:8080/",
          "height": 163
        },
        "id": "lM72Acfn8AT_",
        "outputId": "5bd0a3a4-3b55-4dfd-be72-222dd0452bfc"
      },
      "source": [
        "variable_a + V_X  #ตัวเลขก็ไม่สามารถเอา str มาบวกได้เหมือนกัน"
      ],
      "execution_count": 23,
      "outputs": [
        {
          "output_type": "error",
          "ename": "TypeError",
          "evalue": "ignored",
          "traceback": [
            "\u001b[0;31m---------------------------------------------------------------------------\u001b[0m",
            "\u001b[0;31mTypeError\u001b[0m                                 Traceback (most recent call last)",
            "\u001b[0;32m<ipython-input-23-9c7fa6bc8848>\u001b[0m in \u001b[0;36m<module>\u001b[0;34m()\u001b[0m\n\u001b[0;32m----> 1\u001b[0;31m \u001b[0mvariable_a\u001b[0m \u001b[0;34m+\u001b[0m \u001b[0mV_X\u001b[0m\u001b[0;34m\u001b[0m\u001b[0;34m\u001b[0m\u001b[0m\n\u001b[0m",
            "\u001b[0;31mTypeError\u001b[0m: unsupported operand type(s) for +: 'int' and 'str'"
          ]
        }
      ]
    },
    {
      "cell_type": "code",
      "metadata": {
        "colab": {
          "base_uri": "https://localhost:8080/",
          "height": 35
        },
        "id": "02t95nIn8KhI",
        "outputId": "65faf134-0271-439e-fbc7-18692a901c04"
      },
      "source": [
        "V_X"
      ],
      "execution_count": 24,
      "outputs": [
        {
          "output_type": "execute_result",
          "data": {
            "application/vnd.google.colaboratory.intrinsic+json": {
              "type": "string"
            },
            "text/plain": [
              "'-29.200000000000003'"
            ]
          },
          "metadata": {
            "tags": []
          },
          "execution_count": 24
        }
      ]
    },
    {
      "cell_type": "code",
      "metadata": {
        "colab": {
          "base_uri": "https://localhost:8080/"
        },
        "id": "rzmTLlfC8Kdp",
        "outputId": "6a960d15-bb38-4529-e4c4-d57c26f982f1"
      },
      "source": [
        "float(V_X)"
      ],
      "execution_count": 25,
      "outputs": [
        {
          "output_type": "execute_result",
          "data": {
            "text/plain": [
              "-29.200000000000003"
            ]
          },
          "metadata": {
            "tags": []
          },
          "execution_count": 25
        }
      ]
    },
    {
      "cell_type": "markdown",
      "metadata": {
        "id": "nQQTMUe_9Nel"
      },
      "source": [
        "##Data Structure\n",
        "###list() "
      ]
    },
    {
      "cell_type": "code",
      "metadata": {
        "id": "c7BYxtBa8KVg"
      },
      "source": [
        "list_a = [1,2,0.2,'abs' ]  #[ ] square brackets\n",
        "list_b = [2,'xyz' ,list_a, [1,2,0.0]]"
      ],
      "execution_count": 26,
      "outputs": []
    },
    {
      "cell_type": "code",
      "metadata": {
        "colab": {
          "base_uri": "https://localhost:8080/"
        },
        "id": "F4gu9jbT98Jl",
        "outputId": "a8e4b86d-c643-44b7-fd29-0c6dadef100a"
      },
      "source": [
        "list_a"
      ],
      "execution_count": 27,
      "outputs": [
        {
          "output_type": "execute_result",
          "data": {
            "text/plain": [
              "[1, 2, 0.2, 'abs']"
            ]
          },
          "metadata": {
            "tags": []
          },
          "execution_count": 27
        }
      ]
    },
    {
      "cell_type": "code",
      "metadata": {
        "colab": {
          "base_uri": "https://localhost:8080/"
        },
        "id": "5HCuiw799_ro",
        "outputId": "36634b3a-89e1-4049-ddc9-36ed04585f22"
      },
      "source": [
        "list_b"
      ],
      "execution_count": 28,
      "outputs": [
        {
          "output_type": "execute_result",
          "data": {
            "text/plain": [
              "[2, 'xyz', [1, 2, 0.2, 'abs'], [1, 2, 0.0]]"
            ]
          },
          "metadata": {
            "tags": []
          },
          "execution_count": 28
        }
      ]
    },
    {
      "cell_type": "code",
      "metadata": {
        "colab": {
          "base_uri": "https://localhost:8080/"
        },
        "id": "8Koj9_dJ-LSx",
        "outputId": "6cb608a2-1191-41b3-f6f5-d69a3dfc8401"
      },
      "source": [
        "len(list_b) #len = ความยาวดูสมาขิกใน list"
      ],
      "execution_count": 30,
      "outputs": [
        {
          "output_type": "execute_result",
          "data": {
            "text/plain": [
              "4"
            ]
          },
          "metadata": {
            "tags": []
          },
          "execution_count": 30
        }
      ]
    },
    {
      "cell_type": "code",
      "metadata": {
        "colab": {
          "base_uri": "https://localhost:8080/"
        },
        "id": "cl7sZ9h7-ULt",
        "outputId": "7c4f2a27-a441-47c1-bd51-5b729a88bc41"
      },
      "source": [
        "list_b[3] #ชี้สมาชิกในลิสต์ได้เพื่อดึงค่ามันออกมา"
      ],
      "execution_count": 31,
      "outputs": [
        {
          "output_type": "execute_result",
          "data": {
            "text/plain": [
              "[1, 2, 0.0]"
            ]
          },
          "metadata": {
            "tags": []
          },
          "execution_count": 31
        }
      ]
    },
    {
      "cell_type": "code",
      "metadata": {
        "colab": {
          "base_uri": "https://localhost:8080/"
        },
        "id": "za16k1_1-eW2",
        "outputId": "88a0e669-00af-4bac-bf21-265c348520a3"
      },
      "source": [
        "list_b[3][1]"
      ],
      "execution_count": 33,
      "outputs": [
        {
          "output_type": "execute_result",
          "data": {
            "text/plain": [
              "2"
            ]
          },
          "metadata": {
            "tags": []
          },
          "execution_count": 33
        }
      ]
    },
    {
      "cell_type": "markdown",
      "metadata": {
        "id": "iNpaeVsT-4w6"
      },
      "source": [
        "string คือ list ของตัวหนังสือ"
      ]
    },
    {
      "cell_type": "code",
      "metadata": {
        "id": "1vXBJ8Lg-_Wo"
      },
      "source": [
        "a = 'Stat KKU'"
      ],
      "execution_count": 34,
      "outputs": []
    },
    {
      "cell_type": "code",
      "metadata": {
        "colab": {
          "base_uri": "https://localhost:8080/",
          "height": 35
        },
        "id": "bjteqzhm_K3_",
        "outputId": "d597eb0f-f187-4b2e-b64f-ff109c490a6f"
      },
      "source": [
        "a[4]"
      ],
      "execution_count": 35,
      "outputs": [
        {
          "output_type": "execute_result",
          "data": {
            "application/vnd.google.colaboratory.intrinsic+json": {
              "type": "string"
            },
            "text/plain": [
              "' '"
            ]
          },
          "metadata": {
            "tags": []
          },
          "execution_count": 35
        }
      ]
    },
    {
      "cell_type": "markdown",
      "metadata": {
        "id": "KNsG-Iwh_f54"
      },
      "source": [
        "###วิธีสร้าง list ว่าง"
      ]
    },
    {
      "cell_type": "code",
      "metadata": {
        "id": "4hzruuqs_mXt"
      },
      "source": [
        "list_c = list()  #แบบที่1\n",
        "list_d = []     #แบบที่2"
      ],
      "execution_count": 38,
      "outputs": []
    },
    {
      "cell_type": "code",
      "metadata": {
        "colab": {
          "base_uri": "https://localhost:8080/"
        },
        "id": "-m2vJKj0_3ic",
        "outputId": "88c8638f-d782-4e65-c2f3-0f136b5350db"
      },
      "source": [
        "list_c"
      ],
      "execution_count": 39,
      "outputs": [
        {
          "output_type": "execute_result",
          "data": {
            "text/plain": [
              "[]"
            ]
          },
          "metadata": {
            "tags": []
          },
          "execution_count": 39
        }
      ]
    },
    {
      "cell_type": "code",
      "metadata": {
        "colab": {
          "base_uri": "https://localhost:8080/"
        },
        "id": "Id9oX0ML_68c",
        "outputId": "45f22454-a99b-4638-d831-cf2bc80f465d"
      },
      "source": [
        "list_d"
      ],
      "execution_count": 40,
      "outputs": [
        {
          "output_type": "execute_result",
          "data": {
            "text/plain": [
              "[]"
            ]
          },
          "metadata": {
            "tags": []
          },
          "execution_count": 40
        }
      ]
    },
    {
      "cell_type": "markdown",
      "metadata": {
        "id": "AQuHK_zKAT-a"
      },
      "source": [
        "เติมค่าลงไปใน list (.append())"
      ]
    },
    {
      "cell_type": "code",
      "metadata": {
        "id": "uY0uf6T0BBWJ"
      },
      "source": [
        "list_d.append('a')"
      ],
      "execution_count": 51,
      "outputs": []
    },
    {
      "cell_type": "code",
      "metadata": {
        "colab": {
          "base_uri": "https://localhost:8080/"
        },
        "id": "DE6eIh2eBC02",
        "outputId": "97c1a4af-9a93-429b-de2a-ab642f4fa636"
      },
      "source": [
        "list_d"
      ],
      "execution_count": 52,
      "outputs": [
        {
          "output_type": "execute_result",
          "data": {
            "text/plain": [
              "['a', '56', 56, 'a', 56, 'a']"
            ]
          },
          "metadata": {
            "tags": []
          },
          "execution_count": 52
        }
      ]
    },
    {
      "cell_type": "code",
      "metadata": {
        "id": "uZNHlWWzBEMU"
      },
      "source": [
        "list_d.append(56)"
      ],
      "execution_count": 53,
      "outputs": []
    },
    {
      "cell_type": "code",
      "metadata": {
        "colab": {
          "base_uri": "https://localhost:8080/"
        },
        "id": "LE-CNK2DBE39",
        "outputId": "aed3b7d1-098c-4c3c-b455-7c6adf8d2c8c"
      },
      "source": [
        "list_d"
      ],
      "execution_count": 54,
      "outputs": [
        {
          "output_type": "execute_result",
          "data": {
            "text/plain": [
              "['a', '56', 56, 'a', 56, 'a', 56]"
            ]
          },
          "metadata": {
            "tags": []
          },
          "execution_count": 54
        }
      ]
    },
    {
      "cell_type": "markdown",
      "metadata": {
        "id": "jzt0BecMBHt1"
      },
      "source": [
        "การชี้ค่าใน list (indexing)\n",
        "\n",
        "1.   ใช้ลำดับในการชี้\n",
        "2.   ลำดับเริ่มจาก 0\n",
        "3.   สามารถชี้จากข้างหลังโดยใช้ negative index\n",
        "\n",
        "\n",
        "\n",
        "\n"
      ]
    },
    {
      "cell_type": "code",
      "metadata": {
        "colab": {
          "base_uri": "https://localhost:8080/"
        },
        "id": "96n7_JwiBgUQ",
        "outputId": "86ae5dce-47ca-478c-84d1-3582619c53aa"
      },
      "source": [
        "list_b"
      ],
      "execution_count": 55,
      "outputs": [
        {
          "output_type": "execute_result",
          "data": {
            "text/plain": [
              "[2, 'xyz', [1, 2, 0.2, 'abs'], [1, 2, 0.0]]"
            ]
          },
          "metadata": {
            "tags": []
          },
          "execution_count": 55
        }
      ]
    },
    {
      "cell_type": "code",
      "metadata": {
        "colab": {
          "base_uri": "https://localhost:8080/"
        },
        "id": "vYO1YfhqBizv",
        "outputId": "139e0527-0d5b-47ea-9393-a5e7e4e8cf0d"
      },
      "source": [
        "list_b[-1]"
      ],
      "execution_count": 56,
      "outputs": [
        {
          "output_type": "execute_result",
          "data": {
            "text/plain": [
              "[1, 2, 0.0]"
            ]
          },
          "metadata": {
            "tags": []
          },
          "execution_count": 56
        }
      ]
    },
    {
      "cell_type": "markdown",
      "metadata": {
        "id": "kqvkjZegCF2N"
      },
      "source": [
        "### list slicing"
      ]
    },
    {
      "cell_type": "code",
      "metadata": {
        "id": "QI5EP5dCCR09"
      },
      "source": [
        "list_ex = [1,2,3,5,6,8,-1,20,50,0]"
      ],
      "execution_count": 57,
      "outputs": []
    },
    {
      "cell_type": "markdown",
      "metadata": {
        "id": "tUi2eK7YC5Q8"
      },
      "source": [
        "เราจะตัด list โดยเอาตั้งแต่ [ตัวหน้า:ตัวก่อนตัวหลัง] \n",
        "ถ้าเป็นสัญลักษณ์คณิตศาสตร์  [ตัวหน้า,ตัวหลัง] -> [ตัวหน้า,ตัวหลัง)\n",
        "ไม่ระบุด้ายท้าก็คือเอาถึงตัวท้ายไม่ระบุด้านหน้าก็คือเอาตั้งแต่ตัวหน้า"
      ]
    },
    {
      "cell_type": "code",
      "metadata": {
        "colab": {
          "base_uri": "https://localhost:8080/"
        },
        "id": "VX9zWVPCCcuA",
        "outputId": "3b0940a6-5974-4e72-af4b-710c63e05faa"
      },
      "source": [
        "list_ex[1:6]  #: ใช้  colon ในการตัด "
      ],
      "execution_count": 58,
      "outputs": [
        {
          "output_type": "execute_result",
          "data": {
            "text/plain": [
              "[2, 3, 5, 6, 8]"
            ]
          },
          "metadata": {
            "tags": []
          },
          "execution_count": 58
        }
      ]
    },
    {
      "cell_type": "code",
      "metadata": {
        "colab": {
          "base_uri": "https://localhost:8080/"
        },
        "id": "ZpwW6AaHDX2E",
        "outputId": "278386a5-59a1-4d73-90ad-41c9896949e2"
      },
      "source": [
        "list_ex[4:]  #เว้นข้างหลังเอาไว้แสดงว่าเอาไปจนถึงตัวสุดท้าย"
      ],
      "execution_count": 59,
      "outputs": [
        {
          "output_type": "execute_result",
          "data": {
            "text/plain": [
              "[6, 8, -1, 20, 50, 0]"
            ]
          },
          "metadata": {
            "tags": []
          },
          "execution_count": 59
        }
      ]
    },
    {
      "cell_type": "code",
      "metadata": {
        "colab": {
          "base_uri": "https://localhost:8080/"
        },
        "id": "nhG9mQRBDgpH",
        "outputId": "9187a2eb-bbb9-4fa9-9b56-a2d5c445c87e"
      },
      "source": [
        "list_ex[:6]  #เว้นข้างหน้าคือเอาตั้งแต่ตัวแรก "
      ],
      "execution_count": 60,
      "outputs": [
        {
          "output_type": "execute_result",
          "data": {
            "text/plain": [
              "[1, 2, 3, 5, 6, 8]"
            ]
          },
          "metadata": {
            "tags": []
          },
          "execution_count": 60
        }
      ]
    },
    {
      "cell_type": "code",
      "metadata": {
        "colab": {
          "base_uri": "https://localhost:8080/"
        },
        "id": "dQItRKOUD8Hy",
        "outputId": "70bc9ed9-d8ac-451e-840b-bed6109fbbab"
      },
      "source": [
        "list_ex[:-1:]"
      ],
      "execution_count": 61,
      "outputs": [
        {
          "output_type": "execute_result",
          "data": {
            "text/plain": [
              "[1, 2, 3, 5, 6, 8, -1, 20, 50]"
            ]
          },
          "metadata": {
            "tags": []
          },
          "execution_count": 61
        }
      ]
    },
    {
      "cell_type": "markdown",
      "metadata": {
        "id": "bqTjExDiERFT"
      },
      "source": [
        "[จุดเริ่มต้น:จุดสุดท้าย:step]"
      ]
    },
    {
      "cell_type": "code",
      "metadata": {
        "colab": {
          "base_uri": "https://localhost:8080/"
        },
        "id": "upBKBfoDEZEG",
        "outputId": "1ea02884-175f-4a4a-f292-91a9dd79f97c"
      },
      "source": [
        "list_ex"
      ],
      "execution_count": 62,
      "outputs": [
        {
          "output_type": "execute_result",
          "data": {
            "text/plain": [
              "[1, 2, 3, 5, 6, 8, -1, 20, 50, 0]"
            ]
          },
          "metadata": {
            "tags": []
          },
          "execution_count": 62
        }
      ]
    },
    {
      "cell_type": "code",
      "metadata": {
        "colab": {
          "base_uri": "https://localhost:8080/"
        },
        "id": "hvD2d3i3EcEX",
        "outputId": "b1c92ef4-1e05-4e2b-eaaf-25e5c1a5119b"
      },
      "source": [
        "list_ex[::2]  #ขอบเขตด้านหน้าขอบเขตด้านหลังและstep"
      ],
      "execution_count": 63,
      "outputs": [
        {
          "output_type": "execute_result",
          "data": {
            "text/plain": [
              "[1, 3, 6, -1, 50]"
            ]
          },
          "metadata": {
            "tags": []
          },
          "execution_count": 63
        }
      ]
    },
    {
      "cell_type": "code",
      "metadata": {
        "colab": {
          "base_uri": "https://localhost:8080/"
        },
        "id": "Ah-ET2bNElhq",
        "outputId": "d1cff5a4-36b9-451d-a348-e0becf485ac2"
      },
      "source": [
        "list_ex[::-1]  #กลับlist ที่กระโดด การกลับlistนั่นเองอิอิ"
      ],
      "execution_count": 64,
      "outputs": [
        {
          "output_type": "execute_result",
          "data": {
            "text/plain": [
              "[0, 50, 20, -1, 8, 6, 5, 3, 2, 1]"
            ]
          },
          "metadata": {
            "tags": []
          },
          "execution_count": 64
        }
      ]
    },
    {
      "cell_type": "code",
      "metadata": {
        "colab": {
          "base_uri": "https://localhost:8080/",
          "height": 35
        },
        "id": "7ya7fBeEE-3l",
        "outputId": "47651f39-ac19-449f-9403-991219fea83f"
      },
      "source": [
        "a"
      ],
      "execution_count": 65,
      "outputs": [
        {
          "output_type": "execute_result",
          "data": {
            "application/vnd.google.colaboratory.intrinsic+json": {
              "type": "string"
            },
            "text/plain": [
              "'Stat KKU'"
            ]
          },
          "metadata": {
            "tags": []
          },
          "execution_count": 65
        }
      ]
    },
    {
      "cell_type": "code",
      "metadata": {
        "colab": {
          "base_uri": "https://localhost:8080/",
          "height": 35
        },
        "id": "HW81g9jHFBq-",
        "outputId": "88c902a8-c58b-49fc-aa7a-da0cff296e17"
      },
      "source": [
        "a[:4]"
      ],
      "execution_count": 66,
      "outputs": [
        {
          "output_type": "execute_result",
          "data": {
            "application/vnd.google.colaboratory.intrinsic+json": {
              "type": "string"
            },
            "text/plain": [
              "'Stat'"
            ]
          },
          "metadata": {
            "tags": []
          },
          "execution_count": 66
        }
      ]
    },
    {
      "cell_type": "code",
      "metadata": {
        "colab": {
          "base_uri": "https://localhost:8080/",
          "height": 35
        },
        "id": "WtdqmqccFtON",
        "outputId": "a063afc2-8e1d-41b4-f169-9dfddcf1aead"
      },
      "source": [
        "a[5:]"
      ],
      "execution_count": 67,
      "outputs": [
        {
          "output_type": "execute_result",
          "data": {
            "application/vnd.google.colaboratory.intrinsic+json": {
              "type": "string"
            },
            "text/plain": [
              "'KKU'"
            ]
          },
          "metadata": {
            "tags": []
          },
          "execution_count": 67
        }
      ]
    },
    {
      "cell_type": "code",
      "metadata": {
        "colab": {
          "base_uri": "https://localhost:8080/",
          "height": 35
        },
        "id": "aDXumo-CF3Sm",
        "outputId": "436523d3-71e4-4bf2-e69c-721ccfa93557"
      },
      "source": [
        "a[-3:]"
      ],
      "execution_count": 68,
      "outputs": [
        {
          "output_type": "execute_result",
          "data": {
            "application/vnd.google.colaboratory.intrinsic+json": {
              "type": "string"
            },
            "text/plain": [
              "'KKU'"
            ]
          },
          "metadata": {
            "tags": []
          },
          "execution_count": 68
        }
      ]
    },
    {
      "cell_type": "code",
      "metadata": {
        "colab": {
          "base_uri": "https://localhost:8080/",
          "height": 35
        },
        "id": "PaDweoLOF76R",
        "outputId": "f487a831-84be-411e-a1b5-96db9fa24cf2"
      },
      "source": [
        "a[5:8]"
      ],
      "execution_count": 69,
      "outputs": [
        {
          "output_type": "execute_result",
          "data": {
            "application/vnd.google.colaboratory.intrinsic+json": {
              "type": "string"
            },
            "text/plain": [
              "'KKU'"
            ]
          },
          "metadata": {
            "tags": []
          },
          "execution_count": 69
        }
      ]
    },
    {
      "cell_type": "code",
      "metadata": {
        "colab": {
          "base_uri": "https://localhost:8080/",
          "height": 35
        },
        "id": "5yu8t73aGGbU",
        "outputId": "09fe2754-f8cb-46ad-e23c-c76fb9bfd108"
      },
      "source": [
        "a[5::]"
      ],
      "execution_count": 70,
      "outputs": [
        {
          "output_type": "execute_result",
          "data": {
            "application/vnd.google.colaboratory.intrinsic+json": {
              "type": "string"
            },
            "text/plain": [
              "'KKU'"
            ]
          },
          "metadata": {
            "tags": []
          },
          "execution_count": 70
        }
      ]
    },
    {
      "cell_type": "code",
      "metadata": {
        "colab": {
          "base_uri": "https://localhost:8080/",
          "height": 35
        },
        "id": "_Ilc3IvcGJQM",
        "outputId": "524f0162-12e3-4ff4-e273-11a080f85468"
      },
      "source": [
        "a[-3::]"
      ],
      "execution_count": 71,
      "outputs": [
        {
          "output_type": "execute_result",
          "data": {
            "application/vnd.google.colaboratory.intrinsic+json": {
              "type": "string"
            },
            "text/plain": [
              "'KKU'"
            ]
          },
          "metadata": {
            "tags": []
          },
          "execution_count": 71
        }
      ]
    },
    {
      "cell_type": "markdown",
      "metadata": {
        "id": "XS1Oh5miGnel"
      },
      "source": [
        "### list + list"
      ]
    },
    {
      "cell_type": "code",
      "metadata": {
        "colab": {
          "base_uri": "https://localhost:8080/"
        },
        "id": "lnCE9vjoGtlM",
        "outputId": "baefbe69-d655-4834-9d12-92dfb573d09c"
      },
      "source": [
        "print(list_a)\n",
        "print(list_b)"
      ],
      "execution_count": 72,
      "outputs": [
        {
          "output_type": "stream",
          "text": [
            "[1, 2, 0.2, 'abs']\n",
            "[2, 'xyz', [1, 2, 0.2, 'abs'], [1, 2, 0.0]]\n"
          ],
          "name": "stdout"
        }
      ]
    },
    {
      "cell_type": "code",
      "metadata": {
        "colab": {
          "base_uri": "https://localhost:8080/"
        },
        "id": "3YS1OAQbGug8",
        "outputId": "506650bb-c9ba-4f83-b1cf-bff05a0b54cd"
      },
      "source": [
        "list_a + list_b"
      ],
      "execution_count": 73,
      "outputs": [
        {
          "output_type": "execute_result",
          "data": {
            "text/plain": [
              "[1, 2, 0.2, 'abs', 2, 'xyz', [1, 2, 0.2, 'abs'], [1, 2, 0.0]]"
            ]
          },
          "metadata": {
            "tags": []
          },
          "execution_count": 73
        }
      ]
    },
    {
      "cell_type": "markdown",
      "metadata": {
        "id": "yGXexZLVLO_t"
      },
      "source": [
        "format string"
      ]
    },
    {
      "cell_type": "markdown",
      "metadata": {
        "id": "gnC2tymOL4yC"
      },
      "source": [
        "f'string{ตัวแปร}'"
      ]
    },
    {
      "cell_type": "code",
      "metadata": {
        "colab": {
          "base_uri": "https://localhost:8080/",
          "height": 35
        },
        "id": "zCqFlKVRLRzV",
        "outputId": "4fcb3d26-57ee-4f6e-e9b7-2b46eea1f043"
      },
      "source": [
        "f'ตัวแปร list_a มีค่าคือ {list_a} '\n"
      ],
      "execution_count": 77,
      "outputs": [
        {
          "output_type": "execute_result",
          "data": {
            "application/vnd.google.colaboratory.intrinsic+json": {
              "type": "string"
            },
            "text/plain": [
              "\"ตัวแปร list_a มีค่าคือ [1, 2, 0.2, 'abs'] \""
            ]
          },
          "metadata": {
            "tags": []
          },
          "execution_count": 77
        }
      ]
    },
    {
      "cell_type": "markdown",
      "metadata": {
        "id": "LhUcfvXcHNUK"
      },
      "source": [
        "##Loop\n",
        "       python\n",
        "for ตัวแปรที่จะรับค่าจากลิสต์  in ลิสต์ที่จะนำมาวนลูป:\n",
        "  do something\n",
        "  \n",
        "การที่ทำอะไรซ้ำๆอาจเปลี่ยนเล็กน้อยแต่วนซ้ำไปเรื่อยๆ\n"
      ]
    },
    {
      "cell_type": "code",
      "metadata": {
        "colab": {
          "base_uri": "https://localhost:8080/"
        },
        "id": "dKywJjw-JoPM",
        "outputId": "937ea167-6d37-483d-c33a-1cfdb98a598a"
      },
      "source": [
        "for i in {1,2,3,4,5}:\n",
        "    print(i+1)   #ก็คือ1+1,2+1,3+1,4+1,5+1\n"
      ],
      "execution_count": 78,
      "outputs": [
        {
          "output_type": "stream",
          "text": [
            "2\n",
            "3\n",
            "4\n",
            "5\n",
            "6\n"
          ],
          "name": "stdout"
        }
      ]
    },
    {
      "cell_type": "code",
      "metadata": {
        "colab": {
          "base_uri": "https://localhost:8080/"
        },
        "id": "9T7gmHG0MsMg",
        "outputId": "065ef3b1-f910-4ec7-ea47-4f4ae3c6da5e"
      },
      "source": [
        "for x in [1,2,3,4,5]:\n",
        "    print(f'ค่าตัวแปร x คือ {x} และ x+2={x+2}')"
      ],
      "execution_count": 79,
      "outputs": [
        {
          "output_type": "stream",
          "text": [
            "ค่าตัวแปร x คือ 1 และ x+2=3\n",
            "ค่าตัวแปร x คือ 2 และ x+2=4\n",
            "ค่าตัวแปร x คือ 3 และ x+2=5\n",
            "ค่าตัวแปร x คือ 4 และ x+2=6\n",
            "ค่าตัวแปร x คือ 5 และ x+2=7\n"
          ],
          "name": "stdout"
        }
      ]
    },
    {
      "cell_type": "code",
      "metadata": {
        "colab": {
          "base_uri": "https://localhost:8080/"
        },
        "id": "hA6vqlzMNADx",
        "outputId": "cab07430-2ade-4a84-ebf0-b93ce38c1531"
      },
      "source": [
        "list5={1,2,3,4,5}\n",
        "for x in list5:\n",
        "    print(f'ค่าตัวแปร x คือ {x} และ x+2={x+2}')"
      ],
      "execution_count": 80,
      "outputs": [
        {
          "output_type": "stream",
          "text": [
            "ค่าตัวแปร x คือ 1 และ x+2=3\n",
            "ค่าตัวแปร x คือ 2 และ x+2=4\n",
            "ค่าตัวแปร x คือ 3 และ x+2=5\n",
            "ค่าตัวแปร x คือ 4 และ x+2=6\n",
            "ค่าตัวแปร x คือ 5 และ x+2=7\n"
          ],
          "name": "stdout"
        }
      ]
    },
    {
      "cell_type": "code",
      "metadata": {
        "colab": {
          "base_uri": "https://localhost:8080/"
        },
        "id": "uDinrBcxNVh3",
        "outputId": "120bcfa1-4174-4583-9a99-3221e8b4bf1e"
      },
      "source": [
        "list(range(10))"
      ],
      "execution_count": 81,
      "outputs": [
        {
          "output_type": "execute_result",
          "data": {
            "text/plain": [
              "[0, 1, 2, 3, 4, 5, 6, 7, 8, 9]"
            ]
          },
          "metadata": {
            "tags": []
          },
          "execution_count": 81
        }
      ]
    },
    {
      "cell_type": "code",
      "metadata": {
        "colab": {
          "base_uri": "https://localhost:8080/"
        },
        "id": "8Zt1SFnwNZZo",
        "outputId": "a00d5867-97e0-4477-83ad-7280a3096cb7"
      },
      "source": [
        "for i in range(2,7):  #จุดเริ่ม จุดจบ step\n",
        "  print(i)"
      ],
      "execution_count": 82,
      "outputs": [
        {
          "output_type": "stream",
          "text": [
            "2\n",
            "3\n",
            "4\n",
            "5\n",
            "6\n"
          ],
          "name": "stdout"
        }
      ]
    },
    {
      "cell_type": "code",
      "metadata": {
        "colab": {
          "base_uri": "https://localhost:8080/"
        },
        "id": "Gno8RvfwN6mF",
        "outputId": "2c4cc895-e93b-49ff-f997-ae9adcc9da19"
      },
      "source": [
        "for i in range(2,7,2): \n",
        "  print(i)"
      ],
      "execution_count": 83,
      "outputs": [
        {
          "output_type": "stream",
          "text": [
            "2\n",
            "4\n",
            "6\n"
          ],
          "name": "stdout"
        }
      ]
    },
    {
      "cell_type": "code",
      "metadata": {
        "colab": {
          "base_uri": "https://localhost:8080/"
        },
        "id": "8EnZEzQSOZsV",
        "outputId": "3e8a7cbd-f76a-484a-b703-94ee77c4b1c6"
      },
      "source": [
        "for i in range(5): \n",
        "  print('hahaha')\n",
        "  x = i+3\n",
        "  print(f'i={i} x={x}')"
      ],
      "execution_count": 86,
      "outputs": [
        {
          "output_type": "stream",
          "text": [
            "hahaha\n",
            "i=0 x=3\n",
            "hahaha\n",
            "i=1 x=4\n",
            "hahaha\n",
            "i=2 x=5\n",
            "hahaha\n",
            "i=3 x=6\n",
            "hahaha\n",
            "i=4 x=7\n"
          ],
          "name": "stdout"
        }
      ]
    },
    {
      "cell_type": "markdown",
      "metadata": {
        "id": "I1AZadn4PFqh"
      },
      "source": [
        "##Nested loop\n",
        "ก็คือ loop ซ้อน loop ไปเรื่อยๆ "
      ]
    },
    {
      "cell_type": "code",
      "metadata": {
        "colab": {
          "base_uri": "https://localhost:8080/"
        },
        "id": "i9yihHhXPMog",
        "outputId": "1ef325a1-13ab-4ca8-8153-089aee8bad5b"
      },
      "source": [
        "for i in range(3):\n",
        "  print(f'now i = {i}')\n",
        "  print ('start j loop')\n",
        "  for j in range(4):\n",
        "    print(f' i = {i} j = {j} i+j = {i+j}')\n",
        "  print ('end j loop')"
      ],
      "execution_count": 89,
      "outputs": [
        {
          "output_type": "stream",
          "text": [
            "now i = 0\n",
            "start j loop\n",
            " i = 0 j = 0 i+j = 0\n",
            " i = 0 j = 1 i+j = 1\n",
            " i = 0 j = 2 i+j = 2\n",
            " i = 0 j = 3 i+j = 3\n",
            "end j loop\n",
            "now i = 1\n",
            "start j loop\n",
            " i = 1 j = 0 i+j = 1\n",
            " i = 1 j = 1 i+j = 2\n",
            " i = 1 j = 2 i+j = 3\n",
            " i = 1 j = 3 i+j = 4\n",
            "end j loop\n",
            "now i = 2\n",
            "start j loop\n",
            " i = 2 j = 0 i+j = 2\n",
            " i = 2 j = 1 i+j = 3\n",
            " i = 2 j = 2 i+j = 4\n",
            " i = 2 j = 3 i+j = 5\n",
            "end j loop\n"
          ],
          "name": "stdout"
        }
      ]
    },
    {
      "cell_type": "markdown",
      "metadata": {
        "id": "wEWT-yxTI-dZ"
      },
      "source": [
        "##Condition\n"
      ]
    },
    {
      "cell_type": "markdown",
      "metadata": {
        "id": "eGTq8uuHJP_Y"
      },
      "source": [
        "Function"
      ]
    },
    {
      "cell_type": "code",
      "metadata": {
        "id": "EqeEEK38GvOB"
      },
      "source": [
        ""
      ],
      "execution_count": null,
      "outputs": []
    }
  ]
}